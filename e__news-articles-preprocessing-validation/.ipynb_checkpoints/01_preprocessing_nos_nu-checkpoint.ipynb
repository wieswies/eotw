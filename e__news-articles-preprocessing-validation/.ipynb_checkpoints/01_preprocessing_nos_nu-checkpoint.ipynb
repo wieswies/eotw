{
 "cells": [
  {
   "cell_type": "code",
   "execution_count": 2,
   "id": "48279528-34e0-4508-b30d-84af0c65fe5e",
   "metadata": {},
   "outputs": [],
   "source": [
    "from methods_preprocessing import *"
   ]
  },
  {
   "cell_type": "markdown",
   "id": "e4c967d3-1af0-4817-8803-f59f06fbdc6f",
   "metadata": {},
   "source": [
    "Fetch dataframes with NOS article data, NU article data, and corrected image classification data"
   ]
  },
  {
   "cell_type": "code",
   "execution_count": 3,
   "id": "790a6672-69e8-4cac-8b73-bbfeed759ca4",
   "metadata": {},
   "outputs": [],
   "source": [
    "nos_articles = pd.read_parquet('datasets/input/nos_articles_election_period_no_sports.parquet')\n",
    "nu_articles = pd.read_parquet('datasets/input/nu_articles_election_period.parquet')\n",
    "id_pol_clf = pd.read_parquet('datasets/input/nos_nu_id_politician_grouped-by-article-id.parquet')"
   ]
  },
  {
   "cell_type": "code",
   "execution_count": 4,
   "id": "3f79968c-95d9-404e-b093-20071db6c053",
   "metadata": {},
   "outputs": [
    {
     "name": "stdout",
     "output_type": "stream",
     "text": [
      "NOS data is of shape (4707, 12) and contains the columns: \n",
      "['id', 'title', 'datetime', 'owner', 'type', 'url', 'date', 'time', 'category', 'images', 'alt_txt', 'paragraphs']\n",
      "\n",
      "\n",
      "NU data is of shape (5350, 14) and contains the columns: \n",
      "['id', 'title', 'datetime', 'url', 'date', 'category', 'tags', 'main_category', 'img_link', 'paragraphs', 'body_paragraphs', 'first_paragraph', 'comments_count', 'media_dict']\n",
      "\n",
      "\n",
      "Classification data is of shape (273, 3) and contains the columns: ['id', 'dataset', 'true_label']\n",
      "\n"
     ]
    }
   ],
   "source": [
    "print(f'NOS data is of shape {nos_articles.shape} and contains the columns: \\n{nos_articles.columns.tolist()}\\n\\n')\n",
    "print(f'NU data is of shape {nu_articles.shape} and contains the columns: \\n{nu_articles.columns.tolist()}\\n\\n')\n",
    "print(f'Classification data is of shape {id_pol_clf.shape} and contains the columns: {id_pol_clf.columns.tolist()}\\n')"
   ]
  },
  {
   "cell_type": "code",
   "execution_count": 5,
   "id": "8524c356-4af1-46ac-b077-7bf9d90c1a8b",
   "metadata": {},
   "outputs": [
    {
     "name": "stdout",
     "output_type": "stream",
     "text": [
      "NOS dataframe datatypes: \n",
      "id                          int64\n",
      "title                      object\n",
      "datetime      datetime64[ns, UTC]\n",
      "owner                      object\n",
      "type                       object\n",
      "url                        object\n",
      "date                       object\n",
      "time                       object\n",
      "category                   object\n",
      "images                     object\n",
      "alt_txt                    object\n",
      "paragraphs                 object\n",
      "dtype: object\n",
      "\n",
      "NU dataframe datatypes: \n",
      "id                               int64\n",
      "title                           object\n",
      "datetime           datetime64[ns, UTC]\n",
      "url                             object\n",
      "date                            object\n",
      "category                        object\n",
      "tags                            object\n",
      "main_category                   object\n",
      "img_link                        object\n",
      "paragraphs                      object\n",
      "body_paragraphs                 object\n",
      "first_paragraph                 object\n",
      "comments_count                   int64\n",
      "media_dict                      object\n",
      "dtype: object\n",
      "\n",
      "CLF dataframe datatypes: \n",
      "id            object\n",
      "dataset       object\n",
      "true_label    object\n",
      "dtype: object\n",
      "\n"
     ]
    }
   ],
   "source": [
    "print(f'NOS dataframe datatypes: \\n{nos_articles.dtypes}\\n')\n",
    "print(f'NU dataframe datatypes: \\n{nu_articles.dtypes}\\n')\n",
    "print(f'CLF dataframe datatypes: \\n{id_pol_clf.dtypes}\\n')"
   ]
  },
  {
   "cell_type": "markdown",
   "id": "1493014f-bcc8-4a70-abe2-cb67ddc37b86",
   "metadata": {},
   "source": [
    "### Prepare and merge df's for preprocessing"
   ]
  },
  {
   "cell_type": "code",
   "execution_count": 6,
   "id": "510d3986-c8fe-4da5-8de2-d466fe0ddfc7",
   "metadata": {},
   "outputs": [],
   "source": [
    "# NOS\n",
    "nos_articles['dataset'] = 'NOS'\n",
    "nos_articles['tags'] = [[] for _ in range(len(nos_articles))]\n",
    "nos_articles['comments_count'] = 0\n",
    "nos_articles = nos_articles.rename(columns={'images': 'img_link'})\n",
    "\n",
    "# NU\n",
    "nu_articles['dataset'] = 'NU'\n",
    "nu_articles['alt_txt'] = ''\n",
    "nu_articles['img_link'] = nu_articles['img_link'].apply(lambda x: [x])\n",
    "\n",
    "# CLF\n",
    "id_pol_clf['id'] = id_pol_clf['id'].astype(int)\n",
    "id_pol_clf = id_pol_clf.rename(columns={'true_label': 'politician_in_img'})"
   ]
  },
  {
   "cell_type": "code",
   "execution_count": 7,
   "id": "86a7ed33-0271-4d90-a0a9-253eae17b13a",
   "metadata": {},
   "outputs": [],
   "source": [
    "nos_df = nos_articles[['dataset', 'id', 'url', 'img_link', 'alt_txt', 'datetime', 'date', 'category', 'tags', 'comments_count', 'title', 'paragraphs']]\n",
    "nu_df = nu_articles[['dataset', 'id', 'url', 'img_link', 'alt_txt', 'datetime', 'date', 'category', 'tags', 'comments_count', 'title', 'paragraphs']]"
   ]
  },
  {
   "cell_type": "code",
   "execution_count": 8,
   "id": "19cd34d9-3e13-4446-90c4-fa9353893811",
   "metadata": {},
   "outputs": [],
   "source": [
    "nos_nu_df = pd.concat([nos_df, nu_df], ignore_index=True)\n",
    "nos_nu_clf = pd.merge(nos_nu_df, id_pol_clf, on=['id', 'dataset'], how='left')"
   ]
  },
  {
   "cell_type": "code",
   "execution_count": 9,
   "id": "86d9a9f1-974e-4cd1-8b2f-0ef5a4d2bbeb",
   "metadata": {},
   "outputs": [],
   "source": [
    "nos_nu_clf = nos_nu_clf.sort_values(by=['dataset', 'id'], ascending=[True, True])"
   ]
  },
  {
   "cell_type": "markdown",
   "id": "90248b62-26db-4067-9726-b68663397f45",
   "metadata": {},
   "source": [
    "## Pre-processing"
   ]
  },
  {
   "cell_type": "code",
   "execution_count": 10,
   "id": "f3c23579-4b74-47c0-8ff7-c9b45864d233",
   "metadata": {},
   "outputs": [],
   "source": [
    "nos_nu_clf['idx'] = range(0, len(nos_nu_clf))\n",
    "nos_nu_clf = nos_nu_clf.set_index(['idx'])"
   ]
  },
  {
   "cell_type": "code",
   "execution_count": 11,
   "id": "0968ef29-4586-4110-ae24-5efc4da61a5b",
   "metadata": {},
   "outputs": [],
   "source": [
    "from wordlists_preprocessing import political_words\n",
    "from methods_preprocessing import list_occurrences_triple_column\n",
    "\n",
    "columns_of_interest = ['title', 'paragraphs', 'alt_txt']\n",
    "processed_articles = list_occurrences_triple_column(nos_nu_clf, columns_of_interest, political_words)"
   ]
  },
  {
   "cell_type": "markdown",
   "id": "6c1b9c23-2c94-4bac-bfe7-9ea669170958",
   "metadata": {},
   "source": [
    "### Customized dataset correction for Dutch media dataset-specific analysis purposes\n",
    "1. Remove mistaken political terms </br>\n",
    "        - Remove 'dijk' (lowercase) if occurring in ['SP_title, SP_text'] / Politician: Jimmy Dijk </br>\n",
    "        - Remove 'denk' (lowercase) if occurring in ['Denk_title', 'Denk_text'] / Political party: Denk </br>\n",
    "        - Remove 'volt' (lowercase) if occurrent in ['Volt_title, 'Volt_text'] / Political party: Volt </br>\n",
    "        - Remove 'forum' \n",
    "2. Create consistency in GL-PvdA references\n",
    "3. Remove 'first_name last_name' politician multistrings, leave only 'last_name' "
   ]
  },
  {
   "cell_type": "code",
   "execution_count": 12,
   "id": "0081ed05-d205-4d76-af90-db10477640d2",
   "metadata": {},
   "outputs": [],
   "source": [
    "df = processed_articles.copy()"
   ]
  },
  {
   "cell_type": "code",
   "execution_count": 13,
   "id": "6183d8f1-45e8-4c15-98d4-35e76686cf56",
   "metadata": {},
   "outputs": [],
   "source": [
    "# 1 Remove mistaken political terms (case-sensitive)\n",
    "from methods_preprocessing import remove_words\n",
    "\n",
    "political_words_to_remove = {'denk', 'volt', 'dijk', 'forum'}\n",
    "for col in ['DENK_title', 'DENK_paragraphs', 'DENK_alt_txt', 'Volt_title', 'Volt_paragraphs', 'Volt_alt_txt', 'SP_title', 'SP_paragraphs', 'SP_alt_txt', 'FVD_title', 'FVD_paragraphs', 'FVD_alt_txt']:\n",
    "    df[col] = df[col].apply(lambda x: remove_words(x, political_words_to_remove))"
   ]
  },
  {
   "cell_type": "code",
   "execution_count": 14,
   "id": "1bb72ca2-6ba9-413b-9b19-c0488cc56c4e",
   "metadata": {},
   "outputs": [],
   "source": [
    "# 2 Create consistency in GL-PvdA references\n",
    "from methods_preprocessing import conditional_remove_and_map_words\n",
    "from wordlists_preprocessing import glpvda_search_list, glpvda_mapping\n",
    "\n",
    "for col in ['GL-PvdA_title', 'GL-PvdA_paragraphs', 'GL-PvdA_alt_txt']:\n",
    "    df[col] = df[col].apply(lambda x: conditional_remove_and_map_words(x, glpvda_search_list, glpvda_mapping))"
   ]
  },
  {
   "cell_type": "code",
   "execution_count": 15,
   "id": "967f16f9-8e3a-47aa-9fc7-dc51f20493e7",
   "metadata": {},
   "outputs": [],
   "source": [
    "# 3 Remove 'first_name lastname' multistrings, leave only last names\n",
    "from methods_preprocessing import remove_words_from_colnames\n",
    "from wordlists_preprocessing import political_party_colnames, politician_full_names_to_remove\n",
    "\n",
    "full_df, full_names_only_df = remove_words_from_colnames(df, political_party_colnames, politician_full_names_to_remove)"
   ]
  },
  {
   "cell_type": "markdown",
   "id": "d56271b9-85b0-47f5-acf7-e768c12626a5",
   "metadata": {},
   "source": [
    "### Export pre-processed dataframe to Excel for last check"
   ]
  },
  {
   "cell_type": "code",
   "execution_count": 23,
   "id": "b8ac3518-f33f-4f30-b2e8-798839ae419c",
   "metadata": {},
   "outputs": [],
   "source": [
    "# Convert all datetime columns to facilitate manual inspection\n",
    "for col in full_df.select_dtypes(include=['datetime64[ns, UTC]']).columns:\n",
    "    full_df[col] = full_df[col].dt.tz_localize(None)\n",
    "\n",
    "# Now write the DataFrame to Excel - not yet corrected!\n",
    "#full_df.to_excel('datasets/nos_nu_clf_preprocessed.xlsx')"
   ]
  },
  {
   "cell_type": "markdown",
   "id": "afb1551d-0afb-4dc5-afc5-4645d1865551",
   "metadata": {},
   "source": [
    "### News images that need addiitonal check:\n",
    "1. News images that were assigned politician(s) classification(s) must be checked on whether the classifications are inclusive and exhausutive, i.e. all (!) politicians in the image are in the classification list\n",
    "2. For all news images where *no* politicicans were detected and matched in the image, but the political party and/or party leader appears in the title or alt_txt, an additional check is needed. There exists a plausible chance that a politician was missed by the face detectors, but still appears in the news image"
   ]
  },
  {
   "cell_type": "code",
   "execution_count": 24,
   "id": "0aa42765-30dd-42ad-9263-79dee92d845e",
   "metadata": {},
   "outputs": [],
   "source": [
    "full_df['img_link'] = full_df['img_link'].astype(str).str.strip(\"[]\")\n",
    "full_df['img_link'] = full_df['img_link'].str.replace(\"'\", \"\")"
   ]
  },
  {
   "cell_type": "code",
   "execution_count": 25,
   "id": "d9df3ef0-13e3-48bc-b823-3c4cb3e33920",
   "metadata": {},
   "outputs": [
    {
     "data": {
      "text/plain": [
       "\"\\nclf_download_folder = 'datasets/images/clf_images_to_check'\\ndownload_img_from_url(clf_download_folder, clf_pol_only, 'id', 'politician_in_img', 'img_link')\""
      ]
     },
     "execution_count": 25,
     "metadata": {},
     "output_type": "execute_result"
    }
   ],
   "source": [
    "# 1 Subset the articles with politicians in the assigned classifications\n",
    "clf_pol_only = full_df[~full_df['politician_in_img'].isna()].copy()\n",
    "'''\n",
    "clf_download_folder = 'datasets/images/clf_images_to_check'\n",
    "download_img_from_url(clf_download_folder, clf_pol_only, 'id', 'politician_in_img', 'img_link')'''"
   ]
  },
  {
   "cell_type": "code",
   "execution_count": 26,
   "id": "ba6acc8e-451b-4acc-b1ef-6c659e151ef4",
   "metadata": {},
   "outputs": [],
   "source": [
    "# 2 Get articles with no classified politicians in image, but appearing in title or alt_txt"
   ]
  },
  {
   "cell_type": "code",
   "execution_count": 35,
   "id": "51c14e8a-ee32-443d-8f0e-43ca410d1634",
   "metadata": {},
   "outputs": [],
   "source": [
    "columns_with_title_or_alt_txt = [\n",
    "    col for col in df.columns\n",
    "    if ('_title' in col or '_alt_txt' in col) and\n",
    "       not ('Positions' in col or 'Politics' in col or 'Issues' in col or 'Countries' in col)\n",
    "]"
   ]
  },
  {
   "cell_type": "code",
   "execution_count": 36,
   "id": "82e98a26-3fe8-4f74-8fab-79fcae2cad72",
   "metadata": {},
   "outputs": [],
   "source": [
    "from methods_preprocessing import is_non_empty_list\n",
    "no_clf = full_df[full_df['politician_in_img'].isna()]\n",
    "\n",
    "non_empty_lists_condition = no_clf[columns_with_title_or_alt_txt].map(is_non_empty_list)\n",
    "rows_with_non_empty_lists = non_empty_lists_condition.any(axis=1)\n",
    "\n",
    "no_clf = no_clf[rows_with_non_empty_lists]"
   ]
  },
  {
   "cell_type": "code",
   "execution_count": 38,
   "id": "2d245f11-1f59-4792-a124-3899d9b7f99b",
   "metadata": {},
   "outputs": [
    {
     "name": "stdout",
     "output_type": "stream",
     "text": [
      "313 main images that do not (yet) have a politician labelled, but do contain a party leader or party reference in the title or alt-text, need an extra check.\n"
     ]
    }
   ],
   "source": [
    "print(f'{no_clf.shape[0]} main images that do not (yet) have a politician labelled, but do contain a party leader or party reference in the title or alt-text, need an extra check.')"
   ]
  },
  {
   "cell_type": "code",
   "execution_count": 39,
   "id": "89e2ff86-84a1-4c8e-b762-5b531d9329c7",
   "metadata": {},
   "outputs": [
    {
     "data": {
      "text/plain": [
       "\"\\nno_clf_download_folder = 'datasets/images/no_clf_images_to_check'\\ndownload_img_from_url(no_clf_download_folder, no_clf, 'id', 'politician_in_img', 'img_link')\""
      ]
     },
     "execution_count": 39,
     "metadata": {},
     "output_type": "execute_result"
    }
   ],
   "source": [
    "'''\n",
    "no_clf_download_folder = 'datasets/images/no_clf_images_to_check'\n",
    "download_img_from_url(no_clf_download_folder, no_clf, 'id', 'politician_in_img', 'img_link')'''"
   ]
  },
  {
   "cell_type": "markdown",
   "id": "a77be1ec-86a3-4829-aa07-424fc783901d",
   "metadata": {},
   "source": [
    "### Now follows a last check by scrolling through the /images/ folders to see if\n",
    "1. For all images in the *clf_images_to_check* folder, the assigned classifications are inclusive and exhaustiive\n",
    "2. For all images in the *no_clf_to_check* folder, there appear images that contain one or more politicians whose faces were not detected and therefore did not appear in the classification set"
   ]
  }
 ],
 "metadata": {
  "kernelspec": {
   "display_name": "Python 3 (ipykernel)",
   "language": "python",
   "name": "python3"
  },
  "language_info": {
   "codemirror_mode": {
    "name": "ipython",
    "version": 3
   },
   "file_extension": ".py",
   "mimetype": "text/x-python",
   "name": "python",
   "nbconvert_exporter": "python",
   "pygments_lexer": "ipython3",
   "version": "3.12.0"
  }
 },
 "nbformat": 4,
 "nbformat_minor": 5
}
