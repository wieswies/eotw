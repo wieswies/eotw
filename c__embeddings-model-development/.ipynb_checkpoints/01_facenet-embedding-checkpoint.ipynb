{
 "cells": [
  {
   "cell_type": "markdown",
   "id": "d77f0d36-9293-4ceb-b02b-15d952d181e5",
   "metadata": {},
   "source": [
    "#### Necessary imports"
   ]
  },
  {
   "cell_type": "code",
   "execution_count": 1,
   "id": "a31e5a7f-9afd-44ed-87d5-e249321642d8",
   "metadata": {
    "tags": []
   },
   "outputs": [],
   "source": [
    "import os\n",
    "import pandas as pd\n",
    "import numpy as np\n",
    "import cv2\n",
    "import tensorflow as tf\n",
    "import matplotlib.pyplot as plt\n",
    "import seaborn as sns\n",
    "from collections import Counter\n",
    "from pathlib import Path\n",
    "from sklearn import neighbors\n",
    "from sklearn.model_selection import train_test_split\n",
    "from sklearn.model_selection import cross_validate\n",
    "from sklearn.metrics import accuracy_score\n",
    "from sklearn.preprocessing import LabelEncoder\n",
    "from sklearn.decomposition import PCA\n",
    "from keras_facenet import FaceNet as FN\n",
    "from tqdm import tqdm\n",
    "import time\n",
    "import contextlib\n",
    "import sys"
   ]
  },
  {
   "cell_type": "markdown",
   "id": "be2a3dfa-1fc5-41ed-bec6-a44656c7e46b",
   "metadata": {},
   "source": [
    "#### Prepare directory"
   ]
  },
  {
   "cell_type": "code",
   "execution_count": 41,
   "id": "09bb088b-fcc4-46d0-a797-36c7a9470f26",
   "metadata": {
    "tags": []
   },
   "outputs": [
    {
     "name": "stdout",
     "output_type": "stream",
     "text": [
      "Current working directory: /Users/wiesruyters/Documents/WhD/Repositories/2402 Etmaal/Notebooks\n"
     ]
    }
   ],
   "source": [
    "current_directory = os.getcwd()\n",
    "print(\"Current working directory:\", current_directory)"
   ]
  },
  {
   "cell_type": "code",
   "execution_count": 42,
   "id": "c9a3687c-cc86-4db2-b9d4-b966c1fd2ef5",
   "metadata": {
    "tags": []
   },
   "outputs": [],
   "source": [
    "data_folder = Path('../Datasets/Training_in_isolation')"
   ]
  },
  {
   "cell_type": "code",
   "execution_count": 77,
   "id": "cafeea3a-d23a-45ea-b0ea-ce74d192fc0f",
   "metadata": {
    "tags": []
   },
   "outputs": [],
   "source": [
    "# Method to remove the .DS_Store files that unnoticably appear in the directory\n",
    "def delete_ds_store_files(directory):\n",
    "    for ds_store_file in directory.rglob(\".DS_Store\"):\n",
    "        try:\n",
    "            if ds_store_file.is_file():\n",
    "                ds_store_file.unlink()  # Delete the file\n",
    "                print(f\"Deleted: {ds_store_file}\")\n",
    "            else:\n",
    "                print(f\"Skipping: {ds_store_file} (not a file)\")\n",
    "        except Exception as e:\n",
    "            print(f\"Error deleting {ds_store_file}: {e}\")"
   ]
  },
  {
   "cell_type": "code",
   "execution_count": 78,
   "id": "a387bf0e-ca81-4cdf-b50e-06daa45ab6c9",
   "metadata": {
    "tags": []
   },
   "outputs": [],
   "source": [
    "class HiddenPrints:\n",
    "    def __enter__(self):\n",
    "        self._original_stdout = sys.stdout\n",
    "        sys.stdout = open(os.devnull, 'w')\n",
    "\n",
    "    def __exit__(self, exc_type, exc_val, exc_tb):\n",
    "        sys.stdout.close()\n",
    "        sys.stdout = self._original_stdout"
   ]
  },
  {
   "cell_type": "code",
   "execution_count": 44,
   "id": "5c69a613-e034-4321-a37e-17a6dfe8326f",
   "metadata": {
    "tags": []
   },
   "outputs": [],
   "source": [
    "# Call the function to delete .DS_Store files\n",
    "delete_ds_store_files(data_folder)"
   ]
  },
  {
   "cell_type": "markdown",
   "id": "4e62b800-5c7f-418d-95f8-abb44dff2f04",
   "metadata": {},
   "source": [
    "#### Set up learning variables and environment\n",
    "Chosen embedder is FaceNet, the model proposed in Google's paper 'FaceNet: A Unified Embedding for Face Recognition and Clustering' (Schroff et al., 2015) <br>\n",
    "FaceNet became a popular and accurate model for face detection, and serves the current study by means of Transfer Learning*<br>\n",
    "For more information about FaceNet: https://arxiv.org/abs/1503.03832\n",
    "<br><br>\n",
    "Transfer Learning concerns the practice in machine learning engineering, e.g. in the context of neural networks, where sophistical pre-trained models are used as a 'base' model for a new, yet similar classification problem. The model is typically finetuned to fit the new data better. "
   ]
  },
  {
   "cell_type": "code",
   "execution_count": 2,
   "id": "072ff8ec-2029-4879-b2d7-a887d35fc953",
   "metadata": {
    "tags": []
   },
   "outputs": [],
   "source": [
    "embedder = FN()"
   ]
  },
  {
   "cell_type": "code",
   "execution_count": 70,
   "id": "c350d829-783a-42c1-a808-5a9c8ea06837",
   "metadata": {
    "tags": []
   },
   "outputs": [],
   "source": [
    "# Method to extract the face embedding of an image\n",
    "def get_face_embedding(face_image):\n",
    "    detections = embedder.extract(face_image, threshold=0.95)\n",
    "    \n",
    "    # Check if a face was found\n",
    "    if len(detections) > 0:\n",
    "        # Return the embedding of the found face\n",
    "        return detections[0]['embedding']\n",
    "    else: return None\n",
    "\n",
    "    time.sleep(0.5)"
   ]
  },
  {
   "cell_type": "markdown",
   "id": "e19b080b-3664-4625-ab79-9d20043ca928",
   "metadata": {},
   "source": [
    "#### Create dataset\n",
    "X: face_embeddings <br>\n",
    "y: labels (politician name/'Unknown') <br>\n",
    "z: filename"
   ]
  },
  {
   "cell_type": "code",
   "execution_count": 64,
   "id": "aaa9a555-35a8-45b6-b022-17beb25a7d90",
   "metadata": {
    "tags": []
   },
   "outputs": [
    {
     "name": "stdout",
     "output_type": "stream",
     "text": [
      "0/18 ../Datasets/Training_in_isolation/Wybren van Haga\n",
      "1/18 ../Datasets/Training_in_isolation/Stephan van Baarle\n",
      "2/18 ../Datasets/Training_in_isolation/Joost Eerdmans\n",
      "3/18 ../Datasets/Training_in_isolation/Rob Jetten\n",
      "4/18 ../Datasets/Training_in_isolation/Laurens Dassen\n",
      "5/18 ../Datasets/Training_in_isolation/Thierry Baudet\n",
      "6/18 ../Datasets/Training_in_isolation/Dilan Yesilgöz\n",
      "7/18 ../Datasets/Training_in_isolation/Mirjam Bikker\n",
      "8/18 ../Datasets/Training_in_isolation/Kees van der Staaij\n",
      "9/18 ../Datasets/Training_in_isolation/Frans Timmermans\n",
      "10/18 ../Datasets/Training_in_isolation/Henri Bontebal\n",
      "11/18 ../Datasets/Training_in_isolation/Caroline van der Plas\n",
      "12/18 ../Datasets/Training_in_isolation/Pieter Omtzigt\n",
      "13/18 ../Datasets/Training_in_isolation/Unknown\n",
      "14/18 ../Datasets/Training_in_isolation/Esther Ouwehand\n",
      "15/18 ../Datasets/Training_in_isolation/Geert Wilders\n",
      "16/18 ../Datasets/Training_in_isolation/Lilian Marijnissen\n",
      "17/18 ../Datasets/Training_in_isolation/Edson Olf\n"
     ]
    }
   ],
   "source": [
    "num_politicians = len(os.listdir(data_folder))\n",
    "for i, politician_subfolder in enumerate(os.listdir(data_folder)):\n",
    "    politician_path = os.path.join(data_folder, politician_subfolder)\n",
    "    print(f'{i}/{num_politicians}', politician_path)"
   ]
  },
  {
   "cell_type": "code",
   "execution_count": 74,
   "id": "6f98613e-e8e8-4f53-b163-0132e0f779fe",
   "metadata": {
    "tags": []
   },
   "outputs": [],
   "source": [
    "iteration = 0\n",
    "empty_embeddings = []"
   ]
  },
  {
   "cell_type": "code",
   "execution_count": 79,
   "id": "99a67e67-3d53-4519-a587-27d559de2a19",
   "metadata": {
    "tags": []
   },
   "outputs": [
    {
     "name": "stderr",
     "output_type": "stream",
     "text": [
      "Embedding, embedding, embedding aan de wand: 100%|█| 18/18 [27:36<00:00, 92.02s/\n"
     ]
    }
   ],
   "source": [
    "# Loop over politician subfolders in the isolated face image data folder\n",
    "for politician_subfolder in tqdm(os.listdir(data_folder), desc='Embedding, embedding, embedding aan de wand', unit='politician_subfolder'):\n",
    "    politician_path = os.path.join(data_folder, politician_subfolder)\n",
    "    \n",
    "    # Loop over the image files in the directory\n",
    "    for iso_img_file in os.listdir(politician_path):\n",
    "        iteration += i\n",
    "        # Check if file is an image\n",
    "        if not iso_img_file.endswith('.jpeg'):\n",
    "                continue\n",
    "        iso_img_path = os.path.join(politician_path, iso_img_file)\n",
    "        \n",
    "        # Read the image files and extract the face_embeddings with cv2\n",
    "        if cv2.imread(iso_img_path) is not None:\n",
    "            with HiddenPrints():\n",
    "                # Call method to extract the face embedding\n",
    "                face_embedding = get_face_embedding(cv2.imread(iso_img_path))\n",
    "\n",
    "                # Leave out None-embedded images\n",
    "                if face_embedding is not None:\n",
    "                    X.append(face_embedding)\n",
    "                    y.append(politician_subfolder)\n",
    "                    z.append(iso_img_file)\n",
    "                else:\n",
    "                    empty_embeddings.append((politician_subfolder, iso_img_file))\n",
    "    time.sleep(10)"
   ]
  },
  {
   "cell_type": "code",
   "execution_count": 100,
   "id": "41b4fa54-6ce4-45ee-aa63-91db0d4f77c0",
   "metadata": {
    "tags": []
   },
   "outputs": [
    {
     "name": "stdout",
     "output_type": "stream",
     "text": [
      "Total number of calculated embeddings: 12206 \n",
      "Total number of empty embeddings: 2259\n"
     ]
    }
   ],
   "source": [
    "print(f'Total number of calculated embeddings: {len(X)} \\nTotal number of empty embeddings: {len(empty_embeddings)}')"
   ]
  },
  {
   "cell_type": "code",
   "execution_count": 101,
   "id": "c307d4d8-634d-4a75-a7fb-39e03a85feaa",
   "metadata": {
    "tags": []
   },
   "outputs": [],
   "source": [
    "npX = np.array(X)\n",
    "npy = np.array(y)\n",
    "npz = np.array(z)"
   ]
  },
  {
   "cell_type": "markdown",
   "id": "543dc521-c0b4-4dbc-882f-37c682db09d6",
   "metadata": {},
   "source": [
    "#### Store to file"
   ]
  },
  {
   "cell_type": "code",
   "execution_count": 102,
   "id": "6be6228f-4da9-4b04-a2c4-cf7eca0faf0e",
   "metadata": {
    "tags": []
   },
   "outputs": [],
   "source": [
    "embedded_data = pd.DataFrame({'X': npX.tolist(), 'y': npy, 'z': npz})\n",
    "embedded_data.to_excel('../Datasets/Embeddings_labels.xlsx')"
   ]
  },
  {
   "cell_type": "code",
   "execution_count": 103,
   "id": "00a97cb7-6a20-4831-b198-60fa1bb1d10e",
   "metadata": {
    "tags": []
   },
   "outputs": [
    {
     "data": {
      "text/plain": [
       "(12206, 3)"
      ]
     },
     "execution_count": 103,
     "metadata": {},
     "output_type": "execute_result"
    }
   ],
   "source": [
    "embedded_data.shape"
   ]
  },
  {
   "cell_type": "code",
   "execution_count": 104,
   "id": "b6ebe94f-270f-48a1-9468-6ea57e8058f6",
   "metadata": {
    "tags": []
   },
   "outputs": [
    {
     "name": "stdout",
     "output_type": "stream",
     "text": [
      "Caroline van der Plas: 640 times\n",
      "Dilan Yesilgöz: 802 times\n",
      "Edson Olf: 51 times\n",
      "Esther Ouwehand: 522 times\n",
      "Frans Timmermans: 614 times\n",
      "Geert Wilders: 704 times\n",
      "Henri Bontebal: 690 times\n",
      "Joost Eerdmans: 556 times\n",
      "Kees van der Staaij: 762 times\n",
      "Laurens Dassen: 494 times\n",
      "Lilian Marijnissen: 797 times\n",
      "Mirjam Bikker: 748 times\n",
      "Pieter Omtzigt: 860 times\n",
      "Rob Jetten: 764 times\n",
      "Stephan van Baarle: 410 times\n",
      "Thierry Baudet: 718 times\n",
      "Unknown: 1596 times\n",
      "Wybren van Haga: 478 times\n"
     ]
    }
   ],
   "source": [
    "unique_values, counts = np.unique(npy, return_counts=True)\n",
    "\n",
    "for value, count in zip(unique_values, counts):\n",
    "    print(f\"{value}: {count} times\")"
   ]
  },
  {
   "cell_type": "code",
   "execution_count": null,
   "id": "6f113c69-2dbc-4031-9493-fa3e84749bd6",
   "metadata": {},
   "outputs": [],
   "source": []
  }
 ],
 "metadata": {
  "kernelspec": {
   "display_name": "Python 3 (ipykernel)",
   "language": "python",
   "name": "python3"
  },
  "language_info": {
   "codemirror_mode": {
    "name": "ipython",
    "version": 3
   },
   "file_extension": ".py",
   "mimetype": "text/x-python",
   "name": "python",
   "nbconvert_exporter": "python",
   "pygments_lexer": "ipython3",
   "version": "3.12.0"
  }
 },
 "nbformat": 4,
 "nbformat_minor": 5
}
