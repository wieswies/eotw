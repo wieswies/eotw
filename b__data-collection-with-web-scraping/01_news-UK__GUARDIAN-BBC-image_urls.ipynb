{
 "cells": [
  {
   "cell_type": "code",
   "execution_count": 1,
   "id": "b5c7d511",
   "metadata": {},
   "outputs": [],
   "source": [
    "from bs4 import BeautifulSoup\n",
    "import requests\n",
    "from PIL import Image\n",
    "from io import BytesIO\n",
    "import pandas as pd\n",
    "import numpy as np\n",
    "import itertools\n",
    "import matplotlib.pyplot as plt\n",
    "import re\n",
    "import sys\n",
    "import time\n",
    "from datetime import date, timedelta\n",
    "from tqdm import tqdm\n",
    "import parquet\n",
    "import pyarrow\n",
    "import ast\n",
    "import json\n",
    "import html\n",
    "import hashlib\n",
    "import urljoin"
   ]
  },
  {
   "cell_type": "markdown",
   "id": "ce3c3a48",
   "metadata": {},
   "source": [
    "Fetch UK input"
   ]
  },
  {
   "cell_type": "code",
   "execution_count": 2,
   "id": "134cb732",
   "metadata": {},
   "outputs": [],
   "source": [
    "uk_articles_df = pd.read_parquet('datasets/news/UK paperboy results/uk_paperboy_results.parquet')"
   ]
  },
  {
   "cell_type": "code",
   "execution_count": 3,
   "id": "36bcdc89",
   "metadata": {},
   "outputs": [
    {
     "name": "stdout",
     "output_type": "stream",
     "text": [
      "Columns in the UK dataframe: Index(['url', 'expanded_url', 'domain', 'status', 'datetime', 'author',\n",
      "       'headline', 'text', 'misc'],\n",
      "      dtype='object')\n"
     ]
    }
   ],
   "source": [
    "print(f'Columns in the UK dataframe: {uk_articles_df.columns}')\n",
    "uk_articles = uk_articles_df.copy()"
   ]
  },
  {
   "cell_type": "code",
   "execution_count": 4,
   "id": "080e8e2a",
   "metadata": {},
   "outputs": [],
   "source": [
    "def generate_short_id(url):\n",
    "    hash_obj = hashlib.sha256(url.encode())\n",
    "    hex_digest = hash_obj.hexdigest()\n",
    "    short_id = hex_digest[:15]\n",
    "    return short_id"
   ]
  },
  {
   "cell_type": "code",
   "execution_count": 5,
   "id": "44700007",
   "metadata": {},
   "outputs": [],
   "source": [
    "uk_articles['outlet'] = uk_articles.apply(lambda row: 'BBC' if 'bbc.com' in row.expanded_url else 'The Guardian', axis=1)\n",
    "uk_articles['id'] = uk_articles['expanded_url'].apply(lambda x: x.replace('-', '/').split('/')[-1] if 'bbc.com' in x else generate_short_id(x))\n",
    "uk_articles['images'] = uk_articles['misc'].str.split(';').str[1].str.strip()\n",
    "uk_articles['category'] = ''\n",
    "uk_articles['text'] = uk_articles['text'].str.replace('\\n', ' ')\n",
    "uk_articles['alt_txt'] = uk_articles['misc'].str.extract(r'alt=\"([^\"]*)\" src')\n",
    "uk_articles = uk_articles[['outlet', 'id', 'expanded_url', 'images', 'datetime', 'category', 'headline', 'text', 'alt_txt']]\n",
    "uk_column_rename = {\n",
    "    'expanded_url': 'url', \n",
    "    'headline': 'title', \n",
    "    'text': 'paragraphs'\n",
    "}\n",
    "uk_articles = uk_articles.rename(columns = uk_column_rename)"
   ]
  },
  {
   "cell_type": "code",
   "execution_count": 6,
   "id": "cddf1d25",
   "metadata": {},
   "outputs": [
    {
     "data": {
      "text/plain": [
       "Index(['outlet', 'id', 'url', 'images', 'datetime', 'category', 'title',\n",
       "       'paragraphs', 'alt_txt'],\n",
       "      dtype='object')"
      ]
     },
     "execution_count": 6,
     "metadata": {},
     "output_type": "execute_result"
    }
   ],
   "source": [
    "uk_articles.columns"
   ]
  },
  {
   "cell_type": "markdown",
   "id": "84e6608f",
   "metadata": {},
   "source": [
    "Image_urls for bbc"
   ]
  },
  {
   "cell_type": "code",
   "execution_count": 16,
   "id": "14d3638d",
   "metadata": {},
   "outputs": [],
   "source": [
    "def scrape_bbc_image(article_url):\n",
    "    \"\"\"\n",
    "    Scraper function that fetches the main image url and the figcaption + alt\n",
    "    \"\"\"\n",
    "    \n",
    "    try:\n",
    "        headers = {'User-Agent': 'Mozilla/5.0 (Windows NT 10.0; Win64; x64) AppleWebKit/537.36 (KHTML, like Gecko) Chrome/91.0.4472.124 Safari/537.36'}\n",
    "        response = requests.get(article_url, headers=headers, timeout=45)\n",
    "        response.raise_for_status()\n",
    "        \n",
    "        soup = BeautifulSoup(response.text, 'html.parser')\n",
    "        \n",
    "        image_block = soup.find('div', {'data-component': 'image-block'})\n",
    "        if not image_block:\n",
    "            return None, None\n",
    "        \n",
    "        img_tag = image_block.find('img', {'srcset': True})\n",
    "        if img_tag:\n",
    "            srcset = img_tag['srcset']\n",
    "            urls = [url.strip() for url in srcset.split(',')]\n",
    "            image_url = next((url.split(' ')[0] for url in urls if '480w' in url), urls[0].split(' ')[0])\n",
    "        else:\n",
    "            image_url = None\n",
    "        \n",
    "        # Fetch alt text\n",
    "        alt_text = img_tag.get('alt', '') if img_tag else ''\n",
    "        \n",
    "        # Fetch caption\n",
    "        caption_block = soup.find('div', {'data-component': 'caption-block'})\n",
    "        if not caption_block:\n",
    "            return None, None\n",
    "        figcaption = caption_block.find('figcaption')\n",
    "        caption = figcaption.get_text(strip=True) if figcaption else ''\n",
    "        \n",
    "        # Combine for highest information richness\n",
    "        combined_text = f\"{alt_text} | {caption}\" if caption else alt_text\n",
    "        time.sleep(1.2)\n",
    "\n",
    "        return image_url, combined_text\n",
    "    \n",
    "    except Exception as e:\n",
    "        print(f\"Error scraping {article_url}: {e}\")\n",
    "        return None, None"
   ]
  },
  {
   "cell_type": "code",
   "execution_count": 9,
   "id": "9ca3aa17",
   "metadata": {},
   "outputs": [
    {
     "name": "stderr",
     "output_type": "stream",
     "text": [
      "  9%|▉         | 4533/51177 [2:07:13<92:33:31,  7.14s/it]"
     ]
    },
    {
     "name": "stdout",
     "output_type": "stream",
     "text": [
      "Error scraping https://www.bbc.com/news/articles/czvjd9rz455o: HTTPSConnectionPool(host='www.bbc.com', port=443): Read timed out. (read timeout=20)\n"
     ]
    },
    {
     "name": "stderr",
     "output_type": "stream",
     "text": [
      " 10%|█         | 5169/51177 [2:25:32<97:43:36,  7.65s/it]"
     ]
    },
    {
     "name": "stdout",
     "output_type": "stream",
     "text": [
      "Error scraping https://www.bbc.com/news/uk-england-derbyshire-68837439: HTTPSConnectionPool(host='www.bbc.com', port=443): Read timed out. (read timeout=20)\n"
     ]
    },
    {
     "name": "stderr",
     "output_type": "stream",
     "text": [
      " 21%|██▏       | 10966/51177 [5:07:48<79:27:02,  7.11s/it]"
     ]
    },
    {
     "name": "stdout",
     "output_type": "stream",
     "text": [
      "Error scraping https://www.bbc.com/news/articles/cq5nd99pxj1o: HTTPSConnectionPool(host='www.bbc.com', port=443): Read timed out. (read timeout=20)\n"
     ]
    },
    {
     "name": "stderr",
     "output_type": "stream",
     "text": [
      " 26%|██▌       | 13084/51177 [6:06:19<73:46:17,  6.97s/it]"
     ]
    },
    {
     "name": "stdout",
     "output_type": "stream",
     "text": [
      "Error scraping https://www.bbc.com/news/articles/c9wz4d881vyo: HTTPSConnectionPool(host='www.bbc.com', port=443): Read timed out. (read timeout=20)\n"
     ]
    },
    {
     "name": "stderr",
     "output_type": "stream",
     "text": [
      " 29%|██▉       | 14799/51177 [6:53:07<72:08:21,  7.14s/it]"
     ]
    },
    {
     "name": "stdout",
     "output_type": "stream",
     "text": [
      "Error scraping https://www.bbc.com/news/articles/cn0v02wxgrwo: HTTPSConnectionPool(host='www.bbc.com', port=443): Read timed out. (read timeout=20)\n"
     ]
    },
    {
     "name": "stderr",
     "output_type": "stream",
     "text": [
      " 35%|███▍      | 17716/51177 [8:13:41<58:03:02,  6.25s/it]"
     ]
    },
    {
     "name": "stdout",
     "output_type": "stream",
     "text": [
      "Error scraping https://www.bbc.com/news/articles/cydd7v4d337o: HTTPSConnectionPool(host='www.bbc.com', port=443): Read timed out. (read timeout=20)\n"
     ]
    },
    {
     "name": "stderr",
     "output_type": "stream",
     "text": [
      " 38%|███▊      | 19665/51177 [9:07:24<64:22:22,  7.35s/it]"
     ]
    },
    {
     "name": "stdout",
     "output_type": "stream",
     "text": [
      "Error scraping https://www.bbc.com/news/articles/c8vv4z6g0ezo: HTTPSConnectionPool(host='www.bbc.com', port=443): Read timed out. (read timeout=20)\n"
     ]
    },
    {
     "name": "stderr",
     "output_type": "stream",
     "text": [
      " 39%|███▊      | 19773/51177 [9:10:40<62:09:28,  7.13s/it]"
     ]
    },
    {
     "name": "stdout",
     "output_type": "stream",
     "text": [
      "Error scraping https://www.bbc.com/news/articles/crggjkx2zx4o: HTTPSConnectionPool(host='www.bbc.com', port=443): Read timed out. (read timeout=20)\n"
     ]
    },
    {
     "name": "stderr",
     "output_type": "stream",
     "text": [
      " 46%|████▋     | 23769/51177 [10:57:46<57:15:41,  7.52s/it]"
     ]
    },
    {
     "name": "stdout",
     "output_type": "stream",
     "text": [
      "Error scraping https://www.bbc.com/news/articles/cv227v1n317o: HTTPSConnectionPool(host='www.bbc.com', port=443): Read timed out. (read timeout=20)\n"
     ]
    },
    {
     "name": "stderr",
     "output_type": "stream",
     "text": [
      " 59%|█████▉    | 30256/51177 [13:51:14<42:05:51,  7.24s/it]"
     ]
    },
    {
     "name": "stdout",
     "output_type": "stream",
     "text": [
      "Error scraping https://www.bbc.com/news/articles/cpv3979gerzo: HTTPSConnectionPool(host='www.bbc.com', port=443): Read timed out. (read timeout=20)\n"
     ]
    },
    {
     "name": "stderr",
     "output_type": "stream",
     "text": [
      " 62%|██████▏   | 31924/51177 [14:35:54<37:28:56,  7.01s/it]"
     ]
    },
    {
     "name": "stdout",
     "output_type": "stream",
     "text": [
      "Error scraping https://www.bbc.com/news/articles/c047kp3nmevo: HTTPSConnectionPool(host='www.bbc.com', port=443): Read timed out. (read timeout=20)\n"
     ]
    },
    {
     "name": "stderr",
     "output_type": "stream",
     "text": [
      " 65%|██████▌   | 33427/51177 [15:16:30<27:22:51,  5.55s/it]"
     ]
    },
    {
     "name": "stdout",
     "output_type": "stream",
     "text": [
      "Error scraping https://www.bbc.com/news/articles/c3g08z8m72ro: HTTPSConnectionPool(host='www.bbc.com', port=443): Read timed out. (read timeout=20)\n"
     ]
    },
    {
     "name": "stderr",
     "output_type": "stream",
     "text": [
      " 70%|███████   | 35958/51177 [16:26:56<30:06:50,  7.12s/it]"
     ]
    },
    {
     "name": "stdout",
     "output_type": "stream",
     "text": [
      "Error scraping https://www.bbc.com/news/articles/cv2gw48q19zo: HTTPSConnectionPool(host='www.bbc.com', port=443): Read timed out. (read timeout=20)\n"
     ]
    },
    {
     "name": "stderr",
     "output_type": "stream",
     "text": [
      " 74%|███████▍  | 38042/51177 [17:25:09<28:31:02,  7.82s/it]"
     ]
    },
    {
     "name": "stdout",
     "output_type": "stream",
     "text": [
      "Error scraping https://www.bbc.com/news/articles/cg6426wr0e6o: HTTPSConnectionPool(host='www.bbc.com', port=443): Read timed out. (read timeout=20)\n"
     ]
    },
    {
     "name": "stderr",
     "output_type": "stream",
     "text": [
      " 80%|███████▉  | 40812/51177 [18:42:58<18:33:41,  6.45s/it]"
     ]
    },
    {
     "name": "stdout",
     "output_type": "stream",
     "text": [
      "Error scraping https://www.bbc.com/news/articles/c1rr1qqqny0o: HTTPSConnectionPool(host='www.bbc.com', port=443): Read timed out. (read timeout=20)\n"
     ]
    },
    {
     "name": "stderr",
     "output_type": "stream",
     "text": [
      " 82%|████████▏ | 41788/51177 [19:10:51<18:43:25,  7.18s/it]"
     ]
    },
    {
     "name": "stdout",
     "output_type": "stream",
     "text": [
      "Error scraping https://www.bbc.com/news/articles/cldyd5413pvo: HTTPSConnectionPool(host='www.bbc.com', port=443): Read timed out. (read timeout=20)\n"
     ]
    },
    {
     "name": "stderr",
     "output_type": "stream",
     "text": [
      "100%|█████████▉| 51165/51177 [23:34:50<01:30,  7.50s/it]   "
     ]
    },
    {
     "name": "stdout",
     "output_type": "stream",
     "text": [
      "Error scraping https://www.bbc.com/news/articles/c3d9ze22dreo: HTTPSConnectionPool(host='www.bbc.com', port=443): Read timed out. (read timeout=20)\n"
     ]
    },
    {
     "name": "stderr",
     "output_type": "stream",
     "text": [
      "100%|██████████| 51177/51177 [23:35:05<00:00,  1.66s/it]\n"
     ]
    }
   ],
   "source": [
    "bbc_mask = uk_articles['outlet'] == 'BBC'\n",
    "bbc_indices = uk_articles[bbc_mask].index\n",
    "\n",
    "for idx in tqdm(bbc_indices, total=len(bbc_indices)):\n",
    "    url = uk_articles.at[idx, 'url']\n",
    "    \n",
    "    if any(skip_path in url for skip_path in ['/news/videos/', '/news/live/']):\n",
    "        continue\n",
    "    \n",
    "    image_url, alt_caption = scrape_bbc_image(url)\n",
    "    \n",
    "    if image_url:\n",
    "        uk_articles.at[idx, 'images'] = image_url\n",
    "    if alt_caption:\n",
    "        uk_articles.at[idx, 'alt_txt'] = alt_caption"
   ]
  },
  {
   "cell_type": "code",
   "execution_count": 17,
   "id": "7f42080f",
   "metadata": {},
   "outputs": [],
   "source": [
    "bbc_missed_images = [\n",
    "    'https://www.bbc.com/news/articles/czvjd9rz455o',\n",
    "    'https://www.bbc.com/news/uk-england-derbyshire-68837439',\n",
    "    'https://www.bbc.com/news/articles/cq5nd99pxj1o',\n",
    "    'https://www.bbc.com/news/articles/c9wz4d881vyo',\n",
    "    'https://www.bbc.com/news/articles/cn0v02wxgrwo',\n",
    "    'https://www.bbc.com/news/articles/cydd7v4d337o',\n",
    "    'https://www.bbc.com/news/articles/c8vv4z6g0ezo',\n",
    "    'https://www.bbc.com/news/articles/crggjkx2zx4o',\n",
    "    'https://www.bbc.com/news/articles/cv227v1n317o',\n",
    "    'https://www.bbc.com/news/articles/cpv3979gerzo',\n",
    "    'https://www.bbc.com/news/articles/c047kp3nmevo',\n",
    "    'https://www.bbc.com/news/articles/c3g08z8m72ro',\n",
    "    'https://www.bbc.com/news/articles/cv2gw48q19zo',\n",
    "    'https://www.bbc.com/news/articles/cg6426wr0e6o',\n",
    "    'https://www.bbc.com/news/articles/c1rr1qqqny0o',\n",
    "    'https://www.bbc.com/news/articles/cldyd5413pvo',\n",
    "    'https://www.bbc.com/news/articles/c3d9ze22dreo'\n",
    "]"
   ]
  },
  {
   "cell_type": "code",
   "execution_count": 18,
   "id": "ea09cb8f",
   "metadata": {},
   "outputs": [
    {
     "name": "stderr",
     "output_type": "stream",
     "text": [
      "100%|██████████| 17/17 [00:28<00:00,  1.66s/it]\n"
     ]
    }
   ],
   "source": [
    "missed_mask = uk_articles['url'].isin(bbc_missed_images)\n",
    "combined_mask = missed_mask & (uk_articles['outlet'] == 'BBC')\n",
    "missed_indices = uk_articles[combined_mask].index\n",
    "\n",
    "for idx in tqdm(missed_indices, total=len(missed_indices)):\n",
    "    url = uk_articles.at[idx, 'url']\n",
    "\n",
    "    image_url, alt_caption = scrape_bbc_image(url)\n",
    "    \n",
    "    if image_url:\n",
    "        uk_articles.at[idx, 'images'] = image_url\n",
    "    if alt_caption:\n",
    "        uk_articles.at[idx, 'alt_txt'] = alt_caption"
   ]
  },
  {
   "cell_type": "code",
   "execution_count": 20,
   "id": "83b3e4f7",
   "metadata": {},
   "outputs": [],
   "source": [
    "uk_articles.to_parquet('datasets/news/uk_articles_preprocessed.parquet')"
   ]
  },
  {
   "cell_type": "code",
   "execution_count": null,
   "id": "d45e2834",
   "metadata": {},
   "outputs": [],
   "source": []
  },
  {
   "cell_type": "code",
   "execution_count": 22,
   "id": "bb09c3e8",
   "metadata": {},
   "outputs": [],
   "source": [
    "uk_articles_parquet = pd.read_parquet('datasets/news/uk_articles_preprocessed.parquet')\n",
    "uk_paperboy_parquet = pd.read_parquet('datasets/news/UK paperboy results/uk_paperboy_results.parquet')"
   ]
  },
  {
   "cell_type": "code",
   "execution_count": 24,
   "id": "63460098",
   "metadata": {},
   "outputs": [
    {
     "name": "stdout",
     "output_type": "stream",
     "text": [
      "(82777, 9) Index(['outlet', 'id', 'url', 'images', 'datetime', 'category', 'title',\n",
      "       'paragraphs', 'alt_txt'],\n",
      "      dtype='object')\n",
      "(82789, 9) Index(['url', 'expanded_url', 'domain', 'status', 'datetime', 'author',\n",
      "       'headline', 'text', 'misc'],\n",
      "      dtype='object')\n"
     ]
    }
   ],
   "source": [
    "print(uk_articles_parquet.shape, uk_articles_parquet.columns)\n",
    "print(uk_paperboy_parquet.shape, uk_paperboy_parquet.columns)"
   ]
  },
  {
   "cell_type": "code",
   "execution_count": 26,
   "id": "46612215",
   "metadata": {},
   "outputs": [],
   "source": [
    "datetime_mapping = uk_paperboy_parquet.set_index('expanded_url')['datetime'].to_dict()\n",
    "mask = uk_articles_parquet['url'].isin(datetime_mapping.keys())\n",
    "uk_articles_parquet.loc[mask, 'datetime'] = uk_articles_parquet.loc[mask, 'url'].map(datetime_mapping)\n"
   ]
  },
  {
   "cell_type": "code",
   "execution_count": 27,
   "id": "1502ea16",
   "metadata": {},
   "outputs": [
    {
     "name": "stdout",
     "output_type": "stream",
     "text": [
      "Updated datetime for 82777 rows out of 82777\n"
     ]
    }
   ],
   "source": [
    "num_updated = mask.sum()\n",
    "print(f\"Updated datetime for {num_updated} rows out of {len(uk_articles_parquet)}\")"
   ]
  },
  {
   "cell_type": "code",
   "execution_count": null,
   "id": "3cba55f3",
   "metadata": {},
   "outputs": [],
   "source": []
  }
 ],
 "metadata": {
  "kernelspec": {
   "display_name": "embedding_on_the_wall",
   "language": "python",
   "name": "python3"
  },
  "language_info": {
   "codemirror_mode": {
    "name": "ipython",
    "version": 3
   },
   "file_extension": ".py",
   "mimetype": "text/x-python",
   "name": "python",
   "nbconvert_exporter": "python",
   "pygments_lexer": "ipython3",
   "version": "3.10.14"
  }
 },
 "nbformat": 4,
 "nbformat_minor": 5
}
