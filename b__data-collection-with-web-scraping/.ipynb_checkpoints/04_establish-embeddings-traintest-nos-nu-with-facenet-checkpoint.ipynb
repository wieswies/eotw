{
 "cells": [
  {
   "cell_type": "code",
   "execution_count": 3,
   "id": "5bf8ae62-19bc-404d-bd13-7c4278f721a5",
   "metadata": {},
   "outputs": [],
   "source": [
    "from methods_data_collection import *"
   ]
  },
  {
   "cell_type": "code",
   "execution_count": 4,
   "id": "befc6a9b-237e-47ac-9ada-ac3649bfb653",
   "metadata": {},
   "outputs": [],
   "source": [
    "embedder = FN()"
   ]
  },
  {
   "cell_type": "markdown",
   "id": "93467572-378b-4a92-a765-7dac9a3d81e7",
   "metadata": {},
   "source": [
    "This notebook contains the generation of face embeddings for:\n",
    "1. News images </br>\n",
    "   a. NOS.nl </br>\n",
    "   b. NU.nl </br>\n",
    "2. Politician's images after manual correction of the folders in which the politician's faces were stored, such that a fodler that carries a politician's label has pictures of only that politician and that politician eexclusively"
   ]
  },
  {
   "cell_type": "code",
   "execution_count": null,
   "id": "eec7999a-0778-4750-8f50-cb3c11469e86",
   "metadata": {},
   "outputs": [],
   "source": [
    "# Initialize the FaceNet model\n",
    "\n",
    "# Define the path to the folder containing cropped face images\n",
    "folder_path = 'datasets/images/isolated_news_faces_nos_test'\n",
    "\n",
    "# Function to preprocess image\n",
    "def preprocess_image(image_path):\n",
    "    img = Image.open(image_path).convert('RGB')\n",
    "    img = img.resize((160, 160))\n",
    "    img_array = np.asarray(img)\n",
    "    # Normalize pixel values to range [0, 1]\n",
    "    img_array = img_array / 255.0\n",
    "    return img_array\n",
    "\n",
    "# Get list of image files\n",
    "image_files = [f for f in os.listdir(folder_path) if f.endswith('.jpg') or f.endswith('.png')]\n",
    "\n",
    "# Store embeddings in a list\n",
    "embeddings = []\n",
    "\n",
    "for image_file in image_files:\n",
    "    image_path = os.path.join(folder_path, image_file)\n",
    "    img = preprocess_image(image_path)\n",
    "    # Expand dimensions to match the input shape for the model (1, 160, 160, 3)\n",
    "    img = np.expand_dims(img, axis=0)\n",
    "    # Calculate the embedding\n",
    "    embedding = embedder.embeddings(img)\n",
    "    embeddings.append(embedding)\n",
    "\n",
    "# Convert list of embeddings to numpy array\n",
    "embeddings = np.array(embeddings)\n",
    "\n",
    "# Optionally, save embeddings to a file\n",
    "np.save('face_embeddings.npy', embeddings)\n",
    "\n",
    "print(f'Calculated embeddings for {len(embeddings)} images.')"
   ]
  },
  {
   "cell_type": "code",
   "execution_count": null,
   "id": "1f60631f-ea15-456a-9057-4eab21f904c2",
   "metadata": {},
   "outputs": [],
   "source": [
    "\n",
    "\n",
    "\n",
    "\n",
    "\n",
    "\n",
    "\n",
    "\n",
    "\n"
   ]
  },
  {
   "cell_type": "code",
   "execution_count": 3,
   "id": "a05e8962-f2cd-4f1d-b741-79fb348e14db",
   "metadata": {},
   "outputs": [],
   "source": [
    "X, y, z = [], [], []\n",
    "empty_embeddings = []"
   ]
  },
  {
   "cell_type": "code",
   "execution_count": 4,
   "id": "9879d018-f3d4-46a1-81a0-5cbdc8901594",
   "metadata": {},
   "outputs": [],
   "source": [
    "data_folder = 'datasets/images/isolated_news_faces_nos_test'\n",
    "dataset = 'NOS_test'"
   ]
  },
  {
   "cell_type": "code",
   "execution_count": 4,
   "id": "e638b505-03a7-4249-b81e-9c75f054397a",
   "metadata": {},
   "outputs": [],
   "source": [
    "# Method to extract the face embedding of an image\n",
    "def get_face_embedding(face_image):\n",
    "    detections = embedder.extract(face_image, threshold=0.95)\n",
    "    \n",
    "    # Check if a face was found\n",
    "    if len(detections) > 0:\n",
    "        # Return the embedding of the found face\n",
    "        return detections[0]['embedding']\n",
    "    else: return None\n",
    "\n",
    "    time.sleep(0.5)"
   ]
  },
  {
   "cell_type": "code",
   "execution_count": null,
   "id": "75e1f90b-d038-4008-9471-d6e6d3668ebc",
   "metadata": {},
   "outputs": [],
   "source": [
    "for iso_news_photo in tqdm(os.listdir(data_folder), desc='Embedding, embedding, embedding on the wall...'):\n",
    "    \n",
    "    if not iso_news_photo.endswith('.jpg'):\n",
    "        continue\n",
    "    \n",
    "    iso_news_photo_path = os.path.join(data_folder, iso_news_photo)\n",
    "\n",
    "    if cv2.imread(iso_news_photo_path) is not None:\n",
    "        face_embedding = get_face_embedding(cv2.imread(iso_news_photo_path))\n",
    "\n",
    "        # Leave out None-embedded images\n",
    "        if face_embedding is not None:\n",
    "            X.append(face_embedding)\n",
    "            y.append('news_faces_NOS_test')\n",
    "            z.append(iso_news_photo)\n",
    "        else:\n",
    "            empty_embeddings.append(iso_news_photo)"
   ]
  },
  {
   "cell_type": "code",
   "execution_count": null,
   "id": "0aec2591-cad9-4dda-9e3b-52b69a321e8e",
   "metadata": {},
   "outputs": [],
   "source": []
  },
  {
   "cell_type": "code",
   "execution_count": 5,
   "id": "dfb2b60f-d267-4744-97e2-796575e3a801",
   "metadata": {},
   "outputs": [],
   "source": [
    "import os\n",
    "import cv2\n",
    "from tqdm import tqdm\n",
    "\n",
    "def process_images(data_folder, dataset, embedder):\n",
    "    X = []\n",
    "    y = []\n",
    "    z = []\n",
    "    empty_embeddings = []\n",
    "    images_to_process = []\n",
    "    image_paths = []\n",
    "    \n",
    "    # First pass: collect all images\n",
    "    for iso_news_photo in tqdm(os.listdir(data_folder), desc='Preparing images'):\n",
    "        if not iso_news_photo.endswith('.jpg'):\n",
    "            continue\n",
    "        \n",
    "        iso_news_photo_path = os.path.join(data_folder, iso_news_photo)\n",
    "        image = cv2.imread(iso_news_photo_path)\n",
    "        \n",
    "        if image is not None:\n",
    "            try:\n",
    "                # Convert image to RGB if needed\n",
    "                image_rgb = cv2.cvtColor(image, cv2.COLOR_BGR2RGB)\n",
    "                images_to_process.append(image_rgb)\n",
    "                image_paths.append(iso_news_photo_path)\n",
    "            except Exception as e:\n",
    "                print(f\"Error processing image {iso_news_photo_path}: {e}\")\n",
    "                empty_embeddings.append(iso_news_photo_path)\n",
    "        else:\n",
    "            print(f\"Warning: Unable to read image {iso_news_photo_path}\")\n",
    "    \n",
    "    # Second pass: extract embeddings in batch\n",
    "    try:\n",
    "        print(\"Extracting embeddings...\")\n",
    "        embeddings = embedder.embeddings(images_to_process)  # Assuming this is the correct method\n",
    "        print(\"Embeddings extracted.\")\n",
    "        \n",
    "        # Iterate through the results and store them\n",
    "        for embedding, path in zip(embeddings, image_paths):\n",
    "            X.append(embedding)\n",
    "            y.append(dataset)\n",
    "            z.append(os.path.basename(path))\n",
    "    \n",
    "    except Exception as e:\n",
    "        print(f\"Error extracting embeddings: {e}\")\n",
    "    \n",
    "    return X, y, z, empty_embeddings\n"
   ]
  },
  {
   "cell_type": "code",
   "execution_count": null,
   "id": "8e303d0b-e1d7-46c8-b22d-39377ff6ac31",
   "metadata": {},
   "outputs": [
    {
     "name": "stderr",
     "output_type": "stream",
     "text": [
      "Preparing images: 100%|███████████████████| 1575/1575 [00:00<00:00, 5696.00it/s]\n"
     ]
    },
    {
     "name": "stdout",
     "output_type": "stream",
     "text": [
      "Extracting embeddings...\n"
     ]
    }
   ],
   "source": [
    "X, y, z, empty_embeddings = process_images(data_folder, dataset, embedder)"
   ]
  },
  {
   "cell_type": "code",
   "execution_count": null,
   "id": "2ff80fc5-b991-4256-82be-6eaf61744876",
   "metadata": {},
   "outputs": [],
   "source": []
  }
 ],
 "metadata": {
  "kernelspec": {
   "display_name": "Python 3 (ipykernel)",
   "language": "python",
   "name": "python3"
  },
  "language_info": {
   "codemirror_mode": {
    "name": "ipython",
    "version": 3
   },
   "file_extension": ".py",
   "mimetype": "text/x-python",
   "name": "python",
   "nbconvert_exporter": "python",
   "pygments_lexer": "ipython3",
   "version": "3.12.0"
  }
 },
 "nbformat": 4,
 "nbformat_minor": 5
}
