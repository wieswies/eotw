{
 "cells": [
  {
   "cell_type": "code",
   "execution_count": 94,
   "id": "8d77584a",
   "metadata": {
    "tags": []
   },
   "outputs": [],
   "source": [
    "from bs4 import BeautifulSoup\n",
    "import requests\n",
    "import lxml\n",
    "from lxml import etree\n",
    "from PIL import Image\n",
    "from io import BytesIO\n",
    "import pandas as pd\n",
    "import numpy as np\n",
    "import itertools\n",
    "import matplotlib.pyplot as plt\n",
    "import re\n",
    "import sys\n",
    "import time\n",
    "from datetime import date, timedelta\n",
    "from tqdm import tqdm\n",
    "import parquet\n",
    "import pyarrow"
   ]
  },
  {
   "cell_type": "markdown",
   "id": "c1480e0e-017b-44b2-9b39-8dd6d9d67ef8",
   "metadata": {},
   "source": [
    "### Set-up dataframe"
   ]
  },
  {
   "cell_type": "code",
   "execution_count": 2,
   "id": "98da7221",
   "metadata": {
    "tags": []
   },
   "outputs": [
    {
     "data": {
      "text/plain": [
       "(9980, 12)"
      ]
     },
     "execution_count": 2,
     "metadata": {},
     "output_type": "execute_result"
    }
   ],
   "source": [
    "pd.set_option('display.max_colwidth', None)\n",
    "article_df = pd.read_csv('datasets/nos_id.csv')\n",
    "article_df['datetime'] = pd.to_datetime(article_df['datetime'], utc = True)\n",
    "article_df['url'] = article_df['id'].apply(lambda x: f'https://www.nos.nl/artikel/{x}')\n",
    "article_df['date'] = article_df['datetime'].dt.date\n",
    "article_df['time'] = article_df['datetime'].dt.time\n",
    "article_df['category'] = None\n",
    "article_df['images'] = None\n",
    "article_df['alt_txt'] = None\n",
    "article_df['paragraphs'] = None\n",
    "article_df.shape"
   ]
  },
  {
   "cell_type": "code",
   "execution_count": 3,
   "id": "a61609c5-a4c4-443c-af4e-a70a2ac5bb41",
   "metadata": {
    "collapsed": true,
    "jupyter": {
     "outputs_hidden": true
    },
    "scrolled": true,
    "tags": []
   },
   "outputs": [
    {
     "data": {
      "text/html": [
       "<div>\n",
       "<style scoped>\n",
       "    .dataframe tbody tr th:only-of-type {\n",
       "        vertical-align: middle;\n",
       "    }\n",
       "\n",
       "    .dataframe tbody tr th {\n",
       "        vertical-align: top;\n",
       "    }\n",
       "\n",
       "    .dataframe thead th {\n",
       "        text-align: right;\n",
       "    }\n",
       "</style>\n",
       "<table border=\"1\" class=\"dataframe\">\n",
       "  <thead>\n",
       "    <tr style=\"text-align: right;\">\n",
       "      <th></th>\n",
       "      <th>id</th>\n",
       "      <th>title</th>\n",
       "      <th>datetime</th>\n",
       "      <th>owner</th>\n",
       "      <th>type</th>\n",
       "      <th>url</th>\n",
       "      <th>date</th>\n",
       "      <th>time</th>\n",
       "      <th>category</th>\n",
       "      <th>images</th>\n",
       "      <th>alt_txt</th>\n",
       "      <th>paragraphs</th>\n",
       "    </tr>\n",
       "  </thead>\n",
       "  <tbody>\n",
       "    <tr>\n",
       "      <th>0</th>\n",
       "      <td>2504508</td>\n",
       "      <td>Rechter zet streep door plan voor sluiting twee locaties kinderhartchirurgie</td>\n",
       "      <td>2024-01-11 13:01:59+00:00</td>\n",
       "      <td>nieuws</td>\n",
       "      <td>article</td>\n",
       "      <td>https://www.nos.nl/artikel/2504508</td>\n",
       "      <td>2024-01-11</td>\n",
       "      <td>13:01:59</td>\n",
       "      <td>None</td>\n",
       "      <td>None</td>\n",
       "      <td>None</td>\n",
       "      <td>None</td>\n",
       "    </tr>\n",
       "    <tr>\n",
       "      <th>1</th>\n",
       "      <td>2504505</td>\n",
       "      <td>Gambia ontsnapt op weg naar Afrika Cup aan drama na zuurstofgebrek in vliegtuig</td>\n",
       "      <td>2024-01-11 12:37:39+00:00</td>\n",
       "      <td>sport</td>\n",
       "      <td>article</td>\n",
       "      <td>https://www.nos.nl/artikel/2504505</td>\n",
       "      <td>2024-01-11</td>\n",
       "      <td>12:37:39</td>\n",
       "      <td>None</td>\n",
       "      <td>None</td>\n",
       "      <td>None</td>\n",
       "      <td>None</td>\n",
       "    </tr>\n",
       "    <tr>\n",
       "      <th>2</th>\n",
       "      <td>2504504</td>\n",
       "      <td>Topdrukte door kou, Wegenwachten draaien extra diensten</td>\n",
       "      <td>2024-01-11 12:34:44+00:00</td>\n",
       "      <td>nieuws</td>\n",
       "      <td>article</td>\n",
       "      <td>https://www.nos.nl/artikel/2504504</td>\n",
       "      <td>2024-01-11</td>\n",
       "      <td>12:34:44</td>\n",
       "      <td>None</td>\n",
       "      <td>None</td>\n",
       "      <td>None</td>\n",
       "      <td>None</td>\n",
       "    </tr>\n",
       "    <tr>\n",
       "      <th>3</th>\n",
       "      <td>2504499</td>\n",
       "      <td>Spectaculaire start EK handbal met bijna 55.000 toeschouwers in voetbalstadion</td>\n",
       "      <td>2024-01-11 11:46:35+00:00</td>\n",
       "      <td>sport</td>\n",
       "      <td>article</td>\n",
       "      <td>https://www.nos.nl/artikel/2504499</td>\n",
       "      <td>2024-01-11</td>\n",
       "      <td>11:46:35</td>\n",
       "      <td>None</td>\n",
       "      <td>None</td>\n",
       "      <td>None</td>\n",
       "      <td>None</td>\n",
       "    </tr>\n",
       "    <tr>\n",
       "      <th>4</th>\n",
       "      <td>2504498</td>\n",
       "      <td>Menno de Jong volgt Jaap van Dissel op bij het RIVM</td>\n",
       "      <td>2024-01-11 11:30:20+00:00</td>\n",
       "      <td>nieuws</td>\n",
       "      <td>article</td>\n",
       "      <td>https://www.nos.nl/artikel/2504498</td>\n",
       "      <td>2024-01-11</td>\n",
       "      <td>11:30:20</td>\n",
       "      <td>None</td>\n",
       "      <td>None</td>\n",
       "      <td>None</td>\n",
       "      <td>None</td>\n",
       "    </tr>\n",
       "  </tbody>\n",
       "</table>\n",
       "</div>"
      ],
      "text/plain": [
       "        id  \\\n",
       "0  2504508   \n",
       "1  2504505   \n",
       "2  2504504   \n",
       "3  2504499   \n",
       "4  2504498   \n",
       "\n",
       "                                                                             title  \\\n",
       "0     Rechter zet streep door plan voor sluiting twee locaties kinderhartchirurgie   \n",
       "1  Gambia ontsnapt op weg naar Afrika Cup aan drama na zuurstofgebrek in vliegtuig   \n",
       "2                          Topdrukte door kou, Wegenwachten draaien extra diensten   \n",
       "3   Spectaculaire start EK handbal met bijna 55.000 toeschouwers in voetbalstadion   \n",
       "4                             Menno de Jong volgt Jaap van Dissel op bij het RIVM    \n",
       "\n",
       "                   datetime   owner     type  \\\n",
       "0 2024-01-11 13:01:59+00:00  nieuws  article   \n",
       "1 2024-01-11 12:37:39+00:00   sport  article   \n",
       "2 2024-01-11 12:34:44+00:00  nieuws  article   \n",
       "3 2024-01-11 11:46:35+00:00   sport  article   \n",
       "4 2024-01-11 11:30:20+00:00  nieuws  article   \n",
       "\n",
       "                                  url        date      time category images  \\\n",
       "0  https://www.nos.nl/artikel/2504508  2024-01-11  13:01:59     None   None   \n",
       "1  https://www.nos.nl/artikel/2504505  2024-01-11  12:37:39     None   None   \n",
       "2  https://www.nos.nl/artikel/2504504  2024-01-11  12:34:44     None   None   \n",
       "3  https://www.nos.nl/artikel/2504499  2024-01-11  11:46:35     None   None   \n",
       "4  https://www.nos.nl/artikel/2504498  2024-01-11  11:30:20     None   None   \n",
       "\n",
       "  alt_txt paragraphs  \n",
       "0    None       None  \n",
       "1    None       None  \n",
       "2    None       None  \n",
       "3    None       None  \n",
       "4    None       None  "
      ]
     },
     "execution_count": 3,
     "metadata": {},
     "output_type": "execute_result"
    }
   ],
   "source": [
    "# Preview\n",
    "article_df.head()"
   ]
  },
  {
   "cell_type": "markdown",
   "id": "60e2e514-13c7-43ec-b32b-28419453a298",
   "metadata": {},
   "source": [
    "### Subset the Dutch election period"
   ]
  },
  {
   "cell_type": "code",
   "execution_count": 4,
   "id": "aa956936-15a1-4df3-a0c2-b6c50dad843c",
   "metadata": {},
   "outputs": [
    {
     "data": {
      "text/plain": [
       "(6565, 12)"
      ]
     },
     "execution_count": 4,
     "metadata": {},
     "output_type": "execute_result"
    }
   ],
   "source": [
    "start_date = pd.to_datetime('2023-09-01 00:00:00+00:00')\n",
    "end_date = pd.to_datetime('2023-12-31 23:59:59+00:00')\n",
    "\n",
    "subset_df = article_df[(article_df['datetime'] >= start_date) & (article_df['datetime'] <= end_date)]\n",
    "subset_df.shape"
   ]
  },
  {
   "cell_type": "markdown",
   "id": "44972d51-df63-463c-af4e-c7835fe04960",
   "metadata": {},
   "source": [
    "### Define scraper methods\n",
    "Note that class names change over time. Check NOS website inspector to spot changes. Correct method accordingly. </br></br>\n",
    "\n",
    "*Last class code update: June 26, 17:45*"
   ]
  },
  {
   "cell_type": "code",
   "execution_count": 53,
   "id": "7f4ec16a",
   "metadata": {
    "tags": []
   },
   "outputs": [],
   "source": [
    "def extract_data_from_url(url):\n",
    "    try:\n",
    "        response = requests.get(url)\n",
    "        response.raise_for_status()\n",
    "        if response.status_code == 200:\n",
    "            soup = BeautifulSoup(response.text, 'lxml')\n",
    "            \n",
    "            # Find the header image\n",
    "            featured_image_div = soup.find('div', class_='sc-de931b59-0 BKRcA')\n",
    "            \n",
    "            featured_image = []\n",
    "            if featured_image_div:\n",
    "                featured_image = [img['src'] for img in featured_image_div.find_all('img')]\n",
    "\n",
    "                img_alt_text = featured_image_div.find('figcaption', class_='sc-acc3cbb0-2 kBSYXC')\n",
    "            \n",
    "            # Find the article text and category\n",
    "            target_divs = soup.find_all('div', class_='sc-5963cd25-1 gRFeVv')\n",
    "            target_paragraphs = []\n",
    "            article_category = []\n",
    "            \n",
    "            for div in target_divs:\n",
    "                paragraphs = [p.get_text() for p in div.find_all('p', class_='sc-6241fa1a-0 gmoynU')]\n",
    "                target_paragraphs.extend(paragraphs)\n",
    "                \n",
    "                category = [p.get_text() for p in div.find_all('p', class_='sc-4c9047d-7 EGvUb')]\n",
    "                article_category.extend(category)\n",
    "                \n",
    "            return article_category, featured_image, target_paragraphs\n",
    "        else:\n",
    "            print(f\"Failure at URL: {url}\")\n",
    "            return None, None, None\n",
    "    except Exception as e:\n",
    "        print(f\"Error processing URL: {url}\\n{str(e)}\")\n",
    "        return None, None, None"
   ]
  },
  {
   "cell_type": "code",
   "execution_count": 108,
   "id": "608a2199-6c77-404f-a933-c3c2c788b848",
   "metadata": {},
   "outputs": [],
   "source": [
    "def extract_alt_from_url(url):\n",
    "    try:\n",
    "        response = requests.get(url)\n",
    "        response.raise_for_status()\n",
    "        if response.status_code == 200:\n",
    "            soup = BeautifulSoup(response.text, 'lxml')\n",
    "            \n",
    "            # Find the header image\n",
    "            main_img_div = soup.find('div', class_=\"sc-de931b59-0 BKRcA\")\n",
    "            \n",
    "            if main_img_div:\n",
    "                img_alt_text = main_img_div.find('figcaption', class_='sc-acc3cbb0-2 kBSYXC')\n",
    "                if img_alt_text:\n",
    "                    return img_alt_text.get_text()  # Extract and return the text content\n",
    "                else:\n",
    "                    print(f\"No figcaption found for images in URL: {url}\")\n",
    "                    return None\n",
    "            else:\n",
    "                print(f\"No main image div found in URL: {url}\")\n",
    "                return None\n",
    "        else:\n",
    "            print(f\"Failed to fetch URL: {url}\")\n",
    "            return None\n",
    "    except Exception as e:\n",
    "        print(f\"Error processing URL: {url}\\n{str(e)}\")\n",
    "        return None"
   ]
  },
  {
   "cell_type": "markdown",
   "id": "b34e1173-508b-4177-b76e-8631680b8f6d",
   "metadata": {},
   "source": [
    "#### Test for scraper to work"
   ]
  },
  {
   "cell_type": "code",
   "execution_count": 109,
   "id": "1d24c3f1-ca7e-4b02-93c7-1ef4d6af2723",
   "metadata": {
    "tags": []
   },
   "outputs": [],
   "source": [
    "test_df = article_df.sample(n=10)"
   ]
  },
  {
   "cell_type": "code",
   "execution_count": 110,
   "id": "68308b2d-44a6-4311-b8c2-3cfa86d6fc40",
   "metadata": {
    "tags": []
   },
   "outputs": [
    {
     "name": "stdout",
     "output_type": "stream",
     "text": [
      "No main image div found in URL: https://www.nos.nl/artikel/2485927\n",
      "No figcaption found for images in URL: https://www.nos.nl/artikel/2483145\n",
      "No main image div found in URL: https://www.nos.nl/artikel/2485523\n",
      "No main image div found in URL: https://www.nos.nl/artikel/2492954\n",
      "No figcaption found for images in URL: https://www.nos.nl/artikel/2493323\n",
      "---\n",
      "Elapsed time: 0 minutes and 4 seconds\n"
     ]
    }
   ],
   "source": [
    "start_time = time.time()\n",
    "\n",
    "for index, row in test_df.iterrows():\n",
    "    url = row['url']\n",
    "    article_category, featured_image, target_paragraphs = extract_data_from_url(url)\n",
    "    alt_text = extract_alt_from_url(url)\n",
    "    \n",
    "    test_df.at[index, 'category'] = article_category\n",
    "    test_df.at[index, 'images'] = featured_image\n",
    "    test_df.at[index, 'alt_txt'] = alt_text\n",
    "    test_df.at[index, 'paragraphs'] = target_paragraphs\n",
    "    \n",
    "end_time = time.time()\n",
    "elapsed_time = end_time - start_time\n",
    "elapsed_minutes = int(elapsed_time // 60)\n",
    "elapsed_seconds = int(elapsed_time % 60)\n",
    "\n",
    "print('---')\n",
    "print(f'Elapsed time: {elapsed_minutes} minutes and {elapsed_seconds} seconds')\n"
   ]
  },
  {
   "cell_type": "code",
   "execution_count": 122,
   "id": "2b6a94f7-6e17-4ab9-af10-1120fa84511e",
   "metadata": {
    "collapsed": true,
    "jupyter": {
     "outputs_hidden": true
    }
   },
   "outputs": [
    {
     "name": "stdout",
     "output_type": "stream",
     "text": [
      "           id  \\\n",
      "8349  2485927   \n",
      "9537  2483145   \n",
      "8517  2485523   \n",
      "5056  2492954   \n",
      "1419  2501341   \n",
      "2788  2498147   \n",
      "140   2504209   \n",
      "1571  2500967   \n",
      "5920  2491113   \n",
      "4884  2493323   \n",
      "\n",
      "                                                                                      title  \\\n",
      "8349   Havik en Van Schip wereldkampioen koppelkoers, Hoogland pakt WK-goud op de kilometer   \n",
      "9537     Podcast Oog: minister Dijkgraaf over z'n voorganger, atoombomuitvinder Oppenheimer   \n",
      "8517             Zomers winterlandschap door Duitse hagelbuien: sneeuwschuivers rukken uit    \n",
      "5056  UEFA wijst klacht Levante af over 'onsportief doelpunt' FC Twente in Champions League   \n",
      "1419  De imposante carrière van Chiellini, met tien landstitels en Europese titel, zit erop   \n",
      "2788                  Lachgasgebruik neemt af, xtc weer net zoveel gebruikt als voor corona   \n",
      "140                       Van EK waterpolo tot het NK veldrijden: stevige sportweek bij NOS   \n",
      "1571      Bayern München hard onderuit tegen Eintracht Frankfurt, Leipzig wint van Dortmund   \n",
      "5920             Hunter Biden wil onschuld bepleiten in rechtszaak over illegaal wapenbezit   \n",
      "4884                            Inbreker loopt tegen boom, drie anderen van het dak gehaald   \n",
      "\n",
      "                      datetime   owner     type  \\\n",
      "8349 2023-08-08 16:56:32+00:00   sport  article   \n",
      "9537 2023-07-17 12:20:25+00:00  nieuws  article   \n",
      "8517 2023-08-05 12:00:11+00:00  nieuws  article   \n",
      "5056 2023-10-05 10:53:48+00:00   sport  article   \n",
      "1419 2023-12-12 16:33:00+00:00   sport  article   \n",
      "2788 2023-11-17 10:41:05+00:00  nieuws  article   \n",
      "140  2024-01-08 22:23:42+00:00   sport  article   \n",
      "1571 2023-12-09 16:38:16+00:00   sport  article   \n",
      "5920 2023-09-20 00:01:33+00:00  nieuws  article   \n",
      "4884 2023-10-08 09:48:14+00:00  nieuws  article   \n",
      "\n",
      "                                     url        date      time  \\\n",
      "8349  https://www.nos.nl/artikel/2485927  2023-08-08  16:56:32   \n",
      "9537  https://www.nos.nl/artikel/2483145  2023-07-17  12:20:25   \n",
      "8517  https://www.nos.nl/artikel/2485523  2023-08-05  12:00:11   \n",
      "5056  https://www.nos.nl/artikel/2492954  2023-10-05  10:53:48   \n",
      "1419  https://www.nos.nl/artikel/2501341  2023-12-12  16:33:00   \n",
      "2788  https://www.nos.nl/artikel/2498147  2023-11-17  10:41:05   \n",
      "140   https://www.nos.nl/artikel/2504209  2024-01-08  22:23:42   \n",
      "1571  https://www.nos.nl/artikel/2500967  2023-12-09  16:38:16   \n",
      "5920  https://www.nos.nl/artikel/2491113  2023-09-20  00:01:33   \n",
      "4884  https://www.nos.nl/artikel/2493323  2023-10-08  09:48:14   \n",
      "\n",
      "                                                                                                             category  \\\n",
      "8349                                                                                     [Baanwielrennen, Wielrennen]   \n",
      "9537                                                                                                [Cultuur & Media]   \n",
      "8517                                                                                                     [Buitenland]   \n",
      "5056                                                                                                        [Voetbal]   \n",
      "1419                                                                                                        [Voetbal]   \n",
      "2788                                                                                                     [Binnenland]   \n",
      "140   [Cultuur & Media, Sport algemeen, Baanwielrennen, Kunstschaatsen, Schaatsen, Veldrijden, Waterpolo, Wielrennen]   \n",
      "1571                                                                                                        [Voetbal]   \n",
      "5920                                                                                                     [Buitenland]   \n",
      "4884                                                                                           [NH, Regionaal nieuws]   \n",
      "\n",
      "                                                           images  \\\n",
      "8349                                                           []   \n",
      "9537   [https://cdn.nos.nl/image/2023/07/22/989954/1024x576a.jpg]   \n",
      "8517                                                           []   \n",
      "5056                                                           []   \n",
      "1419  [https://cdn.nos.nl/image/2023/12/12/1034725/1024x576a.jpg]   \n",
      "2788  [https://cdn.nos.nl/image/2023/11/17/1026797/1024x576a.jpg]   \n",
      "140   [https://cdn.nos.nl/image/2024/01/09/1041864/1024x576a.jpg]   \n",
      "1571  [https://cdn.nos.nl/image/2023/12/09/1033871/1024x576a.jpg]   \n",
      "5920  [https://cdn.nos.nl/image/2023/09/20/1009645/1024x576a.jpg]   \n",
      "4884  [https://cdn.nos.nl/image/2023/10/08/1015078/1024x576a.jpg]   \n",
      "\n",
      "                                                                       alt_txt  \\\n",
      "8349                                                                      None   \n",
      "9537                                                                      None   \n",
      "8517                                                                      None   \n",
      "5056                                                                      None   \n",
      "1419                                                         Giorgio Chiellini   \n",
      "2788  Uitgaand publiek in Paradiso in Amsterdam, tijdens Amsterdam Dance Event   \n",
      "140                               Xandra Velzerboer (vooraan) en Selma Poutsma   \n",
      "1571          Teleurstelling bij Manuel Neuer en Harry Kane van Bayern München   \n",
      "5920                                                              Hunter Biden   \n",
      "4884                                                                      None   \n",
      "\n",
      "                                                                                                                                                                                                                                                                                                                                                                                                                                                                                                                                                                                                                                                                                                                                                                                                                                                                                                                                                                                                                                                                                                                                                                                                                                                                                                                                                                                                                                                                                                                                                                                                                                                                                                                                                                                                                                                                                                                                                                                                                                                                                                                                                                                                                                                                                                                                                                                                                                                                                                                                                                                                                                                                                                                                                                                                                                                                                                                                                                                                                                                                                                                                                                                                                                                                                                                                                                                                                                                                                                                                                                                                                                                                                                                                                                                                                                                                                                                                                                                                                                                                                       paragraphs  \n",
      "8349  [Jan Willem van Schip en Yoeri Havik zijn wereldkampioen op de koppelkoers. Het Nederlandse duo zorgde voor een enorme stunt op het sterk bezette onderdeel bij de WK baanwielrennen in Glasgow., De koppelkoers is een olympisch onderdeel waar in een wedstrijd over 200 ronden om de tien ronden wordt gesprint voor punten. De race bleef tot de laatste van tweehonderd rondes spannend. In de eindsprint, voor dubbele punten, werd Havik derde. Genoeg voor de wereldtitel., Het zilver ging naar de Britse thuisrijders Mark Stewart en Oliver Wood. Aaron Gate en Campbel Stewart uit Nieuw-Zeeland sprongen met de gewonnen eindsprint over België heen naar het brons., Toplanden op het olympische onderdeel, zoals Italië, Frankrijk en Denemarken, visten achter het net., Het Nederlandse duo liet vanaf de eerste sprint zien dat de samenwerking tot in de puntjes voorbereid was. Havik en Van Schip wisten elkaar bij elke aflossing goed te vinden en timeden hun sprints en aanval perfect., Op driekwart koers sloegen de Nederlanders een gat en pakten een flinke voorsprong. Bij drie sprints op rij gingen de volle punten naar Havik en Van Schip, genoeg om de koppositie over te nemen., Omdat geen enkel land een ronde pakte op het peloton, bleven de verschillen klein. Met vier punten aan de finish bracht Havik het totaal op 37 punten, twee punten meer dan het Britse duo., Jeffrey Hoogland is na de gouden teamsprint op de WK baanwielrennen ook wereldkampioen geworden op de 1 kilometer tijdrit. Hoogland won in een tijd van 58.222., Het is de derde keer op rij dat de 30-jarige Nederlander wint op de kilometer. Inclusief zijn overwinning in 2018 is het zijn vierde gouden medaille op het onderdeel., De Brit Joseph Truman was voor eigen publiek de eerste finalist die de kilometer binnen een minuut aflegde. Voor Hoogland aan de beurt was, deden twee Australiërs nog een gooi naar de wereldtitel. Thomas Cornish dook onder de tijd van de Brit, hij klokte 58.822. Goed voor brons., Matthew Glaetzer was nog iets rapper dan zijn landgenoot (58.526), maar ook dat was niet genoeg om Hoogland van zijn tweede gouden medaille op deze wereldkampioenschappen te houden., Hoogland en Glaetzer kwamen elkaar zo'n drie kwartier later weer tegen op de wielerbaan. Na zijn gouden tijdrit plaatste Hoogland zich ook voor de kwartfinales van het keirintoernooi. Hij ging als tweede door achter de Australiër., Sprintkoning Harrie Lavreysen, titelverdediger op de keirin, en Tijmen van Loon plaatsten zich via de herkansingsronde. Lavreysen, wereldkampioen op de team- en individuele sprint, eindigde als derde in zijn heat, die werd gewonnen door de Brit Jack Carlin, maar was in de herkansing wel de sterkste., Bekijk hier een interview met Sir Chris Hoy, die lovend is over Harrie Lavreysen:, Tijmen van Loon werd laatste in een sterk bezette heat, gewonnen door de Surinamer Tjon En Fa, maar stuntte met een tweede plek in de laatste herkansingsronde., De kwartfinales van het keirintoernooi zijn woensdag (19.01 uur), later op de avond volgen de halve finale en finale., Marit Raaijmakers werd zesde op de puntenkoers. De Nederlandse reed aanvallend en streed tot en met de laatste sprint mee om de medailles in een door Lotte Kopecky gedomineerde koers., De Belgische had haar topvorm uit de Tour de France Femmes (tweede achter Demi Vollering) meegenomen naar Glasgow en behaalde met machtsvertoon haar tweede goud op deze WK. Een dag eerder won Kopecky ook de afvalkoers., Georgia Baker uit Australië was de enige die Kopecky lang kon volgen en won zilver. De Japanse Tsuyaka Uchino verraste iedereen in de eindsprint en greep brons., Aniek van der Aarssen werd vierde op de paralympische scratch. De Braziliaanse Amanda Antunes de Paiva kon het tempo al snel niet volgen, waardoor de overgebleven vier rensters rustig richting de sprint reden., De Chinese Xiaomei Wang werd wereldkampioen, voor Mel Pemble (Canada) en Richael Timothy (Ierland).]  \n",
      "9537                                                                                                                                                                                                                                                                                                                                                                                                                                                                                                                                                                                                                                                                                                                                                                                                                                                                                                                                                                                                                                                                                                                                                                                                                                                                                                                                                                                                                                                                                                                                                                                                                                                                                                                                                                                                                                                                                                                                                                                                                                                                                                                                                                                                                                                                                                                                                                        [De nieuwste film van Christopher Nolan verovert de wereld. Het is het verhaal van wetenschapper J. Robert Oppenheimer, de vader van de atoombom. Een uitvinding die het leven natuurlijk totaal veranderde. In zijn wetenschappelijke carrière was Oppenheimer directeur van het Institute for Advanced Study in Princeton. Dat is een functie die decennia later werd bekleed door de man die nu demissionair minister van Onderwijs, Cultuur en Wetenschap is: Robbert Dijkgraaf. Hij vertelt waarom hij vindt dat deze film er moest komen., Verder een ode aan de overleden schrijfster Marga Minco, door literatuurkenner Onno Blom. Hij legt uit hoe haar bekendste boek Het bittere kruid tot stand kwam., En Erik Stegink, partijvoorzitter van de BBB, vertelt hoe zijn partij heeft gekeken naar de kabinetsval en wat de plannen zijn tot de verkiezingen in november., Deze aflevering van Het beste uit het Oog kun je hier beluisteren. Bevalt het? Vergeet je dan niet te abonneren!, De Dag: elke werkdag twintig minuten verdieping bij één onderwerp uit het nieuws., Met het Oog op Morgen: elke dag een overzicht van het nieuws, een blik in de ochtendkranten en het betere journalistieke interview., Het Beste uit het Oog: iedere zaterdag selecteert de redactie van Met het Oog op Morgen de mooiste gesprekken van de afgelopen week., De Stemming van Vullings en Van der Wulp: elke vrijdag een nieuwe aflevering waarin de politieke week wordt doorgenomen. Gemaakt door NOS en EenVandaag., Lang verhaal kort: elke werkdag rond vijven één onderwerp, in 5 minuten. NOS op 3 vertelt je wat je moet weten over een actueel onderwerp om het nieuws erover beter te kunnen volgen.]  \n",
      "8517                                                                                                                                                                                                                                                                                                                                                                                                                                                                                                                                                                                                                                                                                                                                                                                                                                                                                                                                                                                                                                                                                                                                                                                                                                                                                                                                                                                                                                                                                                                                                                                                                                                                                                                                                                                                                                                                                                                                                                                                                                                                                                                                                                                                                                                                                                                                                                                                                                                                                                                                                                                                                                                                                                                                                                                                                                                                                                                                   [Sneeuwploegen moesten gisteren uitrukken in de Zuid-Duitse stad Reutlingen, ten zuiden van Stuttgart. Een langzaam overtrekkende hagelbui veranderde het stadscentrum daar midden in de zomer in een winterlandschap., Op sommige plekken kwam de hagel wel 30 centimeter hoog te liggen. Doordat de hagel zich vermengde met afgerukte bladeren raakten afvoergoten verstopt en hoopte het koude goedje zich snel op., Persoonlijke ongelukken deden zich niet voor, maar wel raakten mensen ingesneeuwd door opgehoopte hagelstenen. Ook kwamen automobilisten daardoor de weg niet meer op., Bijna 300 brandweerlieden rukten meer dan 100 keer uit om mensen te helpen., Volgens een woordvoerder van de Duitse weerdienst is zo'n hagelbui op zich niet zo bijzonder. Het was alleen uitzonderlijk dat het front langzaam over een drukke stad trok. Daardoor viel de neerslag des te meer op., \"Als zo'n bui op een weiland valt, vloeit de neerslag sneller weg dan in de bebouwde kom.\", De hulpdiensten waren vandaag nog bezig met het opruimen van de hagel. Op sommige plekken werden bulldozers ingezet om de straten weer vrij te krijgen.]  \n",
      "5056                                                                                                                                                                                                                                                                                                                                                                                                                                                                                                                                                                                                                                                                                                                                                                                                                                                                                                                                                                                                                                                                                                                                                                                                                                                                                                                                                                                                                                                                                                                                                                                                                                                                                                                                                                                                                                                                                                                                                                                                                                                                                                                                                                                                                                                                                                                                                                                                                                                                                                                                                                                                                                                                                                                                                                                                                                                         [FC Twente hoeft niet te vrezen dat een protest van Levante tegen een omstreden doelpunt van Renate Jansen in de kwalificatie voor de Champions League een vervolg krijgt. Mede door de volgens Levante onsportieve goal van de spits bereikte Twente vorige maand ten koste van de Spaanse club de tweede kwalificatieronde van de Champions League., De UEFA heeft de klacht van Levante niet-ontvankelijk verklaard, wat betekent dat er verder niet meer naar wordt gekeken., De Spaanse club diende een klacht bij de UEFA vanwege \"onsportief gedrag\" bij het doelpunt van Jansen en wilde dat er \"passende disciplinaire maatregelen\" zouden worden genomen. , Bekijk het omstreden doelpunt van Renate Jansen tegen Levante:, FC Twente won na een 0-2 achterstand met 3-2. Nadat Levante bij 0-2 de bal had uitgeschoten na een blessure bij FC Twente, gaf de thuisploeg in eerste instantie de bal terug na een inworp. Jansen pikte de bal echter op en scoorde de 1-2. , FC Twente speelt volgende week woensdag in de play-offs om een plek in de groepsfase van de Champions League tegen het Zweedse BK Häcken. Ajax treft het Zwitserse FC Zürich. De returns van beide duels worden op 18 en 19 oktober gespeeld.]  \n",
      "1419                                                                                                                                                                                                                                                                                                                                                                                                                                                                                                                                                                                                                                                                                                                                                                                                                                                                                                                                                                                                                                                                                                                                                                                                                                                                                                                                                                                                                                                                                                                                                                                                                                                                                                                                                                                                                                                                                                                                                                                                                                                                                                                                                                                                                                                                                                                                                          [De imposante carrière van Giorgio Chiellini zit erop. Dat heeft de 39-jarige Italiaanse verdediger dinsdag bekend gemaakt. Chiellini speelde de laatste anderhalf jaar in de Verenigde Staten, na een glansrijke periode van zeventien jaar bij Juventus., Dat betekent dat de 117-voudig international volgend jaar niet meer terugkeert bij Los Angeles FC., De Italiaan kan terugkijken op een geweldige carrière: met Juventus won de onverwoestbare linkspoot negen landstitels, vijf Italiaanse bekers en speelde in twee Champions League-finales., In 2022 vertrok Chiellini naar de Verenigde Staten. Daar won de verdediger ook meteen de titel in de MLS. Met Italië werd Chiellini Europees kampioen in 2021., Een opvallende prijs op zijn uitgebreide palmares is het winnen van de Serie B. Chiellini bleef zijn club trouw toen Juventus in 2006 werd teruggezet naar het tweede niveau vanwege het grootschalige omkoopschandaal Calciopoli., In zijn 23-jarige voetballoopbaan heeft Chiellini van alles meegemaakt. Maar de wedstrijd met Italië tegen Uruguay op het WK van 2014 zal hij nooit vergeten. Luis Suárez beet de verdediger in zijn schouder. , Chiellini noemt zijn carrière op zijn sociale media 'de mooiste en meest intense reis' van zijn leven. \"Jij bent mijn alles geweest. Met jou heb ik een uniek en onvergetelijk pad afgelegd. Maar nu is het tijd om nieuwe hoofdstukken te beginnen, nieuwe uitdagingen aan te gaan en meer belangrijke en opwindende pagina's van het leven te schrijven.\", Wat de Italiaan na 23 jaar profvoetbal gaat doen is nog niet duidelijk. Maar mogelijk valt Chiellini terug op zijn studie bedrijfskunde, die studie rondde hij in 2017 cum laude af.]  \n",
      "2788                                                                                                                                                                                                                                                                                                                [Nederlanders gebruikten vorig jaar een stuk minder lachgas dan vier jaar geleden. Dat blijkt uit onderzoek van het Trimbos-instituut, samen met het RIVM en het CBS. Een andere partydrug is juist weer terug van weggeweest: xtc., In 2022 had 1,3 procent van de volwassenen lachgas gebruikt, wat neerkomt op 180.000 mensen. In 2019 lag dat percentage nog op 3,2. Sindsdien daalde het gebruik gestaag, al is de afname tussen 2021 en 2022 wat afgevlakt., Volgens drugsonderzoeker Ton Nabben van de Hogeschool van Amsterdam heeft de daling er voor een deel mee te maken met dat lachgas minder te verkrijgen was in clubs en op festivals: \"Daarnaast zien steeds meer jongeren de gevolgen in van fors lachgasgebruik\", zegt hij in het NOS Radio 1 Journaal. Sinds 1 januari van dit jaar is de verkoop en het bezit van lachgas voor recreatief gebruik overigens wettelijk verboden., De Hogeschool van Amsterdam doet zelf ieder jaar onderzoek naar drugsgebruik onder het uitgaanspubliek in de hoofdstad. Uit die monitor blijkt dat onder die groep in 2017 de helft weleens lachgas gebruikte; in 2022 was dat gedaald naar 16 procent., Het Trimbos tekent aan dat degenen die nog wel gebruikten, vaker en veel gebruikten, meer dan tien ballonnen per keer., NOS Stories maakte twee jaar geleden deze video over lachgas:, Volgens de onderzoekers is het xtc-gebruik juist weer terug op het niveau van 2019. Tijdens de coronaperiode, toen clubs dicht waren en festivals niet doorgingen, daalde het pillengebruik flink. Maar in 2022, toen Nederland bijna geen last meer had van coronabeperkingen, keerde xtc terug., 3,9 procent van de volwassenen in Nederland gebruikte het afgelopen jaar xtc. Dat zijn 550.000 mensen. Van het uitgaanspubliek in Amsterdam gebruikte 66 procent van de club- en festivalbezoekers het afgelopen jaar weleens een pilletje, hetzelfde percentage als in 2017., Nabben stelt dat de gemiddelde dosering van MDMA, de werkzame stof in een pil, iets gedaald is: \"Of het nemen van xtc gevaarlijk wordt, hangt vooral af van de omstandigheden en hoe mensen zich voorbereiden.\", Volgens de laatst beschikbare cijfers is Nederland ruim koploper in Europa wat betreft xtc-gebruik. Zo gebruikte van de groep 15- tot 34-jarigen 7,8 procent van de Nederlanders het laatste jaar pillen; het Europese gemiddelde ligt op 1,8 procent., De meest gebruikte drug is nog steeds cannabis. Ruim een miljoen Nederlanders gebruikten het afgelopen jaar minstens een keer wiet. Het Trimbos maakt zich zorgen over het toenemende \"riskante cannabisgebruik\"., In 2022 waren er meer mensen die in hun eentje cannabis gebruikten, zonder succes probeerden te stoppen of (geheugen)problemen hadden door het gebruik., Vergeleken met 2021 is er niet veel veranderd in het gebruik van de meeste drugs, afgezien van de xtc. Het Trimbos-instituut constateert wel dat er op de lange termijn meer drugs worden gebruikt. Vergeleken met 2015/2016 is er een toename te zien in het gebruik van cannabis, cocaïne, xtc, ketamine, lsd en paddo's. 18- tot 29-jarigen en hoogopgeleiden gebruikten het meest., Daarnaast komen er de laatste jaren steeds meer nieuwe drugs op de markt. Zo is er vorig jaar voor het eerst onderzoek gedaan naar 3-MMC, meestal verkocht als poeder, maar ook te krijgen in de vorm van kristallen of pillen. Het wordt omschreven als een combinatie van xtc en cocaïne. 1,4 procent van de Nederlanders gaf aan ooit 3-MMC te hebben gebruikt., Deze drug is sinds 2021 verboden. Verslavingsinstituut Jellinek zegt dat gebruikers \"hun eigen proefkonijn zijn\". Er is nog weinig tot geen onderzoek naar gedaan en de langetermijneffecten zijn nog niet bekend.]  \n",
      "140                                                                                                                                                                                                                                                                                                                                                                                                                                                                                                                                                                                                                                                                                                                                                                                                                                                                                                                                                                                                                                                                                                                                                                                                                                                                                                                                                                                                                                                                                                                                                                                                                                                                                                                                                                                                                                                                                                                                                                                                                                                                                                                                                                                                                                                                                                                                                                                                                                                                                                                                                                                                                      [De tweede week van 2024 kent tal van grote sportevenementen. Bij de NOS kun je het allemaal volgen., Op dinsdag staat voor de waterpolosters de kwartfinale op het EK in Eindhoven op het programma. De regerend wereldkampioen neemt het om 17.30 uur op tegen Groot-Brittannië., Ook een eventuele halve finale en finale is te volgen bij de NOS. De Nederlandse mannen spelen dinsdagavond in Kroatië hun laatste groepswedstrijd, vanaf 20.15 uur tegen Slovenië., Midweeks starten de EK's kunstschaatsen en baanwielrennen. Op de EK baanwielrennen in Apeldoorn zijn alle toppers van de partij. Er wordt op elf onderdelen gereden: komende week staan elke avond drie tot vijf finales op het programma., Hoe laat en wanneer elke sport precies begint, vind je in dit programma-overzicht., Op de EK kunstrijden in Litouwen komen twee Nederlandse duo's in actie. Daria Danilova en Michel Tsiba bij het paarrijden en Hanna Jakucs met Alessio Galli bij het ijsdansen., Het weekend staat in het teken van het EK shorttrack en het NK veldrijden. De Nederlandse shorttrackers proberen in Polen hun titel op de mixed relay en de relay te prolongeren. Zondagmiddag strijden zowel de mannen als de vrouwen in Hoogeveen om de Nederlandse titels veldrijden., Daarnaast ontwaakt de eredivisie dit weekend uit zijn winterslaap. De negen duels uit de zeventiende speelronde zijn vrijdag, zaterdag en zondag in samenvatting bij de NOS te zien.]  \n",
      "1571                                                                                                                                                                                                                                                                                                                                                                                                                                                                                                                                                                                                                                                                                                                                                                                                                                                                                                                                                                                                                             [Bayern München is op bezoek bij Eintracht Frankfurt tegen een zeer pijnlijke nederlaag aangelopen. In Frankfurt werd het 5-1 voor de nummer zeven van Duitsland. Het was de eerste keer sinds de 5-1 zege van hetzelfde Frankfurt in 2019 dat Bayern zoveel treffers moest incasseren in de Bundesliga., In Dortmund won RB Leipzig het rechtstreekse duel om de vierde plaats. Borussia Dortmund kreeg al snel een rode kaart, en verloor met 2-3 van Leipzig., De nederlaag van Bayern, de eerste van dit seizoen van de regerend landskampioen, zal als muziek in de oren klinken van koploper Bayer Leverkusen, dat zondag aantreedt tegen nummer drie Stuttgart. Leverkusen heeft 35 punten, Bayern 32 en Stuttgart 30., Voor Eintracht betekende de zege een einde aan een reeks van vier nederlagen op rij in alle competities., Na iets meer dan een half uur spelen tussen Frankfurt en Bayern was het al drie keer raak voor de thuisploeg. Omar Marmoush, Eric Ebimbe en Hugo Larsson tekenden voor een 3-0 voorsprong., Na niet goed wegwerken van oud-Ajacied Noussair Mazraoui schoot Marmoush hard raak in de verre hoek en Ebimbe frommelde de bal na een fraaie dribbel net aan langs doelman Manuel Neuer. Larsson maakte het trio aan goals compleet door na een vlotte uitbraak Dayot Upamecano uit te kappen en in de verre hoek raak te schieten., Joshua Kimmich deed vlak voor rust nog wat terug door op aangeven van Leroy Sané schitterend raak te schieten in de kruising, maar na rust ging Eintracht rustig verder met scoren., Upamecano ging in de fout waarna Ebimbe de bal oppikte en hem aan Fares Chaibi gaf. Ebimbe liep door, kreeg de bal terug van de Algerijn en schoot simpel zijn tweede binnen., Toen tien minuten later Ansgar Knauff binnenschoot werd het doelpunt eerst nog afgekeurd wegens buitenspel, maar na tussenkomst van de VAR stond de 5-1 alsnog op het bord. Harry Kane, die voor dit duel bijna net zoveel doelpunten had gemaakt als Eintracht in het hele seizoen, 18 om 19, kwam in het hele stuk amper voor., In het Signal Iduna Park kreeg Borussia Dortmund in de wedstrijd tegen RB Leipzig al na vijftien minuten een rode kaart te verwerken. Mats Hummels trok aan de noodrem, waarvoor hij in eerste instantie geel kreeg. Na een check van de VAR werd de gele kaart en de bijbehorende penalty ingeruild voor een vrije trap en een rode kaart voor de verdediger., In de 32ste minuut kwam Leipzig op 1-0 door een eigen goal van Rami Bensebaini. Vlak voor rust maakte invaller Niklas Süle gelijk, maar in de tweede helft zette Christoph Baumgartner de bezoekers weer op voorsprong., In de blessuretijd leek Yussuf Poulsen het duel in het voordeel van Leipzig te beslissen met de 1-3, maar Niclas Füllkrug maakte snel de 2-3. Daarna kreeg Dortmund nog enkele grote kansen kreeg op de gelijkmaker, maar Leipzig hield stand en pakte de drie punten., Bij Leipzig was er een basisplaats voor Xavi Simons. Donyell Malen mocht in de slotfase invallen bij Dortmund.]  \n",
      "5920                                                                                                                                                                                                                                                                                                                                                                                                                                                                                                                                                                                                                                                                                                                                                                                                                                                                                                                                                                                                                                                                                                                                                                                                                                                                                                                                                                                                                                                                                                                                                                                                                                                                                                                                                                                                                                                                                                                                                                                                                                                                                                                                                [Hunter Biden, de zoon van de Amerikaanse president, zal voor de rechter ontkennen dat hij schuldig is aan de aanklachten tegen hem. Hij werd onlangs beschuldigd van strafbare feiten die verband houden met het overtreden van de wapenwet, vijf jaar geleden., Een speciaal aanklager diende afgelopen week drie aanklachten tegen hem in. De 53-jarige zoon van Joe Biden zou in 2018 niet hebben aangegeven dat hij drugsverslaafd was toen hij een wapen kocht, wat in strijd met de wet is. Hij zou tot 25 jaar cel kunnen krijgen als hij voor de drie aanklachten wordt veroordeeld, al vallen de straffen voor deze overtredingen meestal lager uit., In de tijd dat Hunter Biden de revolver in kwestie kocht, kampte hij met een drugsverslaving na het overlijden van zijn broer Beau. Hij zou het na een periode in een afkickkliniek 11 dagen illegaal in zijn bezit hebben gehad. De weduwe van zijn broer zou het later in zijn auto hebben gevonden en hebben weggegooid, omdat ze bang was dat hij zichzelf er iets mee zou aandoen., Eerder leek het erop dat Hunter Biden een deal zou sluiten met justitie om vervolging te voorkomen, maar die afspraak hield geen stand. De rechter vond de voorwaarden niet helder., In de brief aan de rechter waarin Bidens advocaat schrijft over het voornemen van Biden om zijn onschuld te bepleiten, wordt de rechter verder gevraagd of zijn cliënt de komende zitting online mag bijwonen. Hij zou zo willen voorkomen dat zijn vervoer van zijn thuisstaat Californië naar de staat Delaware de Amerikaanse overheid veel geld en mankracht kost, aangezien hij zwaar wordt beveiligd., \"Meneer Biden zal zijn onschuld bepleiten en er is geen reden waarom hij die twee woorden niet via een videoverbinding zou kunnen uitspreken\", schrijft zijn advocaat in de brief. De aanklagers in de zaak maakten eerder al bezwaar tegen een vergelijkbaar verzoek in de zaak.]  \n",
      "4884                                                                                                                                                                                                                                                                                                                                                                                                                                                                                                                                                                                                                                                                                                                                                                                                                                                                                                                                                                                                                                                                                                                                                                                                                                                                                                                                                                                                                                                                                                                                                                                                                                                                                                                                                                                                                                                                                                                                                                                                                                                                                                                                                                                                                                                                                                                                                                                                                                                                                                                                                                                                                                                                                                                                                                                                                                                                                                                                                                                                                                                                                                                                                                                                                                                                                                                                                                         [Bij een inbraak in een medisch centrum in Oostzaan zijn vier mensen aangehouden. Een alerte getuige hoorde vreemde geluiden en schakelde de politie in. Een van de inbrekers probeerde door het bos te ontkomen, maar de man rende tijdens zijn vlucht tegen een boom op., Toegesnelde eenheden vonden de man bewusteloos op de grond. De inbreker is medische hulp verleend en is bij kennis aangehouden. Op het dak van het medisch centrum trof de politie nog drie inbrekers met inbraakwerktuig aan. Met behulp van een hoogwerker van de brandweer zijn de verdachten van het dak gehaald., De aangehouden verdachten staan niet in Nederland ingeschreven en zijn tussen de 23 en 32 jaar, meldt NH Nieuws.]  \n"
     ]
    }
   ],
   "source": [
    "print(test_df)"
   ]
  },
  {
   "cell_type": "markdown",
   "id": "5f59d9be-5799-4d6d-83b3-1f36d82e77bc",
   "metadata": {},
   "source": [
    "#### Create full dataset after test"
   ]
  },
  {
   "cell_type": "code",
   "execution_count": 114,
   "id": "5c0896e9-2684-4d16-a4e8-6119bca03596",
   "metadata": {
    "collapsed": true,
    "jupyter": {
     "outputs_hidden": true
    },
    "scrolled": true,
    "tags": []
   },
   "outputs": [
    {
     "name": "stderr",
     "output_type": "stream",
     "text": [
      "Scraper going at...: 3it [00:06,  2.10s/it]"
     ]
    },
    {
     "name": "stdout",
     "output_type": "stream",
     "text": [
      "No figcaption found for images in URL: https://www.nos.nl/artikel/2503380\n"
     ]
    },
    {
     "name": "stderr",
     "output_type": "stream",
     "text": [
      "Scraper going at...: 14it [00:19,  1.16s/it]"
     ]
    },
    {
     "name": "stdout",
     "output_type": "stream",
     "text": [
      "No main image div found in URL: https://www.nos.nl/artikel/2503346\n"
     ]
    },
    {
     "name": "stderr",
     "output_type": "stream",
     "text": [
      "Scraper going at...: 17it [00:24,  1.39s/it]"
     ]
    },
    {
     "name": "stdout",
     "output_type": "stream",
     "text": [
      "No figcaption found for images in URL: https://www.nos.nl/artikel/2503339\n"
     ]
    },
    {
     "name": "stderr",
     "output_type": "stream",
     "text": [
      "Scraper going at...: 24it [00:34,  1.65s/it]"
     ]
    },
    {
     "name": "stdout",
     "output_type": "stream",
     "text": [
      "No figcaption found for images in URL: https://www.nos.nl/artikel/2503326\n"
     ]
    },
    {
     "name": "stderr",
     "output_type": "stream",
     "text": [
      "Scraper going at...: 27it [00:38,  1.30s/it]"
     ]
    },
    {
     "name": "stdout",
     "output_type": "stream",
     "text": [
      "No figcaption found for images in URL: https://www.nos.nl/artikel/2503314\n"
     ]
    },
    {
     "name": "stderr",
     "output_type": "stream",
     "text": [
      "Scraper going at...: 30it [00:42,  1.45s/it]"
     ]
    },
    {
     "name": "stdout",
     "output_type": "stream",
     "text": [
      "No main image div found in URL: https://www.nos.nl/artikel/2503309\n"
     ]
    },
    {
     "name": "stderr",
     "output_type": "stream",
     "text": [
      "Scraper going at...: 32it [00:46,  1.78s/it]"
     ]
    },
    {
     "name": "stdout",
     "output_type": "stream",
     "text": [
      "No figcaption found for images in URL: https://www.nos.nl/artikel/2503307\n"
     ]
    },
    {
     "name": "stderr",
     "output_type": "stream",
     "text": [
      "Scraper going at...: 34it [00:48,  1.41s/it]"
     ]
    },
    {
     "name": "stdout",
     "output_type": "stream",
     "text": [
      "No figcaption found for images in URL: https://www.nos.nl/artikel/2503302\n"
     ]
    },
    {
     "name": "stderr",
     "output_type": "stream",
     "text": [
      "Scraper going at...: 36it [00:51,  1.50s/it]"
     ]
    },
    {
     "name": "stdout",
     "output_type": "stream",
     "text": [
      "No figcaption found for images in URL: https://www.nos.nl/artikel/2503297\n"
     ]
    },
    {
     "name": "stderr",
     "output_type": "stream",
     "text": [
      "Scraper going at...: 42it [01:01,  1.54s/it]"
     ]
    },
    {
     "name": "stdout",
     "output_type": "stream",
     "text": [
      "No main image div found in URL: https://www.nos.nl/artikel/2503269\n"
     ]
    },
    {
     "name": "stderr",
     "output_type": "stream",
     "text": [
      "Scraper going at...: 43it [01:02,  1.40s/it]"
     ]
    },
    {
     "name": "stdout",
     "output_type": "stream",
     "text": [
      "No figcaption found for images in URL: https://www.nos.nl/artikel/2503267\n"
     ]
    },
    {
     "name": "stderr",
     "output_type": "stream",
     "text": [
      "Scraper going at...: 44it [01:03,  1.35s/it]"
     ]
    },
    {
     "name": "stdout",
     "output_type": "stream",
     "text": [
      "No figcaption found for images in URL: https://www.nos.nl/artikel/2503265\n"
     ]
    },
    {
     "name": "stderr",
     "output_type": "stream",
     "text": [
      "Scraper going at...: 45it [01:04,  1.25s/it]"
     ]
    },
    {
     "name": "stdout",
     "output_type": "stream",
     "text": [
      "No main image div found in URL: https://www.nos.nl/artikel/2503262\n"
     ]
    },
    {
     "name": "stderr",
     "output_type": "stream",
     "text": [
      "Scraper going at...: 49it [01:11,  1.51s/it]"
     ]
    },
    {
     "name": "stdout",
     "output_type": "stream",
     "text": [
      "No main image div found in URL: https://www.nos.nl/artikel/2503250\n"
     ]
    },
    {
     "name": "stderr",
     "output_type": "stream",
     "text": [
      "Scraper going at...: 51it [01:15,  1.75s/it]"
     ]
    },
    {
     "name": "stdout",
     "output_type": "stream",
     "text": [
      "No main image div found in URL: https://www.nos.nl/artikel/2503248\n"
     ]
    },
    {
     "name": "stderr",
     "output_type": "stream",
     "text": [
      "Scraper going at...: 53it [01:17,  1.38s/it]"
     ]
    },
    {
     "name": "stdout",
     "output_type": "stream",
     "text": [
      "No main image div found in URL: https://www.nos.nl/artikel/2503242\n"
     ]
    },
    {
     "name": "stderr",
     "output_type": "stream",
     "text": [
      "Scraper going at...: 63it [01:31,  1.37s/it]"
     ]
    },
    {
     "name": "stdout",
     "output_type": "stream",
     "text": [
      "No figcaption found for images in URL: https://www.nos.nl/artikel/2503222\n"
     ]
    },
    {
     "name": "stderr",
     "output_type": "stream",
     "text": [
      "Scraper going at...: 67it [01:36,  1.42s/it]"
     ]
    },
    {
     "name": "stdout",
     "output_type": "stream",
     "text": [
      "No figcaption found for images in URL: https://www.nos.nl/artikel/2503212\n"
     ]
    },
    {
     "name": "stderr",
     "output_type": "stream",
     "text": [
      "Scraper going at...: 70it [01:42,  1.75s/it]"
     ]
    },
    {
     "name": "stdout",
     "output_type": "stream",
     "text": [
      "No figcaption found for images in URL: https://www.nos.nl/artikel/2503205\n"
     ]
    },
    {
     "name": "stderr",
     "output_type": "stream",
     "text": [
      "Scraper going at...: 71it [01:44,  1.84s/it]"
     ]
    },
    {
     "name": "stdout",
     "output_type": "stream",
     "text": [
      "No figcaption found for images in URL: https://www.nos.nl/artikel/2503202\n"
     ]
    },
    {
     "name": "stderr",
     "output_type": "stream",
     "text": [
      "Scraper going at...: 84it [02:02,  1.20s/it]"
     ]
    },
    {
     "name": "stdout",
     "output_type": "stream",
     "text": [
      "No figcaption found for images in URL: https://www.nos.nl/artikel/2503183\n"
     ]
    },
    {
     "name": "stderr",
     "output_type": "stream",
     "text": [
      "Scraper going at...: 86it [02:09,  2.48s/it]"
     ]
    },
    {
     "name": "stdout",
     "output_type": "stream",
     "text": [
      "No main image div found in URL: https://www.nos.nl/artikel/2503178\n"
     ]
    },
    {
     "name": "stderr",
     "output_type": "stream",
     "text": [
      "Scraper going at...: 88it [02:12,  1.92s/it]"
     ]
    },
    {
     "name": "stdout",
     "output_type": "stream",
     "text": [
      "No figcaption found for images in URL: https://www.nos.nl/artikel/2503176\n"
     ]
    },
    {
     "name": "stderr",
     "output_type": "stream",
     "text": [
      "Scraper going at...: 89it [02:13,  1.69s/it]"
     ]
    },
    {
     "name": "stdout",
     "output_type": "stream",
     "text": [
      "No main image div found in URL: https://www.nos.nl/artikel/2503171\n"
     ]
    },
    {
     "name": "stderr",
     "output_type": "stream",
     "text": [
      "Scraper going at...: 94it [02:20,  1.59s/it]"
     ]
    },
    {
     "name": "stdout",
     "output_type": "stream",
     "text": [
      "No main image div found in URL: https://www.nos.nl/artikel/2503159\n"
     ]
    },
    {
     "name": "stderr",
     "output_type": "stream",
     "text": [
      "Scraper going at...: 97it [02:25,  1.52s/it]"
     ]
    },
    {
     "name": "stdout",
     "output_type": "stream",
     "text": [
      "No figcaption found for images in URL: https://www.nos.nl/artikel/2503149\n"
     ]
    },
    {
     "name": "stderr",
     "output_type": "stream",
     "text": [
      "Scraper going at...: 100it [02:29,  1.64s/it]"
     ]
    },
    {
     "name": "stdout",
     "output_type": "stream",
     "text": [
      "No figcaption found for images in URL: https://www.nos.nl/artikel/2503146\n"
     ]
    },
    {
     "name": "stderr",
     "output_type": "stream",
     "text": [
      "Scraper going at...: 108it [02:40,  1.50s/it]"
     ]
    },
    {
     "name": "stdout",
     "output_type": "stream",
     "text": [
      "No main image div found in URL: https://www.nos.nl/artikel/2503129\n"
     ]
    },
    {
     "name": "stderr",
     "output_type": "stream",
     "text": [
      "Scraper going at...: 109it [02:41,  1.33s/it]"
     ]
    },
    {
     "name": "stdout",
     "output_type": "stream",
     "text": [
      "No main image div found in URL: https://www.nos.nl/artikel/2503128\n"
     ]
    },
    {
     "name": "stderr",
     "output_type": "stream",
     "text": [
      "Scraper going at...: 110it [02:43,  1.32s/it]"
     ]
    },
    {
     "name": "stdout",
     "output_type": "stream",
     "text": [
      "No figcaption found for images in URL: https://www.nos.nl/artikel/2503126\n"
     ]
    },
    {
     "name": "stderr",
     "output_type": "stream",
     "text": [
      "Scraper going at...: 118it [02:59,  2.75s/it]"
     ]
    },
    {
     "name": "stdout",
     "output_type": "stream",
     "text": [
      "No main image div found in URL: https://www.nos.nl/artikel/2503109\n"
     ]
    },
    {
     "name": "stderr",
     "output_type": "stream",
     "text": [
      "Scraper going at...: 119it [03:00,  2.22s/it]"
     ]
    },
    {
     "name": "stdout",
     "output_type": "stream",
     "text": [
      "No main image div found in URL: https://www.nos.nl/artikel/2503105\n"
     ]
    },
    {
     "name": "stderr",
     "output_type": "stream",
     "text": [
      "Scraper going at...: 122it [03:05,  1.91s/it]"
     ]
    },
    {
     "name": "stdout",
     "output_type": "stream",
     "text": [
      "No figcaption found for images in URL: https://www.nos.nl/artikel/2503099\n"
     ]
    },
    {
     "name": "stderr",
     "output_type": "stream",
     "text": [
      "Scraper going at...: 126it [03:11,  1.76s/it]"
     ]
    },
    {
     "name": "stdout",
     "output_type": "stream",
     "text": [
      "No figcaption found for images in URL: https://www.nos.nl/artikel/2503089\n"
     ]
    },
    {
     "name": "stderr",
     "output_type": "stream",
     "text": [
      "Scraper going at...: 127it [03:13,  2.06s/it]"
     ]
    },
    {
     "name": "stdout",
     "output_type": "stream",
     "text": [
      "No figcaption found for images in URL: https://www.nos.nl/artikel/2503087\n"
     ]
    },
    {
     "name": "stderr",
     "output_type": "stream",
     "text": [
      "Scraper going at...: 128it [03:15,  2.09s/it]"
     ]
    },
    {
     "name": "stdout",
     "output_type": "stream",
     "text": [
      "No figcaption found for images in URL: https://www.nos.nl/artikel/2503085\n"
     ]
    },
    {
     "name": "stderr",
     "output_type": "stream",
     "text": [
      "Scraper going at...: 132it [03:21,  1.59s/it]"
     ]
    },
    {
     "name": "stdout",
     "output_type": "stream",
     "text": [
      "No figcaption found for images in URL: https://www.nos.nl/artikel/2503080\n"
     ]
    },
    {
     "name": "stderr",
     "output_type": "stream",
     "text": [
      "Scraper going at...: 135it [03:24,  1.21s/it]"
     ]
    },
    {
     "name": "stdout",
     "output_type": "stream",
     "text": [
      "No main image div found in URL: https://www.nos.nl/artikel/2503072\n"
     ]
    },
    {
     "name": "stderr",
     "output_type": "stream",
     "text": [
      "Scraper going at...: 137it [03:27,  1.21s/it]"
     ]
    },
    {
     "name": "stdout",
     "output_type": "stream",
     "text": [
      "No main image div found in URL: https://www.nos.nl/artikel/2503064\n"
     ]
    },
    {
     "name": "stderr",
     "output_type": "stream",
     "text": [
      "Scraper going at...: 138it [03:28,  1.20s/it]"
     ]
    },
    {
     "name": "stdout",
     "output_type": "stream",
     "text": [
      "No figcaption found for images in URL: https://www.nos.nl/artikel/2503062\n"
     ]
    },
    {
     "name": "stderr",
     "output_type": "stream",
     "text": [
      "Scraper going at...: 141it [03:33,  1.37s/it]"
     ]
    },
    {
     "name": "stdout",
     "output_type": "stream",
     "text": [
      "No main image div found in URL: https://www.nos.nl/artikel/2503049\n"
     ]
    },
    {
     "name": "stderr",
     "output_type": "stream",
     "text": [
      "Scraper going at...: 142it [03:34,  1.40s/it]"
     ]
    },
    {
     "name": "stdout",
     "output_type": "stream",
     "text": [
      "No figcaption found for images in URL: https://www.nos.nl/artikel/2503048\n"
     ]
    },
    {
     "name": "stderr",
     "output_type": "stream",
     "text": [
      "Scraper going at...: 143it [03:35,  1.26s/it]"
     ]
    },
    {
     "name": "stdout",
     "output_type": "stream",
     "text": [
      "No figcaption found for images in URL: https://www.nos.nl/artikel/2503047\n"
     ]
    },
    {
     "name": "stderr",
     "output_type": "stream",
     "text": [
      "Scraper going at...: 146it [03:40,  1.52s/it]"
     ]
    },
    {
     "name": "stdout",
     "output_type": "stream",
     "text": [
      "No figcaption found for images in URL: https://www.nos.nl/artikel/2503040\n"
     ]
    },
    {
     "name": "stderr",
     "output_type": "stream",
     "text": [
      "Scraper going at...: 147it [03:42,  1.50s/it]"
     ]
    },
    {
     "name": "stdout",
     "output_type": "stream",
     "text": [
      "No figcaption found for images in URL: https://www.nos.nl/artikel/2503039\n"
     ]
    },
    {
     "name": "stderr",
     "output_type": "stream",
     "text": [
      "Scraper going at...: 150it [03:47,  1.44s/it]"
     ]
    },
    {
     "name": "stdout",
     "output_type": "stream",
     "text": [
      "No figcaption found for images in URL: https://www.nos.nl/artikel/2503030\n"
     ]
    },
    {
     "name": "stderr",
     "output_type": "stream",
     "text": [
      "Scraper going at...: 152it [03:49,  1.20s/it]"
     ]
    },
    {
     "name": "stdout",
     "output_type": "stream",
     "text": [
      "No figcaption found for images in URL: https://www.nos.nl/artikel/2503024\n"
     ]
    },
    {
     "name": "stderr",
     "output_type": "stream",
     "text": [
      "Scraper going at...: 160it [03:58,  1.16s/it]"
     ]
    },
    {
     "name": "stdout",
     "output_type": "stream",
     "text": [
      "No figcaption found for images in URL: https://www.nos.nl/artikel/2503006\n"
     ]
    },
    {
     "name": "stderr",
     "output_type": "stream",
     "text": [
      "Scraper going at...: 161it [03:59,  1.10s/it]"
     ]
    },
    {
     "name": "stdout",
     "output_type": "stream",
     "text": [
      "No figcaption found for images in URL: https://www.nos.nl/artikel/2503002\n"
     ]
    },
    {
     "name": "stderr",
     "output_type": "stream",
     "text": [
      "Scraper going at...: 162it [04:00,  1.07s/it]"
     ]
    },
    {
     "name": "stdout",
     "output_type": "stream",
     "text": [
      "No figcaption found for images in URL: https://www.nos.nl/artikel/2503000\n"
     ]
    },
    {
     "name": "stderr",
     "output_type": "stream",
     "text": [
      "Scraper going at...: 163it [04:01,  1.04s/it]"
     ]
    },
    {
     "name": "stdout",
     "output_type": "stream",
     "text": [
      "No figcaption found for images in URL: https://www.nos.nl/artikel/2502997\n"
     ]
    },
    {
     "name": "stderr",
     "output_type": "stream",
     "text": [
      "Scraper going at...: 165it [04:05,  1.57s/it]"
     ]
    },
    {
     "name": "stdout",
     "output_type": "stream",
     "text": [
      "No figcaption found for images in URL: https://www.nos.nl/artikel/2502994\n"
     ]
    },
    {
     "name": "stderr",
     "output_type": "stream",
     "text": [
      "Scraper going at...: 169it [04:11,  1.47s/it]"
     ]
    },
    {
     "name": "stdout",
     "output_type": "stream",
     "text": [
      "No figcaption found for images in URL: https://www.nos.nl/artikel/2502982\n"
     ]
    },
    {
     "name": "stderr",
     "output_type": "stream",
     "text": [
      "Scraper going at...: 170it [04:12,  1.34s/it]"
     ]
    },
    {
     "name": "stdout",
     "output_type": "stream",
     "text": [
      "No figcaption found for images in URL: https://www.nos.nl/artikel/2502981\n"
     ]
    },
    {
     "name": "stderr",
     "output_type": "stream",
     "text": [
      "Scraper going at...: 171it [04:13,  1.24s/it]"
     ]
    },
    {
     "name": "stdout",
     "output_type": "stream",
     "text": [
      "No main image div found in URL: https://www.nos.nl/artikel/2502980\n"
     ]
    },
    {
     "name": "stderr",
     "output_type": "stream",
     "text": [
      "Scraper going at...: 182it [04:29,  1.56s/it]"
     ]
    },
    {
     "name": "stdout",
     "output_type": "stream",
     "text": [
      "No figcaption found for images in URL: https://www.nos.nl/artikel/2502963\n"
     ]
    },
    {
     "name": "stderr",
     "output_type": "stream",
     "text": [
      "Scraper going at...: 183it [04:31,  1.55s/it]"
     ]
    },
    {
     "name": "stdout",
     "output_type": "stream",
     "text": [
      "No main image div found in URL: https://www.nos.nl/artikel/2502962\n"
     ]
    },
    {
     "name": "stderr",
     "output_type": "stream",
     "text": [
      "Scraper going at...: 184it [04:33,  1.81s/it]"
     ]
    },
    {
     "name": "stdout",
     "output_type": "stream",
     "text": [
      "No figcaption found for images in URL: https://www.nos.nl/artikel/2502961\n"
     ]
    },
    {
     "name": "stderr",
     "output_type": "stream",
     "text": [
      "Scraper going at...: 186it [04:37,  2.00s/it]"
     ]
    },
    {
     "name": "stdout",
     "output_type": "stream",
     "text": [
      "No main image div found in URL: https://www.nos.nl/artikel/2502957\n"
     ]
    },
    {
     "name": "stderr",
     "output_type": "stream",
     "text": [
      "Scraper going at...: 193it [04:48,  1.76s/it]"
     ]
    },
    {
     "name": "stdout",
     "output_type": "stream",
     "text": [
      "No figcaption found for images in URL: https://www.nos.nl/artikel/2502940\n"
     ]
    },
    {
     "name": "stderr",
     "output_type": "stream",
     "text": [
      "Scraper going at...: 194it [04:50,  1.56s/it]"
     ]
    },
    {
     "name": "stdout",
     "output_type": "stream",
     "text": [
      "No figcaption found for images in URL: https://www.nos.nl/artikel/2502939\n"
     ]
    },
    {
     "name": "stderr",
     "output_type": "stream",
     "text": [
      "Scraper going at...: 198it [04:56,  1.51s/it]"
     ]
    },
    {
     "name": "stdout",
     "output_type": "stream",
     "text": [
      "No figcaption found for images in URL: https://www.nos.nl/artikel/2502927\n"
     ]
    },
    {
     "name": "stderr",
     "output_type": "stream",
     "text": [
      "Scraper going at...: 199it [04:57,  1.43s/it]"
     ]
    },
    {
     "name": "stdout",
     "output_type": "stream",
     "text": [
      "No figcaption found for images in URL: https://www.nos.nl/artikel/2502926\n"
     ]
    },
    {
     "name": "stderr",
     "output_type": "stream",
     "text": [
      "Scraper going at...: 200it [04:58,  1.29s/it]"
     ]
    },
    {
     "name": "stdout",
     "output_type": "stream",
     "text": [
      "No figcaption found for images in URL: https://www.nos.nl/artikel/2502924\n"
     ]
    },
    {
     "name": "stderr",
     "output_type": "stream",
     "text": [
      "Scraper going at...: 202it [05:00,  1.12s/it]"
     ]
    },
    {
     "name": "stdout",
     "output_type": "stream",
     "text": [
      "No main image div found in URL: https://www.nos.nl/artikel/2502922\n"
     ]
    },
    {
     "name": "stderr",
     "output_type": "stream",
     "text": [
      "Scraper going at...: 205it [05:04,  1.26s/it]"
     ]
    },
    {
     "name": "stdout",
     "output_type": "stream",
     "text": [
      "No figcaption found for images in URL: https://www.nos.nl/artikel/2502915\n"
     ]
    },
    {
     "name": "stderr",
     "output_type": "stream",
     "text": [
      "Scraper going at...: 206it [05:07,  1.84s/it]"
     ]
    },
    {
     "name": "stdout",
     "output_type": "stream",
     "text": [
      "No main image div found in URL: https://www.nos.nl/artikel/2502914\n"
     ]
    },
    {
     "name": "stderr",
     "output_type": "stream",
     "text": [
      "Scraper going at...: 207it [05:08,  1.58s/it]"
     ]
    },
    {
     "name": "stdout",
     "output_type": "stream",
     "text": [
      "No figcaption found for images in URL: https://www.nos.nl/artikel/2502907\n"
     ]
    },
    {
     "name": "stderr",
     "output_type": "stream",
     "text": [
      "Scraper going at...: 210it [05:13,  1.54s/it]"
     ]
    },
    {
     "name": "stdout",
     "output_type": "stream",
     "text": [
      "No figcaption found for images in URL: https://www.nos.nl/artikel/2502903\n"
     ]
    },
    {
     "name": "stderr",
     "output_type": "stream",
     "text": [
      "Scraper going at...: 215it [05:19,  1.32s/it]"
     ]
    },
    {
     "name": "stdout",
     "output_type": "stream",
     "text": [
      "No figcaption found for images in URL: https://www.nos.nl/artikel/2502885\n"
     ]
    },
    {
     "name": "stderr",
     "output_type": "stream",
     "text": [
      "Scraper going at...: 216it [05:21,  1.38s/it]"
     ]
    },
    {
     "name": "stdout",
     "output_type": "stream",
     "text": [
      "No main image div found in URL: https://www.nos.nl/artikel/2502884\n"
     ]
    },
    {
     "name": "stderr",
     "output_type": "stream",
     "text": [
      "Scraper going at...: 224it [05:32,  1.58s/it]"
     ]
    },
    {
     "name": "stdout",
     "output_type": "stream",
     "text": [
      "No figcaption found for images in URL: https://www.nos.nl/artikel/2502873\n"
     ]
    },
    {
     "name": "stderr",
     "output_type": "stream",
     "text": [
      "Scraper going at...: 225it [05:34,  1.50s/it]"
     ]
    },
    {
     "name": "stdout",
     "output_type": "stream",
     "text": [
      "No figcaption found for images in URL: https://www.nos.nl/artikel/2502872\n"
     ]
    },
    {
     "name": "stderr",
     "output_type": "stream",
     "text": [
      "Scraper going at...: 227it [05:36,  1.45s/it]"
     ]
    },
    {
     "name": "stdout",
     "output_type": "stream",
     "text": [
      "No figcaption found for images in URL: https://www.nos.nl/artikel/2502869\n"
     ]
    },
    {
     "name": "stderr",
     "output_type": "stream",
     "text": [
      "Scraper going at...: 228it [05:39,  1.82s/it]"
     ]
    },
    {
     "name": "stdout",
     "output_type": "stream",
     "text": [
      "No figcaption found for images in URL: https://www.nos.nl/artikel/2502864\n"
     ]
    },
    {
     "name": "stderr",
     "output_type": "stream",
     "text": [
      "Scraper going at...: 229it [05:41,  1.94s/it]"
     ]
    },
    {
     "name": "stdout",
     "output_type": "stream",
     "text": [
      "No figcaption found for images in URL: https://www.nos.nl/artikel/2502863\n"
     ]
    },
    {
     "name": "stderr",
     "output_type": "stream",
     "text": [
      "Scraper going at...: 230it [05:42,  1.69s/it]"
     ]
    },
    {
     "name": "stdout",
     "output_type": "stream",
     "text": [
      "No figcaption found for images in URL: https://www.nos.nl/artikel/2502862\n"
     ]
    },
    {
     "name": "stderr",
     "output_type": "stream",
     "text": [
      "Scraper going at...: 232it [05:46,  1.75s/it]"
     ]
    },
    {
     "name": "stdout",
     "output_type": "stream",
     "text": [
      "No figcaption found for images in URL: https://www.nos.nl/artikel/2502854\n"
     ]
    },
    {
     "name": "stderr",
     "output_type": "stream",
     "text": [
      "Scraper going at...: 233it [05:47,  1.52s/it]"
     ]
    },
    {
     "name": "stdout",
     "output_type": "stream",
     "text": [
      "No main image div found in URL: https://www.nos.nl/artikel/2502853\n"
     ]
    },
    {
     "name": "stderr",
     "output_type": "stream",
     "text": [
      "Scraper going at...: 235it [05:49,  1.39s/it]"
     ]
    },
    {
     "name": "stdout",
     "output_type": "stream",
     "text": [
      "No figcaption found for images in URL: https://www.nos.nl/artikel/2502848\n"
     ]
    },
    {
     "name": "stderr",
     "output_type": "stream",
     "text": [
      "Scraper going at...: 236it [05:51,  1.34s/it]"
     ]
    },
    {
     "name": "stdout",
     "output_type": "stream",
     "text": [
      "No main image div found in URL: https://www.nos.nl/artikel/2502845\n"
     ]
    },
    {
     "name": "stderr",
     "output_type": "stream",
     "text": [
      "Scraper going at...: 239it [05:57,  1.69s/it]"
     ]
    },
    {
     "name": "stdout",
     "output_type": "stream",
     "text": [
      "No figcaption found for images in URL: https://www.nos.nl/artikel/2502839\n"
     ]
    },
    {
     "name": "stderr",
     "output_type": "stream",
     "text": [
      "Scraper going at...: 242it [06:00,  1.25s/it]"
     ]
    },
    {
     "name": "stdout",
     "output_type": "stream",
     "text": [
      "No figcaption found for images in URL: https://www.nos.nl/artikel/2502832\n"
     ]
    },
    {
     "name": "stderr",
     "output_type": "stream",
     "text": [
      "Scraper going at...: 252it [06:18,  1.56s/it]"
     ]
    },
    {
     "name": "stdout",
     "output_type": "stream",
     "text": [
      "No figcaption found for images in URL: https://www.nos.nl/artikel/2502808\n"
     ]
    },
    {
     "name": "stderr",
     "output_type": "stream",
     "text": [
      "Scraper going at...: 273it [06:51,  2.02s/it]"
     ]
    },
    {
     "name": "stdout",
     "output_type": "stream",
     "text": [
      "No figcaption found for images in URL: https://www.nos.nl/artikel/2502758\n"
     ]
    },
    {
     "name": "stderr",
     "output_type": "stream",
     "text": [
      "Scraper going at...: 274it [06:53,  2.07s/it]"
     ]
    },
    {
     "name": "stdout",
     "output_type": "stream",
     "text": [
      "No figcaption found for images in URL: https://www.nos.nl/artikel/2502757\n"
     ]
    },
    {
     "name": "stderr",
     "output_type": "stream",
     "text": [
      "Scraper going at...: 280it [07:03,  1.77s/it]"
     ]
    },
    {
     "name": "stdout",
     "output_type": "stream",
     "text": [
      "No figcaption found for images in URL: https://www.nos.nl/artikel/2502747\n"
     ]
    },
    {
     "name": "stderr",
     "output_type": "stream",
     "text": [
      "Scraper going at...: 296it [07:28,  1.41s/it]"
     ]
    },
    {
     "name": "stdout",
     "output_type": "stream",
     "text": [
      "No main image div found in URL: https://www.nos.nl/artikel/2502707\n"
     ]
    },
    {
     "name": "stderr",
     "output_type": "stream",
     "text": [
      "Scraper going at...: 301it [07:34,  1.15s/it]"
     ]
    },
    {
     "name": "stdout",
     "output_type": "stream",
     "text": [
      "No figcaption found for images in URL: https://www.nos.nl/artikel/2502700\n"
     ]
    },
    {
     "name": "stderr",
     "output_type": "stream",
     "text": [
      "Scraper going at...: 303it [07:36,  1.12s/it]"
     ]
    },
    {
     "name": "stdout",
     "output_type": "stream",
     "text": [
      "No figcaption found for images in URL: https://www.nos.nl/artikel/2502694\n"
     ]
    },
    {
     "name": "stderr",
     "output_type": "stream",
     "text": [
      "Scraper going at...: 305it [07:38,  1.07s/it]"
     ]
    },
    {
     "name": "stdout",
     "output_type": "stream",
     "text": [
      "No main image div found in URL: https://www.nos.nl/artikel/2502685\n"
     ]
    },
    {
     "name": "stderr",
     "output_type": "stream",
     "text": [
      "Scraper going at...: 312it [07:47,  1.20s/it]"
     ]
    },
    {
     "name": "stdout",
     "output_type": "stream",
     "text": [
      "No figcaption found for images in URL: https://www.nos.nl/artikel/2502672\n"
     ]
    },
    {
     "name": "stderr",
     "output_type": "stream",
     "text": [
      "Scraper going at...: 313it [07:48,  1.14s/it]"
     ]
    },
    {
     "name": "stdout",
     "output_type": "stream",
     "text": [
      "No figcaption found for images in URL: https://www.nos.nl/artikel/2502667\n"
     ]
    },
    {
     "name": "stderr",
     "output_type": "stream",
     "text": [
      "Scraper going at...: 315it [07:50,  1.10s/it]"
     ]
    },
    {
     "name": "stdout",
     "output_type": "stream",
     "text": [
      "No main image div found in URL: https://www.nos.nl/artikel/2502658\n"
     ]
    },
    {
     "name": "stderr",
     "output_type": "stream",
     "text": [
      "Scraper going at...: 326it [08:04,  1.19s/it]"
     ]
    },
    {
     "name": "stdout",
     "output_type": "stream",
     "text": [
      "No main image div found in URL: https://www.nos.nl/artikel/2502636\n"
     ]
    },
    {
     "name": "stderr",
     "output_type": "stream",
     "text": [
      "Scraper going at...: 334it [08:16,  1.57s/it]"
     ]
    },
    {
     "name": "stdout",
     "output_type": "stream",
     "text": [
      "No figcaption found for images in URL: https://www.nos.nl/artikel/2502621\n"
     ]
    },
    {
     "name": "stderr",
     "output_type": "stream",
     "text": [
      "Scraper going at...: 335it [08:22,  2.67s/it]"
     ]
    },
    {
     "name": "stdout",
     "output_type": "stream",
     "text": [
      "No main image div found in URL: https://www.nos.nl/artikel/2502620\n"
     ]
    },
    {
     "name": "stderr",
     "output_type": "stream",
     "text": [
      "Scraper going at...: 341it [08:30,  1.65s/it]"
     ]
    },
    {
     "name": "stdout",
     "output_type": "stream",
     "text": [
      "No figcaption found for images in URL: https://www.nos.nl/artikel/2502612\n"
     ]
    },
    {
     "name": "stderr",
     "output_type": "stream",
     "text": [
      "Scraper going at...: 343it [08:32,  1.40s/it]"
     ]
    },
    {
     "name": "stdout",
     "output_type": "stream",
     "text": [
      "No figcaption found for images in URL: https://www.nos.nl/artikel/2502607\n"
     ]
    },
    {
     "name": "stderr",
     "output_type": "stream",
     "text": [
      "Scraper going at...: 344it [08:33,  1.28s/it]"
     ]
    },
    {
     "name": "stdout",
     "output_type": "stream",
     "text": [
      "No figcaption found for images in URL: https://www.nos.nl/artikel/2502604\n"
     ]
    },
    {
     "name": "stderr",
     "output_type": "stream",
     "text": [
      "Scraper going at...: 346it [08:36,  1.39s/it]"
     ]
    },
    {
     "name": "stdout",
     "output_type": "stream",
     "text": [
      "No main image div found in URL: https://www.nos.nl/artikel/2502600\n"
     ]
    },
    {
     "name": "stderr",
     "output_type": "stream",
     "text": [
      "Scraper going at...: 361it [08:57,  1.11s/it]"
     ]
    },
    {
     "name": "stdout",
     "output_type": "stream",
     "text": [
      "No figcaption found for images in URL: https://www.nos.nl/artikel/2502571\n"
     ]
    },
    {
     "name": "stderr",
     "output_type": "stream",
     "text": [
      "Scraper going at...: 362it [08:58,  1.09s/it]"
     ]
    },
    {
     "name": "stdout",
     "output_type": "stream",
     "text": [
      "No figcaption found for images in URL: https://www.nos.nl/artikel/2502569\n"
     ]
    },
    {
     "name": "stderr",
     "output_type": "stream",
     "text": [
      "Scraper going at...: 363it [09:00,  1.47s/it]"
     ]
    },
    {
     "name": "stdout",
     "output_type": "stream",
     "text": [
      "No figcaption found for images in URL: https://www.nos.nl/artikel/2502568\n"
     ]
    },
    {
     "name": "stderr",
     "output_type": "stream",
     "text": [
      "Scraper going at...: 368it [09:07,  1.34s/it]"
     ]
    },
    {
     "name": "stdout",
     "output_type": "stream",
     "text": [
      "No figcaption found for images in URL: https://www.nos.nl/artikel/2502555\n"
     ]
    },
    {
     "name": "stderr",
     "output_type": "stream",
     "text": [
      "Scraper going at...: 369it [09:08,  1.40s/it]"
     ]
    },
    {
     "name": "stdout",
     "output_type": "stream",
     "text": [
      "No main image div found in URL: https://www.nos.nl/artikel/2502554\n"
     ]
    },
    {
     "name": "stderr",
     "output_type": "stream",
     "text": [
      "Scraper going at...: 370it [09:10,  1.49s/it]"
     ]
    },
    {
     "name": "stdout",
     "output_type": "stream",
     "text": [
      "No figcaption found for images in URL: https://www.nos.nl/artikel/2502553\n"
     ]
    },
    {
     "name": "stderr",
     "output_type": "stream",
     "text": [
      "Scraper going at...: 371it [09:12,  1.75s/it]"
     ]
    },
    {
     "name": "stdout",
     "output_type": "stream",
     "text": [
      "No figcaption found for images in URL: https://www.nos.nl/artikel/2502551\n"
     ]
    },
    {
     "name": "stderr",
     "output_type": "stream",
     "text": [
      "Scraper going at...: 376it [09:18,  1.14s/it]"
     ]
    },
    {
     "name": "stdout",
     "output_type": "stream",
     "text": [
      "No main image div found in URL: https://www.nos.nl/artikel/2502545\n"
     ]
    },
    {
     "name": "stderr",
     "output_type": "stream",
     "text": [
      "Scraper going at...: 380it [09:23,  1.27s/it]"
     ]
    },
    {
     "name": "stdout",
     "output_type": "stream",
     "text": [
      "No main image div found in URL: https://www.nos.nl/artikel/2502528\n"
     ]
    },
    {
     "name": "stderr",
     "output_type": "stream",
     "text": [
      "Scraper going at...: 394it [09:47,  1.22s/it]"
     ]
    },
    {
     "name": "stdout",
     "output_type": "stream",
     "text": [
      "No figcaption found for images in URL: https://www.nos.nl/artikel/2502487\n"
     ]
    },
    {
     "name": "stderr",
     "output_type": "stream",
     "text": [
      "Scraper going at...: 418it [10:19,  1.49s/it]"
     ]
    },
    {
     "name": "stdout",
     "output_type": "stream",
     "text": [
      "No figcaption found for images in URL: https://www.nos.nl/artikel/2502437\n"
     ]
    },
    {
     "name": "stderr",
     "output_type": "stream",
     "text": [
      "Scraper going at...: 419it [10:21,  1.78s/it]"
     ]
    },
    {
     "name": "stdout",
     "output_type": "stream",
     "text": [
      "No figcaption found for images in URL: https://www.nos.nl/artikel/2502435\n"
     ]
    },
    {
     "name": "stderr",
     "output_type": "stream",
     "text": [
      "Scraper going at...: 427it [10:31,  1.14s/it]"
     ]
    },
    {
     "name": "stdout",
     "output_type": "stream",
     "text": [
      "No figcaption found for images in URL: https://www.nos.nl/artikel/2502420\n"
     ]
    },
    {
     "name": "stderr",
     "output_type": "stream",
     "text": [
      "Scraper going at...: 436it [10:44,  1.39s/it]"
     ]
    },
    {
     "name": "stdout",
     "output_type": "stream",
     "text": [
      "No figcaption found for images in URL: https://www.nos.nl/artikel/2502405\n"
     ]
    },
    {
     "name": "stderr",
     "output_type": "stream",
     "text": [
      "Scraper going at...: 449it [11:08,  1.84s/it]"
     ]
    },
    {
     "name": "stdout",
     "output_type": "stream",
     "text": [
      "No figcaption found for images in URL: https://www.nos.nl/artikel/2502374\n"
     ]
    },
    {
     "name": "stderr",
     "output_type": "stream",
     "text": [
      "Scraper going at...: 458it [11:20,  1.74s/it]"
     ]
    },
    {
     "name": "stdout",
     "output_type": "stream",
     "text": [
      "No figcaption found for images in URL: https://www.nos.nl/artikel/2502352\n"
     ]
    },
    {
     "name": "stderr",
     "output_type": "stream",
     "text": [
      "Scraper going at...: 460it [11:22,  1.49s/it]"
     ]
    },
    {
     "name": "stdout",
     "output_type": "stream",
     "text": [
      "No figcaption found for images in URL: https://www.nos.nl/artikel/2502349\n"
     ]
    },
    {
     "name": "stderr",
     "output_type": "stream",
     "text": [
      "Scraper going at...: 463it [11:27,  1.47s/it]"
     ]
    },
    {
     "name": "stdout",
     "output_type": "stream",
     "text": [
      "No figcaption found for images in URL: https://www.nos.nl/artikel/2502346\n"
     ]
    },
    {
     "name": "stderr",
     "output_type": "stream",
     "text": [
      "Scraper going at...: 464it [11:28,  1.32s/it]"
     ]
    },
    {
     "name": "stdout",
     "output_type": "stream",
     "text": [
      "No figcaption found for images in URL: https://www.nos.nl/artikel/2502345\n"
     ]
    },
    {
     "name": "stderr",
     "output_type": "stream",
     "text": [
      "Scraper going at...: 479it [11:46,  1.32s/it]"
     ]
    },
    {
     "name": "stdout",
     "output_type": "stream",
     "text": [
      "No main image div found in URL: https://www.nos.nl/artikel/2502307\n"
     ]
    },
    {
     "name": "stderr",
     "output_type": "stream",
     "text": [
      "Scraper going at...: 484it [11:53,  1.27s/it]"
     ]
    },
    {
     "name": "stdout",
     "output_type": "stream",
     "text": [
      "No figcaption found for images in URL: https://www.nos.nl/artikel/2502297\n"
     ]
    },
    {
     "name": "stderr",
     "output_type": "stream",
     "text": [
      "Scraper going at...: 487it [11:58,  1.64s/it]"
     ]
    },
    {
     "name": "stdout",
     "output_type": "stream",
     "text": [
      "No figcaption found for images in URL: https://www.nos.nl/artikel/2502283\n"
     ]
    },
    {
     "name": "stderr",
     "output_type": "stream",
     "text": [
      "Scraper going at...: 495it [12:08,  1.35s/it]"
     ]
    },
    {
     "name": "stdout",
     "output_type": "stream",
     "text": [
      "No figcaption found for images in URL: https://www.nos.nl/artikel/2502270\n"
     ]
    },
    {
     "name": "stderr",
     "output_type": "stream",
     "text": [
      "Scraper going at...: 512it [12:28,  1.14s/it]"
     ]
    },
    {
     "name": "stdout",
     "output_type": "stream",
     "text": [
      "No main image div found in URL: https://www.nos.nl/artikel/2502240\n"
     ]
    },
    {
     "name": "stderr",
     "output_type": "stream",
     "text": [
      "Scraper going at...: 513it [12:29,  1.08s/it]"
     ]
    },
    {
     "name": "stdout",
     "output_type": "stream",
     "text": [
      "No figcaption found for images in URL: https://www.nos.nl/artikel/2502239\n"
     ]
    },
    {
     "name": "stderr",
     "output_type": "stream",
     "text": [
      "Scraper going at...: 519it [12:38,  1.43s/it]"
     ]
    },
    {
     "name": "stdout",
     "output_type": "stream",
     "text": [
      "No figcaption found for images in URL: https://www.nos.nl/artikel/2502218\n"
     ]
    },
    {
     "name": "stderr",
     "output_type": "stream",
     "text": [
      "Scraper going at...: 521it [12:40,  1.25s/it]"
     ]
    },
    {
     "name": "stdout",
     "output_type": "stream",
     "text": [
      "No main image div found in URL: https://www.nos.nl/artikel/2502216\n"
     ]
    },
    {
     "name": "stderr",
     "output_type": "stream",
     "text": [
      "Scraper going at...: 525it [12:45,  1.30s/it]"
     ]
    },
    {
     "name": "stdout",
     "output_type": "stream",
     "text": [
      "No figcaption found for images in URL: https://www.nos.nl/artikel/2502210\n"
     ]
    },
    {
     "name": "stderr",
     "output_type": "stream",
     "text": [
      "Scraper going at...: 529it [12:49,  1.15s/it]"
     ]
    },
    {
     "name": "stdout",
     "output_type": "stream",
     "text": [
      "No figcaption found for images in URL: https://www.nos.nl/artikel/2502205\n"
     ]
    },
    {
     "name": "stderr",
     "output_type": "stream",
     "text": [
      "Scraper going at...: 532it [12:54,  1.34s/it]"
     ]
    },
    {
     "name": "stdout",
     "output_type": "stream",
     "text": [
      "No figcaption found for images in URL: https://www.nos.nl/artikel/2502198\n"
     ]
    },
    {
     "name": "stderr",
     "output_type": "stream",
     "text": [
      "Scraper going at...: 533it [12:55,  1.22s/it]"
     ]
    },
    {
     "name": "stdout",
     "output_type": "stream",
     "text": [
      "No figcaption found for images in URL: https://www.nos.nl/artikel/2502196\n"
     ]
    },
    {
     "name": "stderr",
     "output_type": "stream",
     "text": [
      "Scraper going at...: 534it [12:56,  1.27s/it]"
     ]
    },
    {
     "name": "stdout",
     "output_type": "stream",
     "text": [
      "No figcaption found for images in URL: https://www.nos.nl/artikel/2502195\n"
     ]
    },
    {
     "name": "stderr",
     "output_type": "stream",
     "text": [
      "Scraper going at...: 538it [13:02,  1.38s/it]"
     ]
    },
    {
     "name": "stdout",
     "output_type": "stream",
     "text": [
      "No figcaption found for images in URL: https://www.nos.nl/artikel/2502190\n"
     ]
    },
    {
     "name": "stderr",
     "output_type": "stream",
     "text": [
      "Scraper going at...: 539it [13:03,  1.28s/it]"
     ]
    },
    {
     "name": "stdout",
     "output_type": "stream",
     "text": [
      "No figcaption found for images in URL: https://www.nos.nl/artikel/2502189\n"
     ]
    },
    {
     "name": "stderr",
     "output_type": "stream",
     "text": [
      "Scraper going at...: 540it [13:04,  1.33s/it]"
     ]
    },
    {
     "name": "stdout",
     "output_type": "stream",
     "text": [
      "No figcaption found for images in URL: https://www.nos.nl/artikel/2502188\n"
     ]
    },
    {
     "name": "stderr",
     "output_type": "stream",
     "text": [
      "Scraper going at...: 542it [13:07,  1.32s/it]"
     ]
    },
    {
     "name": "stdout",
     "output_type": "stream",
     "text": [
      "No figcaption found for images in URL: https://www.nos.nl/artikel/2502186\n"
     ]
    },
    {
     "name": "stderr",
     "output_type": "stream",
     "text": [
      "Scraper going at...: 544it [13:09,  1.23s/it]"
     ]
    },
    {
     "name": "stdout",
     "output_type": "stream",
     "text": [
      "No figcaption found for images in URL: https://www.nos.nl/artikel/2502179\n"
     ]
    },
    {
     "name": "stderr",
     "output_type": "stream",
     "text": [
      "Scraper going at...: 547it [13:12,  1.10s/it]"
     ]
    },
    {
     "name": "stdout",
     "output_type": "stream",
     "text": [
      "No figcaption found for images in URL: https://www.nos.nl/artikel/2502174\n"
     ]
    },
    {
     "name": "stderr",
     "output_type": "stream",
     "text": [
      "Scraper going at...: 548it [13:13,  1.08s/it]"
     ]
    },
    {
     "name": "stdout",
     "output_type": "stream",
     "text": [
      "No main image div found in URL: https://www.nos.nl/artikel/2502170\n"
     ]
    },
    {
     "name": "stderr",
     "output_type": "stream",
     "text": [
      "Scraper going at...: 549it [13:15,  1.14s/it]"
     ]
    },
    {
     "name": "stdout",
     "output_type": "stream",
     "text": [
      "No figcaption found for images in URL: https://www.nos.nl/artikel/2502169\n"
     ]
    },
    {
     "name": "stderr",
     "output_type": "stream",
     "text": [
      "Scraper going at...: 552it [13:19,  1.21s/it]"
     ]
    },
    {
     "name": "stdout",
     "output_type": "stream",
     "text": [
      "No main image div found in URL: https://www.nos.nl/artikel/2502164\n"
     ]
    },
    {
     "name": "stderr",
     "output_type": "stream",
     "text": [
      "Scraper going at...: 554it [13:21,  1.09s/it]"
     ]
    },
    {
     "name": "stdout",
     "output_type": "stream",
     "text": [
      "No main image div found in URL: https://www.nos.nl/artikel/2502159\n"
     ]
    },
    {
     "name": "stderr",
     "output_type": "stream",
     "text": [
      "Scraper going at...: 560it [13:28,  1.20s/it]"
     ]
    },
    {
     "name": "stdout",
     "output_type": "stream",
     "text": [
      "No figcaption found for images in URL: https://www.nos.nl/artikel/2502137\n"
     ]
    },
    {
     "name": "stderr",
     "output_type": "stream",
     "text": [
      "Scraper going at...: 564it [13:32,  1.01s/it]"
     ]
    },
    {
     "name": "stdout",
     "output_type": "stream",
     "text": [
      "No figcaption found for images in URL: https://www.nos.nl/artikel/2502128\n"
     ]
    },
    {
     "name": "stderr",
     "output_type": "stream",
     "text": [
      "Scraper going at...: 576it [13:47,  1.26s/it]"
     ]
    },
    {
     "name": "stdout",
     "output_type": "stream",
     "text": [
      "No figcaption found for images in URL: https://www.nos.nl/artikel/2502099\n"
     ]
    },
    {
     "name": "stderr",
     "output_type": "stream",
     "text": [
      "Scraper going at...: 584it [13:57,  1.46s/it]"
     ]
    },
    {
     "name": "stdout",
     "output_type": "stream",
     "text": [
      "No figcaption found for images in URL: https://www.nos.nl/artikel/2502085\n"
     ]
    },
    {
     "name": "stderr",
     "output_type": "stream",
     "text": [
      "Scraper going at...: 601it [14:22,  1.34s/it]"
     ]
    },
    {
     "name": "stdout",
     "output_type": "stream",
     "text": [
      "No figcaption found for images in URL: https://www.nos.nl/artikel/2502061\n"
     ]
    },
    {
     "name": "stderr",
     "output_type": "stream",
     "text": [
      "Scraper going at...: 602it [14:24,  1.34s/it]"
     ]
    },
    {
     "name": "stdout",
     "output_type": "stream",
     "text": [
      "No main image div found in URL: https://www.nos.nl/artikel/2502060\n"
     ]
    },
    {
     "name": "stderr",
     "output_type": "stream",
     "text": [
      "Scraper going at...: 607it [14:31,  1.66s/it]"
     ]
    },
    {
     "name": "stdout",
     "output_type": "stream",
     "text": [
      "No figcaption found for images in URL: https://www.nos.nl/artikel/2502048\n"
     ]
    },
    {
     "name": "stderr",
     "output_type": "stream",
     "text": [
      "Scraper going at...: 610it [14:35,  1.56s/it]"
     ]
    },
    {
     "name": "stdout",
     "output_type": "stream",
     "text": [
      "No figcaption found for images in URL: https://www.nos.nl/artikel/2502042\n"
     ]
    },
    {
     "name": "stderr",
     "output_type": "stream",
     "text": [
      "Scraper going at...: 613it [14:39,  1.35s/it]"
     ]
    },
    {
     "name": "stdout",
     "output_type": "stream",
     "text": [
      "No figcaption found for images in URL: https://www.nos.nl/artikel/2502038\n"
     ]
    },
    {
     "name": "stderr",
     "output_type": "stream",
     "text": [
      "Scraper going at...: 614it [14:41,  1.39s/it]"
     ]
    },
    {
     "name": "stdout",
     "output_type": "stream",
     "text": [
      "No figcaption found for images in URL: https://www.nos.nl/artikel/2502037\n"
     ]
    },
    {
     "name": "stderr",
     "output_type": "stream",
     "text": [
      "Scraper going at...: 615it [14:42,  1.42s/it]"
     ]
    },
    {
     "name": "stdout",
     "output_type": "stream",
     "text": [
      "No figcaption found for images in URL: https://www.nos.nl/artikel/2502033\n"
     ]
    },
    {
     "name": "stderr",
     "output_type": "stream",
     "text": [
      "Scraper going at...: 620it [14:48,  1.28s/it]"
     ]
    },
    {
     "name": "stdout",
     "output_type": "stream",
     "text": [
      "No figcaption found for images in URL: https://www.nos.nl/artikel/2502027\n"
     ]
    },
    {
     "name": "stderr",
     "output_type": "stream",
     "text": [
      "Scraper going at...: 623it [14:53,  1.60s/it]"
     ]
    },
    {
     "name": "stdout",
     "output_type": "stream",
     "text": [
      "No figcaption found for images in URL: https://www.nos.nl/artikel/2502022\n"
     ]
    },
    {
     "name": "stderr",
     "output_type": "stream",
     "text": [
      "Scraper going at...: 627it [14:58,  1.18s/it]"
     ]
    },
    {
     "name": "stdout",
     "output_type": "stream",
     "text": [
      "No figcaption found for images in URL: https://www.nos.nl/artikel/2502014\n"
     ]
    },
    {
     "name": "stderr",
     "output_type": "stream",
     "text": [
      "Scraper going at...: 628it [15:00,  1.45s/it]"
     ]
    },
    {
     "name": "stdout",
     "output_type": "stream",
     "text": [
      "No main image div found in URL: https://www.nos.nl/artikel/2502013\n"
     ]
    },
    {
     "name": "stderr",
     "output_type": "stream",
     "text": [
      "Scraper going at...: 635it [15:07,  1.04s/it]"
     ]
    },
    {
     "name": "stdout",
     "output_type": "stream",
     "text": [
      "No figcaption found for images in URL: https://www.nos.nl/artikel/2501988\n"
     ]
    },
    {
     "name": "stderr",
     "output_type": "stream",
     "text": [
      "Scraper going at...: 636it [15:09,  1.09s/it]"
     ]
    },
    {
     "name": "stdout",
     "output_type": "stream",
     "text": [
      "No figcaption found for images in URL: https://www.nos.nl/artikel/2501984\n"
     ]
    },
    {
     "name": "stderr",
     "output_type": "stream",
     "text": [
      "Scraper going at...: 639it [15:13,  1.27s/it]"
     ]
    },
    {
     "name": "stdout",
     "output_type": "stream",
     "text": [
      "No figcaption found for images in URL: https://www.nos.nl/artikel/2501981\n"
     ]
    },
    {
     "name": "stderr",
     "output_type": "stream",
     "text": [
      "Scraper going at...: 642it [15:16,  1.12s/it]"
     ]
    },
    {
     "name": "stdout",
     "output_type": "stream",
     "text": [
      "No figcaption found for images in URL: https://www.nos.nl/artikel/2501978\n"
     ]
    },
    {
     "name": "stderr",
     "output_type": "stream",
     "text": [
      "Scraper going at...: 650it [15:28,  2.18s/it]"
     ]
    },
    {
     "name": "stdout",
     "output_type": "stream",
     "text": [
      "No main image div found in URL: https://www.nos.nl/artikel/2501953\n"
     ]
    },
    {
     "name": "stderr",
     "output_type": "stream",
     "text": [
      "Scraper going at...: 652it [15:33,  2.50s/it]"
     ]
    },
    {
     "name": "stdout",
     "output_type": "stream",
     "text": [
      "No figcaption found for images in URL: https://www.nos.nl/artikel/2501949\n"
     ]
    },
    {
     "name": "stderr",
     "output_type": "stream",
     "text": [
      "Scraper going at...: 655it [15:37,  1.59s/it]"
     ]
    },
    {
     "name": "stdout",
     "output_type": "stream",
     "text": [
      "No main image div found in URL: https://www.nos.nl/artikel/2501934\n"
     ]
    },
    {
     "name": "stderr",
     "output_type": "stream",
     "text": [
      "Scraper going at...: 656it [15:38,  1.54s/it]"
     ]
    },
    {
     "name": "stdout",
     "output_type": "stream",
     "text": [
      "No figcaption found for images in URL: https://www.nos.nl/artikel/2501931\n"
     ]
    },
    {
     "name": "stderr",
     "output_type": "stream",
     "text": [
      "Scraper going at...: 657it [15:39,  1.44s/it]"
     ]
    },
    {
     "name": "stdout",
     "output_type": "stream",
     "text": [
      "No figcaption found for images in URL: https://www.nos.nl/artikel/2501929\n"
     ]
    },
    {
     "name": "stderr",
     "output_type": "stream",
     "text": [
      "Scraper going at...: 662it [15:47,  1.68s/it]"
     ]
    },
    {
     "name": "stdout",
     "output_type": "stream",
     "text": [
      "No main image div found in URL: https://www.nos.nl/artikel/2501912\n"
     ]
    },
    {
     "name": "stderr",
     "output_type": "stream",
     "text": [
      "Scraper going at...: 664it [15:49,  1.40s/it]"
     ]
    },
    {
     "name": "stdout",
     "output_type": "stream",
     "text": [
      "No main image div found in URL: https://www.nos.nl/artikel/2501908\n"
     ]
    },
    {
     "name": "stderr",
     "output_type": "stream",
     "text": [
      "Scraper going at...: 666it [15:51,  1.34s/it]"
     ]
    },
    {
     "name": "stdout",
     "output_type": "stream",
     "text": [
      "No main image div found in URL: https://www.nos.nl/artikel/2501900\n"
     ]
    },
    {
     "name": "stderr",
     "output_type": "stream",
     "text": [
      "Scraper going at...: 669it [15:59,  2.21s/it]"
     ]
    },
    {
     "name": "stdout",
     "output_type": "stream",
     "text": [
      "No main image div found in URL: https://www.nos.nl/artikel/2501895\n"
     ]
    },
    {
     "name": "stderr",
     "output_type": "stream",
     "text": [
      "Scraper going at...: 684it [16:20,  1.26s/it]"
     ]
    },
    {
     "name": "stdout",
     "output_type": "stream",
     "text": [
      "No figcaption found for images in URL: https://www.nos.nl/artikel/2501850\n"
     ]
    },
    {
     "name": "stderr",
     "output_type": "stream",
     "text": [
      "Scraper going at...: 690it [16:26,  1.04s/it]"
     ]
    },
    {
     "name": "stdout",
     "output_type": "stream",
     "text": [
      "No main image div found in URL: https://www.nos.nl/artikel/2501841\n"
     ]
    },
    {
     "name": "stderr",
     "output_type": "stream",
     "text": [
      "Scraper going at...: 697it [16:34,  1.13s/it]"
     ]
    },
    {
     "name": "stdout",
     "output_type": "stream",
     "text": [
      "No main image div found in URL: https://www.nos.nl/artikel/2501826\n"
     ]
    },
    {
     "name": "stderr",
     "output_type": "stream",
     "text": [
      "Scraper going at...: 702it [16:40,  1.20s/it]"
     ]
    },
    {
     "name": "stdout",
     "output_type": "stream",
     "text": [
      "No main image div found in URL: https://www.nos.nl/artikel/2501810\n"
     ]
    },
    {
     "name": "stderr",
     "output_type": "stream",
     "text": [
      "Scraper going at...: 710it [16:53,  1.78s/it]"
     ]
    },
    {
     "name": "stdout",
     "output_type": "stream",
     "text": [
      "No figcaption found for images in URL: https://www.nos.nl/artikel/2501798\n"
     ]
    },
    {
     "name": "stderr",
     "output_type": "stream",
     "text": [
      "Scraper going at...: 712it [16:55,  1.45s/it]"
     ]
    },
    {
     "name": "stdout",
     "output_type": "stream",
     "text": [
      "No figcaption found for images in URL: https://www.nos.nl/artikel/2501796\n"
     ]
    },
    {
     "name": "stderr",
     "output_type": "stream",
     "text": [
      "Scraper going at...: 719it [17:05,  1.35s/it]"
     ]
    },
    {
     "name": "stdout",
     "output_type": "stream",
     "text": [
      "No figcaption found for images in URL: https://www.nos.nl/artikel/2501778\n"
     ]
    },
    {
     "name": "stderr",
     "output_type": "stream",
     "text": [
      "Scraper going at...: 720it [17:07,  1.46s/it]"
     ]
    },
    {
     "name": "stdout",
     "output_type": "stream",
     "text": [
      "No figcaption found for images in URL: https://www.nos.nl/artikel/2501777\n"
     ]
    },
    {
     "name": "stderr",
     "output_type": "stream",
     "text": [
      "Scraper going at...: 730it [17:22,  1.40s/it]"
     ]
    },
    {
     "name": "stdout",
     "output_type": "stream",
     "text": [
      "No figcaption found for images in URL: https://www.nos.nl/artikel/2501752\n"
     ]
    },
    {
     "name": "stderr",
     "output_type": "stream",
     "text": [
      "Scraper going at...: 732it [17:24,  1.20s/it]"
     ]
    },
    {
     "name": "stdout",
     "output_type": "stream",
     "text": [
      "No main image div found in URL: https://www.nos.nl/artikel/2501750\n"
     ]
    },
    {
     "name": "stderr",
     "output_type": "stream",
     "text": [
      "Scraper going at...: 736it [17:29,  1.25s/it]"
     ]
    },
    {
     "name": "stdout",
     "output_type": "stream",
     "text": [
      "No figcaption found for images in URL: https://www.nos.nl/artikel/2501744\n"
     ]
    },
    {
     "name": "stderr",
     "output_type": "stream",
     "text": [
      "Scraper going at...: 739it [17:32,  1.10s/it]"
     ]
    },
    {
     "name": "stdout",
     "output_type": "stream",
     "text": [
      "No main image div found in URL: https://www.nos.nl/artikel/2501738\n"
     ]
    },
    {
     "name": "stderr",
     "output_type": "stream",
     "text": [
      "Scraper going at...: 740it [17:33,  1.09s/it]"
     ]
    },
    {
     "name": "stdout",
     "output_type": "stream",
     "text": [
      "No main image div found in URL: https://www.nos.nl/artikel/2501737\n"
     ]
    },
    {
     "name": "stderr",
     "output_type": "stream",
     "text": [
      "Scraper going at...: 747it [17:42,  1.34s/it]"
     ]
    },
    {
     "name": "stdout",
     "output_type": "stream",
     "text": [
      "No main image div found in URL: https://www.nos.nl/artikel/2501724\n"
     ]
    },
    {
     "name": "stderr",
     "output_type": "stream",
     "text": [
      "Scraper going at...: 749it [17:44,  1.17s/it]"
     ]
    },
    {
     "name": "stdout",
     "output_type": "stream",
     "text": [
      "No main image div found in URL: https://www.nos.nl/artikel/2501721\n"
     ]
    },
    {
     "name": "stderr",
     "output_type": "stream",
     "text": [
      "Scraper going at...: 752it [17:48,  1.15s/it]"
     ]
    },
    {
     "name": "stdout",
     "output_type": "stream",
     "text": [
      "No main image div found in URL: https://www.nos.nl/artikel/2501714\n"
     ]
    },
    {
     "name": "stderr",
     "output_type": "stream",
     "text": [
      "Scraper going at...: 762it [17:59,  1.09s/it]"
     ]
    },
    {
     "name": "stdout",
     "output_type": "stream",
     "text": [
      "No figcaption found for images in URL: https://www.nos.nl/artikel/2501695\n"
     ]
    },
    {
     "name": "stderr",
     "output_type": "stream",
     "text": [
      "Scraper going at...: 763it [18:00,  1.10s/it]"
     ]
    },
    {
     "name": "stdout",
     "output_type": "stream",
     "text": [
      "No figcaption found for images in URL: https://www.nos.nl/artikel/2501692\n"
     ]
    },
    {
     "name": "stderr",
     "output_type": "stream",
     "text": [
      "Scraper going at...: 764it [18:01,  1.05s/it]"
     ]
    },
    {
     "name": "stdout",
     "output_type": "stream",
     "text": [
      "No main image div found in URL: https://www.nos.nl/artikel/2501691\n"
     ]
    },
    {
     "name": "stderr",
     "output_type": "stream",
     "text": [
      "Scraper going at...: 766it [18:06,  1.70s/it]"
     ]
    },
    {
     "name": "stdout",
     "output_type": "stream",
     "text": [
      "No main image div found in URL: https://www.nos.nl/artikel/2501688\n"
     ]
    },
    {
     "name": "stderr",
     "output_type": "stream",
     "text": [
      "Scraper going at...: 777it [18:25,  1.83s/it]"
     ]
    },
    {
     "name": "stdout",
     "output_type": "stream",
     "text": [
      "No figcaption found for images in URL: https://www.nos.nl/artikel/2501674\n"
     ]
    },
    {
     "name": "stderr",
     "output_type": "stream",
     "text": [
      "Scraper going at...: 791it [18:47,  1.36s/it]"
     ]
    },
    {
     "name": "stdout",
     "output_type": "stream",
     "text": [
      "No main image div found in URL: https://www.nos.nl/artikel/2501641\n"
     ]
    },
    {
     "name": "stderr",
     "output_type": "stream",
     "text": [
      "Scraper going at...: 801it [19:00,  1.56s/it]"
     ]
    },
    {
     "name": "stdout",
     "output_type": "stream",
     "text": [
      "No main image div found in URL: https://www.nos.nl/artikel/2501613\n"
     ]
    },
    {
     "name": "stderr",
     "output_type": "stream",
     "text": [
      "Scraper going at...: 803it [19:03,  1.61s/it]"
     ]
    },
    {
     "name": "stdout",
     "output_type": "stream",
     "text": [
      "No figcaption found for images in URL: https://www.nos.nl/artikel/2501603\n"
     ]
    },
    {
     "name": "stderr",
     "output_type": "stream",
     "text": [
      "Scraper going at...: 805it [19:06,  1.32s/it]"
     ]
    },
    {
     "name": "stdout",
     "output_type": "stream",
     "text": [
      "No main image div found in URL: https://www.nos.nl/artikel/2501601\n"
     ]
    },
    {
     "name": "stderr",
     "output_type": "stream",
     "text": [
      "Scraper going at...: 808it [19:09,  1.12s/it]"
     ]
    },
    {
     "name": "stdout",
     "output_type": "stream",
     "text": [
      "No figcaption found for images in URL: https://www.nos.nl/artikel/2501593\n"
     ]
    },
    {
     "name": "stderr",
     "output_type": "stream",
     "text": [
      "Scraper going at...: 810it [19:11,  1.12s/it]"
     ]
    },
    {
     "name": "stdout",
     "output_type": "stream",
     "text": [
      "No main image div found in URL: https://www.nos.nl/artikel/2501584\n"
     ]
    },
    {
     "name": "stderr",
     "output_type": "stream",
     "text": [
      "Scraper going at...: 811it [19:16,  2.29s/it]"
     ]
    },
    {
     "name": "stdout",
     "output_type": "stream",
     "text": [
      "No figcaption found for images in URL: https://www.nos.nl/artikel/2501583\n"
     ]
    },
    {
     "name": "stderr",
     "output_type": "stream",
     "text": [
      "Scraper going at...: 812it [19:17,  1.91s/it]"
     ]
    },
    {
     "name": "stdout",
     "output_type": "stream",
     "text": [
      "No figcaption found for images in URL: https://www.nos.nl/artikel/2501582\n"
     ]
    },
    {
     "name": "stderr",
     "output_type": "stream",
     "text": [
      "Scraper going at...: 813it [19:18,  1.64s/it]"
     ]
    },
    {
     "name": "stdout",
     "output_type": "stream",
     "text": [
      "No figcaption found for images in URL: https://www.nos.nl/artikel/2501581\n"
     ]
    },
    {
     "name": "stderr",
     "output_type": "stream",
     "text": [
      "Scraper going at...: 814it [19:19,  1.55s/it]"
     ]
    },
    {
     "name": "stdout",
     "output_type": "stream",
     "text": [
      "No figcaption found for images in URL: https://www.nos.nl/artikel/2501580\n"
     ]
    },
    {
     "name": "stderr",
     "output_type": "stream",
     "text": [
      "Scraper going at...: 817it [19:24,  1.39s/it]"
     ]
    },
    {
     "name": "stdout",
     "output_type": "stream",
     "text": [
      "No figcaption found for images in URL: https://www.nos.nl/artikel/2501576\n"
     ]
    },
    {
     "name": "stderr",
     "output_type": "stream",
     "text": [
      "Scraper going at...: 826it [19:33,  1.03s/it]"
     ]
    },
    {
     "name": "stdout",
     "output_type": "stream",
     "text": [
      "No figcaption found for images in URL: https://www.nos.nl/artikel/2501555\n"
     ]
    },
    {
     "name": "stderr",
     "output_type": "stream",
     "text": [
      "Scraper going at...: 828it [19:39,  1.94s/it]"
     ]
    },
    {
     "name": "stdout",
     "output_type": "stream",
     "text": [
      "No figcaption found for images in URL: https://www.nos.nl/artikel/2501553\n"
     ]
    },
    {
     "name": "stderr",
     "output_type": "stream",
     "text": [
      "Scraper going at...: 830it [19:43,  1.91s/it]"
     ]
    },
    {
     "name": "stdout",
     "output_type": "stream",
     "text": [
      "No figcaption found for images in URL: https://www.nos.nl/artikel/2501548\n"
     ]
    },
    {
     "name": "stderr",
     "output_type": "stream",
     "text": [
      "Scraper going at...: 831it [19:44,  1.66s/it]"
     ]
    },
    {
     "name": "stdout",
     "output_type": "stream",
     "text": [
      "No figcaption found for images in URL: https://www.nos.nl/artikel/2501547\n"
     ]
    },
    {
     "name": "stderr",
     "output_type": "stream",
     "text": [
      "Scraper going at...: 838it [19:57,  1.92s/it]"
     ]
    },
    {
     "name": "stdout",
     "output_type": "stream",
     "text": [
      "No figcaption found for images in URL: https://www.nos.nl/artikel/2501533\n"
     ]
    },
    {
     "name": "stderr",
     "output_type": "stream",
     "text": [
      "Scraper going at...: 843it [20:04,  1.63s/it]"
     ]
    },
    {
     "name": "stdout",
     "output_type": "stream",
     "text": [
      "No main image div found in URL: https://www.nos.nl/artikel/2501519\n"
     ]
    },
    {
     "name": "stderr",
     "output_type": "stream",
     "text": [
      "Scraper going at...: 844it [20:05,  1.48s/it]"
     ]
    },
    {
     "name": "stdout",
     "output_type": "stream",
     "text": [
      "No figcaption found for images in URL: https://www.nos.nl/artikel/2501517\n"
     ]
    },
    {
     "name": "stderr",
     "output_type": "stream",
     "text": [
      "Scraper going at...: 845it [20:06,  1.33s/it]"
     ]
    },
    {
     "name": "stdout",
     "output_type": "stream",
     "text": [
      "No main image div found in URL: https://www.nos.nl/artikel/2501515\n"
     ]
    },
    {
     "name": "stderr",
     "output_type": "stream",
     "text": [
      "Scraper going at...: 848it [20:14,  1.94s/it]"
     ]
    },
    {
     "name": "stdout",
     "output_type": "stream",
     "text": [
      "No figcaption found for images in URL: https://www.nos.nl/artikel/2501510\n"
     ]
    },
    {
     "name": "stderr",
     "output_type": "stream",
     "text": [
      "Scraper going at...: 852it [20:19,  1.46s/it]"
     ]
    },
    {
     "name": "stdout",
     "output_type": "stream",
     "text": [
      "No figcaption found for images in URL: https://www.nos.nl/artikel/2501505\n"
     ]
    },
    {
     "name": "stderr",
     "output_type": "stream",
     "text": [
      "Scraper going at...: 853it [20:20,  1.32s/it]"
     ]
    },
    {
     "name": "stdout",
     "output_type": "stream",
     "text": [
      "No figcaption found for images in URL: https://www.nos.nl/artikel/2501504\n"
     ]
    },
    {
     "name": "stderr",
     "output_type": "stream",
     "text": [
      "Scraper going at...: 856it [20:25,  1.52s/it]"
     ]
    },
    {
     "name": "stdout",
     "output_type": "stream",
     "text": [
      "No figcaption found for images in URL: https://www.nos.nl/artikel/2501498\n"
     ]
    },
    {
     "name": "stderr",
     "output_type": "stream",
     "text": [
      "Scraper going at...: 857it [20:27,  1.47s/it]"
     ]
    },
    {
     "name": "stdout",
     "output_type": "stream",
     "text": [
      "No figcaption found for images in URL: https://www.nos.nl/artikel/2501497\n"
     ]
    },
    {
     "name": "stderr",
     "output_type": "stream",
     "text": [
      "Scraper going at...: 859it [20:30,  1.56s/it]"
     ]
    },
    {
     "name": "stdout",
     "output_type": "stream",
     "text": [
      "No figcaption found for images in URL: https://www.nos.nl/artikel/2501490\n"
     ]
    },
    {
     "name": "stderr",
     "output_type": "stream",
     "text": [
      "Scraper going at...: 861it [20:32,  1.36s/it]"
     ]
    },
    {
     "name": "stdout",
     "output_type": "stream",
     "text": [
      "No main image div found in URL: https://www.nos.nl/artikel/2501488\n"
     ]
    },
    {
     "name": "stderr",
     "output_type": "stream",
     "text": [
      "Scraper going at...: 863it [20:38,  2.11s/it]"
     ]
    },
    {
     "name": "stdout",
     "output_type": "stream",
     "text": [
      "No figcaption found for images in URL: https://www.nos.nl/artikel/2501479\n"
     ]
    },
    {
     "name": "stderr",
     "output_type": "stream",
     "text": [
      "Scraper going at...: 867it [20:43,  1.45s/it]"
     ]
    },
    {
     "name": "stdout",
     "output_type": "stream",
     "text": [
      "No main image div found in URL: https://www.nos.nl/artikel/2501467\n"
     ]
    },
    {
     "name": "stderr",
     "output_type": "stream",
     "text": [
      "Scraper going at...: 871it [20:47,  1.17s/it]"
     ]
    },
    {
     "name": "stdout",
     "output_type": "stream",
     "text": [
      "No figcaption found for images in URL: https://www.nos.nl/artikel/2501460\n"
     ]
    },
    {
     "name": "stderr",
     "output_type": "stream",
     "text": [
      "Scraper going at...: 874it [20:51,  1.30s/it]"
     ]
    },
    {
     "name": "stdout",
     "output_type": "stream",
     "text": [
      "No main image div found in URL: https://www.nos.nl/artikel/2501445\n"
     ]
    },
    {
     "name": "stderr",
     "output_type": "stream",
     "text": [
      "Scraper going at...: 876it [20:53,  1.20s/it]"
     ]
    },
    {
     "name": "stdout",
     "output_type": "stream",
     "text": [
      "No figcaption found for images in URL: https://www.nos.nl/artikel/2501443\n"
     ]
    },
    {
     "name": "stderr",
     "output_type": "stream",
     "text": [
      "Scraper going at...: 882it [20:59,  1.02s/it]"
     ]
    },
    {
     "name": "stdout",
     "output_type": "stream",
     "text": [
      "No figcaption found for images in URL: https://www.nos.nl/artikel/2501434\n"
     ]
    },
    {
     "name": "stderr",
     "output_type": "stream",
     "text": [
      "Scraper going at...: 891it [21:11,  1.07s/it]"
     ]
    },
    {
     "name": "stdout",
     "output_type": "stream",
     "text": [
      "No main image div found in URL: https://www.nos.nl/artikel/2501419\n"
     ]
    },
    {
     "name": "stderr",
     "output_type": "stream",
     "text": [
      "Scraper going at...: 895it [21:16,  1.09s/it]"
     ]
    },
    {
     "name": "stdout",
     "output_type": "stream",
     "text": [
      "No main image div found in URL: https://www.nos.nl/artikel/2501405\n"
     ]
    },
    {
     "name": "stderr",
     "output_type": "stream",
     "text": [
      "Scraper going at...: 897it [21:18,  1.20s/it]"
     ]
    },
    {
     "name": "stdout",
     "output_type": "stream",
     "text": [
      "No figcaption found for images in URL: https://www.nos.nl/artikel/2501399\n"
     ]
    },
    {
     "name": "stderr",
     "output_type": "stream",
     "text": [
      "Scraper going at...: 899it [21:20,  1.11s/it]"
     ]
    },
    {
     "name": "stdout",
     "output_type": "stream",
     "text": [
      "No main image div found in URL: https://www.nos.nl/artikel/2501396\n"
     ]
    },
    {
     "name": "stderr",
     "output_type": "stream",
     "text": [
      "Scraper going at...: 917it [21:44,  1.12s/it]"
     ]
    },
    {
     "name": "stdout",
     "output_type": "stream",
     "text": [
      "No figcaption found for images in URL: https://www.nos.nl/artikel/2501368\n"
     ]
    },
    {
     "name": "stderr",
     "output_type": "stream",
     "text": [
      "Scraper going at...: 920it [21:48,  1.20s/it]"
     ]
    },
    {
     "name": "stdout",
     "output_type": "stream",
     "text": [
      "No main image div found in URL: https://www.nos.nl/artikel/2501359\n"
     ]
    },
    {
     "name": "stderr",
     "output_type": "stream",
     "text": [
      "Scraper going at...: 925it [21:54,  1.13s/it]"
     ]
    },
    {
     "name": "stdout",
     "output_type": "stream",
     "text": [
      "No figcaption found for images in URL: https://www.nos.nl/artikel/2501345\n"
     ]
    },
    {
     "name": "stderr",
     "output_type": "stream",
     "text": [
      "Scraper going at...: 929it [22:02,  1.94s/it]"
     ]
    },
    {
     "name": "stdout",
     "output_type": "stream",
     "text": [
      "No main image div found in URL: https://www.nos.nl/artikel/2501339\n"
     ]
    },
    {
     "name": "stderr",
     "output_type": "stream",
     "text": [
      "Scraper going at...: 930it [22:03,  1.69s/it]"
     ]
    },
    {
     "name": "stdout",
     "output_type": "stream",
     "text": [
      "No figcaption found for images in URL: https://www.nos.nl/artikel/2501335\n"
     ]
    },
    {
     "name": "stderr",
     "output_type": "stream",
     "text": [
      "Scraper going at...: 940it [22:15,  1.23s/it]"
     ]
    },
    {
     "name": "stdout",
     "output_type": "stream",
     "text": [
      "No figcaption found for images in URL: https://www.nos.nl/artikel/2501318\n"
     ]
    },
    {
     "name": "stderr",
     "output_type": "stream",
     "text": [
      "Scraper going at...: 942it [22:18,  1.36s/it]"
     ]
    },
    {
     "name": "stdout",
     "output_type": "stream",
     "text": [
      "No main image div found in URL: https://www.nos.nl/artikel/2501313\n"
     ]
    },
    {
     "name": "stderr",
     "output_type": "stream",
     "text": [
      "Scraper going at...: 944it [22:21,  1.32s/it]"
     ]
    },
    {
     "name": "stdout",
     "output_type": "stream",
     "text": [
      "No main image div found in URL: https://www.nos.nl/artikel/2501307\n"
     ]
    },
    {
     "name": "stderr",
     "output_type": "stream",
     "text": [
      "Scraper going at...: 945it [22:22,  1.25s/it]"
     ]
    },
    {
     "name": "stdout",
     "output_type": "stream",
     "text": [
      "No main image div found in URL: https://www.nos.nl/artikel/2501301\n"
     ]
    },
    {
     "name": "stderr",
     "output_type": "stream",
     "text": [
      "Scraper going at...: 947it [22:25,  1.28s/it]"
     ]
    },
    {
     "name": "stdout",
     "output_type": "stream",
     "text": [
      "No figcaption found for images in URL: https://www.nos.nl/artikel/2501294\n"
     ]
    },
    {
     "name": "stderr",
     "output_type": "stream",
     "text": [
      "Scraper going at...: 949it [22:27,  1.24s/it]"
     ]
    },
    {
     "name": "stdout",
     "output_type": "stream",
     "text": [
      "No figcaption found for images in URL: https://www.nos.nl/artikel/2501291\n"
     ]
    },
    {
     "name": "stderr",
     "output_type": "stream",
     "text": [
      "Scraper going at...: 951it [22:30,  1.33s/it]"
     ]
    },
    {
     "name": "stdout",
     "output_type": "stream",
     "text": [
      "No figcaption found for images in URL: https://www.nos.nl/artikel/2501285\n"
     ]
    },
    {
     "name": "stderr",
     "output_type": "stream",
     "text": [
      "Scraper going at...: 954it [22:34,  1.26s/it]"
     ]
    },
    {
     "name": "stdout",
     "output_type": "stream",
     "text": [
      "No figcaption found for images in URL: https://www.nos.nl/artikel/2501282\n"
     ]
    },
    {
     "name": "stderr",
     "output_type": "stream",
     "text": [
      "Scraper going at...: 958it [22:39,  1.53s/it]"
     ]
    },
    {
     "name": "stdout",
     "output_type": "stream",
     "text": [
      "No main image div found in URL: https://www.nos.nl/artikel/2501273\n"
     ]
    },
    {
     "name": "stderr",
     "output_type": "stream",
     "text": [
      "Scraper going at...: 963it [22:47,  1.46s/it]"
     ]
    },
    {
     "name": "stdout",
     "output_type": "stream",
     "text": [
      "No figcaption found for images in URL: https://www.nos.nl/artikel/2501266\n"
     ]
    },
    {
     "name": "stderr",
     "output_type": "stream",
     "text": [
      "Scraper going at...: 966it [22:50,  1.17s/it]"
     ]
    },
    {
     "name": "stdout",
     "output_type": "stream",
     "text": [
      "No figcaption found for images in URL: https://www.nos.nl/artikel/2501261\n"
     ]
    },
    {
     "name": "stderr",
     "output_type": "stream",
     "text": [
      "Scraper going at...: 971it [22:59,  1.66s/it]"
     ]
    },
    {
     "name": "stdout",
     "output_type": "stream",
     "text": [
      "No figcaption found for images in URL: https://www.nos.nl/artikel/2501250\n"
     ]
    },
    {
     "name": "stderr",
     "output_type": "stream",
     "text": [
      "Scraper going at...: 979it [23:10,  1.45s/it]"
     ]
    },
    {
     "name": "stdout",
     "output_type": "stream",
     "text": [
      "No figcaption found for images in URL: https://www.nos.nl/artikel/2501228\n"
     ]
    },
    {
     "name": "stderr",
     "output_type": "stream",
     "text": [
      "Scraper going at...: 983it [23:15,  1.16s/it]"
     ]
    },
    {
     "name": "stdout",
     "output_type": "stream",
     "text": [
      "No main image div found in URL: https://www.nos.nl/artikel/2501221\n"
     ]
    },
    {
     "name": "stderr",
     "output_type": "stream",
     "text": [
      "Scraper going at...: 984it [23:16,  1.10s/it]"
     ]
    },
    {
     "name": "stdout",
     "output_type": "stream",
     "text": [
      "No figcaption found for images in URL: https://www.nos.nl/artikel/2501220\n"
     ]
    },
    {
     "name": "stderr",
     "output_type": "stream",
     "text": [
      "Scraper going at...: 986it [23:18,  1.17s/it]"
     ]
    },
    {
     "name": "stdout",
     "output_type": "stream",
     "text": [
      "No figcaption found for images in URL: https://www.nos.nl/artikel/2501216\n"
     ]
    },
    {
     "name": "stderr",
     "output_type": "stream",
     "text": [
      "Scraper going at...: 994it [23:29,  1.54s/it]"
     ]
    },
    {
     "name": "stdout",
     "output_type": "stream",
     "text": [
      "No main image div found in URL: https://www.nos.nl/artikel/2501196\n"
     ]
    },
    {
     "name": "stderr",
     "output_type": "stream",
     "text": [
      "Scraper going at...: 995it [23:30,  1.62s/it]"
     ]
    },
    {
     "name": "stdout",
     "output_type": "stream",
     "text": [
      "No main image div found in URL: https://www.nos.nl/artikel/2501194\n"
     ]
    },
    {
     "name": "stderr",
     "output_type": "stream",
     "text": [
      "Scraper going at...: 996it [23:32,  1.65s/it]"
     ]
    },
    {
     "name": "stdout",
     "output_type": "stream",
     "text": [
      "No figcaption found for images in URL: https://www.nos.nl/artikel/2501191\n"
     ]
    },
    {
     "name": "stderr",
     "output_type": "stream",
     "text": [
      "Scraper going at...: 1002it [23:40,  1.60s/it]"
     ]
    },
    {
     "name": "stdout",
     "output_type": "stream",
     "text": [
      "No figcaption found for images in URL: https://www.nos.nl/artikel/2501180\n"
     ]
    },
    {
     "name": "stderr",
     "output_type": "stream",
     "text": [
      "Scraper going at...: 1008it [23:47,  1.18s/it]"
     ]
    },
    {
     "name": "stdout",
     "output_type": "stream",
     "text": [
      "No main image div found in URL: https://www.nos.nl/artikel/2501167\n"
     ]
    },
    {
     "name": "stderr",
     "output_type": "stream",
     "text": [
      "Scraper going at...: 1011it [23:50,  1.10s/it]"
     ]
    },
    {
     "name": "stdout",
     "output_type": "stream",
     "text": [
      "No figcaption found for images in URL: https://www.nos.nl/artikel/2501154\n"
     ]
    },
    {
     "name": "stderr",
     "output_type": "stream",
     "text": [
      "Scraper going at...: 1015it [23:55,  1.20s/it]"
     ]
    },
    {
     "name": "stdout",
     "output_type": "stream",
     "text": [
      "No main image div found in URL: https://www.nos.nl/artikel/2501148\n"
     ]
    },
    {
     "name": "stderr",
     "output_type": "stream",
     "text": [
      "Scraper going at...: 1016it [23:57,  1.41s/it]"
     ]
    },
    {
     "name": "stdout",
     "output_type": "stream",
     "text": [
      "No figcaption found for images in URL: https://www.nos.nl/artikel/2501147\n"
     ]
    },
    {
     "name": "stderr",
     "output_type": "stream",
     "text": [
      "Scraper going at...: 1024it [24:06,  1.10s/it]"
     ]
    },
    {
     "name": "stdout",
     "output_type": "stream",
     "text": [
      "No main image div found in URL: https://www.nos.nl/artikel/2501117\n"
     ]
    },
    {
     "name": "stderr",
     "output_type": "stream",
     "text": [
      "Scraper going at...: 1026it [24:08,  1.14s/it]"
     ]
    },
    {
     "name": "stdout",
     "output_type": "stream",
     "text": [
      "No figcaption found for images in URL: https://www.nos.nl/artikel/2501109\n"
     ]
    },
    {
     "name": "stderr",
     "output_type": "stream",
     "text": [
      "Scraper going at...: 1030it [24:12,  1.08s/it]"
     ]
    },
    {
     "name": "stdout",
     "output_type": "stream",
     "text": [
      "No figcaption found for images in URL: https://www.nos.nl/artikel/2501103\n"
     ]
    },
    {
     "name": "stderr",
     "output_type": "stream",
     "text": [
      "Scraper going at...: 1034it [24:17,  1.09s/it]"
     ]
    },
    {
     "name": "stdout",
     "output_type": "stream",
     "text": [
      "No main image div found in URL: https://www.nos.nl/artikel/2501094\n"
     ]
    },
    {
     "name": "stderr",
     "output_type": "stream",
     "text": [
      "Scraper going at...: 1037it [24:20,  1.06s/it]"
     ]
    },
    {
     "name": "stdout",
     "output_type": "stream",
     "text": [
      "No main image div found in URL: https://www.nos.nl/artikel/2501087\n"
     ]
    },
    {
     "name": "stderr",
     "output_type": "stream",
     "text": [
      "Scraper going at...: 1039it [24:23,  1.28s/it]"
     ]
    },
    {
     "name": "stdout",
     "output_type": "stream",
     "text": [
      "No main image div found in URL: https://www.nos.nl/artikel/2501081\n"
     ]
    },
    {
     "name": "stderr",
     "output_type": "stream",
     "text": [
      "Scraper going at...: 1042it [24:28,  1.51s/it]"
     ]
    },
    {
     "name": "stdout",
     "output_type": "stream",
     "text": [
      "No main image div found in URL: https://www.nos.nl/artikel/2501078\n"
     ]
    },
    {
     "name": "stderr",
     "output_type": "stream",
     "text": [
      "Scraper going at...: 1043it [24:30,  1.79s/it]"
     ]
    },
    {
     "name": "stdout",
     "output_type": "stream",
     "text": [
      "No main image div found in URL: https://www.nos.nl/artikel/2501074\n"
     ]
    },
    {
     "name": "stderr",
     "output_type": "stream",
     "text": [
      "Scraper going at...: 1045it [24:32,  1.43s/it]"
     ]
    },
    {
     "name": "stdout",
     "output_type": "stream",
     "text": [
      "No main image div found in URL: https://www.nos.nl/artikel/2501070\n"
     ]
    },
    {
     "name": "stderr",
     "output_type": "stream",
     "text": [
      "Scraper going at...: 1054it [24:46,  1.37s/it]"
     ]
    },
    {
     "name": "stdout",
     "output_type": "stream",
     "text": [
      "No main image div found in URL: https://www.nos.nl/artikel/2501042\n"
     ]
    },
    {
     "name": "stderr",
     "output_type": "stream",
     "text": [
      "Scraper going at...: 1055it [24:47,  1.33s/it]"
     ]
    },
    {
     "name": "stdout",
     "output_type": "stream",
     "text": [
      "No main image div found in URL: https://www.nos.nl/artikel/2501038\n"
     ]
    },
    {
     "name": "stderr",
     "output_type": "stream",
     "text": [
      "Scraper going at...: 1061it [24:55,  1.22s/it]"
     ]
    },
    {
     "name": "stdout",
     "output_type": "stream",
     "text": [
      "No figcaption found for images in URL: https://www.nos.nl/artikel/2501021\n"
     ]
    },
    {
     "name": "stderr",
     "output_type": "stream",
     "text": [
      "Scraper going at...: 1064it [25:00,  1.89s/it]"
     ]
    },
    {
     "name": "stdout",
     "output_type": "stream",
     "text": [
      "No main image div found in URL: https://www.nos.nl/artikel/2501018\n"
     ]
    },
    {
     "name": "stderr",
     "output_type": "stream",
     "text": [
      "Scraper going at...: 1067it [25:05,  1.65s/it]"
     ]
    },
    {
     "name": "stdout",
     "output_type": "stream",
     "text": [
      "No main image div found in URL: https://www.nos.nl/artikel/2501012\n"
     ]
    },
    {
     "name": "stderr",
     "output_type": "stream",
     "text": [
      "Scraper going at...: 1069it [25:07,  1.33s/it]"
     ]
    },
    {
     "name": "stdout",
     "output_type": "stream",
     "text": [
      "No main image div found in URL: https://www.nos.nl/artikel/2501004\n"
     ]
    },
    {
     "name": "stderr",
     "output_type": "stream",
     "text": [
      "Scraper going at...: 1071it [25:10,  1.54s/it]"
     ]
    },
    {
     "name": "stdout",
     "output_type": "stream",
     "text": [
      "No figcaption found for images in URL: https://www.nos.nl/artikel/2500999\n"
     ]
    },
    {
     "name": "stderr",
     "output_type": "stream",
     "text": [
      "Scraper going at...: 1072it [25:11,  1.40s/it]"
     ]
    },
    {
     "name": "stdout",
     "output_type": "stream",
     "text": [
      "No main image div found in URL: https://www.nos.nl/artikel/2500998\n"
     ]
    },
    {
     "name": "stderr",
     "output_type": "stream",
     "text": [
      "Scraper going at...: 1074it [25:14,  1.24s/it]"
     ]
    },
    {
     "name": "stdout",
     "output_type": "stream",
     "text": [
      "No main image div found in URL: https://www.nos.nl/artikel/2500993\n"
     ]
    },
    {
     "name": "stderr",
     "output_type": "stream",
     "text": [
      "Scraper going at...: 1080it [25:22,  1.19s/it]"
     ]
    },
    {
     "name": "stdout",
     "output_type": "stream",
     "text": [
      "No main image div found in URL: https://www.nos.nl/artikel/2500966\n"
     ]
    },
    {
     "name": "stderr",
     "output_type": "stream",
     "text": [
      "Scraper going at...: 1084it [25:28,  1.32s/it]"
     ]
    },
    {
     "name": "stdout",
     "output_type": "stream",
     "text": [
      "No main image div found in URL: https://www.nos.nl/artikel/2500957\n"
     ]
    },
    {
     "name": "stderr",
     "output_type": "stream",
     "text": [
      "Scraper going at...: 1086it [25:37,  2.53s/it]"
     ]
    },
    {
     "name": "stdout",
     "output_type": "stream",
     "text": [
      "No figcaption found for images in URL: https://www.nos.nl/artikel/2500954\n"
     ]
    },
    {
     "name": "stderr",
     "output_type": "stream",
     "text": [
      "Scraper going at...: 1088it [25:39,  1.79s/it]"
     ]
    },
    {
     "name": "stdout",
     "output_type": "stream",
     "text": [
      "No figcaption found for images in URL: https://www.nos.nl/artikel/2500952\n"
     ]
    },
    {
     "name": "stderr",
     "output_type": "stream",
     "text": [
      "Scraper going at...: 1089it [25:41,  1.95s/it]"
     ]
    },
    {
     "name": "stdout",
     "output_type": "stream",
     "text": [
      "No main image div found in URL: https://www.nos.nl/artikel/2500950\n"
     ]
    },
    {
     "name": "stderr",
     "output_type": "stream",
     "text": [
      "Scraper going at...: 1093it [25:47,  1.64s/it]"
     ]
    },
    {
     "name": "stdout",
     "output_type": "stream",
     "text": [
      "No main image div found in URL: https://www.nos.nl/artikel/2500941\n"
     ]
    },
    {
     "name": "stderr",
     "output_type": "stream",
     "text": [
      "Scraper going at...: 1104it [26:04,  1.84s/it]"
     ]
    },
    {
     "name": "stdout",
     "output_type": "stream",
     "text": [
      "No figcaption found for images in URL: https://www.nos.nl/artikel/2500917\n"
     ]
    },
    {
     "name": "stderr",
     "output_type": "stream",
     "text": [
      "Scraper going at...: 1105it [26:05,  1.58s/it]"
     ]
    },
    {
     "name": "stdout",
     "output_type": "stream",
     "text": [
      "No main image div found in URL: https://www.nos.nl/artikel/2500912\n"
     ]
    },
    {
     "name": "stderr",
     "output_type": "stream",
     "text": [
      "Scraper going at...: 1108it [26:10,  1.55s/it]"
     ]
    },
    {
     "name": "stdout",
     "output_type": "stream",
     "text": [
      "No main image div found in URL: https://www.nos.nl/artikel/2500906\n"
     ]
    },
    {
     "name": "stderr",
     "output_type": "stream",
     "text": [
      "Scraper going at...: 1109it [26:11,  1.45s/it]"
     ]
    },
    {
     "name": "stdout",
     "output_type": "stream",
     "text": [
      "No figcaption found for images in URL: https://www.nos.nl/artikel/2500900\n"
     ]
    },
    {
     "name": "stderr",
     "output_type": "stream",
     "text": [
      "Scraper going at...: 1119it [26:30,  1.81s/it]"
     ]
    },
    {
     "name": "stdout",
     "output_type": "stream",
     "text": [
      "No main image div found in URL: https://www.nos.nl/artikel/2500881\n"
     ]
    },
    {
     "name": "stderr",
     "output_type": "stream",
     "text": [
      "Scraper going at...: 1120it [26:32,  1.95s/it]"
     ]
    },
    {
     "name": "stdout",
     "output_type": "stream",
     "text": [
      "No main image div found in URL: https://www.nos.nl/artikel/2500880\n"
     ]
    },
    {
     "name": "stderr",
     "output_type": "stream",
     "text": [
      "Scraper going at...: 1121it [26:34,  1.89s/it]"
     ]
    },
    {
     "name": "stdout",
     "output_type": "stream",
     "text": [
      "No figcaption found for images in URL: https://www.nos.nl/artikel/2500879\n"
     ]
    },
    {
     "name": "stderr",
     "output_type": "stream",
     "text": [
      "Scraper going at...: 1124it [26:40,  1.97s/it]"
     ]
    },
    {
     "name": "stdout",
     "output_type": "stream",
     "text": [
      "No figcaption found for images in URL: https://www.nos.nl/artikel/2500870\n"
     ]
    },
    {
     "name": "stderr",
     "output_type": "stream",
     "text": [
      "Scraper going at...: 1128it [26:47,  2.06s/it]"
     ]
    },
    {
     "name": "stdout",
     "output_type": "stream",
     "text": [
      "No main image div found in URL: https://www.nos.nl/artikel/2500863\n"
     ]
    },
    {
     "name": "stderr",
     "output_type": "stream",
     "text": [
      "Scraper going at...: 1129it [26:49,  1.97s/it]"
     ]
    },
    {
     "name": "stdout",
     "output_type": "stream",
     "text": [
      "No figcaption found for images in URL: https://www.nos.nl/artikel/2500860\n"
     ]
    },
    {
     "name": "stderr",
     "output_type": "stream",
     "text": [
      "Scraper going at...: 1130it [26:50,  1.66s/it]"
     ]
    },
    {
     "name": "stdout",
     "output_type": "stream",
     "text": [
      "No main image div found in URL: https://www.nos.nl/artikel/2500857\n"
     ]
    },
    {
     "name": "stderr",
     "output_type": "stream",
     "text": [
      "Scraper going at...: 1131it [26:51,  1.52s/it]"
     ]
    },
    {
     "name": "stdout",
     "output_type": "stream",
     "text": [
      "No figcaption found for images in URL: https://www.nos.nl/artikel/2500853\n"
     ]
    },
    {
     "name": "stderr",
     "output_type": "stream",
     "text": [
      "Scraper going at...: 1132it [26:52,  1.42s/it]"
     ]
    },
    {
     "name": "stdout",
     "output_type": "stream",
     "text": [
      "No main image div found in URL: https://www.nos.nl/artikel/2500850\n"
     ]
    },
    {
     "name": "stderr",
     "output_type": "stream",
     "text": [
      "Scraper going at...: 1133it [26:54,  1.58s/it]"
     ]
    },
    {
     "name": "stdout",
     "output_type": "stream",
     "text": [
      "No main image div found in URL: https://www.nos.nl/artikel/2500846\n"
     ]
    },
    {
     "name": "stderr",
     "output_type": "stream",
     "text": [
      "Scraper going at...: 1135it [26:58,  1.57s/it]"
     ]
    },
    {
     "name": "stdout",
     "output_type": "stream",
     "text": [
      "No figcaption found for images in URL: https://www.nos.nl/artikel/2500841\n"
     ]
    },
    {
     "name": "stderr",
     "output_type": "stream",
     "text": [
      "Scraper going at...: 1144it [27:08,  1.23s/it]"
     ]
    },
    {
     "name": "stdout",
     "output_type": "stream",
     "text": [
      "No main image div found in URL: https://www.nos.nl/artikel/2500826\n"
     ]
    },
    {
     "name": "stderr",
     "output_type": "stream",
     "text": [
      "Scraper going at...: 1152it [27:24,  1.54s/it]"
     ]
    },
    {
     "name": "stdout",
     "output_type": "stream",
     "text": [
      "No main image div found in URL: https://www.nos.nl/artikel/2500807\n"
     ]
    },
    {
     "name": "stderr",
     "output_type": "stream",
     "text": [
      "Scraper going at...: 1154it [27:27,  1.73s/it]"
     ]
    },
    {
     "name": "stdout",
     "output_type": "stream",
     "text": [
      "No main image div found in URL: https://www.nos.nl/artikel/2500803\n"
     ]
    },
    {
     "name": "stderr",
     "output_type": "stream",
     "text": [
      "Scraper going at...: 1155it [27:28,  1.52s/it]"
     ]
    },
    {
     "name": "stdout",
     "output_type": "stream",
     "text": [
      "No figcaption found for images in URL: https://www.nos.nl/artikel/2500802\n"
     ]
    },
    {
     "name": "stderr",
     "output_type": "stream",
     "text": [
      "Scraper going at...: 1162it [27:39,  1.66s/it]"
     ]
    },
    {
     "name": "stdout",
     "output_type": "stream",
     "text": [
      "No figcaption found for images in URL: https://www.nos.nl/artikel/2500788\n"
     ]
    },
    {
     "name": "stderr",
     "output_type": "stream",
     "text": [
      "Scraper going at...: 1163it [27:40,  1.49s/it]"
     ]
    },
    {
     "name": "stdout",
     "output_type": "stream",
     "text": [
      "No figcaption found for images in URL: https://www.nos.nl/artikel/2500781\n"
     ]
    },
    {
     "name": "stderr",
     "output_type": "stream",
     "text": [
      "Scraper going at...: 1167it [27:49,  2.19s/it]"
     ]
    },
    {
     "name": "stdout",
     "output_type": "stream",
     "text": [
      "No main image div found in URL: https://www.nos.nl/artikel/2500771\n"
     ]
    },
    {
     "name": "stderr",
     "output_type": "stream",
     "text": [
      "Scraper going at...: 1169it [27:52,  2.00s/it]"
     ]
    },
    {
     "name": "stdout",
     "output_type": "stream",
     "text": [
      "No figcaption found for images in URL: https://www.nos.nl/artikel/2500765\n"
     ]
    },
    {
     "name": "stderr",
     "output_type": "stream",
     "text": [
      "Scraper going at...: 1171it [27:54,  1.48s/it]"
     ]
    },
    {
     "name": "stdout",
     "output_type": "stream",
     "text": [
      "No figcaption found for images in URL: https://www.nos.nl/artikel/2500763\n"
     ]
    },
    {
     "name": "stderr",
     "output_type": "stream",
     "text": [
      "Scraper going at...: 1181it [28:10,  1.91s/it]"
     ]
    },
    {
     "name": "stdout",
     "output_type": "stream",
     "text": [
      "No main image div found in URL: https://www.nos.nl/artikel/2500744\n"
     ]
    },
    {
     "name": "stderr",
     "output_type": "stream",
     "text": [
      "Scraper going at...: 1187it [28:19,  1.69s/it]"
     ]
    },
    {
     "name": "stdout",
     "output_type": "stream",
     "text": [
      "No main image div found in URL: https://www.nos.nl/artikel/2500729\n"
     ]
    },
    {
     "name": "stderr",
     "output_type": "stream",
     "text": [
      "Scraper going at...: 1188it [28:20,  1.53s/it]"
     ]
    },
    {
     "name": "stdout",
     "output_type": "stream",
     "text": [
      "No main image div found in URL: https://www.nos.nl/artikel/2500728\n"
     ]
    },
    {
     "name": "stderr",
     "output_type": "stream",
     "text": [
      "Scraper going at...: 1189it [28:23,  1.90s/it]"
     ]
    },
    {
     "name": "stdout",
     "output_type": "stream",
     "text": [
      "No main image div found in URL: https://www.nos.nl/artikel/2500727\n"
     ]
    },
    {
     "name": "stderr",
     "output_type": "stream",
     "text": [
      "Scraper going at...: 1191it [28:25,  1.45s/it]"
     ]
    },
    {
     "name": "stdout",
     "output_type": "stream",
     "text": [
      "No main image div found in URL: https://www.nos.nl/artikel/2500723\n"
     ]
    },
    {
     "name": "stderr",
     "output_type": "stream",
     "text": [
      "Scraper going at...: 1197it [28:33,  1.36s/it]"
     ]
    },
    {
     "name": "stdout",
     "output_type": "stream",
     "text": [
      "No figcaption found for images in URL: https://www.nos.nl/artikel/2500706\n"
     ]
    },
    {
     "name": "stderr",
     "output_type": "stream",
     "text": [
      "Scraper going at...: 1201it [28:38,  1.25s/it]"
     ]
    },
    {
     "name": "stdout",
     "output_type": "stream",
     "text": [
      "No figcaption found for images in URL: https://www.nos.nl/artikel/2500694\n"
     ]
    },
    {
     "name": "stderr",
     "output_type": "stream",
     "text": [
      "Scraper going at...: 1208it [28:46,  1.06s/it]"
     ]
    },
    {
     "name": "stdout",
     "output_type": "stream",
     "text": [
      "No figcaption found for images in URL: https://www.nos.nl/artikel/2500681\n"
     ]
    },
    {
     "name": "stderr",
     "output_type": "stream",
     "text": [
      "Scraper going at...: 1211it [28:49,  1.13s/it]"
     ]
    },
    {
     "name": "stdout",
     "output_type": "stream",
     "text": [
      "No figcaption found for images in URL: https://www.nos.nl/artikel/2500678\n"
     ]
    },
    {
     "name": "stderr",
     "output_type": "stream",
     "text": [
      "Scraper going at...: 1213it [28:52,  1.36s/it]"
     ]
    },
    {
     "name": "stdout",
     "output_type": "stream",
     "text": [
      "No main image div found in URL: https://www.nos.nl/artikel/2500673\n"
     ]
    },
    {
     "name": "stderr",
     "output_type": "stream",
     "text": [
      "Scraper going at...: 1214it [28:53,  1.29s/it]"
     ]
    },
    {
     "name": "stdout",
     "output_type": "stream",
     "text": [
      "No figcaption found for images in URL: https://www.nos.nl/artikel/2500672\n"
     ]
    },
    {
     "name": "stderr",
     "output_type": "stream",
     "text": [
      "Scraper going at...: 1215it [28:54,  1.19s/it]"
     ]
    },
    {
     "name": "stdout",
     "output_type": "stream",
     "text": [
      "No main image div found in URL: https://www.nos.nl/artikel/2500671\n"
     ]
    },
    {
     "name": "stderr",
     "output_type": "stream",
     "text": [
      "Scraper going at...: 1216it [28:55,  1.26s/it]"
     ]
    },
    {
     "name": "stdout",
     "output_type": "stream",
     "text": [
      "No figcaption found for images in URL: https://www.nos.nl/artikel/2500669\n"
     ]
    },
    {
     "name": "stderr",
     "output_type": "stream",
     "text": [
      "Scraper going at...: 1220it [29:02,  1.40s/it]"
     ]
    },
    {
     "name": "stdout",
     "output_type": "stream",
     "text": [
      "No figcaption found for images in URL: https://www.nos.nl/artikel/2500659\n"
     ]
    },
    {
     "name": "stderr",
     "output_type": "stream",
     "text": [
      "Scraper going at...: 1222it [29:05,  1.39s/it]"
     ]
    },
    {
     "name": "stdout",
     "output_type": "stream",
     "text": [
      "No figcaption found for images in URL: https://www.nos.nl/artikel/2500652\n"
     ]
    },
    {
     "name": "stderr",
     "output_type": "stream",
     "text": [
      "Scraper going at...: 1223it [29:06,  1.32s/it]"
     ]
    },
    {
     "name": "stdout",
     "output_type": "stream",
     "text": [
      "No main image div found in URL: https://www.nos.nl/artikel/2500650\n"
     ]
    },
    {
     "name": "stderr",
     "output_type": "stream",
     "text": [
      "Scraper going at...: 1224it [29:08,  1.52s/it]"
     ]
    },
    {
     "name": "stdout",
     "output_type": "stream",
     "text": [
      "No figcaption found for images in URL: https://www.nos.nl/artikel/2500648\n"
     ]
    },
    {
     "name": "stderr",
     "output_type": "stream",
     "text": [
      "Scraper going at...: 1227it [29:11,  1.18s/it]"
     ]
    },
    {
     "name": "stdout",
     "output_type": "stream",
     "text": [
      "No figcaption found for images in URL: https://www.nos.nl/artikel/2500644\n"
     ]
    },
    {
     "name": "stderr",
     "output_type": "stream",
     "text": [
      "Scraper going at...: 1228it [29:12,  1.14s/it]"
     ]
    },
    {
     "name": "stdout",
     "output_type": "stream",
     "text": [
      "No figcaption found for images in URL: https://www.nos.nl/artikel/2500643\n"
     ]
    },
    {
     "name": "stderr",
     "output_type": "stream",
     "text": [
      "Scraper going at...: 1230it [29:15,  1.40s/it]"
     ]
    },
    {
     "name": "stdout",
     "output_type": "stream",
     "text": [
      "No figcaption found for images in URL: https://www.nos.nl/artikel/2500641\n"
     ]
    },
    {
     "name": "stderr",
     "output_type": "stream",
     "text": [
      "Scraper going at...: 1231it [29:16,  1.35s/it]"
     ]
    },
    {
     "name": "stdout",
     "output_type": "stream",
     "text": [
      "No figcaption found for images in URL: https://www.nos.nl/artikel/2500640\n"
     ]
    },
    {
     "name": "stderr",
     "output_type": "stream",
     "text": [
      "Scraper going at...: 1233it [29:20,  1.52s/it]"
     ]
    },
    {
     "name": "stdout",
     "output_type": "stream",
     "text": [
      "No figcaption found for images in URL: https://www.nos.nl/artikel/2500635\n"
     ]
    },
    {
     "name": "stderr",
     "output_type": "stream",
     "text": [
      "Scraper going at...: 1237it [29:25,  1.56s/it]"
     ]
    },
    {
     "name": "stdout",
     "output_type": "stream",
     "text": [
      "No figcaption found for images in URL: https://www.nos.nl/artikel/2500625\n"
     ]
    },
    {
     "name": "stderr",
     "output_type": "stream",
     "text": [
      "Scraper going at...: 1238it [29:26,  1.39s/it]"
     ]
    },
    {
     "name": "stdout",
     "output_type": "stream",
     "text": [
      "No figcaption found for images in URL: https://www.nos.nl/artikel/2500623\n"
     ]
    },
    {
     "name": "stderr",
     "output_type": "stream",
     "text": [
      "Scraper going at...: 1240it [29:31,  2.19s/it]"
     ]
    },
    {
     "name": "stdout",
     "output_type": "stream",
     "text": [
      "No main image div found in URL: https://www.nos.nl/artikel/2500620\n"
     ]
    },
    {
     "name": "stderr",
     "output_type": "stream",
     "text": [
      "Scraper going at...: 1241it [29:33,  2.08s/it]"
     ]
    },
    {
     "name": "stdout",
     "output_type": "stream",
     "text": [
      "No main image div found in URL: https://www.nos.nl/artikel/2500618\n"
     ]
    },
    {
     "name": "stderr",
     "output_type": "stream",
     "text": [
      "Scraper going at...: 1243it [29:35,  1.60s/it]"
     ]
    },
    {
     "name": "stdout",
     "output_type": "stream",
     "text": [
      "No main image div found in URL: https://www.nos.nl/artikel/2500614\n"
     ]
    },
    {
     "name": "stderr",
     "output_type": "stream",
     "text": [
      "Scraper going at...: 1245it [29:38,  1.37s/it]"
     ]
    },
    {
     "name": "stdout",
     "output_type": "stream",
     "text": [
      "No main image div found in URL: https://www.nos.nl/artikel/2500608\n"
     ]
    },
    {
     "name": "stderr",
     "output_type": "stream",
     "text": [
      "Scraper going at...: 1247it [29:41,  1.53s/it]"
     ]
    },
    {
     "name": "stdout",
     "output_type": "stream",
     "text": [
      "No figcaption found for images in URL: https://www.nos.nl/artikel/2500603\n"
     ]
    },
    {
     "name": "stderr",
     "output_type": "stream",
     "text": [
      "Scraper going at...: 1255it [29:52,  1.18s/it]"
     ]
    },
    {
     "name": "stdout",
     "output_type": "stream",
     "text": [
      "No figcaption found for images in URL: https://www.nos.nl/artikel/2500579\n"
     ]
    },
    {
     "name": "stderr",
     "output_type": "stream",
     "text": [
      "Scraper going at...: 1256it [29:53,  1.10s/it]"
     ]
    },
    {
     "name": "stdout",
     "output_type": "stream",
     "text": [
      "No main image div found in URL: https://www.nos.nl/artikel/2500575\n"
     ]
    },
    {
     "name": "stderr",
     "output_type": "stream",
     "text": [
      "Scraper going at...: 1258it [29:55,  1.08s/it]"
     ]
    },
    {
     "name": "stdout",
     "output_type": "stream",
     "text": [
      "No figcaption found for images in URL: https://www.nos.nl/artikel/2500571\n"
     ]
    },
    {
     "name": "stderr",
     "output_type": "stream",
     "text": [
      "Scraper going at...: 1262it [30:00,  1.17s/it]"
     ]
    },
    {
     "name": "stdout",
     "output_type": "stream",
     "text": [
      "No figcaption found for images in URL: https://www.nos.nl/artikel/2500565\n"
     ]
    },
    {
     "name": "stderr",
     "output_type": "stream",
     "text": [
      "Scraper going at...: 1265it [30:05,  1.39s/it]"
     ]
    },
    {
     "name": "stdout",
     "output_type": "stream",
     "text": [
      "No main image div found in URL: https://www.nos.nl/artikel/2500556\n"
     ]
    },
    {
     "name": "stderr",
     "output_type": "stream",
     "text": [
      "Scraper going at...: 1268it [30:10,  1.66s/it]"
     ]
    },
    {
     "name": "stdout",
     "output_type": "stream",
     "text": [
      "No figcaption found for images in URL: https://www.nos.nl/artikel/2500552\n"
     ]
    },
    {
     "name": "stderr",
     "output_type": "stream",
     "text": [
      "Scraper going at...: 1271it [30:14,  1.71s/it]"
     ]
    },
    {
     "name": "stdout",
     "output_type": "stream",
     "text": [
      "No figcaption found for images in URL: https://www.nos.nl/artikel/2500548\n"
     ]
    },
    {
     "name": "stderr",
     "output_type": "stream",
     "text": [
      "Scraper going at...: 1273it [30:18,  1.66s/it]"
     ]
    },
    {
     "name": "stdout",
     "output_type": "stream",
     "text": [
      "No main image div found in URL: https://www.nos.nl/artikel/2500546\n"
     ]
    },
    {
     "name": "stderr",
     "output_type": "stream",
     "text": [
      "Scraper going at...: 1281it [30:31,  1.89s/it]"
     ]
    },
    {
     "name": "stdout",
     "output_type": "stream",
     "text": [
      "No figcaption found for images in URL: https://www.nos.nl/artikel/2500525\n"
     ]
    },
    {
     "name": "stderr",
     "output_type": "stream",
     "text": [
      "Scraper going at...: 1285it [30:38,  1.86s/it]"
     ]
    },
    {
     "name": "stdout",
     "output_type": "stream",
     "text": [
      "No figcaption found for images in URL: https://www.nos.nl/artikel/2500516\n"
     ]
    },
    {
     "name": "stderr",
     "output_type": "stream",
     "text": [
      "Scraper going at...: 1286it [30:39,  1.69s/it]"
     ]
    },
    {
     "name": "stdout",
     "output_type": "stream",
     "text": [
      "No figcaption found for images in URL: https://www.nos.nl/artikel/2500515\n"
     ]
    },
    {
     "name": "stderr",
     "output_type": "stream",
     "text": [
      "Scraper going at...: 1287it [30:40,  1.52s/it]"
     ]
    },
    {
     "name": "stdout",
     "output_type": "stream",
     "text": [
      "No figcaption found for images in URL: https://www.nos.nl/artikel/2500514\n"
     ]
    },
    {
     "name": "stderr",
     "output_type": "stream",
     "text": [
      "Scraper going at...: 1291it [30:45,  1.13s/it]"
     ]
    },
    {
     "name": "stdout",
     "output_type": "stream",
     "text": [
      "No main image div found in URL: https://www.nos.nl/artikel/2500509\n"
     ]
    },
    {
     "name": "stderr",
     "output_type": "stream",
     "text": [
      "Scraper going at...: 1292it [30:46,  1.12s/it]"
     ]
    },
    {
     "name": "stdout",
     "output_type": "stream",
     "text": [
      "No figcaption found for images in URL: https://www.nos.nl/artikel/2500508\n"
     ]
    },
    {
     "name": "stderr",
     "output_type": "stream",
     "text": [
      "Scraper going at...: 1294it [30:49,  1.42s/it]"
     ]
    },
    {
     "name": "stdout",
     "output_type": "stream",
     "text": [
      "No main image div found in URL: https://www.nos.nl/artikel/2500494\n"
     ]
    },
    {
     "name": "stderr",
     "output_type": "stream",
     "text": [
      "Scraper going at...: 1295it [30:50,  1.28s/it]"
     ]
    },
    {
     "name": "stdout",
     "output_type": "stream",
     "text": [
      "No main image div found in URL: https://www.nos.nl/artikel/2500493\n"
     ]
    },
    {
     "name": "stderr",
     "output_type": "stream",
     "text": [
      "Scraper going at...: 1300it [30:57,  1.42s/it]"
     ]
    },
    {
     "name": "stdout",
     "output_type": "stream",
     "text": [
      "No figcaption found for images in URL: https://www.nos.nl/artikel/2500478\n"
     ]
    },
    {
     "name": "stderr",
     "output_type": "stream",
     "text": [
      "Scraper going at...: 1301it [30:58,  1.39s/it]"
     ]
    },
    {
     "name": "stdout",
     "output_type": "stream",
     "text": [
      "No figcaption found for images in URL: https://www.nos.nl/artikel/2500475\n"
     ]
    },
    {
     "name": "stderr",
     "output_type": "stream",
     "text": [
      "Scraper going at...: 1304it [31:02,  1.29s/it]"
     ]
    },
    {
     "name": "stdout",
     "output_type": "stream",
     "text": [
      "No figcaption found for images in URL: https://www.nos.nl/artikel/2500471\n"
     ]
    },
    {
     "name": "stderr",
     "output_type": "stream",
     "text": [
      "Scraper going at...: 1305it [31:04,  1.33s/it]"
     ]
    },
    {
     "name": "stdout",
     "output_type": "stream",
     "text": [
      "No main image div found in URL: https://www.nos.nl/artikel/2500466\n"
     ]
    },
    {
     "name": "stderr",
     "output_type": "stream",
     "text": [
      "Scraper going at...: 1307it [31:08,  1.77s/it]"
     ]
    },
    {
     "name": "stdout",
     "output_type": "stream",
     "text": [
      "No figcaption found for images in URL: https://www.nos.nl/artikel/2500453\n"
     ]
    },
    {
     "name": "stderr",
     "output_type": "stream",
     "text": [
      "Scraper going at...: 1311it [31:12,  1.22s/it]"
     ]
    },
    {
     "name": "stdout",
     "output_type": "stream",
     "text": [
      "No figcaption found for images in URL: https://www.nos.nl/artikel/2500449\n"
     ]
    },
    {
     "name": "stderr",
     "output_type": "stream",
     "text": [
      "Scraper going at...: 1313it [31:15,  1.14s/it]"
     ]
    },
    {
     "name": "stdout",
     "output_type": "stream",
     "text": [
      "No figcaption found for images in URL: https://www.nos.nl/artikel/2500447\n"
     ]
    },
    {
     "name": "stderr",
     "output_type": "stream",
     "text": [
      "Scraper going at...: 1320it [31:26,  2.08s/it]"
     ]
    },
    {
     "name": "stdout",
     "output_type": "stream",
     "text": [
      "No figcaption found for images in URL: https://www.nos.nl/artikel/2500433\n"
     ]
    },
    {
     "name": "stderr",
     "output_type": "stream",
     "text": [
      "Scraper going at...: 1332it [31:43,  1.26s/it]"
     ]
    },
    {
     "name": "stdout",
     "output_type": "stream",
     "text": [
      "No figcaption found for images in URL: https://www.nos.nl/artikel/2500413\n"
     ]
    },
    {
     "name": "stderr",
     "output_type": "stream",
     "text": [
      "Scraper going at...: 1337it [31:49,  1.13s/it]"
     ]
    },
    {
     "name": "stdout",
     "output_type": "stream",
     "text": [
      "No figcaption found for images in URL: https://www.nos.nl/artikel/2500390\n"
     ]
    },
    {
     "name": "stderr",
     "output_type": "stream",
     "text": [
      "Scraper going at...: 1339it [31:51,  1.11s/it]"
     ]
    },
    {
     "name": "stdout",
     "output_type": "stream",
     "text": [
      "No figcaption found for images in URL: https://www.nos.nl/artikel/2500387\n"
     ]
    },
    {
     "name": "stderr",
     "output_type": "stream",
     "text": [
      "Scraper going at...: 1340it [31:52,  1.05s/it]"
     ]
    },
    {
     "name": "stdout",
     "output_type": "stream",
     "text": [
      "No main image div found in URL: https://www.nos.nl/artikel/2500386\n"
     ]
    },
    {
     "name": "stderr",
     "output_type": "stream",
     "text": [
      "Scraper going at...: 1341it [31:53,  1.19s/it]"
     ]
    },
    {
     "name": "stdout",
     "output_type": "stream",
     "text": [
      "No figcaption found for images in URL: https://www.nos.nl/artikel/2500384\n"
     ]
    },
    {
     "name": "stderr",
     "output_type": "stream",
     "text": [
      "Scraper going at...: 1343it [31:55,  1.10s/it]"
     ]
    },
    {
     "name": "stdout",
     "output_type": "stream",
     "text": [
      "No figcaption found for images in URL: https://www.nos.nl/artikel/2500382\n"
     ]
    },
    {
     "name": "stderr",
     "output_type": "stream",
     "text": [
      "Scraper going at...: 1346it [31:59,  1.15s/it]"
     ]
    },
    {
     "name": "stdout",
     "output_type": "stream",
     "text": [
      "No figcaption found for images in URL: https://www.nos.nl/artikel/2500377\n"
     ]
    },
    {
     "name": "stderr",
     "output_type": "stream",
     "text": [
      "Scraper going at...: 1347it [32:02,  1.69s/it]"
     ]
    },
    {
     "name": "stdout",
     "output_type": "stream",
     "text": [
      "No figcaption found for images in URL: https://www.nos.nl/artikel/2500376\n"
     ]
    },
    {
     "name": "stderr",
     "output_type": "stream",
     "text": [
      "Scraper going at...: 1351it [32:09,  1.88s/it]"
     ]
    },
    {
     "name": "stdout",
     "output_type": "stream",
     "text": [
      "No figcaption found for images in URL: https://www.nos.nl/artikel/2500369\n"
     ]
    },
    {
     "name": "stderr",
     "output_type": "stream",
     "text": [
      "Scraper going at...: 1353it [32:11,  1.43s/it]"
     ]
    },
    {
     "name": "stdout",
     "output_type": "stream",
     "text": [
      "No main image div found in URL: https://www.nos.nl/artikel/2500366\n"
     ]
    },
    {
     "name": "stderr",
     "output_type": "stream",
     "text": [
      "Scraper going at...: 1355it [32:14,  1.39s/it]"
     ]
    },
    {
     "name": "stdout",
     "output_type": "stream",
     "text": [
      "No figcaption found for images in URL: https://www.nos.nl/artikel/2500364\n"
     ]
    },
    {
     "name": "stderr",
     "output_type": "stream",
     "text": [
      "Scraper going at...: 1361it [32:23,  1.57s/it]"
     ]
    },
    {
     "name": "stdout",
     "output_type": "stream",
     "text": [
      "No figcaption found for images in URL: https://www.nos.nl/artikel/2500351\n"
     ]
    },
    {
     "name": "stderr",
     "output_type": "stream",
     "text": [
      "Scraper going at...: 1369it [32:32,  1.16s/it]"
     ]
    },
    {
     "name": "stdout",
     "output_type": "stream",
     "text": [
      "No figcaption found for images in URL: https://www.nos.nl/artikel/2500338\n"
     ]
    },
    {
     "name": "stderr",
     "output_type": "stream",
     "text": [
      "Scraper going at...: 1372it [32:37,  1.49s/it]"
     ]
    },
    {
     "name": "stdout",
     "output_type": "stream",
     "text": [
      "No figcaption found for images in URL: https://www.nos.nl/artikel/2500333\n"
     ]
    },
    {
     "name": "stderr",
     "output_type": "stream",
     "text": [
      "Scraper going at...: 1376it [32:43,  1.45s/it]"
     ]
    },
    {
     "name": "stdout",
     "output_type": "stream",
     "text": [
      "No figcaption found for images in URL: https://www.nos.nl/artikel/2500326\n"
     ]
    },
    {
     "name": "stderr",
     "output_type": "stream",
     "text": [
      "Scraper going at...: 1380it [32:47,  1.13s/it]"
     ]
    },
    {
     "name": "stdout",
     "output_type": "stream",
     "text": [
      "No figcaption found for images in URL: https://www.nos.nl/artikel/2500319\n"
     ]
    },
    {
     "name": "stderr",
     "output_type": "stream",
     "text": [
      "Scraper going at...: 1381it [32:51,  2.14s/it]"
     ]
    },
    {
     "name": "stdout",
     "output_type": "stream",
     "text": [
      "No main image div found in URL: https://www.nos.nl/artikel/2500317\n"
     ]
    },
    {
     "name": "stderr",
     "output_type": "stream",
     "text": [
      "Scraper going at...: 1386it [32:59,  1.55s/it]"
     ]
    },
    {
     "name": "stdout",
     "output_type": "stream",
     "text": [
      "No figcaption found for images in URL: https://www.nos.nl/artikel/2500302\n"
     ]
    },
    {
     "name": "stderr",
     "output_type": "stream",
     "text": [
      "Scraper going at...: 1388it [33:01,  1.27s/it]"
     ]
    },
    {
     "name": "stdout",
     "output_type": "stream",
     "text": [
      "No figcaption found for images in URL: https://www.nos.nl/artikel/2500300\n"
     ]
    },
    {
     "name": "stderr",
     "output_type": "stream",
     "text": [
      "Scraper going at...: 1390it [33:04,  1.27s/it]"
     ]
    },
    {
     "name": "stdout",
     "output_type": "stream",
     "text": [
      "No main image div found in URL: https://www.nos.nl/artikel/2500294\n"
     ]
    },
    {
     "name": "stderr",
     "output_type": "stream",
     "text": [
      "Scraper going at...: 1393it [33:07,  1.15s/it]"
     ]
    },
    {
     "name": "stdout",
     "output_type": "stream",
     "text": [
      "No figcaption found for images in URL: https://www.nos.nl/artikel/2500279\n"
     ]
    },
    {
     "name": "stderr",
     "output_type": "stream",
     "text": [
      "Scraper going at...: 1396it [33:12,  1.46s/it]"
     ]
    },
    {
     "name": "stdout",
     "output_type": "stream",
     "text": [
      "No figcaption found for images in URL: https://www.nos.nl/artikel/2500274\n"
     ]
    },
    {
     "name": "stderr",
     "output_type": "stream",
     "text": [
      "Scraper going at...: 1397it [33:13,  1.31s/it]"
     ]
    },
    {
     "name": "stdout",
     "output_type": "stream",
     "text": [
      "No figcaption found for images in URL: https://www.nos.nl/artikel/2500272\n"
     ]
    },
    {
     "name": "stderr",
     "output_type": "stream",
     "text": [
      "Scraper going at...: 1399it [33:15,  1.18s/it]"
     ]
    },
    {
     "name": "stdout",
     "output_type": "stream",
     "text": [
      "No main image div found in URL: https://www.nos.nl/artikel/2500270\n"
     ]
    },
    {
     "name": "stderr",
     "output_type": "stream",
     "text": [
      "Scraper going at...: 1407it [33:32,  2.10s/it]"
     ]
    },
    {
     "name": "stdout",
     "output_type": "stream",
     "text": [
      "No figcaption found for images in URL: https://www.nos.nl/artikel/2500250\n"
     ]
    },
    {
     "name": "stderr",
     "output_type": "stream",
     "text": [
      "Scraper going at...: 1409it [33:35,  1.73s/it]"
     ]
    },
    {
     "name": "stdout",
     "output_type": "stream",
     "text": [
      "No main image div found in URL: https://www.nos.nl/artikel/2500241\n"
     ]
    },
    {
     "name": "stderr",
     "output_type": "stream",
     "text": [
      "Scraper going at...: 1412it [33:40,  1.56s/it]"
     ]
    },
    {
     "name": "stdout",
     "output_type": "stream",
     "text": [
      "No figcaption found for images in URL: https://www.nos.nl/artikel/2500223\n"
     ]
    },
    {
     "name": "stderr",
     "output_type": "stream",
     "text": [
      "Scraper going at...: 1413it [33:41,  1.40s/it]"
     ]
    },
    {
     "name": "stdout",
     "output_type": "stream",
     "text": [
      "No main image div found in URL: https://www.nos.nl/artikel/2500215\n"
     ]
    },
    {
     "name": "stderr",
     "output_type": "stream",
     "text": [
      "Scraper going at...: 1414it [33:44,  1.75s/it]"
     ]
    },
    {
     "name": "stdout",
     "output_type": "stream",
     "text": [
      "No main image div found in URL: https://www.nos.nl/artikel/2500214\n"
     ]
    },
    {
     "name": "stderr",
     "output_type": "stream",
     "text": [
      "Scraper going at...: 1419it [33:52,  1.46s/it]"
     ]
    },
    {
     "name": "stdout",
     "output_type": "stream",
     "text": [
      "No main image div found in URL: https://www.nos.nl/artikel/2500206\n"
     ]
    },
    {
     "name": "stderr",
     "output_type": "stream",
     "text": [
      "Scraper going at...: 1420it [33:53,  1.50s/it]"
     ]
    },
    {
     "name": "stdout",
     "output_type": "stream",
     "text": [
      "No figcaption found for images in URL: https://www.nos.nl/artikel/2500205\n"
     ]
    },
    {
     "name": "stderr",
     "output_type": "stream",
     "text": [
      "Scraper going at...: 1422it [33:55,  1.26s/it]"
     ]
    },
    {
     "name": "stdout",
     "output_type": "stream",
     "text": [
      "No main image div found in URL: https://www.nos.nl/artikel/2500200\n"
     ]
    },
    {
     "name": "stderr",
     "output_type": "stream",
     "text": [
      "Scraper going at...: 1424it [33:58,  1.20s/it]"
     ]
    },
    {
     "name": "stdout",
     "output_type": "stream",
     "text": [
      "No main image div found in URL: https://www.nos.nl/artikel/2500192\n"
     ]
    },
    {
     "name": "stderr",
     "output_type": "stream",
     "text": [
      "Scraper going at...: 1425it [33:59,  1.27s/it]"
     ]
    },
    {
     "name": "stdout",
     "output_type": "stream",
     "text": [
      "No figcaption found for images in URL: https://www.nos.nl/artikel/2500191\n"
     ]
    },
    {
     "name": "stderr",
     "output_type": "stream",
     "text": [
      "Scraper going at...: 1426it [34:00,  1.26s/it]"
     ]
    },
    {
     "name": "stdout",
     "output_type": "stream",
     "text": [
      "No main image div found in URL: https://www.nos.nl/artikel/2500190\n"
     ]
    },
    {
     "name": "stderr",
     "output_type": "stream",
     "text": [
      "Scraper going at...: 1427it [34:02,  1.33s/it]"
     ]
    },
    {
     "name": "stdout",
     "output_type": "stream",
     "text": [
      "No main image div found in URL: https://www.nos.nl/artikel/2500187\n"
     ]
    },
    {
     "name": "stderr",
     "output_type": "stream",
     "text": [
      "Scraper going at...: 1428it [34:05,  1.78s/it]"
     ]
    },
    {
     "name": "stdout",
     "output_type": "stream",
     "text": [
      "No main image div found in URL: https://www.nos.nl/artikel/2500182\n"
     ]
    },
    {
     "name": "stderr",
     "output_type": "stream",
     "text": [
      "Scraper going at...: 1429it [34:07,  1.83s/it]"
     ]
    },
    {
     "name": "stdout",
     "output_type": "stream",
     "text": [
      "No figcaption found for images in URL: https://www.nos.nl/artikel/2500180\n"
     ]
    },
    {
     "name": "stderr",
     "output_type": "stream",
     "text": [
      "Scraper going at...: 1430it [34:08,  1.59s/it]"
     ]
    },
    {
     "name": "stdout",
     "output_type": "stream",
     "text": [
      "No main image div found in URL: https://www.nos.nl/artikel/2500179\n"
     ]
    },
    {
     "name": "stderr",
     "output_type": "stream",
     "text": [
      "Scraper going at...: 1433it [34:11,  1.31s/it]"
     ]
    },
    {
     "name": "stdout",
     "output_type": "stream",
     "text": [
      "No figcaption found for images in URL: https://www.nos.nl/artikel/2500167\n"
     ]
    },
    {
     "name": "stderr",
     "output_type": "stream",
     "text": [
      "Scraper going at...: 1439it [34:23,  1.69s/it]"
     ]
    },
    {
     "name": "stdout",
     "output_type": "stream",
     "text": [
      "No main image div found in URL: https://www.nos.nl/artikel/2500151\n"
     ]
    },
    {
     "name": "stderr",
     "output_type": "stream",
     "text": [
      "Scraper going at...: 1440it [34:23,  1.46s/it]"
     ]
    },
    {
     "name": "stdout",
     "output_type": "stream",
     "text": [
      "No main image div found in URL: https://www.nos.nl/artikel/2500148\n"
     ]
    },
    {
     "name": "stderr",
     "output_type": "stream",
     "text": [
      "Scraper going at...: 1442it [34:26,  1.25s/it]"
     ]
    },
    {
     "name": "stdout",
     "output_type": "stream",
     "text": [
      "No figcaption found for images in URL: https://www.nos.nl/artikel/2500139\n"
     ]
    },
    {
     "name": "stderr",
     "output_type": "stream",
     "text": [
      "Scraper going at...: 1443it [34:28,  1.59s/it]"
     ]
    },
    {
     "name": "stdout",
     "output_type": "stream",
     "text": [
      "No main image div found in URL: https://www.nos.nl/artikel/2500138\n"
     ]
    },
    {
     "name": "stderr",
     "output_type": "stream",
     "text": [
      "Scraper going at...: 1445it [34:30,  1.41s/it]"
     ]
    },
    {
     "name": "stdout",
     "output_type": "stream",
     "text": [
      "No main image div found in URL: https://www.nos.nl/artikel/2500135\n"
     ]
    },
    {
     "name": "stderr",
     "output_type": "stream",
     "text": [
      "Scraper going at...: 1446it [34:33,  1.77s/it]"
     ]
    },
    {
     "name": "stdout",
     "output_type": "stream",
     "text": [
      "No figcaption found for images in URL: https://www.nos.nl/artikel/2500130\n"
     ]
    },
    {
     "name": "stderr",
     "output_type": "stream",
     "text": [
      "Scraper going at...: 1447it [34:34,  1.59s/it]"
     ]
    },
    {
     "name": "stdout",
     "output_type": "stream",
     "text": [
      "No main image div found in URL: https://www.nos.nl/artikel/2500127\n"
     ]
    },
    {
     "name": "stderr",
     "output_type": "stream",
     "text": [
      "Scraper going at...: 1449it [34:38,  1.60s/it]"
     ]
    },
    {
     "name": "stdout",
     "output_type": "stream",
     "text": [
      "No figcaption found for images in URL: https://www.nos.nl/artikel/2500125\n"
     ]
    },
    {
     "name": "stderr",
     "output_type": "stream",
     "text": [
      "Scraper going at...: 1450it [34:39,  1.54s/it]"
     ]
    },
    {
     "name": "stdout",
     "output_type": "stream",
     "text": [
      "No main image div found in URL: https://www.nos.nl/artikel/2500120\n"
     ]
    },
    {
     "name": "stderr",
     "output_type": "stream",
     "text": [
      "Scraper going at...: 1451it [34:42,  2.00s/it]"
     ]
    },
    {
     "name": "stdout",
     "output_type": "stream",
     "text": [
      "No main image div found in URL: https://www.nos.nl/artikel/2500119\n"
     ]
    },
    {
     "name": "stderr",
     "output_type": "stream",
     "text": [
      "Scraper going at...: 1453it [34:47,  2.03s/it]"
     ]
    },
    {
     "name": "stdout",
     "output_type": "stream",
     "text": [
      "No main image div found in URL: https://www.nos.nl/artikel/2500115\n"
     ]
    },
    {
     "name": "stderr",
     "output_type": "stream",
     "text": [
      "Scraper going at...: 1454it [34:48,  1.86s/it]"
     ]
    },
    {
     "name": "stdout",
     "output_type": "stream",
     "text": [
      "No main image div found in URL: https://www.nos.nl/artikel/2500112\n"
     ]
    },
    {
     "name": "stderr",
     "output_type": "stream",
     "text": [
      "Scraper going at...: 1457it [34:51,  1.28s/it]"
     ]
    },
    {
     "name": "stdout",
     "output_type": "stream",
     "text": [
      "No main image div found in URL: https://www.nos.nl/artikel/2500109\n"
     ]
    },
    {
     "name": "stderr",
     "output_type": "stream",
     "text": [
      "Scraper going at...: 1458it [34:52,  1.18s/it]"
     ]
    },
    {
     "name": "stdout",
     "output_type": "stream",
     "text": [
      "No main image div found in URL: https://www.nos.nl/artikel/2500108\n"
     ]
    },
    {
     "name": "stderr",
     "output_type": "stream",
     "text": [
      "Scraper going at...: 1460it [34:54,  1.06s/it]"
     ]
    },
    {
     "name": "stdout",
     "output_type": "stream",
     "text": [
      "No main image div found in URL: https://www.nos.nl/artikel/2500103\n"
     ]
    },
    {
     "name": "stderr",
     "output_type": "stream",
     "text": [
      "Scraper going at...: 1469it [35:08,  1.42s/it]"
     ]
    },
    {
     "name": "stdout",
     "output_type": "stream",
     "text": [
      "No main image div found in URL: https://www.nos.nl/artikel/2500075\n"
     ]
    },
    {
     "name": "stderr",
     "output_type": "stream",
     "text": [
      "Scraper going at...: 1474it [35:15,  1.35s/it]"
     ]
    },
    {
     "name": "stdout",
     "output_type": "stream",
     "text": [
      "No main image div found in URL: https://www.nos.nl/artikel/2500062\n"
     ]
    },
    {
     "name": "stderr",
     "output_type": "stream",
     "text": [
      "Scraper going at...: 1477it [35:20,  1.75s/it]"
     ]
    },
    {
     "name": "stdout",
     "output_type": "stream",
     "text": [
      "No main image div found in URL: https://www.nos.nl/artikel/2500056\n"
     ]
    },
    {
     "name": "stderr",
     "output_type": "stream",
     "text": [
      "Scraper going at...: 1481it [35:24,  1.29s/it]"
     ]
    },
    {
     "name": "stdout",
     "output_type": "stream",
     "text": [
      "No main image div found in URL: https://www.nos.nl/artikel/2500051\n"
     ]
    },
    {
     "name": "stderr",
     "output_type": "stream",
     "text": [
      "Scraper going at...: 1483it [35:30,  1.91s/it]"
     ]
    },
    {
     "name": "stdout",
     "output_type": "stream",
     "text": [
      "No main image div found in URL: https://www.nos.nl/artikel/2500045\n"
     ]
    },
    {
     "name": "stderr",
     "output_type": "stream",
     "text": [
      "Scraper going at...: 1489it [35:36,  1.17s/it]"
     ]
    },
    {
     "name": "stdout",
     "output_type": "stream",
     "text": [
      "No main image div found in URL: https://www.nos.nl/artikel/2500036\n"
     ]
    },
    {
     "name": "stderr",
     "output_type": "stream",
     "text": [
      "Scraper going at...: 1495it [35:44,  1.25s/it]"
     ]
    },
    {
     "name": "stdout",
     "output_type": "stream",
     "text": [
      "No figcaption found for images in URL: https://www.nos.nl/artikel/2500023\n"
     ]
    },
    {
     "name": "stderr",
     "output_type": "stream",
     "text": [
      "Scraper going at...: 1498it [35:49,  1.72s/it]"
     ]
    },
    {
     "name": "stdout",
     "output_type": "stream",
     "text": [
      "No figcaption found for images in URL: https://www.nos.nl/artikel/2500017\n"
     ]
    },
    {
     "name": "stderr",
     "output_type": "stream",
     "text": [
      "Scraper going at...: 1500it [35:51,  1.36s/it]"
     ]
    },
    {
     "name": "stdout",
     "output_type": "stream",
     "text": [
      "No figcaption found for images in URL: https://www.nos.nl/artikel/2500014\n"
     ]
    },
    {
     "name": "stderr",
     "output_type": "stream",
     "text": [
      "Scraper going at...: 1501it [35:52,  1.34s/it]"
     ]
    },
    {
     "name": "stdout",
     "output_type": "stream",
     "text": [
      "No main image div found in URL: https://www.nos.nl/artikel/2500013\n"
     ]
    },
    {
     "name": "stderr",
     "output_type": "stream",
     "text": [
      "Scraper going at...: 1504it [35:56,  1.22s/it]"
     ]
    },
    {
     "name": "stdout",
     "output_type": "stream",
     "text": [
      "No figcaption found for images in URL: https://www.nos.nl/artikel/2500003\n"
     ]
    },
    {
     "name": "stderr",
     "output_type": "stream",
     "text": [
      "Scraper going at...: 1505it [35:57,  1.20s/it]"
     ]
    },
    {
     "name": "stdout",
     "output_type": "stream",
     "text": [
      "No main image div found in URL: https://www.nos.nl/artikel/2499996\n"
     ]
    },
    {
     "name": "stderr",
     "output_type": "stream",
     "text": [
      "Scraper going at...: 1506it [35:58,  1.15s/it]"
     ]
    },
    {
     "name": "stdout",
     "output_type": "stream",
     "text": [
      "No figcaption found for images in URL: https://www.nos.nl/artikel/2499989\n"
     ]
    },
    {
     "name": "stderr",
     "output_type": "stream",
     "text": [
      "Scraper going at...: 1507it [35:59,  1.28s/it]"
     ]
    },
    {
     "name": "stdout",
     "output_type": "stream",
     "text": [
      "No main image div found in URL: https://www.nos.nl/artikel/2499985\n"
     ]
    },
    {
     "name": "stderr",
     "output_type": "stream",
     "text": [
      "Scraper going at...: 1509it [36:03,  1.49s/it]"
     ]
    },
    {
     "name": "stdout",
     "output_type": "stream",
     "text": [
      "No main image div found in URL: https://www.nos.nl/artikel/2499979\n"
     ]
    },
    {
     "name": "stderr",
     "output_type": "stream",
     "text": [
      "Scraper going at...: 1510it [36:04,  1.34s/it]"
     ]
    },
    {
     "name": "stdout",
     "output_type": "stream",
     "text": [
      "No main image div found in URL: https://www.nos.nl/artikel/2499974\n"
     ]
    },
    {
     "name": "stderr",
     "output_type": "stream",
     "text": [
      "Scraper going at...: 1514it [36:08,  1.15s/it]"
     ]
    },
    {
     "name": "stdout",
     "output_type": "stream",
     "text": [
      "No main image div found in URL: https://www.nos.nl/artikel/2499968\n"
     ]
    },
    {
     "name": "stderr",
     "output_type": "stream",
     "text": [
      "Scraper going at...: 1519it [36:14,  1.20s/it]"
     ]
    },
    {
     "name": "stdout",
     "output_type": "stream",
     "text": [
      "No figcaption found for images in URL: https://www.nos.nl/artikel/2499961\n"
     ]
    },
    {
     "name": "stderr",
     "output_type": "stream",
     "text": [
      "Scraper going at...: 1528it [36:25,  1.41s/it]"
     ]
    },
    {
     "name": "stdout",
     "output_type": "stream",
     "text": [
      "No figcaption found for images in URL: https://www.nos.nl/artikel/2499937\n"
     ]
    },
    {
     "name": "stderr",
     "output_type": "stream",
     "text": [
      "Scraper going at...: 1529it [36:27,  1.63s/it]"
     ]
    },
    {
     "name": "stdout",
     "output_type": "stream",
     "text": [
      "No figcaption found for images in URL: https://www.nos.nl/artikel/2499932\n"
     ]
    },
    {
     "name": "stderr",
     "output_type": "stream",
     "text": [
      "Scraper going at...: 1533it [36:32,  1.22s/it]"
     ]
    },
    {
     "name": "stdout",
     "output_type": "stream",
     "text": [
      "No main image div found in URL: https://www.nos.nl/artikel/2499923\n"
     ]
    },
    {
     "name": "stderr",
     "output_type": "stream",
     "text": [
      "Scraper going at...: 1534it [36:33,  1.15s/it]"
     ]
    },
    {
     "name": "stdout",
     "output_type": "stream",
     "text": [
      "No main image div found in URL: https://www.nos.nl/artikel/2499919\n"
     ]
    },
    {
     "name": "stderr",
     "output_type": "stream",
     "text": [
      "Scraper going at...: 1539it [36:44,  2.31s/it]"
     ]
    },
    {
     "name": "stdout",
     "output_type": "stream",
     "text": [
      "No figcaption found for images in URL: https://www.nos.nl/artikel/2499911\n"
     ]
    },
    {
     "name": "stderr",
     "output_type": "stream",
     "text": [
      "Scraper going at...: 1540it [36:45,  1.91s/it]"
     ]
    },
    {
     "name": "stdout",
     "output_type": "stream",
     "text": [
      "No figcaption found for images in URL: https://www.nos.nl/artikel/2499910\n"
     ]
    },
    {
     "name": "stderr",
     "output_type": "stream",
     "text": [
      "Scraper going at...: 1542it [36:47,  1.56s/it]"
     ]
    },
    {
     "name": "stdout",
     "output_type": "stream",
     "text": [
      "No figcaption found for images in URL: https://www.nos.nl/artikel/2499902\n"
     ]
    },
    {
     "name": "stderr",
     "output_type": "stream",
     "text": [
      "Scraper going at...: 1544it [36:49,  1.25s/it]"
     ]
    },
    {
     "name": "stdout",
     "output_type": "stream",
     "text": [
      "No figcaption found for images in URL: https://www.nos.nl/artikel/2499896\n"
     ]
    },
    {
     "name": "stderr",
     "output_type": "stream",
     "text": [
      "Scraper going at...: 1547it [36:52,  1.12s/it]"
     ]
    },
    {
     "name": "stdout",
     "output_type": "stream",
     "text": [
      "No figcaption found for images in URL: https://www.nos.nl/artikel/2499892\n"
     ]
    },
    {
     "name": "stderr",
     "output_type": "stream",
     "text": [
      "Scraper going at...: 1549it [36:55,  1.14s/it]"
     ]
    },
    {
     "name": "stdout",
     "output_type": "stream",
     "text": [
      "No main image div found in URL: https://www.nos.nl/artikel/2499889\n"
     ]
    },
    {
     "name": "stderr",
     "output_type": "stream",
     "text": [
      "Scraper going at...: 1550it [36:56,  1.21s/it]"
     ]
    },
    {
     "name": "stdout",
     "output_type": "stream",
     "text": [
      "No figcaption found for images in URL: https://www.nos.nl/artikel/2499888\n"
     ]
    },
    {
     "name": "stderr",
     "output_type": "stream",
     "text": [
      "Scraper going at...: 1554it [37:01,  1.35s/it]"
     ]
    },
    {
     "name": "stdout",
     "output_type": "stream",
     "text": [
      "No figcaption found for images in URL: https://www.nos.nl/artikel/2499873\n"
     ]
    },
    {
     "name": "stderr",
     "output_type": "stream",
     "text": [
      "Scraper going at...: 1557it [37:07,  1.86s/it]"
     ]
    },
    {
     "name": "stdout",
     "output_type": "stream",
     "text": [
      "No figcaption found for images in URL: https://www.nos.nl/artikel/2499864\n"
     ]
    },
    {
     "name": "stderr",
     "output_type": "stream",
     "text": [
      "Scraper going at...: 1558it [37:08,  1.64s/it]"
     ]
    },
    {
     "name": "stdout",
     "output_type": "stream",
     "text": [
      "No figcaption found for images in URL: https://www.nos.nl/artikel/2499863\n"
     ]
    },
    {
     "name": "stderr",
     "output_type": "stream",
     "text": [
      "Scraper going at...: 1562it [37:14,  1.31s/it]"
     ]
    },
    {
     "name": "stdout",
     "output_type": "stream",
     "text": [
      "No main image div found in URL: https://www.nos.nl/artikel/2499859\n"
     ]
    },
    {
     "name": "stderr",
     "output_type": "stream",
     "text": [
      "Scraper going at...: 1565it [37:17,  1.17s/it]"
     ]
    },
    {
     "name": "stdout",
     "output_type": "stream",
     "text": [
      "No main image div found in URL: https://www.nos.nl/artikel/2499853\n"
     ]
    },
    {
     "name": "stderr",
     "output_type": "stream",
     "text": [
      "Scraper going at...: 1575it [37:30,  1.17s/it]"
     ]
    },
    {
     "name": "stdout",
     "output_type": "stream",
     "text": [
      "No figcaption found for images in URL: https://www.nos.nl/artikel/2499823\n"
     ]
    },
    {
     "name": "stderr",
     "output_type": "stream",
     "text": [
      "Scraper going at...: 1583it [37:42,  1.47s/it]"
     ]
    },
    {
     "name": "stdout",
     "output_type": "stream",
     "text": [
      "No figcaption found for images in URL: https://www.nos.nl/artikel/2499812\n"
     ]
    },
    {
     "name": "stderr",
     "output_type": "stream",
     "text": [
      "Scraper going at...: 1585it [37:45,  1.65s/it]"
     ]
    },
    {
     "name": "stdout",
     "output_type": "stream",
     "text": [
      "No main image div found in URL: https://www.nos.nl/artikel/2499806\n"
     ]
    },
    {
     "name": "stderr",
     "output_type": "stream",
     "text": [
      "Scraper going at...: 1587it [37:49,  1.72s/it]"
     ]
    },
    {
     "name": "stdout",
     "output_type": "stream",
     "text": [
      "No main image div found in URL: https://www.nos.nl/artikel/2499804\n"
     ]
    },
    {
     "name": "stderr",
     "output_type": "stream",
     "text": [
      "Scraper going at...: 1588it [37:51,  1.86s/it]"
     ]
    },
    {
     "name": "stdout",
     "output_type": "stream",
     "text": [
      "No main image div found in URL: https://www.nos.nl/artikel/2499803\n"
     ]
    },
    {
     "name": "stderr",
     "output_type": "stream",
     "text": [
      "Scraper going at...: 1600it [38:06,  1.39s/it]"
     ]
    },
    {
     "name": "stdout",
     "output_type": "stream",
     "text": [
      "No figcaption found for images in URL: https://www.nos.nl/artikel/2499782\n"
     ]
    },
    {
     "name": "stderr",
     "output_type": "stream",
     "text": [
      "Scraper going at...: 1602it [38:08,  1.23s/it]"
     ]
    },
    {
     "name": "stdout",
     "output_type": "stream",
     "text": [
      "No figcaption found for images in URL: https://www.nos.nl/artikel/2499780\n"
     ]
    },
    {
     "name": "stderr",
     "output_type": "stream",
     "text": [
      "Scraper going at...: 1609it [38:15,  1.05s/it]"
     ]
    },
    {
     "name": "stdout",
     "output_type": "stream",
     "text": [
      "No figcaption found for images in URL: https://www.nos.nl/artikel/2499764\n"
     ]
    },
    {
     "name": "stderr",
     "output_type": "stream",
     "text": [
      "Scraper going at...: 1610it [38:16,  1.07s/it]"
     ]
    },
    {
     "name": "stdout",
     "output_type": "stream",
     "text": [
      "No figcaption found for images in URL: https://www.nos.nl/artikel/2499759\n"
     ]
    },
    {
     "name": "stderr",
     "output_type": "stream",
     "text": [
      "Scraper going at...: 1611it [38:20,  1.76s/it]"
     ]
    },
    {
     "name": "stdout",
     "output_type": "stream",
     "text": [
      "No figcaption found for images in URL: https://www.nos.nl/artikel/2499758\n"
     ]
    },
    {
     "name": "stderr",
     "output_type": "stream",
     "text": [
      "Scraper going at...: 1613it [38:22,  1.48s/it]"
     ]
    },
    {
     "name": "stdout",
     "output_type": "stream",
     "text": [
      "No main image div found in URL: https://www.nos.nl/artikel/2499756\n"
     ]
    },
    {
     "name": "stderr",
     "output_type": "stream",
     "text": [
      "Scraper going at...: 1614it [38:24,  1.49s/it]"
     ]
    },
    {
     "name": "stdout",
     "output_type": "stream",
     "text": [
      "No main image div found in URL: https://www.nos.nl/artikel/2499754\n"
     ]
    },
    {
     "name": "stderr",
     "output_type": "stream",
     "text": [
      "Scraper going at...: 1615it [38:26,  1.63s/it]"
     ]
    },
    {
     "name": "stdout",
     "output_type": "stream",
     "text": [
      "No figcaption found for images in URL: https://www.nos.nl/artikel/2499751\n"
     ]
    },
    {
     "name": "stderr",
     "output_type": "stream",
     "text": [
      "Scraper going at...: 1616it [38:27,  1.42s/it]"
     ]
    },
    {
     "name": "stdout",
     "output_type": "stream",
     "text": [
      "No figcaption found for images in URL: https://www.nos.nl/artikel/2499748\n"
     ]
    },
    {
     "name": "stderr",
     "output_type": "stream",
     "text": [
      "Scraper going at...: 1629it [38:48,  1.37s/it]"
     ]
    },
    {
     "name": "stdout",
     "output_type": "stream",
     "text": [
      "No main image div found in URL: https://www.nos.nl/artikel/2499722\n"
     ]
    },
    {
     "name": "stderr",
     "output_type": "stream",
     "text": [
      "Scraper going at...: 1630it [38:50,  1.30s/it]"
     ]
    },
    {
     "name": "stdout",
     "output_type": "stream",
     "text": [
      "No figcaption found for images in URL: https://www.nos.nl/artikel/2499721\n"
     ]
    },
    {
     "name": "stderr",
     "output_type": "stream",
     "text": [
      "Scraper going at...: 1634it [38:56,  1.36s/it]"
     ]
    },
    {
     "name": "stdout",
     "output_type": "stream",
     "text": [
      "No figcaption found for images in URL: https://www.nos.nl/artikel/2499709\n"
     ]
    },
    {
     "name": "stderr",
     "output_type": "stream",
     "text": [
      "Scraper going at...: 1636it [38:59,  1.52s/it]"
     ]
    },
    {
     "name": "stdout",
     "output_type": "stream",
     "text": [
      "No figcaption found for images in URL: https://www.nos.nl/artikel/2499703\n"
     ]
    },
    {
     "name": "stderr",
     "output_type": "stream",
     "text": [
      "Scraper going at...: 1637it [39:00,  1.41s/it]"
     ]
    },
    {
     "name": "stdout",
     "output_type": "stream",
     "text": [
      "No main image div found in URL: https://www.nos.nl/artikel/2499702\n"
     ]
    },
    {
     "name": "stderr",
     "output_type": "stream",
     "text": [
      "Scraper going at...: 1640it [39:04,  1.30s/it]"
     ]
    },
    {
     "name": "stdout",
     "output_type": "stream",
     "text": [
      "No figcaption found for images in URL: https://www.nos.nl/artikel/2499698\n"
     ]
    },
    {
     "name": "stderr",
     "output_type": "stream",
     "text": [
      "Scraper going at...: 1642it [39:07,  1.40s/it]"
     ]
    },
    {
     "name": "stdout",
     "output_type": "stream",
     "text": [
      "No main image div found in URL: https://www.nos.nl/artikel/2499696\n"
     ]
    },
    {
     "name": "stderr",
     "output_type": "stream",
     "text": [
      "Scraper going at...: 1644it [39:09,  1.22s/it]"
     ]
    },
    {
     "name": "stdout",
     "output_type": "stream",
     "text": [
      "No figcaption found for images in URL: https://www.nos.nl/artikel/2499689\n"
     ]
    },
    {
     "name": "stderr",
     "output_type": "stream",
     "text": [
      "Scraper going at...: 1646it [39:12,  1.24s/it]"
     ]
    },
    {
     "name": "stdout",
     "output_type": "stream",
     "text": [
      "No figcaption found for images in URL: https://www.nos.nl/artikel/2499682\n"
     ]
    },
    {
     "name": "stderr",
     "output_type": "stream",
     "text": [
      "Scraper going at...: 1649it [39:17,  1.54s/it]"
     ]
    },
    {
     "name": "stdout",
     "output_type": "stream",
     "text": [
      "No figcaption found for images in URL: https://www.nos.nl/artikel/2499678\n"
     ]
    },
    {
     "name": "stderr",
     "output_type": "stream",
     "text": [
      "Scraper going at...: 1656it [39:26,  1.16s/it]"
     ]
    },
    {
     "name": "stdout",
     "output_type": "stream",
     "text": [
      "No figcaption found for images in URL: https://www.nos.nl/artikel/2499665\n"
     ]
    },
    {
     "name": "stderr",
     "output_type": "stream",
     "text": [
      "Scraper going at...: 1658it [39:28,  1.20s/it]"
     ]
    },
    {
     "name": "stdout",
     "output_type": "stream",
     "text": [
      "No figcaption found for images in URL: https://www.nos.nl/artikel/2499663\n"
     ]
    },
    {
     "name": "stderr",
     "output_type": "stream",
     "text": [
      "Scraper going at...: 1659it [39:30,  1.23s/it]"
     ]
    },
    {
     "name": "stdout",
     "output_type": "stream",
     "text": [
      "No figcaption found for images in URL: https://www.nos.nl/artikel/2499662\n"
     ]
    },
    {
     "name": "stderr",
     "output_type": "stream",
     "text": [
      "Scraper going at...: 1662it [39:33,  1.13s/it]"
     ]
    },
    {
     "name": "stdout",
     "output_type": "stream",
     "text": [
      "No figcaption found for images in URL: https://www.nos.nl/artikel/2499657\n"
     ]
    },
    {
     "name": "stderr",
     "output_type": "stream",
     "text": [
      "Scraper going at...: 1664it [39:35,  1.07s/it]"
     ]
    },
    {
     "name": "stdout",
     "output_type": "stream",
     "text": [
      "No figcaption found for images in URL: https://www.nos.nl/artikel/2499654\n"
     ]
    },
    {
     "name": "stderr",
     "output_type": "stream",
     "text": [
      "Scraper going at...: 1665it [39:36,  1.11s/it]"
     ]
    },
    {
     "name": "stdout",
     "output_type": "stream",
     "text": [
      "No figcaption found for images in URL: https://www.nos.nl/artikel/2499653\n"
     ]
    },
    {
     "name": "stderr",
     "output_type": "stream",
     "text": [
      "Scraper going at...: 1672it [39:45,  1.23s/it]"
     ]
    },
    {
     "name": "stdout",
     "output_type": "stream",
     "text": [
      "No figcaption found for images in URL: https://www.nos.nl/artikel/2499642\n"
     ]
    },
    {
     "name": "stderr",
     "output_type": "stream",
     "text": [
      "Scraper going at...: 1675it [39:48,  1.11s/it]"
     ]
    },
    {
     "name": "stdout",
     "output_type": "stream",
     "text": [
      "No figcaption found for images in URL: https://www.nos.nl/artikel/2499626\n"
     ]
    },
    {
     "name": "stderr",
     "output_type": "stream",
     "text": [
      "Scraper going at...: 1676it [39:49,  1.07s/it]"
     ]
    },
    {
     "name": "stdout",
     "output_type": "stream",
     "text": [
      "No figcaption found for images in URL: https://www.nos.nl/artikel/2499624\n"
     ]
    },
    {
     "name": "stderr",
     "output_type": "stream",
     "text": [
      "Scraper going at...: 1677it [39:50,  1.08s/it]"
     ]
    },
    {
     "name": "stdout",
     "output_type": "stream",
     "text": [
      "No main image div found in URL: https://www.nos.nl/artikel/2499623\n"
     ]
    },
    {
     "name": "stderr",
     "output_type": "stream",
     "text": [
      "Scraper going at...: 1678it [39:51,  1.08s/it]"
     ]
    },
    {
     "name": "stdout",
     "output_type": "stream",
     "text": [
      "No figcaption found for images in URL: https://www.nos.nl/artikel/2499620\n"
     ]
    },
    {
     "name": "stderr",
     "output_type": "stream",
     "text": [
      "Scraper going at...: 1682it [39:57,  1.47s/it]"
     ]
    },
    {
     "name": "stdout",
     "output_type": "stream",
     "text": [
      "No figcaption found for images in URL: https://www.nos.nl/artikel/2499615\n"
     ]
    },
    {
     "name": "stderr",
     "output_type": "stream",
     "text": [
      "Scraper going at...: 1686it [40:02,  1.20s/it]"
     ]
    },
    {
     "name": "stdout",
     "output_type": "stream",
     "text": [
      "No figcaption found for images in URL: https://www.nos.nl/artikel/2499604\n"
     ]
    },
    {
     "name": "stderr",
     "output_type": "stream",
     "text": [
      "Scraper going at...: 1691it [40:08,  1.17s/it]"
     ]
    },
    {
     "name": "stdout",
     "output_type": "stream",
     "text": [
      "No figcaption found for images in URL: https://www.nos.nl/artikel/2499598\n"
     ]
    },
    {
     "name": "stderr",
     "output_type": "stream",
     "text": [
      "Scraper going at...: 1692it [40:09,  1.23s/it]"
     ]
    },
    {
     "name": "stdout",
     "output_type": "stream",
     "text": [
      "No figcaption found for images in URL: https://www.nos.nl/artikel/2499596\n"
     ]
    },
    {
     "name": "stderr",
     "output_type": "stream",
     "text": [
      "Scraper going at...: 1695it [40:12,  1.13s/it]"
     ]
    },
    {
     "name": "stdout",
     "output_type": "stream",
     "text": [
      "No figcaption found for images in URL: https://www.nos.nl/artikel/2499586\n"
     ]
    },
    {
     "name": "stderr",
     "output_type": "stream",
     "text": [
      "Scraper going at...: 1697it [40:15,  1.21s/it]"
     ]
    },
    {
     "name": "stdout",
     "output_type": "stream",
     "text": [
      "No figcaption found for images in URL: https://www.nos.nl/artikel/2499576\n"
     ]
    },
    {
     "name": "stderr",
     "output_type": "stream",
     "text": [
      "Scraper going at...: 1699it [40:17,  1.09s/it]"
     ]
    },
    {
     "name": "stdout",
     "output_type": "stream",
     "text": [
      "No figcaption found for images in URL: https://www.nos.nl/artikel/2499569\n"
     ]
    },
    {
     "name": "stderr",
     "output_type": "stream",
     "text": [
      "Scraper going at...: 1700it [40:18,  1.09s/it]"
     ]
    },
    {
     "name": "stdout",
     "output_type": "stream",
     "text": [
      "No figcaption found for images in URL: https://www.nos.nl/artikel/2499566\n"
     ]
    },
    {
     "name": "stderr",
     "output_type": "stream",
     "text": [
      "Scraper going at...: 1701it [40:19,  1.05s/it]"
     ]
    },
    {
     "name": "stdout",
     "output_type": "stream",
     "text": [
      "No figcaption found for images in URL: https://www.nos.nl/artikel/2499565\n"
     ]
    },
    {
     "name": "stderr",
     "output_type": "stream",
     "text": [
      "Scraper going at...: 1702it [40:20,  1.02s/it]"
     ]
    },
    {
     "name": "stdout",
     "output_type": "stream",
     "text": [
      "No main image div found in URL: https://www.nos.nl/artikel/2499563\n"
     ]
    },
    {
     "name": "stderr",
     "output_type": "stream",
     "text": [
      "Scraper going at...: 1704it [40:22,  1.06s/it]"
     ]
    },
    {
     "name": "stdout",
     "output_type": "stream",
     "text": [
      "No main image div found in URL: https://www.nos.nl/artikel/2499560\n"
     ]
    },
    {
     "name": "stderr",
     "output_type": "stream",
     "text": [
      "Scraper going at...: 1707it [40:27,  1.61s/it]"
     ]
    },
    {
     "name": "stdout",
     "output_type": "stream",
     "text": [
      "No figcaption found for images in URL: https://www.nos.nl/artikel/2499555\n"
     ]
    },
    {
     "name": "stderr",
     "output_type": "stream",
     "text": [
      "Scraper going at...: 1709it [40:30,  1.30s/it]"
     ]
    },
    {
     "name": "stdout",
     "output_type": "stream",
     "text": [
      "No figcaption found for images in URL: https://www.nos.nl/artikel/2499551\n"
     ]
    },
    {
     "name": "stderr",
     "output_type": "stream",
     "text": [
      "Scraper going at...: 1719it [40:41,  1.00it/s]"
     ]
    },
    {
     "name": "stdout",
     "output_type": "stream",
     "text": [
      "No figcaption found for images in URL: https://www.nos.nl/artikel/2499535\n"
     ]
    },
    {
     "name": "stderr",
     "output_type": "stream",
     "text": [
      "Scraper going at...: 1720it [40:42,  1.00s/it]"
     ]
    },
    {
     "name": "stdout",
     "output_type": "stream",
     "text": [
      "No main image div found in URL: https://www.nos.nl/artikel/2499530\n"
     ]
    },
    {
     "name": "stderr",
     "output_type": "stream",
     "text": [
      "Scraper going at...: 1723it [40:45,  1.02it/s]"
     ]
    },
    {
     "name": "stdout",
     "output_type": "stream",
     "text": [
      "No figcaption found for images in URL: https://www.nos.nl/artikel/2499519\n"
     ]
    },
    {
     "name": "stderr",
     "output_type": "stream",
     "text": [
      "Scraper going at...: 1725it [40:48,  1.33s/it]"
     ]
    },
    {
     "name": "stdout",
     "output_type": "stream",
     "text": [
      "No figcaption found for images in URL: https://www.nos.nl/artikel/2499514\n"
     ]
    },
    {
     "name": "stderr",
     "output_type": "stream",
     "text": [
      "Scraper going at...: 1726it [40:49,  1.31s/it]"
     ]
    },
    {
     "name": "stdout",
     "output_type": "stream",
     "text": [
      "No main image div found in URL: https://www.nos.nl/artikel/2499513\n"
     ]
    },
    {
     "name": "stderr",
     "output_type": "stream",
     "text": [
      "Scraper going at...: 1727it [40:50,  1.23s/it]"
     ]
    },
    {
     "name": "stdout",
     "output_type": "stream",
     "text": [
      "No figcaption found for images in URL: https://www.nos.nl/artikel/2499512\n"
     ]
    },
    {
     "name": "stderr",
     "output_type": "stream",
     "text": [
      "Scraper going at...: 1733it [40:58,  1.18s/it]"
     ]
    },
    {
     "name": "stdout",
     "output_type": "stream",
     "text": [
      "No main image div found in URL: https://www.nos.nl/artikel/2499498\n"
     ]
    },
    {
     "name": "stderr",
     "output_type": "stream",
     "text": [
      "Scraper going at...: 1736it [41:03,  1.41s/it]"
     ]
    },
    {
     "name": "stdout",
     "output_type": "stream",
     "text": [
      "No main image div found in URL: https://www.nos.nl/artikel/2499494\n"
     ]
    },
    {
     "name": "stderr",
     "output_type": "stream",
     "text": [
      "Scraper going at...: 1742it [41:10,  1.31s/it]"
     ]
    },
    {
     "name": "stdout",
     "output_type": "stream",
     "text": [
      "No figcaption found for images in URL: https://www.nos.nl/artikel/2499472\n"
     ]
    },
    {
     "name": "stderr",
     "output_type": "stream",
     "text": [
      "Scraper going at...: 1743it [41:11,  1.22s/it]"
     ]
    },
    {
     "name": "stdout",
     "output_type": "stream",
     "text": [
      "No figcaption found for images in URL: https://www.nos.nl/artikel/2499471\n"
     ]
    },
    {
     "name": "stderr",
     "output_type": "stream",
     "text": [
      "Scraper going at...: 1746it [41:15,  1.21s/it]"
     ]
    },
    {
     "name": "stdout",
     "output_type": "stream",
     "text": [
      "No main image div found in URL: https://www.nos.nl/artikel/2499466\n"
     ]
    },
    {
     "name": "stderr",
     "output_type": "stream",
     "text": [
      "Scraper going at...: 1748it [41:18,  1.28s/it]"
     ]
    },
    {
     "name": "stdout",
     "output_type": "stream",
     "text": [
      "No figcaption found for images in URL: https://www.nos.nl/artikel/2499462\n"
     ]
    },
    {
     "name": "stderr",
     "output_type": "stream",
     "text": [
      "Scraper going at...: 1750it [41:20,  1.15s/it]"
     ]
    },
    {
     "name": "stdout",
     "output_type": "stream",
     "text": [
      "No main image div found in URL: https://www.nos.nl/artikel/2499456\n"
     ]
    },
    {
     "name": "stderr",
     "output_type": "stream",
     "text": [
      "Scraper going at...: 1751it [41:21,  1.23s/it]"
     ]
    },
    {
     "name": "stdout",
     "output_type": "stream",
     "text": [
      "No figcaption found for images in URL: https://www.nos.nl/artikel/2499453\n"
     ]
    },
    {
     "name": "stderr",
     "output_type": "stream",
     "text": [
      "Scraper going at...: 1752it [41:23,  1.29s/it]"
     ]
    },
    {
     "name": "stdout",
     "output_type": "stream",
     "text": [
      "No figcaption found for images in URL: https://www.nos.nl/artikel/2499451\n"
     ]
    },
    {
     "name": "stderr",
     "output_type": "stream",
     "text": [
      "Scraper going at...: 1760it [41:35,  1.44s/it]"
     ]
    },
    {
     "name": "stdout",
     "output_type": "stream",
     "text": [
      "No figcaption found for images in URL: https://www.nos.nl/artikel/2499439\n"
     ]
    },
    {
     "name": "stderr",
     "output_type": "stream",
     "text": [
      "Scraper going at...: 1767it [41:46,  1.61s/it]"
     ]
    },
    {
     "name": "stdout",
     "output_type": "stream",
     "text": [
      "No figcaption found for images in URL: https://www.nos.nl/artikel/2499425\n"
     ]
    },
    {
     "name": "stderr",
     "output_type": "stream",
     "text": [
      "Scraper going at...: 1770it [41:50,  1.36s/it]"
     ]
    },
    {
     "name": "stdout",
     "output_type": "stream",
     "text": [
      "No figcaption found for images in URL: https://www.nos.nl/artikel/2499417\n"
     ]
    },
    {
     "name": "stderr",
     "output_type": "stream",
     "text": [
      "Scraper going at...: 1772it [41:55,  1.67s/it]"
     ]
    },
    {
     "name": "stdout",
     "output_type": "stream",
     "text": [
      "No figcaption found for images in URL: https://www.nos.nl/artikel/2499410\n"
     ]
    },
    {
     "name": "stderr",
     "output_type": "stream",
     "text": [
      "Scraper going at...: 1773it [41:55,  1.46s/it]"
     ]
    },
    {
     "name": "stdout",
     "output_type": "stream",
     "text": [
      "No figcaption found for images in URL: https://www.nos.nl/artikel/2499409\n"
     ]
    },
    {
     "name": "stderr",
     "output_type": "stream",
     "text": [
      "Scraper going at...: 1775it [42:00,  1.82s/it]"
     ]
    },
    {
     "name": "stdout",
     "output_type": "stream",
     "text": [
      "No main image div found in URL: https://www.nos.nl/artikel/2499407\n"
     ]
    },
    {
     "name": "stderr",
     "output_type": "stream",
     "text": [
      "Scraper going at...: 1785it [42:14,  1.76s/it]"
     ]
    },
    {
     "name": "stdout",
     "output_type": "stream",
     "text": [
      "No figcaption found for images in URL: https://www.nos.nl/artikel/2499386\n"
     ]
    },
    {
     "name": "stderr",
     "output_type": "stream",
     "text": [
      "Scraper going at...: 1787it [42:17,  1.80s/it]"
     ]
    },
    {
     "name": "stdout",
     "output_type": "stream",
     "text": [
      "No main image div found in URL: https://www.nos.nl/artikel/2499379\n"
     ]
    },
    {
     "name": "stderr",
     "output_type": "stream",
     "text": [
      "Scraper going at...: 1788it [42:19,  1.66s/it]"
     ]
    },
    {
     "name": "stdout",
     "output_type": "stream",
     "text": [
      "No main image div found in URL: https://www.nos.nl/artikel/2499372\n"
     ]
    },
    {
     "name": "stderr",
     "output_type": "stream",
     "text": [
      "Scraper going at...: 1795it [42:29,  1.54s/it]"
     ]
    },
    {
     "name": "stdout",
     "output_type": "stream",
     "text": [
      "No figcaption found for images in URL: https://www.nos.nl/artikel/2499354\n"
     ]
    },
    {
     "name": "stderr",
     "output_type": "stream",
     "text": [
      "Scraper going at...: 1796it [42:30,  1.43s/it]"
     ]
    },
    {
     "name": "stdout",
     "output_type": "stream",
     "text": [
      "No main image div found in URL: https://www.nos.nl/artikel/2499353\n"
     ]
    },
    {
     "name": "stderr",
     "output_type": "stream",
     "text": [
      "Scraper going at...: 1797it [42:31,  1.31s/it]"
     ]
    },
    {
     "name": "stdout",
     "output_type": "stream",
     "text": [
      "No main image div found in URL: https://www.nos.nl/artikel/2499349\n"
     ]
    },
    {
     "name": "stderr",
     "output_type": "stream",
     "text": [
      "Scraper going at...: 1798it [42:32,  1.38s/it]"
     ]
    },
    {
     "name": "stdout",
     "output_type": "stream",
     "text": [
      "No main image div found in URL: https://www.nos.nl/artikel/2499347\n"
     ]
    },
    {
     "name": "stderr",
     "output_type": "stream",
     "text": [
      "Scraper going at...: 1799it [42:33,  1.25s/it]"
     ]
    },
    {
     "name": "stdout",
     "output_type": "stream",
     "text": [
      "No main image div found in URL: https://www.nos.nl/artikel/2499346\n"
     ]
    },
    {
     "name": "stderr",
     "output_type": "stream",
     "text": [
      "Scraper going at...: 1800it [42:36,  1.82s/it]"
     ]
    },
    {
     "name": "stdout",
     "output_type": "stream",
     "text": [
      "No figcaption found for images in URL: https://www.nos.nl/artikel/2499343\n"
     ]
    },
    {
     "name": "stderr",
     "output_type": "stream",
     "text": [
      "Scraper going at...: 1801it [42:38,  1.85s/it]"
     ]
    },
    {
     "name": "stdout",
     "output_type": "stream",
     "text": [
      "No figcaption found for images in URL: https://www.nos.nl/artikel/2499342\n"
     ]
    },
    {
     "name": "stderr",
     "output_type": "stream",
     "text": [
      "Scraper going at...: 1802it [42:39,  1.58s/it]"
     ]
    },
    {
     "name": "stdout",
     "output_type": "stream",
     "text": [
      "No figcaption found for images in URL: https://www.nos.nl/artikel/2499341\n"
     ]
    },
    {
     "name": "stderr",
     "output_type": "stream",
     "text": [
      "Scraper going at...: 1803it [42:40,  1.39s/it]"
     ]
    },
    {
     "name": "stdout",
     "output_type": "stream",
     "text": [
      "No figcaption found for images in URL: https://www.nos.nl/artikel/2499339\n"
     ]
    },
    {
     "name": "stderr",
     "output_type": "stream",
     "text": [
      "Scraper going at...: 1804it [42:43,  1.81s/it]"
     ]
    },
    {
     "name": "stdout",
     "output_type": "stream",
     "text": [
      "No main image div found in URL: https://www.nos.nl/artikel/2499337\n"
     ]
    },
    {
     "name": "stderr",
     "output_type": "stream",
     "text": [
      "Scraper going at...: 1805it [42:44,  1.59s/it]"
     ]
    },
    {
     "name": "stdout",
     "output_type": "stream",
     "text": [
      "No figcaption found for images in URL: https://www.nos.nl/artikel/2499334\n"
     ]
    },
    {
     "name": "stderr",
     "output_type": "stream",
     "text": [
      "Scraper going at...: 1806it [42:45,  1.43s/it]"
     ]
    },
    {
     "name": "stdout",
     "output_type": "stream",
     "text": [
      "No figcaption found for images in URL: https://www.nos.nl/artikel/2499333\n"
     ]
    },
    {
     "name": "stderr",
     "output_type": "stream",
     "text": [
      "Scraper going at...: 1807it [42:47,  1.65s/it]"
     ]
    },
    {
     "name": "stdout",
     "output_type": "stream",
     "text": [
      "No main image div found in URL: https://www.nos.nl/artikel/2499332\n"
     ]
    },
    {
     "name": "stderr",
     "output_type": "stream",
     "text": [
      "Scraper going at...: 1808it [42:48,  1.44s/it]"
     ]
    },
    {
     "name": "stdout",
     "output_type": "stream",
     "text": [
      "No main image div found in URL: https://www.nos.nl/artikel/2499330\n"
     ]
    },
    {
     "name": "stderr",
     "output_type": "stream",
     "text": [
      "Scraper going at...: 1811it [42:52,  1.29s/it]"
     ]
    },
    {
     "name": "stdout",
     "output_type": "stream",
     "text": [
      "No main image div found in URL: https://www.nos.nl/artikel/2499323\n"
     ]
    },
    {
     "name": "stderr",
     "output_type": "stream",
     "text": [
      "Scraper going at...: 1813it [42:54,  1.16s/it]"
     ]
    },
    {
     "name": "stdout",
     "output_type": "stream",
     "text": [
      "No main image div found in URL: https://www.nos.nl/artikel/2499319\n"
     ]
    },
    {
     "name": "stderr",
     "output_type": "stream",
     "text": [
      "Scraper going at...: 1816it [42:57,  1.15s/it]"
     ]
    },
    {
     "name": "stdout",
     "output_type": "stream",
     "text": [
      "No figcaption found for images in URL: https://www.nos.nl/artikel/2499311\n"
     ]
    },
    {
     "name": "stderr",
     "output_type": "stream",
     "text": [
      "Scraper going at...: 1821it [43:04,  1.38s/it]"
     ]
    },
    {
     "name": "stdout",
     "output_type": "stream",
     "text": [
      "No figcaption found for images in URL: https://www.nos.nl/artikel/2499303\n"
     ]
    },
    {
     "name": "stderr",
     "output_type": "stream",
     "text": [
      "Scraper going at...: 1822it [43:05,  1.30s/it]"
     ]
    },
    {
     "name": "stdout",
     "output_type": "stream",
     "text": [
      "No main image div found in URL: https://www.nos.nl/artikel/2499301\n"
     ]
    },
    {
     "name": "stderr",
     "output_type": "stream",
     "text": [
      "Scraper going at...: 1829it [43:16,  1.36s/it]"
     ]
    },
    {
     "name": "stdout",
     "output_type": "stream",
     "text": [
      "No main image div found in URL: https://www.nos.nl/artikel/2499284\n"
     ]
    },
    {
     "name": "stderr",
     "output_type": "stream",
     "text": [
      "Scraper going at...: 1830it [43:17,  1.41s/it]"
     ]
    },
    {
     "name": "stdout",
     "output_type": "stream",
     "text": [
      "No main image div found in URL: https://www.nos.nl/artikel/2499278\n"
     ]
    },
    {
     "name": "stderr",
     "output_type": "stream",
     "text": [
      "Scraper going at...: 1831it [43:18,  1.27s/it]"
     ]
    },
    {
     "name": "stdout",
     "output_type": "stream",
     "text": [
      "No main image div found in URL: https://www.nos.nl/artikel/2499273\n"
     ]
    },
    {
     "name": "stderr",
     "output_type": "stream",
     "text": [
      "Scraper going at...: 1833it [43:20,  1.20s/it]"
     ]
    },
    {
     "name": "stdout",
     "output_type": "stream",
     "text": [
      "No main image div found in URL: https://www.nos.nl/artikel/2499269\n"
     ]
    },
    {
     "name": "stderr",
     "output_type": "stream",
     "text": [
      "Scraper going at...: 1835it [43:23,  1.15s/it]"
     ]
    },
    {
     "name": "stdout",
     "output_type": "stream",
     "text": [
      "No main image div found in URL: https://www.nos.nl/artikel/2499259\n"
     ]
    },
    {
     "name": "stderr",
     "output_type": "stream",
     "text": [
      "Scraper going at...: 1836it [43:24,  1.12s/it]"
     ]
    },
    {
     "name": "stdout",
     "output_type": "stream",
     "text": [
      "No main image div found in URL: https://www.nos.nl/artikel/2499255\n"
     ]
    },
    {
     "name": "stderr",
     "output_type": "stream",
     "text": [
      "Scraper going at...: 1838it [43:27,  1.45s/it]"
     ]
    },
    {
     "name": "stdout",
     "output_type": "stream",
     "text": [
      "No main image div found in URL: https://www.nos.nl/artikel/2499252\n"
     ]
    },
    {
     "name": "stderr",
     "output_type": "stream",
     "text": [
      "Scraper going at...: 1839it [43:28,  1.33s/it]"
     ]
    },
    {
     "name": "stdout",
     "output_type": "stream",
     "text": [
      "No figcaption found for images in URL: https://www.nos.nl/artikel/2499249\n"
     ]
    },
    {
     "name": "stderr",
     "output_type": "stream",
     "text": [
      "Scraper going at...: 1840it [43:31,  1.70s/it]"
     ]
    },
    {
     "name": "stdout",
     "output_type": "stream",
     "text": [
      "No figcaption found for images in URL: https://www.nos.nl/artikel/2499248\n"
     ]
    },
    {
     "name": "stderr",
     "output_type": "stream",
     "text": [
      "Scraper going at...: 1843it [43:34,  1.29s/it]"
     ]
    },
    {
     "name": "stdout",
     "output_type": "stream",
     "text": [
      "No main image div found in URL: https://www.nos.nl/artikel/2499237\n"
     ]
    },
    {
     "name": "stderr",
     "output_type": "stream",
     "text": [
      "Scraper going at...: 1847it [43:38,  1.15s/it]"
     ]
    },
    {
     "name": "stdout",
     "output_type": "stream",
     "text": [
      "No figcaption found for images in URL: https://www.nos.nl/artikel/2499227\n"
     ]
    },
    {
     "name": "stderr",
     "output_type": "stream",
     "text": [
      "Scraper going at...: 1849it [43:40,  1.06s/it]"
     ]
    },
    {
     "name": "stdout",
     "output_type": "stream",
     "text": [
      "No figcaption found for images in URL: https://www.nos.nl/artikel/2499222\n"
     ]
    },
    {
     "name": "stderr",
     "output_type": "stream",
     "text": [
      "Scraper going at...: 1851it [43:44,  1.50s/it]"
     ]
    },
    {
     "name": "stdout",
     "output_type": "stream",
     "text": [
      "No figcaption found for images in URL: https://www.nos.nl/artikel/2499220\n"
     ]
    },
    {
     "name": "stderr",
     "output_type": "stream",
     "text": [
      "Scraper going at...: 1854it [43:48,  1.35s/it]"
     ]
    },
    {
     "name": "stdout",
     "output_type": "stream",
     "text": [
      "No figcaption found for images in URL: https://www.nos.nl/artikel/2499214\n"
     ]
    },
    {
     "name": "stderr",
     "output_type": "stream",
     "text": [
      "Scraper going at...: 1856it [43:51,  1.51s/it]"
     ]
    },
    {
     "name": "stdout",
     "output_type": "stream",
     "text": [
      "No figcaption found for images in URL: https://www.nos.nl/artikel/2499212\n"
     ]
    },
    {
     "name": "stderr",
     "output_type": "stream",
     "text": [
      "Scraper going at...: 1857it [43:53,  1.55s/it]"
     ]
    },
    {
     "name": "stdout",
     "output_type": "stream",
     "text": [
      "No figcaption found for images in URL: https://www.nos.nl/artikel/2499208\n"
     ]
    },
    {
     "name": "stderr",
     "output_type": "stream",
     "text": [
      "Scraper going at...: 1859it [43:55,  1.28s/it]"
     ]
    },
    {
     "name": "stdout",
     "output_type": "stream",
     "text": [
      "No figcaption found for images in URL: https://www.nos.nl/artikel/2499205\n"
     ]
    },
    {
     "name": "stderr",
     "output_type": "stream",
     "text": [
      "Scraper going at...: 1862it [43:58,  1.16s/it]"
     ]
    },
    {
     "name": "stdout",
     "output_type": "stream",
     "text": [
      "No figcaption found for images in URL: https://www.nos.nl/artikel/2499202\n"
     ]
    },
    {
     "name": "stderr",
     "output_type": "stream",
     "text": [
      "Scraper going at...: 1863it [43:59,  1.13s/it]"
     ]
    },
    {
     "name": "stdout",
     "output_type": "stream",
     "text": [
      "No figcaption found for images in URL: https://www.nos.nl/artikel/2499200\n"
     ]
    },
    {
     "name": "stderr",
     "output_type": "stream",
     "text": [
      "Scraper going at...: 1866it [44:03,  1.29s/it]"
     ]
    },
    {
     "name": "stdout",
     "output_type": "stream",
     "text": [
      "No main image div found in URL: https://www.nos.nl/artikel/2499193\n"
     ]
    },
    {
     "name": "stderr",
     "output_type": "stream",
     "text": [
      "Scraper going at...: 1869it [44:07,  1.18s/it]"
     ]
    },
    {
     "name": "stdout",
     "output_type": "stream",
     "text": [
      "No main image div found in URL: https://www.nos.nl/artikel/2499179\n"
     ]
    },
    {
     "name": "stderr",
     "output_type": "stream",
     "text": [
      "Scraper going at...: 1870it [44:08,  1.25s/it]"
     ]
    },
    {
     "name": "stdout",
     "output_type": "stream",
     "text": [
      "No main image div found in URL: https://www.nos.nl/artikel/2499175\n"
     ]
    },
    {
     "name": "stderr",
     "output_type": "stream",
     "text": [
      "Scraper going at...: 1877it [44:18,  1.56s/it]"
     ]
    },
    {
     "name": "stdout",
     "output_type": "stream",
     "text": [
      "No figcaption found for images in URL: https://www.nos.nl/artikel/2499162\n"
     ]
    },
    {
     "name": "stderr",
     "output_type": "stream",
     "text": [
      "Scraper going at...: 1880it [44:24,  2.28s/it]"
     ]
    },
    {
     "name": "stdout",
     "output_type": "stream",
     "text": [
      "No figcaption found for images in URL: https://www.nos.nl/artikel/2499156\n"
     ]
    },
    {
     "name": "stderr",
     "output_type": "stream",
     "text": [
      "Scraper going at...: 1886it [44:32,  1.38s/it]"
     ]
    },
    {
     "name": "stdout",
     "output_type": "stream",
     "text": [
      "No main image div found in URL: https://www.nos.nl/artikel/2499147\n"
     ]
    },
    {
     "name": "stderr",
     "output_type": "stream",
     "text": [
      "Scraper going at...: 1888it [44:35,  1.34s/it]"
     ]
    },
    {
     "name": "stdout",
     "output_type": "stream",
     "text": [
      "No figcaption found for images in URL: https://www.nos.nl/artikel/2499139\n"
     ]
    },
    {
     "name": "stderr",
     "output_type": "stream",
     "text": [
      "Scraper going at...: 1889it [44:36,  1.23s/it]"
     ]
    },
    {
     "name": "stdout",
     "output_type": "stream",
     "text": [
      "No main image div found in URL: https://www.nos.nl/artikel/2499135\n"
     ]
    },
    {
     "name": "stderr",
     "output_type": "stream",
     "text": [
      "Scraper going at...: 1891it [44:41,  1.80s/it]"
     ]
    },
    {
     "name": "stdout",
     "output_type": "stream",
     "text": [
      "No figcaption found for images in URL: https://www.nos.nl/artikel/2499127\n"
     ]
    },
    {
     "name": "stderr",
     "output_type": "stream",
     "text": [
      "Scraper going at...: 1892it [44:42,  1.60s/it]"
     ]
    },
    {
     "name": "stdout",
     "output_type": "stream",
     "text": [
      "No figcaption found for images in URL: https://www.nos.nl/artikel/2499125\n"
     ]
    },
    {
     "name": "stderr",
     "output_type": "stream",
     "text": [
      "Scraper going at...: 1893it [44:43,  1.40s/it]"
     ]
    },
    {
     "name": "stdout",
     "output_type": "stream",
     "text": [
      "No figcaption found for images in URL: https://www.nos.nl/artikel/2499123\n"
     ]
    },
    {
     "name": "stderr",
     "output_type": "stream",
     "text": [
      "Scraper going at...: 1896it [44:49,  1.75s/it]"
     ]
    },
    {
     "name": "stdout",
     "output_type": "stream",
     "text": [
      "No figcaption found for images in URL: https://www.nos.nl/artikel/2499119\n"
     ]
    },
    {
     "name": "stderr",
     "output_type": "stream",
     "text": [
      "Scraper going at...: 1904it [44:59,  1.37s/it]"
     ]
    },
    {
     "name": "stdout",
     "output_type": "stream",
     "text": [
      "No main image div found in URL: https://www.nos.nl/artikel/2499102\n"
     ]
    },
    {
     "name": "stderr",
     "output_type": "stream",
     "text": [
      "Scraper going at...: 1905it [45:00,  1.29s/it]"
     ]
    },
    {
     "name": "stdout",
     "output_type": "stream",
     "text": [
      "No main image div found in URL: https://www.nos.nl/artikel/2499098\n"
     ]
    },
    {
     "name": "stderr",
     "output_type": "stream",
     "text": [
      "Scraper going at...: 1911it [45:08,  1.33s/it]"
     ]
    },
    {
     "name": "stdout",
     "output_type": "stream",
     "text": [
      "No figcaption found for images in URL: https://www.nos.nl/artikel/2499089\n"
     ]
    },
    {
     "name": "stderr",
     "output_type": "stream",
     "text": [
      "Scraper going at...: 1912it [45:09,  1.29s/it]"
     ]
    },
    {
     "name": "stdout",
     "output_type": "stream",
     "text": [
      "No figcaption found for images in URL: https://www.nos.nl/artikel/2499088\n"
     ]
    },
    {
     "name": "stderr",
     "output_type": "stream",
     "text": [
      "Scraper going at...: 1919it [45:17,  1.08s/it]"
     ]
    },
    {
     "name": "stdout",
     "output_type": "stream",
     "text": [
      "No figcaption found for images in URL: https://www.nos.nl/artikel/2499062\n"
     ]
    },
    {
     "name": "stderr",
     "output_type": "stream",
     "text": [
      "Scraper going at...: 1923it [45:21,  1.04s/it]"
     ]
    },
    {
     "name": "stdout",
     "output_type": "stream",
     "text": [
      "No figcaption found for images in URL: https://www.nos.nl/artikel/2499058\n"
     ]
    },
    {
     "name": "stderr",
     "output_type": "stream",
     "text": [
      "Scraper going at...: 1927it [45:28,  1.42s/it]"
     ]
    },
    {
     "name": "stdout",
     "output_type": "stream",
     "text": [
      "No figcaption found for images in URL: https://www.nos.nl/artikel/2499048\n"
     ]
    },
    {
     "name": "stderr",
     "output_type": "stream",
     "text": [
      "Scraper going at...: 1932it [45:33,  1.11s/it]"
     ]
    },
    {
     "name": "stdout",
     "output_type": "stream",
     "text": [
      "No main image div found in URL: https://www.nos.nl/artikel/2499038\n"
     ]
    },
    {
     "name": "stderr",
     "output_type": "stream",
     "text": [
      "Scraper going at...: 1933it [45:35,  1.25s/it]"
     ]
    },
    {
     "name": "stdout",
     "output_type": "stream",
     "text": [
      "No main image div found in URL: https://www.nos.nl/artikel/2499033\n"
     ]
    },
    {
     "name": "stderr",
     "output_type": "stream",
     "text": [
      "Scraper going at...: 1934it [45:37,  1.64s/it]"
     ]
    },
    {
     "name": "stdout",
     "output_type": "stream",
     "text": [
      "No main image div found in URL: https://www.nos.nl/artikel/2499029\n"
     ]
    },
    {
     "name": "stderr",
     "output_type": "stream",
     "text": [
      "Scraper going at...: 1938it [45:41,  1.12s/it]"
     ]
    },
    {
     "name": "stdout",
     "output_type": "stream",
     "text": [
      "No main image div found in URL: https://www.nos.nl/artikel/2499017\n"
     ]
    },
    {
     "name": "stderr",
     "output_type": "stream",
     "text": [
      "Scraper going at...: 1944it [45:48,  1.12s/it]"
     ]
    },
    {
     "name": "stdout",
     "output_type": "stream",
     "text": [
      "No figcaption found for images in URL: https://www.nos.nl/artikel/2499002\n"
     ]
    },
    {
     "name": "stderr",
     "output_type": "stream",
     "text": [
      "Scraper going at...: 1947it [45:51,  1.03s/it]"
     ]
    },
    {
     "name": "stdout",
     "output_type": "stream",
     "text": [
      "No figcaption found for images in URL: https://www.nos.nl/artikel/2498997\n"
     ]
    },
    {
     "name": "stderr",
     "output_type": "stream",
     "text": [
      "Scraper going at...: 1949it [45:54,  1.06s/it]"
     ]
    },
    {
     "name": "stdout",
     "output_type": "stream",
     "text": [
      "No main image div found in URL: https://www.nos.nl/artikel/2498994\n"
     ]
    },
    {
     "name": "stderr",
     "output_type": "stream",
     "text": [
      "Scraper going at...: 1953it [45:59,  1.16s/it]"
     ]
    },
    {
     "name": "stdout",
     "output_type": "stream",
     "text": [
      "No main image div found in URL: https://www.nos.nl/artikel/2498984\n"
     ]
    },
    {
     "name": "stderr",
     "output_type": "stream",
     "text": [
      "Scraper going at...: 1954it [46:01,  1.45s/it]"
     ]
    },
    {
     "name": "stdout",
     "output_type": "stream",
     "text": [
      "No main image div found in URL: https://www.nos.nl/artikel/2498983\n"
     ]
    },
    {
     "name": "stderr",
     "output_type": "stream",
     "text": [
      "Scraper going at...: 1957it [46:04,  1.17s/it]"
     ]
    },
    {
     "name": "stdout",
     "output_type": "stream",
     "text": [
      "No figcaption found for images in URL: https://www.nos.nl/artikel/2498979\n"
     ]
    },
    {
     "name": "stderr",
     "output_type": "stream",
     "text": [
      "Scraper going at...: 1958it [46:05,  1.10s/it]"
     ]
    },
    {
     "name": "stdout",
     "output_type": "stream",
     "text": [
      "No figcaption found for images in URL: https://www.nos.nl/artikel/2498978\n"
     ]
    },
    {
     "name": "stderr",
     "output_type": "stream",
     "text": [
      "Scraper going at...: 1965it [46:16,  1.53s/it]"
     ]
    },
    {
     "name": "stdout",
     "output_type": "stream",
     "text": [
      "No main image div found in URL: https://www.nos.nl/artikel/2498967\n"
     ]
    },
    {
     "name": "stderr",
     "output_type": "stream",
     "text": [
      "Scraper going at...: 1966it [46:18,  1.58s/it]"
     ]
    },
    {
     "name": "stdout",
     "output_type": "stream",
     "text": [
      "No figcaption found for images in URL: https://www.nos.nl/artikel/2498965\n"
     ]
    },
    {
     "name": "stderr",
     "output_type": "stream",
     "text": [
      "Scraper going at...: 1968it [46:24,  2.23s/it]"
     ]
    },
    {
     "name": "stdout",
     "output_type": "stream",
     "text": [
      "No figcaption found for images in URL: https://www.nos.nl/artikel/2498962\n"
     ]
    },
    {
     "name": "stderr",
     "output_type": "stream",
     "text": [
      "Scraper going at...: 1972it [46:30,  1.88s/it]"
     ]
    },
    {
     "name": "stdout",
     "output_type": "stream",
     "text": [
      "No figcaption found for images in URL: https://www.nos.nl/artikel/2498957\n"
     ]
    },
    {
     "name": "stderr",
     "output_type": "stream",
     "text": [
      "Scraper going at...: 1982it [46:43,  1.18s/it]"
     ]
    },
    {
     "name": "stdout",
     "output_type": "stream",
     "text": [
      "No figcaption found for images in URL: https://www.nos.nl/artikel/2498927\n"
     ]
    },
    {
     "name": "stderr",
     "output_type": "stream",
     "text": [
      "Scraper going at...: 1991it [46:57,  1.78s/it]"
     ]
    },
    {
     "name": "stdout",
     "output_type": "stream",
     "text": [
      "No figcaption found for images in URL: https://www.nos.nl/artikel/2498903\n"
     ]
    },
    {
     "name": "stderr",
     "output_type": "stream",
     "text": [
      "Scraper going at...: 1993it [47:00,  1.70s/it]"
     ]
    },
    {
     "name": "stdout",
     "output_type": "stream",
     "text": [
      "No figcaption found for images in URL: https://www.nos.nl/artikel/2498894\n"
     ]
    },
    {
     "name": "stderr",
     "output_type": "stream",
     "text": [
      "Scraper going at...: 1996it [47:03,  1.31s/it]"
     ]
    },
    {
     "name": "stdout",
     "output_type": "stream",
     "text": [
      "No figcaption found for images in URL: https://www.nos.nl/artikel/2498877\n"
     ]
    },
    {
     "name": "stderr",
     "output_type": "stream",
     "text": [
      "Scraper going at...: 1998it [47:09,  2.10s/it]"
     ]
    },
    {
     "name": "stdout",
     "output_type": "stream",
     "text": [
      "No main image div found in URL: https://www.nos.nl/artikel/2498875\n"
     ]
    },
    {
     "name": "stderr",
     "output_type": "stream",
     "text": [
      "Scraper going at...: 2000it [47:12,  1.92s/it]"
     ]
    },
    {
     "name": "stdout",
     "output_type": "stream",
     "text": [
      "No figcaption found for images in URL: https://www.nos.nl/artikel/2498872\n"
     ]
    },
    {
     "name": "stderr",
     "output_type": "stream",
     "text": [
      "Scraper going at...: 2001it [47:13,  1.64s/it]"
     ]
    },
    {
     "name": "stdout",
     "output_type": "stream",
     "text": [
      "No main image div found in URL: https://www.nos.nl/artikel/2498869\n"
     ]
    },
    {
     "name": "stderr",
     "output_type": "stream",
     "text": [
      "Scraper going at...: 2002it [47:14,  1.44s/it]"
     ]
    },
    {
     "name": "stdout",
     "output_type": "stream",
     "text": [
      "No figcaption found for images in URL: https://www.nos.nl/artikel/2498867\n"
     ]
    },
    {
     "name": "stderr",
     "output_type": "stream",
     "text": [
      "Scraper going at...: 2005it [47:18,  1.38s/it]"
     ]
    },
    {
     "name": "stdout",
     "output_type": "stream",
     "text": [
      "No figcaption found for images in URL: https://www.nos.nl/artikel/2498850\n"
     ]
    },
    {
     "name": "stderr",
     "output_type": "stream",
     "text": [
      "Scraper going at...: 2015it [47:29,  1.13s/it]"
     ]
    },
    {
     "name": "stdout",
     "output_type": "stream",
     "text": [
      "No figcaption found for images in URL: https://www.nos.nl/artikel/2498828\n"
     ]
    },
    {
     "name": "stderr",
     "output_type": "stream",
     "text": [
      "Scraper going at...: 2017it [47:31,  1.07s/it]"
     ]
    },
    {
     "name": "stdout",
     "output_type": "stream",
     "text": [
      "No figcaption found for images in URL: https://www.nos.nl/artikel/2498819\n"
     ]
    },
    {
     "name": "stderr",
     "output_type": "stream",
     "text": [
      "Scraper going at...: 2021it [47:36,  1.10s/it]"
     ]
    },
    {
     "name": "stdout",
     "output_type": "stream",
     "text": [
      "No figcaption found for images in URL: https://www.nos.nl/artikel/2498812\n"
     ]
    },
    {
     "name": "stderr",
     "output_type": "stream",
     "text": [
      "Scraper going at...: 2029it [47:47,  1.51s/it]"
     ]
    },
    {
     "name": "stdout",
     "output_type": "stream",
     "text": [
      "No figcaption found for images in URL: https://www.nos.nl/artikel/2498769\n"
     ]
    },
    {
     "name": "stderr",
     "output_type": "stream",
     "text": [
      "Scraper going at...: 2031it [47:50,  1.42s/it]"
     ]
    },
    {
     "name": "stdout",
     "output_type": "stream",
     "text": [
      "No figcaption found for images in URL: https://www.nos.nl/artikel/2498766\n"
     ]
    },
    {
     "name": "stderr",
     "output_type": "stream",
     "text": [
      "Scraper going at...: 2032it [47:51,  1.33s/it]"
     ]
    },
    {
     "name": "stdout",
     "output_type": "stream",
     "text": [
      "No figcaption found for images in URL: https://www.nos.nl/artikel/2498765\n"
     ]
    },
    {
     "name": "stderr",
     "output_type": "stream",
     "text": [
      "Scraper going at...: 2033it [47:53,  1.30s/it]"
     ]
    },
    {
     "name": "stdout",
     "output_type": "stream",
     "text": [
      "No figcaption found for images in URL: https://www.nos.nl/artikel/2498764\n"
     ]
    },
    {
     "name": "stderr",
     "output_type": "stream",
     "text": [
      "Scraper going at...: 2037it [47:57,  1.14s/it]"
     ]
    },
    {
     "name": "stdout",
     "output_type": "stream",
     "text": [
      "No figcaption found for images in URL: https://www.nos.nl/artikel/2498757\n"
     ]
    },
    {
     "name": "stderr",
     "output_type": "stream",
     "text": [
      "Scraper going at...: 2039it [47:59,  1.21s/it]"
     ]
    },
    {
     "name": "stdout",
     "output_type": "stream",
     "text": [
      "No figcaption found for images in URL: https://www.nos.nl/artikel/2498752\n"
     ]
    },
    {
     "name": "stderr",
     "output_type": "stream",
     "text": [
      "Scraper going at...: 2040it [48:01,  1.23s/it]"
     ]
    },
    {
     "name": "stdout",
     "output_type": "stream",
     "text": [
      "No main image div found in URL: https://www.nos.nl/artikel/2498751\n"
     ]
    },
    {
     "name": "stderr",
     "output_type": "stream",
     "text": [
      "Scraper going at...: 2041it [48:02,  1.27s/it]"
     ]
    },
    {
     "name": "stdout",
     "output_type": "stream",
     "text": [
      "No figcaption found for images in URL: https://www.nos.nl/artikel/2498749\n"
     ]
    },
    {
     "name": "stderr",
     "output_type": "stream",
     "text": [
      "Scraper going at...: 2047it [48:09,  1.12s/it]"
     ]
    },
    {
     "name": "stdout",
     "output_type": "stream",
     "text": [
      "No figcaption found for images in URL: https://www.nos.nl/artikel/2498733\n"
     ]
    },
    {
     "name": "stderr",
     "output_type": "stream",
     "text": [
      "Scraper going at...: 2061it [48:31,  1.54s/it]"
     ]
    },
    {
     "name": "stdout",
     "output_type": "stream",
     "text": [
      "No figcaption found for images in URL: https://www.nos.nl/artikel/2498699\n"
     ]
    },
    {
     "name": "stderr",
     "output_type": "stream",
     "text": [
      "Scraper going at...: 2074it [48:50,  1.34s/it]"
     ]
    },
    {
     "name": "stdout",
     "output_type": "stream",
     "text": [
      "No figcaption found for images in URL: https://www.nos.nl/artikel/2498656\n"
     ]
    },
    {
     "name": "stderr",
     "output_type": "stream",
     "text": [
      "Scraper going at...: 2078it [48:54,  1.17s/it]"
     ]
    },
    {
     "name": "stdout",
     "output_type": "stream",
     "text": [
      "No main image div found in URL: https://www.nos.nl/artikel/2498651\n"
     ]
    },
    {
     "name": "stderr",
     "output_type": "stream",
     "text": [
      "Scraper going at...: 2081it [48:57,  1.16s/it]"
     ]
    },
    {
     "name": "stdout",
     "output_type": "stream",
     "text": [
      "No main image div found in URL: https://www.nos.nl/artikel/2498645\n"
     ]
    },
    {
     "name": "stderr",
     "output_type": "stream",
     "text": [
      "Scraper going at...: 2086it [49:06,  1.72s/it]"
     ]
    },
    {
     "name": "stdout",
     "output_type": "stream",
     "text": [
      "No figcaption found for images in URL: https://www.nos.nl/artikel/2498629\n"
     ]
    },
    {
     "name": "stderr",
     "output_type": "stream",
     "text": [
      "Scraper going at...: 2087it [49:09,  2.02s/it]"
     ]
    },
    {
     "name": "stdout",
     "output_type": "stream",
     "text": [
      "No figcaption found for images in URL: https://www.nos.nl/artikel/2498626\n"
     ]
    },
    {
     "name": "stderr",
     "output_type": "stream",
     "text": [
      "Scraper going at...: 2090it [49:12,  1.40s/it]"
     ]
    },
    {
     "name": "stdout",
     "output_type": "stream",
     "text": [
      "No figcaption found for images in URL: https://www.nos.nl/artikel/2498623\n"
     ]
    },
    {
     "name": "stderr",
     "output_type": "stream",
     "text": [
      "Scraper going at...: 2091it [49:13,  1.28s/it]"
     ]
    },
    {
     "name": "stdout",
     "output_type": "stream",
     "text": [
      "No figcaption found for images in URL: https://www.nos.nl/artikel/2498622\n"
     ]
    },
    {
     "name": "stderr",
     "output_type": "stream",
     "text": [
      "Scraper going at...: 2098it [49:22,  1.36s/it]"
     ]
    },
    {
     "name": "stdout",
     "output_type": "stream",
     "text": [
      "No figcaption found for images in URL: https://www.nos.nl/artikel/2498610\n"
     ]
    },
    {
     "name": "stderr",
     "output_type": "stream",
     "text": [
      "Scraper going at...: 2099it [49:23,  1.27s/it]"
     ]
    },
    {
     "name": "stdout",
     "output_type": "stream",
     "text": [
      "No figcaption found for images in URL: https://www.nos.nl/artikel/2498606\n"
     ]
    },
    {
     "name": "stderr",
     "output_type": "stream",
     "text": [
      "Scraper going at...: 2102it [49:27,  1.14s/it]"
     ]
    },
    {
     "name": "stdout",
     "output_type": "stream",
     "text": [
      "No figcaption found for images in URL: https://www.nos.nl/artikel/2498602\n"
     ]
    },
    {
     "name": "stderr",
     "output_type": "stream",
     "text": [
      "Scraper going at...: 2104it [49:29,  1.11s/it]"
     ]
    },
    {
     "name": "stdout",
     "output_type": "stream",
     "text": [
      "No figcaption found for images in URL: https://www.nos.nl/artikel/2498597\n"
     ]
    },
    {
     "name": "stderr",
     "output_type": "stream",
     "text": [
      "Scraper going at...: 2106it [49:31,  1.07s/it]"
     ]
    },
    {
     "name": "stdout",
     "output_type": "stream",
     "text": [
      "No figcaption found for images in URL: https://www.nos.nl/artikel/2498590\n"
     ]
    },
    {
     "name": "stderr",
     "output_type": "stream",
     "text": [
      "Scraper going at...: 2108it [49:33,  1.02s/it]"
     ]
    },
    {
     "name": "stdout",
     "output_type": "stream",
     "text": [
      "No figcaption found for images in URL: https://www.nos.nl/artikel/2498585\n"
     ]
    },
    {
     "name": "stderr",
     "output_type": "stream",
     "text": [
      "Scraper going at...: 2111it [49:36,  1.03s/it]"
     ]
    },
    {
     "name": "stdout",
     "output_type": "stream",
     "text": [
      "No figcaption found for images in URL: https://www.nos.nl/artikel/2498580\n"
     ]
    },
    {
     "name": "stderr",
     "output_type": "stream",
     "text": [
      "Scraper going at...: 2121it [49:51,  1.43s/it]"
     ]
    },
    {
     "name": "stdout",
     "output_type": "stream",
     "text": [
      "No figcaption found for images in URL: https://www.nos.nl/artikel/2498564\n"
     ]
    },
    {
     "name": "stderr",
     "output_type": "stream",
     "text": [
      "Scraper going at...: 2123it [49:53,  1.28s/it]"
     ]
    },
    {
     "name": "stdout",
     "output_type": "stream",
     "text": [
      "No figcaption found for images in URL: https://www.nos.nl/artikel/2498561\n"
     ]
    },
    {
     "name": "stderr",
     "output_type": "stream",
     "text": [
      "Scraper going at...: 2127it [49:57,  1.07s/it]"
     ]
    },
    {
     "name": "stdout",
     "output_type": "stream",
     "text": [
      "No main image div found in URL: https://www.nos.nl/artikel/2498555\n"
     ]
    },
    {
     "name": "stderr",
     "output_type": "stream",
     "text": [
      "Scraper going at...: 2134it [50:11,  1.77s/it]"
     ]
    },
    {
     "name": "stdout",
     "output_type": "stream",
     "text": [
      "No figcaption found for images in URL: https://www.nos.nl/artikel/2498543\n"
     ]
    },
    {
     "name": "stderr",
     "output_type": "stream",
     "text": [
      "Scraper going at...: 2142it [50:21,  1.17s/it]"
     ]
    },
    {
     "name": "stdout",
     "output_type": "stream",
     "text": [
      "No figcaption found for images in URL: https://www.nos.nl/artikel/2498520\n"
     ]
    },
    {
     "name": "stderr",
     "output_type": "stream",
     "text": [
      "Scraper going at...: 2146it [50:27,  1.34s/it]"
     ]
    },
    {
     "name": "stdout",
     "output_type": "stream",
     "text": [
      "No figcaption found for images in URL: https://www.nos.nl/artikel/2498509\n"
     ]
    },
    {
     "name": "stderr",
     "output_type": "stream",
     "text": [
      "Scraper going at...: 2157it [50:40,  1.29s/it]"
     ]
    },
    {
     "name": "stdout",
     "output_type": "stream",
     "text": [
      "No figcaption found for images in URL: https://www.nos.nl/artikel/2498489\n"
     ]
    },
    {
     "name": "stderr",
     "output_type": "stream",
     "text": [
      "Scraper going at...: 2161it [50:45,  1.27s/it]"
     ]
    },
    {
     "name": "stdout",
     "output_type": "stream",
     "text": [
      "No main image div found in URL: https://www.nos.nl/artikel/2498484\n"
     ]
    },
    {
     "name": "stderr",
     "output_type": "stream",
     "text": [
      "Scraper going at...: 2163it [50:48,  1.35s/it]"
     ]
    },
    {
     "name": "stdout",
     "output_type": "stream",
     "text": [
      "No main image div found in URL: https://www.nos.nl/artikel/2498480\n"
     ]
    },
    {
     "name": "stderr",
     "output_type": "stream",
     "text": [
      "Scraper going at...: 2165it [50:51,  1.37s/it]"
     ]
    },
    {
     "name": "stdout",
     "output_type": "stream",
     "text": [
      "No main image div found in URL: https://www.nos.nl/artikel/2498473\n"
     ]
    },
    {
     "name": "stderr",
     "output_type": "stream",
     "text": [
      "Scraper going at...: 2166it [50:52,  1.38s/it]"
     ]
    },
    {
     "name": "stdout",
     "output_type": "stream",
     "text": [
      "No main image div found in URL: https://www.nos.nl/artikel/2498469\n"
     ]
    },
    {
     "name": "stderr",
     "output_type": "stream",
     "text": [
      "Scraper going at...: 2168it [50:55,  1.24s/it]"
     ]
    },
    {
     "name": "stdout",
     "output_type": "stream",
     "text": [
      "No main image div found in URL: https://www.nos.nl/artikel/2498461\n"
     ]
    },
    {
     "name": "stderr",
     "output_type": "stream",
     "text": [
      "Scraper going at...: 2169it [50:56,  1.19s/it]"
     ]
    },
    {
     "name": "stdout",
     "output_type": "stream",
     "text": [
      "No figcaption found for images in URL: https://www.nos.nl/artikel/2498460\n"
     ]
    },
    {
     "name": "stderr",
     "output_type": "stream",
     "text": [
      "Scraper going at...: 2170it [50:57,  1.18s/it]"
     ]
    },
    {
     "name": "stdout",
     "output_type": "stream",
     "text": [
      "No figcaption found for images in URL: https://www.nos.nl/artikel/2498459\n"
     ]
    },
    {
     "name": "stderr",
     "output_type": "stream",
     "text": [
      "Scraper going at...: 2171it [50:58,  1.11s/it]"
     ]
    },
    {
     "name": "stdout",
     "output_type": "stream",
     "text": [
      "No figcaption found for images in URL: https://www.nos.nl/artikel/2498458\n"
     ]
    },
    {
     "name": "stderr",
     "output_type": "stream",
     "text": [
      "Scraper going at...: 2172it [51:00,  1.48s/it]"
     ]
    },
    {
     "name": "stdout",
     "output_type": "stream",
     "text": [
      "No main image div found in URL: https://www.nos.nl/artikel/2498454\n"
     ]
    },
    {
     "name": "stderr",
     "output_type": "stream",
     "text": [
      "Scraper going at...: 2173it [51:01,  1.39s/it]"
     ]
    },
    {
     "name": "stdout",
     "output_type": "stream",
     "text": [
      "No main image div found in URL: https://www.nos.nl/artikel/2498453\n"
     ]
    },
    {
     "name": "stderr",
     "output_type": "stream",
     "text": [
      "Scraper going at...: 2174it [51:03,  1.42s/it]"
     ]
    },
    {
     "name": "stdout",
     "output_type": "stream",
     "text": [
      "No main image div found in URL: https://www.nos.nl/artikel/2498443\n"
     ]
    },
    {
     "name": "stderr",
     "output_type": "stream",
     "text": [
      "Scraper going at...: 2175it [51:04,  1.35s/it]"
     ]
    },
    {
     "name": "stdout",
     "output_type": "stream",
     "text": [
      "No main image div found in URL: https://www.nos.nl/artikel/2498440\n"
     ]
    },
    {
     "name": "stderr",
     "output_type": "stream",
     "text": [
      "Scraper going at...: 2176it [51:05,  1.24s/it]"
     ]
    },
    {
     "name": "stdout",
     "output_type": "stream",
     "text": [
      "No main image div found in URL: https://www.nos.nl/artikel/2498439\n"
     ]
    },
    {
     "name": "stderr",
     "output_type": "stream",
     "text": [
      "Scraper going at...: 2183it [51:15,  1.28s/it]"
     ]
    },
    {
     "name": "stdout",
     "output_type": "stream",
     "text": [
      "No figcaption found for images in URL: https://www.nos.nl/artikel/2498419\n"
     ]
    },
    {
     "name": "stderr",
     "output_type": "stream",
     "text": [
      "Scraper going at...: 2186it [51:19,  1.48s/it]"
     ]
    },
    {
     "name": "stdout",
     "output_type": "stream",
     "text": [
      "No main image div found in URL: https://www.nos.nl/artikel/2498415\n"
     ]
    },
    {
     "name": "stderr",
     "output_type": "stream",
     "text": [
      "Scraper going at...: 2188it [51:22,  1.45s/it]"
     ]
    },
    {
     "name": "stdout",
     "output_type": "stream",
     "text": [
      "No main image div found in URL: https://www.nos.nl/artikel/2498408\n"
     ]
    },
    {
     "name": "stderr",
     "output_type": "stream",
     "text": [
      "Scraper going at...: 2191it [51:25,  1.20s/it]"
     ]
    },
    {
     "name": "stdout",
     "output_type": "stream",
     "text": [
      "No main image div found in URL: https://www.nos.nl/artikel/2498402\n"
     ]
    },
    {
     "name": "stderr",
     "output_type": "stream",
     "text": [
      "Scraper going at...: 2195it [51:33,  1.90s/it]"
     ]
    },
    {
     "name": "stdout",
     "output_type": "stream",
     "text": [
      "No figcaption found for images in URL: https://www.nos.nl/artikel/2498394\n"
     ]
    },
    {
     "name": "stderr",
     "output_type": "stream",
     "text": [
      "Scraper going at...: 2196it [51:34,  1.65s/it]"
     ]
    },
    {
     "name": "stdout",
     "output_type": "stream",
     "text": [
      "No figcaption found for images in URL: https://www.nos.nl/artikel/2498391\n"
     ]
    },
    {
     "name": "stderr",
     "output_type": "stream",
     "text": [
      "Scraper going at...: 2198it [51:36,  1.39s/it]"
     ]
    },
    {
     "name": "stdout",
     "output_type": "stream",
     "text": [
      "No main image div found in URL: https://www.nos.nl/artikel/2498376\n"
     ]
    },
    {
     "name": "stderr",
     "output_type": "stream",
     "text": [
      "Scraper going at...: 2201it [51:39,  1.22s/it]"
     ]
    },
    {
     "name": "stdout",
     "output_type": "stream",
     "text": [
      "No figcaption found for images in URL: https://www.nos.nl/artikel/2498368\n"
     ]
    },
    {
     "name": "stderr",
     "output_type": "stream",
     "text": [
      "Scraper going at...: 2204it [51:44,  1.44s/it]"
     ]
    },
    {
     "name": "stdout",
     "output_type": "stream",
     "text": [
      "No main image div found in URL: https://www.nos.nl/artikel/2498360\n"
     ]
    },
    {
     "name": "stderr",
     "output_type": "stream",
     "text": [
      "Scraper going at...: 2205it [51:45,  1.35s/it]"
     ]
    },
    {
     "name": "stdout",
     "output_type": "stream",
     "text": [
      "No figcaption found for images in URL: https://www.nos.nl/artikel/2498347\n"
     ]
    },
    {
     "name": "stderr",
     "output_type": "stream",
     "text": [
      "Scraper going at...: 2209it [51:51,  1.28s/it]"
     ]
    },
    {
     "name": "stdout",
     "output_type": "stream",
     "text": [
      "No main image div found in URL: https://www.nos.nl/artikel/2498324\n"
     ]
    },
    {
     "name": "stderr",
     "output_type": "stream",
     "text": [
      "Scraper going at...: 2211it [51:54,  1.53s/it]"
     ]
    },
    {
     "name": "stdout",
     "output_type": "stream",
     "text": [
      "No main image div found in URL: https://www.nos.nl/artikel/2498320\n"
     ]
    },
    {
     "name": "stderr",
     "output_type": "stream",
     "text": [
      "Scraper going at...: 2221it [52:06,  1.15s/it]"
     ]
    },
    {
     "name": "stdout",
     "output_type": "stream",
     "text": [
      "No figcaption found for images in URL: https://www.nos.nl/artikel/2498300\n"
     ]
    },
    {
     "name": "stderr",
     "output_type": "stream",
     "text": [
      "Scraper going at...: 2229it [52:18,  1.54s/it]"
     ]
    },
    {
     "name": "stdout",
     "output_type": "stream",
     "text": [
      "No main image div found in URL: https://www.nos.nl/artikel/2498277\n"
     ]
    },
    {
     "name": "stderr",
     "output_type": "stream",
     "text": [
      "Scraper going at...: 2231it [52:21,  1.30s/it]"
     ]
    },
    {
     "name": "stdout",
     "output_type": "stream",
     "text": [
      "No figcaption found for images in URL: https://www.nos.nl/artikel/2498274\n"
     ]
    },
    {
     "name": "stderr",
     "output_type": "stream",
     "text": [
      "Scraper going at...: 2243it [52:33,  1.05s/it]"
     ]
    },
    {
     "name": "stdout",
     "output_type": "stream",
     "text": [
      "No main image div found in URL: https://www.nos.nl/artikel/2498251\n"
     ]
    },
    {
     "name": "stderr",
     "output_type": "stream",
     "text": [
      "Scraper going at...: 2252it [52:48,  1.16s/it]"
     ]
    },
    {
     "name": "stdout",
     "output_type": "stream",
     "text": [
      "No figcaption found for images in URL: https://www.nos.nl/artikel/2498235\n"
     ]
    },
    {
     "name": "stderr",
     "output_type": "stream",
     "text": [
      "Scraper going at...: 2255it [52:51,  1.06s/it]"
     ]
    },
    {
     "name": "stdout",
     "output_type": "stream",
     "text": [
      "No main image div found in URL: https://www.nos.nl/artikel/2498231\n"
     ]
    },
    {
     "name": "stderr",
     "output_type": "stream",
     "text": [
      "Scraper going at...: 2256it [52:52,  1.02s/it]"
     ]
    },
    {
     "name": "stdout",
     "output_type": "stream",
     "text": [
      "No main image div found in URL: https://www.nos.nl/artikel/2498229\n"
     ]
    },
    {
     "name": "stderr",
     "output_type": "stream",
     "text": [
      "Scraper going at...: 2258it [52:55,  1.26s/it]"
     ]
    },
    {
     "name": "stdout",
     "output_type": "stream",
     "text": [
      "No figcaption found for images in URL: https://www.nos.nl/artikel/2498225\n"
     ]
    },
    {
     "name": "stderr",
     "output_type": "stream",
     "text": [
      "Scraper going at...: 2260it [52:58,  1.40s/it]"
     ]
    },
    {
     "name": "stdout",
     "output_type": "stream",
     "text": [
      "No main image div found in URL: https://www.nos.nl/artikel/2498215\n"
     ]
    },
    {
     "name": "stderr",
     "output_type": "stream",
     "text": [
      "Scraper going at...: 2268it [53:09,  1.32s/it]"
     ]
    },
    {
     "name": "stdout",
     "output_type": "stream",
     "text": [
      "No figcaption found for images in URL: https://www.nos.nl/artikel/2498200\n"
     ]
    },
    {
     "name": "stderr",
     "output_type": "stream",
     "text": [
      "Scraper going at...: 2270it [53:12,  1.37s/it]"
     ]
    },
    {
     "name": "stdout",
     "output_type": "stream",
     "text": [
      "No main image div found in URL: https://www.nos.nl/artikel/2498193\n"
     ]
    },
    {
     "name": "stderr",
     "output_type": "stream",
     "text": [
      "Scraper going at...: 2277it [53:20,  1.15s/it]"
     ]
    },
    {
     "name": "stdout",
     "output_type": "stream",
     "text": [
      "No main image div found in URL: https://www.nos.nl/artikel/2498180\n"
     ]
    },
    {
     "name": "stderr",
     "output_type": "stream",
     "text": [
      "Scraper going at...: 2278it [53:22,  1.27s/it]"
     ]
    },
    {
     "name": "stdout",
     "output_type": "stream",
     "text": [
      "No figcaption found for images in URL: https://www.nos.nl/artikel/2498179\n"
     ]
    },
    {
     "name": "stderr",
     "output_type": "stream",
     "text": [
      "Scraper going at...: 2280it [53:26,  1.76s/it]"
     ]
    },
    {
     "name": "stdout",
     "output_type": "stream",
     "text": [
      "No main image div found in URL: https://www.nos.nl/artikel/2498175\n"
     ]
    },
    {
     "name": "stderr",
     "output_type": "stream",
     "text": [
      "Scraper going at...: 2281it [53:27,  1.60s/it]"
     ]
    },
    {
     "name": "stdout",
     "output_type": "stream",
     "text": [
      "No main image div found in URL: https://www.nos.nl/artikel/2498174\n"
     ]
    },
    {
     "name": "stderr",
     "output_type": "stream",
     "text": [
      "Scraper going at...: 2284it [53:31,  1.40s/it]"
     ]
    },
    {
     "name": "stdout",
     "output_type": "stream",
     "text": [
      "No figcaption found for images in URL: https://www.nos.nl/artikel/2498169\n"
     ]
    },
    {
     "name": "stderr",
     "output_type": "stream",
     "text": [
      "Scraper going at...: 2294it [53:45,  1.38s/it]"
     ]
    },
    {
     "name": "stdout",
     "output_type": "stream",
     "text": [
      "No main image div found in URL: https://www.nos.nl/artikel/2498149\n"
     ]
    },
    {
     "name": "stderr",
     "output_type": "stream",
     "text": [
      "Scraper going at...: 2298it [53:50,  1.37s/it]"
     ]
    },
    {
     "name": "stdout",
     "output_type": "stream",
     "text": [
      "No main image div found in URL: https://www.nos.nl/artikel/2498143\n"
     ]
    },
    {
     "name": "stderr",
     "output_type": "stream",
     "text": [
      "Scraper going at...: 2299it [53:51,  1.35s/it]"
     ]
    },
    {
     "name": "stdout",
     "output_type": "stream",
     "text": [
      "No figcaption found for images in URL: https://www.nos.nl/artikel/2498140\n"
     ]
    },
    {
     "name": "stderr",
     "output_type": "stream",
     "text": [
      "Scraper going at...: 2303it [53:56,  1.25s/it]"
     ]
    },
    {
     "name": "stdout",
     "output_type": "stream",
     "text": [
      "No main image div found in URL: https://www.nos.nl/artikel/2498126\n"
     ]
    },
    {
     "name": "stderr",
     "output_type": "stream",
     "text": [
      "Scraper going at...: 2307it [54:01,  1.20s/it]"
     ]
    },
    {
     "name": "stdout",
     "output_type": "stream",
     "text": [
      "No figcaption found for images in URL: https://www.nos.nl/artikel/2498116\n"
     ]
    },
    {
     "name": "stderr",
     "output_type": "stream",
     "text": [
      "Scraper going at...: 2311it [54:05,  1.08s/it]"
     ]
    },
    {
     "name": "stdout",
     "output_type": "stream",
     "text": [
      "No figcaption found for images in URL: https://www.nos.nl/artikel/2498108\n"
     ]
    },
    {
     "name": "stderr",
     "output_type": "stream",
     "text": [
      "Scraper going at...: 2312it [54:06,  1.06s/it]"
     ]
    },
    {
     "name": "stdout",
     "output_type": "stream",
     "text": [
      "No figcaption found for images in URL: https://www.nos.nl/artikel/2498107\n"
     ]
    },
    {
     "name": "stderr",
     "output_type": "stream",
     "text": [
      "Scraper going at...: 2323it [54:19,  1.21s/it]"
     ]
    },
    {
     "name": "stdout",
     "output_type": "stream",
     "text": [
      "No figcaption found for images in URL: https://www.nos.nl/artikel/2498089\n"
     ]
    },
    {
     "name": "stderr",
     "output_type": "stream",
     "text": [
      "Scraper going at...: 2326it [54:23,  1.48s/it]"
     ]
    },
    {
     "name": "stdout",
     "output_type": "stream",
     "text": [
      "No figcaption found for images in URL: https://www.nos.nl/artikel/2498086\n"
     ]
    },
    {
     "name": "stderr",
     "output_type": "stream",
     "text": [
      "Scraper going at...: 2329it [54:26,  1.22s/it]"
     ]
    },
    {
     "name": "stdout",
     "output_type": "stream",
     "text": [
      "No figcaption found for images in URL: https://www.nos.nl/artikel/2498082\n"
     ]
    },
    {
     "name": "stderr",
     "output_type": "stream",
     "text": [
      "Scraper going at...: 2337it [54:37,  1.23s/it]"
     ]
    },
    {
     "name": "stdout",
     "output_type": "stream",
     "text": [
      "No figcaption found for images in URL: https://www.nos.nl/artikel/2498062\n"
     ]
    },
    {
     "name": "stderr",
     "output_type": "stream",
     "text": [
      "Scraper going at...: 2340it [54:41,  1.37s/it]"
     ]
    },
    {
     "name": "stdout",
     "output_type": "stream",
     "text": [
      "No main image div found in URL: https://www.nos.nl/artikel/2498057\n"
     ]
    },
    {
     "name": "stderr",
     "output_type": "stream",
     "text": [
      "Scraper going at...: 2341it [54:42,  1.30s/it]"
     ]
    },
    {
     "name": "stdout",
     "output_type": "stream",
     "text": [
      "No main image div found in URL: https://www.nos.nl/artikel/2498055\n"
     ]
    },
    {
     "name": "stderr",
     "output_type": "stream",
     "text": [
      "Scraper going at...: 2343it [54:45,  1.22s/it]"
     ]
    },
    {
     "name": "stdout",
     "output_type": "stream",
     "text": [
      "No main image div found in URL: https://www.nos.nl/artikel/2498053\n"
     ]
    },
    {
     "name": "stderr",
     "output_type": "stream",
     "text": [
      "Scraper going at...: 2348it [54:53,  1.45s/it]"
     ]
    },
    {
     "name": "stdout",
     "output_type": "stream",
     "text": [
      "No figcaption found for images in URL: https://www.nos.nl/artikel/2498035\n"
     ]
    },
    {
     "name": "stderr",
     "output_type": "stream",
     "text": [
      "Scraper going at...: 2357it [55:06,  2.10s/it]"
     ]
    },
    {
     "name": "stdout",
     "output_type": "stream",
     "text": [
      "No figcaption found for images in URL: https://www.nos.nl/artikel/2498016\n"
     ]
    },
    {
     "name": "stderr",
     "output_type": "stream",
     "text": [
      "Scraper going at...: 2362it [55:12,  1.34s/it]"
     ]
    },
    {
     "name": "stdout",
     "output_type": "stream",
     "text": [
      "No figcaption found for images in URL: https://www.nos.nl/artikel/2497999\n"
     ]
    },
    {
     "name": "stderr",
     "output_type": "stream",
     "text": [
      "Scraper going at...: 2365it [55:16,  1.32s/it]"
     ]
    },
    {
     "name": "stdout",
     "output_type": "stream",
     "text": [
      "No figcaption found for images in URL: https://www.nos.nl/artikel/2497992\n"
     ]
    },
    {
     "name": "stderr",
     "output_type": "stream",
     "text": [
      "Scraper going at...: 2371it [55:22,  1.13s/it]"
     ]
    },
    {
     "name": "stdout",
     "output_type": "stream",
     "text": [
      "No main image div found in URL: https://www.nos.nl/artikel/2497976\n"
     ]
    },
    {
     "name": "stderr",
     "output_type": "stream",
     "text": [
      "Scraper going at...: 2372it [55:24,  1.27s/it]"
     ]
    },
    {
     "name": "stdout",
     "output_type": "stream",
     "text": [
      "No main image div found in URL: https://www.nos.nl/artikel/2497975\n"
     ]
    },
    {
     "name": "stderr",
     "output_type": "stream",
     "text": [
      "Scraper going at...: 2375it [55:28,  1.19s/it]"
     ]
    },
    {
     "name": "stdout",
     "output_type": "stream",
     "text": [
      "No main image div found in URL: https://www.nos.nl/artikel/2497966\n"
     ]
    },
    {
     "name": "stderr",
     "output_type": "stream",
     "text": [
      "Scraper going at...: 2379it [55:35,  1.79s/it]"
     ]
    },
    {
     "name": "stdout",
     "output_type": "stream",
     "text": [
      "No figcaption found for images in URL: https://www.nos.nl/artikel/2497958\n"
     ]
    },
    {
     "name": "stderr",
     "output_type": "stream",
     "text": [
      "Scraper going at...: 2380it [55:36,  1.55s/it]"
     ]
    },
    {
     "name": "stdout",
     "output_type": "stream",
     "text": [
      "No figcaption found for images in URL: https://www.nos.nl/artikel/2497954\n"
     ]
    },
    {
     "name": "stderr",
     "output_type": "stream",
     "text": [
      "Scraper going at...: 2385it [55:43,  1.39s/it]"
     ]
    },
    {
     "name": "stdout",
     "output_type": "stream",
     "text": [
      "No figcaption found for images in URL: https://www.nos.nl/artikel/2497944\n"
     ]
    },
    {
     "name": "stderr",
     "output_type": "stream",
     "text": [
      "Scraper going at...: 2388it [55:48,  1.45s/it]"
     ]
    },
    {
     "name": "stdout",
     "output_type": "stream",
     "text": [
      "No main image div found in URL: https://www.nos.nl/artikel/2497937\n"
     ]
    },
    {
     "name": "stderr",
     "output_type": "stream",
     "text": [
      "Scraper going at...: 2392it [55:53,  1.27s/it]"
     ]
    },
    {
     "name": "stdout",
     "output_type": "stream",
     "text": [
      "No figcaption found for images in URL: https://www.nos.nl/artikel/2497931\n"
     ]
    },
    {
     "name": "stderr",
     "output_type": "stream",
     "text": [
      "Scraper going at...: 2394it [55:55,  1.16s/it]"
     ]
    },
    {
     "name": "stdout",
     "output_type": "stream",
     "text": [
      "No figcaption found for images in URL: https://www.nos.nl/artikel/2497924\n"
     ]
    },
    {
     "name": "stderr",
     "output_type": "stream",
     "text": [
      "Scraper going at...: 2405it [56:07,  1.07s/it]"
     ]
    },
    {
     "name": "stdout",
     "output_type": "stream",
     "text": [
      "No main image div found in URL: https://www.nos.nl/artikel/2497907\n"
     ]
    },
    {
     "name": "stderr",
     "output_type": "stream",
     "text": [
      "Scraper going at...: 2417it [56:26,  1.63s/it]"
     ]
    },
    {
     "name": "stdout",
     "output_type": "stream",
     "text": [
      "No figcaption found for images in URL: https://www.nos.nl/artikel/2497880\n"
     ]
    },
    {
     "name": "stderr",
     "output_type": "stream",
     "text": [
      "Scraper going at...: 2420it [56:31,  1.83s/it]"
     ]
    },
    {
     "name": "stdout",
     "output_type": "stream",
     "text": [
      "No figcaption found for images in URL: https://www.nos.nl/artikel/2497871\n"
     ]
    },
    {
     "name": "stderr",
     "output_type": "stream",
     "text": [
      "Scraper going at...: 2421it [56:33,  1.61s/it]"
     ]
    },
    {
     "name": "stdout",
     "output_type": "stream",
     "text": [
      "No figcaption found for images in URL: https://www.nos.nl/artikel/2497870\n"
     ]
    },
    {
     "name": "stderr",
     "output_type": "stream",
     "text": [
      "Scraper going at...: 2422it [56:34,  1.72s/it]"
     ]
    },
    {
     "name": "stdout",
     "output_type": "stream",
     "text": [
      "No main image div found in URL: https://www.nos.nl/artikel/2497867\n"
     ]
    },
    {
     "name": "stderr",
     "output_type": "stream",
     "text": [
      "Scraper going at...: 2424it [56:37,  1.47s/it]"
     ]
    },
    {
     "name": "stdout",
     "output_type": "stream",
     "text": [
      "No main image div found in URL: https://www.nos.nl/artikel/2497864\n"
     ]
    },
    {
     "name": "stderr",
     "output_type": "stream",
     "text": [
      "Scraper going at...: 2425it [56:38,  1.35s/it]"
     ]
    },
    {
     "name": "stdout",
     "output_type": "stream",
     "text": [
      "No main image div found in URL: https://www.nos.nl/artikel/2497861\n"
     ]
    },
    {
     "name": "stderr",
     "output_type": "stream",
     "text": [
      "Scraper going at...: 2427it [56:44,  2.06s/it]"
     ]
    },
    {
     "name": "stdout",
     "output_type": "stream",
     "text": [
      "No main image div found in URL: https://www.nos.nl/artikel/2497856\n"
     ]
    },
    {
     "name": "stderr",
     "output_type": "stream",
     "text": [
      "Scraper going at...: 2432it [56:49,  1.31s/it]"
     ]
    },
    {
     "name": "stdout",
     "output_type": "stream",
     "text": [
      "No figcaption found for images in URL: https://www.nos.nl/artikel/2497844\n"
     ]
    },
    {
     "name": "stderr",
     "output_type": "stream",
     "text": [
      "Scraper going at...: 2435it [56:53,  1.14s/it]"
     ]
    },
    {
     "name": "stdout",
     "output_type": "stream",
     "text": [
      "No figcaption found for images in URL: https://www.nos.nl/artikel/2497836\n"
     ]
    },
    {
     "name": "stderr",
     "output_type": "stream",
     "text": [
      "Scraper going at...: 2436it [56:54,  1.17s/it]"
     ]
    },
    {
     "name": "stdout",
     "output_type": "stream",
     "text": [
      "No figcaption found for images in URL: https://www.nos.nl/artikel/2497831\n"
     ]
    },
    {
     "name": "stderr",
     "output_type": "stream",
     "text": [
      "Scraper going at...: 2438it [56:56,  1.17s/it]"
     ]
    },
    {
     "name": "stdout",
     "output_type": "stream",
     "text": [
      "No main image div found in URL: https://www.nos.nl/artikel/2497828\n"
     ]
    },
    {
     "name": "stderr",
     "output_type": "stream",
     "text": [
      "Scraper going at...: 2443it [57:02,  1.07s/it]"
     ]
    },
    {
     "name": "stdout",
     "output_type": "stream",
     "text": [
      "No figcaption found for images in URL: https://www.nos.nl/artikel/2497817\n"
     ]
    },
    {
     "name": "stderr",
     "output_type": "stream",
     "text": [
      "Scraper going at...: 2448it [57:07,  1.03s/it]"
     ]
    },
    {
     "name": "stdout",
     "output_type": "stream",
     "text": [
      "No figcaption found for images in URL: https://www.nos.nl/artikel/2497808\n"
     ]
    },
    {
     "name": "stderr",
     "output_type": "stream",
     "text": [
      "Scraper going at...: 2450it [57:09,  1.00it/s]"
     ]
    },
    {
     "name": "stdout",
     "output_type": "stream",
     "text": [
      "No main image div found in URL: https://www.nos.nl/artikel/2497803\n"
     ]
    },
    {
     "name": "stderr",
     "output_type": "stream",
     "text": [
      "Scraper going at...: 2452it [57:11,  1.10s/it]"
     ]
    },
    {
     "name": "stdout",
     "output_type": "stream",
     "text": [
      "No main image div found in URL: https://www.nos.nl/artikel/2497798\n"
     ]
    },
    {
     "name": "stderr",
     "output_type": "stream",
     "text": [
      "Scraper going at...: 2457it [57:17,  1.13s/it]"
     ]
    },
    {
     "name": "stdout",
     "output_type": "stream",
     "text": [
      "No main image div found in URL: https://www.nos.nl/artikel/2497783\n"
     ]
    },
    {
     "name": "stderr",
     "output_type": "stream",
     "text": [
      "Scraper going at...: 2461it [57:21,  1.12s/it]"
     ]
    },
    {
     "name": "stdout",
     "output_type": "stream",
     "text": [
      "No figcaption found for images in URL: https://www.nos.nl/artikel/2497776\n"
     ]
    },
    {
     "name": "stderr",
     "output_type": "stream",
     "text": [
      "Scraper going at...: 2466it [57:27,  1.21s/it]"
     ]
    },
    {
     "name": "stdout",
     "output_type": "stream",
     "text": [
      "No figcaption found for images in URL: https://www.nos.nl/artikel/2497764\n"
     ]
    },
    {
     "name": "stderr",
     "output_type": "stream",
     "text": [
      "Scraper going at...: 2467it [57:28,  1.16s/it]"
     ]
    },
    {
     "name": "stdout",
     "output_type": "stream",
     "text": [
      "No figcaption found for images in URL: https://www.nos.nl/artikel/2497757\n"
     ]
    },
    {
     "name": "stderr",
     "output_type": "stream",
     "text": [
      "Scraper going at...: 2468it [57:29,  1.13s/it]"
     ]
    },
    {
     "name": "stdout",
     "output_type": "stream",
     "text": [
      "No figcaption found for images in URL: https://www.nos.nl/artikel/2497756\n"
     ]
    },
    {
     "name": "stderr",
     "output_type": "stream",
     "text": [
      "Scraper going at...: 2471it [57:35,  1.73s/it]"
     ]
    },
    {
     "name": "stdout",
     "output_type": "stream",
     "text": [
      "No figcaption found for images in URL: https://www.nos.nl/artikel/2497752\n"
     ]
    },
    {
     "name": "stderr",
     "output_type": "stream",
     "text": [
      "Scraper going at...: 2476it [57:41,  1.29s/it]"
     ]
    },
    {
     "name": "stdout",
     "output_type": "stream",
     "text": [
      "No figcaption found for images in URL: https://www.nos.nl/artikel/2497741\n"
     ]
    },
    {
     "name": "stderr",
     "output_type": "stream",
     "text": [
      "Scraper going at...: 2480it [57:45,  1.06s/it]"
     ]
    },
    {
     "name": "stdout",
     "output_type": "stream",
     "text": [
      "No figcaption found for images in URL: https://www.nos.nl/artikel/2497728\n"
     ]
    },
    {
     "name": "stderr",
     "output_type": "stream",
     "text": [
      "Scraper going at...: 2483it [57:49,  1.19s/it]"
     ]
    },
    {
     "name": "stdout",
     "output_type": "stream",
     "text": [
      "No main image div found in URL: https://www.nos.nl/artikel/2497721\n"
     ]
    },
    {
     "name": "stderr",
     "output_type": "stream",
     "text": [
      "Scraper going at...: 2485it [57:52,  1.19s/it]"
     ]
    },
    {
     "name": "stdout",
     "output_type": "stream",
     "text": [
      "No main image div found in URL: https://www.nos.nl/artikel/2497715\n"
     ]
    },
    {
     "name": "stderr",
     "output_type": "stream",
     "text": [
      "Scraper going at...: 2487it [57:54,  1.31s/it]"
     ]
    },
    {
     "name": "stdout",
     "output_type": "stream",
     "text": [
      "No figcaption found for images in URL: https://www.nos.nl/artikel/2497712\n"
     ]
    },
    {
     "name": "stderr",
     "output_type": "stream",
     "text": [
      "Scraper going at...: 2491it [57:59,  1.16s/it]"
     ]
    },
    {
     "name": "stdout",
     "output_type": "stream",
     "text": [
      "No main image div found in URL: https://www.nos.nl/artikel/2497701\n"
     ]
    },
    {
     "name": "stderr",
     "output_type": "stream",
     "text": [
      "Scraper going at...: 2495it [58:03,  1.12s/it]"
     ]
    },
    {
     "name": "stdout",
     "output_type": "stream",
     "text": [
      "No figcaption found for images in URL: https://www.nos.nl/artikel/2497697\n"
     ]
    },
    {
     "name": "stderr",
     "output_type": "stream",
     "text": [
      "Scraper going at...: 2498it [58:08,  1.66s/it]"
     ]
    },
    {
     "name": "stdout",
     "output_type": "stream",
     "text": [
      "No figcaption found for images in URL: https://www.nos.nl/artikel/2497690\n"
     ]
    },
    {
     "name": "stderr",
     "output_type": "stream",
     "text": [
      "Scraper going at...: 2502it [58:15,  1.89s/it]"
     ]
    },
    {
     "name": "stdout",
     "output_type": "stream",
     "text": [
      "No main image div found in URL: https://www.nos.nl/artikel/2497683\n"
     ]
    },
    {
     "name": "stderr",
     "output_type": "stream",
     "text": [
      "Scraper going at...: 2511it [58:28,  1.50s/it]"
     ]
    },
    {
     "name": "stdout",
     "output_type": "stream",
     "text": [
      "No figcaption found for images in URL: https://www.nos.nl/artikel/2497659\n"
     ]
    },
    {
     "name": "stderr",
     "output_type": "stream",
     "text": [
      "Scraper going at...: 2515it [58:40,  2.70s/it]"
     ]
    },
    {
     "name": "stdout",
     "output_type": "stream",
     "text": [
      "No main image div found in URL: https://www.nos.nl/artikel/2497653\n"
     ]
    },
    {
     "name": "stderr",
     "output_type": "stream",
     "text": [
      "Scraper going at...: 2517it [58:43,  1.98s/it]"
     ]
    },
    {
     "name": "stdout",
     "output_type": "stream",
     "text": [
      "No figcaption found for images in URL: https://www.nos.nl/artikel/2497648\n"
     ]
    },
    {
     "name": "stderr",
     "output_type": "stream",
     "text": [
      "Scraper going at...: 2519it [58:49,  2.38s/it]"
     ]
    },
    {
     "name": "stdout",
     "output_type": "stream",
     "text": [
      "No main image div found in URL: https://www.nos.nl/artikel/2497638\n"
     ]
    },
    {
     "name": "stderr",
     "output_type": "stream",
     "text": [
      "Scraper going at...: 2523it [58:54,  1.49s/it]"
     ]
    },
    {
     "name": "stdout",
     "output_type": "stream",
     "text": [
      "No figcaption found for images in URL: https://www.nos.nl/artikel/2497623\n"
     ]
    },
    {
     "name": "stderr",
     "output_type": "stream",
     "text": [
      "Scraper going at...: 2525it [58:56,  1.27s/it]"
     ]
    },
    {
     "name": "stdout",
     "output_type": "stream",
     "text": [
      "No main image div found in URL: https://www.nos.nl/artikel/2497617\n"
     ]
    },
    {
     "name": "stderr",
     "output_type": "stream",
     "text": [
      "Scraper going at...: 2528it [59:00,  1.33s/it]"
     ]
    },
    {
     "name": "stdout",
     "output_type": "stream",
     "text": [
      "No main image div found in URL: https://www.nos.nl/artikel/2497601\n"
     ]
    },
    {
     "name": "stderr",
     "output_type": "stream",
     "text": [
      "Scraper going at...: 2529it [59:02,  1.33s/it]"
     ]
    },
    {
     "name": "stdout",
     "output_type": "stream",
     "text": [
      "No figcaption found for images in URL: https://www.nos.nl/artikel/2497600\n"
     ]
    },
    {
     "name": "stderr",
     "output_type": "stream",
     "text": [
      "Scraper going at...: 2530it [59:03,  1.24s/it]"
     ]
    },
    {
     "name": "stdout",
     "output_type": "stream",
     "text": [
      "No figcaption found for images in URL: https://www.nos.nl/artikel/2497599\n"
     ]
    },
    {
     "name": "stderr",
     "output_type": "stream",
     "text": [
      "Scraper going at...: 2532it [59:05,  1.15s/it]"
     ]
    },
    {
     "name": "stdout",
     "output_type": "stream",
     "text": [
      "No main image div found in URL: https://www.nos.nl/artikel/2497594\n"
     ]
    },
    {
     "name": "stderr",
     "output_type": "stream",
     "text": [
      "Scraper going at...: 2533it [59:06,  1.21s/it]"
     ]
    },
    {
     "name": "stdout",
     "output_type": "stream",
     "text": [
      "No figcaption found for images in URL: https://www.nos.nl/artikel/2497593\n"
     ]
    },
    {
     "name": "stderr",
     "output_type": "stream",
     "text": [
      "Scraper going at...: 2534it [59:07,  1.19s/it]"
     ]
    },
    {
     "name": "stdout",
     "output_type": "stream",
     "text": [
      "No main image div found in URL: https://www.nos.nl/artikel/2497592\n"
     ]
    },
    {
     "name": "stderr",
     "output_type": "stream",
     "text": [
      "Scraper going at...: 2535it [59:08,  1.17s/it]"
     ]
    },
    {
     "name": "stdout",
     "output_type": "stream",
     "text": [
      "No main image div found in URL: https://www.nos.nl/artikel/2497591\n"
     ]
    },
    {
     "name": "stderr",
     "output_type": "stream",
     "text": [
      "Scraper going at...: 2537it [59:12,  1.53s/it]"
     ]
    },
    {
     "name": "stdout",
     "output_type": "stream",
     "text": [
      "No main image div found in URL: https://www.nos.nl/artikel/2497589\n"
     ]
    },
    {
     "name": "stderr",
     "output_type": "stream",
     "text": [
      "Scraper going at...: 2539it [59:14,  1.27s/it]"
     ]
    },
    {
     "name": "stdout",
     "output_type": "stream",
     "text": [
      "No main image div found in URL: https://www.nos.nl/artikel/2497579\n"
     ]
    },
    {
     "name": "stderr",
     "output_type": "stream",
     "text": [
      "Scraper going at...: 2540it [59:15,  1.26s/it]"
     ]
    },
    {
     "name": "stdout",
     "output_type": "stream",
     "text": [
      "No figcaption found for images in URL: https://www.nos.nl/artikel/2497575\n"
     ]
    },
    {
     "name": "stderr",
     "output_type": "stream",
     "text": [
      "Scraper going at...: 2541it [59:18,  1.64s/it]"
     ]
    },
    {
     "name": "stdout",
     "output_type": "stream",
     "text": [
      "No main image div found in URL: https://www.nos.nl/artikel/2497573\n"
     ]
    },
    {
     "name": "stderr",
     "output_type": "stream",
     "text": [
      "Scraper going at...: 2542it [59:19,  1.43s/it]"
     ]
    },
    {
     "name": "stdout",
     "output_type": "stream",
     "text": [
      "No figcaption found for images in URL: https://www.nos.nl/artikel/2497570\n"
     ]
    },
    {
     "name": "stderr",
     "output_type": "stream",
     "text": [
      "Scraper going at...: 2544it [59:21,  1.24s/it]"
     ]
    },
    {
     "name": "stdout",
     "output_type": "stream",
     "text": [
      "No figcaption found for images in URL: https://www.nos.nl/artikel/2497565\n"
     ]
    },
    {
     "name": "stderr",
     "output_type": "stream",
     "text": [
      "Scraper going at...: 2545it [59:22,  1.42s/it]"
     ]
    },
    {
     "name": "stdout",
     "output_type": "stream",
     "text": [
      "No main image div found in URL: https://www.nos.nl/artikel/2497564\n"
     ]
    },
    {
     "name": "stderr",
     "output_type": "stream",
     "text": [
      "Scraper going at...: 2550it [59:29,  1.18s/it]"
     ]
    },
    {
     "name": "stdout",
     "output_type": "stream",
     "text": [
      "No main image div found in URL: https://www.nos.nl/artikel/2497551\n"
     ]
    },
    {
     "name": "stderr",
     "output_type": "stream",
     "text": [
      "Scraper going at...: 2554it [59:33,  1.16s/it]"
     ]
    },
    {
     "name": "stdout",
     "output_type": "stream",
     "text": [
      "No main image div found in URL: https://www.nos.nl/artikel/2497543\n"
     ]
    },
    {
     "name": "stderr",
     "output_type": "stream",
     "text": [
      "Scraper going at...: 2555it [59:34,  1.23s/it]"
     ]
    },
    {
     "name": "stdout",
     "output_type": "stream",
     "text": [
      "No main image div found in URL: https://www.nos.nl/artikel/2497535\n"
     ]
    },
    {
     "name": "stderr",
     "output_type": "stream",
     "text": [
      "Scraper going at...: 2556it [59:37,  1.61s/it]"
     ]
    },
    {
     "name": "stdout",
     "output_type": "stream",
     "text": [
      "No figcaption found for images in URL: https://www.nos.nl/artikel/2497533\n"
     ]
    },
    {
     "name": "stderr",
     "output_type": "stream",
     "text": [
      "Scraper going at...: 2557it [59:38,  1.58s/it]"
     ]
    },
    {
     "name": "stdout",
     "output_type": "stream",
     "text": [
      "No figcaption found for images in URL: https://www.nos.nl/artikel/2497532\n"
     ]
    },
    {
     "name": "stderr",
     "output_type": "stream",
     "text": [
      "Scraper going at...: 2558it [59:40,  1.53s/it]"
     ]
    },
    {
     "name": "stdout",
     "output_type": "stream",
     "text": [
      "No main image div found in URL: https://www.nos.nl/artikel/2497522\n"
     ]
    },
    {
     "name": "stderr",
     "output_type": "stream",
     "text": [
      "Scraper going at...: 2560it [59:43,  1.41s/it]"
     ]
    },
    {
     "name": "stdout",
     "output_type": "stream",
     "text": [
      "No main image div found in URL: https://www.nos.nl/artikel/2497519\n"
     ]
    },
    {
     "name": "stderr",
     "output_type": "stream",
     "text": [
      "Scraper going at...: 2561it [59:43,  1.26s/it]"
     ]
    },
    {
     "name": "stdout",
     "output_type": "stream",
     "text": [
      "No main image div found in URL: https://www.nos.nl/artikel/2497518\n"
     ]
    },
    {
     "name": "stderr",
     "output_type": "stream",
     "text": [
      "Scraper going at...: 2563it [59:46,  1.33s/it]"
     ]
    },
    {
     "name": "stdout",
     "output_type": "stream",
     "text": [
      "No figcaption found for images in URL: https://www.nos.nl/artikel/2497515\n"
     ]
    },
    {
     "name": "stderr",
     "output_type": "stream",
     "text": [
      "Scraper going at...: 2565it [59:49,  1.33s/it]"
     ]
    },
    {
     "name": "stdout",
     "output_type": "stream",
     "text": [
      "No main image div found in URL: https://www.nos.nl/artikel/2497511\n"
     ]
    },
    {
     "name": "stderr",
     "output_type": "stream",
     "text": [
      "Scraper going at...: 2566it [59:51,  1.59s/it]"
     ]
    },
    {
     "name": "stdout",
     "output_type": "stream",
     "text": [
      "No main image div found in URL: https://www.nos.nl/artikel/2497510\n"
     ]
    },
    {
     "name": "stderr",
     "output_type": "stream",
     "text": [
      "Scraper going at...: 2568it [59:54,  1.48s/it]"
     ]
    },
    {
     "name": "stdout",
     "output_type": "stream",
     "text": [
      "No main image div found in URL: https://www.nos.nl/artikel/2497503\n"
     ]
    },
    {
     "name": "stderr",
     "output_type": "stream",
     "text": [
      "Scraper going at...: 2569it [59:55,  1.33s/it]"
     ]
    },
    {
     "name": "stdout",
     "output_type": "stream",
     "text": [
      "No main image div found in URL: https://www.nos.nl/artikel/2497500\n"
     ]
    },
    {
     "name": "stderr",
     "output_type": "stream",
     "text": [
      "Scraper going at...: 2573it [59:59,  1.10s/it]"
     ]
    },
    {
     "name": "stdout",
     "output_type": "stream",
     "text": [
      "No main image div found in URL: https://www.nos.nl/artikel/2497491\n"
     ]
    },
    {
     "name": "stderr",
     "output_type": "stream",
     "text": [
      "Scraper going at...: 2576it [1:00:03,  1.27s/it]"
     ]
    },
    {
     "name": "stdout",
     "output_type": "stream",
     "text": [
      "No figcaption found for images in URL: https://www.nos.nl/artikel/2497486\n"
     ]
    },
    {
     "name": "stderr",
     "output_type": "stream",
     "text": [
      "Scraper going at...: 2577it [1:00:04,  1.19s/it]"
     ]
    },
    {
     "name": "stdout",
     "output_type": "stream",
     "text": [
      "No figcaption found for images in URL: https://www.nos.nl/artikel/2497481\n"
     ]
    },
    {
     "name": "stderr",
     "output_type": "stream",
     "text": [
      "Scraper going at...: 2581it [1:00:09,  1.17s/it]"
     ]
    },
    {
     "name": "stdout",
     "output_type": "stream",
     "text": [
      "No figcaption found for images in URL: https://www.nos.nl/artikel/2497475\n"
     ]
    },
    {
     "name": "stderr",
     "output_type": "stream",
     "text": [
      "Scraper going at...: 2586it [1:00:14,  1.08s/it]"
     ]
    },
    {
     "name": "stdout",
     "output_type": "stream",
     "text": [
      "No main image div found in URL: https://www.nos.nl/artikel/2497469\n"
     ]
    },
    {
     "name": "stderr",
     "output_type": "stream",
     "text": [
      "Scraper going at...: 2587it [1:00:16,  1.16s/it]"
     ]
    },
    {
     "name": "stdout",
     "output_type": "stream",
     "text": [
      "No figcaption found for images in URL: https://www.nos.nl/artikel/2497465\n"
     ]
    },
    {
     "name": "stderr",
     "output_type": "stream",
     "text": [
      "Scraper going at...: 2594it [1:00:24,  1.08s/it]"
     ]
    },
    {
     "name": "stdout",
     "output_type": "stream",
     "text": [
      "No main image div found in URL: https://www.nos.nl/artikel/2497450\n"
     ]
    },
    {
     "name": "stderr",
     "output_type": "stream",
     "text": [
      "Scraper going at...: 2595it [1:00:25,  1.04s/it]"
     ]
    },
    {
     "name": "stdout",
     "output_type": "stream",
     "text": [
      "No figcaption found for images in URL: https://www.nos.nl/artikel/2497448\n"
     ]
    },
    {
     "name": "stderr",
     "output_type": "stream",
     "text": [
      "Scraper going at...: 2597it [1:00:27,  1.08s/it]"
     ]
    },
    {
     "name": "stdout",
     "output_type": "stream",
     "text": [
      "No figcaption found for images in URL: https://www.nos.nl/artikel/2497446\n"
     ]
    },
    {
     "name": "stderr",
     "output_type": "stream",
     "text": [
      "Scraper going at...: 2599it [1:00:29,  1.05s/it]"
     ]
    },
    {
     "name": "stdout",
     "output_type": "stream",
     "text": [
      "No figcaption found for images in URL: https://www.nos.nl/artikel/2497443\n"
     ]
    },
    {
     "name": "stderr",
     "output_type": "stream",
     "text": [
      "Scraper going at...: 2602it [1:00:35,  1.83s/it]"
     ]
    },
    {
     "name": "stdout",
     "output_type": "stream",
     "text": [
      "No main image div found in URL: https://www.nos.nl/artikel/2497428\n"
     ]
    },
    {
     "name": "stderr",
     "output_type": "stream",
     "text": [
      "Scraper going at...: 2604it [1:00:38,  1.77s/it]"
     ]
    },
    {
     "name": "stdout",
     "output_type": "stream",
     "text": [
      "No main image div found in URL: https://www.nos.nl/artikel/2497421\n"
     ]
    },
    {
     "name": "stderr",
     "output_type": "stream",
     "text": [
      "Scraper going at...: 2607it [1:00:43,  1.63s/it]"
     ]
    },
    {
     "name": "stdout",
     "output_type": "stream",
     "text": [
      "No main image div found in URL: https://www.nos.nl/artikel/2497417\n"
     ]
    },
    {
     "name": "stderr",
     "output_type": "stream",
     "text": [
      "Scraper going at...: 2608it [1:00:44,  1.53s/it]"
     ]
    },
    {
     "name": "stdout",
     "output_type": "stream",
     "text": [
      "No figcaption found for images in URL: https://www.nos.nl/artikel/2497415\n"
     ]
    },
    {
     "name": "stderr",
     "output_type": "stream",
     "text": [
      "Scraper going at...: 2613it [1:00:51,  1.39s/it]"
     ]
    },
    {
     "name": "stdout",
     "output_type": "stream",
     "text": [
      "No main image div found in URL: https://www.nos.nl/artikel/2497400\n"
     ]
    },
    {
     "name": "stderr",
     "output_type": "stream",
     "text": [
      "Scraper going at...: 2615it [1:00:54,  1.48s/it]"
     ]
    },
    {
     "name": "stdout",
     "output_type": "stream",
     "text": [
      "No main image div found in URL: https://www.nos.nl/artikel/2497397\n"
     ]
    },
    {
     "name": "stderr",
     "output_type": "stream",
     "text": [
      "Scraper going at...: 2628it [1:01:10,  1.01s/it]"
     ]
    },
    {
     "name": "stdout",
     "output_type": "stream",
     "text": [
      "No figcaption found for images in URL: https://www.nos.nl/artikel/2497370\n"
     ]
    },
    {
     "name": "stderr",
     "output_type": "stream",
     "text": [
      "Scraper going at...: 2630it [1:01:12,  1.11s/it]"
     ]
    },
    {
     "name": "stdout",
     "output_type": "stream",
     "text": [
      "No figcaption found for images in URL: https://www.nos.nl/artikel/2497366\n"
     ]
    },
    {
     "name": "stderr",
     "output_type": "stream",
     "text": [
      "Scraper going at...: 2633it [1:01:16,  1.25s/it]"
     ]
    },
    {
     "name": "stdout",
     "output_type": "stream",
     "text": [
      "No figcaption found for images in URL: https://www.nos.nl/artikel/2497362\n"
     ]
    },
    {
     "name": "stderr",
     "output_type": "stream",
     "text": [
      "Scraper going at...: 2634it [1:01:17,  1.16s/it]"
     ]
    },
    {
     "name": "stdout",
     "output_type": "stream",
     "text": [
      "No figcaption found for images in URL: https://www.nos.nl/artikel/2497358\n"
     ]
    },
    {
     "name": "stderr",
     "output_type": "stream",
     "text": [
      "Scraper going at...: 2639it [1:01:22,  1.02s/it]"
     ]
    },
    {
     "name": "stdout",
     "output_type": "stream",
     "text": [
      "No main image div found in URL: https://www.nos.nl/artikel/2497349\n"
     ]
    },
    {
     "name": "stderr",
     "output_type": "stream",
     "text": [
      "Scraper going at...: 2646it [1:01:32,  1.35s/it]"
     ]
    },
    {
     "name": "stdout",
     "output_type": "stream",
     "text": [
      "No figcaption found for images in URL: https://www.nos.nl/artikel/2497331\n"
     ]
    },
    {
     "name": "stderr",
     "output_type": "stream",
     "text": [
      "Scraper going at...: 2650it [1:01:37,  1.19s/it]"
     ]
    },
    {
     "name": "stdout",
     "output_type": "stream",
     "text": [
      "No figcaption found for images in URL: https://www.nos.nl/artikel/2497322\n"
     ]
    },
    {
     "name": "stderr",
     "output_type": "stream",
     "text": [
      "Scraper going at...: 2657it [1:01:46,  1.21s/it]"
     ]
    },
    {
     "name": "stdout",
     "output_type": "stream",
     "text": [
      "No main image div found in URL: https://www.nos.nl/artikel/2497291\n"
     ]
    },
    {
     "name": "stderr",
     "output_type": "stream",
     "text": [
      "Scraper going at...: 2658it [1:01:47,  1.21s/it]"
     ]
    },
    {
     "name": "stdout",
     "output_type": "stream",
     "text": [
      "No main image div found in URL: https://www.nos.nl/artikel/2497285\n"
     ]
    },
    {
     "name": "stderr",
     "output_type": "stream",
     "text": [
      "Scraper going at...: 2659it [1:01:48,  1.22s/it]"
     ]
    },
    {
     "name": "stdout",
     "output_type": "stream",
     "text": [
      "No figcaption found for images in URL: https://www.nos.nl/artikel/2497284\n"
     ]
    },
    {
     "name": "stderr",
     "output_type": "stream",
     "text": [
      "Scraper going at...: 2660it [1:01:49,  1.15s/it]"
     ]
    },
    {
     "name": "stdout",
     "output_type": "stream",
     "text": [
      "No figcaption found for images in URL: https://www.nos.nl/artikel/2497283\n"
     ]
    },
    {
     "name": "stderr",
     "output_type": "stream",
     "text": [
      "Scraper going at...: 2671it [1:02:03,  1.21s/it]"
     ]
    },
    {
     "name": "stdout",
     "output_type": "stream",
     "text": [
      "No figcaption found for images in URL: https://www.nos.nl/artikel/2497262\n"
     ]
    },
    {
     "name": "stderr",
     "output_type": "stream",
     "text": [
      "Scraper going at...: 2672it [1:02:04,  1.15s/it]"
     ]
    },
    {
     "name": "stdout",
     "output_type": "stream",
     "text": [
      "No figcaption found for images in URL: https://www.nos.nl/artikel/2497260\n"
     ]
    },
    {
     "name": "stderr",
     "output_type": "stream",
     "text": [
      "Scraper going at...: 2676it [1:02:11,  1.73s/it]"
     ]
    },
    {
     "name": "stdout",
     "output_type": "stream",
     "text": [
      "No main image div found in URL: https://www.nos.nl/artikel/2497254\n"
     ]
    },
    {
     "name": "stderr",
     "output_type": "stream",
     "text": [
      "Scraper going at...: 2683it [1:02:18,  1.14s/it]"
     ]
    },
    {
     "name": "stdout",
     "output_type": "stream",
     "text": [
      "No main image div found in URL: https://www.nos.nl/artikel/2497238\n"
     ]
    },
    {
     "name": "stderr",
     "output_type": "stream",
     "text": [
      "Scraper going at...: 2684it [1:02:21,  1.58s/it]"
     ]
    },
    {
     "name": "stdout",
     "output_type": "stream",
     "text": [
      "No figcaption found for images in URL: https://www.nos.nl/artikel/2497236\n"
     ]
    },
    {
     "name": "stderr",
     "output_type": "stream",
     "text": [
      "Scraper going at...: 2686it [1:02:23,  1.24s/it]"
     ]
    },
    {
     "name": "stdout",
     "output_type": "stream",
     "text": [
      "No figcaption found for images in URL: https://www.nos.nl/artikel/2497234\n"
     ]
    },
    {
     "name": "stderr",
     "output_type": "stream",
     "text": [
      "Scraper going at...: 2687it [1:02:24,  1.25s/it]"
     ]
    },
    {
     "name": "stdout",
     "output_type": "stream",
     "text": [
      "No figcaption found for images in URL: https://www.nos.nl/artikel/2497232\n"
     ]
    },
    {
     "name": "stderr",
     "output_type": "stream",
     "text": [
      "Scraper going at...: 2690it [1:02:30,  1.93s/it]"
     ]
    },
    {
     "name": "stdout",
     "output_type": "stream",
     "text": [
      "No figcaption found for images in URL: https://www.nos.nl/artikel/2497225\n"
     ]
    },
    {
     "name": "stderr",
     "output_type": "stream",
     "text": [
      "Scraper going at...: 2698it [1:02:42,  1.99s/it]"
     ]
    },
    {
     "name": "stdout",
     "output_type": "stream",
     "text": [
      "No main image div found in URL: https://www.nos.nl/artikel/2497203\n"
     ]
    },
    {
     "name": "stderr",
     "output_type": "stream",
     "text": [
      "Scraper going at...: 2700it [1:02:48,  2.23s/it]"
     ]
    },
    {
     "name": "stdout",
     "output_type": "stream",
     "text": [
      "No figcaption found for images in URL: https://www.nos.nl/artikel/2497199\n"
     ]
    },
    {
     "name": "stderr",
     "output_type": "stream",
     "text": [
      "Scraper going at...: 2701it [1:02:49,  1.90s/it]"
     ]
    },
    {
     "name": "stdout",
     "output_type": "stream",
     "text": [
      "No figcaption found for images in URL: https://www.nos.nl/artikel/2497198\n"
     ]
    },
    {
     "name": "stderr",
     "output_type": "stream",
     "text": [
      "Scraper going at...: 2702it [1:02:50,  1.68s/it]"
     ]
    },
    {
     "name": "stdout",
     "output_type": "stream",
     "text": [
      "No main image div found in URL: https://www.nos.nl/artikel/2497193\n"
     ]
    },
    {
     "name": "stderr",
     "output_type": "stream",
     "text": [
      "Scraper going at...: 2705it [1:02:53,  1.27s/it]"
     ]
    },
    {
     "name": "stdout",
     "output_type": "stream",
     "text": [
      "No main image div found in URL: https://www.nos.nl/artikel/2497183\n"
     ]
    },
    {
     "name": "stderr",
     "output_type": "stream",
     "text": [
      "Scraper going at...: 2711it [1:03:00,  1.05s/it]"
     ]
    },
    {
     "name": "stdout",
     "output_type": "stream",
     "text": [
      "No figcaption found for images in URL: https://www.nos.nl/artikel/2497166\n"
     ]
    },
    {
     "name": "stderr",
     "output_type": "stream",
     "text": [
      "Scraper going at...: 2716it [1:03:06,  1.11s/it]"
     ]
    },
    {
     "name": "stdout",
     "output_type": "stream",
     "text": [
      "No figcaption found for images in URL: https://www.nos.nl/artikel/2497160\n"
     ]
    },
    {
     "name": "stderr",
     "output_type": "stream",
     "text": [
      "Scraper going at...: 2717it [1:03:07,  1.08s/it]"
     ]
    },
    {
     "name": "stdout",
     "output_type": "stream",
     "text": [
      "No figcaption found for images in URL: https://www.nos.nl/artikel/2497159\n"
     ]
    },
    {
     "name": "stderr",
     "output_type": "stream",
     "text": [
      "Scraper going at...: 2718it [1:03:08,  1.15s/it]"
     ]
    },
    {
     "name": "stdout",
     "output_type": "stream",
     "text": [
      "No main image div found in URL: https://www.nos.nl/artikel/2497158\n"
     ]
    },
    {
     "name": "stderr",
     "output_type": "stream",
     "text": [
      "Scraper going at...: 2719it [1:03:09,  1.12s/it]"
     ]
    },
    {
     "name": "stdout",
     "output_type": "stream",
     "text": [
      "No figcaption found for images in URL: https://www.nos.nl/artikel/2497154\n"
     ]
    },
    {
     "name": "stderr",
     "output_type": "stream",
     "text": [
      "Scraper going at...: 2725it [1:03:17,  1.18s/it]"
     ]
    },
    {
     "name": "stdout",
     "output_type": "stream",
     "text": [
      "No figcaption found for images in URL: https://www.nos.nl/artikel/2497146\n"
     ]
    },
    {
     "name": "stderr",
     "output_type": "stream",
     "text": [
      "Scraper going at...: 2728it [1:03:21,  1.25s/it]"
     ]
    },
    {
     "name": "stdout",
     "output_type": "stream",
     "text": [
      "No figcaption found for images in URL: https://www.nos.nl/artikel/2497134\n"
     ]
    },
    {
     "name": "stderr",
     "output_type": "stream",
     "text": [
      "Scraper going at...: 2731it [1:03:26,  1.44s/it]"
     ]
    },
    {
     "name": "stdout",
     "output_type": "stream",
     "text": [
      "No figcaption found for images in URL: https://www.nos.nl/artikel/2497125\n"
     ]
    },
    {
     "name": "stderr",
     "output_type": "stream",
     "text": [
      "Scraper going at...: 2736it [1:03:34,  1.96s/it]"
     ]
    },
    {
     "name": "stdout",
     "output_type": "stream",
     "text": [
      "No main image div found in URL: https://www.nos.nl/artikel/2497117\n"
     ]
    },
    {
     "name": "stderr",
     "output_type": "stream",
     "text": [
      "Scraper going at...: 2739it [1:03:39,  1.88s/it]"
     ]
    },
    {
     "name": "stdout",
     "output_type": "stream",
     "text": [
      "No main image div found in URL: https://www.nos.nl/artikel/2497114\n"
     ]
    },
    {
     "name": "stderr",
     "output_type": "stream",
     "text": [
      "Scraper going at...: 2747it [1:03:50,  1.18s/it]"
     ]
    },
    {
     "name": "stdout",
     "output_type": "stream",
     "text": [
      "No main image div found in URL: https://www.nos.nl/artikel/2497095\n"
     ]
    },
    {
     "name": "stderr",
     "output_type": "stream",
     "text": [
      "Scraper going at...: 2749it [1:03:52,  1.09s/it]"
     ]
    },
    {
     "name": "stdout",
     "output_type": "stream",
     "text": [
      "No figcaption found for images in URL: https://www.nos.nl/artikel/2497093\n"
     ]
    },
    {
     "name": "stderr",
     "output_type": "stream",
     "text": [
      "Scraper going at...: 2762it [1:04:10,  1.34s/it]"
     ]
    },
    {
     "name": "stdout",
     "output_type": "stream",
     "text": [
      "No figcaption found for images in URL: https://www.nos.nl/artikel/2497075\n"
     ]
    },
    {
     "name": "stderr",
     "output_type": "stream",
     "text": [
      "Scraper going at...: 2769it [1:04:21,  1.71s/it]"
     ]
    },
    {
     "name": "stdout",
     "output_type": "stream",
     "text": [
      "No figcaption found for images in URL: https://www.nos.nl/artikel/2497052\n"
     ]
    },
    {
     "name": "stderr",
     "output_type": "stream",
     "text": [
      "Scraper going at...: 2772it [1:04:24,  1.21s/it]"
     ]
    },
    {
     "name": "stdout",
     "output_type": "stream",
     "text": [
      "No main image div found in URL: https://www.nos.nl/artikel/2497048\n"
     ]
    },
    {
     "name": "stderr",
     "output_type": "stream",
     "text": [
      "Scraper going at...: 2777it [1:04:29,  1.07s/it]"
     ]
    },
    {
     "name": "stdout",
     "output_type": "stream",
     "text": [
      "No figcaption found for images in URL: https://www.nos.nl/artikel/2497034\n"
     ]
    },
    {
     "name": "stderr",
     "output_type": "stream",
     "text": [
      "Scraper going at...: 2786it [1:04:42,  1.31s/it]"
     ]
    },
    {
     "name": "stdout",
     "output_type": "stream",
     "text": [
      "No main image div found in URL: https://www.nos.nl/artikel/2497007\n"
     ]
    },
    {
     "name": "stderr",
     "output_type": "stream",
     "text": [
      "Scraper going at...: 2796it [1:04:53,  1.01s/it]"
     ]
    },
    {
     "name": "stdout",
     "output_type": "stream",
     "text": [
      "No main image div found in URL: https://www.nos.nl/artikel/2496988\n"
     ]
    },
    {
     "name": "stderr",
     "output_type": "stream",
     "text": [
      "Scraper going at...: 2799it [1:04:58,  1.27s/it]"
     ]
    },
    {
     "name": "stdout",
     "output_type": "stream",
     "text": [
      "No figcaption found for images in URL: https://www.nos.nl/artikel/2496981\n"
     ]
    },
    {
     "name": "stderr",
     "output_type": "stream",
     "text": [
      "Scraper going at...: 2802it [1:05:04,  1.63s/it]"
     ]
    },
    {
     "name": "stdout",
     "output_type": "stream",
     "text": [
      "No main image div found in URL: https://www.nos.nl/artikel/2496975\n"
     ]
    },
    {
     "name": "stderr",
     "output_type": "stream",
     "text": [
      "Scraper going at...: 2803it [1:05:05,  1.44s/it]"
     ]
    },
    {
     "name": "stdout",
     "output_type": "stream",
     "text": [
      "No figcaption found for images in URL: https://www.nos.nl/artikel/2496973\n"
     ]
    },
    {
     "name": "stderr",
     "output_type": "stream",
     "text": [
      "Scraper going at...: 2805it [1:05:09,  1.76s/it]"
     ]
    },
    {
     "name": "stdout",
     "output_type": "stream",
     "text": [
      "No figcaption found for images in URL: https://www.nos.nl/artikel/2496970\n"
     ]
    },
    {
     "name": "stderr",
     "output_type": "stream",
     "text": [
      "Scraper going at...: 2812it [1:05:16,  1.10s/it]"
     ]
    },
    {
     "name": "stdout",
     "output_type": "stream",
     "text": [
      "No figcaption found for images in URL: https://www.nos.nl/artikel/2496961\n"
     ]
    },
    {
     "name": "stderr",
     "output_type": "stream",
     "text": [
      "Scraper going at...: 2814it [1:05:18,  1.11s/it]"
     ]
    },
    {
     "name": "stdout",
     "output_type": "stream",
     "text": [
      "No figcaption found for images in URL: https://www.nos.nl/artikel/2496945\n"
     ]
    },
    {
     "name": "stderr",
     "output_type": "stream",
     "text": [
      "Scraper going at...: 2816it [1:05:22,  1.52s/it]"
     ]
    },
    {
     "name": "stdout",
     "output_type": "stream",
     "text": [
      "No figcaption found for images in URL: https://www.nos.nl/artikel/2496942\n"
     ]
    },
    {
     "name": "stderr",
     "output_type": "stream",
     "text": [
      "Scraper going at...: 2817it [1:05:24,  1.50s/it]"
     ]
    },
    {
     "name": "stdout",
     "output_type": "stream",
     "text": [
      "No figcaption found for images in URL: https://www.nos.nl/artikel/2496939\n"
     ]
    },
    {
     "name": "stderr",
     "output_type": "stream",
     "text": [
      "Scraper going at...: 2818it [1:05:26,  1.63s/it]"
     ]
    },
    {
     "name": "stdout",
     "output_type": "stream",
     "text": [
      "No figcaption found for images in URL: https://www.nos.nl/artikel/2496938\n"
     ]
    },
    {
     "name": "stderr",
     "output_type": "stream",
     "text": [
      "Scraper going at...: 2820it [1:05:28,  1.34s/it]"
     ]
    },
    {
     "name": "stdout",
     "output_type": "stream",
     "text": [
      "No figcaption found for images in URL: https://www.nos.nl/artikel/2496935\n"
     ]
    },
    {
     "name": "stderr",
     "output_type": "stream",
     "text": [
      "Scraper going at...: 2822it [1:05:30,  1.27s/it]"
     ]
    },
    {
     "name": "stdout",
     "output_type": "stream",
     "text": [
      "No main image div found in URL: https://www.nos.nl/artikel/2496933\n"
     ]
    },
    {
     "name": "stderr",
     "output_type": "stream",
     "text": [
      "Scraper going at...: 2834it [1:05:48,  1.47s/it]"
     ]
    },
    {
     "name": "stdout",
     "output_type": "stream",
     "text": [
      "No main image div found in URL: https://www.nos.nl/artikel/2496915\n"
     ]
    },
    {
     "name": "stderr",
     "output_type": "stream",
     "text": [
      "Scraper going at...: 2835it [1:05:50,  1.49s/it]"
     ]
    },
    {
     "name": "stdout",
     "output_type": "stream",
     "text": [
      "No figcaption found for images in URL: https://www.nos.nl/artikel/2496913\n"
     ]
    },
    {
     "name": "stderr",
     "output_type": "stream",
     "text": [
      "Scraper going at...: 2836it [1:05:51,  1.33s/it]"
     ]
    },
    {
     "name": "stdout",
     "output_type": "stream",
     "text": [
      "No figcaption found for images in URL: https://www.nos.nl/artikel/2496903\n"
     ]
    },
    {
     "name": "stderr",
     "output_type": "stream",
     "text": [
      "Scraper going at...: 2838it [1:05:53,  1.29s/it]"
     ]
    },
    {
     "name": "stdout",
     "output_type": "stream",
     "text": [
      "No figcaption found for images in URL: https://www.nos.nl/artikel/2496900\n"
     ]
    },
    {
     "name": "stderr",
     "output_type": "stream",
     "text": [
      "Scraper going at...: 2841it [1:05:57,  1.12s/it]"
     ]
    },
    {
     "name": "stdout",
     "output_type": "stream",
     "text": [
      "No figcaption found for images in URL: https://www.nos.nl/artikel/2496894\n"
     ]
    },
    {
     "name": "stderr",
     "output_type": "stream",
     "text": [
      "Scraper going at...: 2842it [1:05:58,  1.11s/it]"
     ]
    },
    {
     "name": "stdout",
     "output_type": "stream",
     "text": [
      "No figcaption found for images in URL: https://www.nos.nl/artikel/2496893\n"
     ]
    },
    {
     "name": "stderr",
     "output_type": "stream",
     "text": [
      "Scraper going at...: 2844it [1:06:03,  1.70s/it]"
     ]
    },
    {
     "name": "stdout",
     "output_type": "stream",
     "text": [
      "No figcaption found for images in URL: https://www.nos.nl/artikel/2496890\n"
     ]
    },
    {
     "name": "stderr",
     "output_type": "stream",
     "text": [
      "Scraper going at...: 2845it [1:06:03,  1.47s/it]"
     ]
    },
    {
     "name": "stdout",
     "output_type": "stream",
     "text": [
      "No main image div found in URL: https://www.nos.nl/artikel/2496887\n"
     ]
    },
    {
     "name": "stderr",
     "output_type": "stream",
     "text": [
      "Scraper going at...: 2846it [1:06:05,  1.53s/it]"
     ]
    },
    {
     "name": "stdout",
     "output_type": "stream",
     "text": [
      "No figcaption found for images in URL: https://www.nos.nl/artikel/2496883\n"
     ]
    },
    {
     "name": "stderr",
     "output_type": "stream",
     "text": [
      "Scraper going at...: 2847it [1:06:06,  1.36s/it]"
     ]
    },
    {
     "name": "stdout",
     "output_type": "stream",
     "text": [
      "No figcaption found for images in URL: https://www.nos.nl/artikel/2496881\n"
     ]
    },
    {
     "name": "stderr",
     "output_type": "stream",
     "text": [
      "Scraper going at...: 2850it [1:06:09,  1.21s/it]"
     ]
    },
    {
     "name": "stdout",
     "output_type": "stream",
     "text": [
      "No figcaption found for images in URL: https://www.nos.nl/artikel/2496874\n"
     ]
    },
    {
     "name": "stderr",
     "output_type": "stream",
     "text": [
      "Scraper going at...: 2851it [1:06:12,  1.57s/it]"
     ]
    },
    {
     "name": "stdout",
     "output_type": "stream",
     "text": [
      "No figcaption found for images in URL: https://www.nos.nl/artikel/2496873\n"
     ]
    },
    {
     "name": "stderr",
     "output_type": "stream",
     "text": [
      "Scraper going at...: 2862it [1:06:30,  1.49s/it]"
     ]
    },
    {
     "name": "stdout",
     "output_type": "stream",
     "text": [
      "No main image div found in URL: https://www.nos.nl/artikel/2496851\n"
     ]
    },
    {
     "name": "stderr",
     "output_type": "stream",
     "text": [
      "Scraper going at...: 2863it [1:06:32,  1.58s/it]"
     ]
    },
    {
     "name": "stdout",
     "output_type": "stream",
     "text": [
      "No figcaption found for images in URL: https://www.nos.nl/artikel/2496847\n"
     ]
    },
    {
     "name": "stderr",
     "output_type": "stream",
     "text": [
      "Scraper going at...: 2870it [1:06:42,  1.45s/it]"
     ]
    },
    {
     "name": "stdout",
     "output_type": "stream",
     "text": [
      "No figcaption found for images in URL: https://www.nos.nl/artikel/2496825\n"
     ]
    },
    {
     "name": "stderr",
     "output_type": "stream",
     "text": [
      "Scraper going at...: 2871it [1:06:43,  1.36s/it]"
     ]
    },
    {
     "name": "stdout",
     "output_type": "stream",
     "text": [
      "No main image div found in URL: https://www.nos.nl/artikel/2496824\n"
     ]
    },
    {
     "name": "stderr",
     "output_type": "stream",
     "text": [
      "Scraper going at...: 2872it [1:06:45,  1.71s/it]"
     ]
    },
    {
     "name": "stdout",
     "output_type": "stream",
     "text": [
      "No main image div found in URL: https://www.nos.nl/artikel/2496823\n"
     ]
    },
    {
     "name": "stderr",
     "output_type": "stream",
     "text": [
      "Scraper going at...: 2876it [1:06:50,  1.32s/it]"
     ]
    },
    {
     "name": "stdout",
     "output_type": "stream",
     "text": [
      "No main image div found in URL: https://www.nos.nl/artikel/2496806\n"
     ]
    },
    {
     "name": "stderr",
     "output_type": "stream",
     "text": [
      "Scraper going at...: 2878it [1:06:59,  2.75s/it]"
     ]
    },
    {
     "name": "stdout",
     "output_type": "stream",
     "text": [
      "No main image div found in URL: https://www.nos.nl/artikel/2496804\n"
     ]
    },
    {
     "name": "stderr",
     "output_type": "stream",
     "text": [
      "Scraper going at...: 2884it [1:07:08,  1.62s/it]"
     ]
    },
    {
     "name": "stdout",
     "output_type": "stream",
     "text": [
      "No main image div found in URL: https://www.nos.nl/artikel/2496782\n"
     ]
    },
    {
     "name": "stderr",
     "output_type": "stream",
     "text": [
      "Scraper going at...: 2885it [1:07:09,  1.44s/it]"
     ]
    },
    {
     "name": "stdout",
     "output_type": "stream",
     "text": [
      "No main image div found in URL: https://www.nos.nl/artikel/2496776\n"
     ]
    },
    {
     "name": "stderr",
     "output_type": "stream",
     "text": [
      "Scraper going at...: 2886it [1:07:10,  1.30s/it]"
     ]
    },
    {
     "name": "stdout",
     "output_type": "stream",
     "text": [
      "No main image div found in URL: https://www.nos.nl/artikel/2496775\n"
     ]
    },
    {
     "name": "stderr",
     "output_type": "stream",
     "text": [
      "Scraper going at...: 2888it [1:07:13,  1.37s/it]"
     ]
    },
    {
     "name": "stdout",
     "output_type": "stream",
     "text": [
      "No main image div found in URL: https://www.nos.nl/artikel/2496769\n"
     ]
    },
    {
     "name": "stderr",
     "output_type": "stream",
     "text": [
      "Scraper going at...: 2892it [1:07:18,  1.32s/it]"
     ]
    },
    {
     "name": "stdout",
     "output_type": "stream",
     "text": [
      "No figcaption found for images in URL: https://www.nos.nl/artikel/2496760\n"
     ]
    },
    {
     "name": "stderr",
     "output_type": "stream",
     "text": [
      "Scraper going at...: 2894it [1:07:20,  1.17s/it]"
     ]
    },
    {
     "name": "stdout",
     "output_type": "stream",
     "text": [
      "No main image div found in URL: https://www.nos.nl/artikel/2496756\n"
     ]
    },
    {
     "name": "stderr",
     "output_type": "stream",
     "text": [
      "Scraper going at...: 2895it [1:07:22,  1.27s/it]"
     ]
    },
    {
     "name": "stdout",
     "output_type": "stream",
     "text": [
      "No main image div found in URL: https://www.nos.nl/artikel/2496751\n"
     ]
    },
    {
     "name": "stderr",
     "output_type": "stream",
     "text": [
      "Scraper going at...: 2896it [1:07:23,  1.25s/it]"
     ]
    },
    {
     "name": "stdout",
     "output_type": "stream",
     "text": [
      "No figcaption found for images in URL: https://www.nos.nl/artikel/2496750\n"
     ]
    },
    {
     "name": "stderr",
     "output_type": "stream",
     "text": [
      "Scraper going at...: 2897it [1:07:25,  1.37s/it]"
     ]
    },
    {
     "name": "stdout",
     "output_type": "stream",
     "text": [
      "No main image div found in URL: https://www.nos.nl/artikel/2496749\n"
     ]
    },
    {
     "name": "stderr",
     "output_type": "stream",
     "text": [
      "Scraper going at...: 2898it [1:07:28,  2.02s/it]"
     ]
    },
    {
     "name": "stdout",
     "output_type": "stream",
     "text": [
      "No figcaption found for images in URL: https://www.nos.nl/artikel/2496741\n"
     ]
    },
    {
     "name": "stderr",
     "output_type": "stream",
     "text": [
      "Scraper going at...: 2899it [1:07:29,  1.76s/it]"
     ]
    },
    {
     "name": "stdout",
     "output_type": "stream",
     "text": [
      "No main image div found in URL: https://www.nos.nl/artikel/2496737\n"
     ]
    },
    {
     "name": "stderr",
     "output_type": "stream",
     "text": [
      "Scraper going at...: 2900it [1:07:30,  1.56s/it]"
     ]
    },
    {
     "name": "stdout",
     "output_type": "stream",
     "text": [
      "No main image div found in URL: https://www.nos.nl/artikel/2496735\n"
     ]
    },
    {
     "name": "stderr",
     "output_type": "stream",
     "text": [
      "Scraper going at...: 2901it [1:07:31,  1.37s/it]"
     ]
    },
    {
     "name": "stdout",
     "output_type": "stream",
     "text": [
      "No main image div found in URL: https://www.nos.nl/artikel/2496733\n"
     ]
    },
    {
     "name": "stderr",
     "output_type": "stream",
     "text": [
      "Scraper going at...: 2902it [1:07:33,  1.36s/it]"
     ]
    },
    {
     "name": "stdout",
     "output_type": "stream",
     "text": [
      "No main image div found in URL: https://www.nos.nl/artikel/2496732\n"
     ]
    },
    {
     "name": "stderr",
     "output_type": "stream",
     "text": [
      "Scraper going at...: 2904it [1:07:35,  1.28s/it]"
     ]
    },
    {
     "name": "stdout",
     "output_type": "stream",
     "text": [
      "No figcaption found for images in URL: https://www.nos.nl/artikel/2496721\n"
     ]
    },
    {
     "name": "stderr",
     "output_type": "stream",
     "text": [
      "Scraper going at...: 2908it [1:07:40,  1.43s/it]"
     ]
    },
    {
     "name": "stdout",
     "output_type": "stream",
     "text": [
      "No main image div found in URL: https://www.nos.nl/artikel/2496710\n"
     ]
    },
    {
     "name": "stderr",
     "output_type": "stream",
     "text": [
      "Scraper going at...: 2911it [1:07:44,  1.29s/it]"
     ]
    },
    {
     "name": "stdout",
     "output_type": "stream",
     "text": [
      "No main image div found in URL: https://www.nos.nl/artikel/2496703\n"
     ]
    },
    {
     "name": "stderr",
     "output_type": "stream",
     "text": [
      "Scraper going at...: 2912it [1:07:45,  1.23s/it]"
     ]
    },
    {
     "name": "stdout",
     "output_type": "stream",
     "text": [
      "No figcaption found for images in URL: https://www.nos.nl/artikel/2496702\n"
     ]
    },
    {
     "name": "stderr",
     "output_type": "stream",
     "text": [
      "Scraper going at...: 2913it [1:07:46,  1.20s/it]"
     ]
    },
    {
     "name": "stdout",
     "output_type": "stream",
     "text": [
      "No main image div found in URL: https://www.nos.nl/artikel/2496701\n"
     ]
    },
    {
     "name": "stderr",
     "output_type": "stream",
     "text": [
      "Scraper going at...: 2920it [1:07:56,  1.50s/it]"
     ]
    },
    {
     "name": "stdout",
     "output_type": "stream",
     "text": [
      "No main image div found in URL: https://www.nos.nl/artikel/2496677\n"
     ]
    },
    {
     "name": "stderr",
     "output_type": "stream",
     "text": [
      "Scraper going at...: 2921it [1:07:57,  1.43s/it]"
     ]
    },
    {
     "name": "stdout",
     "output_type": "stream",
     "text": [
      "No main image div found in URL: https://www.nos.nl/artikel/2496676\n"
     ]
    },
    {
     "name": "stderr",
     "output_type": "stream",
     "text": [
      "Scraper going at...: 2922it [1:08:00,  1.67s/it]"
     ]
    },
    {
     "name": "stdout",
     "output_type": "stream",
     "text": [
      "No main image div found in URL: https://www.nos.nl/artikel/2496672\n"
     ]
    },
    {
     "name": "stderr",
     "output_type": "stream",
     "text": [
      "Scraper going at...: 2924it [1:08:02,  1.37s/it]"
     ]
    },
    {
     "name": "stdout",
     "output_type": "stream",
     "text": [
      "No main image div found in URL: https://www.nos.nl/artikel/2496667\n"
     ]
    },
    {
     "name": "stderr",
     "output_type": "stream",
     "text": [
      "Scraper going at...: 2930it [1:08:11,  1.43s/it]"
     ]
    },
    {
     "name": "stdout",
     "output_type": "stream",
     "text": [
      "No main image div found in URL: https://www.nos.nl/artikel/2496652\n"
     ]
    },
    {
     "name": "stderr",
     "output_type": "stream",
     "text": [
      "Scraper going at...: 2931it [1:08:12,  1.33s/it]"
     ]
    },
    {
     "name": "stdout",
     "output_type": "stream",
     "text": [
      "No main image div found in URL: https://www.nos.nl/artikel/2496651\n"
     ]
    },
    {
     "name": "stderr",
     "output_type": "stream",
     "text": [
      "Scraper going at...: 2932it [1:08:15,  1.83s/it]"
     ]
    },
    {
     "name": "stdout",
     "output_type": "stream",
     "text": [
      "No main image div found in URL: https://www.nos.nl/artikel/2496648\n"
     ]
    },
    {
     "name": "stderr",
     "output_type": "stream",
     "text": [
      "Scraper going at...: 2938it [1:08:21,  1.18s/it]"
     ]
    },
    {
     "name": "stdout",
     "output_type": "stream",
     "text": [
      "No main image div found in URL: https://www.nos.nl/artikel/2496627\n"
     ]
    },
    {
     "name": "stderr",
     "output_type": "stream",
     "text": [
      "Scraper going at...: 2945it [1:08:31,  1.22s/it]"
     ]
    },
    {
     "name": "stdout",
     "output_type": "stream",
     "text": [
      "No figcaption found for images in URL: https://www.nos.nl/artikel/2496607\n"
     ]
    },
    {
     "name": "stderr",
     "output_type": "stream",
     "text": [
      "Scraper going at...: 2953it [1:08:45,  2.21s/it]"
     ]
    },
    {
     "name": "stdout",
     "output_type": "stream",
     "text": [
      "No main image div found in URL: https://www.nos.nl/artikel/2496592\n"
     ]
    },
    {
     "name": "stderr",
     "output_type": "stream",
     "text": [
      "Scraper going at...: 2955it [1:08:47,  1.59s/it]"
     ]
    },
    {
     "name": "stdout",
     "output_type": "stream",
     "text": [
      "No figcaption found for images in URL: https://www.nos.nl/artikel/2496590\n"
     ]
    },
    {
     "name": "stderr",
     "output_type": "stream",
     "text": [
      "Scraper going at...: 2956it [1:08:49,  1.56s/it]"
     ]
    },
    {
     "name": "stdout",
     "output_type": "stream",
     "text": [
      "No figcaption found for images in URL: https://www.nos.nl/artikel/2496588\n"
     ]
    },
    {
     "name": "stderr",
     "output_type": "stream",
     "text": [
      "Scraper going at...: 2957it [1:08:50,  1.39s/it]"
     ]
    },
    {
     "name": "stdout",
     "output_type": "stream",
     "text": [
      "No figcaption found for images in URL: https://www.nos.nl/artikel/2496587\n"
     ]
    },
    {
     "name": "stderr",
     "output_type": "stream",
     "text": [
      "Scraper going at...: 2963it [1:08:57,  1.19s/it]"
     ]
    },
    {
     "name": "stdout",
     "output_type": "stream",
     "text": [
      "No figcaption found for images in URL: https://www.nos.nl/artikel/2496575\n"
     ]
    },
    {
     "name": "stderr",
     "output_type": "stream",
     "text": [
      "Scraper going at...: 2966it [1:09:00,  1.08s/it]"
     ]
    },
    {
     "name": "stdout",
     "output_type": "stream",
     "text": [
      "No main image div found in URL: https://www.nos.nl/artikel/2496567\n"
     ]
    },
    {
     "name": "stderr",
     "output_type": "stream",
     "text": [
      "Scraper going at...: 2967it [1:09:01,  1.11s/it]"
     ]
    },
    {
     "name": "stdout",
     "output_type": "stream",
     "text": [
      "No figcaption found for images in URL: https://www.nos.nl/artikel/2496563\n"
     ]
    },
    {
     "name": "stderr",
     "output_type": "stream",
     "text": [
      "Scraper going at...: 2980it [1:09:17,  1.12s/it]"
     ]
    },
    {
     "name": "stdout",
     "output_type": "stream",
     "text": [
      "No figcaption found for images in URL: https://www.nos.nl/artikel/2496533\n"
     ]
    },
    {
     "name": "stderr",
     "output_type": "stream",
     "text": [
      "Scraper going at...: 2981it [1:09:18,  1.08s/it]"
     ]
    },
    {
     "name": "stdout",
     "output_type": "stream",
     "text": [
      "No main image div found in URL: https://www.nos.nl/artikel/2496532\n"
     ]
    },
    {
     "name": "stderr",
     "output_type": "stream",
     "text": [
      "Scraper going at...: 2985it [1:09:24,  1.16s/it]"
     ]
    },
    {
     "name": "stdout",
     "output_type": "stream",
     "text": [
      "No figcaption found for images in URL: https://www.nos.nl/artikel/2496524\n"
     ]
    },
    {
     "name": "stderr",
     "output_type": "stream",
     "text": [
      "Scraper going at...: 2986it [1:09:25,  1.13s/it]"
     ]
    },
    {
     "name": "stdout",
     "output_type": "stream",
     "text": [
      "No figcaption found for images in URL: https://www.nos.nl/artikel/2496521\n"
     ]
    },
    {
     "name": "stderr",
     "output_type": "stream",
     "text": [
      "Scraper going at...: 2987it [1:09:26,  1.09s/it]"
     ]
    },
    {
     "name": "stdout",
     "output_type": "stream",
     "text": [
      "No main image div found in URL: https://www.nos.nl/artikel/2496520\n"
     ]
    },
    {
     "name": "stderr",
     "output_type": "stream",
     "text": [
      "Scraper going at...: 2988it [1:09:27,  1.09s/it]"
     ]
    },
    {
     "name": "stdout",
     "output_type": "stream",
     "text": [
      "No figcaption found for images in URL: https://www.nos.nl/artikel/2496518\n"
     ]
    },
    {
     "name": "stderr",
     "output_type": "stream",
     "text": [
      "Scraper going at...: 2992it [1:09:32,  1.47s/it]"
     ]
    },
    {
     "name": "stdout",
     "output_type": "stream",
     "text": [
      "No main image div found in URL: https://www.nos.nl/artikel/2496507\n"
     ]
    },
    {
     "name": "stderr",
     "output_type": "stream",
     "text": [
      "Scraper going at...: 2997it [1:09:40,  1.32s/it]"
     ]
    },
    {
     "name": "stdout",
     "output_type": "stream",
     "text": [
      "No figcaption found for images in URL: https://www.nos.nl/artikel/2496491\n"
     ]
    },
    {
     "name": "stderr",
     "output_type": "stream",
     "text": [
      "Scraper going at...: 2998it [1:09:41,  1.20s/it]"
     ]
    },
    {
     "name": "stdout",
     "output_type": "stream",
     "text": [
      "No figcaption found for images in URL: https://www.nos.nl/artikel/2496490\n"
     ]
    },
    {
     "name": "stderr",
     "output_type": "stream",
     "text": [
      "Scraper going at...: 2999it [1:09:42,  1.13s/it]"
     ]
    },
    {
     "name": "stdout",
     "output_type": "stream",
     "text": [
      "No main image div found in URL: https://www.nos.nl/artikel/2496489\n"
     ]
    },
    {
     "name": "stderr",
     "output_type": "stream",
     "text": [
      "Scraper going at...: 3009it [1:10:00,  1.77s/it]"
     ]
    },
    {
     "name": "stdout",
     "output_type": "stream",
     "text": [
      "No figcaption found for images in URL: https://www.nos.nl/artikel/2496463\n"
     ]
    },
    {
     "name": "stderr",
     "output_type": "stream",
     "text": [
      "Scraper going at...: 3014it [1:10:05,  1.24s/it]"
     ]
    },
    {
     "name": "stdout",
     "output_type": "stream",
     "text": [
      "No figcaption found for images in URL: https://www.nos.nl/artikel/2496453\n"
     ]
    },
    {
     "name": "stderr",
     "output_type": "stream",
     "text": [
      "Scraper going at...: 3015it [1:10:06,  1.16s/it]"
     ]
    },
    {
     "name": "stdout",
     "output_type": "stream",
     "text": [
      "No main image div found in URL: https://www.nos.nl/artikel/2496452\n"
     ]
    },
    {
     "name": "stderr",
     "output_type": "stream",
     "text": [
      "Scraper going at...: 3018it [1:10:09,  1.07s/it]"
     ]
    },
    {
     "name": "stdout",
     "output_type": "stream",
     "text": [
      "No figcaption found for images in URL: https://www.nos.nl/artikel/2496447\n"
     ]
    },
    {
     "name": "stderr",
     "output_type": "stream",
     "text": [
      "Scraper going at...: 3019it [1:10:12,  1.50s/it]"
     ]
    },
    {
     "name": "stdout",
     "output_type": "stream",
     "text": [
      "No figcaption found for images in URL: https://www.nos.nl/artikel/2496445\n"
     ]
    },
    {
     "name": "stderr",
     "output_type": "stream",
     "text": [
      "Scraper going at...: 3020it [1:10:13,  1.38s/it]"
     ]
    },
    {
     "name": "stdout",
     "output_type": "stream",
     "text": [
      "No figcaption found for images in URL: https://www.nos.nl/artikel/2496444\n"
     ]
    },
    {
     "name": "stderr",
     "output_type": "stream",
     "text": [
      "Scraper going at...: 3024it [1:10:28,  2.78s/it]"
     ]
    },
    {
     "name": "stdout",
     "output_type": "stream",
     "text": [
      "No main image div found in URL: https://www.nos.nl/artikel/2496438\n"
     ]
    },
    {
     "name": "stderr",
     "output_type": "stream",
     "text": [
      "Scraper going at...: 3025it [1:10:29,  2.36s/it]"
     ]
    },
    {
     "name": "stdout",
     "output_type": "stream",
     "text": [
      "No figcaption found for images in URL: https://www.nos.nl/artikel/2496435\n"
     ]
    },
    {
     "name": "stderr",
     "output_type": "stream",
     "text": [
      "Scraper going at...: 3029it [1:10:36,  1.75s/it]"
     ]
    },
    {
     "name": "stdout",
     "output_type": "stream",
     "text": [
      "No figcaption found for images in URL: https://www.nos.nl/artikel/2496417\n"
     ]
    },
    {
     "name": "stderr",
     "output_type": "stream",
     "text": [
      "Scraper going at...: 3032it [1:10:43,  2.06s/it]"
     ]
    },
    {
     "name": "stdout",
     "output_type": "stream",
     "text": [
      "No figcaption found for images in URL: https://www.nos.nl/artikel/2496413\n"
     ]
    },
    {
     "name": "stderr",
     "output_type": "stream",
     "text": [
      "Scraper going at...: 3040it [1:10:54,  1.27s/it]"
     ]
    },
    {
     "name": "stdout",
     "output_type": "stream",
     "text": [
      "No main image div found in URL: https://www.nos.nl/artikel/2496398\n"
     ]
    },
    {
     "name": "stderr",
     "output_type": "stream",
     "text": [
      "Scraper going at...: 3044it [1:11:02,  1.78s/it]"
     ]
    },
    {
     "name": "stdout",
     "output_type": "stream",
     "text": [
      "No main image div found in URL: https://www.nos.nl/artikel/2496389\n"
     ]
    },
    {
     "name": "stderr",
     "output_type": "stream",
     "text": [
      "Scraper going at...: 3045it [1:11:03,  1.58s/it]"
     ]
    },
    {
     "name": "stdout",
     "output_type": "stream",
     "text": [
      "No main image div found in URL: https://www.nos.nl/artikel/2496386\n"
     ]
    },
    {
     "name": "stderr",
     "output_type": "stream",
     "text": [
      "Scraper going at...: 3057it [1:11:32,  1.85s/it]"
     ]
    },
    {
     "name": "stdout",
     "output_type": "stream",
     "text": [
      "No figcaption found for images in URL: https://www.nos.nl/artikel/2496362\n"
     ]
    },
    {
     "name": "stderr",
     "output_type": "stream",
     "text": [
      "Scraper going at...: 3059it [1:11:35,  1.47s/it]"
     ]
    },
    {
     "name": "stdout",
     "output_type": "stream",
     "text": [
      "No figcaption found for images in URL: https://www.nos.nl/artikel/2496352\n"
     ]
    },
    {
     "name": "stderr",
     "output_type": "stream",
     "text": [
      "Scraper going at...: 3062it [1:11:39,  1.37s/it]"
     ]
    },
    {
     "name": "stdout",
     "output_type": "stream",
     "text": [
      "No main image div found in URL: https://www.nos.nl/artikel/2496345\n"
     ]
    },
    {
     "name": "stderr",
     "output_type": "stream",
     "text": [
      "Scraper going at...: 3063it [1:11:41,  1.63s/it]"
     ]
    },
    {
     "name": "stdout",
     "output_type": "stream",
     "text": [
      "No figcaption found for images in URL: https://www.nos.nl/artikel/2496344\n"
     ]
    },
    {
     "name": "stderr",
     "output_type": "stream",
     "text": [
      "Scraper going at...: 3070it [1:11:50,  1.25s/it]"
     ]
    },
    {
     "name": "stdout",
     "output_type": "stream",
     "text": [
      "No figcaption found for images in URL: https://www.nos.nl/artikel/2496328\n"
     ]
    },
    {
     "name": "stderr",
     "output_type": "stream",
     "text": [
      "Scraper going at...: 3075it [1:11:56,  1.12s/it]"
     ]
    },
    {
     "name": "stdout",
     "output_type": "stream",
     "text": [
      "No figcaption found for images in URL: https://www.nos.nl/artikel/2496314\n"
     ]
    },
    {
     "name": "stderr",
     "output_type": "stream",
     "text": [
      "Scraper going at...: 3077it [1:11:59,  1.48s/it]"
     ]
    },
    {
     "name": "stdout",
     "output_type": "stream",
     "text": [
      "No figcaption found for images in URL: https://www.nos.nl/artikel/2496306\n"
     ]
    },
    {
     "name": "stderr",
     "output_type": "stream",
     "text": [
      "Scraper going at...: 3079it [1:12:03,  1.59s/it]"
     ]
    },
    {
     "name": "stdout",
     "output_type": "stream",
     "text": [
      "No main image div found in URL: https://www.nos.nl/artikel/2496302\n"
     ]
    },
    {
     "name": "stderr",
     "output_type": "stream",
     "text": [
      "Scraper going at...: 3080it [1:12:04,  1.40s/it]"
     ]
    },
    {
     "name": "stdout",
     "output_type": "stream",
     "text": [
      "No figcaption found for images in URL: https://www.nos.nl/artikel/2496300\n"
     ]
    },
    {
     "name": "stderr",
     "output_type": "stream",
     "text": [
      "Scraper going at...: 3081it [1:12:05,  1.27s/it]"
     ]
    },
    {
     "name": "stdout",
     "output_type": "stream",
     "text": [
      "No figcaption found for images in URL: https://www.nos.nl/artikel/2496296\n"
     ]
    },
    {
     "name": "stderr",
     "output_type": "stream",
     "text": [
      "Scraper going at...: 3091it [1:12:18,  1.42s/it]"
     ]
    },
    {
     "name": "stdout",
     "output_type": "stream",
     "text": [
      "No main image div found in URL: https://www.nos.nl/artikel/2496277\n"
     ]
    },
    {
     "name": "stderr",
     "output_type": "stream",
     "text": [
      "Scraper going at...: 3094it [1:12:22,  1.27s/it]"
     ]
    },
    {
     "name": "stdout",
     "output_type": "stream",
     "text": [
      "No main image div found in URL: https://www.nos.nl/artikel/2496272\n"
     ]
    },
    {
     "name": "stderr",
     "output_type": "stream",
     "text": [
      "Scraper going at...: 3096it [1:12:24,  1.15s/it]"
     ]
    },
    {
     "name": "stdout",
     "output_type": "stream",
     "text": [
      "No main image div found in URL: https://www.nos.nl/artikel/2496265\n"
     ]
    },
    {
     "name": "stderr",
     "output_type": "stream",
     "text": [
      "Scraper going at...: 3101it [1:12:30,  1.19s/it]"
     ]
    },
    {
     "name": "stdout",
     "output_type": "stream",
     "text": [
      "No main image div found in URL: https://www.nos.nl/artikel/2496256\n"
     ]
    },
    {
     "name": "stderr",
     "output_type": "stream",
     "text": [
      "Scraper going at...: 3102it [1:12:32,  1.21s/it]"
     ]
    },
    {
     "name": "stdout",
     "output_type": "stream",
     "text": [
      "No figcaption found for images in URL: https://www.nos.nl/artikel/2496254\n"
     ]
    },
    {
     "name": "stderr",
     "output_type": "stream",
     "text": [
      "Scraper going at...: 3105it [1:12:36,  1.25s/it]"
     ]
    },
    {
     "name": "stdout",
     "output_type": "stream",
     "text": [
      "No figcaption found for images in URL: https://www.nos.nl/artikel/2496250\n"
     ]
    },
    {
     "name": "stderr",
     "output_type": "stream",
     "text": [
      "Scraper going at...: 3107it [1:12:38,  1.37s/it]"
     ]
    },
    {
     "name": "stdout",
     "output_type": "stream",
     "text": [
      "No figcaption found for images in URL: https://www.nos.nl/artikel/2496244\n"
     ]
    },
    {
     "name": "stderr",
     "output_type": "stream",
     "text": [
      "Scraper going at...: 3109it [1:12:43,  1.76s/it]"
     ]
    },
    {
     "name": "stdout",
     "output_type": "stream",
     "text": [
      "No main image div found in URL: https://www.nos.nl/artikel/2496237\n"
     ]
    },
    {
     "name": "stderr",
     "output_type": "stream",
     "text": [
      "Scraper going at...: 3110it [1:12:44,  1.55s/it]"
     ]
    },
    {
     "name": "stdout",
     "output_type": "stream",
     "text": [
      "No figcaption found for images in URL: https://www.nos.nl/artikel/2496236\n"
     ]
    },
    {
     "name": "stderr",
     "output_type": "stream",
     "text": [
      "Scraper going at...: 3111it [1:12:45,  1.40s/it]"
     ]
    },
    {
     "name": "stdout",
     "output_type": "stream",
     "text": [
      "No figcaption found for images in URL: https://www.nos.nl/artikel/2496235\n"
     ]
    },
    {
     "name": "stderr",
     "output_type": "stream",
     "text": [
      "Scraper going at...: 3116it [1:12:51,  1.13s/it]"
     ]
    },
    {
     "name": "stdout",
     "output_type": "stream",
     "text": [
      "No figcaption found for images in URL: https://www.nos.nl/artikel/2496227\n"
     ]
    },
    {
     "name": "stderr",
     "output_type": "stream",
     "text": [
      "Scraper going at...: 3118it [1:12:53,  1.15s/it]"
     ]
    },
    {
     "name": "stdout",
     "output_type": "stream",
     "text": [
      "No figcaption found for images in URL: https://www.nos.nl/artikel/2496216\n"
     ]
    },
    {
     "name": "stderr",
     "output_type": "stream",
     "text": [
      "Scraper going at...: 3122it [1:12:59,  1.27s/it]"
     ]
    },
    {
     "name": "stdout",
     "output_type": "stream",
     "text": [
      "No figcaption found for images in URL: https://www.nos.nl/artikel/2496210\n"
     ]
    },
    {
     "name": "stderr",
     "output_type": "stream",
     "text": [
      "Scraper going at...: 3123it [1:13:00,  1.25s/it]"
     ]
    },
    {
     "name": "stdout",
     "output_type": "stream",
     "text": [
      "No main image div found in URL: https://www.nos.nl/artikel/2496207\n"
     ]
    },
    {
     "name": "stderr",
     "output_type": "stream",
     "text": [
      "Scraper going at...: 3124it [1:13:01,  1.20s/it]"
     ]
    },
    {
     "name": "stdout",
     "output_type": "stream",
     "text": [
      "No figcaption found for images in URL: https://www.nos.nl/artikel/2496205\n"
     ]
    },
    {
     "name": "stderr",
     "output_type": "stream",
     "text": [
      "Scraper going at...: 3127it [1:13:04,  1.08s/it]"
     ]
    },
    {
     "name": "stdout",
     "output_type": "stream",
     "text": [
      "No figcaption found for images in URL: https://www.nos.nl/artikel/2496190\n"
     ]
    },
    {
     "name": "stderr",
     "output_type": "stream",
     "text": [
      "Scraper going at...: 3129it [1:13:08,  1.57s/it]"
     ]
    },
    {
     "name": "stdout",
     "output_type": "stream",
     "text": [
      "No main image div found in URL: https://www.nos.nl/artikel/2496183\n"
     ]
    },
    {
     "name": "stderr",
     "output_type": "stream",
     "text": [
      "Scraper going at...: 3131it [1:13:11,  1.35s/it]"
     ]
    },
    {
     "name": "stdout",
     "output_type": "stream",
     "text": [
      "No figcaption found for images in URL: https://www.nos.nl/artikel/2496181\n"
     ]
    },
    {
     "name": "stderr",
     "output_type": "stream",
     "text": [
      "Scraper going at...: 3132it [1:13:12,  1.26s/it]"
     ]
    },
    {
     "name": "stdout",
     "output_type": "stream",
     "text": [
      "No main image div found in URL: https://www.nos.nl/artikel/2496180\n"
     ]
    },
    {
     "name": "stderr",
     "output_type": "stream",
     "text": [
      "Scraper going at...: 3138it [1:13:19,  1.22s/it]"
     ]
    },
    {
     "name": "stdout",
     "output_type": "stream",
     "text": [
      "No figcaption found for images in URL: https://www.nos.nl/artikel/2496167\n"
     ]
    },
    {
     "name": "stderr",
     "output_type": "stream",
     "text": [
      "Scraper going at...: 3140it [1:13:21,  1.28s/it]"
     ]
    },
    {
     "name": "stdout",
     "output_type": "stream",
     "text": [
      "No main image div found in URL: https://www.nos.nl/artikel/2496163\n"
     ]
    },
    {
     "name": "stderr",
     "output_type": "stream",
     "text": [
      "Scraper going at...: 3144it [1:13:26,  1.19s/it]"
     ]
    },
    {
     "name": "stdout",
     "output_type": "stream",
     "text": [
      "No figcaption found for images in URL: https://www.nos.nl/artikel/2496151\n"
     ]
    },
    {
     "name": "stderr",
     "output_type": "stream",
     "text": [
      "Scraper going at...: 3145it [1:13:28,  1.40s/it]"
     ]
    },
    {
     "name": "stdout",
     "output_type": "stream",
     "text": [
      "No main image div found in URL: https://www.nos.nl/artikel/2496150\n"
     ]
    },
    {
     "name": "stderr",
     "output_type": "stream",
     "text": [
      "Scraper going at...: 3155it [1:13:43,  1.46s/it]"
     ]
    },
    {
     "name": "stdout",
     "output_type": "stream",
     "text": [
      "No main image div found in URL: https://www.nos.nl/artikel/2496116\n"
     ]
    },
    {
     "name": "stderr",
     "output_type": "stream",
     "text": [
      "Scraper going at...: 3156it [1:13:44,  1.42s/it]"
     ]
    },
    {
     "name": "stdout",
     "output_type": "stream",
     "text": [
      "No figcaption found for images in URL: https://www.nos.nl/artikel/2496112\n"
     ]
    },
    {
     "name": "stderr",
     "output_type": "stream",
     "text": [
      "Scraper going at...: 3157it [1:13:45,  1.30s/it]"
     ]
    },
    {
     "name": "stdout",
     "output_type": "stream",
     "text": [
      "No main image div found in URL: https://www.nos.nl/artikel/2496109\n"
     ]
    },
    {
     "name": "stderr",
     "output_type": "stream",
     "text": [
      "Scraper going at...: 3161it [1:13:50,  1.18s/it]"
     ]
    },
    {
     "name": "stdout",
     "output_type": "stream",
     "text": [
      "No figcaption found for images in URL: https://www.nos.nl/artikel/2496099\n"
     ]
    },
    {
     "name": "stderr",
     "output_type": "stream",
     "text": [
      "Scraper going at...: 3162it [1:13:53,  1.80s/it]"
     ]
    },
    {
     "name": "stdout",
     "output_type": "stream",
     "text": [
      "No main image div found in URL: https://www.nos.nl/artikel/2496097\n"
     ]
    },
    {
     "name": "stderr",
     "output_type": "stream",
     "text": [
      "Scraper going at...: 3163it [1:13:54,  1.55s/it]"
     ]
    },
    {
     "name": "stdout",
     "output_type": "stream",
     "text": [
      "No figcaption found for images in URL: https://www.nos.nl/artikel/2496096\n"
     ]
    },
    {
     "name": "stderr",
     "output_type": "stream",
     "text": [
      "Scraper going at...: 3165it [1:13:56,  1.26s/it]"
     ]
    },
    {
     "name": "stdout",
     "output_type": "stream",
     "text": [
      "No figcaption found for images in URL: https://www.nos.nl/artikel/2496093\n"
     ]
    },
    {
     "name": "stderr",
     "output_type": "stream",
     "text": [
      "Scraper going at...: 3167it [1:13:58,  1.12s/it]"
     ]
    },
    {
     "name": "stdout",
     "output_type": "stream",
     "text": [
      "No figcaption found for images in URL: https://www.nos.nl/artikel/2496090\n"
     ]
    },
    {
     "name": "stderr",
     "output_type": "stream",
     "text": [
      "Scraper going at...: 3169it [1:14:01,  1.33s/it]"
     ]
    },
    {
     "name": "stdout",
     "output_type": "stream",
     "text": [
      "No figcaption found for images in URL: https://www.nos.nl/artikel/2496083\n"
     ]
    },
    {
     "name": "stderr",
     "output_type": "stream",
     "text": [
      "Scraper going at...: 3170it [1:14:02,  1.23s/it]"
     ]
    },
    {
     "name": "stdout",
     "output_type": "stream",
     "text": [
      "No figcaption found for images in URL: https://www.nos.nl/artikel/2496082\n"
     ]
    },
    {
     "name": "stderr",
     "output_type": "stream",
     "text": [
      "Scraper going at...: 3173it [1:14:07,  1.29s/it]"
     ]
    },
    {
     "name": "stdout",
     "output_type": "stream",
     "text": [
      "No figcaption found for images in URL: https://www.nos.nl/artikel/2496075\n"
     ]
    },
    {
     "name": "stderr",
     "output_type": "stream",
     "text": [
      "Scraper going at...: 3174it [1:14:08,  1.41s/it]"
     ]
    },
    {
     "name": "stdout",
     "output_type": "stream",
     "text": [
      "No figcaption found for images in URL: https://www.nos.nl/artikel/2496073\n"
     ]
    },
    {
     "name": "stderr",
     "output_type": "stream",
     "text": [
      "Scraper going at...: 3180it [1:14:15,  1.09s/it]"
     ]
    },
    {
     "name": "stdout",
     "output_type": "stream",
     "text": [
      "No main image div found in URL: https://www.nos.nl/artikel/2496060\n"
     ]
    },
    {
     "name": "stderr",
     "output_type": "stream",
     "text": [
      "Scraper going at...: 3182it [1:14:21,  2.02s/it]"
     ]
    },
    {
     "name": "stdout",
     "output_type": "stream",
     "text": [
      "No main image div found in URL: https://www.nos.nl/artikel/2496058\n"
     ]
    },
    {
     "name": "stderr",
     "output_type": "stream",
     "text": [
      "Scraper going at...: 3183it [1:14:21,  1.70s/it]"
     ]
    },
    {
     "name": "stdout",
     "output_type": "stream",
     "text": [
      "No main image div found in URL: https://www.nos.nl/artikel/2496053\n"
     ]
    },
    {
     "name": "stderr",
     "output_type": "stream",
     "text": [
      "Scraper going at...: 3184it [1:14:26,  2.51s/it]"
     ]
    },
    {
     "name": "stdout",
     "output_type": "stream",
     "text": [
      "No figcaption found for images in URL: https://www.nos.nl/artikel/2496051\n"
     ]
    },
    {
     "name": "stderr",
     "output_type": "stream",
     "text": [
      "Scraper going at...: 3193it [1:14:39,  1.44s/it]"
     ]
    },
    {
     "name": "stdout",
     "output_type": "stream",
     "text": [
      "No figcaption found for images in URL: https://www.nos.nl/artikel/2496035\n"
     ]
    },
    {
     "name": "stderr",
     "output_type": "stream",
     "text": [
      "Scraper going at...: 3194it [1:14:40,  1.43s/it]"
     ]
    },
    {
     "name": "stdout",
     "output_type": "stream",
     "text": [
      "No main image div found in URL: https://www.nos.nl/artikel/2496030\n"
     ]
    },
    {
     "name": "stderr",
     "output_type": "stream",
     "text": [
      "Scraper going at...: 3195it [1:14:42,  1.43s/it]"
     ]
    },
    {
     "name": "stdout",
     "output_type": "stream",
     "text": [
      "No main image div found in URL: https://www.nos.nl/artikel/2496029\n"
     ]
    },
    {
     "name": "stderr",
     "output_type": "stream",
     "text": [
      "Scraper going at...: 3202it [1:14:49,  1.14s/it]"
     ]
    },
    {
     "name": "stdout",
     "output_type": "stream",
     "text": [
      "No figcaption found for images in URL: https://www.nos.nl/artikel/2496018\n"
     ]
    },
    {
     "name": "stderr",
     "output_type": "stream",
     "text": [
      "Scraper going at...: 3210it [1:14:58,  1.04s/it]"
     ]
    },
    {
     "name": "stdout",
     "output_type": "stream",
     "text": [
      "No main image div found in URL: https://www.nos.nl/artikel/2495994\n"
     ]
    },
    {
     "name": "stderr",
     "output_type": "stream",
     "text": [
      "Scraper going at...: 3213it [1:15:06,  2.61s/it]"
     ]
    },
    {
     "name": "stdout",
     "output_type": "stream",
     "text": [
      "No figcaption found for images in URL: https://www.nos.nl/artikel/2495991\n"
     ]
    },
    {
     "name": "stderr",
     "output_type": "stream",
     "text": [
      "Scraper going at...: 3215it [1:15:09,  1.88s/it]"
     ]
    },
    {
     "name": "stdout",
     "output_type": "stream",
     "text": [
      "No main image div found in URL: https://www.nos.nl/artikel/2495989\n"
     ]
    },
    {
     "name": "stderr",
     "output_type": "stream",
     "text": [
      "Scraper going at...: 3216it [1:15:10,  1.66s/it]"
     ]
    },
    {
     "name": "stdout",
     "output_type": "stream",
     "text": [
      "No figcaption found for images in URL: https://www.nos.nl/artikel/2495986\n"
     ]
    },
    {
     "name": "stderr",
     "output_type": "stream",
     "text": [
      "Scraper going at...: 3217it [1:15:11,  1.46s/it]"
     ]
    },
    {
     "name": "stdout",
     "output_type": "stream",
     "text": [
      "No figcaption found for images in URL: https://www.nos.nl/artikel/2495985\n"
     ]
    },
    {
     "name": "stderr",
     "output_type": "stream",
     "text": [
      "Scraper going at...: 3225it [1:15:20,  1.13s/it]"
     ]
    },
    {
     "name": "stdout",
     "output_type": "stream",
     "text": [
      "No figcaption found for images in URL: https://www.nos.nl/artikel/2495968\n"
     ]
    },
    {
     "name": "stderr",
     "output_type": "stream",
     "text": [
      "Scraper going at...: 3231it [1:15:27,  1.16s/it]"
     ]
    },
    {
     "name": "stdout",
     "output_type": "stream",
     "text": [
      "No main image div found in URL: https://www.nos.nl/artikel/2495958\n"
     ]
    },
    {
     "name": "stderr",
     "output_type": "stream",
     "text": [
      "Scraper going at...: 3235it [1:15:33,  1.44s/it]"
     ]
    },
    {
     "name": "stdout",
     "output_type": "stream",
     "text": [
      "No figcaption found for images in URL: https://www.nos.nl/artikel/2495942\n"
     ]
    },
    {
     "name": "stderr",
     "output_type": "stream",
     "text": [
      "Scraper going at...: 3245it [1:15:50,  1.66s/it]"
     ]
    },
    {
     "name": "stdout",
     "output_type": "stream",
     "text": [
      "No main image div found in URL: https://www.nos.nl/artikel/2495915\n"
     ]
    },
    {
     "name": "stderr",
     "output_type": "stream",
     "text": [
      "Scraper going at...: 3246it [1:15:54,  2.42s/it]"
     ]
    },
    {
     "name": "stdout",
     "output_type": "stream",
     "text": [
      "No main image div found in URL: https://www.nos.nl/artikel/2495913\n"
     ]
    },
    {
     "name": "stderr",
     "output_type": "stream",
     "text": [
      "Scraper going at...: 3247it [1:15:55,  2.05s/it]"
     ]
    },
    {
     "name": "stdout",
     "output_type": "stream",
     "text": [
      "No figcaption found for images in URL: https://www.nos.nl/artikel/2495912\n"
     ]
    },
    {
     "name": "stderr",
     "output_type": "stream",
     "text": [
      "Scraper going at...: 3250it [1:15:58,  1.38s/it]"
     ]
    },
    {
     "name": "stdout",
     "output_type": "stream",
     "text": [
      "No figcaption found for images in URL: https://www.nos.nl/artikel/2495898\n"
     ]
    },
    {
     "name": "stderr",
     "output_type": "stream",
     "text": [
      "Scraper going at...: 3251it [1:16:00,  1.47s/it]"
     ]
    },
    {
     "name": "stdout",
     "output_type": "stream",
     "text": [
      "No figcaption found for images in URL: https://www.nos.nl/artikel/2495897\n"
     ]
    },
    {
     "name": "stderr",
     "output_type": "stream",
     "text": [
      "Scraper going at...: 3253it [1:16:03,  1.37s/it]"
     ]
    },
    {
     "name": "stdout",
     "output_type": "stream",
     "text": [
      "No main image div found in URL: https://www.nos.nl/artikel/2495881\n"
     ]
    },
    {
     "name": "stderr",
     "output_type": "stream",
     "text": [
      "Scraper going at...: 3254it [1:16:04,  1.44s/it]"
     ]
    },
    {
     "name": "stdout",
     "output_type": "stream",
     "text": [
      "No main image div found in URL: https://www.nos.nl/artikel/2495874\n"
     ]
    },
    {
     "name": "stderr",
     "output_type": "stream",
     "text": [
      "Scraper going at...: 3255it [1:16:07,  1.78s/it]"
     ]
    },
    {
     "name": "stdout",
     "output_type": "stream",
     "text": [
      "No main image div found in URL: https://www.nos.nl/artikel/2495870\n"
     ]
    },
    {
     "name": "stderr",
     "output_type": "stream",
     "text": [
      "Scraper going at...: 3257it [1:16:11,  1.79s/it]"
     ]
    },
    {
     "name": "stdout",
     "output_type": "stream",
     "text": [
      "No main image div found in URL: https://www.nos.nl/artikel/2495864\n"
     ]
    },
    {
     "name": "stderr",
     "output_type": "stream",
     "text": [
      "Scraper going at...: 3259it [1:16:13,  1.58s/it]"
     ]
    },
    {
     "name": "stdout",
     "output_type": "stream",
     "text": [
      "No main image div found in URL: https://www.nos.nl/artikel/2495851\n"
     ]
    },
    {
     "name": "stderr",
     "output_type": "stream",
     "text": [
      "Scraper going at...: 3262it [1:16:18,  1.52s/it]"
     ]
    },
    {
     "name": "stdout",
     "output_type": "stream",
     "text": [
      "No main image div found in URL: https://www.nos.nl/artikel/2495845\n"
     ]
    },
    {
     "name": "stderr",
     "output_type": "stream",
     "text": [
      "Scraper going at...: 3263it [1:16:19,  1.38s/it]"
     ]
    },
    {
     "name": "stdout",
     "output_type": "stream",
     "text": [
      "No main image div found in URL: https://www.nos.nl/artikel/2495844\n"
     ]
    },
    {
     "name": "stderr",
     "output_type": "stream",
     "text": [
      "Scraper going at...: 3264it [1:16:20,  1.26s/it]"
     ]
    },
    {
     "name": "stdout",
     "output_type": "stream",
     "text": [
      "No main image div found in URL: https://www.nos.nl/artikel/2495841\n"
     ]
    },
    {
     "name": "stderr",
     "output_type": "stream",
     "text": [
      "Scraper going at...: 3267it [1:16:25,  1.51s/it]"
     ]
    },
    {
     "name": "stdout",
     "output_type": "stream",
     "text": [
      "No main image div found in URL: https://www.nos.nl/artikel/2495826\n"
     ]
    },
    {
     "name": "stderr",
     "output_type": "stream",
     "text": [
      "Scraper going at...: 3270it [1:16:28,  1.17s/it]"
     ]
    },
    {
     "name": "stdout",
     "output_type": "stream",
     "text": [
      "No figcaption found for images in URL: https://www.nos.nl/artikel/2495817\n"
     ]
    },
    {
     "name": "stderr",
     "output_type": "stream",
     "text": [
      "Scraper going at...: 3271it [1:16:29,  1.12s/it]"
     ]
    },
    {
     "name": "stdout",
     "output_type": "stream",
     "text": [
      "No figcaption found for images in URL: https://www.nos.nl/artikel/2495814\n"
     ]
    },
    {
     "name": "stderr",
     "output_type": "stream",
     "text": [
      "Scraper going at...: 3273it [1:16:31,  1.23s/it]"
     ]
    },
    {
     "name": "stdout",
     "output_type": "stream",
     "text": [
      "No main image div found in URL: https://www.nos.nl/artikel/2495811\n"
     ]
    },
    {
     "name": "stderr",
     "output_type": "stream",
     "text": [
      "Scraper going at...: 3275it [1:16:34,  1.22s/it]"
     ]
    },
    {
     "name": "stdout",
     "output_type": "stream",
     "text": [
      "No figcaption found for images in URL: https://www.nos.nl/artikel/2495805\n"
     ]
    },
    {
     "name": "stderr",
     "output_type": "stream",
     "text": [
      "Scraper going at...: 3276it [1:16:35,  1.20s/it]"
     ]
    },
    {
     "name": "stdout",
     "output_type": "stream",
     "text": [
      "No figcaption found for images in URL: https://www.nos.nl/artikel/2495804\n"
     ]
    },
    {
     "name": "stderr",
     "output_type": "stream",
     "text": [
      "Scraper going at...: 3278it [1:16:37,  1.07s/it]"
     ]
    },
    {
     "name": "stdout",
     "output_type": "stream",
     "text": [
      "No main image div found in URL: https://www.nos.nl/artikel/2495802\n"
     ]
    },
    {
     "name": "stderr",
     "output_type": "stream",
     "text": [
      "Scraper going at...: 3285it [1:16:45,  1.27s/it]"
     ]
    },
    {
     "name": "stdout",
     "output_type": "stream",
     "text": [
      "No main image div found in URL: https://www.nos.nl/artikel/2495784\n"
     ]
    },
    {
     "name": "stderr",
     "output_type": "stream",
     "text": [
      "Scraper going at...: 3286it [1:16:46,  1.20s/it]"
     ]
    },
    {
     "name": "stdout",
     "output_type": "stream",
     "text": [
      "No main image div found in URL: https://www.nos.nl/artikel/2495783\n"
     ]
    },
    {
     "name": "stderr",
     "output_type": "stream",
     "text": [
      "Scraper going at...: 3287it [1:16:52,  2.60s/it]"
     ]
    },
    {
     "name": "stdout",
     "output_type": "stream",
     "text": [
      "No main image div found in URL: https://www.nos.nl/artikel/2495777\n"
     ]
    },
    {
     "name": "stderr",
     "output_type": "stream",
     "text": [
      "Scraper going at...: 3288it [1:16:53,  2.16s/it]"
     ]
    },
    {
     "name": "stdout",
     "output_type": "stream",
     "text": [
      "No main image div found in URL: https://www.nos.nl/artikel/2495773\n"
     ]
    },
    {
     "name": "stderr",
     "output_type": "stream",
     "text": [
      "Scraper going at...: 3289it [1:16:55,  2.15s/it]"
     ]
    },
    {
     "name": "stdout",
     "output_type": "stream",
     "text": [
      "No main image div found in URL: https://www.nos.nl/artikel/2495770\n"
     ]
    },
    {
     "name": "stderr",
     "output_type": "stream",
     "text": [
      "Scraper going at...: 3290it [1:16:57,  1.95s/it]"
     ]
    },
    {
     "name": "stdout",
     "output_type": "stream",
     "text": [
      "No main image div found in URL: https://www.nos.nl/artikel/2495769\n"
     ]
    },
    {
     "name": "stderr",
     "output_type": "stream",
     "text": [
      "Scraper going at...: 3295it [1:17:02,  1.18s/it]"
     ]
    },
    {
     "name": "stdout",
     "output_type": "stream",
     "text": [
      "No main image div found in URL: https://www.nos.nl/artikel/2495762\n"
     ]
    },
    {
     "name": "stderr",
     "output_type": "stream",
     "text": [
      "Scraper going at...: 3303it [1:17:16,  1.85s/it]"
     ]
    },
    {
     "name": "stdout",
     "output_type": "stream",
     "text": [
      "No figcaption found for images in URL: https://www.nos.nl/artikel/2495738\n"
     ]
    },
    {
     "name": "stderr",
     "output_type": "stream",
     "text": [
      "Scraper going at...: 3305it [1:17:18,  1.48s/it]"
     ]
    },
    {
     "name": "stdout",
     "output_type": "stream",
     "text": [
      "No main image div found in URL: https://www.nos.nl/artikel/2495729\n"
     ]
    },
    {
     "name": "stderr",
     "output_type": "stream",
     "text": [
      "Scraper going at...: 3308it [1:17:21,  1.23s/it]"
     ]
    },
    {
     "name": "stdout",
     "output_type": "stream",
     "text": [
      "No figcaption found for images in URL: https://www.nos.nl/artikel/2495722\n"
     ]
    },
    {
     "name": "stderr",
     "output_type": "stream",
     "text": [
      "Scraper going at...: 3309it [1:17:23,  1.45s/it]"
     ]
    },
    {
     "name": "stdout",
     "output_type": "stream",
     "text": [
      "No main image div found in URL: https://www.nos.nl/artikel/2495718\n"
     ]
    },
    {
     "name": "stderr",
     "output_type": "stream",
     "text": [
      "Scraper going at...: 3313it [1:17:29,  1.30s/it]"
     ]
    },
    {
     "name": "stdout",
     "output_type": "stream",
     "text": [
      "No main image div found in URL: https://www.nos.nl/artikel/2495711\n"
     ]
    },
    {
     "name": "stderr",
     "output_type": "stream",
     "text": [
      "Scraper going at...: 3316it [1:17:33,  1.45s/it]"
     ]
    },
    {
     "name": "stdout",
     "output_type": "stream",
     "text": [
      "No figcaption found for images in URL: https://www.nos.nl/artikel/2495704\n"
     ]
    },
    {
     "name": "stderr",
     "output_type": "stream",
     "text": [
      "Scraper going at...: 3324it [1:17:43,  1.27s/it]"
     ]
    },
    {
     "name": "stdout",
     "output_type": "stream",
     "text": [
      "No figcaption found for images in URL: https://www.nos.nl/artikel/2495691\n"
     ]
    },
    {
     "name": "stderr",
     "output_type": "stream",
     "text": [
      "Scraper going at...: 3334it [1:17:57,  1.25s/it]"
     ]
    },
    {
     "name": "stdout",
     "output_type": "stream",
     "text": [
      "No main image div found in URL: https://www.nos.nl/artikel/2495664\n"
     ]
    },
    {
     "name": "stderr",
     "output_type": "stream",
     "text": [
      "Scraper going at...: 3337it [1:18:01,  1.19s/it]"
     ]
    },
    {
     "name": "stdout",
     "output_type": "stream",
     "text": [
      "No main image div found in URL: https://www.nos.nl/artikel/2495649\n"
     ]
    },
    {
     "name": "stderr",
     "output_type": "stream",
     "text": [
      "Scraper going at...: 3338it [1:18:03,  1.51s/it]"
     ]
    },
    {
     "name": "stdout",
     "output_type": "stream",
     "text": [
      "No main image div found in URL: https://www.nos.nl/artikel/2495640\n"
     ]
    },
    {
     "name": "stderr",
     "output_type": "stream",
     "text": [
      "Scraper going at...: 3339it [1:18:04,  1.49s/it]"
     ]
    },
    {
     "name": "stdout",
     "output_type": "stream",
     "text": [
      "No figcaption found for images in URL: https://www.nos.nl/artikel/2495637\n"
     ]
    },
    {
     "name": "stderr",
     "output_type": "stream",
     "text": [
      "Scraper going at...: 3340it [1:18:05,  1.41s/it]"
     ]
    },
    {
     "name": "stdout",
     "output_type": "stream",
     "text": [
      "No main image div found in URL: https://www.nos.nl/artikel/2495636\n"
     ]
    },
    {
     "name": "stderr",
     "output_type": "stream",
     "text": [
      "Scraper going at...: 3341it [1:18:07,  1.54s/it]"
     ]
    },
    {
     "name": "stdout",
     "output_type": "stream",
     "text": [
      "No figcaption found for images in URL: https://www.nos.nl/artikel/2495633\n"
     ]
    },
    {
     "name": "stderr",
     "output_type": "stream",
     "text": [
      "Scraper going at...: 3348it [1:18:21,  2.57s/it]"
     ]
    },
    {
     "name": "stdout",
     "output_type": "stream",
     "text": [
      "No figcaption found for images in URL: https://www.nos.nl/artikel/2495610\n"
     ]
    },
    {
     "name": "stderr",
     "output_type": "stream",
     "text": [
      "Scraper going at...: 3352it [1:18:27,  1.61s/it]"
     ]
    },
    {
     "name": "stdout",
     "output_type": "stream",
     "text": [
      "No main image div found in URL: https://www.nos.nl/artikel/2495601\n"
     ]
    },
    {
     "name": "stderr",
     "output_type": "stream",
     "text": [
      "Scraper going at...: 3353it [1:18:28,  1.67s/it]"
     ]
    },
    {
     "name": "stdout",
     "output_type": "stream",
     "text": [
      "No main image div found in URL: https://www.nos.nl/artikel/2495598\n"
     ]
    },
    {
     "name": "stderr",
     "output_type": "stream",
     "text": [
      "Scraper going at...: 3355it [1:18:31,  1.58s/it]"
     ]
    },
    {
     "name": "stdout",
     "output_type": "stream",
     "text": [
      "No main image div found in URL: https://www.nos.nl/artikel/2495591\n"
     ]
    },
    {
     "name": "stderr",
     "output_type": "stream",
     "text": [
      "Scraper going at...: 3361it [1:18:39,  1.20s/it]"
     ]
    },
    {
     "name": "stdout",
     "output_type": "stream",
     "text": [
      "No main image div found in URL: https://www.nos.nl/artikel/2495583\n"
     ]
    },
    {
     "name": "stderr",
     "output_type": "stream",
     "text": [
      "Scraper going at...: 3362it [1:18:40,  1.17s/it]"
     ]
    },
    {
     "name": "stdout",
     "output_type": "stream",
     "text": [
      "No figcaption found for images in URL: https://www.nos.nl/artikel/2495580\n"
     ]
    },
    {
     "name": "stderr",
     "output_type": "stream",
     "text": [
      "Scraper going at...: 3373it [1:18:54,  1.57s/it]"
     ]
    },
    {
     "name": "stdout",
     "output_type": "stream",
     "text": [
      "No figcaption found for images in URL: https://www.nos.nl/artikel/2495562\n"
     ]
    },
    {
     "name": "stderr",
     "output_type": "stream",
     "text": [
      "Scraper going at...: 3374it [1:18:55,  1.39s/it]"
     ]
    },
    {
     "name": "stdout",
     "output_type": "stream",
     "text": [
      "No figcaption found for images in URL: https://www.nos.nl/artikel/2495560\n"
     ]
    },
    {
     "name": "stderr",
     "output_type": "stream",
     "text": [
      "Scraper going at...: 3375it [1:18:57,  1.39s/it]"
     ]
    },
    {
     "name": "stdout",
     "output_type": "stream",
     "text": [
      "No figcaption found for images in URL: https://www.nos.nl/artikel/2495559\n"
     ]
    },
    {
     "name": "stderr",
     "output_type": "stream",
     "text": [
      "Scraper going at...: 3377it [1:18:59,  1.21s/it]"
     ]
    },
    {
     "name": "stdout",
     "output_type": "stream",
     "text": [
      "No main image div found in URL: https://www.nos.nl/artikel/2495556\n"
     ]
    },
    {
     "name": "stderr",
     "output_type": "stream",
     "text": [
      "Scraper going at...: 3380it [1:19:04,  1.60s/it]"
     ]
    },
    {
     "name": "stdout",
     "output_type": "stream",
     "text": [
      "No figcaption found for images in URL: https://www.nos.nl/artikel/2495540\n"
     ]
    },
    {
     "name": "stderr",
     "output_type": "stream",
     "text": [
      "Scraper going at...: 3383it [1:19:08,  1.65s/it]"
     ]
    },
    {
     "name": "stdout",
     "output_type": "stream",
     "text": [
      "No figcaption found for images in URL: https://www.nos.nl/artikel/2495532\n"
     ]
    },
    {
     "name": "stderr",
     "output_type": "stream",
     "text": [
      "Scraper going at...: 3384it [1:19:10,  1.56s/it]"
     ]
    },
    {
     "name": "stdout",
     "output_type": "stream",
     "text": [
      "No main image div found in URL: https://www.nos.nl/artikel/2495531\n"
     ]
    },
    {
     "name": "stderr",
     "output_type": "stream",
     "text": [
      "Scraper going at...: 3388it [1:19:14,  1.23s/it]"
     ]
    },
    {
     "name": "stdout",
     "output_type": "stream",
     "text": [
      "No figcaption found for images in URL: https://www.nos.nl/artikel/2495524\n"
     ]
    },
    {
     "name": "stderr",
     "output_type": "stream",
     "text": [
      "Scraper going at...: 3393it [1:19:22,  1.64s/it]"
     ]
    },
    {
     "name": "stdout",
     "output_type": "stream",
     "text": [
      "No figcaption found for images in URL: https://www.nos.nl/artikel/2495517\n"
     ]
    },
    {
     "name": "stderr",
     "output_type": "stream",
     "text": [
      "Scraper going at...: 3399it [1:19:33,  1.67s/it]"
     ]
    },
    {
     "name": "stdout",
     "output_type": "stream",
     "text": [
      "No figcaption found for images in URL: https://www.nos.nl/artikel/2495504\n"
     ]
    },
    {
     "name": "stderr",
     "output_type": "stream",
     "text": [
      "Scraper going at...: 3405it [1:19:42,  1.45s/it]"
     ]
    },
    {
     "name": "stdout",
     "output_type": "stream",
     "text": [
      "No main image div found in URL: https://www.nos.nl/artikel/2495495\n"
     ]
    },
    {
     "name": "stderr",
     "output_type": "stream",
     "text": [
      "Scraper going at...: 3406it [1:19:43,  1.32s/it]"
     ]
    },
    {
     "name": "stdout",
     "output_type": "stream",
     "text": [
      "No main image div found in URL: https://www.nos.nl/artikel/2495494\n"
     ]
    },
    {
     "name": "stderr",
     "output_type": "stream",
     "text": [
      "Scraper going at...: 3407it [1:19:44,  1.31s/it]"
     ]
    },
    {
     "name": "stdout",
     "output_type": "stream",
     "text": [
      "No figcaption found for images in URL: https://www.nos.nl/artikel/2495491\n"
     ]
    },
    {
     "name": "stderr",
     "output_type": "stream",
     "text": [
      "Scraper going at...: 3412it [1:19:51,  1.35s/it]"
     ]
    },
    {
     "name": "stdout",
     "output_type": "stream",
     "text": [
      "No main image div found in URL: https://www.nos.nl/artikel/2495474\n"
     ]
    },
    {
     "name": "stderr",
     "output_type": "stream",
     "text": [
      "Scraper going at...: 3414it [1:19:53,  1.26s/it]"
     ]
    },
    {
     "name": "stdout",
     "output_type": "stream",
     "text": [
      "No main image div found in URL: https://www.nos.nl/artikel/2495471\n"
     ]
    },
    {
     "name": "stderr",
     "output_type": "stream",
     "text": [
      "Scraper going at...: 3418it [1:19:58,  1.22s/it]"
     ]
    },
    {
     "name": "stdout",
     "output_type": "stream",
     "text": [
      "No figcaption found for images in URL: https://www.nos.nl/artikel/2495464\n"
     ]
    },
    {
     "name": "stderr",
     "output_type": "stream",
     "text": [
      "Scraper going at...: 3419it [1:19:59,  1.16s/it]"
     ]
    },
    {
     "name": "stdout",
     "output_type": "stream",
     "text": [
      "No figcaption found for images in URL: https://www.nos.nl/artikel/2495461\n"
     ]
    },
    {
     "name": "stderr",
     "output_type": "stream",
     "text": [
      "Scraper going at...: 3421it [1:20:02,  1.17s/it]"
     ]
    },
    {
     "name": "stdout",
     "output_type": "stream",
     "text": [
      "No main image div found in URL: https://www.nos.nl/artikel/2495459\n"
     ]
    },
    {
     "name": "stderr",
     "output_type": "stream",
     "text": [
      "Scraper going at...: 3426it [1:20:13,  1.80s/it]"
     ]
    },
    {
     "name": "stdout",
     "output_type": "stream",
     "text": [
      "No figcaption found for images in URL: https://www.nos.nl/artikel/2495453\n"
     ]
    },
    {
     "name": "stderr",
     "output_type": "stream",
     "text": [
      "Scraper going at...: 3428it [1:20:15,  1.39s/it]"
     ]
    },
    {
     "name": "stdout",
     "output_type": "stream",
     "text": [
      "No figcaption found for images in URL: https://www.nos.nl/artikel/2495449\n"
     ]
    },
    {
     "name": "stderr",
     "output_type": "stream",
     "text": [
      "Scraper going at...: 3443it [1:20:35,  1.20s/it]"
     ]
    },
    {
     "name": "stdout",
     "output_type": "stream",
     "text": [
      "No figcaption found for images in URL: https://www.nos.nl/artikel/2495415\n"
     ]
    },
    {
     "name": "stderr",
     "output_type": "stream",
     "text": [
      "Scraper going at...: 3445it [1:20:37,  1.19s/it]"
     ]
    },
    {
     "name": "stdout",
     "output_type": "stream",
     "text": [
      "No figcaption found for images in URL: https://www.nos.nl/artikel/2495409\n"
     ]
    },
    {
     "name": "stderr",
     "output_type": "stream",
     "text": [
      "Scraper going at...: 3454it [1:20:49,  1.24s/it]"
     ]
    },
    {
     "name": "stdout",
     "output_type": "stream",
     "text": [
      "No figcaption found for images in URL: https://www.nos.nl/artikel/2495393\n"
     ]
    },
    {
     "name": "stderr",
     "output_type": "stream",
     "text": [
      "Scraper going at...: 3456it [1:20:55,  2.08s/it]"
     ]
    },
    {
     "name": "stdout",
     "output_type": "stream",
     "text": [
      "No main image div found in URL: https://www.nos.nl/artikel/2495383\n"
     ]
    },
    {
     "name": "stderr",
     "output_type": "stream",
     "text": [
      "Scraper going at...: 3460it [1:21:01,  1.48s/it]"
     ]
    },
    {
     "name": "stdout",
     "output_type": "stream",
     "text": [
      "No main image div found in URL: https://www.nos.nl/artikel/2495377\n"
     ]
    },
    {
     "name": "stderr",
     "output_type": "stream",
     "text": [
      "Scraper going at...: 3461it [1:21:02,  1.41s/it]"
     ]
    },
    {
     "name": "stdout",
     "output_type": "stream",
     "text": [
      "No main image div found in URL: https://www.nos.nl/artikel/2495374\n"
     ]
    },
    {
     "name": "stderr",
     "output_type": "stream",
     "text": [
      "Scraper going at...: 3464it [1:21:06,  1.34s/it]"
     ]
    },
    {
     "name": "stdout",
     "output_type": "stream",
     "text": [
      "No figcaption found for images in URL: https://www.nos.nl/artikel/2495366\n"
     ]
    },
    {
     "name": "stderr",
     "output_type": "stream",
     "text": [
      "Scraper going at...: 3465it [1:21:08,  1.42s/it]"
     ]
    },
    {
     "name": "stdout",
     "output_type": "stream",
     "text": [
      "No figcaption found for images in URL: https://www.nos.nl/artikel/2495362\n"
     ]
    },
    {
     "name": "stderr",
     "output_type": "stream",
     "text": [
      "Scraper going at...: 3466it [1:21:11,  1.91s/it]"
     ]
    },
    {
     "name": "stdout",
     "output_type": "stream",
     "text": [
      "No main image div found in URL: https://www.nos.nl/artikel/2495361\n"
     ]
    },
    {
     "name": "stderr",
     "output_type": "stream",
     "text": [
      "Scraper going at...: 3471it [1:21:17,  1.30s/it]"
     ]
    },
    {
     "name": "stdout",
     "output_type": "stream",
     "text": [
      "No main image div found in URL: https://www.nos.nl/artikel/2495351\n"
     ]
    },
    {
     "name": "stderr",
     "output_type": "stream",
     "text": [
      "Scraper going at...: 3477it [1:21:26,  1.59s/it]"
     ]
    },
    {
     "name": "stdout",
     "output_type": "stream",
     "text": [
      "No main image div found in URL: https://www.nos.nl/artikel/2495339\n"
     ]
    },
    {
     "name": "stderr",
     "output_type": "stream",
     "text": [
      "Scraper going at...: 3478it [1:21:27,  1.46s/it]"
     ]
    },
    {
     "name": "stdout",
     "output_type": "stream",
     "text": [
      "No figcaption found for images in URL: https://www.nos.nl/artikel/2495338\n"
     ]
    },
    {
     "name": "stderr",
     "output_type": "stream",
     "text": [
      "Scraper going at...: 3479it [1:21:28,  1.34s/it]"
     ]
    },
    {
     "name": "stdout",
     "output_type": "stream",
     "text": [
      "No figcaption found for images in URL: https://www.nos.nl/artikel/2495337\n"
     ]
    },
    {
     "name": "stderr",
     "output_type": "stream",
     "text": [
      "Scraper going at...: 3484it [1:21:33,  1.05s/it]"
     ]
    },
    {
     "name": "stdout",
     "output_type": "stream",
     "text": [
      "No main image div found in URL: https://www.nos.nl/artikel/2495326\n"
     ]
    },
    {
     "name": "stderr",
     "output_type": "stream",
     "text": [
      "Scraper going at...: 3485it [1:21:34,  1.06s/it]"
     ]
    },
    {
     "name": "stdout",
     "output_type": "stream",
     "text": [
      "No main image div found in URL: https://www.nos.nl/artikel/2495325\n"
     ]
    },
    {
     "name": "stderr",
     "output_type": "stream",
     "text": [
      "Scraper going at...: 3488it [1:21:38,  1.31s/it]"
     ]
    },
    {
     "name": "stdout",
     "output_type": "stream",
     "text": [
      "No figcaption found for images in URL: https://www.nos.nl/artikel/2495318\n"
     ]
    },
    {
     "name": "stderr",
     "output_type": "stream",
     "text": [
      "Scraper going at...: 3489it [1:21:40,  1.61s/it]"
     ]
    },
    {
     "name": "stdout",
     "output_type": "stream",
     "text": [
      "No main image div found in URL: https://www.nos.nl/artikel/2495314\n"
     ]
    },
    {
     "name": "stderr",
     "output_type": "stream",
     "text": [
      "Scraper going at...: 3492it [1:21:44,  1.26s/it]"
     ]
    },
    {
     "name": "stdout",
     "output_type": "stream",
     "text": [
      "No main image div found in URL: https://www.nos.nl/artikel/2495306\n"
     ]
    },
    {
     "name": "stderr",
     "output_type": "stream",
     "text": [
      "Scraper going at...: 3494it [1:21:46,  1.15s/it]"
     ]
    },
    {
     "name": "stdout",
     "output_type": "stream",
     "text": [
      "No figcaption found for images in URL: https://www.nos.nl/artikel/2495304\n"
     ]
    },
    {
     "name": "stderr",
     "output_type": "stream",
     "text": [
      "Scraper going at...: 3503it [1:21:57,  1.15s/it]"
     ]
    },
    {
     "name": "stdout",
     "output_type": "stream",
     "text": [
      "No figcaption found for images in URL: https://www.nos.nl/artikel/2495290\n"
     ]
    },
    {
     "name": "stderr",
     "output_type": "stream",
     "text": [
      "Scraper going at...: 3504it [1:21:58,  1.11s/it]"
     ]
    },
    {
     "name": "stdout",
     "output_type": "stream",
     "text": [
      "No figcaption found for images in URL: https://www.nos.nl/artikel/2495289\n"
     ]
    },
    {
     "name": "stderr",
     "output_type": "stream",
     "text": [
      "Scraper going at...: 3509it [1:22:05,  1.52s/it]"
     ]
    },
    {
     "name": "stdout",
     "output_type": "stream",
     "text": [
      "No main image div found in URL: https://www.nos.nl/artikel/2495283\n"
     ]
    },
    {
     "name": "stderr",
     "output_type": "stream",
     "text": [
      "Scraper going at...: 3512it [1:22:09,  1.31s/it]"
     ]
    },
    {
     "name": "stdout",
     "output_type": "stream",
     "text": [
      "No figcaption found for images in URL: https://www.nos.nl/artikel/2495278\n"
     ]
    },
    {
     "name": "stderr",
     "output_type": "stream",
     "text": [
      "Scraper going at...: 3521it [1:22:26,  1.84s/it]"
     ]
    },
    {
     "name": "stdout",
     "output_type": "stream",
     "text": [
      "No main image div found in URL: https://www.nos.nl/artikel/2495260\n"
     ]
    },
    {
     "name": "stderr",
     "output_type": "stream",
     "text": [
      "Scraper going at...: 3528it [1:22:40,  1.41s/it]"
     ]
    },
    {
     "name": "stdout",
     "output_type": "stream",
     "text": [
      "No figcaption found for images in URL: https://www.nos.nl/artikel/2495239\n"
     ]
    },
    {
     "name": "stderr",
     "output_type": "stream",
     "text": [
      "Scraper going at...: 3530it [1:22:48,  2.59s/it]"
     ]
    },
    {
     "name": "stdout",
     "output_type": "stream",
     "text": [
      "No figcaption found for images in URL: https://www.nos.nl/artikel/2495237\n"
     ]
    },
    {
     "name": "stderr",
     "output_type": "stream",
     "text": [
      "Scraper going at...: 3532it [1:22:50,  1.91s/it]"
     ]
    },
    {
     "name": "stdout",
     "output_type": "stream",
     "text": [
      "No figcaption found for images in URL: https://www.nos.nl/artikel/2495233\n"
     ]
    },
    {
     "name": "stderr",
     "output_type": "stream",
     "text": [
      "Scraper going at...: 3536it [1:22:56,  1.41s/it]"
     ]
    },
    {
     "name": "stdout",
     "output_type": "stream",
     "text": [
      "No main image div found in URL: https://www.nos.nl/artikel/2495226\n"
     ]
    },
    {
     "name": "stderr",
     "output_type": "stream",
     "text": [
      "Scraper going at...: 3539it [1:23:01,  1.59s/it]"
     ]
    },
    {
     "name": "stdout",
     "output_type": "stream",
     "text": [
      "No main image div found in URL: https://www.nos.nl/artikel/2495223\n"
     ]
    },
    {
     "name": "stderr",
     "output_type": "stream",
     "text": [
      "Scraper going at...: 3544it [1:23:07,  1.24s/it]"
     ]
    },
    {
     "name": "stdout",
     "output_type": "stream",
     "text": [
      "No figcaption found for images in URL: https://www.nos.nl/artikel/2495200\n"
     ]
    },
    {
     "name": "stderr",
     "output_type": "stream",
     "text": [
      "Scraper going at...: 3546it [1:23:10,  1.27s/it]"
     ]
    },
    {
     "name": "stdout",
     "output_type": "stream",
     "text": [
      "No main image div found in URL: https://www.nos.nl/artikel/2495194\n"
     ]
    },
    {
     "name": "stderr",
     "output_type": "stream",
     "text": [
      "Scraper going at...: 3548it [1:23:13,  1.39s/it]"
     ]
    },
    {
     "name": "stdout",
     "output_type": "stream",
     "text": [
      "No figcaption found for images in URL: https://www.nos.nl/artikel/2495190\n"
     ]
    },
    {
     "name": "stderr",
     "output_type": "stream",
     "text": [
      "Scraper going at...: 3550it [1:23:15,  1.31s/it]"
     ]
    },
    {
     "name": "stdout",
     "output_type": "stream",
     "text": [
      "No main image div found in URL: https://www.nos.nl/artikel/2495187\n"
     ]
    },
    {
     "name": "stderr",
     "output_type": "stream",
     "text": [
      "Scraper going at...: 3551it [1:23:16,  1.20s/it]"
     ]
    },
    {
     "name": "stdout",
     "output_type": "stream",
     "text": [
      "No figcaption found for images in URL: https://www.nos.nl/artikel/2495186\n"
     ]
    },
    {
     "name": "stderr",
     "output_type": "stream",
     "text": [
      "Scraper going at...: 3552it [1:23:18,  1.37s/it]"
     ]
    },
    {
     "name": "stdout",
     "output_type": "stream",
     "text": [
      "No figcaption found for images in URL: https://www.nos.nl/artikel/2495185\n"
     ]
    },
    {
     "name": "stderr",
     "output_type": "stream",
     "text": [
      "Scraper going at...: 3556it [1:23:22,  1.13s/it]"
     ]
    },
    {
     "name": "stdout",
     "output_type": "stream",
     "text": [
      "No main image div found in URL: https://www.nos.nl/artikel/2495178\n"
     ]
    },
    {
     "name": "stderr",
     "output_type": "stream",
     "text": [
      "Scraper going at...: 3559it [1:23:28,  1.76s/it]"
     ]
    },
    {
     "name": "stdout",
     "output_type": "stream",
     "text": [
      "No figcaption found for images in URL: https://www.nos.nl/artikel/2495166\n"
     ]
    },
    {
     "name": "stderr",
     "output_type": "stream",
     "text": [
      "Scraper going at...: 3561it [1:23:30,  1.45s/it]"
     ]
    },
    {
     "name": "stdout",
     "output_type": "stream",
     "text": [
      "No figcaption found for images in URL: https://www.nos.nl/artikel/2495154\n"
     ]
    },
    {
     "name": "stderr",
     "output_type": "stream",
     "text": [
      "Scraper going at...: 3562it [1:23:33,  1.91s/it]"
     ]
    },
    {
     "name": "stdout",
     "output_type": "stream",
     "text": [
      "No figcaption found for images in URL: https://www.nos.nl/artikel/2495152\n"
     ]
    },
    {
     "name": "stderr",
     "output_type": "stream",
     "text": [
      "Scraper going at...: 3564it [1:23:36,  1.65s/it]"
     ]
    },
    {
     "name": "stdout",
     "output_type": "stream",
     "text": [
      "No figcaption found for images in URL: https://www.nos.nl/artikel/2495149\n"
     ]
    },
    {
     "name": "stderr",
     "output_type": "stream",
     "text": [
      "Scraper going at...: 3571it [1:23:48,  1.96s/it]"
     ]
    },
    {
     "name": "stdout",
     "output_type": "stream",
     "text": [
      "No figcaption found for images in URL: https://www.nos.nl/artikel/2495135\n"
     ]
    },
    {
     "name": "stderr",
     "output_type": "stream",
     "text": [
      "Scraper going at...: 3574it [1:23:54,  1.72s/it]"
     ]
    },
    {
     "name": "stdout",
     "output_type": "stream",
     "text": [
      "No figcaption found for images in URL: https://www.nos.nl/artikel/2495129\n"
     ]
    },
    {
     "name": "stderr",
     "output_type": "stream",
     "text": [
      "Scraper going at...: 3575it [1:23:55,  1.66s/it]"
     ]
    },
    {
     "name": "stdout",
     "output_type": "stream",
     "text": [
      "No main image div found in URL: https://www.nos.nl/artikel/2495128\n"
     ]
    },
    {
     "name": "stderr",
     "output_type": "stream",
     "text": [
      "Scraper going at...: 3579it [1:24:02,  1.63s/it]"
     ]
    },
    {
     "name": "stdout",
     "output_type": "stream",
     "text": [
      "No figcaption found for images in URL: https://www.nos.nl/artikel/2495122\n"
     ]
    },
    {
     "name": "stderr",
     "output_type": "stream",
     "text": [
      "Scraper going at...: 3581it [1:24:04,  1.33s/it]"
     ]
    },
    {
     "name": "stdout",
     "output_type": "stream",
     "text": [
      "No figcaption found for images in URL: https://www.nos.nl/artikel/2495118\n"
     ]
    },
    {
     "name": "stderr",
     "output_type": "stream",
     "text": [
      "Scraper going at...: 3585it [1:24:09,  1.46s/it]"
     ]
    },
    {
     "name": "stdout",
     "output_type": "stream",
     "text": [
      "No figcaption found for images in URL: https://www.nos.nl/artikel/2495112\n"
     ]
    },
    {
     "name": "stderr",
     "output_type": "stream",
     "text": [
      "Scraper going at...: 3586it [1:24:10,  1.33s/it]"
     ]
    },
    {
     "name": "stdout",
     "output_type": "stream",
     "text": [
      "No figcaption found for images in URL: https://www.nos.nl/artikel/2495110\n"
     ]
    },
    {
     "name": "stderr",
     "output_type": "stream",
     "text": [
      "Scraper going at...: 3592it [1:24:17,  1.16s/it]"
     ]
    },
    {
     "name": "stdout",
     "output_type": "stream",
     "text": [
      "No figcaption found for images in URL: https://www.nos.nl/artikel/2495096\n"
     ]
    },
    {
     "name": "stderr",
     "output_type": "stream",
     "text": [
      "Scraper going at...: 3596it [1:24:22,  1.25s/it]"
     ]
    },
    {
     "name": "stdout",
     "output_type": "stream",
     "text": [
      "No figcaption found for images in URL: https://www.nos.nl/artikel/2495085\n"
     ]
    },
    {
     "name": "stderr",
     "output_type": "stream",
     "text": [
      "Scraper going at...: 3600it [1:24:27,  1.13s/it]"
     ]
    },
    {
     "name": "stdout",
     "output_type": "stream",
     "text": [
      "No main image div found in URL: https://www.nos.nl/artikel/2495074\n"
     ]
    },
    {
     "name": "stderr",
     "output_type": "stream",
     "text": [
      "Scraper going at...: 3604it [1:24:32,  1.25s/it]"
     ]
    },
    {
     "name": "stdout",
     "output_type": "stream",
     "text": [
      "No main image div found in URL: https://www.nos.nl/artikel/2495067\n"
     ]
    },
    {
     "name": "stderr",
     "output_type": "stream",
     "text": [
      "Scraper going at...: 3609it [1:24:37,  1.04s/it]"
     ]
    },
    {
     "name": "stdout",
     "output_type": "stream",
     "text": [
      "No figcaption found for images in URL: https://www.nos.nl/artikel/2495048\n"
     ]
    },
    {
     "name": "stderr",
     "output_type": "stream",
     "text": [
      "Scraper going at...: 3610it [1:24:38,  1.01s/it]"
     ]
    },
    {
     "name": "stdout",
     "output_type": "stream",
     "text": [
      "No figcaption found for images in URL: https://www.nos.nl/artikel/2495046\n"
     ]
    },
    {
     "name": "stderr",
     "output_type": "stream",
     "text": [
      "Scraper going at...: 3611it [1:24:42,  1.77s/it]"
     ]
    },
    {
     "name": "stdout",
     "output_type": "stream",
     "text": [
      "No figcaption found for images in URL: https://www.nos.nl/artikel/2495045\n"
     ]
    },
    {
     "name": "stderr",
     "output_type": "stream",
     "text": [
      "Scraper going at...: 3617it [1:24:50,  1.31s/it]"
     ]
    },
    {
     "name": "stdout",
     "output_type": "stream",
     "text": [
      "No figcaption found for images in URL: https://www.nos.nl/artikel/2495032\n"
     ]
    },
    {
     "name": "stderr",
     "output_type": "stream",
     "text": [
      "Scraper going at...: 3620it [1:24:54,  1.30s/it]"
     ]
    },
    {
     "name": "stdout",
     "output_type": "stream",
     "text": [
      "No main image div found in URL: https://www.nos.nl/artikel/2495028\n"
     ]
    },
    {
     "name": "stderr",
     "output_type": "stream",
     "text": [
      "Scraper going at...: 3623it [1:24:59,  1.49s/it]"
     ]
    },
    {
     "name": "stdout",
     "output_type": "stream",
     "text": [
      "No figcaption found for images in URL: https://www.nos.nl/artikel/2495014\n"
     ]
    },
    {
     "name": "stderr",
     "output_type": "stream",
     "text": [
      "Scraper going at...: 3625it [1:25:01,  1.36s/it]"
     ]
    },
    {
     "name": "stdout",
     "output_type": "stream",
     "text": [
      "No figcaption found for images in URL: https://www.nos.nl/artikel/2495012\n"
     ]
    },
    {
     "name": "stderr",
     "output_type": "stream",
     "text": [
      "Scraper going at...: 3626it [1:25:02,  1.25s/it]"
     ]
    },
    {
     "name": "stdout",
     "output_type": "stream",
     "text": [
      "No main image div found in URL: https://www.nos.nl/artikel/2495011\n"
     ]
    },
    {
     "name": "stderr",
     "output_type": "stream",
     "text": [
      "Scraper going at...: 3627it [1:25:04,  1.28s/it]"
     ]
    },
    {
     "name": "stdout",
     "output_type": "stream",
     "text": [
      "No main image div found in URL: https://www.nos.nl/artikel/2495009\n"
     ]
    },
    {
     "name": "stderr",
     "output_type": "stream",
     "text": [
      "Scraper going at...: 3628it [1:25:05,  1.26s/it]"
     ]
    },
    {
     "name": "stdout",
     "output_type": "stream",
     "text": [
      "No main image div found in URL: https://www.nos.nl/artikel/2495004\n"
     ]
    },
    {
     "name": "stderr",
     "output_type": "stream",
     "text": [
      "Scraper going at...: 3629it [1:25:06,  1.18s/it]"
     ]
    },
    {
     "name": "stdout",
     "output_type": "stream",
     "text": [
      "No main image div found in URL: https://www.nos.nl/artikel/2494983\n"
     ]
    },
    {
     "name": "stderr",
     "output_type": "stream",
     "text": [
      "Scraper going at...: 3634it [1:25:12,  1.11s/it]"
     ]
    },
    {
     "name": "stdout",
     "output_type": "stream",
     "text": [
      "No figcaption found for images in URL: https://www.nos.nl/artikel/2494976\n"
     ]
    },
    {
     "name": "stderr",
     "output_type": "stream",
     "text": [
      "Scraper going at...: 3636it [1:25:14,  1.16s/it]"
     ]
    },
    {
     "name": "stdout",
     "output_type": "stream",
     "text": [
      "No figcaption found for images in URL: https://www.nos.nl/artikel/2494968\n"
     ]
    },
    {
     "name": "stderr",
     "output_type": "stream",
     "text": [
      "Scraper going at...: 3638it [1:25:16,  1.12s/it]"
     ]
    },
    {
     "name": "stdout",
     "output_type": "stream",
     "text": [
      "No main image div found in URL: https://www.nos.nl/artikel/2494966\n"
     ]
    },
    {
     "name": "stderr",
     "output_type": "stream",
     "text": [
      "Scraper going at...: 3639it [1:25:17,  1.10s/it]"
     ]
    },
    {
     "name": "stdout",
     "output_type": "stream",
     "text": [
      "No main image div found in URL: https://www.nos.nl/artikel/2494965\n"
     ]
    },
    {
     "name": "stderr",
     "output_type": "stream",
     "text": [
      "Scraper going at...: 3643it [1:25:22,  1.16s/it]"
     ]
    },
    {
     "name": "stdout",
     "output_type": "stream",
     "text": [
      "No figcaption found for images in URL: https://www.nos.nl/artikel/2494959\n"
     ]
    },
    {
     "name": "stderr",
     "output_type": "stream",
     "text": [
      "Scraper going at...: 3644it [1:25:23,  1.15s/it]"
     ]
    },
    {
     "name": "stdout",
     "output_type": "stream",
     "text": [
      "No main image div found in URL: https://www.nos.nl/artikel/2494950\n"
     ]
    },
    {
     "name": "stderr",
     "output_type": "stream",
     "text": [
      "Scraper going at...: 3645it [1:25:25,  1.35s/it]"
     ]
    },
    {
     "name": "stdout",
     "output_type": "stream",
     "text": [
      "No main image div found in URL: https://www.nos.nl/artikel/2494949\n"
     ]
    },
    {
     "name": "stderr",
     "output_type": "stream",
     "text": [
      "Scraper going at...: 3647it [1:25:28,  1.30s/it]"
     ]
    },
    {
     "name": "stdout",
     "output_type": "stream",
     "text": [
      "No figcaption found for images in URL: https://www.nos.nl/artikel/2494944\n"
     ]
    },
    {
     "name": "stderr",
     "output_type": "stream",
     "text": [
      "Scraper going at...: 3650it [1:25:31,  1.20s/it]"
     ]
    },
    {
     "name": "stdout",
     "output_type": "stream",
     "text": [
      "No figcaption found for images in URL: https://www.nos.nl/artikel/2494940\n"
     ]
    },
    {
     "name": "stderr",
     "output_type": "stream",
     "text": [
      "Scraper going at...: 3657it [1:25:43,  1.54s/it]"
     ]
    },
    {
     "name": "stdout",
     "output_type": "stream",
     "text": [
      "No main image div found in URL: https://www.nos.nl/artikel/2494922\n"
     ]
    },
    {
     "name": "stderr",
     "output_type": "stream",
     "text": [
      "Scraper going at...: 3658it [1:25:44,  1.39s/it]"
     ]
    },
    {
     "name": "stdout",
     "output_type": "stream",
     "text": [
      "No figcaption found for images in URL: https://www.nos.nl/artikel/2494918\n"
     ]
    },
    {
     "name": "stderr",
     "output_type": "stream",
     "text": [
      "Scraper going at...: 3659it [1:25:45,  1.35s/it]"
     ]
    },
    {
     "name": "stdout",
     "output_type": "stream",
     "text": [
      "No figcaption found for images in URL: https://www.nos.nl/artikel/2494911\n"
     ]
    },
    {
     "name": "stderr",
     "output_type": "stream",
     "text": [
      "Scraper going at...: 3662it [1:25:48,  1.19s/it]"
     ]
    },
    {
     "name": "stdout",
     "output_type": "stream",
     "text": [
      "No main image div found in URL: https://www.nos.nl/artikel/2494904\n"
     ]
    },
    {
     "name": "stderr",
     "output_type": "stream",
     "text": [
      "Scraper going at...: 3665it [1:25:52,  1.17s/it]"
     ]
    },
    {
     "name": "stdout",
     "output_type": "stream",
     "text": [
      "No main image div found in URL: https://www.nos.nl/artikel/2494891\n"
     ]
    },
    {
     "name": "stderr",
     "output_type": "stream",
     "text": [
      "Scraper going at...: 3666it [1:25:54,  1.31s/it]"
     ]
    },
    {
     "name": "stdout",
     "output_type": "stream",
     "text": [
      "No main image div found in URL: https://www.nos.nl/artikel/2494888\n"
     ]
    },
    {
     "name": "stderr",
     "output_type": "stream",
     "text": [
      "Scraper going at...: 3668it [1:25:56,  1.29s/it]"
     ]
    },
    {
     "name": "stdout",
     "output_type": "stream",
     "text": [
      "No main image div found in URL: https://www.nos.nl/artikel/2494883\n"
     ]
    },
    {
     "name": "stderr",
     "output_type": "stream",
     "text": [
      "Scraper going at...: 3669it [1:25:57,  1.23s/it]"
     ]
    },
    {
     "name": "stdout",
     "output_type": "stream",
     "text": [
      "No figcaption found for images in URL: https://www.nos.nl/artikel/2494882\n"
     ]
    },
    {
     "name": "stderr",
     "output_type": "stream",
     "text": [
      "Scraper going at...: 3671it [1:25:59,  1.12s/it]"
     ]
    },
    {
     "name": "stdout",
     "output_type": "stream",
     "text": [
      "No main image div found in URL: https://www.nos.nl/artikel/2494875\n"
     ]
    },
    {
     "name": "stderr",
     "output_type": "stream",
     "text": [
      "Scraper going at...: 3672it [1:26:00,  1.16s/it]"
     ]
    },
    {
     "name": "stdout",
     "output_type": "stream",
     "text": [
      "No main image div found in URL: https://www.nos.nl/artikel/2494873\n"
     ]
    },
    {
     "name": "stderr",
     "output_type": "stream",
     "text": [
      "Scraper going at...: 3673it [1:26:02,  1.18s/it]"
     ]
    },
    {
     "name": "stdout",
     "output_type": "stream",
     "text": [
      "No main image div found in URL: https://www.nos.nl/artikel/2494872\n"
     ]
    },
    {
     "name": "stderr",
     "output_type": "stream",
     "text": [
      "Scraper going at...: 3676it [1:26:05,  1.15s/it]"
     ]
    },
    {
     "name": "stdout",
     "output_type": "stream",
     "text": [
      "No main image div found in URL: https://www.nos.nl/artikel/2494867\n"
     ]
    },
    {
     "name": "stderr",
     "output_type": "stream",
     "text": [
      "Scraper going at...: 3681it [1:26:13,  1.41s/it]"
     ]
    },
    {
     "name": "stdout",
     "output_type": "stream",
     "text": [
      "No figcaption found for images in URL: https://www.nos.nl/artikel/2494851\n"
     ]
    },
    {
     "name": "stderr",
     "output_type": "stream",
     "text": [
      "Scraper going at...: 3690it [1:26:28,  1.45s/it]"
     ]
    },
    {
     "name": "stdout",
     "output_type": "stream",
     "text": [
      "No figcaption found for images in URL: https://www.nos.nl/artikel/2494836\n"
     ]
    },
    {
     "name": "stderr",
     "output_type": "stream",
     "text": [
      "Scraper going at...: 3692it [1:26:30,  1.32s/it]"
     ]
    },
    {
     "name": "stdout",
     "output_type": "stream",
     "text": [
      "No main image div found in URL: https://www.nos.nl/artikel/2494832\n"
     ]
    },
    {
     "name": "stderr",
     "output_type": "stream",
     "text": [
      "Scraper going at...: 3707it [1:26:51,  1.34s/it]"
     ]
    },
    {
     "name": "stdout",
     "output_type": "stream",
     "text": [
      "No figcaption found for images in URL: https://www.nos.nl/artikel/2494794\n"
     ]
    },
    {
     "name": "stderr",
     "output_type": "stream",
     "text": [
      "Scraper going at...: 3708it [1:26:53,  1.41s/it]"
     ]
    },
    {
     "name": "stdout",
     "output_type": "stream",
     "text": [
      "No figcaption found for images in URL: https://www.nos.nl/artikel/2494792\n"
     ]
    },
    {
     "name": "stderr",
     "output_type": "stream",
     "text": [
      "Scraper going at...: 3714it [1:27:00,  1.29s/it]"
     ]
    },
    {
     "name": "stdout",
     "output_type": "stream",
     "text": [
      "No figcaption found for images in URL: https://www.nos.nl/artikel/2494783\n"
     ]
    },
    {
     "name": "stderr",
     "output_type": "stream",
     "text": [
      "Scraper going at...: 3715it [1:27:01,  1.23s/it]"
     ]
    },
    {
     "name": "stdout",
     "output_type": "stream",
     "text": [
      "No figcaption found for images in URL: https://www.nos.nl/artikel/2494780\n"
     ]
    },
    {
     "name": "stderr",
     "output_type": "stream",
     "text": [
      "Scraper going at...: 3716it [1:27:03,  1.20s/it]"
     ]
    },
    {
     "name": "stdout",
     "output_type": "stream",
     "text": [
      "No main image div found in URL: https://www.nos.nl/artikel/2494779\n"
     ]
    },
    {
     "name": "stderr",
     "output_type": "stream",
     "text": [
      "Scraper going at...: 3723it [1:27:13,  1.24s/it]"
     ]
    },
    {
     "name": "stdout",
     "output_type": "stream",
     "text": [
      "No main image div found in URL: https://www.nos.nl/artikel/2494763\n"
     ]
    },
    {
     "name": "stderr",
     "output_type": "stream",
     "text": [
      "Scraper going at...: 3732it [1:27:26,  1.68s/it]"
     ]
    },
    {
     "name": "stdout",
     "output_type": "stream",
     "text": [
      "No figcaption found for images in URL: https://www.nos.nl/artikel/2494748\n"
     ]
    },
    {
     "name": "stderr",
     "output_type": "stream",
     "text": [
      "Scraper going at...: 3735it [1:27:30,  1.27s/it]"
     ]
    },
    {
     "name": "stdout",
     "output_type": "stream",
     "text": [
      "No figcaption found for images in URL: https://www.nos.nl/artikel/2494738\n"
     ]
    },
    {
     "name": "stderr",
     "output_type": "stream",
     "text": [
      "Scraper going at...: 3741it [1:27:37,  1.37s/it]"
     ]
    },
    {
     "name": "stdout",
     "output_type": "stream",
     "text": [
      "No main image div found in URL: https://www.nos.nl/artikel/2494731\n"
     ]
    },
    {
     "name": "stderr",
     "output_type": "stream",
     "text": [
      "Scraper going at...: 3744it [1:27:41,  1.21s/it]"
     ]
    },
    {
     "name": "stdout",
     "output_type": "stream",
     "text": [
      "No figcaption found for images in URL: https://www.nos.nl/artikel/2494725\n"
     ]
    },
    {
     "name": "stderr",
     "output_type": "stream",
     "text": [
      "Scraper going at...: 3755it [1:28:07,  2.46s/it]"
     ]
    },
    {
     "name": "stdout",
     "output_type": "stream",
     "text": [
      "No figcaption found for images in URL: https://www.nos.nl/artikel/2494704\n"
     ]
    },
    {
     "name": "stderr",
     "output_type": "stream",
     "text": [
      "Scraper going at...: 3756it [1:28:08,  2.01s/it]"
     ]
    },
    {
     "name": "stdout",
     "output_type": "stream",
     "text": [
      "No figcaption found for images in URL: https://www.nos.nl/artikel/2494703\n"
     ]
    },
    {
     "name": "stderr",
     "output_type": "stream",
     "text": [
      "Scraper going at...: 3758it [1:28:11,  1.77s/it]"
     ]
    },
    {
     "name": "stdout",
     "output_type": "stream",
     "text": [
      "No figcaption found for images in URL: https://www.nos.nl/artikel/2494698\n"
     ]
    },
    {
     "name": "stderr",
     "output_type": "stream",
     "text": [
      "Scraper going at...: 3759it [1:28:12,  1.52s/it]"
     ]
    },
    {
     "name": "stdout",
     "output_type": "stream",
     "text": [
      "No main image div found in URL: https://www.nos.nl/artikel/2494694\n"
     ]
    },
    {
     "name": "stderr",
     "output_type": "stream",
     "text": [
      "Scraper going at...: 3760it [1:28:13,  1.38s/it]"
     ]
    },
    {
     "name": "stdout",
     "output_type": "stream",
     "text": [
      "No figcaption found for images in URL: https://www.nos.nl/artikel/2494693\n"
     ]
    },
    {
     "name": "stderr",
     "output_type": "stream",
     "text": [
      "Scraper going at...: 3761it [1:28:14,  1.27s/it]"
     ]
    },
    {
     "name": "stdout",
     "output_type": "stream",
     "text": [
      "No figcaption found for images in URL: https://www.nos.nl/artikel/2494692\n"
     ]
    },
    {
     "name": "stderr",
     "output_type": "stream",
     "text": [
      "Scraper going at...: 3765it [1:28:19,  1.28s/it]"
     ]
    },
    {
     "name": "stdout",
     "output_type": "stream",
     "text": [
      "No figcaption found for images in URL: https://www.nos.nl/artikel/2494684\n"
     ]
    },
    {
     "name": "stderr",
     "output_type": "stream",
     "text": [
      "Scraper going at...: 3769it [1:28:23,  1.11s/it]"
     ]
    },
    {
     "name": "stdout",
     "output_type": "stream",
     "text": [
      "No main image div found in URL: https://www.nos.nl/artikel/2494678\n"
     ]
    },
    {
     "name": "stderr",
     "output_type": "stream",
     "text": [
      "Scraper going at...: 3773it [1:28:28,  1.08s/it]"
     ]
    },
    {
     "name": "stdout",
     "output_type": "stream",
     "text": [
      "No main image div found in URL: https://www.nos.nl/artikel/2494671\n"
     ]
    },
    {
     "name": "stderr",
     "output_type": "stream",
     "text": [
      "Scraper going at...: 3778it [1:28:36,  1.59s/it]"
     ]
    },
    {
     "name": "stdout",
     "output_type": "stream",
     "text": [
      "No figcaption found for images in URL: https://www.nos.nl/artikel/2494657\n"
     ]
    },
    {
     "name": "stderr",
     "output_type": "stream",
     "text": [
      "Scraper going at...: 3780it [1:28:38,  1.31s/it]"
     ]
    },
    {
     "name": "stdout",
     "output_type": "stream",
     "text": [
      "No figcaption found for images in URL: https://www.nos.nl/artikel/2494655\n"
     ]
    },
    {
     "name": "stderr",
     "output_type": "stream",
     "text": [
      "Scraper going at...: 3781it [1:28:40,  1.36s/it]"
     ]
    },
    {
     "name": "stdout",
     "output_type": "stream",
     "text": [
      "No main image div found in URL: https://www.nos.nl/artikel/2494654\n"
     ]
    },
    {
     "name": "stderr",
     "output_type": "stream",
     "text": [
      "Scraper going at...: 3791it [1:28:52,  1.20s/it]"
     ]
    },
    {
     "name": "stdout",
     "output_type": "stream",
     "text": [
      "No main image div found in URL: https://www.nos.nl/artikel/2494631\n"
     ]
    },
    {
     "name": "stderr",
     "output_type": "stream",
     "text": [
      "Scraper going at...: 3794it [1:28:56,  1.10s/it]"
     ]
    },
    {
     "name": "stdout",
     "output_type": "stream",
     "text": [
      "No figcaption found for images in URL: https://www.nos.nl/artikel/2494628\n"
     ]
    },
    {
     "name": "stderr",
     "output_type": "stream",
     "text": [
      "Scraper going at...: 3802it [1:29:10,  1.76s/it]"
     ]
    },
    {
     "name": "stdout",
     "output_type": "stream",
     "text": [
      "No figcaption found for images in URL: https://www.nos.nl/artikel/2494620\n"
     ]
    },
    {
     "name": "stderr",
     "output_type": "stream",
     "text": [
      "Scraper going at...: 3803it [1:29:12,  1.80s/it]"
     ]
    },
    {
     "name": "stdout",
     "output_type": "stream",
     "text": [
      "No figcaption found for images in URL: https://www.nos.nl/artikel/2494619\n"
     ]
    },
    {
     "name": "stderr",
     "output_type": "stream",
     "text": [
      "Scraper going at...: 3807it [1:29:16,  1.18s/it]"
     ]
    },
    {
     "name": "stdout",
     "output_type": "stream",
     "text": [
      "No main image div found in URL: https://www.nos.nl/artikel/2494606\n"
     ]
    },
    {
     "name": "stderr",
     "output_type": "stream",
     "text": [
      "Scraper going at...: 3809it [1:29:18,  1.12s/it]"
     ]
    },
    {
     "name": "stdout",
     "output_type": "stream",
     "text": [
      "No figcaption found for images in URL: https://www.nos.nl/artikel/2494601\n"
     ]
    },
    {
     "name": "stderr",
     "output_type": "stream",
     "text": [
      "Scraper going at...: 3810it [1:29:19,  1.08s/it]"
     ]
    },
    {
     "name": "stdout",
     "output_type": "stream",
     "text": [
      "No figcaption found for images in URL: https://www.nos.nl/artikel/2494599\n"
     ]
    },
    {
     "name": "stderr",
     "output_type": "stream",
     "text": [
      "Scraper going at...: 3811it [1:29:20,  1.07s/it]"
     ]
    },
    {
     "name": "stdout",
     "output_type": "stream",
     "text": [
      "No figcaption found for images in URL: https://www.nos.nl/artikel/2494598\n"
     ]
    },
    {
     "name": "stderr",
     "output_type": "stream",
     "text": [
      "Scraper going at...: 3813it [1:29:23,  1.32s/it]"
     ]
    },
    {
     "name": "stdout",
     "output_type": "stream",
     "text": [
      "No figcaption found for images in URL: https://www.nos.nl/artikel/2494596\n"
     ]
    },
    {
     "name": "stderr",
     "output_type": "stream",
     "text": [
      "Scraper going at...: 3814it [1:29:24,  1.22s/it]"
     ]
    },
    {
     "name": "stdout",
     "output_type": "stream",
     "text": [
      "No main image div found in URL: https://www.nos.nl/artikel/2494595\n"
     ]
    },
    {
     "name": "stderr",
     "output_type": "stream",
     "text": [
      "Scraper going at...: 3818it [1:29:29,  1.20s/it]"
     ]
    },
    {
     "name": "stdout",
     "output_type": "stream",
     "text": [
      "No figcaption found for images in URL: https://www.nos.nl/artikel/2494590\n"
     ]
    },
    {
     "name": "stderr",
     "output_type": "stream",
     "text": [
      "Scraper going at...: 3819it [1:29:30,  1.13s/it]"
     ]
    },
    {
     "name": "stdout",
     "output_type": "stream",
     "text": [
      "No main image div found in URL: https://www.nos.nl/artikel/2494589\n"
     ]
    },
    {
     "name": "stderr",
     "output_type": "stream",
     "text": [
      "Scraper going at...: 3821it [1:29:34,  1.54s/it]"
     ]
    },
    {
     "name": "stdout",
     "output_type": "stream",
     "text": [
      "No main image div found in URL: https://www.nos.nl/artikel/2494586\n"
     ]
    },
    {
     "name": "stderr",
     "output_type": "stream",
     "text": [
      "Scraper going at...: 3823it [1:29:39,  2.16s/it]"
     ]
    },
    {
     "name": "stdout",
     "output_type": "stream",
     "text": [
      "No main image div found in URL: https://www.nos.nl/artikel/2494574\n"
     ]
    },
    {
     "name": "stderr",
     "output_type": "stream",
     "text": [
      "Scraper going at...: 3825it [1:29:42,  1.79s/it]"
     ]
    },
    {
     "name": "stdout",
     "output_type": "stream",
     "text": [
      "No main image div found in URL: https://www.nos.nl/artikel/2494572\n"
     ]
    },
    {
     "name": "stderr",
     "output_type": "stream",
     "text": [
      "Scraper going at...: 3827it [1:29:44,  1.42s/it]"
     ]
    },
    {
     "name": "stdout",
     "output_type": "stream",
     "text": [
      "No main image div found in URL: https://www.nos.nl/artikel/2494566\n"
     ]
    },
    {
     "name": "stderr",
     "output_type": "stream",
     "text": [
      "Scraper going at...: 3833it [1:29:51,  1.19s/it]"
     ]
    },
    {
     "name": "stdout",
     "output_type": "stream",
     "text": [
      "No figcaption found for images in URL: https://www.nos.nl/artikel/2494548\n"
     ]
    },
    {
     "name": "stderr",
     "output_type": "stream",
     "text": [
      "Scraper going at...: 3835it [1:29:53,  1.13s/it]"
     ]
    },
    {
     "name": "stdout",
     "output_type": "stream",
     "text": [
      "No main image div found in URL: https://www.nos.nl/artikel/2494545\n"
     ]
    },
    {
     "name": "stderr",
     "output_type": "stream",
     "text": [
      "Scraper going at...: 3840it [1:30:02,  1.55s/it]"
     ]
    },
    {
     "name": "stdout",
     "output_type": "stream",
     "text": [
      "No figcaption found for images in URL: https://www.nos.nl/artikel/2494537\n"
     ]
    },
    {
     "name": "stderr",
     "output_type": "stream",
     "text": [
      "Scraper going at...: 3841it [1:30:03,  1.41s/it]"
     ]
    },
    {
     "name": "stdout",
     "output_type": "stream",
     "text": [
      "No figcaption found for images in URL: https://www.nos.nl/artikel/2494536\n"
     ]
    },
    {
     "name": "stderr",
     "output_type": "stream",
     "text": [
      "Scraper going at...: 3849it [1:30:16,  1.38s/it]"
     ]
    },
    {
     "name": "stdout",
     "output_type": "stream",
     "text": [
      "No figcaption found for images in URL: https://www.nos.nl/artikel/2494523\n"
     ]
    },
    {
     "name": "stderr",
     "output_type": "stream",
     "text": [
      "Scraper going at...: 3854it [1:30:28,  1.97s/it]"
     ]
    },
    {
     "name": "stdout",
     "output_type": "stream",
     "text": [
      "No figcaption found for images in URL: https://www.nos.nl/artikel/2494514\n"
     ]
    },
    {
     "name": "stderr",
     "output_type": "stream",
     "text": [
      "Scraper going at...: 3855it [1:30:29,  1.80s/it]"
     ]
    },
    {
     "name": "stdout",
     "output_type": "stream",
     "text": [
      "No main image div found in URL: https://www.nos.nl/artikel/2494512\n"
     ]
    },
    {
     "name": "stderr",
     "output_type": "stream",
     "text": [
      "Scraper going at...: 3857it [1:30:32,  1.50s/it]"
     ]
    },
    {
     "name": "stdout",
     "output_type": "stream",
     "text": [
      "No main image div found in URL: https://www.nos.nl/artikel/2494507\n"
     ]
    },
    {
     "name": "stderr",
     "output_type": "stream",
     "text": [
      "Scraper going at...: 3859it [1:30:36,  1.79s/it]"
     ]
    },
    {
     "name": "stdout",
     "output_type": "stream",
     "text": [
      "No main image div found in URL: https://www.nos.nl/artikel/2494500\n"
     ]
    },
    {
     "name": "stderr",
     "output_type": "stream",
     "text": [
      "Scraper going at...: 3861it [1:30:41,  2.30s/it]"
     ]
    },
    {
     "name": "stdout",
     "output_type": "stream",
     "text": [
      "No figcaption found for images in URL: https://www.nos.nl/artikel/2494493\n"
     ]
    },
    {
     "name": "stderr",
     "output_type": "stream",
     "text": [
      "Scraper going at...: 3865it [1:30:47,  1.62s/it]"
     ]
    },
    {
     "name": "stdout",
     "output_type": "stream",
     "text": [
      "No figcaption found for images in URL: https://www.nos.nl/artikel/2494486\n"
     ]
    },
    {
     "name": "stderr",
     "output_type": "stream",
     "text": [
      "Scraper going at...: 3871it [1:30:54,  1.26s/it]"
     ]
    },
    {
     "name": "stdout",
     "output_type": "stream",
     "text": [
      "No figcaption found for images in URL: https://www.nos.nl/artikel/2494476\n"
     ]
    },
    {
     "name": "stderr",
     "output_type": "stream",
     "text": [
      "Scraper going at...: 3875it [1:30:59,  1.20s/it]"
     ]
    },
    {
     "name": "stdout",
     "output_type": "stream",
     "text": [
      "No figcaption found for images in URL: https://www.nos.nl/artikel/2494465\n"
     ]
    },
    {
     "name": "stderr",
     "output_type": "stream",
     "text": [
      "Scraper going at...: 3876it [1:31:00,  1.22s/it]"
     ]
    },
    {
     "name": "stdout",
     "output_type": "stream",
     "text": [
      "No figcaption found for images in URL: https://www.nos.nl/artikel/2494462\n"
     ]
    },
    {
     "name": "stderr",
     "output_type": "stream",
     "text": [
      "Scraper going at...: 3878it [1:31:04,  1.47s/it]"
     ]
    },
    {
     "name": "stdout",
     "output_type": "stream",
     "text": [
      "No figcaption found for images in URL: https://www.nos.nl/artikel/2494458\n"
     ]
    },
    {
     "name": "stderr",
     "output_type": "stream",
     "text": [
      "Scraper going at...: 3884it [1:31:12,  1.46s/it]"
     ]
    },
    {
     "name": "stdout",
     "output_type": "stream",
     "text": [
      "No main image div found in URL: https://www.nos.nl/artikel/2494449\n"
     ]
    },
    {
     "name": "stderr",
     "output_type": "stream",
     "text": [
      "Scraper going at...: 3890it [1:31:24,  1.82s/it]"
     ]
    },
    {
     "name": "stdout",
     "output_type": "stream",
     "text": [
      "No figcaption found for images in URL: https://www.nos.nl/artikel/2494434\n"
     ]
    },
    {
     "name": "stderr",
     "output_type": "stream",
     "text": [
      "Scraper going at...: 3891it [1:31:25,  1.71s/it]"
     ]
    },
    {
     "name": "stdout",
     "output_type": "stream",
     "text": [
      "No figcaption found for images in URL: https://www.nos.nl/artikel/2494433\n"
     ]
    },
    {
     "name": "stderr",
     "output_type": "stream",
     "text": [
      "Scraper going at...: 3892it [1:31:26,  1.56s/it]"
     ]
    },
    {
     "name": "stdout",
     "output_type": "stream",
     "text": [
      "No figcaption found for images in URL: https://www.nos.nl/artikel/2494431\n"
     ]
    },
    {
     "name": "stderr",
     "output_type": "stream",
     "text": [
      "Scraper going at...: 3897it [1:31:32,  1.18s/it]"
     ]
    },
    {
     "name": "stdout",
     "output_type": "stream",
     "text": [
      "No figcaption found for images in URL: https://www.nos.nl/artikel/2494420\n"
     ]
    },
    {
     "name": "stderr",
     "output_type": "stream",
     "text": [
      "Scraper going at...: 3898it [1:31:34,  1.58s/it]"
     ]
    },
    {
     "name": "stdout",
     "output_type": "stream",
     "text": [
      "No main image div found in URL: https://www.nos.nl/artikel/2494419\n"
     ]
    },
    {
     "name": "stderr",
     "output_type": "stream",
     "text": [
      "Scraper going at...: 3903it [1:31:40,  1.13s/it]"
     ]
    },
    {
     "name": "stdout",
     "output_type": "stream",
     "text": [
      "No figcaption found for images in URL: https://www.nos.nl/artikel/2494412\n"
     ]
    },
    {
     "name": "stderr",
     "output_type": "stream",
     "text": [
      "Scraper going at...: 3907it [1:31:49,  2.22s/it]"
     ]
    },
    {
     "name": "stdout",
     "output_type": "stream",
     "text": [
      "No figcaption found for images in URL: https://www.nos.nl/artikel/2494402\n"
     ]
    },
    {
     "name": "stderr",
     "output_type": "stream",
     "text": [
      "Scraper going at...: 3910it [1:31:52,  1.47s/it]"
     ]
    },
    {
     "name": "stdout",
     "output_type": "stream",
     "text": [
      "No figcaption found for images in URL: https://www.nos.nl/artikel/2494397\n"
     ]
    },
    {
     "name": "stderr",
     "output_type": "stream",
     "text": [
      "Scraper going at...: 3913it [1:31:57,  1.51s/it]"
     ]
    },
    {
     "name": "stdout",
     "output_type": "stream",
     "text": [
      "No figcaption found for images in URL: https://www.nos.nl/artikel/2494388\n"
     ]
    },
    {
     "name": "stderr",
     "output_type": "stream",
     "text": [
      "Scraper going at...: 3918it [1:32:02,  1.13s/it]"
     ]
    },
    {
     "name": "stdout",
     "output_type": "stream",
     "text": [
      "No figcaption found for images in URL: https://www.nos.nl/artikel/2494374\n"
     ]
    },
    {
     "name": "stderr",
     "output_type": "stream",
     "text": [
      "Scraper going at...: 3925it [1:32:12,  1.27s/it]"
     ]
    },
    {
     "name": "stdout",
     "output_type": "stream",
     "text": [
      "No figcaption found for images in URL: https://www.nos.nl/artikel/2494361\n"
     ]
    },
    {
     "name": "stderr",
     "output_type": "stream",
     "text": [
      "Scraper going at...: 3930it [1:32:20,  1.50s/it]"
     ]
    },
    {
     "name": "stdout",
     "output_type": "stream",
     "text": [
      "No main image div found in URL: https://www.nos.nl/artikel/2494354\n"
     ]
    },
    {
     "name": "stderr",
     "output_type": "stream",
     "text": [
      "Scraper going at...: 3933it [1:32:26,  1.61s/it]"
     ]
    },
    {
     "name": "stdout",
     "output_type": "stream",
     "text": [
      "No main image div found in URL: https://www.nos.nl/artikel/2494336\n"
     ]
    },
    {
     "name": "stderr",
     "output_type": "stream",
     "text": [
      "Scraper going at...: 3937it [1:32:30,  1.20s/it]"
     ]
    },
    {
     "name": "stdout",
     "output_type": "stream",
     "text": [
      "No figcaption found for images in URL: https://www.nos.nl/artikel/2494325\n"
     ]
    },
    {
     "name": "stderr",
     "output_type": "stream",
     "text": [
      "Scraper going at...: 3939it [1:32:32,  1.23s/it]"
     ]
    },
    {
     "name": "stdout",
     "output_type": "stream",
     "text": [
      "No main image div found in URL: https://www.nos.nl/artikel/2494318\n"
     ]
    },
    {
     "name": "stderr",
     "output_type": "stream",
     "text": [
      "Scraper going at...: 3942it [1:32:38,  1.66s/it]"
     ]
    },
    {
     "name": "stdout",
     "output_type": "stream",
     "text": [
      "No main image div found in URL: https://www.nos.nl/artikel/2494309\n"
     ]
    },
    {
     "name": "stderr",
     "output_type": "stream",
     "text": [
      "Scraper going at...: 3943it [1:32:39,  1.47s/it]"
     ]
    },
    {
     "name": "stdout",
     "output_type": "stream",
     "text": [
      "No figcaption found for images in URL: https://www.nos.nl/artikel/2494307\n"
     ]
    },
    {
     "name": "stderr",
     "output_type": "stream",
     "text": [
      "Scraper going at...: 3944it [1:32:40,  1.34s/it]"
     ]
    },
    {
     "name": "stdout",
     "output_type": "stream",
     "text": [
      "No figcaption found for images in URL: https://www.nos.nl/artikel/2494306\n"
     ]
    },
    {
     "name": "stderr",
     "output_type": "stream",
     "text": [
      "Scraper going at...: 3949it [1:32:47,  1.26s/it]"
     ]
    },
    {
     "name": "stdout",
     "output_type": "stream",
     "text": [
      "No figcaption found for images in URL: https://www.nos.nl/artikel/2494299\n"
     ]
    },
    {
     "name": "stderr",
     "output_type": "stream",
     "text": [
      "Scraper going at...: 3953it [1:32:51,  1.09s/it]"
     ]
    },
    {
     "name": "stdout",
     "output_type": "stream",
     "text": [
      "No figcaption found for images in URL: https://www.nos.nl/artikel/2494294\n"
     ]
    },
    {
     "name": "stderr",
     "output_type": "stream",
     "text": [
      "Scraper going at...: 3954it [1:32:52,  1.08s/it]"
     ]
    },
    {
     "name": "stdout",
     "output_type": "stream",
     "text": [
      "No figcaption found for images in URL: https://www.nos.nl/artikel/2494292\n"
     ]
    },
    {
     "name": "stderr",
     "output_type": "stream",
     "text": [
      "Scraper going at...: 3955it [1:32:53,  1.07s/it]"
     ]
    },
    {
     "name": "stdout",
     "output_type": "stream",
     "text": [
      "No main image div found in URL: https://www.nos.nl/artikel/2494290\n"
     ]
    },
    {
     "name": "stderr",
     "output_type": "stream",
     "text": [
      "Scraper going at...: 3958it [1:32:59,  1.63s/it]"
     ]
    },
    {
     "name": "stdout",
     "output_type": "stream",
     "text": [
      "No main image div found in URL: https://www.nos.nl/artikel/2494287\n"
     ]
    },
    {
     "name": "stderr",
     "output_type": "stream",
     "text": [
      "Scraper going at...: 3961it [1:33:03,  1.38s/it]"
     ]
    },
    {
     "name": "stdout",
     "output_type": "stream",
     "text": [
      "No figcaption found for images in URL: https://www.nos.nl/artikel/2494279\n"
     ]
    },
    {
     "name": "stderr",
     "output_type": "stream",
     "text": [
      "Scraper going at...: 3966it [1:33:12,  1.81s/it]"
     ]
    },
    {
     "name": "stdout",
     "output_type": "stream",
     "text": [
      "No figcaption found for images in URL: https://www.nos.nl/artikel/2494273\n"
     ]
    },
    {
     "name": "stderr",
     "output_type": "stream",
     "text": [
      "Scraper going at...: 3971it [1:33:18,  1.41s/it]"
     ]
    },
    {
     "name": "stdout",
     "output_type": "stream",
     "text": [
      "No figcaption found for images in URL: https://www.nos.nl/artikel/2494265\n"
     ]
    },
    {
     "name": "stderr",
     "output_type": "stream",
     "text": [
      "Scraper going at...: 3972it [1:33:19,  1.30s/it]"
     ]
    },
    {
     "name": "stdout",
     "output_type": "stream",
     "text": [
      "No figcaption found for images in URL: https://www.nos.nl/artikel/2494264\n"
     ]
    },
    {
     "name": "stderr",
     "output_type": "stream",
     "text": [
      "Scraper going at...: 3976it [1:33:24,  1.15s/it]"
     ]
    },
    {
     "name": "stdout",
     "output_type": "stream",
     "text": [
      "No figcaption found for images in URL: https://www.nos.nl/artikel/2494247\n"
     ]
    },
    {
     "name": "stderr",
     "output_type": "stream",
     "text": [
      "Scraper going at...: 3978it [1:33:27,  1.33s/it]"
     ]
    },
    {
     "name": "stdout",
     "output_type": "stream",
     "text": [
      "No figcaption found for images in URL: https://www.nos.nl/artikel/2494240\n"
     ]
    },
    {
     "name": "stderr",
     "output_type": "stream",
     "text": [
      "Scraper going at...: 3982it [1:33:32,  1.29s/it]"
     ]
    },
    {
     "name": "stdout",
     "output_type": "stream",
     "text": [
      "No figcaption found for images in URL: https://www.nos.nl/artikel/2494235\n"
     ]
    },
    {
     "name": "stderr",
     "output_type": "stream",
     "text": [
      "Scraper going at...: 3984it [1:33:34,  1.23s/it]"
     ]
    },
    {
     "name": "stdout",
     "output_type": "stream",
     "text": [
      "No main image div found in URL: https://www.nos.nl/artikel/2494233\n"
     ]
    },
    {
     "name": "stderr",
     "output_type": "stream",
     "text": [
      "Scraper going at...: 3988it [1:33:40,  1.40s/it]"
     ]
    },
    {
     "name": "stdout",
     "output_type": "stream",
     "text": [
      "No main image div found in URL: https://www.nos.nl/artikel/2494212\n"
     ]
    },
    {
     "name": "stderr",
     "output_type": "stream",
     "text": [
      "Scraper going at...: 3989it [1:33:41,  1.31s/it]"
     ]
    },
    {
     "name": "stdout",
     "output_type": "stream",
     "text": [
      "No figcaption found for images in URL: https://www.nos.nl/artikel/2494211\n"
     ]
    },
    {
     "name": "stderr",
     "output_type": "stream",
     "text": [
      "Scraper going at...: 3990it [1:33:42,  1.24s/it]"
     ]
    },
    {
     "name": "stdout",
     "output_type": "stream",
     "text": [
      "No figcaption found for images in URL: https://www.nos.nl/artikel/2494210\n"
     ]
    },
    {
     "name": "stderr",
     "output_type": "stream",
     "text": [
      "Scraper going at...: 3994it [1:33:49,  1.59s/it]"
     ]
    },
    {
     "name": "stdout",
     "output_type": "stream",
     "text": [
      "No main image div found in URL: https://www.nos.nl/artikel/2494198\n"
     ]
    },
    {
     "name": "stderr",
     "output_type": "stream",
     "text": [
      "Scraper going at...: 3996it [1:33:51,  1.33s/it]"
     ]
    },
    {
     "name": "stdout",
     "output_type": "stream",
     "text": [
      "No figcaption found for images in URL: https://www.nos.nl/artikel/2494188\n"
     ]
    },
    {
     "name": "stderr",
     "output_type": "stream",
     "text": [
      "Scraper going at...: 4003it [1:34:05,  1.70s/it]"
     ]
    },
    {
     "name": "stdout",
     "output_type": "stream",
     "text": [
      "No main image div found in URL: https://www.nos.nl/artikel/2494176\n"
     ]
    },
    {
     "name": "stderr",
     "output_type": "stream",
     "text": [
      "Scraper going at...: 4004it [1:34:06,  1.50s/it]"
     ]
    },
    {
     "name": "stdout",
     "output_type": "stream",
     "text": [
      "No main image div found in URL: https://www.nos.nl/artikel/2494175\n"
     ]
    },
    {
     "name": "stderr",
     "output_type": "stream",
     "text": [
      "Scraper going at...: 4006it [1:34:10,  1.80s/it]"
     ]
    },
    {
     "name": "stdout",
     "output_type": "stream",
     "text": [
      "No figcaption found for images in URL: https://www.nos.nl/artikel/2494170\n"
     ]
    },
    {
     "name": "stderr",
     "output_type": "stream",
     "text": [
      "Scraper going at...: 4007it [1:34:11,  1.56s/it]"
     ]
    },
    {
     "name": "stdout",
     "output_type": "stream",
     "text": [
      "No figcaption found for images in URL: https://www.nos.nl/artikel/2494169\n"
     ]
    },
    {
     "name": "stderr",
     "output_type": "stream",
     "text": [
      "Scraper going at...: 4008it [1:34:14,  1.92s/it]"
     ]
    },
    {
     "name": "stdout",
     "output_type": "stream",
     "text": [
      "No main image div found in URL: https://www.nos.nl/artikel/2494167\n"
     ]
    },
    {
     "name": "stderr",
     "output_type": "stream",
     "text": [
      "Scraper going at...: 4009it [1:34:15,  1.67s/it]"
     ]
    },
    {
     "name": "stdout",
     "output_type": "stream",
     "text": [
      "No main image div found in URL: https://www.nos.nl/artikel/2494166\n"
     ]
    },
    {
     "name": "stderr",
     "output_type": "stream",
     "text": [
      "Scraper going at...: 4016it [1:34:28,  1.61s/it]"
     ]
    },
    {
     "name": "stdout",
     "output_type": "stream",
     "text": [
      "No main image div found in URL: https://www.nos.nl/artikel/2494149\n"
     ]
    },
    {
     "name": "stderr",
     "output_type": "stream",
     "text": [
      "Scraper going at...: 4017it [1:34:31,  1.91s/it]"
     ]
    },
    {
     "name": "stdout",
     "output_type": "stream",
     "text": [
      "No main image div found in URL: https://www.nos.nl/artikel/2494146\n"
     ]
    },
    {
     "name": "stderr",
     "output_type": "stream",
     "text": [
      "Scraper going at...: 4019it [1:34:33,  1.50s/it]"
     ]
    },
    {
     "name": "stdout",
     "output_type": "stream",
     "text": [
      "No figcaption found for images in URL: https://www.nos.nl/artikel/2494144\n"
     ]
    },
    {
     "name": "stderr",
     "output_type": "stream",
     "text": [
      "Scraper going at...: 4021it [1:34:36,  1.58s/it]"
     ]
    },
    {
     "name": "stdout",
     "output_type": "stream",
     "text": [
      "No figcaption found for images in URL: https://www.nos.nl/artikel/2494139\n"
     ]
    },
    {
     "name": "stderr",
     "output_type": "stream",
     "text": [
      "Scraper going at...: 4032it [1:34:52,  1.62s/it]"
     ]
    },
    {
     "name": "stdout",
     "output_type": "stream",
     "text": [
      "No figcaption found for images in URL: https://www.nos.nl/artikel/2494110\n"
     ]
    },
    {
     "name": "stderr",
     "output_type": "stream",
     "text": [
      "Scraper going at...: 4033it [1:34:53,  1.52s/it]"
     ]
    },
    {
     "name": "stdout",
     "output_type": "stream",
     "text": [
      "No main image div found in URL: https://www.nos.nl/artikel/2494108\n"
     ]
    },
    {
     "name": "stderr",
     "output_type": "stream",
     "text": [
      "Scraper going at...: 4034it [1:34:56,  1.97s/it]"
     ]
    },
    {
     "name": "stdout",
     "output_type": "stream",
     "text": [
      "No figcaption found for images in URL: https://www.nos.nl/artikel/2494107\n"
     ]
    },
    {
     "name": "stderr",
     "output_type": "stream",
     "text": [
      "Scraper going at...: 4035it [1:34:57,  1.70s/it]"
     ]
    },
    {
     "name": "stdout",
     "output_type": "stream",
     "text": [
      "No main image div found in URL: https://www.nos.nl/artikel/2494106\n"
     ]
    },
    {
     "name": "stderr",
     "output_type": "stream",
     "text": [
      "Scraper going at...: 4051it [1:35:19,  1.32s/it]"
     ]
    },
    {
     "name": "stdout",
     "output_type": "stream",
     "text": [
      "No figcaption found for images in URL: https://www.nos.nl/artikel/2494074\n"
     ]
    },
    {
     "name": "stderr",
     "output_type": "stream",
     "text": [
      "Scraper going at...: 4057it [1:35:26,  1.16s/it]"
     ]
    },
    {
     "name": "stdout",
     "output_type": "stream",
     "text": [
      "No main image div found in URL: https://www.nos.nl/artikel/2494065\n"
     ]
    },
    {
     "name": "stderr",
     "output_type": "stream",
     "text": [
      "Scraper going at...: 4059it [1:35:30,  1.36s/it]"
     ]
    },
    {
     "name": "stdout",
     "output_type": "stream",
     "text": [
      "No main image div found in URL: https://www.nos.nl/artikel/2494061\n"
     ]
    },
    {
     "name": "stderr",
     "output_type": "stream",
     "text": [
      "Scraper going at...: 4066it [1:35:43,  1.55s/it]"
     ]
    },
    {
     "name": "stdout",
     "output_type": "stream",
     "text": [
      "No figcaption found for images in URL: https://www.nos.nl/artikel/2494046\n"
     ]
    },
    {
     "name": "stderr",
     "output_type": "stream",
     "text": [
      "Scraper going at...: 4067it [1:35:44,  1.42s/it]"
     ]
    },
    {
     "name": "stdout",
     "output_type": "stream",
     "text": [
      "No main image div found in URL: https://www.nos.nl/artikel/2494045\n"
     ]
    },
    {
     "name": "stderr",
     "output_type": "stream",
     "text": [
      "Scraper going at...: 4068it [1:35:45,  1.31s/it]"
     ]
    },
    {
     "name": "stdout",
     "output_type": "stream",
     "text": [
      "No figcaption found for images in URL: https://www.nos.nl/artikel/2494044\n"
     ]
    },
    {
     "name": "stderr",
     "output_type": "stream",
     "text": [
      "Scraper going at...: 4072it [1:35:52,  1.45s/it]"
     ]
    },
    {
     "name": "stdout",
     "output_type": "stream",
     "text": [
      "No figcaption found for images in URL: https://www.nos.nl/artikel/2494029\n"
     ]
    },
    {
     "name": "stderr",
     "output_type": "stream",
     "text": [
      "Scraper going at...: 4074it [1:35:54,  1.33s/it]"
     ]
    },
    {
     "name": "stdout",
     "output_type": "stream",
     "text": [
      "No main image div found in URL: https://www.nos.nl/artikel/2494026\n"
     ]
    },
    {
     "name": "stderr",
     "output_type": "stream",
     "text": [
      "Scraper going at...: 4075it [1:35:55,  1.26s/it]"
     ]
    },
    {
     "name": "stdout",
     "output_type": "stream",
     "text": [
      "No main image div found in URL: https://www.nos.nl/artikel/2494023\n"
     ]
    },
    {
     "name": "stderr",
     "output_type": "stream",
     "text": [
      "Scraper going at...: 4082it [1:36:04,  1.24s/it]"
     ]
    },
    {
     "name": "stdout",
     "output_type": "stream",
     "text": [
      "No main image div found in URL: https://www.nos.nl/artikel/2494011\n"
     ]
    },
    {
     "name": "stderr",
     "output_type": "stream",
     "text": [
      "Scraper going at...: 4095it [1:36:20,  1.16s/it]"
     ]
    },
    {
     "name": "stdout",
     "output_type": "stream",
     "text": [
      "No figcaption found for images in URL: https://www.nos.nl/artikel/2493983\n"
     ]
    },
    {
     "name": "stderr",
     "output_type": "stream",
     "text": [
      "Scraper going at...: 4102it [1:36:29,  1.26s/it]"
     ]
    },
    {
     "name": "stdout",
     "output_type": "stream",
     "text": [
      "No main image div found in URL: https://www.nos.nl/artikel/2493969\n"
     ]
    },
    {
     "name": "stderr",
     "output_type": "stream",
     "text": [
      "Scraper going at...: 4117it [1:36:50,  1.18s/it]"
     ]
    },
    {
     "name": "stdout",
     "output_type": "stream",
     "text": [
      "No figcaption found for images in URL: https://www.nos.nl/artikel/2493932\n"
     ]
    },
    {
     "name": "stderr",
     "output_type": "stream",
     "text": [
      "Scraper going at...: 4119it [1:36:52,  1.09s/it]"
     ]
    },
    {
     "name": "stdout",
     "output_type": "stream",
     "text": [
      "No figcaption found for images in URL: https://www.nos.nl/artikel/2493928\n"
     ]
    },
    {
     "name": "stderr",
     "output_type": "stream",
     "text": [
      "Scraper going at...: 4122it [1:36:56,  1.39s/it]"
     ]
    },
    {
     "name": "stdout",
     "output_type": "stream",
     "text": [
      "No figcaption found for images in URL: https://www.nos.nl/artikel/2493923\n"
     ]
    },
    {
     "name": "stderr",
     "output_type": "stream",
     "text": [
      "Scraper going at...: 4128it [1:37:09,  1.74s/it]"
     ]
    },
    {
     "name": "stdout",
     "output_type": "stream",
     "text": [
      "No main image div found in URL: https://www.nos.nl/artikel/2493905\n"
     ]
    },
    {
     "name": "stderr",
     "output_type": "stream",
     "text": [
      "Scraper going at...: 4129it [1:37:11,  1.77s/it]"
     ]
    },
    {
     "name": "stdout",
     "output_type": "stream",
     "text": [
      "No main image div found in URL: https://www.nos.nl/artikel/2493903\n"
     ]
    },
    {
     "name": "stderr",
     "output_type": "stream",
     "text": [
      "Scraper going at...: 4130it [1:37:12,  1.62s/it]"
     ]
    },
    {
     "name": "stdout",
     "output_type": "stream",
     "text": [
      "No figcaption found for images in URL: https://www.nos.nl/artikel/2493902\n"
     ]
    },
    {
     "name": "stderr",
     "output_type": "stream",
     "text": [
      "Scraper going at...: 4132it [1:37:17,  1.79s/it]"
     ]
    },
    {
     "name": "stdout",
     "output_type": "stream",
     "text": [
      "No figcaption found for images in URL: https://www.nos.nl/artikel/2493899\n"
     ]
    },
    {
     "name": "stderr",
     "output_type": "stream",
     "text": [
      "Scraper going at...: 4144it [1:37:35,  1.21s/it]"
     ]
    },
    {
     "name": "stdout",
     "output_type": "stream",
     "text": [
      "No figcaption found for images in URL: https://www.nos.nl/artikel/2493874\n"
     ]
    },
    {
     "name": "stderr",
     "output_type": "stream",
     "text": [
      "Scraper going at...: 4152it [1:37:49,  1.43s/it]"
     ]
    },
    {
     "name": "stdout",
     "output_type": "stream",
     "text": [
      "No main image div found in URL: https://www.nos.nl/artikel/2493854\n"
     ]
    },
    {
     "name": "stderr",
     "output_type": "stream",
     "text": [
      "Scraper going at...: 4153it [1:37:51,  1.79s/it]"
     ]
    },
    {
     "name": "stdout",
     "output_type": "stream",
     "text": [
      "No main image div found in URL: https://www.nos.nl/artikel/2493848\n"
     ]
    },
    {
     "name": "stderr",
     "output_type": "stream",
     "text": [
      "Scraper going at...: 4160it [1:37:59,  1.17s/it]"
     ]
    },
    {
     "name": "stdout",
     "output_type": "stream",
     "text": [
      "No figcaption found for images in URL: https://www.nos.nl/artikel/2493837\n"
     ]
    },
    {
     "name": "stderr",
     "output_type": "stream",
     "text": [
      "Scraper going at...: 4162it [1:38:02,  1.25s/it]"
     ]
    },
    {
     "name": "stdout",
     "output_type": "stream",
     "text": [
      "No figcaption found for images in URL: https://www.nos.nl/artikel/2493833\n"
     ]
    },
    {
     "name": "stderr",
     "output_type": "stream",
     "text": [
      "Scraper going at...: 4168it [1:38:11,  1.42s/it]"
     ]
    },
    {
     "name": "stdout",
     "output_type": "stream",
     "text": [
      "No figcaption found for images in URL: https://www.nos.nl/artikel/2493824\n"
     ]
    },
    {
     "name": "stderr",
     "output_type": "stream",
     "text": [
      "Scraper going at...: 4170it [1:38:14,  1.40s/it]"
     ]
    },
    {
     "name": "stdout",
     "output_type": "stream",
     "text": [
      "No figcaption found for images in URL: https://www.nos.nl/artikel/2493815\n"
     ]
    },
    {
     "name": "stderr",
     "output_type": "stream",
     "text": [
      "Scraper going at...: 4185it [1:38:35,  1.22s/it]"
     ]
    },
    {
     "name": "stdout",
     "output_type": "stream",
     "text": [
      "No figcaption found for images in URL: https://www.nos.nl/artikel/2493772\n"
     ]
    },
    {
     "name": "stderr",
     "output_type": "stream",
     "text": [
      "Scraper going at...: 4187it [1:38:38,  1.33s/it]"
     ]
    },
    {
     "name": "stdout",
     "output_type": "stream",
     "text": [
      "No figcaption found for images in URL: https://www.nos.nl/artikel/2493768\n"
     ]
    },
    {
     "name": "stderr",
     "output_type": "stream",
     "text": [
      "Scraper going at...: 4188it [1:38:39,  1.22s/it]"
     ]
    },
    {
     "name": "stdout",
     "output_type": "stream",
     "text": [
      "No figcaption found for images in URL: https://www.nos.nl/artikel/2493767\n"
     ]
    },
    {
     "name": "stderr",
     "output_type": "stream",
     "text": [
      "Scraper going at...: 4193it [1:38:46,  1.23s/it]"
     ]
    },
    {
     "name": "stdout",
     "output_type": "stream",
     "text": [
      "No main image div found in URL: https://www.nos.nl/artikel/2493760\n"
     ]
    },
    {
     "name": "stderr",
     "output_type": "stream",
     "text": [
      "Scraper going at...: 4195it [1:38:48,  1.12s/it]"
     ]
    },
    {
     "name": "stdout",
     "output_type": "stream",
     "text": [
      "No figcaption found for images in URL: https://www.nos.nl/artikel/2493756\n"
     ]
    },
    {
     "name": "stderr",
     "output_type": "stream",
     "text": [
      "Scraper going at...: 4196it [1:38:49,  1.09s/it]"
     ]
    },
    {
     "name": "stdout",
     "output_type": "stream",
     "text": [
      "No main image div found in URL: https://www.nos.nl/artikel/2493754\n"
     ]
    },
    {
     "name": "stderr",
     "output_type": "stream",
     "text": [
      "Scraper going at...: 4198it [1:38:51,  1.17s/it]"
     ]
    },
    {
     "name": "stdout",
     "output_type": "stream",
     "text": [
      "No main image div found in URL: https://www.nos.nl/artikel/2493750\n"
     ]
    },
    {
     "name": "stderr",
     "output_type": "stream",
     "text": [
      "Scraper going at...: 4200it [1:38:55,  1.50s/it]"
     ]
    },
    {
     "name": "stdout",
     "output_type": "stream",
     "text": [
      "No main image div found in URL: https://www.nos.nl/artikel/2493746\n"
     ]
    },
    {
     "name": "stderr",
     "output_type": "stream",
     "text": [
      "Scraper going at...: 4205it [1:39:02,  1.36s/it]"
     ]
    },
    {
     "name": "stdout",
     "output_type": "stream",
     "text": [
      "No figcaption found for images in URL: https://www.nos.nl/artikel/2493733\n"
     ]
    },
    {
     "name": "stderr",
     "output_type": "stream",
     "text": [
      "Scraper going at...: 4210it [1:39:10,  1.58s/it]"
     ]
    },
    {
     "name": "stdout",
     "output_type": "stream",
     "text": [
      "No figcaption found for images in URL: https://www.nos.nl/artikel/2493715\n"
     ]
    },
    {
     "name": "stderr",
     "output_type": "stream",
     "text": [
      "Scraper going at...: 4213it [1:39:15,  1.64s/it]"
     ]
    },
    {
     "name": "stdout",
     "output_type": "stream",
     "text": [
      "No figcaption found for images in URL: https://www.nos.nl/artikel/2493712\n"
     ]
    },
    {
     "name": "stderr",
     "output_type": "stream",
     "text": [
      "Scraper going at...: 4214it [1:39:16,  1.46s/it]"
     ]
    },
    {
     "name": "stdout",
     "output_type": "stream",
     "text": [
      "No figcaption found for images in URL: https://www.nos.nl/artikel/2493711\n"
     ]
    },
    {
     "name": "stderr",
     "output_type": "stream",
     "text": [
      "Scraper going at...: 4221it [1:39:29,  2.42s/it]"
     ]
    },
    {
     "name": "stdout",
     "output_type": "stream",
     "text": [
      "No main image div found in URL: https://www.nos.nl/artikel/2493699\n"
     ]
    },
    {
     "name": "stderr",
     "output_type": "stream",
     "text": [
      "Scraper going at...: 4224it [1:39:33,  1.67s/it]"
     ]
    },
    {
     "name": "stdout",
     "output_type": "stream",
     "text": [
      "No figcaption found for images in URL: https://www.nos.nl/artikel/2493696\n"
     ]
    },
    {
     "name": "stderr",
     "output_type": "stream",
     "text": [
      "Scraper going at...: 4227it [1:39:36,  1.26s/it]"
     ]
    },
    {
     "name": "stdout",
     "output_type": "stream",
     "text": [
      "No main image div found in URL: https://www.nos.nl/artikel/2493690\n"
     ]
    },
    {
     "name": "stderr",
     "output_type": "stream",
     "text": [
      "Scraper going at...: 4228it [1:39:38,  1.56s/it]"
     ]
    },
    {
     "name": "stdout",
     "output_type": "stream",
     "text": [
      "No main image div found in URL: https://www.nos.nl/artikel/2493686\n"
     ]
    },
    {
     "name": "stderr",
     "output_type": "stream",
     "text": [
      "Scraper going at...: 4230it [1:39:41,  1.48s/it]"
     ]
    },
    {
     "name": "stdout",
     "output_type": "stream",
     "text": [
      "No main image div found in URL: https://www.nos.nl/artikel/2493681\n"
     ]
    },
    {
     "name": "stderr",
     "output_type": "stream",
     "text": [
      "Scraper going at...: 4235it [1:39:47,  1.20s/it]"
     ]
    },
    {
     "name": "stdout",
     "output_type": "stream",
     "text": [
      "No figcaption found for images in URL: https://www.nos.nl/artikel/2493674\n"
     ]
    },
    {
     "name": "stderr",
     "output_type": "stream",
     "text": [
      "Scraper going at...: 4239it [1:39:51,  1.17s/it]"
     ]
    },
    {
     "name": "stdout",
     "output_type": "stream",
     "text": [
      "No main image div found in URL: https://www.nos.nl/artikel/2493657\n"
     ]
    },
    {
     "name": "stderr",
     "output_type": "stream",
     "text": [
      "Scraper going at...: 4242it [1:39:55,  1.14s/it]"
     ]
    },
    {
     "name": "stdout",
     "output_type": "stream",
     "text": [
      "No main image div found in URL: https://www.nos.nl/artikel/2493651\n"
     ]
    },
    {
     "name": "stderr",
     "output_type": "stream",
     "text": [
      "Scraper going at...: 4243it [1:39:56,  1.09s/it]"
     ]
    },
    {
     "name": "stdout",
     "output_type": "stream",
     "text": [
      "No figcaption found for images in URL: https://www.nos.nl/artikel/2493650\n"
     ]
    },
    {
     "name": "stderr",
     "output_type": "stream",
     "text": [
      "Scraper going at...: 4249it [1:40:04,  1.31s/it]"
     ]
    },
    {
     "name": "stdout",
     "output_type": "stream",
     "text": [
      "No figcaption found for images in URL: https://www.nos.nl/artikel/2493643\n"
     ]
    },
    {
     "name": "stderr",
     "output_type": "stream",
     "text": [
      "Scraper going at...: 4250it [1:40:07,  1.76s/it]"
     ]
    },
    {
     "name": "stdout",
     "output_type": "stream",
     "text": [
      "No figcaption found for images in URL: https://www.nos.nl/artikel/2493637\n"
     ]
    },
    {
     "name": "stderr",
     "output_type": "stream",
     "text": [
      "Scraper going at...: 4252it [1:40:10,  1.85s/it]"
     ]
    },
    {
     "name": "stdout",
     "output_type": "stream",
     "text": [
      "No figcaption found for images in URL: https://www.nos.nl/artikel/2493634\n"
     ]
    },
    {
     "name": "stderr",
     "output_type": "stream",
     "text": [
      "Scraper going at...: 4260it [1:40:23,  1.71s/it]"
     ]
    },
    {
     "name": "stdout",
     "output_type": "stream",
     "text": [
      "No main image div found in URL: https://www.nos.nl/artikel/2493616\n"
     ]
    },
    {
     "name": "stderr",
     "output_type": "stream",
     "text": [
      "Scraper going at...: 4263it [1:40:27,  1.40s/it]"
     ]
    },
    {
     "name": "stdout",
     "output_type": "stream",
     "text": [
      "No figcaption found for images in URL: https://www.nos.nl/artikel/2493613\n"
     ]
    },
    {
     "name": "stderr",
     "output_type": "stream",
     "text": [
      "Scraper going at...: 4264it [1:40:28,  1.50s/it]"
     ]
    },
    {
     "name": "stdout",
     "output_type": "stream",
     "text": [
      "No figcaption found for images in URL: https://www.nos.nl/artikel/2493605\n"
     ]
    },
    {
     "name": "stderr",
     "output_type": "stream",
     "text": [
      "Scraper going at...: 4267it [1:40:33,  1.48s/it]"
     ]
    },
    {
     "name": "stdout",
     "output_type": "stream",
     "text": [
      "No figcaption found for images in URL: https://www.nos.nl/artikel/2493599\n"
     ]
    },
    {
     "name": "stderr",
     "output_type": "stream",
     "text": [
      "Scraper going at...: 4269it [1:40:36,  1.39s/it]"
     ]
    },
    {
     "name": "stdout",
     "output_type": "stream",
     "text": [
      "No figcaption found for images in URL: https://www.nos.nl/artikel/2493597\n"
     ]
    },
    {
     "name": "stderr",
     "output_type": "stream",
     "text": [
      "Scraper going at...: 4278it [1:40:47,  1.36s/it]"
     ]
    },
    {
     "name": "stdout",
     "output_type": "stream",
     "text": [
      "No main image div found in URL: https://www.nos.nl/artikel/2493586\n"
     ]
    },
    {
     "name": "stderr",
     "output_type": "stream",
     "text": [
      "Scraper going at...: 4284it [1:40:55,  1.18s/it]"
     ]
    },
    {
     "name": "stdout",
     "output_type": "stream",
     "text": [
      "No figcaption found for images in URL: https://www.nos.nl/artikel/2493573\n"
     ]
    },
    {
     "name": "stderr",
     "output_type": "stream",
     "text": [
      "Scraper going at...: 4293it [1:41:08,  1.50s/it]"
     ]
    },
    {
     "name": "stdout",
     "output_type": "stream",
     "text": [
      "No main image div found in URL: https://www.nos.nl/artikel/2493562\n"
     ]
    },
    {
     "name": "stderr",
     "output_type": "stream",
     "text": [
      "Scraper going at...: 4295it [1:41:11,  1.44s/it]"
     ]
    },
    {
     "name": "stdout",
     "output_type": "stream",
     "text": [
      "No figcaption found for images in URL: https://www.nos.nl/artikel/2493559\n"
     ]
    },
    {
     "name": "stderr",
     "output_type": "stream",
     "text": [
      "Scraper going at...: 4298it [1:41:16,  1.58s/it]"
     ]
    },
    {
     "name": "stdout",
     "output_type": "stream",
     "text": [
      "No main image div found in URL: https://www.nos.nl/artikel/2493548\n"
     ]
    },
    {
     "name": "stderr",
     "output_type": "stream",
     "text": [
      "Scraper going at...: 4301it [1:41:20,  1.37s/it]"
     ]
    },
    {
     "name": "stdout",
     "output_type": "stream",
     "text": [
      "No figcaption found for images in URL: https://www.nos.nl/artikel/2493540\n"
     ]
    },
    {
     "name": "stderr",
     "output_type": "stream",
     "text": [
      "Scraper going at...: 4302it [1:41:21,  1.26s/it]"
     ]
    },
    {
     "name": "stdout",
     "output_type": "stream",
     "text": [
      "No figcaption found for images in URL: https://www.nos.nl/artikel/2493539\n"
     ]
    },
    {
     "name": "stderr",
     "output_type": "stream",
     "text": [
      "Scraper going at...: 4305it [1:41:24,  1.11s/it]"
     ]
    },
    {
     "name": "stdout",
     "output_type": "stream",
     "text": [
      "No figcaption found for images in URL: https://www.nos.nl/artikel/2493534\n"
     ]
    },
    {
     "name": "stderr",
     "output_type": "stream",
     "text": [
      "Scraper going at...: 4309it [1:41:28,  1.04s/it]"
     ]
    },
    {
     "name": "stdout",
     "output_type": "stream",
     "text": [
      "No figcaption found for images in URL: https://www.nos.nl/artikel/2493522\n"
     ]
    },
    {
     "name": "stderr",
     "output_type": "stream",
     "text": [
      "Scraper going at...: 4317it [1:41:39,  1.36s/it]"
     ]
    },
    {
     "name": "stdout",
     "output_type": "stream",
     "text": [
      "No main image div found in URL: https://www.nos.nl/artikel/2493505\n"
     ]
    },
    {
     "name": "stderr",
     "output_type": "stream",
     "text": [
      "Scraper going at...: 4318it [1:41:41,  1.56s/it]"
     ]
    },
    {
     "name": "stdout",
     "output_type": "stream",
     "text": [
      "No main image div found in URL: https://www.nos.nl/artikel/2493504\n"
     ]
    },
    {
     "name": "stderr",
     "output_type": "stream",
     "text": [
      "Scraper going at...: 4321it [1:41:44,  1.28s/it]"
     ]
    },
    {
     "name": "stdout",
     "output_type": "stream",
     "text": [
      "No figcaption found for images in URL: https://www.nos.nl/artikel/2493500\n"
     ]
    },
    {
     "name": "stderr",
     "output_type": "stream",
     "text": [
      "Scraper going at...: 4322it [1:41:45,  1.19s/it]"
     ]
    },
    {
     "name": "stdout",
     "output_type": "stream",
     "text": [
      "No figcaption found for images in URL: https://www.nos.nl/artikel/2493499\n"
     ]
    },
    {
     "name": "stderr",
     "output_type": "stream",
     "text": [
      "Scraper going at...: 4324it [1:41:49,  1.65s/it]"
     ]
    },
    {
     "name": "stdout",
     "output_type": "stream",
     "text": [
      "No figcaption found for images in URL: https://www.nos.nl/artikel/2493495\n"
     ]
    },
    {
     "name": "stderr",
     "output_type": "stream",
     "text": [
      "Scraper going at...: 4325it [1:41:51,  1.61s/it]"
     ]
    },
    {
     "name": "stdout",
     "output_type": "stream",
     "text": [
      "No figcaption found for images in URL: https://www.nos.nl/artikel/2493492\n"
     ]
    },
    {
     "name": "stderr",
     "output_type": "stream",
     "text": [
      "Scraper going at...: 4326it [1:41:52,  1.42s/it]"
     ]
    },
    {
     "name": "stdout",
     "output_type": "stream",
     "text": [
      "No figcaption found for images in URL: https://www.nos.nl/artikel/2493491\n"
     ]
    },
    {
     "name": "stderr",
     "output_type": "stream",
     "text": [
      "Scraper going at...: 4327it [1:41:53,  1.38s/it]"
     ]
    },
    {
     "name": "stdout",
     "output_type": "stream",
     "text": [
      "No main image div found in URL: https://www.nos.nl/artikel/2493489\n"
     ]
    },
    {
     "name": "stderr",
     "output_type": "stream",
     "text": [
      "Scraper going at...: 4330it [1:41:56,  1.13s/it]"
     ]
    },
    {
     "name": "stdout",
     "output_type": "stream",
     "text": [
      "No figcaption found for images in URL: https://www.nos.nl/artikel/2493481\n"
     ]
    },
    {
     "name": "stderr",
     "output_type": "stream",
     "text": [
      "Scraper going at...: 4334it [1:42:01,  1.11s/it]"
     ]
    },
    {
     "name": "stdout",
     "output_type": "stream",
     "text": [
      "No figcaption found for images in URL: https://www.nos.nl/artikel/2493473\n"
     ]
    },
    {
     "name": "stderr",
     "output_type": "stream",
     "text": [
      "Scraper going at...: 4342it [1:42:10,  1.17s/it]"
     ]
    },
    {
     "name": "stdout",
     "output_type": "stream",
     "text": [
      "No figcaption found for images in URL: https://www.nos.nl/artikel/2493462\n"
     ]
    },
    {
     "name": "stderr",
     "output_type": "stream",
     "text": [
      "Scraper going at...: 4344it [1:42:13,  1.37s/it]"
     ]
    },
    {
     "name": "stdout",
     "output_type": "stream",
     "text": [
      "No figcaption found for images in URL: https://www.nos.nl/artikel/2493456\n"
     ]
    },
    {
     "name": "stderr",
     "output_type": "stream",
     "text": [
      "Scraper going at...: 4348it [1:42:17,  1.20s/it]"
     ]
    },
    {
     "name": "stdout",
     "output_type": "stream",
     "text": [
      "No figcaption found for images in URL: https://www.nos.nl/artikel/2493447\n"
     ]
    },
    {
     "name": "stderr",
     "output_type": "stream",
     "text": [
      "Scraper going at...: 4349it [1:42:19,  1.22s/it]"
     ]
    },
    {
     "name": "stdout",
     "output_type": "stream",
     "text": [
      "No figcaption found for images in URL: https://www.nos.nl/artikel/2493445\n"
     ]
    },
    {
     "name": "stderr",
     "output_type": "stream",
     "text": [
      "Scraper going at...: 4350it [1:42:20,  1.22s/it]"
     ]
    },
    {
     "name": "stdout",
     "output_type": "stream",
     "text": [
      "No figcaption found for images in URL: https://www.nos.nl/artikel/2493444\n"
     ]
    },
    {
     "name": "stderr",
     "output_type": "stream",
     "text": [
      "Scraper going at...: 4353it [1:42:24,  1.43s/it]"
     ]
    },
    {
     "name": "stdout",
     "output_type": "stream",
     "text": [
      "No figcaption found for images in URL: https://www.nos.nl/artikel/2493439\n"
     ]
    },
    {
     "name": "stderr",
     "output_type": "stream",
     "text": [
      "Scraper going at...: 4354it [1:42:27,  1.76s/it]"
     ]
    },
    {
     "name": "stdout",
     "output_type": "stream",
     "text": [
      "No figcaption found for images in URL: https://www.nos.nl/artikel/2493437\n"
     ]
    },
    {
     "name": "stderr",
     "output_type": "stream",
     "text": [
      "Scraper going at...: 4355it [1:42:28,  1.61s/it]"
     ]
    },
    {
     "name": "stdout",
     "output_type": "stream",
     "text": [
      "No main image div found in URL: https://www.nos.nl/artikel/2493436\n"
     ]
    },
    {
     "name": "stderr",
     "output_type": "stream",
     "text": [
      "Scraper going at...: 4357it [1:42:31,  1.41s/it]"
     ]
    },
    {
     "name": "stdout",
     "output_type": "stream",
     "text": [
      "No figcaption found for images in URL: https://www.nos.nl/artikel/2493430\n"
     ]
    },
    {
     "name": "stderr",
     "output_type": "stream",
     "text": [
      "Scraper going at...: 4360it [1:42:36,  1.55s/it]"
     ]
    },
    {
     "name": "stdout",
     "output_type": "stream",
     "text": [
      "No figcaption found for images in URL: https://www.nos.nl/artikel/2493426\n"
     ]
    },
    {
     "name": "stderr",
     "output_type": "stream",
     "text": [
      "Scraper going at...: 4365it [1:42:45,  1.95s/it]"
     ]
    },
    {
     "name": "stdout",
     "output_type": "stream",
     "text": [
      "No figcaption found for images in URL: https://www.nos.nl/artikel/2493411\n"
     ]
    },
    {
     "name": "stderr",
     "output_type": "stream",
     "text": [
      "Scraper going at...: 4371it [1:42:54,  1.41s/it]"
     ]
    },
    {
     "name": "stdout",
     "output_type": "stream",
     "text": [
      "No figcaption found for images in URL: https://www.nos.nl/artikel/2493397\n"
     ]
    },
    {
     "name": "stderr",
     "output_type": "stream",
     "text": [
      "Scraper going at...: 4374it [1:42:57,  1.16s/it]"
     ]
    },
    {
     "name": "stdout",
     "output_type": "stream",
     "text": [
      "No main image div found in URL: https://www.nos.nl/artikel/2493384\n"
     ]
    },
    {
     "name": "stderr",
     "output_type": "stream",
     "text": [
      "Scraper going at...: 4376it [1:42:59,  1.11s/it]"
     ]
    },
    {
     "name": "stdout",
     "output_type": "stream",
     "text": [
      "No figcaption found for images in URL: https://www.nos.nl/artikel/2493380\n"
     ]
    },
    {
     "name": "stderr",
     "output_type": "stream",
     "text": [
      "Scraper going at...: 4378it [1:43:02,  1.28s/it]"
     ]
    },
    {
     "name": "stdout",
     "output_type": "stream",
     "text": [
      "No main image div found in URL: https://www.nos.nl/artikel/2493375\n"
     ]
    },
    {
     "name": "stderr",
     "output_type": "stream",
     "text": [
      "Scraper going at...: 4379it [1:43:04,  1.30s/it]"
     ]
    },
    {
     "name": "stdout",
     "output_type": "stream",
     "text": [
      "No figcaption found for images in URL: https://www.nos.nl/artikel/2493369\n"
     ]
    },
    {
     "name": "stderr",
     "output_type": "stream",
     "text": [
      "Scraper going at...: 4381it [1:43:07,  1.56s/it]"
     ]
    },
    {
     "name": "stdout",
     "output_type": "stream",
     "text": [
      "No main image div found in URL: https://www.nos.nl/artikel/2493364\n"
     ]
    },
    {
     "name": "stderr",
     "output_type": "stream",
     "text": [
      "Scraper going at...: 4382it [1:43:09,  1.69s/it]"
     ]
    },
    {
     "name": "stdout",
     "output_type": "stream",
     "text": [
      "No figcaption found for images in URL: https://www.nos.nl/artikel/2493361\n"
     ]
    },
    {
     "name": "stderr",
     "output_type": "stream",
     "text": [
      "Scraper going at...: 4383it [1:43:11,  1.58s/it]"
     ]
    },
    {
     "name": "stdout",
     "output_type": "stream",
     "text": [
      "No main image div found in URL: https://www.nos.nl/artikel/2493357\n"
     ]
    },
    {
     "name": "stderr",
     "output_type": "stream",
     "text": [
      "Scraper going at...: 4384it [1:43:12,  1.42s/it]"
     ]
    },
    {
     "name": "stdout",
     "output_type": "stream",
     "text": [
      "No figcaption found for images in URL: https://www.nos.nl/artikel/2493355\n"
     ]
    },
    {
     "name": "stderr",
     "output_type": "stream",
     "text": [
      "Scraper going at...: 4386it [1:43:16,  1.74s/it]"
     ]
    },
    {
     "name": "stdout",
     "output_type": "stream",
     "text": [
      "No main image div found in URL: https://www.nos.nl/artikel/2493351\n"
     ]
    },
    {
     "name": "stderr",
     "output_type": "stream",
     "text": [
      "Scraper going at...: 4387it [1:43:18,  1.83s/it]"
     ]
    },
    {
     "name": "stdout",
     "output_type": "stream",
     "text": [
      "No main image div found in URL: https://www.nos.nl/artikel/2493350\n"
     ]
    },
    {
     "name": "stderr",
     "output_type": "stream",
     "text": [
      "Scraper going at...: 4389it [1:43:20,  1.50s/it]"
     ]
    },
    {
     "name": "stdout",
     "output_type": "stream",
     "text": [
      "No main image div found in URL: https://www.nos.nl/artikel/2493347\n"
     ]
    },
    {
     "name": "stderr",
     "output_type": "stream",
     "text": [
      "Scraper going at...: 4391it [1:43:22,  1.37s/it]"
     ]
    },
    {
     "name": "stdout",
     "output_type": "stream",
     "text": [
      "No main image div found in URL: https://www.nos.nl/artikel/2493333\n"
     ]
    },
    {
     "name": "stderr",
     "output_type": "stream",
     "text": [
      "Scraper going at...: 4392it [1:43:24,  1.34s/it]"
     ]
    },
    {
     "name": "stdout",
     "output_type": "stream",
     "text": [
      "No figcaption found for images in URL: https://www.nos.nl/artikel/2493323\n"
     ]
    },
    {
     "name": "stderr",
     "output_type": "stream",
     "text": [
      "Scraper going at...: 4393it [1:43:25,  1.49s/it]"
     ]
    },
    {
     "name": "stdout",
     "output_type": "stream",
     "text": [
      "No main image div found in URL: https://www.nos.nl/artikel/2493320\n"
     ]
    },
    {
     "name": "stderr",
     "output_type": "stream",
     "text": [
      "Scraper going at...: 4394it [1:43:27,  1.41s/it]"
     ]
    },
    {
     "name": "stdout",
     "output_type": "stream",
     "text": [
      "No main image div found in URL: https://www.nos.nl/artikel/2493319\n"
     ]
    },
    {
     "name": "stderr",
     "output_type": "stream",
     "text": [
      "Scraper going at...: 4395it [1:43:28,  1.36s/it]"
     ]
    },
    {
     "name": "stdout",
     "output_type": "stream",
     "text": [
      "No figcaption found for images in URL: https://www.nos.nl/artikel/2493317\n"
     ]
    },
    {
     "name": "stderr",
     "output_type": "stream",
     "text": [
      "Scraper going at...: 4401it [1:43:36,  1.50s/it]"
     ]
    },
    {
     "name": "stdout",
     "output_type": "stream",
     "text": [
      "No main image div found in URL: https://www.nos.nl/artikel/2493309\n"
     ]
    },
    {
     "name": "stderr",
     "output_type": "stream",
     "text": [
      "Scraper going at...: 4402it [1:43:37,  1.40s/it]"
     ]
    },
    {
     "name": "stdout",
     "output_type": "stream",
     "text": [
      "No figcaption found for images in URL: https://www.nos.nl/artikel/2493308\n"
     ]
    },
    {
     "name": "stderr",
     "output_type": "stream",
     "text": [
      "Scraper going at...: 4404it [1:43:40,  1.40s/it]"
     ]
    },
    {
     "name": "stdout",
     "output_type": "stream",
     "text": [
      "No figcaption found for images in URL: https://www.nos.nl/artikel/2493302\n"
     ]
    },
    {
     "name": "stderr",
     "output_type": "stream",
     "text": [
      "Scraper going at...: 4409it [1:43:45,  1.09s/it]"
     ]
    },
    {
     "name": "stdout",
     "output_type": "stream",
     "text": [
      "No main image div found in URL: https://www.nos.nl/artikel/2493287\n"
     ]
    },
    {
     "name": "stderr",
     "output_type": "stream",
     "text": [
      "Scraper going at...: 4410it [1:43:48,  1.54s/it]"
     ]
    },
    {
     "name": "stdout",
     "output_type": "stream",
     "text": [
      "No main image div found in URL: https://www.nos.nl/artikel/2493283\n"
     ]
    },
    {
     "name": "stderr",
     "output_type": "stream",
     "text": [
      "Scraper going at...: 4412it [1:43:50,  1.34s/it]"
     ]
    },
    {
     "name": "stdout",
     "output_type": "stream",
     "text": [
      "No main image div found in URL: https://www.nos.nl/artikel/2493275\n"
     ]
    },
    {
     "name": "stderr",
     "output_type": "stream",
     "text": [
      "Scraper going at...: 4413it [1:43:51,  1.30s/it]"
     ]
    },
    {
     "name": "stdout",
     "output_type": "stream",
     "text": [
      "No figcaption found for images in URL: https://www.nos.nl/artikel/2493271\n"
     ]
    },
    {
     "name": "stderr",
     "output_type": "stream",
     "text": [
      "Scraper going at...: 4414it [1:43:53,  1.23s/it]"
     ]
    },
    {
     "name": "stdout",
     "output_type": "stream",
     "text": [
      "No main image div found in URL: https://www.nos.nl/artikel/2493270\n"
     ]
    },
    {
     "name": "stderr",
     "output_type": "stream",
     "text": [
      "Scraper going at...: 4415it [1:43:54,  1.18s/it]"
     ]
    },
    {
     "name": "stdout",
     "output_type": "stream",
     "text": [
      "No main image div found in URL: https://www.nos.nl/artikel/2493263\n"
     ]
    },
    {
     "name": "stderr",
     "output_type": "stream",
     "text": [
      "Scraper going at...: 4416it [1:43:55,  1.39s/it]"
     ]
    },
    {
     "name": "stdout",
     "output_type": "stream",
     "text": [
      "No figcaption found for images in URL: https://www.nos.nl/artikel/2493262\n"
     ]
    },
    {
     "name": "stderr",
     "output_type": "stream",
     "text": [
      "Scraper going at...: 4417it [1:43:57,  1.32s/it]"
     ]
    },
    {
     "name": "stdout",
     "output_type": "stream",
     "text": [
      "No figcaption found for images in URL: https://www.nos.nl/artikel/2493261\n"
     ]
    },
    {
     "name": "stderr",
     "output_type": "stream",
     "text": [
      "Scraper going at...: 4420it [1:44:01,  1.33s/it]"
     ]
    },
    {
     "name": "stdout",
     "output_type": "stream",
     "text": [
      "No figcaption found for images in URL: https://www.nos.nl/artikel/2493257\n"
     ]
    },
    {
     "name": "stderr",
     "output_type": "stream",
     "text": [
      "Scraper going at...: 4424it [1:44:06,  1.36s/it]"
     ]
    },
    {
     "name": "stdout",
     "output_type": "stream",
     "text": [
      "No main image div found in URL: https://www.nos.nl/artikel/2493247\n"
     ]
    },
    {
     "name": "stderr",
     "output_type": "stream",
     "text": [
      "Scraper going at...: 4425it [1:44:09,  1.92s/it]"
     ]
    },
    {
     "name": "stdout",
     "output_type": "stream",
     "text": [
      "No main image div found in URL: https://www.nos.nl/artikel/2493246\n"
     ]
    },
    {
     "name": "stderr",
     "output_type": "stream",
     "text": [
      "Scraper going at...: 4426it [1:44:10,  1.66s/it]"
     ]
    },
    {
     "name": "stdout",
     "output_type": "stream",
     "text": [
      "No main image div found in URL: https://www.nos.nl/artikel/2493243\n"
     ]
    },
    {
     "name": "stderr",
     "output_type": "stream",
     "text": [
      "Scraper going at...: 4428it [1:44:13,  1.51s/it]"
     ]
    },
    {
     "name": "stdout",
     "output_type": "stream",
     "text": [
      "No figcaption found for images in URL: https://www.nos.nl/artikel/2493238\n"
     ]
    },
    {
     "name": "stderr",
     "output_type": "stream",
     "text": [
      "Scraper going at...: 4429it [1:44:14,  1.38s/it]"
     ]
    },
    {
     "name": "stdout",
     "output_type": "stream",
     "text": [
      "No figcaption found for images in URL: https://www.nos.nl/artikel/2493229\n"
     ]
    },
    {
     "name": "stderr",
     "output_type": "stream",
     "text": [
      "Scraper going at...: 4430it [1:44:15,  1.30s/it]"
     ]
    },
    {
     "name": "stdout",
     "output_type": "stream",
     "text": [
      "No main image div found in URL: https://www.nos.nl/artikel/2493224\n"
     ]
    },
    {
     "name": "stderr",
     "output_type": "stream",
     "text": [
      "Scraper going at...: 4433it [1:44:20,  1.60s/it]"
     ]
    },
    {
     "name": "stdout",
     "output_type": "stream",
     "text": [
      "No main image div found in URL: https://www.nos.nl/artikel/2493217\n"
     ]
    },
    {
     "name": "stderr",
     "output_type": "stream",
     "text": [
      "Scraper going at...: 4438it [1:44:29,  1.46s/it]"
     ]
    },
    {
     "name": "stdout",
     "output_type": "stream",
     "text": [
      "No main image div found in URL: https://www.nos.nl/artikel/2493206\n"
     ]
    },
    {
     "name": "stderr",
     "output_type": "stream",
     "text": [
      "Scraper going at...: 4439it [1:44:30,  1.41s/it]"
     ]
    },
    {
     "name": "stdout",
     "output_type": "stream",
     "text": [
      "No figcaption found for images in URL: https://www.nos.nl/artikel/2493205\n"
     ]
    },
    {
     "name": "stderr",
     "output_type": "stream",
     "text": [
      "Scraper going at...: 4443it [1:44:35,  1.17s/it]"
     ]
    },
    {
     "name": "stdout",
     "output_type": "stream",
     "text": [
      "No main image div found in URL: https://www.nos.nl/artikel/2493195\n"
     ]
    },
    {
     "name": "stderr",
     "output_type": "stream",
     "text": [
      "Scraper going at...: 4446it [1:44:38,  1.19s/it]"
     ]
    },
    {
     "name": "stdout",
     "output_type": "stream",
     "text": [
      "No figcaption found for images in URL: https://www.nos.nl/artikel/2493189\n"
     ]
    },
    {
     "name": "stderr",
     "output_type": "stream",
     "text": [
      "Scraper going at...: 4458it [1:44:56,  1.28s/it]"
     ]
    },
    {
     "name": "stdout",
     "output_type": "stream",
     "text": [
      "No figcaption found for images in URL: https://www.nos.nl/artikel/2493158\n"
     ]
    },
    {
     "name": "stderr",
     "output_type": "stream",
     "text": [
      "Scraper going at...: 4464it [1:45:09,  1.92s/it]"
     ]
    },
    {
     "name": "stdout",
     "output_type": "stream",
     "text": [
      "No main image div found in URL: https://www.nos.nl/artikel/2493144\n"
     ]
    },
    {
     "name": "stderr",
     "output_type": "stream",
     "text": [
      "Scraper going at...: 4474it [1:45:20,  1.05s/it]"
     ]
    },
    {
     "name": "stdout",
     "output_type": "stream",
     "text": [
      "No figcaption found for images in URL: https://www.nos.nl/artikel/2493122\n"
     ]
    },
    {
     "name": "stderr",
     "output_type": "stream",
     "text": [
      "Scraper going at...: 4475it [1:45:21,  1.03s/it]"
     ]
    },
    {
     "name": "stdout",
     "output_type": "stream",
     "text": [
      "No figcaption found for images in URL: https://www.nos.nl/artikel/2493121\n"
     ]
    },
    {
     "name": "stderr",
     "output_type": "stream",
     "text": [
      "Scraper going at...: 4476it [1:45:23,  1.06s/it]"
     ]
    },
    {
     "name": "stdout",
     "output_type": "stream",
     "text": [
      "No figcaption found for images in URL: https://www.nos.nl/artikel/2493120\n"
     ]
    },
    {
     "name": "stderr",
     "output_type": "stream",
     "text": [
      "Scraper going at...: 4477it [1:45:24,  1.05s/it]"
     ]
    },
    {
     "name": "stdout",
     "output_type": "stream",
     "text": [
      "No figcaption found for images in URL: https://www.nos.nl/artikel/2493116\n"
     ]
    },
    {
     "name": "stderr",
     "output_type": "stream",
     "text": [
      "Scraper going at...: 4478it [1:45:25,  1.04s/it]"
     ]
    },
    {
     "name": "stdout",
     "output_type": "stream",
     "text": [
      "No figcaption found for images in URL: https://www.nos.nl/artikel/2493115\n"
     ]
    },
    {
     "name": "stderr",
     "output_type": "stream",
     "text": [
      "Scraper going at...: 4487it [1:45:37,  1.31s/it]"
     ]
    },
    {
     "name": "stdout",
     "output_type": "stream",
     "text": [
      "No main image div found in URL: https://www.nos.nl/artikel/2493095\n"
     ]
    },
    {
     "name": "stderr",
     "output_type": "stream",
     "text": [
      "Scraper going at...: 4488it [1:45:38,  1.30s/it]"
     ]
    },
    {
     "name": "stdout",
     "output_type": "stream",
     "text": [
      "No figcaption found for images in URL: https://www.nos.nl/artikel/2493094\n"
     ]
    },
    {
     "name": "stderr",
     "output_type": "stream",
     "text": [
      "Scraper going at...: 4490it [1:45:42,  1.81s/it]"
     ]
    },
    {
     "name": "stdout",
     "output_type": "stream",
     "text": [
      "No figcaption found for images in URL: https://www.nos.nl/artikel/2493092\n"
     ]
    },
    {
     "name": "stderr",
     "output_type": "stream",
     "text": [
      "Scraper going at...: 4493it [1:45:45,  1.31s/it]"
     ]
    },
    {
     "name": "stdout",
     "output_type": "stream",
     "text": [
      "No figcaption found for images in URL: https://www.nos.nl/artikel/2493087\n"
     ]
    },
    {
     "name": "stderr",
     "output_type": "stream",
     "text": [
      "Scraper going at...: 4494it [1:45:46,  1.22s/it]"
     ]
    },
    {
     "name": "stdout",
     "output_type": "stream",
     "text": [
      "No figcaption found for images in URL: https://www.nos.nl/artikel/2493082\n"
     ]
    },
    {
     "name": "stderr",
     "output_type": "stream",
     "text": [
      "Scraper going at...: 4497it [1:45:51,  1.37s/it]"
     ]
    },
    {
     "name": "stdout",
     "output_type": "stream",
     "text": [
      "No main image div found in URL: https://www.nos.nl/artikel/2493074\n"
     ]
    },
    {
     "name": "stderr",
     "output_type": "stream",
     "text": [
      "Scraper going at...: 4498it [1:45:52,  1.28s/it]"
     ]
    },
    {
     "name": "stdout",
     "output_type": "stream",
     "text": [
      "No figcaption found for images in URL: https://www.nos.nl/artikel/2493073\n"
     ]
    },
    {
     "name": "stderr",
     "output_type": "stream",
     "text": [
      "Scraper going at...: 4500it [1:45:54,  1.16s/it]"
     ]
    },
    {
     "name": "stdout",
     "output_type": "stream",
     "text": [
      "No figcaption found for images in URL: https://www.nos.nl/artikel/2493069\n"
     ]
    },
    {
     "name": "stderr",
     "output_type": "stream",
     "text": [
      "Scraper going at...: 4503it [1:45:57,  1.12s/it]"
     ]
    },
    {
     "name": "stdout",
     "output_type": "stream",
     "text": [
      "No figcaption found for images in URL: https://www.nos.nl/artikel/2493066\n"
     ]
    },
    {
     "name": "stderr",
     "output_type": "stream",
     "text": [
      "Scraper going at...: 4516it [1:46:15,  1.52s/it]"
     ]
    },
    {
     "name": "stdout",
     "output_type": "stream",
     "text": [
      "No figcaption found for images in URL: https://www.nos.nl/artikel/2493036\n"
     ]
    },
    {
     "name": "stderr",
     "output_type": "stream",
     "text": [
      "Scraper going at...: 4517it [1:46:18,  1.86s/it]"
     ]
    },
    {
     "name": "stdout",
     "output_type": "stream",
     "text": [
      "No figcaption found for images in URL: https://www.nos.nl/artikel/2493035\n"
     ]
    },
    {
     "name": "stderr",
     "output_type": "stream",
     "text": [
      "Scraper going at...: 4524it [1:46:31,  1.55s/it]"
     ]
    },
    {
     "name": "stdout",
     "output_type": "stream",
     "text": [
      "No figcaption found for images in URL: https://www.nos.nl/artikel/2493023\n"
     ]
    },
    {
     "name": "stderr",
     "output_type": "stream",
     "text": [
      "Scraper going at...: 4530it [1:46:39,  1.35s/it]"
     ]
    },
    {
     "name": "stdout",
     "output_type": "stream",
     "text": [
      "No main image div found in URL: https://www.nos.nl/artikel/2493016\n"
     ]
    },
    {
     "name": "stderr",
     "output_type": "stream",
     "text": [
      "Scraper going at...: 4536it [1:46:50,  1.65s/it]"
     ]
    },
    {
     "name": "stdout",
     "output_type": "stream",
     "text": [
      "No main image div found in URL: https://www.nos.nl/artikel/2493004\n"
     ]
    },
    {
     "name": "stderr",
     "output_type": "stream",
     "text": [
      "Scraper going at...: 4542it [1:46:58,  1.34s/it]"
     ]
    },
    {
     "name": "stdout",
     "output_type": "stream",
     "text": [
      "No figcaption found for images in URL: https://www.nos.nl/artikel/2492989\n"
     ]
    },
    {
     "name": "stderr",
     "output_type": "stream",
     "text": [
      "Scraper going at...: 4543it [1:46:59,  1.33s/it]"
     ]
    },
    {
     "name": "stdout",
     "output_type": "stream",
     "text": [
      "No figcaption found for images in URL: https://www.nos.nl/artikel/2492987\n"
     ]
    },
    {
     "name": "stderr",
     "output_type": "stream",
     "text": [
      "Scraper going at...: 4544it [1:47:00,  1.33s/it]"
     ]
    },
    {
     "name": "stdout",
     "output_type": "stream",
     "text": [
      "No figcaption found for images in URL: https://www.nos.nl/artikel/2492984\n"
     ]
    },
    {
     "name": "stderr",
     "output_type": "stream",
     "text": [
      "Scraper going at...: 4547it [1:47:06,  1.53s/it]"
     ]
    },
    {
     "name": "stdout",
     "output_type": "stream",
     "text": [
      "No figcaption found for images in URL: https://www.nos.nl/artikel/2492975\n"
     ]
    },
    {
     "name": "stderr",
     "output_type": "stream",
     "text": [
      "Scraper going at...: 4548it [1:47:06,  1.36s/it]"
     ]
    },
    {
     "name": "stdout",
     "output_type": "stream",
     "text": [
      "No figcaption found for images in URL: https://www.nos.nl/artikel/2492974\n"
     ]
    },
    {
     "name": "stderr",
     "output_type": "stream",
     "text": [
      "Scraper going at...: 4549it [1:47:07,  1.26s/it]"
     ]
    },
    {
     "name": "stdout",
     "output_type": "stream",
     "text": [
      "No figcaption found for images in URL: https://www.nos.nl/artikel/2492973\n"
     ]
    },
    {
     "name": "stderr",
     "output_type": "stream",
     "text": [
      "Scraper going at...: 4550it [1:47:08,  1.17s/it]"
     ]
    },
    {
     "name": "stdout",
     "output_type": "stream",
     "text": [
      "No figcaption found for images in URL: https://www.nos.nl/artikel/2492971\n"
     ]
    },
    {
     "name": "stderr",
     "output_type": "stream",
     "text": [
      "Scraper going at...: 4564it [1:47:27,  1.15s/it]"
     ]
    },
    {
     "name": "stdout",
     "output_type": "stream",
     "text": [
      "No main image div found in URL: https://www.nos.nl/artikel/2492954\n"
     ]
    },
    {
     "name": "stderr",
     "output_type": "stream",
     "text": [
      "Scraper going at...: 4567it [1:47:30,  1.03s/it]"
     ]
    },
    {
     "name": "stdout",
     "output_type": "stream",
     "text": [
      "No figcaption found for images in URL: https://www.nos.nl/artikel/2492949\n"
     ]
    },
    {
     "name": "stderr",
     "output_type": "stream",
     "text": [
      "Scraper going at...: 4569it [1:47:33,  1.19s/it]"
     ]
    },
    {
     "name": "stdout",
     "output_type": "stream",
     "text": [
      "No figcaption found for images in URL: https://www.nos.nl/artikel/2492944\n"
     ]
    },
    {
     "name": "stderr",
     "output_type": "stream",
     "text": [
      "Scraper going at...: 4570it [1:47:34,  1.12s/it]"
     ]
    },
    {
     "name": "stdout",
     "output_type": "stream",
     "text": [
      "No main image div found in URL: https://www.nos.nl/artikel/2492943\n"
     ]
    },
    {
     "name": "stderr",
     "output_type": "stream",
     "text": [
      "Scraper going at...: 4573it [1:47:37,  1.28s/it]"
     ]
    },
    {
     "name": "stdout",
     "output_type": "stream",
     "text": [
      "No figcaption found for images in URL: https://www.nos.nl/artikel/2492935\n"
     ]
    },
    {
     "name": "stderr",
     "output_type": "stream",
     "text": [
      "Scraper going at...: 4577it [1:47:44,  1.77s/it]"
     ]
    },
    {
     "name": "stdout",
     "output_type": "stream",
     "text": [
      "No figcaption found for images in URL: https://www.nos.nl/artikel/2492925\n"
     ]
    },
    {
     "name": "stderr",
     "output_type": "stream",
     "text": [
      "Scraper going at...: 4578it [1:47:45,  1.53s/it]"
     ]
    },
    {
     "name": "stdout",
     "output_type": "stream",
     "text": [
      "No figcaption found for images in URL: https://www.nos.nl/artikel/2492922\n"
     ]
    },
    {
     "name": "stderr",
     "output_type": "stream",
     "text": [
      "Scraper going at...: 4579it [1:47:46,  1.40s/it]"
     ]
    },
    {
     "name": "stdout",
     "output_type": "stream",
     "text": [
      "No figcaption found for images in URL: https://www.nos.nl/artikel/2492919\n"
     ]
    },
    {
     "name": "stderr",
     "output_type": "stream",
     "text": [
      "Scraper going at...: 4587it [1:47:58,  1.46s/it]"
     ]
    },
    {
     "name": "stdout",
     "output_type": "stream",
     "text": [
      "No figcaption found for images in URL: https://www.nos.nl/artikel/2492906\n"
     ]
    },
    {
     "name": "stderr",
     "output_type": "stream",
     "text": [
      "Scraper going at...: 4589it [1:48:00,  1.31s/it]"
     ]
    },
    {
     "name": "stdout",
     "output_type": "stream",
     "text": [
      "No main image div found in URL: https://www.nos.nl/artikel/2492903\n"
     ]
    },
    {
     "name": "stderr",
     "output_type": "stream",
     "text": [
      "Scraper going at...: 4594it [1:48:07,  1.31s/it]"
     ]
    },
    {
     "name": "stdout",
     "output_type": "stream",
     "text": [
      "No main image div found in URL: https://www.nos.nl/artikel/2492896\n"
     ]
    },
    {
     "name": "stderr",
     "output_type": "stream",
     "text": [
      "Scraper going at...: 4598it [1:48:13,  1.69s/it]"
     ]
    },
    {
     "name": "stdout",
     "output_type": "stream",
     "text": [
      "No main image div found in URL: https://www.nos.nl/artikel/2492884\n"
     ]
    },
    {
     "name": "stderr",
     "output_type": "stream",
     "text": [
      "Scraper going at...: 4599it [1:48:15,  1.82s/it]"
     ]
    },
    {
     "name": "stdout",
     "output_type": "stream",
     "text": [
      "No figcaption found for images in URL: https://www.nos.nl/artikel/2492882\n"
     ]
    },
    {
     "name": "stderr",
     "output_type": "stream",
     "text": [
      "Scraper going at...: 4600it [1:48:16,  1.59s/it]"
     ]
    },
    {
     "name": "stdout",
     "output_type": "stream",
     "text": [
      "No figcaption found for images in URL: https://www.nos.nl/artikel/2492881\n"
     ]
    },
    {
     "name": "stderr",
     "output_type": "stream",
     "text": [
      "Scraper going at...: 4606it [1:48:27,  1.66s/it]"
     ]
    },
    {
     "name": "stdout",
     "output_type": "stream",
     "text": [
      "No figcaption found for images in URL: https://www.nos.nl/artikel/2492867\n"
     ]
    },
    {
     "name": "stderr",
     "output_type": "stream",
     "text": [
      "Scraper going at...: 4607it [1:48:28,  1.53s/it]"
     ]
    },
    {
     "name": "stdout",
     "output_type": "stream",
     "text": [
      "No main image div found in URL: https://www.nos.nl/artikel/2492866\n"
     ]
    },
    {
     "name": "stderr",
     "output_type": "stream",
     "text": [
      "Scraper going at...: 4630it [1:49:04,  1.42s/it]"
     ]
    },
    {
     "name": "stdout",
     "output_type": "stream",
     "text": [
      "No main image div found in URL: https://www.nos.nl/artikel/2492818\n"
     ]
    },
    {
     "name": "stderr",
     "output_type": "stream",
     "text": [
      "Scraper going at...: 4631it [1:49:05,  1.31s/it]"
     ]
    },
    {
     "name": "stdout",
     "output_type": "stream",
     "text": [
      "No main image div found in URL: https://www.nos.nl/artikel/2492814\n"
     ]
    },
    {
     "name": "stderr",
     "output_type": "stream",
     "text": [
      "Scraper going at...: 4632it [1:49:07,  1.26s/it]"
     ]
    },
    {
     "name": "stdout",
     "output_type": "stream",
     "text": [
      "No figcaption found for images in URL: https://www.nos.nl/artikel/2492810\n"
     ]
    },
    {
     "name": "stderr",
     "output_type": "stream",
     "text": [
      "Scraper going at...: 4634it [1:49:09,  1.17s/it]"
     ]
    },
    {
     "name": "stdout",
     "output_type": "stream",
     "text": [
      "No figcaption found for images in URL: https://www.nos.nl/artikel/2492808\n"
     ]
    },
    {
     "name": "stderr",
     "output_type": "stream",
     "text": [
      "Scraper going at...: 4635it [1:49:10,  1.10s/it]"
     ]
    },
    {
     "name": "stdout",
     "output_type": "stream",
     "text": [
      "No main image div found in URL: https://www.nos.nl/artikel/2492807\n"
     ]
    },
    {
     "name": "stderr",
     "output_type": "stream",
     "text": [
      "Scraper going at...: 4636it [1:49:11,  1.19s/it]"
     ]
    },
    {
     "name": "stdout",
     "output_type": "stream",
     "text": [
      "No main image div found in URL: https://www.nos.nl/artikel/2492806\n"
     ]
    },
    {
     "name": "stderr",
     "output_type": "stream",
     "text": [
      "Scraper going at...: 4637it [1:49:12,  1.11s/it]"
     ]
    },
    {
     "name": "stdout",
     "output_type": "stream",
     "text": [
      "No main image div found in URL: https://www.nos.nl/artikel/2492803\n"
     ]
    },
    {
     "name": "stderr",
     "output_type": "stream",
     "text": [
      "Scraper going at...: 4654it [1:49:34,  1.38s/it]"
     ]
    },
    {
     "name": "stdout",
     "output_type": "stream",
     "text": [
      "No figcaption found for images in URL: https://www.nos.nl/artikel/2492768\n"
     ]
    },
    {
     "name": "stderr",
     "output_type": "stream",
     "text": [
      "Scraper going at...: 4655it [1:49:35,  1.26s/it]"
     ]
    },
    {
     "name": "stdout",
     "output_type": "stream",
     "text": [
      "No figcaption found for images in URL: https://www.nos.nl/artikel/2492766\n"
     ]
    },
    {
     "name": "stderr",
     "output_type": "stream",
     "text": [
      "Scraper going at...: 4656it [1:49:37,  1.39s/it]"
     ]
    },
    {
     "name": "stdout",
     "output_type": "stream",
     "text": [
      "No main image div found in URL: https://www.nos.nl/artikel/2492764\n"
     ]
    },
    {
     "name": "stderr",
     "output_type": "stream",
     "text": [
      "Scraper going at...: 4658it [1:49:39,  1.37s/it]"
     ]
    },
    {
     "name": "stdout",
     "output_type": "stream",
     "text": [
      "No figcaption found for images in URL: https://www.nos.nl/artikel/2492762\n"
     ]
    },
    {
     "name": "stderr",
     "output_type": "stream",
     "text": [
      "Scraper going at...: 4664it [1:49:45,  1.07s/it]"
     ]
    },
    {
     "name": "stdout",
     "output_type": "stream",
     "text": [
      "No figcaption found for images in URL: https://www.nos.nl/artikel/2492754\n"
     ]
    },
    {
     "name": "stderr",
     "output_type": "stream",
     "text": [
      "Scraper going at...: 4666it [1:49:49,  1.55s/it]"
     ]
    },
    {
     "name": "stdout",
     "output_type": "stream",
     "text": [
      "No figcaption found for images in URL: https://www.nos.nl/artikel/2492752\n"
     ]
    },
    {
     "name": "stderr",
     "output_type": "stream",
     "text": [
      "Scraper going at...: 4667it [1:49:50,  1.39s/it]"
     ]
    },
    {
     "name": "stdout",
     "output_type": "stream",
     "text": [
      "No figcaption found for images in URL: https://www.nos.nl/artikel/2492751\n"
     ]
    },
    {
     "name": "stderr",
     "output_type": "stream",
     "text": [
      "Scraper going at...: 4670it [1:49:56,  1.68s/it]"
     ]
    },
    {
     "name": "stdout",
     "output_type": "stream",
     "text": [
      "No figcaption found for images in URL: https://www.nos.nl/artikel/2492747\n"
     ]
    },
    {
     "name": "stderr",
     "output_type": "stream",
     "text": [
      "Scraper going at...: 4675it [1:50:01,  1.11s/it]"
     ]
    },
    {
     "name": "stdout",
     "output_type": "stream",
     "text": [
      "No figcaption found for images in URL: https://www.nos.nl/artikel/2492738\n"
     ]
    },
    {
     "name": "stderr",
     "output_type": "stream",
     "text": [
      "Scraper going at...: 4676it [1:50:03,  1.36s/it]"
     ]
    },
    {
     "name": "stdout",
     "output_type": "stream",
     "text": [
      "No figcaption found for images in URL: https://www.nos.nl/artikel/2492737\n"
     ]
    },
    {
     "name": "stderr",
     "output_type": "stream",
     "text": [
      "Scraper going at...: 4679it [1:50:08,  1.56s/it]"
     ]
    },
    {
     "name": "stdout",
     "output_type": "stream",
     "text": [
      "No figcaption found for images in URL: https://www.nos.nl/artikel/2492731\n"
     ]
    },
    {
     "name": "stderr",
     "output_type": "stream",
     "text": [
      "Scraper going at...: 4683it [1:50:15,  1.47s/it]"
     ]
    },
    {
     "name": "stdout",
     "output_type": "stream",
     "text": [
      "No figcaption found for images in URL: https://www.nos.nl/artikel/2492726\n"
     ]
    },
    {
     "name": "stderr",
     "output_type": "stream",
     "text": [
      "Scraper going at...: 4692it [1:50:28,  1.34s/it]"
     ]
    },
    {
     "name": "stdout",
     "output_type": "stream",
     "text": [
      "No main image div found in URL: https://www.nos.nl/artikel/2492710\n"
     ]
    },
    {
     "name": "stderr",
     "output_type": "stream",
     "text": [
      "Scraper going at...: 4695it [1:50:33,  1.64s/it]"
     ]
    },
    {
     "name": "stdout",
     "output_type": "stream",
     "text": [
      "No main image div found in URL: https://www.nos.nl/artikel/2492701\n"
     ]
    },
    {
     "name": "stderr",
     "output_type": "stream",
     "text": [
      "Scraper going at...: 4698it [1:50:37,  1.52s/it]"
     ]
    },
    {
     "name": "stdout",
     "output_type": "stream",
     "text": [
      "No figcaption found for images in URL: https://www.nos.nl/artikel/2492693\n"
     ]
    },
    {
     "name": "stderr",
     "output_type": "stream",
     "text": [
      "Scraper going at...: 4700it [1:50:41,  1.64s/it]"
     ]
    },
    {
     "name": "stdout",
     "output_type": "stream",
     "text": [
      "No figcaption found for images in URL: https://www.nos.nl/artikel/2492690\n"
     ]
    },
    {
     "name": "stderr",
     "output_type": "stream",
     "text": [
      "Scraper going at...: 4701it [1:50:42,  1.51s/it]"
     ]
    },
    {
     "name": "stdout",
     "output_type": "stream",
     "text": [
      "No figcaption found for images in URL: https://www.nos.nl/artikel/2492689\n"
     ]
    },
    {
     "name": "stderr",
     "output_type": "stream",
     "text": [
      "Scraper going at...: 4704it [1:50:45,  1.20s/it]"
     ]
    },
    {
     "name": "stdout",
     "output_type": "stream",
     "text": [
      "No figcaption found for images in URL: https://www.nos.nl/artikel/2492683\n"
     ]
    },
    {
     "name": "stderr",
     "output_type": "stream",
     "text": [
      "Scraper going at...: 4710it [1:50:54,  1.53s/it]"
     ]
    },
    {
     "name": "stdout",
     "output_type": "stream",
     "text": [
      "No figcaption found for images in URL: https://www.nos.nl/artikel/2492672\n"
     ]
    },
    {
     "name": "stderr",
     "output_type": "stream",
     "text": [
      "Scraper going at...: 4712it [1:50:57,  1.52s/it]"
     ]
    },
    {
     "name": "stdout",
     "output_type": "stream",
     "text": [
      "No figcaption found for images in URL: https://www.nos.nl/artikel/2492670\n"
     ]
    },
    {
     "name": "stderr",
     "output_type": "stream",
     "text": [
      "Scraper going at...: 4714it [1:50:59,  1.47s/it]"
     ]
    },
    {
     "name": "stdout",
     "output_type": "stream",
     "text": [
      "No main image div found in URL: https://www.nos.nl/artikel/2492668\n"
     ]
    },
    {
     "name": "stderr",
     "output_type": "stream",
     "text": [
      "Scraper going at...: 4717it [1:51:04,  1.68s/it]"
     ]
    },
    {
     "name": "stdout",
     "output_type": "stream",
     "text": [
      "No figcaption found for images in URL: https://www.nos.nl/artikel/2492663\n"
     ]
    },
    {
     "name": "stderr",
     "output_type": "stream",
     "text": [
      "Scraper going at...: 4719it [1:51:08,  1.73s/it]"
     ]
    },
    {
     "name": "stdout",
     "output_type": "stream",
     "text": [
      "No figcaption found for images in URL: https://www.nos.nl/artikel/2492661\n"
     ]
    },
    {
     "name": "stderr",
     "output_type": "stream",
     "text": [
      "Scraper going at...: 4721it [1:51:14,  2.28s/it]"
     ]
    },
    {
     "name": "stdout",
     "output_type": "stream",
     "text": [
      "No figcaption found for images in URL: https://www.nos.nl/artikel/2492659\n"
     ]
    },
    {
     "name": "stderr",
     "output_type": "stream",
     "text": [
      "Scraper going at...: 4724it [1:51:18,  1.58s/it]"
     ]
    },
    {
     "name": "stdout",
     "output_type": "stream",
     "text": [
      "No main image div found in URL: https://www.nos.nl/artikel/2492653\n"
     ]
    },
    {
     "name": "stderr",
     "output_type": "stream",
     "text": [
      "Scraper going at...: 4733it [1:51:31,  1.58s/it]"
     ]
    },
    {
     "name": "stdout",
     "output_type": "stream",
     "text": [
      "No main image div found in URL: https://www.nos.nl/artikel/2492632\n"
     ]
    },
    {
     "name": "stderr",
     "output_type": "stream",
     "text": [
      "Scraper going at...: 4735it [1:51:34,  1.42s/it]"
     ]
    },
    {
     "name": "stdout",
     "output_type": "stream",
     "text": [
      "No figcaption found for images in URL: https://www.nos.nl/artikel/2492626\n"
     ]
    },
    {
     "name": "stderr",
     "output_type": "stream",
     "text": [
      "Scraper going at...: 4736it [1:51:35,  1.31s/it]"
     ]
    },
    {
     "name": "stdout",
     "output_type": "stream",
     "text": [
      "No main image div found in URL: https://www.nos.nl/artikel/2492625\n"
     ]
    },
    {
     "name": "stderr",
     "output_type": "stream",
     "text": [
      "Scraper going at...: 4739it [1:51:39,  1.26s/it]"
     ]
    },
    {
     "name": "stdout",
     "output_type": "stream",
     "text": [
      "No figcaption found for images in URL: https://www.nos.nl/artikel/2492621\n"
     ]
    },
    {
     "name": "stderr",
     "output_type": "stream",
     "text": [
      "Scraper going at...: 4741it [1:51:41,  1.11s/it]"
     ]
    },
    {
     "name": "stdout",
     "output_type": "stream",
     "text": [
      "No main image div found in URL: https://www.nos.nl/artikel/2492615\n"
     ]
    },
    {
     "name": "stderr",
     "output_type": "stream",
     "text": [
      "Scraper going at...: 4747it [1:51:50,  1.80s/it]"
     ]
    },
    {
     "name": "stdout",
     "output_type": "stream",
     "text": [
      "No figcaption found for images in URL: https://www.nos.nl/artikel/2492603\n"
     ]
    },
    {
     "name": "stderr",
     "output_type": "stream",
     "text": [
      "Scraper going at...: 4756it [1:52:02,  1.35s/it]"
     ]
    },
    {
     "name": "stdout",
     "output_type": "stream",
     "text": [
      "No main image div found in URL: https://www.nos.nl/artikel/2492580\n"
     ]
    },
    {
     "name": "stderr",
     "output_type": "stream",
     "text": [
      "Scraper going at...: 4757it [1:52:03,  1.25s/it]"
     ]
    },
    {
     "name": "stdout",
     "output_type": "stream",
     "text": [
      "No figcaption found for images in URL: https://www.nos.nl/artikel/2492575\n"
     ]
    },
    {
     "name": "stderr",
     "output_type": "stream",
     "text": [
      "Scraper going at...: 4759it [1:52:06,  1.47s/it]"
     ]
    },
    {
     "name": "stdout",
     "output_type": "stream",
     "text": [
      "No figcaption found for images in URL: https://www.nos.nl/artikel/2492572\n"
     ]
    },
    {
     "name": "stderr",
     "output_type": "stream",
     "text": [
      "Scraper going at...: 4761it [1:52:08,  1.20s/it]"
     ]
    },
    {
     "name": "stdout",
     "output_type": "stream",
     "text": [
      "No figcaption found for images in URL: https://www.nos.nl/artikel/2492569\n"
     ]
    },
    {
     "name": "stderr",
     "output_type": "stream",
     "text": [
      "Scraper going at...: 4769it [1:52:22,  1.93s/it]"
     ]
    },
    {
     "name": "stdout",
     "output_type": "stream",
     "text": [
      "No main image div found in URL: https://www.nos.nl/artikel/2492548\n"
     ]
    },
    {
     "name": "stderr",
     "output_type": "stream",
     "text": [
      "Scraper going at...: 4772it [1:52:25,  1.46s/it]"
     ]
    },
    {
     "name": "stdout",
     "output_type": "stream",
     "text": [
      "No main image div found in URL: https://www.nos.nl/artikel/2492533\n"
     ]
    },
    {
     "name": "stderr",
     "output_type": "stream",
     "text": [
      "Scraper going at...: 4773it [1:52:26,  1.36s/it]"
     ]
    },
    {
     "name": "stdout",
     "output_type": "stream",
     "text": [
      "No main image div found in URL: https://www.nos.nl/artikel/2492532\n"
     ]
    },
    {
     "name": "stderr",
     "output_type": "stream",
     "text": [
      "Scraper going at...: 4775it [1:52:29,  1.24s/it]"
     ]
    },
    {
     "name": "stdout",
     "output_type": "stream",
     "text": [
      "No main image div found in URL: https://www.nos.nl/artikel/2492530\n"
     ]
    },
    {
     "name": "stderr",
     "output_type": "stream",
     "text": [
      "Scraper going at...: 4776it [1:52:30,  1.23s/it]"
     ]
    },
    {
     "name": "stdout",
     "output_type": "stream",
     "text": [
      "No figcaption found for images in URL: https://www.nos.nl/artikel/2492529\n"
     ]
    },
    {
     "name": "stderr",
     "output_type": "stream",
     "text": [
      "Scraper going at...: 4778it [1:52:32,  1.09s/it]"
     ]
    },
    {
     "name": "stdout",
     "output_type": "stream",
     "text": [
      "No main image div found in URL: https://www.nos.nl/artikel/2492524\n"
     ]
    },
    {
     "name": "stderr",
     "output_type": "stream",
     "text": [
      "Scraper going at...: 4780it [1:52:34,  1.16s/it]"
     ]
    },
    {
     "name": "stdout",
     "output_type": "stream",
     "text": [
      "No main image div found in URL: https://www.nos.nl/artikel/2492521\n"
     ]
    },
    {
     "name": "stderr",
     "output_type": "stream",
     "text": [
      "Scraper going at...: 4784it [1:52:38,  1.09s/it]"
     ]
    },
    {
     "name": "stdout",
     "output_type": "stream",
     "text": [
      "No main image div found in URL: https://www.nos.nl/artikel/2492511\n"
     ]
    },
    {
     "name": "stderr",
     "output_type": "stream",
     "text": [
      "Scraper going at...: 4785it [1:52:40,  1.15s/it]"
     ]
    },
    {
     "name": "stdout",
     "output_type": "stream",
     "text": [
      "No main image div found in URL: https://www.nos.nl/artikel/2492510\n"
     ]
    },
    {
     "name": "stderr",
     "output_type": "stream",
     "text": [
      "Scraper going at...: 4788it [1:52:45,  1.74s/it]"
     ]
    },
    {
     "name": "stdout",
     "output_type": "stream",
     "text": [
      "No main image div found in URL: https://www.nos.nl/artikel/2492504\n"
     ]
    },
    {
     "name": "stderr",
     "output_type": "stream",
     "text": [
      "Scraper going at...: 4791it [1:52:50,  1.62s/it]"
     ]
    },
    {
     "name": "stdout",
     "output_type": "stream",
     "text": [
      "No main image div found in URL: https://www.nos.nl/artikel/2492498\n"
     ]
    },
    {
     "name": "stderr",
     "output_type": "stream",
     "text": [
      "Scraper going at...: 4793it [1:52:52,  1.47s/it]"
     ]
    },
    {
     "name": "stdout",
     "output_type": "stream",
     "text": [
      "No main image div found in URL: https://www.nos.nl/artikel/2492492\n"
     ]
    },
    {
     "name": "stderr",
     "output_type": "stream",
     "text": [
      "Scraper going at...: 4797it [1:52:59,  1.69s/it]"
     ]
    },
    {
     "name": "stdout",
     "output_type": "stream",
     "text": [
      "No figcaption found for images in URL: https://www.nos.nl/artikel/2492486\n"
     ]
    },
    {
     "name": "stderr",
     "output_type": "stream",
     "text": [
      "Scraper going at...: 4802it [1:53:05,  1.21s/it]"
     ]
    },
    {
     "name": "stdout",
     "output_type": "stream",
     "text": [
      "No figcaption found for images in URL: https://www.nos.nl/artikel/2492475\n"
     ]
    },
    {
     "name": "stderr",
     "output_type": "stream",
     "text": [
      "Scraper going at...: 4808it [1:53:12,  1.32s/it]"
     ]
    },
    {
     "name": "stdout",
     "output_type": "stream",
     "text": [
      "No figcaption found for images in URL: https://www.nos.nl/artikel/2492458\n"
     ]
    },
    {
     "name": "stderr",
     "output_type": "stream",
     "text": [
      "Scraper going at...: 4809it [1:53:14,  1.45s/it]"
     ]
    },
    {
     "name": "stdout",
     "output_type": "stream",
     "text": [
      "No main image div found in URL: https://www.nos.nl/artikel/2492457\n"
     ]
    },
    {
     "name": "stderr",
     "output_type": "stream",
     "text": [
      "Scraper going at...: 4810it [1:53:16,  1.51s/it]"
     ]
    },
    {
     "name": "stdout",
     "output_type": "stream",
     "text": [
      "No figcaption found for images in URL: https://www.nos.nl/artikel/2492453\n"
     ]
    },
    {
     "name": "stderr",
     "output_type": "stream",
     "text": [
      "Scraper going at...: 4811it [1:53:17,  1.45s/it]"
     ]
    },
    {
     "name": "stdout",
     "output_type": "stream",
     "text": [
      "No figcaption found for images in URL: https://www.nos.nl/artikel/2492452\n"
     ]
    },
    {
     "name": "stderr",
     "output_type": "stream",
     "text": [
      "Scraper going at...: 4812it [1:53:18,  1.38s/it]"
     ]
    },
    {
     "name": "stdout",
     "output_type": "stream",
     "text": [
      "No figcaption found for images in URL: https://www.nos.nl/artikel/2492445\n"
     ]
    },
    {
     "name": "stderr",
     "output_type": "stream",
     "text": [
      "Scraper going at...: 4813it [1:53:20,  1.34s/it]"
     ]
    },
    {
     "name": "stdout",
     "output_type": "stream",
     "text": [
      "No main image div found in URL: https://www.nos.nl/artikel/2492444\n"
     ]
    },
    {
     "name": "stderr",
     "output_type": "stream",
     "text": [
      "Scraper going at...: 4817it [1:53:26,  1.55s/it]"
     ]
    },
    {
     "name": "stdout",
     "output_type": "stream",
     "text": [
      "No main image div found in URL: https://www.nos.nl/artikel/2492434\n"
     ]
    },
    {
     "name": "stderr",
     "output_type": "stream",
     "text": [
      "Scraper going at...: 4819it [1:53:30,  1.70s/it]"
     ]
    },
    {
     "name": "stdout",
     "output_type": "stream",
     "text": [
      "No main image div found in URL: https://www.nos.nl/artikel/2492432\n"
     ]
    },
    {
     "name": "stderr",
     "output_type": "stream",
     "text": [
      "Scraper going at...: 4821it [1:53:32,  1.49s/it]"
     ]
    },
    {
     "name": "stdout",
     "output_type": "stream",
     "text": [
      "No main image div found in URL: https://www.nos.nl/artikel/2492421\n"
     ]
    },
    {
     "name": "stderr",
     "output_type": "stream",
     "text": [
      "Scraper going at...: 4822it [1:53:33,  1.43s/it]"
     ]
    },
    {
     "name": "stdout",
     "output_type": "stream",
     "text": [
      "No main image div found in URL: https://www.nos.nl/artikel/2492419\n"
     ]
    },
    {
     "name": "stderr",
     "output_type": "stream",
     "text": [
      "Scraper going at...: 4824it [1:53:36,  1.29s/it]"
     ]
    },
    {
     "name": "stdout",
     "output_type": "stream",
     "text": [
      "No main image div found in URL: https://www.nos.nl/artikel/2492416\n"
     ]
    },
    {
     "name": "stderr",
     "output_type": "stream",
     "text": [
      "Scraper going at...: 4826it [1:53:40,  1.64s/it]"
     ]
    },
    {
     "name": "stdout",
     "output_type": "stream",
     "text": [
      "No main image div found in URL: https://www.nos.nl/artikel/2492401\n"
     ]
    },
    {
     "name": "stderr",
     "output_type": "stream",
     "text": [
      "Scraper going at...: 4831it [1:53:45,  1.20s/it]"
     ]
    },
    {
     "name": "stdout",
     "output_type": "stream",
     "text": [
      "No main image div found in URL: https://www.nos.nl/artikel/2492386\n"
     ]
    },
    {
     "name": "stderr",
     "output_type": "stream",
     "text": [
      "Scraper going at...: 4833it [1:53:48,  1.36s/it]"
     ]
    },
    {
     "name": "stdout",
     "output_type": "stream",
     "text": [
      "No main image div found in URL: https://www.nos.nl/artikel/2492384\n"
     ]
    },
    {
     "name": "stderr",
     "output_type": "stream",
     "text": [
      "Scraper going at...: 4842it [1:54:01,  1.32s/it]"
     ]
    },
    {
     "name": "stdout",
     "output_type": "stream",
     "text": [
      "No main image div found in URL: https://www.nos.nl/artikel/2492363\n"
     ]
    },
    {
     "name": "stderr",
     "output_type": "stream",
     "text": [
      "Scraper going at...: 4843it [1:54:02,  1.24s/it]"
     ]
    },
    {
     "name": "stdout",
     "output_type": "stream",
     "text": [
      "No figcaption found for images in URL: https://www.nos.nl/artikel/2492362\n"
     ]
    },
    {
     "name": "stderr",
     "output_type": "stream",
     "text": [
      "Scraper going at...: 4848it [1:54:09,  1.21s/it]"
     ]
    },
    {
     "name": "stdout",
     "output_type": "stream",
     "text": [
      "No figcaption found for images in URL: https://www.nos.nl/artikel/2492354\n"
     ]
    },
    {
     "name": "stderr",
     "output_type": "stream",
     "text": [
      "Scraper going at...: 4853it [1:54:15,  1.12s/it]"
     ]
    },
    {
     "name": "stdout",
     "output_type": "stream",
     "text": [
      "No figcaption found for images in URL: https://www.nos.nl/artikel/2492344\n"
     ]
    },
    {
     "name": "stderr",
     "output_type": "stream",
     "text": [
      "Scraper going at...: 4859it [1:54:25,  1.72s/it]"
     ]
    },
    {
     "name": "stdout",
     "output_type": "stream",
     "text": [
      "No figcaption found for images in URL: https://www.nos.nl/artikel/2492338\n"
     ]
    },
    {
     "name": "stderr",
     "output_type": "stream",
     "text": [
      "Scraper going at...: 4871it [1:54:41,  1.23s/it]"
     ]
    },
    {
     "name": "stdout",
     "output_type": "stream",
     "text": [
      "No figcaption found for images in URL: https://www.nos.nl/artikel/2492316\n"
     ]
    },
    {
     "name": "stderr",
     "output_type": "stream",
     "text": [
      "Scraper going at...: 4873it [1:54:44,  1.47s/it]"
     ]
    },
    {
     "name": "stdout",
     "output_type": "stream",
     "text": [
      "No figcaption found for images in URL: https://www.nos.nl/artikel/2492308\n"
     ]
    },
    {
     "name": "stderr",
     "output_type": "stream",
     "text": [
      "Scraper going at...: 4874it [1:54:45,  1.32s/it]"
     ]
    },
    {
     "name": "stdout",
     "output_type": "stream",
     "text": [
      "No main image div found in URL: https://www.nos.nl/artikel/2492304\n"
     ]
    },
    {
     "name": "stderr",
     "output_type": "stream",
     "text": [
      "Scraper going at...: 4881it [1:54:58,  1.76s/it]"
     ]
    },
    {
     "name": "stdout",
     "output_type": "stream",
     "text": [
      "No figcaption found for images in URL: https://www.nos.nl/artikel/2492290\n"
     ]
    },
    {
     "name": "stderr",
     "output_type": "stream",
     "text": [
      "Scraper going at...: 4882it [1:55:00,  1.55s/it]"
     ]
    },
    {
     "name": "stdout",
     "output_type": "stream",
     "text": [
      "No main image div found in URL: https://www.nos.nl/artikel/2492289\n"
     ]
    },
    {
     "name": "stderr",
     "output_type": "stream",
     "text": [
      "Scraper going at...: 4883it [1:55:01,  1.50s/it]"
     ]
    },
    {
     "name": "stdout",
     "output_type": "stream",
     "text": [
      "No figcaption found for images in URL: https://www.nos.nl/artikel/2492280\n"
     ]
    },
    {
     "name": "stderr",
     "output_type": "stream",
     "text": [
      "Scraper going at...: 4884it [1:55:02,  1.47s/it]"
     ]
    },
    {
     "name": "stdout",
     "output_type": "stream",
     "text": [
      "No figcaption found for images in URL: https://www.nos.nl/artikel/2492278\n"
     ]
    },
    {
     "name": "stderr",
     "output_type": "stream",
     "text": [
      "Scraper going at...: 4885it [1:55:03,  1.37s/it]"
     ]
    },
    {
     "name": "stdout",
     "output_type": "stream",
     "text": [
      "No figcaption found for images in URL: https://www.nos.nl/artikel/2492276\n"
     ]
    },
    {
     "name": "stderr",
     "output_type": "stream",
     "text": [
      "Scraper going at...: 4889it [1:55:08,  1.39s/it]"
     ]
    },
    {
     "name": "stdout",
     "output_type": "stream",
     "text": [
      "No figcaption found for images in URL: https://www.nos.nl/artikel/2492262\n"
     ]
    },
    {
     "name": "stderr",
     "output_type": "stream",
     "text": [
      "Scraper going at...: 4891it [1:55:10,  1.19s/it]"
     ]
    },
    {
     "name": "stdout",
     "output_type": "stream",
     "text": [
      "No figcaption found for images in URL: https://www.nos.nl/artikel/2492257\n"
     ]
    },
    {
     "name": "stderr",
     "output_type": "stream",
     "text": [
      "Scraper going at...: 4895it [1:55:19,  2.30s/it]"
     ]
    },
    {
     "name": "stdout",
     "output_type": "stream",
     "text": [
      "No main image div found in URL: https://www.nos.nl/artikel/2492244\n"
     ]
    },
    {
     "name": "stderr",
     "output_type": "stream",
     "text": [
      "Scraper going at...: 4896it [1:55:20,  1.90s/it]"
     ]
    },
    {
     "name": "stdout",
     "output_type": "stream",
     "text": [
      "No figcaption found for images in URL: https://www.nos.nl/artikel/2492243\n"
     ]
    },
    {
     "name": "stderr",
     "output_type": "stream",
     "text": [
      "Scraper going at...: 4897it [1:55:21,  1.62s/it]"
     ]
    },
    {
     "name": "stdout",
     "output_type": "stream",
     "text": [
      "No main image div found in URL: https://www.nos.nl/artikel/2492239\n"
     ]
    },
    {
     "name": "stderr",
     "output_type": "stream",
     "text": [
      "Scraper going at...: 4899it [1:55:23,  1.30s/it]"
     ]
    },
    {
     "name": "stdout",
     "output_type": "stream",
     "text": [
      "No figcaption found for images in URL: https://www.nos.nl/artikel/2492234\n"
     ]
    },
    {
     "name": "stderr",
     "output_type": "stream",
     "text": [
      "Scraper going at...: 4900it [1:55:25,  1.55s/it]"
     ]
    },
    {
     "name": "stdout",
     "output_type": "stream",
     "text": [
      "No main image div found in URL: https://www.nos.nl/artikel/2492231\n"
     ]
    },
    {
     "name": "stderr",
     "output_type": "stream",
     "text": [
      "Scraper going at...: 4901it [1:55:27,  1.45s/it]"
     ]
    },
    {
     "name": "stdout",
     "output_type": "stream",
     "text": [
      "No figcaption found for images in URL: https://www.nos.nl/artikel/2492229\n"
     ]
    },
    {
     "name": "stderr",
     "output_type": "stream",
     "text": [
      "Scraper going at...: 4913it [1:55:43,  1.39s/it]"
     ]
    },
    {
     "name": "stdout",
     "output_type": "stream",
     "text": [
      "No main image div found in URL: https://www.nos.nl/artikel/2492211\n"
     ]
    },
    {
     "name": "stderr",
     "output_type": "stream",
     "text": [
      "Scraper going at...: 4915it [1:55:47,  1.49s/it]"
     ]
    },
    {
     "name": "stdout",
     "output_type": "stream",
     "text": [
      "No figcaption found for images in URL: https://www.nos.nl/artikel/2492208\n"
     ]
    },
    {
     "name": "stderr",
     "output_type": "stream",
     "text": [
      "Scraper going at...: 4920it [1:55:56,  1.79s/it]"
     ]
    },
    {
     "name": "stdout",
     "output_type": "stream",
     "text": [
      "No figcaption found for images in URL: https://www.nos.nl/artikel/2492187\n"
     ]
    },
    {
     "name": "stderr",
     "output_type": "stream",
     "text": [
      "Scraper going at...: 4921it [1:55:57,  1.55s/it]"
     ]
    },
    {
     "name": "stdout",
     "output_type": "stream",
     "text": [
      "No main image div found in URL: https://www.nos.nl/artikel/2492186\n"
     ]
    },
    {
     "name": "stderr",
     "output_type": "stream",
     "text": [
      "Scraper going at...: 4923it [1:55:59,  1.35s/it]"
     ]
    },
    {
     "name": "stdout",
     "output_type": "stream",
     "text": [
      "No figcaption found for images in URL: https://www.nos.nl/artikel/2492183\n"
     ]
    },
    {
     "name": "stderr",
     "output_type": "stream",
     "text": [
      "Scraper going at...: 4926it [1:56:04,  1.63s/it]"
     ]
    },
    {
     "name": "stdout",
     "output_type": "stream",
     "text": [
      "No main image div found in URL: https://www.nos.nl/artikel/2492177\n"
     ]
    },
    {
     "name": "stderr",
     "output_type": "stream",
     "text": [
      "Scraper going at...: 4927it [1:56:06,  1.69s/it]"
     ]
    },
    {
     "name": "stdout",
     "output_type": "stream",
     "text": [
      "No main image div found in URL: https://www.nos.nl/artikel/2492176\n"
     ]
    },
    {
     "name": "stderr",
     "output_type": "stream",
     "text": [
      "Scraper going at...: 4930it [1:56:09,  1.30s/it]"
     ]
    },
    {
     "name": "stdout",
     "output_type": "stream",
     "text": [
      "No figcaption found for images in URL: https://www.nos.nl/artikel/2492170\n"
     ]
    },
    {
     "name": "stderr",
     "output_type": "stream",
     "text": [
      "Scraper going at...: 4931it [1:56:10,  1.22s/it]"
     ]
    },
    {
     "name": "stdout",
     "output_type": "stream",
     "text": [
      "No figcaption found for images in URL: https://www.nos.nl/artikel/2492166\n"
     ]
    },
    {
     "name": "stderr",
     "output_type": "stream",
     "text": [
      "Scraper going at...: 4932it [1:56:11,  1.17s/it]"
     ]
    },
    {
     "name": "stdout",
     "output_type": "stream",
     "text": [
      "No figcaption found for images in URL: https://www.nos.nl/artikel/2492165\n"
     ]
    },
    {
     "name": "stderr",
     "output_type": "stream",
     "text": [
      "Scraper going at...: 4933it [1:56:12,  1.10s/it]"
     ]
    },
    {
     "name": "stdout",
     "output_type": "stream",
     "text": [
      "No figcaption found for images in URL: https://www.nos.nl/artikel/2492164\n"
     ]
    },
    {
     "name": "stderr",
     "output_type": "stream",
     "text": [
      "Scraper going at...: 4937it [1:56:21,  1.78s/it]"
     ]
    },
    {
     "name": "stdout",
     "output_type": "stream",
     "text": [
      "No figcaption found for images in URL: https://www.nos.nl/artikel/2492154\n"
     ]
    },
    {
     "name": "stderr",
     "output_type": "stream",
     "text": [
      "Scraper going at...: 4942it [1:56:27,  1.27s/it]"
     ]
    },
    {
     "name": "stdout",
     "output_type": "stream",
     "text": [
      "No main image div found in URL: https://www.nos.nl/artikel/2492148\n"
     ]
    },
    {
     "name": "stderr",
     "output_type": "stream",
     "text": [
      "Scraper going at...: 4944it [1:56:29,  1.31s/it]"
     ]
    },
    {
     "name": "stdout",
     "output_type": "stream",
     "text": [
      "No main image div found in URL: https://www.nos.nl/artikel/2492145\n"
     ]
    },
    {
     "name": "stderr",
     "output_type": "stream",
     "text": [
      "Scraper going at...: 4948it [1:56:34,  1.13s/it]"
     ]
    },
    {
     "name": "stdout",
     "output_type": "stream",
     "text": [
      "No main image div found in URL: https://www.nos.nl/artikel/2492137\n"
     ]
    },
    {
     "name": "stderr",
     "output_type": "stream",
     "text": [
      "Scraper going at...: 4949it [1:56:35,  1.08s/it]"
     ]
    },
    {
     "name": "stdout",
     "output_type": "stream",
     "text": [
      "No main image div found in URL: https://www.nos.nl/artikel/2492136\n"
     ]
    },
    {
     "name": "stderr",
     "output_type": "stream",
     "text": [
      "Scraper going at...: 4950it [1:56:36,  1.11s/it]"
     ]
    },
    {
     "name": "stdout",
     "output_type": "stream",
     "text": [
      "No figcaption found for images in URL: https://www.nos.nl/artikel/2492133\n"
     ]
    },
    {
     "name": "stderr",
     "output_type": "stream",
     "text": [
      "Scraper going at...: 4962it [1:56:51,  1.38s/it]"
     ]
    },
    {
     "name": "stdout",
     "output_type": "stream",
     "text": [
      "No figcaption found for images in URL: https://www.nos.nl/artikel/2492108\n"
     ]
    },
    {
     "name": "stderr",
     "output_type": "stream",
     "text": [
      "Scraper going at...: 4963it [1:56:53,  1.31s/it]"
     ]
    },
    {
     "name": "stdout",
     "output_type": "stream",
     "text": [
      "No figcaption found for images in URL: https://www.nos.nl/artikel/2492107\n"
     ]
    },
    {
     "name": "stderr",
     "output_type": "stream",
     "text": [
      "Scraper going at...: 4965it [1:56:55,  1.17s/it]"
     ]
    },
    {
     "name": "stdout",
     "output_type": "stream",
     "text": [
      "No figcaption found for images in URL: https://www.nos.nl/artikel/2492105\n"
     ]
    },
    {
     "name": "stderr",
     "output_type": "stream",
     "text": [
      "Scraper going at...: 4971it [1:57:01,  1.03s/it]"
     ]
    },
    {
     "name": "stdout",
     "output_type": "stream",
     "text": [
      "No main image div found in URL: https://www.nos.nl/artikel/2492091\n"
     ]
    },
    {
     "name": "stderr",
     "output_type": "stream",
     "text": [
      "Scraper going at...: 4973it [1:57:03,  1.13s/it]"
     ]
    },
    {
     "name": "stdout",
     "output_type": "stream",
     "text": [
      "No figcaption found for images in URL: https://www.nos.nl/artikel/2492086\n"
     ]
    },
    {
     "name": "stderr",
     "output_type": "stream",
     "text": [
      "Scraper going at...: 4974it [1:57:04,  1.10s/it]"
     ]
    },
    {
     "name": "stdout",
     "output_type": "stream",
     "text": [
      "No main image div found in URL: https://www.nos.nl/artikel/2492084\n"
     ]
    },
    {
     "name": "stderr",
     "output_type": "stream",
     "text": [
      "Scraper going at...: 4975it [1:57:05,  1.13s/it]"
     ]
    },
    {
     "name": "stdout",
     "output_type": "stream",
     "text": [
      "No figcaption found for images in URL: https://www.nos.nl/artikel/2492083\n"
     ]
    },
    {
     "name": "stderr",
     "output_type": "stream",
     "text": [
      "Scraper going at...: 4977it [1:57:08,  1.15s/it]"
     ]
    },
    {
     "name": "stdout",
     "output_type": "stream",
     "text": [
      "No figcaption found for images in URL: https://www.nos.nl/artikel/2492079\n"
     ]
    },
    {
     "name": "stderr",
     "output_type": "stream",
     "text": [
      "Scraper going at...: 4978it [1:57:11,  1.85s/it]"
     ]
    },
    {
     "name": "stdout",
     "output_type": "stream",
     "text": [
      "No figcaption found for images in URL: https://www.nos.nl/artikel/2492078\n"
     ]
    },
    {
     "name": "stderr",
     "output_type": "stream",
     "text": [
      "Scraper going at...: 4979it [1:57:12,  1.58s/it]"
     ]
    },
    {
     "name": "stdout",
     "output_type": "stream",
     "text": [
      "No figcaption found for images in URL: https://www.nos.nl/artikel/2492077\n"
     ]
    },
    {
     "name": "stderr",
     "output_type": "stream",
     "text": [
      "Scraper going at...: 4981it [1:57:15,  1.50s/it]"
     ]
    },
    {
     "name": "stdout",
     "output_type": "stream",
     "text": [
      "No figcaption found for images in URL: https://www.nos.nl/artikel/2492074\n"
     ]
    },
    {
     "name": "stderr",
     "output_type": "stream",
     "text": [
      "Scraper going at...: 4988it [1:57:23,  1.16s/it]"
     ]
    },
    {
     "name": "stdout",
     "output_type": "stream",
     "text": [
      "No figcaption found for images in URL: https://www.nos.nl/artikel/2492055\n"
     ]
    },
    {
     "name": "stderr",
     "output_type": "stream",
     "text": [
      "Scraper going at...: 4994it [1:57:32,  1.35s/it]"
     ]
    },
    {
     "name": "stdout",
     "output_type": "stream",
     "text": [
      "No figcaption found for images in URL: https://www.nos.nl/artikel/2492047\n"
     ]
    },
    {
     "name": "stderr",
     "output_type": "stream",
     "text": [
      "Scraper going at...: 5000it [1:57:40,  1.40s/it]"
     ]
    },
    {
     "name": "stdout",
     "output_type": "stream",
     "text": [
      "No figcaption found for images in URL: https://www.nos.nl/artikel/2492031\n"
     ]
    },
    {
     "name": "stderr",
     "output_type": "stream",
     "text": [
      "Scraper going at...: 5002it [1:57:46,  2.26s/it]"
     ]
    },
    {
     "name": "stdout",
     "output_type": "stream",
     "text": [
      "No main image div found in URL: https://www.nos.nl/artikel/2492029\n"
     ]
    },
    {
     "name": "stderr",
     "output_type": "stream",
     "text": [
      "Scraper going at...: 5006it [1:57:53,  1.66s/it]"
     ]
    },
    {
     "name": "stdout",
     "output_type": "stream",
     "text": [
      "No figcaption found for images in URL: https://www.nos.nl/artikel/2492020\n"
     ]
    },
    {
     "name": "stderr",
     "output_type": "stream",
     "text": [
      "Scraper going at...: 5012it [1:58:04,  2.03s/it]"
     ]
    },
    {
     "name": "stdout",
     "output_type": "stream",
     "text": [
      "No figcaption found for images in URL: https://www.nos.nl/artikel/2492014\n"
     ]
    },
    {
     "name": "stderr",
     "output_type": "stream",
     "text": [
      "Scraper going at...: 5013it [1:58:05,  1.75s/it]"
     ]
    },
    {
     "name": "stdout",
     "output_type": "stream",
     "text": [
      "No figcaption found for images in URL: https://www.nos.nl/artikel/2492012\n"
     ]
    },
    {
     "name": "stderr",
     "output_type": "stream",
     "text": [
      "Scraper going at...: 5016it [1:58:09,  1.45s/it]"
     ]
    },
    {
     "name": "stdout",
     "output_type": "stream",
     "text": [
      "No figcaption found for images in URL: https://www.nos.nl/artikel/2492008\n"
     ]
    },
    {
     "name": "stderr",
     "output_type": "stream",
     "text": [
      "Scraper going at...: 5024it [1:58:21,  1.38s/it]"
     ]
    },
    {
     "name": "stdout",
     "output_type": "stream",
     "text": [
      "No figcaption found for images in URL: https://www.nos.nl/artikel/2491993\n"
     ]
    },
    {
     "name": "stderr",
     "output_type": "stream",
     "text": [
      "Scraper going at...: 5025it [1:58:22,  1.28s/it]"
     ]
    },
    {
     "name": "stdout",
     "output_type": "stream",
     "text": [
      "No main image div found in URL: https://www.nos.nl/artikel/2491989\n"
     ]
    },
    {
     "name": "stderr",
     "output_type": "stream",
     "text": [
      "Scraper going at...: 5029it [1:58:32,  2.35s/it]"
     ]
    },
    {
     "name": "stdout",
     "output_type": "stream",
     "text": [
      "No figcaption found for images in URL: https://www.nos.nl/artikel/2491980\n"
     ]
    },
    {
     "name": "stderr",
     "output_type": "stream",
     "text": [
      "Scraper going at...: 5030it [1:58:33,  2.05s/it]"
     ]
    },
    {
     "name": "stdout",
     "output_type": "stream",
     "text": [
      "No main image div found in URL: https://www.nos.nl/artikel/2491979\n"
     ]
    },
    {
     "name": "stderr",
     "output_type": "stream",
     "text": [
      "Scraper going at...: 5041it [1:58:48,  1.50s/it]"
     ]
    },
    {
     "name": "stdout",
     "output_type": "stream",
     "text": [
      "No figcaption found for images in URL: https://www.nos.nl/artikel/2491965\n"
     ]
    },
    {
     "name": "stderr",
     "output_type": "stream",
     "text": [
      "Scraper going at...: 5043it [1:58:53,  1.83s/it]"
     ]
    },
    {
     "name": "stdout",
     "output_type": "stream",
     "text": [
      "No figcaption found for images in URL: https://www.nos.nl/artikel/2491953\n"
     ]
    },
    {
     "name": "stderr",
     "output_type": "stream",
     "text": [
      "Scraper going at...: 5044it [1:58:54,  1.61s/it]"
     ]
    },
    {
     "name": "stdout",
     "output_type": "stream",
     "text": [
      "No main image div found in URL: https://www.nos.nl/artikel/2491951\n"
     ]
    },
    {
     "name": "stderr",
     "output_type": "stream",
     "text": [
      "Scraper going at...: 5051it [1:59:04,  1.54s/it]"
     ]
    },
    {
     "name": "stdout",
     "output_type": "stream",
     "text": [
      "No figcaption found for images in URL: https://www.nos.nl/artikel/2491932\n"
     ]
    },
    {
     "name": "stderr",
     "output_type": "stream",
     "text": [
      "Scraper going at...: 5054it [1:59:08,  1.22s/it]"
     ]
    },
    {
     "name": "stdout",
     "output_type": "stream",
     "text": [
      "No figcaption found for images in URL: https://www.nos.nl/artikel/2491928\n"
     ]
    },
    {
     "name": "stderr",
     "output_type": "stream",
     "text": [
      "Scraper going at...: 5059it [1:59:17,  1.84s/it]"
     ]
    },
    {
     "name": "stdout",
     "output_type": "stream",
     "text": [
      "No figcaption found for images in URL: https://www.nos.nl/artikel/2491917\n"
     ]
    },
    {
     "name": "stderr",
     "output_type": "stream",
     "text": [
      "Scraper going at...: 5060it [1:59:19,  2.05s/it]"
     ]
    },
    {
     "name": "stdout",
     "output_type": "stream",
     "text": [
      "No main image div found in URL: https://www.nos.nl/artikel/2491915\n"
     ]
    },
    {
     "name": "stderr",
     "output_type": "stream",
     "text": [
      "Scraper going at...: 5062it [1:59:22,  1.73s/it]"
     ]
    },
    {
     "name": "stdout",
     "output_type": "stream",
     "text": [
      "No figcaption found for images in URL: https://www.nos.nl/artikel/2491910\n"
     ]
    },
    {
     "name": "stderr",
     "output_type": "stream",
     "text": [
      "Scraper going at...: 5067it [1:59:27,  1.17s/it]"
     ]
    },
    {
     "name": "stdout",
     "output_type": "stream",
     "text": [
      "No figcaption found for images in URL: https://www.nos.nl/artikel/2491904\n"
     ]
    },
    {
     "name": "stderr",
     "output_type": "stream",
     "text": [
      "Scraper going at...: 5069it [1:59:30,  1.20s/it]"
     ]
    },
    {
     "name": "stdout",
     "output_type": "stream",
     "text": [
      "No figcaption found for images in URL: https://www.nos.nl/artikel/2491902\n"
     ]
    },
    {
     "name": "stderr",
     "output_type": "stream",
     "text": [
      "Scraper going at...: 5074it [1:59:37,  1.47s/it]"
     ]
    },
    {
     "name": "stdout",
     "output_type": "stream",
     "text": [
      "No figcaption found for images in URL: https://www.nos.nl/artikel/2491890\n"
     ]
    },
    {
     "name": "stderr",
     "output_type": "stream",
     "text": [
      "Scraper going at...: 5079it [1:59:44,  1.44s/it]"
     ]
    },
    {
     "name": "stdout",
     "output_type": "stream",
     "text": [
      "No figcaption found for images in URL: https://www.nos.nl/artikel/2491884\n"
     ]
    },
    {
     "name": "stderr",
     "output_type": "stream",
     "text": [
      "Scraper going at...: 5081it [1:59:47,  1.40s/it]"
     ]
    },
    {
     "name": "stdout",
     "output_type": "stream",
     "text": [
      "No figcaption found for images in URL: https://www.nos.nl/artikel/2491882\n"
     ]
    },
    {
     "name": "stderr",
     "output_type": "stream",
     "text": [
      "Scraper going at...: 5086it [1:59:53,  1.27s/it]"
     ]
    },
    {
     "name": "stdout",
     "output_type": "stream",
     "text": [
      "No figcaption found for images in URL: https://www.nos.nl/artikel/2491872\n"
     ]
    },
    {
     "name": "stderr",
     "output_type": "stream",
     "text": [
      "Scraper going at...: 5091it [2:00:01,  1.33s/it]"
     ]
    },
    {
     "name": "stdout",
     "output_type": "stream",
     "text": [
      "No figcaption found for images in URL: https://www.nos.nl/artikel/2491857\n"
     ]
    },
    {
     "name": "stderr",
     "output_type": "stream",
     "text": [
      "Scraper going at...: 5093it [2:00:03,  1.16s/it]"
     ]
    },
    {
     "name": "stdout",
     "output_type": "stream",
     "text": [
      "No figcaption found for images in URL: https://www.nos.nl/artikel/2491855\n"
     ]
    },
    {
     "name": "stderr",
     "output_type": "stream",
     "text": [
      "Scraper going at...: 5096it [2:00:07,  1.20s/it]"
     ]
    },
    {
     "name": "stdout",
     "output_type": "stream",
     "text": [
      "No figcaption found for images in URL: https://www.nos.nl/artikel/2491852\n"
     ]
    },
    {
     "name": "stderr",
     "output_type": "stream",
     "text": [
      "Scraper going at...: 5105it [2:00:20,  1.44s/it]"
     ]
    },
    {
     "name": "stdout",
     "output_type": "stream",
     "text": [
      "No main image div found in URL: https://www.nos.nl/artikel/2491838\n"
     ]
    },
    {
     "name": "stderr",
     "output_type": "stream",
     "text": [
      "Scraper going at...: 5121it [2:00:41,  1.08s/it]"
     ]
    },
    {
     "name": "stdout",
     "output_type": "stream",
     "text": [
      "No figcaption found for images in URL: https://www.nos.nl/artikel/2491802\n"
     ]
    },
    {
     "name": "stderr",
     "output_type": "stream",
     "text": [
      "Scraper going at...: 5122it [2:00:42,  1.06s/it]"
     ]
    },
    {
     "name": "stdout",
     "output_type": "stream",
     "text": [
      "No figcaption found for images in URL: https://www.nos.nl/artikel/2491801\n"
     ]
    },
    {
     "name": "stderr",
     "output_type": "stream",
     "text": [
      "Scraper going at...: 5124it [2:00:44,  1.06s/it]"
     ]
    },
    {
     "name": "stdout",
     "output_type": "stream",
     "text": [
      "No main image div found in URL: https://www.nos.nl/artikel/2491799\n"
     ]
    },
    {
     "name": "stderr",
     "output_type": "stream",
     "text": [
      "Scraper going at...: 5133it [2:00:56,  1.24s/it]"
     ]
    },
    {
     "name": "stdout",
     "output_type": "stream",
     "text": [
      "No figcaption found for images in URL: https://www.nos.nl/artikel/2491780\n"
     ]
    },
    {
     "name": "stderr",
     "output_type": "stream",
     "text": [
      "Scraper going at...: 5146it [2:01:16,  1.61s/it]"
     ]
    },
    {
     "name": "stdout",
     "output_type": "stream",
     "text": [
      "No figcaption found for images in URL: https://www.nos.nl/artikel/2491751\n"
     ]
    },
    {
     "name": "stderr",
     "output_type": "stream",
     "text": [
      "Scraper going at...: 5152it [2:01:22,  1.09s/it]"
     ]
    },
    {
     "name": "stdout",
     "output_type": "stream",
     "text": [
      "No main image div found in URL: https://www.nos.nl/artikel/2491744\n"
     ]
    },
    {
     "name": "stderr",
     "output_type": "stream",
     "text": [
      "Scraper going at...: 5158it [2:01:30,  1.21s/it]"
     ]
    },
    {
     "name": "stdout",
     "output_type": "stream",
     "text": [
      "No main image div found in URL: https://www.nos.nl/artikel/2491730\n"
     ]
    },
    {
     "name": "stderr",
     "output_type": "stream",
     "text": [
      "Scraper going at...: 5163it [2:01:37,  1.68s/it]"
     ]
    },
    {
     "name": "stdout",
     "output_type": "stream",
     "text": [
      "No main image div found in URL: https://www.nos.nl/artikel/2491715\n"
     ]
    },
    {
     "name": "stderr",
     "output_type": "stream",
     "text": [
      "Scraper going at...: 5164it [2:01:38,  1.56s/it]"
     ]
    },
    {
     "name": "stdout",
     "output_type": "stream",
     "text": [
      "No main image div found in URL: https://www.nos.nl/artikel/2491714\n"
     ]
    },
    {
     "name": "stderr",
     "output_type": "stream",
     "text": [
      "Scraper going at...: 5167it [2:01:41,  1.21s/it]"
     ]
    },
    {
     "name": "stdout",
     "output_type": "stream",
     "text": [
      "No main image div found in URL: https://www.nos.nl/artikel/2491695\n"
     ]
    },
    {
     "name": "stderr",
     "output_type": "stream",
     "text": [
      "Scraper going at...: 5171it [2:01:46,  1.13s/it]"
     ]
    },
    {
     "name": "stdout",
     "output_type": "stream",
     "text": [
      "No main image div found in URL: https://www.nos.nl/artikel/2491677\n"
     ]
    },
    {
     "name": "stderr",
     "output_type": "stream",
     "text": [
      "Scraper going at...: 5172it [2:01:48,  1.30s/it]"
     ]
    },
    {
     "name": "stdout",
     "output_type": "stream",
     "text": [
      "No figcaption found for images in URL: https://www.nos.nl/artikel/2491676\n"
     ]
    },
    {
     "name": "stderr",
     "output_type": "stream",
     "text": [
      "Scraper going at...: 5174it [2:01:51,  1.45s/it]"
     ]
    },
    {
     "name": "stdout",
     "output_type": "stream",
     "text": [
      "No main image div found in URL: https://www.nos.nl/artikel/2491669\n"
     ]
    },
    {
     "name": "stderr",
     "output_type": "stream",
     "text": [
      "Scraper going at...: 5176it [2:01:53,  1.35s/it]"
     ]
    },
    {
     "name": "stdout",
     "output_type": "stream",
     "text": [
      "No main image div found in URL: https://www.nos.nl/artikel/2491667\n"
     ]
    },
    {
     "name": "stderr",
     "output_type": "stream",
     "text": [
      "Scraper going at...: 5178it [2:01:57,  1.66s/it]"
     ]
    },
    {
     "name": "stdout",
     "output_type": "stream",
     "text": [
      "No figcaption found for images in URL: https://www.nos.nl/artikel/2491665\n"
     ]
    },
    {
     "name": "stderr",
     "output_type": "stream",
     "text": [
      "Scraper going at...: 5180it [2:01:59,  1.41s/it]"
     ]
    },
    {
     "name": "stdout",
     "output_type": "stream",
     "text": [
      "No main image div found in URL: https://www.nos.nl/artikel/2491657\n"
     ]
    },
    {
     "name": "stderr",
     "output_type": "stream",
     "text": [
      "Scraper going at...: 5194it [2:02:19,  1.29s/it]"
     ]
    },
    {
     "name": "stdout",
     "output_type": "stream",
     "text": [
      "No figcaption found for images in URL: https://www.nos.nl/artikel/2491628\n"
     ]
    },
    {
     "name": "stderr",
     "output_type": "stream",
     "text": [
      "Scraper going at...: 5196it [2:02:21,  1.17s/it]"
     ]
    },
    {
     "name": "stdout",
     "output_type": "stream",
     "text": [
      "No figcaption found for images in URL: https://www.nos.nl/artikel/2491617\n"
     ]
    },
    {
     "name": "stderr",
     "output_type": "stream",
     "text": [
      "Scraper going at...: 5205it [2:02:35,  1.31s/it]"
     ]
    },
    {
     "name": "stdout",
     "output_type": "stream",
     "text": [
      "No main image div found in URL: https://www.nos.nl/artikel/2491606\n"
     ]
    },
    {
     "name": "stderr",
     "output_type": "stream",
     "text": [
      "Scraper going at...: 5207it [2:02:39,  1.68s/it]"
     ]
    },
    {
     "name": "stdout",
     "output_type": "stream",
     "text": [
      "No main image div found in URL: https://www.nos.nl/artikel/2491598\n"
     ]
    },
    {
     "name": "stderr",
     "output_type": "stream",
     "text": [
      "Scraper going at...: 5210it [2:02:44,  1.73s/it]"
     ]
    },
    {
     "name": "stdout",
     "output_type": "stream",
     "text": [
      "No main image div found in URL: https://www.nos.nl/artikel/2491590\n"
     ]
    },
    {
     "name": "stderr",
     "output_type": "stream",
     "text": [
      "Scraper going at...: 5214it [2:02:51,  1.68s/it]"
     ]
    },
    {
     "name": "stdout",
     "output_type": "stream",
     "text": [
      "No main image div found in URL: https://www.nos.nl/artikel/2491583\n"
     ]
    },
    {
     "name": "stderr",
     "output_type": "stream",
     "text": [
      "Scraper going at...: 5218it [2:03:00,  1.83s/it]"
     ]
    },
    {
     "name": "stdout",
     "output_type": "stream",
     "text": [
      "No main image div found in URL: https://www.nos.nl/artikel/2491575\n"
     ]
    },
    {
     "name": "stderr",
     "output_type": "stream",
     "text": [
      "Scraper going at...: 5220it [2:03:03,  1.58s/it]"
     ]
    },
    {
     "name": "stdout",
     "output_type": "stream",
     "text": [
      "No main image div found in URL: https://www.nos.nl/artikel/2491570\n"
     ]
    },
    {
     "name": "stderr",
     "output_type": "stream",
     "text": [
      "Scraper going at...: 5223it [2:03:09,  2.13s/it]"
     ]
    },
    {
     "name": "stdout",
     "output_type": "stream",
     "text": [
      "No main image div found in URL: https://www.nos.nl/artikel/2491559\n"
     ]
    },
    {
     "name": "stderr",
     "output_type": "stream",
     "text": [
      "Scraper going at...: 5225it [2:03:11,  1.60s/it]"
     ]
    },
    {
     "name": "stdout",
     "output_type": "stream",
     "text": [
      "No main image div found in URL: https://www.nos.nl/artikel/2491552\n"
     ]
    },
    {
     "name": "stderr",
     "output_type": "stream",
     "text": [
      "Scraper going at...: 5226it [2:03:13,  1.61s/it]"
     ]
    },
    {
     "name": "stdout",
     "output_type": "stream",
     "text": [
      "No figcaption found for images in URL: https://www.nos.nl/artikel/2491549\n"
     ]
    },
    {
     "name": "stderr",
     "output_type": "stream",
     "text": [
      "Scraper going at...: 5227it [2:03:14,  1.47s/it]"
     ]
    },
    {
     "name": "stdout",
     "output_type": "stream",
     "text": [
      "No main image div found in URL: https://www.nos.nl/artikel/2491538\n"
     ]
    },
    {
     "name": "stderr",
     "output_type": "stream",
     "text": [
      "Scraper going at...: 5228it [2:03:15,  1.35s/it]"
     ]
    },
    {
     "name": "stdout",
     "output_type": "stream",
     "text": [
      "No figcaption found for images in URL: https://www.nos.nl/artikel/2491536\n"
     ]
    },
    {
     "name": "stderr",
     "output_type": "stream",
     "text": [
      "Scraper going at...: 5229it [2:03:17,  1.46s/it]"
     ]
    },
    {
     "name": "stdout",
     "output_type": "stream",
     "text": [
      "No figcaption found for images in URL: https://www.nos.nl/artikel/2491530\n"
     ]
    },
    {
     "name": "stderr",
     "output_type": "stream",
     "text": [
      "Scraper going at...: 5233it [2:03:22,  1.23s/it]"
     ]
    },
    {
     "name": "stdout",
     "output_type": "stream",
     "text": [
      "No main image div found in URL: https://www.nos.nl/artikel/2491521\n"
     ]
    },
    {
     "name": "stderr",
     "output_type": "stream",
     "text": [
      "Scraper going at...: 5236it [2:03:27,  1.48s/it]"
     ]
    },
    {
     "name": "stdout",
     "output_type": "stream",
     "text": [
      "No main image div found in URL: https://www.nos.nl/artikel/2491514\n"
     ]
    },
    {
     "name": "stderr",
     "output_type": "stream",
     "text": [
      "Scraper going at...: 5245it [2:03:39,  1.20s/it]"
     ]
    },
    {
     "name": "stdout",
     "output_type": "stream",
     "text": [
      "No figcaption found for images in URL: https://www.nos.nl/artikel/2491495\n"
     ]
    },
    {
     "name": "stderr",
     "output_type": "stream",
     "text": [
      "Scraper going at...: 5246it [2:03:40,  1.16s/it]"
     ]
    },
    {
     "name": "stdout",
     "output_type": "stream",
     "text": [
      "No main image div found in URL: https://www.nos.nl/artikel/2491493\n"
     ]
    },
    {
     "name": "stderr",
     "output_type": "stream",
     "text": [
      "Scraper going at...: 5248it [2:03:42,  1.07s/it]"
     ]
    },
    {
     "name": "stdout",
     "output_type": "stream",
     "text": [
      "No figcaption found for images in URL: https://www.nos.nl/artikel/2491490\n"
     ]
    },
    {
     "name": "stderr",
     "output_type": "stream",
     "text": [
      "Scraper going at...: 5253it [2:03:48,  1.18s/it]"
     ]
    },
    {
     "name": "stdout",
     "output_type": "stream",
     "text": [
      "No figcaption found for images in URL: https://www.nos.nl/artikel/2491474\n"
     ]
    },
    {
     "name": "stderr",
     "output_type": "stream",
     "text": [
      "Scraper going at...: 5254it [2:03:52,  2.02s/it]"
     ]
    },
    {
     "name": "stdout",
     "output_type": "stream",
     "text": [
      "No main image div found in URL: https://www.nos.nl/artikel/2491470\n"
     ]
    },
    {
     "name": "stderr",
     "output_type": "stream",
     "text": [
      "Scraper going at...: 5255it [2:03:55,  2.28s/it]"
     ]
    },
    {
     "name": "stdout",
     "output_type": "stream",
     "text": [
      "No main image div found in URL: https://www.nos.nl/artikel/2491468\n"
     ]
    },
    {
     "name": "stderr",
     "output_type": "stream",
     "text": [
      "Scraper going at...: 5257it [2:03:58,  1.96s/it]"
     ]
    },
    {
     "name": "stdout",
     "output_type": "stream",
     "text": [
      "No figcaption found for images in URL: https://www.nos.nl/artikel/2491463\n"
     ]
    },
    {
     "name": "stderr",
     "output_type": "stream",
     "text": [
      "Scraper going at...: 5258it [2:03:59,  1.68s/it]"
     ]
    },
    {
     "name": "stdout",
     "output_type": "stream",
     "text": [
      "No main image div found in URL: https://www.nos.nl/artikel/2491461\n"
     ]
    },
    {
     "name": "stderr",
     "output_type": "stream",
     "text": [
      "Scraper going at...: 5261it [2:04:04,  1.89s/it]"
     ]
    },
    {
     "name": "stdout",
     "output_type": "stream",
     "text": [
      "No figcaption found for images in URL: https://www.nos.nl/artikel/2491456\n"
     ]
    },
    {
     "name": "stderr",
     "output_type": "stream",
     "text": [
      "Scraper going at...: 5272it [2:04:22,  1.67s/it]"
     ]
    },
    {
     "name": "stdout",
     "output_type": "stream",
     "text": [
      "No figcaption found for images in URL: https://www.nos.nl/artikel/2491435\n"
     ]
    },
    {
     "name": "stderr",
     "output_type": "stream",
     "text": [
      "Scraper going at...: 5274it [2:04:25,  1.43s/it]"
     ]
    },
    {
     "name": "stdout",
     "output_type": "stream",
     "text": [
      "No figcaption found for images in URL: https://www.nos.nl/artikel/2491433\n"
     ]
    },
    {
     "name": "stderr",
     "output_type": "stream",
     "text": [
      "Scraper going at...: 5277it [2:04:29,  1.38s/it]"
     ]
    },
    {
     "name": "stdout",
     "output_type": "stream",
     "text": [
      "No main image div found in URL: https://www.nos.nl/artikel/2491425\n"
     ]
    },
    {
     "name": "stderr",
     "output_type": "stream",
     "text": [
      "Scraper going at...: 5278it [2:04:30,  1.33s/it]"
     ]
    },
    {
     "name": "stdout",
     "output_type": "stream",
     "text": [
      "No main image div found in URL: https://www.nos.nl/artikel/2491424\n"
     ]
    },
    {
     "name": "stderr",
     "output_type": "stream",
     "text": [
      "Scraper going at...: 5279it [2:04:33,  1.79s/it]"
     ]
    },
    {
     "name": "stdout",
     "output_type": "stream",
     "text": [
      "No figcaption found for images in URL: https://www.nos.nl/artikel/2491421\n"
     ]
    },
    {
     "name": "stderr",
     "output_type": "stream",
     "text": [
      "Scraper going at...: 5283it [2:04:39,  1.62s/it]"
     ]
    },
    {
     "name": "stdout",
     "output_type": "stream",
     "text": [
      "No figcaption found for images in URL: https://www.nos.nl/artikel/2491416\n"
     ]
    },
    {
     "name": "stderr",
     "output_type": "stream",
     "text": [
      "Scraper going at...: 5286it [2:04:42,  1.23s/it]"
     ]
    },
    {
     "name": "stdout",
     "output_type": "stream",
     "text": [
      "No figcaption found for images in URL: https://www.nos.nl/artikel/2491411\n"
     ]
    },
    {
     "name": "stderr",
     "output_type": "stream",
     "text": [
      "Scraper going at...: 5287it [2:04:45,  1.48s/it]"
     ]
    },
    {
     "name": "stdout",
     "output_type": "stream",
     "text": [
      "No figcaption found for images in URL: https://www.nos.nl/artikel/2491409\n"
     ]
    },
    {
     "name": "stderr",
     "output_type": "stream",
     "text": [
      "Scraper going at...: 5288it [2:04:48,  2.03s/it]"
     ]
    },
    {
     "name": "stdout",
     "output_type": "stream",
     "text": [
      "No main image div found in URL: https://www.nos.nl/artikel/2491407\n"
     ]
    },
    {
     "name": "stderr",
     "output_type": "stream",
     "text": [
      "Scraper going at...: 5305it [2:05:11,  1.32s/it]"
     ]
    },
    {
     "name": "stdout",
     "output_type": "stream",
     "text": [
      "No figcaption found for images in URL: https://www.nos.nl/artikel/2491365\n"
     ]
    },
    {
     "name": "stderr",
     "output_type": "stream",
     "text": [
      "Scraper going at...: 5306it [2:05:12,  1.27s/it]"
     ]
    },
    {
     "name": "stdout",
     "output_type": "stream",
     "text": [
      "No figcaption found for images in URL: https://www.nos.nl/artikel/2491364\n"
     ]
    },
    {
     "name": "stderr",
     "output_type": "stream",
     "text": [
      "Scraper going at...: 5308it [2:05:14,  1.20s/it]"
     ]
    },
    {
     "name": "stdout",
     "output_type": "stream",
     "text": [
      "No figcaption found for images in URL: https://www.nos.nl/artikel/2491362\n"
     ]
    },
    {
     "name": "stderr",
     "output_type": "stream",
     "text": [
      "Scraper going at...: 5309it [2:05:16,  1.35s/it]"
     ]
    },
    {
     "name": "stdout",
     "output_type": "stream",
     "text": [
      "No figcaption found for images in URL: https://www.nos.nl/artikel/2491361\n"
     ]
    },
    {
     "name": "stderr",
     "output_type": "stream",
     "text": [
      "Scraper going at...: 5311it [2:05:18,  1.18s/it]"
     ]
    },
    {
     "name": "stdout",
     "output_type": "stream",
     "text": [
      "No figcaption found for images in URL: https://www.nos.nl/artikel/2491359\n"
     ]
    },
    {
     "name": "stderr",
     "output_type": "stream",
     "text": [
      "Scraper going at...: 5314it [2:05:21,  1.04s/it]"
     ]
    },
    {
     "name": "stdout",
     "output_type": "stream",
     "text": [
      "No main image div found in URL: https://www.nos.nl/artikel/2491356\n"
     ]
    },
    {
     "name": "stderr",
     "output_type": "stream",
     "text": [
      "Scraper going at...: 5318it [2:05:27,  1.41s/it]"
     ]
    },
    {
     "name": "stdout",
     "output_type": "stream",
     "text": [
      "No figcaption found for images in URL: https://www.nos.nl/artikel/2491345\n"
     ]
    },
    {
     "name": "stderr",
     "output_type": "stream",
     "text": [
      "Scraper going at...: 5321it [2:05:31,  1.38s/it]"
     ]
    },
    {
     "name": "stdout",
     "output_type": "stream",
     "text": [
      "No main image div found in URL: https://www.nos.nl/artikel/2491341\n"
     ]
    },
    {
     "name": "stderr",
     "output_type": "stream",
     "text": [
      "Scraper going at...: 5331it [2:05:45,  1.73s/it]"
     ]
    },
    {
     "name": "stdout",
     "output_type": "stream",
     "text": [
      "No main image div found in URL: https://www.nos.nl/artikel/2491317\n"
     ]
    },
    {
     "name": "stderr",
     "output_type": "stream",
     "text": [
      "Scraper going at...: 5332it [2:05:46,  1.62s/it]"
     ]
    },
    {
     "name": "stdout",
     "output_type": "stream",
     "text": [
      "No figcaption found for images in URL: https://www.nos.nl/artikel/2491315\n"
     ]
    },
    {
     "name": "stderr",
     "output_type": "stream",
     "text": [
      "Scraper going at...: 5336it [2:05:52,  1.63s/it]"
     ]
    },
    {
     "name": "stdout",
     "output_type": "stream",
     "text": [
      "No figcaption found for images in URL: https://www.nos.nl/artikel/2491310\n"
     ]
    },
    {
     "name": "stderr",
     "output_type": "stream",
     "text": [
      "Scraper going at...: 5341it [2:06:02,  1.98s/it]"
     ]
    },
    {
     "name": "stdout",
     "output_type": "stream",
     "text": [
      "No main image div found in URL: https://www.nos.nl/artikel/2491300\n"
     ]
    },
    {
     "name": "stderr",
     "output_type": "stream",
     "text": [
      "Scraper going at...: 5342it [2:06:03,  1.70s/it]"
     ]
    },
    {
     "name": "stdout",
     "output_type": "stream",
     "text": [
      "No figcaption found for images in URL: https://www.nos.nl/artikel/2491299\n"
     ]
    },
    {
     "name": "stderr",
     "output_type": "stream",
     "text": [
      "Scraper going at...: 5343it [2:06:05,  1.60s/it]"
     ]
    },
    {
     "name": "stdout",
     "output_type": "stream",
     "text": [
      "No figcaption found for images in URL: https://www.nos.nl/artikel/2491296\n"
     ]
    },
    {
     "name": "stderr",
     "output_type": "stream",
     "text": [
      "Scraper going at...: 5346it [2:06:10,  1.93s/it]"
     ]
    },
    {
     "name": "stdout",
     "output_type": "stream",
     "text": [
      "No figcaption found for images in URL: https://www.nos.nl/artikel/2491287\n"
     ]
    },
    {
     "name": "stderr",
     "output_type": "stream",
     "text": [
      "Scraper going at...: 5356it [2:06:23,  1.37s/it]"
     ]
    },
    {
     "name": "stdout",
     "output_type": "stream",
     "text": [
      "No main image div found in URL: https://www.nos.nl/artikel/2491258\n"
     ]
    },
    {
     "name": "stderr",
     "output_type": "stream",
     "text": [
      "Scraper going at...: 5358it [2:06:27,  1.49s/it]"
     ]
    },
    {
     "name": "stdout",
     "output_type": "stream",
     "text": [
      "No figcaption found for images in URL: https://www.nos.nl/artikel/2491255\n"
     ]
    },
    {
     "name": "stderr",
     "output_type": "stream",
     "text": [
      "Scraper going at...: 5361it [2:06:31,  1.55s/it]"
     ]
    },
    {
     "name": "stdout",
     "output_type": "stream",
     "text": [
      "No figcaption found for images in URL: https://www.nos.nl/artikel/2491252\n"
     ]
    },
    {
     "name": "stderr",
     "output_type": "stream",
     "text": [
      "Scraper going at...: 5371it [2:06:48,  1.69s/it]"
     ]
    },
    {
     "name": "stdout",
     "output_type": "stream",
     "text": [
      "No figcaption found for images in URL: https://www.nos.nl/artikel/2491239\n"
     ]
    },
    {
     "name": "stderr",
     "output_type": "stream",
     "text": [
      "Scraper going at...: 5373it [2:06:54,  2.47s/it]"
     ]
    },
    {
     "name": "stdout",
     "output_type": "stream",
     "text": [
      "No figcaption found for images in URL: https://www.nos.nl/artikel/2491237\n"
     ]
    },
    {
     "name": "stderr",
     "output_type": "stream",
     "text": [
      "Scraper going at...: 5374it [2:06:57,  2.52s/it]"
     ]
    },
    {
     "name": "stdout",
     "output_type": "stream",
     "text": [
      "No figcaption found for images in URL: https://www.nos.nl/artikel/2491236\n"
     ]
    },
    {
     "name": "stderr",
     "output_type": "stream",
     "text": [
      "Scraper going at...: 5376it [2:06:59,  1.79s/it]"
     ]
    },
    {
     "name": "stdout",
     "output_type": "stream",
     "text": [
      "No figcaption found for images in URL: https://www.nos.nl/artikel/2491230\n"
     ]
    },
    {
     "name": "stderr",
     "output_type": "stream",
     "text": [
      "Scraper going at...: 5383it [2:07:07,  1.11s/it]"
     ]
    },
    {
     "name": "stdout",
     "output_type": "stream",
     "text": [
      "No figcaption found for images in URL: https://www.nos.nl/artikel/2491219\n"
     ]
    },
    {
     "name": "stderr",
     "output_type": "stream",
     "text": [
      "Scraper going at...: 5385it [2:07:10,  1.32s/it]"
     ]
    },
    {
     "name": "stdout",
     "output_type": "stream",
     "text": [
      "No figcaption found for images in URL: https://www.nos.nl/artikel/2491216\n"
     ]
    },
    {
     "name": "stderr",
     "output_type": "stream",
     "text": [
      "Scraper going at...: 5391it [2:07:17,  1.27s/it]"
     ]
    },
    {
     "name": "stdout",
     "output_type": "stream",
     "text": [
      "No main image div found in URL: https://www.nos.nl/artikel/2491192\n"
     ]
    },
    {
     "name": "stderr",
     "output_type": "stream",
     "text": [
      "Scraper going at...: 5393it [2:07:19,  1.15s/it]"
     ]
    },
    {
     "name": "stdout",
     "output_type": "stream",
     "text": [
      "No figcaption found for images in URL: https://www.nos.nl/artikel/2491190\n"
     ]
    },
    {
     "name": "stderr",
     "output_type": "stream",
     "text": [
      "Scraper going at...: 5395it [2:07:21,  1.10s/it]"
     ]
    },
    {
     "name": "stdout",
     "output_type": "stream",
     "text": [
      "No main image div found in URL: https://www.nos.nl/artikel/2491184\n"
     ]
    },
    {
     "name": "stderr",
     "output_type": "stream",
     "text": [
      "Scraper going at...: 5403it [2:07:31,  1.19s/it]"
     ]
    },
    {
     "name": "stdout",
     "output_type": "stream",
     "text": [
      "No figcaption found for images in URL: https://www.nos.nl/artikel/2491168\n"
     ]
    },
    {
     "name": "stderr",
     "output_type": "stream",
     "text": [
      "Scraper going at...: 5406it [2:07:36,  1.31s/it]"
     ]
    },
    {
     "name": "stdout",
     "output_type": "stream",
     "text": [
      "No figcaption found for images in URL: https://www.nos.nl/artikel/2491162\n"
     ]
    },
    {
     "name": "stderr",
     "output_type": "stream",
     "text": [
      "Scraper going at...: 5412it [2:07:45,  1.62s/it]"
     ]
    },
    {
     "name": "stdout",
     "output_type": "stream",
     "text": [
      "No figcaption found for images in URL: https://www.nos.nl/artikel/2491150\n"
     ]
    },
    {
     "name": "stderr",
     "output_type": "stream",
     "text": [
      "Scraper going at...: 5415it [2:07:49,  1.57s/it]"
     ]
    },
    {
     "name": "stdout",
     "output_type": "stream",
     "text": [
      "No figcaption found for images in URL: https://www.nos.nl/artikel/2491145\n"
     ]
    },
    {
     "name": "stderr",
     "output_type": "stream",
     "text": [
      "Scraper going at...: 5416it [2:07:51,  1.50s/it]"
     ]
    },
    {
     "name": "stdout",
     "output_type": "stream",
     "text": [
      "No main image div found in URL: https://www.nos.nl/artikel/2491142\n"
     ]
    },
    {
     "name": "stderr",
     "output_type": "stream",
     "text": [
      "Scraper going at...: 5419it [2:07:56,  1.80s/it]"
     ]
    },
    {
     "name": "stdout",
     "output_type": "stream",
     "text": [
      "No main image div found in URL: https://www.nos.nl/artikel/2491132\n"
     ]
    },
    {
     "name": "stderr",
     "output_type": "stream",
     "text": [
      "Scraper going at...: 5422it [2:07:59,  1.32s/it]"
     ]
    },
    {
     "name": "stdout",
     "output_type": "stream",
     "text": [
      "No figcaption found for images in URL: https://www.nos.nl/artikel/2491121\n"
     ]
    },
    {
     "name": "stderr",
     "output_type": "stream",
     "text": [
      "Scraper going at...: 5429it [2:08:07,  1.08s/it]"
     ]
    },
    {
     "name": "stdout",
     "output_type": "stream",
     "text": [
      "No main image div found in URL: https://www.nos.nl/artikel/2491111\n"
     ]
    },
    {
     "name": "stderr",
     "output_type": "stream",
     "text": [
      "Scraper going at...: 5430it [2:08:08,  1.06s/it]"
     ]
    },
    {
     "name": "stdout",
     "output_type": "stream",
     "text": [
      "No main image div found in URL: https://www.nos.nl/artikel/2491110\n"
     ]
    },
    {
     "name": "stderr",
     "output_type": "stream",
     "text": [
      "Scraper going at...: 5431it [2:08:09,  1.21s/it]"
     ]
    },
    {
     "name": "stdout",
     "output_type": "stream",
     "text": [
      "No main image div found in URL: https://www.nos.nl/artikel/2491106\n"
     ]
    },
    {
     "name": "stderr",
     "output_type": "stream",
     "text": [
      "Scraper going at...: 5439it [2:08:21,  1.61s/it]"
     ]
    },
    {
     "name": "stdout",
     "output_type": "stream",
     "text": [
      "No figcaption found for images in URL: https://www.nos.nl/artikel/2491095\n"
     ]
    },
    {
     "name": "stderr",
     "output_type": "stream",
     "text": [
      "Scraper going at...: 5444it [2:08:30,  1.48s/it]"
     ]
    },
    {
     "name": "stdout",
     "output_type": "stream",
     "text": [
      "No main image div found in URL: https://www.nos.nl/artikel/2491084\n"
     ]
    },
    {
     "name": "stderr",
     "output_type": "stream",
     "text": [
      "Scraper going at...: 5447it [2:08:34,  1.49s/it]"
     ]
    },
    {
     "name": "stdout",
     "output_type": "stream",
     "text": [
      "No figcaption found for images in URL: https://www.nos.nl/artikel/2491073\n"
     ]
    },
    {
     "name": "stderr",
     "output_type": "stream",
     "text": [
      "Scraper going at...: 5451it [2:08:39,  1.30s/it]"
     ]
    },
    {
     "name": "stdout",
     "output_type": "stream",
     "text": [
      "No figcaption found for images in URL: https://www.nos.nl/artikel/2491065\n"
     ]
    },
    {
     "name": "stderr",
     "output_type": "stream",
     "text": [
      "Scraper going at...: 5457it [2:08:47,  1.27s/it]"
     ]
    },
    {
     "name": "stdout",
     "output_type": "stream",
     "text": [
      "No figcaption found for images in URL: https://www.nos.nl/artikel/2491058\n"
     ]
    },
    {
     "name": "stderr",
     "output_type": "stream",
     "text": [
      "Scraper going at...: 5458it [2:08:48,  1.24s/it]"
     ]
    },
    {
     "name": "stdout",
     "output_type": "stream",
     "text": [
      "No figcaption found for images in URL: https://www.nos.nl/artikel/2491056\n"
     ]
    },
    {
     "name": "stderr",
     "output_type": "stream",
     "text": [
      "Scraper going at...: 5463it [2:08:54,  1.24s/it]"
     ]
    },
    {
     "name": "stdout",
     "output_type": "stream",
     "text": [
      "No figcaption found for images in URL: https://www.nos.nl/artikel/2491041\n"
     ]
    },
    {
     "name": "stderr",
     "output_type": "stream",
     "text": [
      "Scraper going at...: 5464it [2:08:56,  1.22s/it]"
     ]
    },
    {
     "name": "stdout",
     "output_type": "stream",
     "text": [
      "No main image div found in URL: https://www.nos.nl/artikel/2491040\n"
     ]
    },
    {
     "name": "stderr",
     "output_type": "stream",
     "text": [
      "Scraper going at...: 5472it [2:09:06,  1.35s/it]"
     ]
    },
    {
     "name": "stdout",
     "output_type": "stream",
     "text": [
      "No figcaption found for images in URL: https://www.nos.nl/artikel/2491028\n"
     ]
    },
    {
     "name": "stderr",
     "output_type": "stream",
     "text": [
      "Scraper going at...: 5476it [2:09:10,  1.16s/it]"
     ]
    },
    {
     "name": "stdout",
     "output_type": "stream",
     "text": [
      "No main image div found in URL: https://www.nos.nl/artikel/2491020\n"
     ]
    },
    {
     "name": "stderr",
     "output_type": "stream",
     "text": [
      "Scraper going at...: 5480it [2:09:14,  1.10s/it]"
     ]
    },
    {
     "name": "stdout",
     "output_type": "stream",
     "text": [
      "No figcaption found for images in URL: https://www.nos.nl/artikel/2491015\n"
     ]
    },
    {
     "name": "stderr",
     "output_type": "stream",
     "text": [
      "Scraper going at...: 5481it [2:09:15,  1.12s/it]"
     ]
    },
    {
     "name": "stdout",
     "output_type": "stream",
     "text": [
      "No figcaption found for images in URL: https://www.nos.nl/artikel/2491013\n"
     ]
    },
    {
     "name": "stderr",
     "output_type": "stream",
     "text": [
      "Scraper going at...: 5482it [2:09:16,  1.09s/it]"
     ]
    },
    {
     "name": "stdout",
     "output_type": "stream",
     "text": [
      "No main image div found in URL: https://www.nos.nl/artikel/2491011\n"
     ]
    },
    {
     "name": "stderr",
     "output_type": "stream",
     "text": [
      "Scraper going at...: 5484it [2:09:19,  1.16s/it]"
     ]
    },
    {
     "name": "stdout",
     "output_type": "stream",
     "text": [
      "No main image div found in URL: https://www.nos.nl/artikel/2491006\n"
     ]
    },
    {
     "name": "stderr",
     "output_type": "stream",
     "text": [
      "Scraper going at...: 5485it [2:09:20,  1.10s/it]"
     ]
    },
    {
     "name": "stdout",
     "output_type": "stream",
     "text": [
      "No main image div found in URL: https://www.nos.nl/artikel/2490997\n"
     ]
    },
    {
     "name": "stderr",
     "output_type": "stream",
     "text": [
      "Scraper going at...: 5486it [2:09:21,  1.16s/it]"
     ]
    },
    {
     "name": "stdout",
     "output_type": "stream",
     "text": [
      "No figcaption found for images in URL: https://www.nos.nl/artikel/2490990\n"
     ]
    },
    {
     "name": "stderr",
     "output_type": "stream",
     "text": [
      "Scraper going at...: 5494it [2:09:30,  1.05s/it]"
     ]
    },
    {
     "name": "stdout",
     "output_type": "stream",
     "text": [
      "No figcaption found for images in URL: https://www.nos.nl/artikel/2490980\n"
     ]
    },
    {
     "name": "stderr",
     "output_type": "stream",
     "text": [
      "Scraper going at...: 5506it [2:09:46,  1.23s/it]"
     ]
    },
    {
     "name": "stdout",
     "output_type": "stream",
     "text": [
      "No main image div found in URL: https://www.nos.nl/artikel/2490959\n"
     ]
    },
    {
     "name": "stderr",
     "output_type": "stream",
     "text": [
      "Scraper going at...: 5507it [2:09:47,  1.15s/it]"
     ]
    },
    {
     "name": "stdout",
     "output_type": "stream",
     "text": [
      "No figcaption found for images in URL: https://www.nos.nl/artikel/2490956\n"
     ]
    },
    {
     "name": "stderr",
     "output_type": "stream",
     "text": [
      "Scraper going at...: 5510it [2:09:51,  1.22s/it]"
     ]
    },
    {
     "name": "stdout",
     "output_type": "stream",
     "text": [
      "No figcaption found for images in URL: https://www.nos.nl/artikel/2490948\n"
     ]
    },
    {
     "name": "stderr",
     "output_type": "stream",
     "text": [
      "Scraper going at...: 5511it [2:09:53,  1.37s/it]"
     ]
    },
    {
     "name": "stdout",
     "output_type": "stream",
     "text": [
      "No figcaption found for images in URL: https://www.nos.nl/artikel/2490947\n"
     ]
    },
    {
     "name": "stderr",
     "output_type": "stream",
     "text": [
      "Scraper going at...: 5516it [2:10:03,  2.00s/it]"
     ]
    },
    {
     "name": "stdout",
     "output_type": "stream",
     "text": [
      "No main image div found in URL: https://www.nos.nl/artikel/2490936\n"
     ]
    },
    {
     "name": "stderr",
     "output_type": "stream",
     "text": [
      "Scraper going at...: 5523it [2:10:14,  1.74s/it]"
     ]
    },
    {
     "name": "stdout",
     "output_type": "stream",
     "text": [
      "No figcaption found for images in URL: https://www.nos.nl/artikel/2490923\n"
     ]
    },
    {
     "name": "stderr",
     "output_type": "stream",
     "text": [
      "Scraper going at...: 5524it [2:10:17,  2.23s/it]"
     ]
    },
    {
     "name": "stdout",
     "output_type": "stream",
     "text": [
      "No figcaption found for images in URL: https://www.nos.nl/artikel/2490922\n"
     ]
    },
    {
     "name": "stderr",
     "output_type": "stream",
     "text": [
      "Scraper going at...: 5527it [2:10:21,  1.52s/it]"
     ]
    },
    {
     "name": "stdout",
     "output_type": "stream",
     "text": [
      "No main image div found in URL: https://www.nos.nl/artikel/2490917\n"
     ]
    },
    {
     "name": "stderr",
     "output_type": "stream",
     "text": [
      "Scraper going at...: 5532it [2:10:28,  1.42s/it]"
     ]
    },
    {
     "name": "stdout",
     "output_type": "stream",
     "text": [
      "No main image div found in URL: https://www.nos.nl/artikel/2490911\n"
     ]
    },
    {
     "name": "stderr",
     "output_type": "stream",
     "text": [
      "Scraper going at...: 5533it [2:10:30,  1.43s/it]"
     ]
    },
    {
     "name": "stdout",
     "output_type": "stream",
     "text": [
      "No figcaption found for images in URL: https://www.nos.nl/artikel/2490909\n"
     ]
    },
    {
     "name": "stderr",
     "output_type": "stream",
     "text": [
      "Scraper going at...: 5540it [2:10:40,  1.33s/it]"
     ]
    },
    {
     "name": "stdout",
     "output_type": "stream",
     "text": [
      "No figcaption found for images in URL: https://www.nos.nl/artikel/2490890\n"
     ]
    },
    {
     "name": "stderr",
     "output_type": "stream",
     "text": [
      "Scraper going at...: 5541it [2:10:43,  1.66s/it]"
     ]
    },
    {
     "name": "stdout",
     "output_type": "stream",
     "text": [
      "No figcaption found for images in URL: https://www.nos.nl/artikel/2490889\n"
     ]
    },
    {
     "name": "stderr",
     "output_type": "stream",
     "text": [
      "Scraper going at...: 5542it [2:10:44,  1.56s/it]"
     ]
    },
    {
     "name": "stdout",
     "output_type": "stream",
     "text": [
      "No figcaption found for images in URL: https://www.nos.nl/artikel/2490887\n"
     ]
    },
    {
     "name": "stderr",
     "output_type": "stream",
     "text": [
      "Scraper going at...: 5549it [2:10:54,  1.22s/it]"
     ]
    },
    {
     "name": "stdout",
     "output_type": "stream",
     "text": [
      "No main image div found in URL: https://www.nos.nl/artikel/2490863\n"
     ]
    },
    {
     "name": "stderr",
     "output_type": "stream",
     "text": [
      "Scraper going at...: 5554it [2:11:02,  1.52s/it]"
     ]
    },
    {
     "name": "stdout",
     "output_type": "stream",
     "text": [
      "No main image div found in URL: https://www.nos.nl/artikel/2490847\n"
     ]
    },
    {
     "name": "stderr",
     "output_type": "stream",
     "text": [
      "Scraper going at...: 5556it [2:11:04,  1.36s/it]"
     ]
    },
    {
     "name": "stdout",
     "output_type": "stream",
     "text": [
      "No main image div found in URL: https://www.nos.nl/artikel/2490835\n"
     ]
    },
    {
     "name": "stderr",
     "output_type": "stream",
     "text": [
      "Scraper going at...: 5557it [2:11:06,  1.27s/it]"
     ]
    },
    {
     "name": "stdout",
     "output_type": "stream",
     "text": [
      "No main image div found in URL: https://www.nos.nl/artikel/2490833\n"
     ]
    },
    {
     "name": "stderr",
     "output_type": "stream",
     "text": [
      "Scraper going at...: 5558it [2:11:07,  1.21s/it]"
     ]
    },
    {
     "name": "stdout",
     "output_type": "stream",
     "text": [
      "No main image div found in URL: https://www.nos.nl/artikel/2490832\n"
     ]
    },
    {
     "name": "stderr",
     "output_type": "stream",
     "text": [
      "Scraper going at...: 5560it [2:11:09,  1.26s/it]"
     ]
    },
    {
     "name": "stdout",
     "output_type": "stream",
     "text": [
      "No figcaption found for images in URL: https://www.nos.nl/artikel/2490830\n"
     ]
    },
    {
     "name": "stderr",
     "output_type": "stream",
     "text": [
      "Scraper going at...: 5565it [2:11:17,  1.44s/it]"
     ]
    },
    {
     "name": "stdout",
     "output_type": "stream",
     "text": [
      "No figcaption found for images in URL: https://www.nos.nl/artikel/2490822\n"
     ]
    },
    {
     "name": "stderr",
     "output_type": "stream",
     "text": [
      "Scraper going at...: 5567it [2:11:20,  1.49s/it]"
     ]
    },
    {
     "name": "stdout",
     "output_type": "stream",
     "text": [
      "No figcaption found for images in URL: https://www.nos.nl/artikel/2490814\n"
     ]
    },
    {
     "name": "stderr",
     "output_type": "stream",
     "text": [
      "Scraper going at...: 5569it [2:11:22,  1.26s/it]"
     ]
    },
    {
     "name": "stdout",
     "output_type": "stream",
     "text": [
      "No main image div found in URL: https://www.nos.nl/artikel/2490809\n"
     ]
    },
    {
     "name": "stderr",
     "output_type": "stream",
     "text": [
      "Scraper going at...: 5570it [2:11:24,  1.34s/it]"
     ]
    },
    {
     "name": "stdout",
     "output_type": "stream",
     "text": [
      "No main image div found in URL: https://www.nos.nl/artikel/2490808\n"
     ]
    },
    {
     "name": "stderr",
     "output_type": "stream",
     "text": [
      "Scraper going at...: 5572it [2:11:26,  1.32s/it]"
     ]
    },
    {
     "name": "stdout",
     "output_type": "stream",
     "text": [
      "No main image div found in URL: https://www.nos.nl/artikel/2490805\n"
     ]
    },
    {
     "name": "stderr",
     "output_type": "stream",
     "text": [
      "Scraper going at...: 5574it [2:11:29,  1.39s/it]"
     ]
    },
    {
     "name": "stdout",
     "output_type": "stream",
     "text": [
      "No figcaption found for images in URL: https://www.nos.nl/artikel/2490803\n"
     ]
    },
    {
     "name": "stderr",
     "output_type": "stream",
     "text": [
      "Scraper going at...: 5577it [2:11:32,  1.12s/it]"
     ]
    },
    {
     "name": "stdout",
     "output_type": "stream",
     "text": [
      "No main image div found in URL: https://www.nos.nl/artikel/2490796\n"
     ]
    },
    {
     "name": "stderr",
     "output_type": "stream",
     "text": [
      "Scraper going at...: 5578it [2:11:34,  1.10s/it]"
     ]
    },
    {
     "name": "stdout",
     "output_type": "stream",
     "text": [
      "No main image div found in URL: https://www.nos.nl/artikel/2490795\n"
     ]
    },
    {
     "name": "stderr",
     "output_type": "stream",
     "text": [
      "Scraper going at...: 5579it [2:11:35,  1.18s/it]"
     ]
    },
    {
     "name": "stdout",
     "output_type": "stream",
     "text": [
      "No main image div found in URL: https://www.nos.nl/artikel/2490794\n"
     ]
    },
    {
     "name": "stderr",
     "output_type": "stream",
     "text": [
      "Scraper going at...: 5581it [2:11:37,  1.12s/it]"
     ]
    },
    {
     "name": "stdout",
     "output_type": "stream",
     "text": [
      "No figcaption found for images in URL: https://www.nos.nl/artikel/2490790\n"
     ]
    },
    {
     "name": "stderr",
     "output_type": "stream",
     "text": [
      "Scraper going at...: 5583it [2:11:40,  1.45s/it]"
     ]
    },
    {
     "name": "stdout",
     "output_type": "stream",
     "text": [
      "No figcaption found for images in URL: https://www.nos.nl/artikel/2490785\n"
     ]
    },
    {
     "name": "stderr",
     "output_type": "stream",
     "text": [
      "Scraper going at...: 5584it [2:11:42,  1.39s/it]"
     ]
    },
    {
     "name": "stdout",
     "output_type": "stream",
     "text": [
      "No main image div found in URL: https://www.nos.nl/artikel/2490781\n"
     ]
    },
    {
     "name": "stderr",
     "output_type": "stream",
     "text": [
      "Scraper going at...: 5587it [2:11:45,  1.32s/it]"
     ]
    },
    {
     "name": "stdout",
     "output_type": "stream",
     "text": [
      "No main image div found in URL: https://www.nos.nl/artikel/2490776\n"
     ]
    },
    {
     "name": "stderr",
     "output_type": "stream",
     "text": [
      "Scraper going at...: 5591it [2:11:50,  1.21s/it]"
     ]
    },
    {
     "name": "stdout",
     "output_type": "stream",
     "text": [
      "No main image div found in URL: https://www.nos.nl/artikel/2490764\n"
     ]
    },
    {
     "name": "stderr",
     "output_type": "stream",
     "text": [
      "Scraper going at...: 5596it [2:11:55,  1.12s/it]"
     ]
    },
    {
     "name": "stdout",
     "output_type": "stream",
     "text": [
      "No main image div found in URL: https://www.nos.nl/artikel/2490755\n"
     ]
    },
    {
     "name": "stderr",
     "output_type": "stream",
     "text": [
      "Scraper going at...: 5600it [2:12:01,  1.24s/it]"
     ]
    },
    {
     "name": "stdout",
     "output_type": "stream",
     "text": [
      "No figcaption found for images in URL: https://www.nos.nl/artikel/2490750\n"
     ]
    },
    {
     "name": "stderr",
     "output_type": "stream",
     "text": [
      "Scraper going at...: 5604it [2:12:06,  1.25s/it]"
     ]
    },
    {
     "name": "stdout",
     "output_type": "stream",
     "text": [
      "No main image div found in URL: https://www.nos.nl/artikel/2490737\n"
     ]
    },
    {
     "name": "stderr",
     "output_type": "stream",
     "text": [
      "Scraper going at...: 5606it [2:12:09,  1.53s/it]"
     ]
    },
    {
     "name": "stdout",
     "output_type": "stream",
     "text": [
      "No main image div found in URL: https://www.nos.nl/artikel/2490735\n"
     ]
    },
    {
     "name": "stderr",
     "output_type": "stream",
     "text": [
      "Scraper going at...: 5608it [2:12:13,  1.76s/it]"
     ]
    },
    {
     "name": "stdout",
     "output_type": "stream",
     "text": [
      "No main image div found in URL: https://www.nos.nl/artikel/2490729\n"
     ]
    },
    {
     "name": "stderr",
     "output_type": "stream",
     "text": [
      "Scraper going at...: 5612it [2:12:20,  1.72s/it]"
     ]
    },
    {
     "name": "stdout",
     "output_type": "stream",
     "text": [
      "No main image div found in URL: https://www.nos.nl/artikel/2490718\n"
     ]
    },
    {
     "name": "stderr",
     "output_type": "stream",
     "text": [
      "Scraper going at...: 5616it [2:12:27,  1.82s/it]"
     ]
    },
    {
     "name": "stdout",
     "output_type": "stream",
     "text": [
      "No main image div found in URL: https://www.nos.nl/artikel/2490713\n"
     ]
    },
    {
     "name": "stderr",
     "output_type": "stream",
     "text": [
      "Scraper going at...: 5620it [2:12:32,  1.27s/it]"
     ]
    },
    {
     "name": "stdout",
     "output_type": "stream",
     "text": [
      "No figcaption found for images in URL: https://www.nos.nl/artikel/2490705\n"
     ]
    },
    {
     "name": "stderr",
     "output_type": "stream",
     "text": [
      "Scraper going at...: 5622it [2:12:34,  1.20s/it]"
     ]
    },
    {
     "name": "stdout",
     "output_type": "stream",
     "text": [
      "No figcaption found for images in URL: https://www.nos.nl/artikel/2490695\n"
     ]
    },
    {
     "name": "stderr",
     "output_type": "stream",
     "text": [
      "Scraper going at...: 5624it [2:12:37,  1.28s/it]"
     ]
    },
    {
     "name": "stdout",
     "output_type": "stream",
     "text": [
      "No main image div found in URL: https://www.nos.nl/artikel/2490690\n"
     ]
    },
    {
     "name": "stderr",
     "output_type": "stream",
     "text": [
      "Scraper going at...: 5628it [2:12:47,  2.18s/it]"
     ]
    },
    {
     "name": "stdout",
     "output_type": "stream",
     "text": [
      "No main image div found in URL: https://www.nos.nl/artikel/2490682\n"
     ]
    },
    {
     "name": "stderr",
     "output_type": "stream",
     "text": [
      "Scraper going at...: 5630it [2:12:49,  1.58s/it]"
     ]
    },
    {
     "name": "stdout",
     "output_type": "stream",
     "text": [
      "No figcaption found for images in URL: https://www.nos.nl/artikel/2490678\n"
     ]
    },
    {
     "name": "stderr",
     "output_type": "stream",
     "text": [
      "Scraper going at...: 5635it [2:12:56,  1.63s/it]"
     ]
    },
    {
     "name": "stdout",
     "output_type": "stream",
     "text": [
      "No figcaption found for images in URL: https://www.nos.nl/artikel/2490669\n"
     ]
    },
    {
     "name": "stderr",
     "output_type": "stream",
     "text": [
      "Scraper going at...: 5642it [2:13:08,  1.78s/it]"
     ]
    },
    {
     "name": "stdout",
     "output_type": "stream",
     "text": [
      "No main image div found in URL: https://www.nos.nl/artikel/2490657\n"
     ]
    },
    {
     "name": "stderr",
     "output_type": "stream",
     "text": [
      "Scraper going at...: 5644it [2:13:10,  1.58s/it]"
     ]
    },
    {
     "name": "stdout",
     "output_type": "stream",
     "text": [
      "No figcaption found for images in URL: https://www.nos.nl/artikel/2490655\n"
     ]
    },
    {
     "name": "stderr",
     "output_type": "stream",
     "text": [
      "Scraper going at...: 5646it [2:13:14,  1.56s/it]"
     ]
    },
    {
     "name": "stdout",
     "output_type": "stream",
     "text": [
      "No main image div found in URL: https://www.nos.nl/artikel/2490652\n"
     ]
    },
    {
     "name": "stderr",
     "output_type": "stream",
     "text": [
      "Scraper going at...: 5651it [2:13:20,  1.29s/it]"
     ]
    },
    {
     "name": "stdout",
     "output_type": "stream",
     "text": [
      "No figcaption found for images in URL: https://www.nos.nl/artikel/2490636\n"
     ]
    },
    {
     "name": "stderr",
     "output_type": "stream",
     "text": [
      "Scraper going at...: 5659it [2:13:32,  1.27s/it]"
     ]
    },
    {
     "name": "stdout",
     "output_type": "stream",
     "text": [
      "No figcaption found for images in URL: https://www.nos.nl/artikel/2490624\n"
     ]
    },
    {
     "name": "stderr",
     "output_type": "stream",
     "text": [
      "Scraper going at...: 5666it [2:13:41,  1.16s/it]"
     ]
    },
    {
     "name": "stdout",
     "output_type": "stream",
     "text": [
      "No main image div found in URL: https://www.nos.nl/artikel/2490614\n"
     ]
    },
    {
     "name": "stderr",
     "output_type": "stream",
     "text": [
      "Scraper going at...: 5670it [2:13:46,  1.23s/it]"
     ]
    },
    {
     "name": "stdout",
     "output_type": "stream",
     "text": [
      "No main image div found in URL: https://www.nos.nl/artikel/2490607\n"
     ]
    },
    {
     "name": "stderr",
     "output_type": "stream",
     "text": [
      "Scraper going at...: 5672it [2:13:48,  1.12s/it]"
     ]
    },
    {
     "name": "stdout",
     "output_type": "stream",
     "text": [
      "No figcaption found for images in URL: https://www.nos.nl/artikel/2490603\n"
     ]
    },
    {
     "name": "stderr",
     "output_type": "stream",
     "text": [
      "Scraper going at...: 5673it [2:13:51,  1.62s/it]"
     ]
    },
    {
     "name": "stdout",
     "output_type": "stream",
     "text": [
      "No figcaption found for images in URL: https://www.nos.nl/artikel/2490602\n"
     ]
    },
    {
     "name": "stderr",
     "output_type": "stream",
     "text": [
      "Scraper going at...: 5674it [2:13:53,  1.72s/it]"
     ]
    },
    {
     "name": "stdout",
     "output_type": "stream",
     "text": [
      "No main image div found in URL: https://www.nos.nl/artikel/2490601\n"
     ]
    },
    {
     "name": "stderr",
     "output_type": "stream",
     "text": [
      "Scraper going at...: 5676it [2:13:55,  1.36s/it]"
     ]
    },
    {
     "name": "stdout",
     "output_type": "stream",
     "text": [
      "No figcaption found for images in URL: https://www.nos.nl/artikel/2490592\n"
     ]
    },
    {
     "name": "stderr",
     "output_type": "stream",
     "text": [
      "Scraper going at...: 5680it [2:13:59,  1.11s/it]"
     ]
    },
    {
     "name": "stdout",
     "output_type": "stream",
     "text": [
      "No figcaption found for images in URL: https://www.nos.nl/artikel/2490580\n"
     ]
    },
    {
     "name": "stderr",
     "output_type": "stream",
     "text": [
      "Scraper going at...: 5684it [2:14:07,  1.89s/it]"
     ]
    },
    {
     "name": "stdout",
     "output_type": "stream",
     "text": [
      "No main image div found in URL: https://www.nos.nl/artikel/2490575\n"
     ]
    },
    {
     "name": "stderr",
     "output_type": "stream",
     "text": [
      "Scraper going at...: 5685it [2:14:08,  1.76s/it]"
     ]
    },
    {
     "name": "stdout",
     "output_type": "stream",
     "text": [
      "No main image div found in URL: https://www.nos.nl/artikel/2490574\n"
     ]
    },
    {
     "name": "stderr",
     "output_type": "stream",
     "text": [
      "Scraper going at...: 5687it [2:14:11,  1.42s/it]"
     ]
    },
    {
     "name": "stdout",
     "output_type": "stream",
     "text": [
      "No main image div found in URL: https://www.nos.nl/artikel/2490570\n"
     ]
    },
    {
     "name": "stderr",
     "output_type": "stream",
     "text": [
      "Scraper going at...: 5689it [2:14:14,  1.63s/it]"
     ]
    },
    {
     "name": "stdout",
     "output_type": "stream",
     "text": [
      "No main image div found in URL: https://www.nos.nl/artikel/2490568\n"
     ]
    },
    {
     "name": "stderr",
     "output_type": "stream",
     "text": [
      "Scraper going at...: 5692it [2:14:19,  1.70s/it]"
     ]
    },
    {
     "name": "stdout",
     "output_type": "stream",
     "text": [
      "No figcaption found for images in URL: https://www.nos.nl/artikel/2490560\n"
     ]
    },
    {
     "name": "stderr",
     "output_type": "stream",
     "text": [
      "Scraper going at...: 5698it [2:14:27,  1.37s/it]"
     ]
    },
    {
     "name": "stdout",
     "output_type": "stream",
     "text": [
      "No figcaption found for images in URL: https://www.nos.nl/artikel/2490550\n"
     ]
    },
    {
     "name": "stderr",
     "output_type": "stream",
     "text": [
      "Scraper going at...: 5699it [2:14:29,  1.40s/it]"
     ]
    },
    {
     "name": "stdout",
     "output_type": "stream",
     "text": [
      "No figcaption found for images in URL: https://www.nos.nl/artikel/2490547\n"
     ]
    },
    {
     "name": "stderr",
     "output_type": "stream",
     "text": [
      "Scraper going at...: 5704it [2:14:36,  1.52s/it]"
     ]
    },
    {
     "name": "stdout",
     "output_type": "stream",
     "text": [
      "No figcaption found for images in URL: https://www.nos.nl/artikel/2490539\n"
     ]
    },
    {
     "name": "stderr",
     "output_type": "stream",
     "text": [
      "Scraper going at...: 5712it [2:14:50,  1.87s/it]"
     ]
    },
    {
     "name": "stdout",
     "output_type": "stream",
     "text": [
      "No figcaption found for images in URL: https://www.nos.nl/artikel/2490517\n"
     ]
    },
    {
     "name": "stderr",
     "output_type": "stream",
     "text": [
      "Scraper going at...: 5718it [2:14:58,  1.38s/it]"
     ]
    },
    {
     "name": "stdout",
     "output_type": "stream",
     "text": [
      "No main image div found in URL: https://www.nos.nl/artikel/2490501\n"
     ]
    },
    {
     "name": "stderr",
     "output_type": "stream",
     "text": [
      "Scraper going at...: 5719it [2:15:00,  1.61s/it]"
     ]
    },
    {
     "name": "stdout",
     "output_type": "stream",
     "text": [
      "No figcaption found for images in URL: https://www.nos.nl/artikel/2490496\n"
     ]
    },
    {
     "name": "stderr",
     "output_type": "stream",
     "text": [
      "Scraper going at...: 5724it [2:15:07,  1.43s/it]"
     ]
    },
    {
     "name": "stdout",
     "output_type": "stream",
     "text": [
      "No figcaption found for images in URL: https://www.nos.nl/artikel/2490489\n"
     ]
    },
    {
     "name": "stderr",
     "output_type": "stream",
     "text": [
      "Scraper going at...: 5725it [2:15:08,  1.29s/it]"
     ]
    },
    {
     "name": "stdout",
     "output_type": "stream",
     "text": [
      "No figcaption found for images in URL: https://www.nos.nl/artikel/2490488\n"
     ]
    },
    {
     "name": "stderr",
     "output_type": "stream",
     "text": [
      "Scraper going at...: 5726it [2:15:09,  1.19s/it]"
     ]
    },
    {
     "name": "stdout",
     "output_type": "stream",
     "text": [
      "No figcaption found for images in URL: https://www.nos.nl/artikel/2490487\n"
     ]
    },
    {
     "name": "stderr",
     "output_type": "stream",
     "text": [
      "Scraper going at...: 5728it [2:15:11,  1.12s/it]"
     ]
    },
    {
     "name": "stdout",
     "output_type": "stream",
     "text": [
      "No figcaption found for images in URL: https://www.nos.nl/artikel/2490484\n"
     ]
    },
    {
     "name": "stderr",
     "output_type": "stream",
     "text": [
      "Scraper going at...: 5731it [2:15:17,  1.67s/it]"
     ]
    },
    {
     "name": "stdout",
     "output_type": "stream",
     "text": [
      "No figcaption found for images in URL: https://www.nos.nl/artikel/2490480\n"
     ]
    },
    {
     "name": "stderr",
     "output_type": "stream",
     "text": [
      "Scraper going at...: 5733it [2:15:20,  1.69s/it]"
     ]
    },
    {
     "name": "stdout",
     "output_type": "stream",
     "text": [
      "No main image div found in URL: https://www.nos.nl/artikel/2490472\n"
     ]
    },
    {
     "name": "stderr",
     "output_type": "stream",
     "text": [
      "Scraper going at...: 5734it [2:15:21,  1.57s/it]"
     ]
    },
    {
     "name": "stdout",
     "output_type": "stream",
     "text": [
      "No figcaption found for images in URL: https://www.nos.nl/artikel/2490471\n"
     ]
    },
    {
     "name": "stderr",
     "output_type": "stream",
     "text": [
      "Scraper going at...: 5736it [2:15:23,  1.27s/it]"
     ]
    },
    {
     "name": "stdout",
     "output_type": "stream",
     "text": [
      "No main image div found in URL: https://www.nos.nl/artikel/2490466\n"
     ]
    },
    {
     "name": "stderr",
     "output_type": "stream",
     "text": [
      "Scraper going at...: 5737it [2:15:25,  1.27s/it]"
     ]
    },
    {
     "name": "stdout",
     "output_type": "stream",
     "text": [
      "No main image div found in URL: https://www.nos.nl/artikel/2490465\n"
     ]
    },
    {
     "name": "stderr",
     "output_type": "stream",
     "text": [
      "Scraper going at...: 5738it [2:15:27,  1.66s/it]"
     ]
    },
    {
     "name": "stdout",
     "output_type": "stream",
     "text": [
      "No main image div found in URL: https://www.nos.nl/artikel/2490464\n"
     ]
    },
    {
     "name": "stderr",
     "output_type": "stream",
     "text": [
      "Scraper going at...: 5744it [2:15:36,  1.30s/it]"
     ]
    },
    {
     "name": "stdout",
     "output_type": "stream",
     "text": [
      "No figcaption found for images in URL: https://www.nos.nl/artikel/2490455\n"
     ]
    },
    {
     "name": "stderr",
     "output_type": "stream",
     "text": [
      "Scraper going at...: 5746it [2:15:38,  1.23s/it]"
     ]
    },
    {
     "name": "stdout",
     "output_type": "stream",
     "text": [
      "No figcaption found for images in URL: https://www.nos.nl/artikel/2490452\n"
     ]
    },
    {
     "name": "stderr",
     "output_type": "stream",
     "text": [
      "Scraper going at...: 5749it [2:15:41,  1.09s/it]"
     ]
    },
    {
     "name": "stdout",
     "output_type": "stream",
     "text": [
      "No figcaption found for images in URL: https://www.nos.nl/artikel/2490447\n"
     ]
    },
    {
     "name": "stderr",
     "output_type": "stream",
     "text": [
      "Scraper going at...: 5758it [2:15:52,  1.19s/it]"
     ]
    },
    {
     "name": "stdout",
     "output_type": "stream",
     "text": [
      "No main image div found in URL: https://www.nos.nl/artikel/2490434\n"
     ]
    },
    {
     "name": "stderr",
     "output_type": "stream",
     "text": [
      "Scraper going at...: 5771it [2:16:11,  1.60s/it]"
     ]
    },
    {
     "name": "stdout",
     "output_type": "stream",
     "text": [
      "No figcaption found for images in URL: https://www.nos.nl/artikel/2490401\n"
     ]
    },
    {
     "name": "stderr",
     "output_type": "stream",
     "text": [
      "Scraper going at...: 5773it [2:16:14,  1.39s/it]"
     ]
    },
    {
     "name": "stdout",
     "output_type": "stream",
     "text": [
      "No figcaption found for images in URL: https://www.nos.nl/artikel/2490398\n"
     ]
    },
    {
     "name": "stderr",
     "output_type": "stream",
     "text": [
      "Scraper going at...: 5778it [2:16:19,  1.11s/it]"
     ]
    },
    {
     "name": "stdout",
     "output_type": "stream",
     "text": [
      "No main image div found in URL: https://www.nos.nl/artikel/2490393\n"
     ]
    },
    {
     "name": "stderr",
     "output_type": "stream",
     "text": [
      "Scraper going at...: 5781it [2:16:23,  1.24s/it]"
     ]
    },
    {
     "name": "stdout",
     "output_type": "stream",
     "text": [
      "No figcaption found for images in URL: https://www.nos.nl/artikel/2490385\n"
     ]
    },
    {
     "name": "stderr",
     "output_type": "stream",
     "text": [
      "Scraper going at...: 5786it [2:16:30,  1.26s/it]"
     ]
    },
    {
     "name": "stdout",
     "output_type": "stream",
     "text": [
      "No figcaption found for images in URL: https://www.nos.nl/artikel/2490380\n"
     ]
    },
    {
     "name": "stderr",
     "output_type": "stream",
     "text": [
      "Scraper going at...: 5795it [2:16:41,  1.30s/it]"
     ]
    },
    {
     "name": "stdout",
     "output_type": "stream",
     "text": [
      "No figcaption found for images in URL: https://www.nos.nl/artikel/2490362\n"
     ]
    },
    {
     "name": "stderr",
     "output_type": "stream",
     "text": [
      "Scraper going at...: 5801it [2:16:49,  1.72s/it]"
     ]
    },
    {
     "name": "stdout",
     "output_type": "stream",
     "text": [
      "No main image div found in URL: https://www.nos.nl/artikel/2490352\n"
     ]
    },
    {
     "name": "stderr",
     "output_type": "stream",
     "text": [
      "Scraper going at...: 5813it [2:17:05,  1.21s/it]"
     ]
    },
    {
     "name": "stdout",
     "output_type": "stream",
     "text": [
      "No figcaption found for images in URL: https://www.nos.nl/artikel/2490326\n"
     ]
    },
    {
     "name": "stderr",
     "output_type": "stream",
     "text": [
      "Scraper going at...: 5814it [2:17:06,  1.21s/it]"
     ]
    },
    {
     "name": "stdout",
     "output_type": "stream",
     "text": [
      "No figcaption found for images in URL: https://www.nos.nl/artikel/2490323\n"
     ]
    },
    {
     "name": "stderr",
     "output_type": "stream",
     "text": [
      "Scraper going at...: 5820it [2:17:16,  1.88s/it]"
     ]
    },
    {
     "name": "stdout",
     "output_type": "stream",
     "text": [
      "No main image div found in URL: https://www.nos.nl/artikel/2490313\n"
     ]
    },
    {
     "name": "stderr",
     "output_type": "stream",
     "text": [
      "Scraper going at...: 5828it [2:17:26,  1.29s/it]"
     ]
    },
    {
     "name": "stdout",
     "output_type": "stream",
     "text": [
      "No figcaption found for images in URL: https://www.nos.nl/artikel/2490293\n"
     ]
    },
    {
     "name": "stderr",
     "output_type": "stream",
     "text": [
      "Scraper going at...: 5833it [2:17:34,  1.53s/it]"
     ]
    },
    {
     "name": "stdout",
     "output_type": "stream",
     "text": [
      "No figcaption found for images in URL: https://www.nos.nl/artikel/2490284\n"
     ]
    },
    {
     "name": "stderr",
     "output_type": "stream",
     "text": [
      "Scraper going at...: 5834it [2:17:35,  1.43s/it]"
     ]
    },
    {
     "name": "stdout",
     "output_type": "stream",
     "text": [
      "No figcaption found for images in URL: https://www.nos.nl/artikel/2490283\n"
     ]
    },
    {
     "name": "stderr",
     "output_type": "stream",
     "text": [
      "Scraper going at...: 5836it [2:17:37,  1.21s/it]"
     ]
    },
    {
     "name": "stdout",
     "output_type": "stream",
     "text": [
      "No main image div found in URL: https://www.nos.nl/artikel/2490280\n"
     ]
    },
    {
     "name": "stderr",
     "output_type": "stream",
     "text": [
      "Scraper going at...: 5844it [2:17:49,  1.37s/it]"
     ]
    },
    {
     "name": "stdout",
     "output_type": "stream",
     "text": [
      "No figcaption found for images in URL: https://www.nos.nl/artikel/2490265\n"
     ]
    },
    {
     "name": "stderr",
     "output_type": "stream",
     "text": [
      "Scraper going at...: 5848it [2:17:57,  1.68s/it]"
     ]
    },
    {
     "name": "stdout",
     "output_type": "stream",
     "text": [
      "No figcaption found for images in URL: https://www.nos.nl/artikel/2490256\n"
     ]
    },
    {
     "name": "stderr",
     "output_type": "stream",
     "text": [
      "Scraper going at...: 5852it [2:18:02,  1.30s/it]"
     ]
    },
    {
     "name": "stdout",
     "output_type": "stream",
     "text": [
      "No figcaption found for images in URL: https://www.nos.nl/artikel/2490249\n"
     ]
    },
    {
     "name": "stderr",
     "output_type": "stream",
     "text": [
      "Scraper going at...: 5853it [2:18:04,  1.39s/it]"
     ]
    },
    {
     "name": "stdout",
     "output_type": "stream",
     "text": [
      "No figcaption found for images in URL: https://www.nos.nl/artikel/2490248\n"
     ]
    },
    {
     "name": "stderr",
     "output_type": "stream",
     "text": [
      "Scraper going at...: 5854it [2:18:05,  1.32s/it]"
     ]
    },
    {
     "name": "stdout",
     "output_type": "stream",
     "text": [
      "No figcaption found for images in URL: https://www.nos.nl/artikel/2490247\n"
     ]
    },
    {
     "name": "stderr",
     "output_type": "stream",
     "text": [
      "Scraper going at...: 5861it [2:18:15,  1.32s/it]"
     ]
    },
    {
     "name": "stdout",
     "output_type": "stream",
     "text": [
      "No main image div found in URL: https://www.nos.nl/artikel/2490236\n"
     ]
    },
    {
     "name": "stderr",
     "output_type": "stream",
     "text": [
      "Scraper going at...: 5864it [2:18:18,  1.17s/it]"
     ]
    },
    {
     "name": "stdout",
     "output_type": "stream",
     "text": [
      "No main image div found in URL: https://www.nos.nl/artikel/2490229\n"
     ]
    },
    {
     "name": "stderr",
     "output_type": "stream",
     "text": [
      "Scraper going at...: 5868it [2:18:24,  1.40s/it]"
     ]
    },
    {
     "name": "stdout",
     "output_type": "stream",
     "text": [
      "No main image div found in URL: https://www.nos.nl/artikel/2490220\n"
     ]
    },
    {
     "name": "stderr",
     "output_type": "stream",
     "text": [
      "Scraper going at...: 5871it [2:18:28,  1.41s/it]"
     ]
    },
    {
     "name": "stdout",
     "output_type": "stream",
     "text": [
      "No figcaption found for images in URL: https://www.nos.nl/artikel/2490217\n"
     ]
    },
    {
     "name": "stderr",
     "output_type": "stream",
     "text": [
      "Scraper going at...: 5881it [2:18:42,  1.36s/it]"
     ]
    },
    {
     "name": "stdout",
     "output_type": "stream",
     "text": [
      "No figcaption found for images in URL: https://www.nos.nl/artikel/2490198\n"
     ]
    },
    {
     "name": "stderr",
     "output_type": "stream",
     "text": [
      "Scraper going at...: 5891it [2:18:54,  1.22s/it]"
     ]
    },
    {
     "name": "stdout",
     "output_type": "stream",
     "text": [
      "No figcaption found for images in URL: https://www.nos.nl/artikel/2490181\n"
     ]
    },
    {
     "name": "stderr",
     "output_type": "stream",
     "text": [
      "Scraper going at...: 5892it [2:18:56,  1.30s/it]"
     ]
    },
    {
     "name": "stdout",
     "output_type": "stream",
     "text": [
      "No figcaption found for images in URL: https://www.nos.nl/artikel/2490180\n"
     ]
    },
    {
     "name": "stderr",
     "output_type": "stream",
     "text": [
      "Scraper going at...: 5895it [2:18:59,  1.14s/it]"
     ]
    },
    {
     "name": "stdout",
     "output_type": "stream",
     "text": [
      "No figcaption found for images in URL: https://www.nos.nl/artikel/2490171\n"
     ]
    },
    {
     "name": "stderr",
     "output_type": "stream",
     "text": [
      "Scraper going at...: 5897it [2:19:01,  1.10s/it]"
     ]
    },
    {
     "name": "stdout",
     "output_type": "stream",
     "text": [
      "No figcaption found for images in URL: https://www.nos.nl/artikel/2490168\n"
     ]
    },
    {
     "name": "stderr",
     "output_type": "stream",
     "text": [
      "Scraper going at...: 5898it [2:19:02,  1.09s/it]"
     ]
    },
    {
     "name": "stdout",
     "output_type": "stream",
     "text": [
      "No figcaption found for images in URL: https://www.nos.nl/artikel/2490167\n"
     ]
    },
    {
     "name": "stderr",
     "output_type": "stream",
     "text": [
      "Scraper going at...: 5900it [2:19:05,  1.08s/it]"
     ]
    },
    {
     "name": "stdout",
     "output_type": "stream",
     "text": [
      "No main image div found in URL: https://www.nos.nl/artikel/2490165\n"
     ]
    },
    {
     "name": "stderr",
     "output_type": "stream",
     "text": [
      "Scraper going at...: 5907it [2:19:12,  1.09s/it]"
     ]
    },
    {
     "name": "stdout",
     "output_type": "stream",
     "text": [
      "No figcaption found for images in URL: https://www.nos.nl/artikel/2490153\n"
     ]
    },
    {
     "name": "stderr",
     "output_type": "stream",
     "text": [
      "Scraper going at...: 5912it [2:19:19,  1.44s/it]"
     ]
    },
    {
     "name": "stdout",
     "output_type": "stream",
     "text": [
      "No figcaption found for images in URL: https://www.nos.nl/artikel/2490145\n"
     ]
    },
    {
     "name": "stderr",
     "output_type": "stream",
     "text": [
      "Scraper going at...: 5915it [2:19:23,  1.55s/it]"
     ]
    },
    {
     "name": "stdout",
     "output_type": "stream",
     "text": [
      "No main image div found in URL: https://www.nos.nl/artikel/2490135\n"
     ]
    },
    {
     "name": "stderr",
     "output_type": "stream",
     "text": [
      "Scraper going at...: 5922it [2:19:33,  1.31s/it]"
     ]
    },
    {
     "name": "stdout",
     "output_type": "stream",
     "text": [
      "No figcaption found for images in URL: https://www.nos.nl/artikel/2490123\n"
     ]
    },
    {
     "name": "stderr",
     "output_type": "stream",
     "text": [
      "Scraper going at...: 5925it [2:19:37,  1.24s/it]"
     ]
    },
    {
     "name": "stdout",
     "output_type": "stream",
     "text": [
      "No figcaption found for images in URL: https://www.nos.nl/artikel/2490115\n"
     ]
    },
    {
     "name": "stderr",
     "output_type": "stream",
     "text": [
      "Scraper going at...: 5929it [2:19:44,  1.50s/it]"
     ]
    },
    {
     "name": "stdout",
     "output_type": "stream",
     "text": [
      "No figcaption found for images in URL: https://www.nos.nl/artikel/2490110\n"
     ]
    },
    {
     "name": "stderr",
     "output_type": "stream",
     "text": [
      "Scraper going at...: 5935it [2:19:51,  1.21s/it]"
     ]
    },
    {
     "name": "stdout",
     "output_type": "stream",
     "text": [
      "No figcaption found for images in URL: https://www.nos.nl/artikel/2490098\n"
     ]
    },
    {
     "name": "stderr",
     "output_type": "stream",
     "text": [
      "Scraper going at...: 5937it [2:19:54,  1.30s/it]"
     ]
    },
    {
     "name": "stdout",
     "output_type": "stream",
     "text": [
      "No main image div found in URL: https://www.nos.nl/artikel/2490095\n"
     ]
    },
    {
     "name": "stderr",
     "output_type": "stream",
     "text": [
      "Scraper going at...: 5938it [2:19:55,  1.28s/it]"
     ]
    },
    {
     "name": "stdout",
     "output_type": "stream",
     "text": [
      "No figcaption found for images in URL: https://www.nos.nl/artikel/2490094\n"
     ]
    },
    {
     "name": "stderr",
     "output_type": "stream",
     "text": [
      "Scraper going at...: 5945it [2:20:06,  1.71s/it]"
     ]
    },
    {
     "name": "stdout",
     "output_type": "stream",
     "text": [
      "No main image div found in URL: https://www.nos.nl/artikel/2490086\n"
     ]
    },
    {
     "name": "stderr",
     "output_type": "stream",
     "text": [
      "Scraper going at...: 5950it [2:20:11,  1.15s/it]"
     ]
    },
    {
     "name": "stdout",
     "output_type": "stream",
     "text": [
      "No figcaption found for images in URL: https://www.nos.nl/artikel/2490070\n"
     ]
    },
    {
     "name": "stderr",
     "output_type": "stream",
     "text": [
      "Scraper going at...: 5951it [2:20:12,  1.12s/it]"
     ]
    },
    {
     "name": "stdout",
     "output_type": "stream",
     "text": [
      "No figcaption found for images in URL: https://www.nos.nl/artikel/2490069\n"
     ]
    },
    {
     "name": "stderr",
     "output_type": "stream",
     "text": [
      "Scraper going at...: 5953it [2:20:15,  1.32s/it]"
     ]
    },
    {
     "name": "stdout",
     "output_type": "stream",
     "text": [
      "No figcaption found for images in URL: https://www.nos.nl/artikel/2490066\n"
     ]
    },
    {
     "name": "stderr",
     "output_type": "stream",
     "text": [
      "Scraper going at...: 5956it [2:20:19,  1.28s/it]"
     ]
    },
    {
     "name": "stdout",
     "output_type": "stream",
     "text": [
      "No figcaption found for images in URL: https://www.nos.nl/artikel/2490060\n"
     ]
    },
    {
     "name": "stderr",
     "output_type": "stream",
     "text": [
      "Scraper going at...: 5957it [2:20:20,  1.22s/it]"
     ]
    },
    {
     "name": "stdout",
     "output_type": "stream",
     "text": [
      "No figcaption found for images in URL: https://www.nos.nl/artikel/2490059\n"
     ]
    },
    {
     "name": "stderr",
     "output_type": "stream",
     "text": [
      "Scraper going at...: 5958it [2:20:21,  1.15s/it]"
     ]
    },
    {
     "name": "stdout",
     "output_type": "stream",
     "text": [
      "No main image div found in URL: https://www.nos.nl/artikel/2490058\n"
     ]
    },
    {
     "name": "stderr",
     "output_type": "stream",
     "text": [
      "Scraper going at...: 5962it [2:20:26,  1.12s/it]"
     ]
    },
    {
     "name": "stdout",
     "output_type": "stream",
     "text": [
      "No figcaption found for images in URL: https://www.nos.nl/artikel/2490053\n"
     ]
    },
    {
     "name": "stderr",
     "output_type": "stream",
     "text": [
      "Scraper going at...: 5963it [2:20:27,  1.21s/it]"
     ]
    },
    {
     "name": "stdout",
     "output_type": "stream",
     "text": [
      "No main image div found in URL: https://www.nos.nl/artikel/2490052\n"
     ]
    },
    {
     "name": "stderr",
     "output_type": "stream",
     "text": [
      "Scraper going at...: 5964it [2:20:28,  1.20s/it]"
     ]
    },
    {
     "name": "stdout",
     "output_type": "stream",
     "text": [
      "No main image div found in URL: https://www.nos.nl/artikel/2490041\n"
     ]
    },
    {
     "name": "stderr",
     "output_type": "stream",
     "text": [
      "Scraper going at...: 5968it [2:20:36,  1.64s/it]"
     ]
    },
    {
     "name": "stdout",
     "output_type": "stream",
     "text": [
      "No figcaption found for images in URL: https://www.nos.nl/artikel/2490030\n"
     ]
    },
    {
     "name": "stderr",
     "output_type": "stream",
     "text": [
      "Scraper going at...: 5969it [2:20:38,  1.76s/it]"
     ]
    },
    {
     "name": "stdout",
     "output_type": "stream",
     "text": [
      "No main image div found in URL: https://www.nos.nl/artikel/2490024\n"
     ]
    },
    {
     "name": "stderr",
     "output_type": "stream",
     "text": [
      "Scraper going at...: 5971it [2:20:40,  1.45s/it]"
     ]
    },
    {
     "name": "stdout",
     "output_type": "stream",
     "text": [
      "No main image div found in URL: https://www.nos.nl/artikel/2490011\n"
     ]
    },
    {
     "name": "stderr",
     "output_type": "stream",
     "text": [
      "Scraper going at...: 5972it [2:20:42,  1.64s/it]"
     ]
    },
    {
     "name": "stdout",
     "output_type": "stream",
     "text": [
      "No figcaption found for images in URL: https://www.nos.nl/artikel/2490009\n"
     ]
    },
    {
     "name": "stderr",
     "output_type": "stream",
     "text": [
      "Scraper going at...: 5975it [2:20:49,  1.97s/it]"
     ]
    },
    {
     "name": "stdout",
     "output_type": "stream",
     "text": [
      "No main image div found in URL: https://www.nos.nl/artikel/2490003\n"
     ]
    },
    {
     "name": "stderr",
     "output_type": "stream",
     "text": [
      "Scraper going at...: 5976it [2:20:50,  1.84s/it]"
     ]
    },
    {
     "name": "stdout",
     "output_type": "stream",
     "text": [
      "No main image div found in URL: https://www.nos.nl/artikel/2490002\n"
     ]
    },
    {
     "name": "stderr",
     "output_type": "stream",
     "text": [
      "Scraper going at...: 5977it [2:20:52,  1.66s/it]"
     ]
    },
    {
     "name": "stdout",
     "output_type": "stream",
     "text": [
      "No main image div found in URL: https://www.nos.nl/artikel/2489996\n"
     ]
    },
    {
     "name": "stderr",
     "output_type": "stream",
     "text": [
      "Scraper going at...: 5978it [2:20:53,  1.56s/it]"
     ]
    },
    {
     "name": "stdout",
     "output_type": "stream",
     "text": [
      "No figcaption found for images in URL: https://www.nos.nl/artikel/2489995\n"
     ]
    },
    {
     "name": "stderr",
     "output_type": "stream",
     "text": [
      "Scraper going at...: 5980it [2:20:55,  1.37s/it]"
     ]
    },
    {
     "name": "stdout",
     "output_type": "stream",
     "text": [
      "No main image div found in URL: https://www.nos.nl/artikel/2489992\n"
     ]
    },
    {
     "name": "stderr",
     "output_type": "stream",
     "text": [
      "Scraper going at...: 5984it [2:21:00,  1.20s/it]"
     ]
    },
    {
     "name": "stdout",
     "output_type": "stream",
     "text": [
      "No main image div found in URL: https://www.nos.nl/artikel/2489977\n"
     ]
    },
    {
     "name": "stderr",
     "output_type": "stream",
     "text": [
      "Scraper going at...: 5987it [2:21:03,  1.14s/it]"
     ]
    },
    {
     "name": "stdout",
     "output_type": "stream",
     "text": [
      "No main image div found in URL: https://www.nos.nl/artikel/2489970\n"
     ]
    },
    {
     "name": "stderr",
     "output_type": "stream",
     "text": [
      "Scraper going at...: 5991it [2:21:09,  1.28s/it]"
     ]
    },
    {
     "name": "stdout",
     "output_type": "stream",
     "text": [
      "No figcaption found for images in URL: https://www.nos.nl/artikel/2489955\n"
     ]
    },
    {
     "name": "stderr",
     "output_type": "stream",
     "text": [
      "Scraper going at...: 5998it [2:21:18,  1.48s/it]"
     ]
    },
    {
     "name": "stdout",
     "output_type": "stream",
     "text": [
      "No figcaption found for images in URL: https://www.nos.nl/artikel/2489931\n"
     ]
    },
    {
     "name": "stderr",
     "output_type": "stream",
     "text": [
      "Scraper going at...: 6003it [2:21:26,  1.32s/it]"
     ]
    },
    {
     "name": "stdout",
     "output_type": "stream",
     "text": [
      "No main image div found in URL: https://www.nos.nl/artikel/2489925\n"
     ]
    },
    {
     "name": "stderr",
     "output_type": "stream",
     "text": [
      "Scraper going at...: 6004it [2:21:27,  1.26s/it]"
     ]
    },
    {
     "name": "stdout",
     "output_type": "stream",
     "text": [
      "No figcaption found for images in URL: https://www.nos.nl/artikel/2489924\n"
     ]
    },
    {
     "name": "stderr",
     "output_type": "stream",
     "text": [
      "Scraper going at...: 6005it [2:21:29,  1.57s/it]"
     ]
    },
    {
     "name": "stdout",
     "output_type": "stream",
     "text": [
      "No main image div found in URL: https://www.nos.nl/artikel/2489921\n"
     ]
    },
    {
     "name": "stderr",
     "output_type": "stream",
     "text": [
      "Scraper going at...: 6007it [2:21:34,  2.12s/it]"
     ]
    },
    {
     "name": "stdout",
     "output_type": "stream",
     "text": [
      "No main image div found in URL: https://www.nos.nl/artikel/2489918\n"
     ]
    },
    {
     "name": "stderr",
     "output_type": "stream",
     "text": [
      "Scraper going at...: 6008it [2:21:36,  2.00s/it]"
     ]
    },
    {
     "name": "stdout",
     "output_type": "stream",
     "text": [
      "No figcaption found for images in URL: https://www.nos.nl/artikel/2489917\n"
     ]
    },
    {
     "name": "stderr",
     "output_type": "stream",
     "text": [
      "Scraper going at...: 6014it [2:21:44,  1.71s/it]"
     ]
    },
    {
     "name": "stdout",
     "output_type": "stream",
     "text": [
      "No figcaption found for images in URL: https://www.nos.nl/artikel/2489897\n"
     ]
    },
    {
     "name": "stderr",
     "output_type": "stream",
     "text": [
      "Scraper going at...: 6016it [2:21:47,  1.59s/it]"
     ]
    },
    {
     "name": "stdout",
     "output_type": "stream",
     "text": [
      "No main image div found in URL: https://www.nos.nl/artikel/2489892\n"
     ]
    },
    {
     "name": "stderr",
     "output_type": "stream",
     "text": [
      "Scraper going at...: 6017it [2:21:48,  1.51s/it]"
     ]
    },
    {
     "name": "stdout",
     "output_type": "stream",
     "text": [
      "No main image div found in URL: https://www.nos.nl/artikel/2489885\n"
     ]
    },
    {
     "name": "stderr",
     "output_type": "stream",
     "text": [
      "Scraper going at...: 6019it [2:21:51,  1.31s/it]"
     ]
    },
    {
     "name": "stdout",
     "output_type": "stream",
     "text": [
      "No figcaption found for images in URL: https://www.nos.nl/artikel/2489878\n"
     ]
    },
    {
     "name": "stderr",
     "output_type": "stream",
     "text": [
      "Scraper going at...: 6020it [2:21:52,  1.28s/it]"
     ]
    },
    {
     "name": "stdout",
     "output_type": "stream",
     "text": [
      "No main image div found in URL: https://www.nos.nl/artikel/2489877\n"
     ]
    },
    {
     "name": "stderr",
     "output_type": "stream",
     "text": [
      "Scraper going at...: 6021it [2:21:53,  1.19s/it]"
     ]
    },
    {
     "name": "stdout",
     "output_type": "stream",
     "text": [
      "No figcaption found for images in URL: https://www.nos.nl/artikel/2489876\n"
     ]
    },
    {
     "name": "stderr",
     "output_type": "stream",
     "text": [
      "Scraper going at...: 6023it [2:21:55,  1.11s/it]"
     ]
    },
    {
     "name": "stdout",
     "output_type": "stream",
     "text": [
      "No figcaption found for images in URL: https://www.nos.nl/artikel/2489874\n"
     ]
    },
    {
     "name": "stderr",
     "output_type": "stream",
     "text": [
      "Scraper going at...: 6029it [2:22:04,  1.45s/it]"
     ]
    },
    {
     "name": "stdout",
     "output_type": "stream",
     "text": [
      "No figcaption found for images in URL: https://www.nos.nl/artikel/2489856\n"
     ]
    },
    {
     "name": "stderr",
     "output_type": "stream",
     "text": [
      "Scraper going at...: 6030it [2:22:05,  1.32s/it]"
     ]
    },
    {
     "name": "stdout",
     "output_type": "stream",
     "text": [
      "No main image div found in URL: https://www.nos.nl/artikel/2489853\n"
     ]
    },
    {
     "name": "stderr",
     "output_type": "stream",
     "text": [
      "Scraper going at...: 6031it [2:22:07,  1.25s/it]"
     ]
    },
    {
     "name": "stdout",
     "output_type": "stream",
     "text": [
      "No main image div found in URL: https://www.nos.nl/artikel/2489851\n"
     ]
    },
    {
     "name": "stderr",
     "output_type": "stream",
     "text": [
      "Scraper going at...: 6034it [2:22:10,  1.11s/it]"
     ]
    },
    {
     "name": "stdout",
     "output_type": "stream",
     "text": [
      "No figcaption found for images in URL: https://www.nos.nl/artikel/2489842\n"
     ]
    },
    {
     "name": "stderr",
     "output_type": "stream",
     "text": [
      "Scraper going at...: 6036it [2:22:12,  1.21s/it]"
     ]
    },
    {
     "name": "stdout",
     "output_type": "stream",
     "text": [
      "No figcaption found for images in URL: https://www.nos.nl/artikel/2489835\n"
     ]
    },
    {
     "name": "stderr",
     "output_type": "stream",
     "text": [
      "Scraper going at...: 6047it [2:22:27,  1.61s/it]"
     ]
    },
    {
     "name": "stdout",
     "output_type": "stream",
     "text": [
      "No main image div found in URL: https://www.nos.nl/artikel/2489815\n"
     ]
    },
    {
     "name": "stderr",
     "output_type": "stream",
     "text": [
      "Scraper going at...: 6049it [2:22:34,  2.67s/it]"
     ]
    },
    {
     "name": "stdout",
     "output_type": "stream",
     "text": [
      "No figcaption found for images in URL: https://www.nos.nl/artikel/2489807\n"
     ]
    },
    {
     "name": "stderr",
     "output_type": "stream",
     "text": [
      "Scraper going at...: 6050it [2:22:36,  2.64s/it]"
     ]
    },
    {
     "name": "stdout",
     "output_type": "stream",
     "text": [
      "No figcaption found for images in URL: https://www.nos.nl/artikel/2489805\n"
     ]
    },
    {
     "name": "stderr",
     "output_type": "stream",
     "text": [
      "Scraper going at...: 6052it [2:22:41,  2.55s/it]"
     ]
    },
    {
     "name": "stdout",
     "output_type": "stream",
     "text": [
      "No main image div found in URL: https://www.nos.nl/artikel/2489803\n"
     ]
    },
    {
     "name": "stderr",
     "output_type": "stream",
     "text": [
      "Scraper going at...: 6053it [2:22:43,  2.34s/it]"
     ]
    },
    {
     "name": "stdout",
     "output_type": "stream",
     "text": [
      "No figcaption found for images in URL: https://www.nos.nl/artikel/2489802\n"
     ]
    },
    {
     "name": "stderr",
     "output_type": "stream",
     "text": [
      "Scraper going at...: 6055it [2:22:45,  1.82s/it]"
     ]
    },
    {
     "name": "stdout",
     "output_type": "stream",
     "text": [
      "No main image div found in URL: https://www.nos.nl/artikel/2489798\n"
     ]
    },
    {
     "name": "stderr",
     "output_type": "stream",
     "text": [
      "Scraper going at...: 6057it [2:22:48,  1.50s/it]"
     ]
    },
    {
     "name": "stdout",
     "output_type": "stream",
     "text": [
      "No main image div found in URL: https://www.nos.nl/artikel/2489788\n"
     ]
    },
    {
     "name": "stderr",
     "output_type": "stream",
     "text": [
      "Scraper going at...: 6059it [2:22:50,  1.26s/it]"
     ]
    },
    {
     "name": "stdout",
     "output_type": "stream",
     "text": [
      "No figcaption found for images in URL: https://www.nos.nl/artikel/2489784\n"
     ]
    },
    {
     "name": "stderr",
     "output_type": "stream",
     "text": [
      "Scraper going at...: 6060it [2:22:51,  1.17s/it]"
     ]
    },
    {
     "name": "stdout",
     "output_type": "stream",
     "text": [
      "No main image div found in URL: https://www.nos.nl/artikel/2489776\n"
     ]
    },
    {
     "name": "stderr",
     "output_type": "stream",
     "text": [
      "Scraper going at...: 6063it [2:22:54,  1.14s/it]"
     ]
    },
    {
     "name": "stdout",
     "output_type": "stream",
     "text": [
      "No main image div found in URL: https://www.nos.nl/artikel/2489766\n"
     ]
    },
    {
     "name": "stderr",
     "output_type": "stream",
     "text": [
      "Scraper going at...: 6065it [2:22:59,  1.90s/it]"
     ]
    },
    {
     "name": "stdout",
     "output_type": "stream",
     "text": [
      "No main image div found in URL: https://www.nos.nl/artikel/2489764\n"
     ]
    },
    {
     "name": "stderr",
     "output_type": "stream",
     "text": [
      "Scraper going at...: 6069it [2:23:04,  1.49s/it]"
     ]
    },
    {
     "name": "stdout",
     "output_type": "stream",
     "text": [
      "No figcaption found for images in URL: https://www.nos.nl/artikel/2489760\n"
     ]
    },
    {
     "name": "stderr",
     "output_type": "stream",
     "text": [
      "Scraper going at...: 6074it [2:23:14,  1.95s/it]"
     ]
    },
    {
     "name": "stdout",
     "output_type": "stream",
     "text": [
      "No main image div found in URL: https://www.nos.nl/artikel/2489742\n"
     ]
    },
    {
     "name": "stderr",
     "output_type": "stream",
     "text": [
      "Scraper going at...: 6079it [2:23:21,  1.33s/it]"
     ]
    },
    {
     "name": "stdout",
     "output_type": "stream",
     "text": [
      "No figcaption found for images in URL: https://www.nos.nl/artikel/2489736\n"
     ]
    },
    {
     "name": "stderr",
     "output_type": "stream",
     "text": [
      "Scraper going at...: 6080it [2:23:22,  1.25s/it]"
     ]
    },
    {
     "name": "stdout",
     "output_type": "stream",
     "text": [
      "No main image div found in URL: https://www.nos.nl/artikel/2489735\n"
     ]
    },
    {
     "name": "stderr",
     "output_type": "stream",
     "text": [
      "Scraper going at...: 6086it [2:23:30,  1.35s/it]"
     ]
    },
    {
     "name": "stdout",
     "output_type": "stream",
     "text": [
      "No figcaption found for images in URL: https://www.nos.nl/artikel/2489726\n"
     ]
    },
    {
     "name": "stderr",
     "output_type": "stream",
     "text": [
      "Scraper going at...: 6095it [2:23:41,  1.31s/it]"
     ]
    },
    {
     "name": "stdout",
     "output_type": "stream",
     "text": [
      "No figcaption found for images in URL: https://www.nos.nl/artikel/2489704\n"
     ]
    },
    {
     "name": "stderr",
     "output_type": "stream",
     "text": [
      "Scraper going at...: 6097it [2:23:43,  1.20s/it]"
     ]
    },
    {
     "name": "stdout",
     "output_type": "stream",
     "text": [
      "No main image div found in URL: https://www.nos.nl/artikel/2489699\n"
     ]
    },
    {
     "name": "stderr",
     "output_type": "stream",
     "text": [
      "Scraper going at...: 6101it [2:23:48,  1.28s/it]"
     ]
    },
    {
     "name": "stdout",
     "output_type": "stream",
     "text": [
      "No figcaption found for images in URL: https://www.nos.nl/artikel/2489693\n"
     ]
    },
    {
     "name": "stderr",
     "output_type": "stream",
     "text": [
      "Scraper going at...: 6105it [2:23:58,  2.70s/it]"
     ]
    },
    {
     "name": "stdout",
     "output_type": "stream",
     "text": [
      "No main image div found in URL: https://www.nos.nl/artikel/2489685\n"
     ]
    },
    {
     "name": "stderr",
     "output_type": "stream",
     "text": [
      "Scraper going at...: 6108it [2:24:02,  1.59s/it]"
     ]
    },
    {
     "name": "stdout",
     "output_type": "stream",
     "text": [
      "No figcaption found for images in URL: https://www.nos.nl/artikel/2489673\n"
     ]
    },
    {
     "name": "stderr",
     "output_type": "stream",
     "text": [
      "Scraper going at...: 6112it [2:24:08,  1.54s/it]"
     ]
    },
    {
     "name": "stdout",
     "output_type": "stream",
     "text": [
      "No figcaption found for images in URL: https://www.nos.nl/artikel/2489665\n"
     ]
    },
    {
     "name": "stderr",
     "output_type": "stream",
     "text": [
      "Scraper going at...: 6113it [2:24:09,  1.37s/it]"
     ]
    },
    {
     "name": "stdout",
     "output_type": "stream",
     "text": [
      "No figcaption found for images in URL: https://www.nos.nl/artikel/2489664\n"
     ]
    },
    {
     "name": "stderr",
     "output_type": "stream",
     "text": [
      "Scraper going at...: 6114it [2:24:10,  1.28s/it]"
     ]
    },
    {
     "name": "stdout",
     "output_type": "stream",
     "text": [
      "No main image div found in URL: https://www.nos.nl/artikel/2489663\n"
     ]
    },
    {
     "name": "stderr",
     "output_type": "stream",
     "text": [
      "Scraper going at...: 6115it [2:24:12,  1.33s/it]"
     ]
    },
    {
     "name": "stdout",
     "output_type": "stream",
     "text": [
      "No figcaption found for images in URL: https://www.nos.nl/artikel/2489658\n"
     ]
    },
    {
     "name": "stderr",
     "output_type": "stream",
     "text": [
      "Scraper going at...: 6116it [2:24:13,  1.33s/it]"
     ]
    },
    {
     "name": "stdout",
     "output_type": "stream",
     "text": [
      "No main image div found in URL: https://www.nos.nl/artikel/2489657\n"
     ]
    },
    {
     "name": "stderr",
     "output_type": "stream",
     "text": [
      "Scraper going at...: 6121it [2:24:19,  1.18s/it]"
     ]
    },
    {
     "name": "stdout",
     "output_type": "stream",
     "text": [
      "No main image div found in URL: https://www.nos.nl/artikel/2489652\n"
     ]
    },
    {
     "name": "stderr",
     "output_type": "stream",
     "text": [
      "Scraper going at...: 6122it [2:24:21,  1.43s/it]"
     ]
    },
    {
     "name": "stdout",
     "output_type": "stream",
     "text": [
      "No figcaption found for images in URL: https://www.nos.nl/artikel/2489651\n"
     ]
    },
    {
     "name": "stderr",
     "output_type": "stream",
     "text": [
      "Scraper going at...: 6124it [2:24:26,  1.92s/it]"
     ]
    },
    {
     "name": "stdout",
     "output_type": "stream",
     "text": [
      "No main image div found in URL: https://www.nos.nl/artikel/2489648\n"
     ]
    },
    {
     "name": "stderr",
     "output_type": "stream",
     "text": [
      "Scraper going at...: 6127it [2:24:32,  1.82s/it]"
     ]
    },
    {
     "name": "stdout",
     "output_type": "stream",
     "text": [
      "No main image div found in URL: https://www.nos.nl/artikel/2489638\n"
     ]
    },
    {
     "name": "stderr",
     "output_type": "stream",
     "text": [
      "Scraper going at...: 6128it [2:24:33,  1.60s/it]"
     ]
    },
    {
     "name": "stdout",
     "output_type": "stream",
     "text": [
      "No main image div found in URL: https://www.nos.nl/artikel/2489637\n"
     ]
    },
    {
     "name": "stderr",
     "output_type": "stream",
     "text": [
      "Scraper going at...: 6132it [2:24:39,  1.53s/it]"
     ]
    },
    {
     "name": "stdout",
     "output_type": "stream",
     "text": [
      "No figcaption found for images in URL: https://www.nos.nl/artikel/2489625\n"
     ]
    },
    {
     "name": "stderr",
     "output_type": "stream",
     "text": [
      "Scraper going at...: 6134it [2:24:43,  1.78s/it]"
     ]
    },
    {
     "name": "stdout",
     "output_type": "stream",
     "text": [
      "No main image div found in URL: https://www.nos.nl/artikel/2489620\n"
     ]
    },
    {
     "name": "stderr",
     "output_type": "stream",
     "text": [
      "Scraper going at...: 6136it [2:24:47,  1.94s/it]"
     ]
    },
    {
     "name": "stdout",
     "output_type": "stream",
     "text": [
      "No figcaption found for images in URL: https://www.nos.nl/artikel/2489617\n"
     ]
    },
    {
     "name": "stderr",
     "output_type": "stream",
     "text": [
      "Scraper going at...: 6137it [2:24:48,  1.72s/it]"
     ]
    },
    {
     "name": "stdout",
     "output_type": "stream",
     "text": [
      "No figcaption found for images in URL: https://www.nos.nl/artikel/2489616\n"
     ]
    },
    {
     "name": "stderr",
     "output_type": "stream",
     "text": [
      "Scraper going at...: 6138it [2:24:50,  1.73s/it]"
     ]
    },
    {
     "name": "stdout",
     "output_type": "stream",
     "text": [
      "No main image div found in URL: https://www.nos.nl/artikel/2489615\n"
     ]
    },
    {
     "name": "stderr",
     "output_type": "stream",
     "text": [
      "Scraper going at...: 6140it [2:24:54,  1.91s/it]"
     ]
    },
    {
     "name": "stdout",
     "output_type": "stream",
     "text": [
      "No main image div found in URL: https://www.nos.nl/artikel/2489597\n"
     ]
    },
    {
     "name": "stderr",
     "output_type": "stream",
     "text": [
      "Scraper going at...: 6141it [2:24:56,  1.80s/it]"
     ]
    },
    {
     "name": "stdout",
     "output_type": "stream",
     "text": [
      "No figcaption found for images in URL: https://www.nos.nl/artikel/2489595\n"
     ]
    },
    {
     "name": "stderr",
     "output_type": "stream",
     "text": [
      "Scraper going at...: 6142it [2:24:57,  1.55s/it]"
     ]
    },
    {
     "name": "stdout",
     "output_type": "stream",
     "text": [
      "No main image div found in URL: https://www.nos.nl/artikel/2489594\n"
     ]
    },
    {
     "name": "stderr",
     "output_type": "stream",
     "text": [
      "Scraper going at...: 6147it [2:25:03,  1.30s/it]"
     ]
    },
    {
     "name": "stdout",
     "output_type": "stream",
     "text": [
      "No figcaption found for images in URL: https://www.nos.nl/artikel/2489588\n"
     ]
    },
    {
     "name": "stderr",
     "output_type": "stream",
     "text": [
      "Scraper going at...: 6148it [2:25:04,  1.31s/it]"
     ]
    },
    {
     "name": "stdout",
     "output_type": "stream",
     "text": [
      "No main image div found in URL: https://www.nos.nl/artikel/2489587\n"
     ]
    },
    {
     "name": "stderr",
     "output_type": "stream",
     "text": [
      "Scraper going at...: 6149it [2:25:05,  1.41s/it]"
     ]
    },
    {
     "name": "stdout",
     "output_type": "stream",
     "text": [
      "No figcaption found for images in URL: https://www.nos.nl/artikel/2489586\n"
     ]
    },
    {
     "name": "stderr",
     "output_type": "stream",
     "text": [
      "Scraper going at...: 6152it [2:25:09,  1.18s/it]"
     ]
    },
    {
     "name": "stdout",
     "output_type": "stream",
     "text": [
      "No figcaption found for images in URL: https://www.nos.nl/artikel/2489578\n"
     ]
    },
    {
     "name": "stderr",
     "output_type": "stream",
     "text": [
      "Scraper going at...: 6153it [2:25:10,  1.14s/it]"
     ]
    },
    {
     "name": "stdout",
     "output_type": "stream",
     "text": [
      "No main image div found in URL: https://www.nos.nl/artikel/2489577\n"
     ]
    },
    {
     "name": "stderr",
     "output_type": "stream",
     "text": [
      "Scraper going at...: 6155it [2:25:13,  1.34s/it]"
     ]
    },
    {
     "name": "stdout",
     "output_type": "stream",
     "text": [
      "No figcaption found for images in URL: https://www.nos.nl/artikel/2489572\n"
     ]
    },
    {
     "name": "stderr",
     "output_type": "stream",
     "text": [
      "Scraper going at...: 6160it [2:25:21,  1.60s/it]"
     ]
    },
    {
     "name": "stdout",
     "output_type": "stream",
     "text": [
      "No figcaption found for images in URL: https://www.nos.nl/artikel/2489564\n"
     ]
    },
    {
     "name": "stderr",
     "output_type": "stream",
     "text": [
      "Scraper going at...: 6164it [2:25:26,  1.32s/it]"
     ]
    },
    {
     "name": "stdout",
     "output_type": "stream",
     "text": [
      "No figcaption found for images in URL: https://www.nos.nl/artikel/2489559\n"
     ]
    },
    {
     "name": "stderr",
     "output_type": "stream",
     "text": [
      "Scraper going at...: 6168it [2:25:32,  1.82s/it]"
     ]
    },
    {
     "name": "stdout",
     "output_type": "stream",
     "text": [
      "No main image div found in URL: https://www.nos.nl/artikel/2489554\n"
     ]
    },
    {
     "name": "stderr",
     "output_type": "stream",
     "text": [
      "Scraper going at...: 6172it [2:25:38,  1.58s/it]"
     ]
    },
    {
     "name": "stdout",
     "output_type": "stream",
     "text": [
      "No main image div found in URL: https://www.nos.nl/artikel/2489546\n"
     ]
    },
    {
     "name": "stderr",
     "output_type": "stream",
     "text": [
      "Scraper going at...: 6179it [2:25:49,  1.36s/it]"
     ]
    },
    {
     "name": "stdout",
     "output_type": "stream",
     "text": [
      "No figcaption found for images in URL: https://www.nos.nl/artikel/2489525\n"
     ]
    },
    {
     "name": "stderr",
     "output_type": "stream",
     "text": [
      "Scraper going at...: 6180it [2:25:51,  1.53s/it]"
     ]
    },
    {
     "name": "stdout",
     "output_type": "stream",
     "text": [
      "No figcaption found for images in URL: https://www.nos.nl/artikel/2489522\n"
     ]
    },
    {
     "name": "stderr",
     "output_type": "stream",
     "text": [
      "Scraper going at...: 6181it [2:25:52,  1.37s/it]"
     ]
    },
    {
     "name": "stdout",
     "output_type": "stream",
     "text": [
      "No figcaption found for images in URL: https://www.nos.nl/artikel/2489521\n"
     ]
    },
    {
     "name": "stderr",
     "output_type": "stream",
     "text": [
      "Scraper going at...: 6183it [2:25:55,  1.22s/it]"
     ]
    },
    {
     "name": "stdout",
     "output_type": "stream",
     "text": [
      "No figcaption found for images in URL: https://www.nos.nl/artikel/2489519\n"
     ]
    },
    {
     "name": "stderr",
     "output_type": "stream",
     "text": [
      "Scraper going at...: 6185it [2:25:57,  1.20s/it]"
     ]
    },
    {
     "name": "stdout",
     "output_type": "stream",
     "text": [
      "No figcaption found for images in URL: https://www.nos.nl/artikel/2489517\n"
     ]
    },
    {
     "name": "stderr",
     "output_type": "stream",
     "text": [
      "Scraper going at...: 6186it [2:25:58,  1.14s/it]"
     ]
    },
    {
     "name": "stdout",
     "output_type": "stream",
     "text": [
      "No figcaption found for images in URL: https://www.nos.nl/artikel/2489514\n"
     ]
    },
    {
     "name": "stderr",
     "output_type": "stream",
     "text": [
      "Scraper going at...: 6187it [2:25:59,  1.14s/it]"
     ]
    },
    {
     "name": "stdout",
     "output_type": "stream",
     "text": [
      "No figcaption found for images in URL: https://www.nos.nl/artikel/2489513\n"
     ]
    },
    {
     "name": "stderr",
     "output_type": "stream",
     "text": [
      "Scraper going at...: 6195it [2:26:09,  1.37s/it]"
     ]
    },
    {
     "name": "stdout",
     "output_type": "stream",
     "text": [
      "No figcaption found for images in URL: https://www.nos.nl/artikel/2489497\n"
     ]
    },
    {
     "name": "stderr",
     "output_type": "stream",
     "text": [
      "Scraper going at...: 6200it [2:26:15,  1.18s/it]"
     ]
    },
    {
     "name": "stdout",
     "output_type": "stream",
     "text": [
      "No main image div found in URL: https://www.nos.nl/artikel/2489490\n"
     ]
    },
    {
     "name": "stderr",
     "output_type": "stream",
     "text": [
      "Scraper going at...: 6202it [2:26:20,  1.65s/it]"
     ]
    },
    {
     "name": "stdout",
     "output_type": "stream",
     "text": [
      "No figcaption found for images in URL: https://www.nos.nl/artikel/2489484\n"
     ]
    },
    {
     "name": "stderr",
     "output_type": "stream",
     "text": [
      "Scraper going at...: 6204it [2:26:23,  1.49s/it]"
     ]
    },
    {
     "name": "stdout",
     "output_type": "stream",
     "text": [
      "No main image div found in URL: https://www.nos.nl/artikel/2489480\n"
     ]
    },
    {
     "name": "stderr",
     "output_type": "stream",
     "text": [
      "Scraper going at...: 6208it [2:26:29,  1.66s/it]"
     ]
    },
    {
     "name": "stdout",
     "output_type": "stream",
     "text": [
      "No figcaption found for images in URL: https://www.nos.nl/artikel/2489467\n"
     ]
    },
    {
     "name": "stderr",
     "output_type": "stream",
     "text": [
      "Scraper going at...: 6211it [2:26:33,  1.37s/it]"
     ]
    },
    {
     "name": "stdout",
     "output_type": "stream",
     "text": [
      "No figcaption found for images in URL: https://www.nos.nl/artikel/2489460\n"
     ]
    },
    {
     "name": "stderr",
     "output_type": "stream",
     "text": [
      "Scraper going at...: 6215it [2:26:38,  1.32s/it]"
     ]
    },
    {
     "name": "stdout",
     "output_type": "stream",
     "text": [
      "No main image div found in URL: https://www.nos.nl/artikel/2489455\n"
     ]
    },
    {
     "name": "stderr",
     "output_type": "stream",
     "text": [
      "Scraper going at...: 6218it [2:26:41,  1.17s/it]"
     ]
    },
    {
     "name": "stdout",
     "output_type": "stream",
     "text": [
      "No main image div found in URL: https://www.nos.nl/artikel/2489447\n"
     ]
    },
    {
     "name": "stderr",
     "output_type": "stream",
     "text": [
      "Scraper going at...: 6219it [2:26:42,  1.10s/it]"
     ]
    },
    {
     "name": "stdout",
     "output_type": "stream",
     "text": [
      "No main image div found in URL: https://www.nos.nl/artikel/2489442\n"
     ]
    },
    {
     "name": "stderr",
     "output_type": "stream",
     "text": [
      "Scraper going at...: 6222it [2:26:46,  1.18s/it]"
     ]
    },
    {
     "name": "stdout",
     "output_type": "stream",
     "text": [
      "No figcaption found for images in URL: https://www.nos.nl/artikel/2489439\n"
     ]
    },
    {
     "name": "stderr",
     "output_type": "stream",
     "text": [
      "Scraper going at...: 6223it [2:26:48,  1.34s/it]"
     ]
    },
    {
     "name": "stdout",
     "output_type": "stream",
     "text": [
      "No figcaption found for images in URL: https://www.nos.nl/artikel/2489437\n"
     ]
    },
    {
     "name": "stderr",
     "output_type": "stream",
     "text": [
      "Scraper going at...: 6228it [2:26:55,  1.33s/it]"
     ]
    },
    {
     "name": "stdout",
     "output_type": "stream",
     "text": [
      "No figcaption found for images in URL: https://www.nos.nl/artikel/2489428\n"
     ]
    },
    {
     "name": "stderr",
     "output_type": "stream",
     "text": [
      "Scraper going at...: 6234it [2:27:05,  1.66s/it]"
     ]
    },
    {
     "name": "stdout",
     "output_type": "stream",
     "text": [
      "No main image div found in URL: https://www.nos.nl/artikel/2489419\n"
     ]
    },
    {
     "name": "stderr",
     "output_type": "stream",
     "text": [
      "Scraper going at...: 6238it [2:27:11,  1.40s/it]"
     ]
    },
    {
     "name": "stdout",
     "output_type": "stream",
     "text": [
      "No main image div found in URL: https://www.nos.nl/artikel/2489403\n"
     ]
    },
    {
     "name": "stderr",
     "output_type": "stream",
     "text": [
      "Scraper going at...: 6242it [2:27:16,  1.38s/it]"
     ]
    },
    {
     "name": "stdout",
     "output_type": "stream",
     "text": [
      "No figcaption found for images in URL: https://www.nos.nl/artikel/2489395\n"
     ]
    },
    {
     "name": "stderr",
     "output_type": "stream",
     "text": [
      "Scraper going at...: 6243it [2:27:18,  1.32s/it]"
     ]
    },
    {
     "name": "stdout",
     "output_type": "stream",
     "text": [
      "No figcaption found for images in URL: https://www.nos.nl/artikel/2489394\n"
     ]
    },
    {
     "name": "stderr",
     "output_type": "stream",
     "text": [
      "Scraper going at...: 6251it [2:27:30,  1.33s/it]"
     ]
    },
    {
     "name": "stdout",
     "output_type": "stream",
     "text": [
      "No main image div found in URL: https://www.nos.nl/artikel/2489382\n"
     ]
    },
    {
     "name": "stderr",
     "output_type": "stream",
     "text": [
      "Scraper going at...: 6263it [2:27:46,  1.32s/it]"
     ]
    },
    {
     "name": "stdout",
     "output_type": "stream",
     "text": [
      "No figcaption found for images in URL: https://www.nos.nl/artikel/2489365\n"
     ]
    },
    {
     "name": "stderr",
     "output_type": "stream",
     "text": [
      "Scraper going at...: 6267it [2:27:51,  1.29s/it]"
     ]
    },
    {
     "name": "stdout",
     "output_type": "stream",
     "text": [
      "No main image div found in URL: https://www.nos.nl/artikel/2489354\n"
     ]
    },
    {
     "name": "stderr",
     "output_type": "stream",
     "text": [
      "Scraper going at...: 6273it [2:27:59,  1.32s/it]"
     ]
    },
    {
     "name": "stdout",
     "output_type": "stream",
     "text": [
      "No main image div found in URL: https://www.nos.nl/artikel/2489344\n"
     ]
    },
    {
     "name": "stderr",
     "output_type": "stream",
     "text": [
      "Scraper going at...: 6276it [2:28:03,  1.35s/it]"
     ]
    },
    {
     "name": "stdout",
     "output_type": "stream",
     "text": [
      "No figcaption found for images in URL: https://www.nos.nl/artikel/2489337\n"
     ]
    },
    {
     "name": "stderr",
     "output_type": "stream",
     "text": [
      "Scraper going at...: 6277it [2:28:04,  1.35s/it]"
     ]
    },
    {
     "name": "stdout",
     "output_type": "stream",
     "text": [
      "No figcaption found for images in URL: https://www.nos.nl/artikel/2489334\n"
     ]
    },
    {
     "name": "stderr",
     "output_type": "stream",
     "text": [
      "Scraper going at...: 6278it [2:28:05,  1.24s/it]"
     ]
    },
    {
     "name": "stdout",
     "output_type": "stream",
     "text": [
      "No figcaption found for images in URL: https://www.nos.nl/artikel/2489333\n"
     ]
    },
    {
     "name": "stderr",
     "output_type": "stream",
     "text": [
      "Scraper going at...: 6280it [2:28:07,  1.10s/it]"
     ]
    },
    {
     "name": "stdout",
     "output_type": "stream",
     "text": [
      "No figcaption found for images in URL: https://www.nos.nl/artikel/2489329\n"
     ]
    },
    {
     "name": "stderr",
     "output_type": "stream",
     "text": [
      "Scraper going at...: 6283it [2:28:10,  1.08s/it]"
     ]
    },
    {
     "name": "stdout",
     "output_type": "stream",
     "text": [
      "No main image div found in URL: https://www.nos.nl/artikel/2489325\n"
     ]
    },
    {
     "name": "stderr",
     "output_type": "stream",
     "text": [
      "Scraper going at...: 6285it [2:28:15,  1.64s/it]"
     ]
    },
    {
     "name": "stdout",
     "output_type": "stream",
     "text": [
      "No figcaption found for images in URL: https://www.nos.nl/artikel/2489319\n"
     ]
    },
    {
     "name": "stderr",
     "output_type": "stream",
     "text": [
      "Scraper going at...: 6288it [2:28:18,  1.35s/it]"
     ]
    },
    {
     "name": "stdout",
     "output_type": "stream",
     "text": [
      "No main image div found in URL: https://www.nos.nl/artikel/2489315\n"
     ]
    },
    {
     "name": "stderr",
     "output_type": "stream",
     "text": [
      "Scraper going at...: 6292it [2:28:23,  1.13s/it]"
     ]
    },
    {
     "name": "stdout",
     "output_type": "stream",
     "text": [
      "No main image div found in URL: https://www.nos.nl/artikel/2489310\n"
     ]
    },
    {
     "name": "stderr",
     "output_type": "stream",
     "text": [
      "Scraper going at...: 6299it [2:28:31,  1.21s/it]"
     ]
    },
    {
     "name": "stdout",
     "output_type": "stream",
     "text": [
      "No main image div found in URL: https://www.nos.nl/artikel/2489301\n"
     ]
    },
    {
     "name": "stderr",
     "output_type": "stream",
     "text": [
      "Scraper going at...: 6302it [2:28:35,  1.26s/it]"
     ]
    },
    {
     "name": "stdout",
     "output_type": "stream",
     "text": [
      "No main image div found in URL: https://www.nos.nl/artikel/2489291\n"
     ]
    },
    {
     "name": "stderr",
     "output_type": "stream",
     "text": [
      "Scraper going at...: 6304it [2:28:38,  1.48s/it]"
     ]
    },
    {
     "name": "stdout",
     "output_type": "stream",
     "text": [
      "No figcaption found for images in URL: https://www.nos.nl/artikel/2489287\n"
     ]
    },
    {
     "name": "stderr",
     "output_type": "stream",
     "text": [
      "Scraper going at...: 6305it [2:28:39,  1.44s/it]"
     ]
    },
    {
     "name": "stdout",
     "output_type": "stream",
     "text": [
      "No main image div found in URL: https://www.nos.nl/artikel/2489282\n"
     ]
    },
    {
     "name": "stderr",
     "output_type": "stream",
     "text": [
      "Scraper going at...: 6306it [2:28:40,  1.30s/it]"
     ]
    },
    {
     "name": "stdout",
     "output_type": "stream",
     "text": [
      "No figcaption found for images in URL: https://www.nos.nl/artikel/2489280\n"
     ]
    },
    {
     "name": "stderr",
     "output_type": "stream",
     "text": [
      "Scraper going at...: 6307it [2:28:43,  1.63s/it]"
     ]
    },
    {
     "name": "stdout",
     "output_type": "stream",
     "text": [
      "No figcaption found for images in URL: https://www.nos.nl/artikel/2489279\n"
     ]
    },
    {
     "name": "stderr",
     "output_type": "stream",
     "text": [
      "Scraper going at...: 6308it [2:28:44,  1.46s/it]"
     ]
    },
    {
     "name": "stdout",
     "output_type": "stream",
     "text": [
      "No main image div found in URL: https://www.nos.nl/artikel/2489277\n"
     ]
    },
    {
     "name": "stderr",
     "output_type": "stream",
     "text": [
      "Scraper going at...: 6309it [2:28:45,  1.35s/it]"
     ]
    },
    {
     "name": "stdout",
     "output_type": "stream",
     "text": [
      "No main image div found in URL: https://www.nos.nl/artikel/2489276\n"
     ]
    },
    {
     "name": "stderr",
     "output_type": "stream",
     "text": [
      "Scraper going at...: 6311it [2:28:48,  1.53s/it]"
     ]
    },
    {
     "name": "stdout",
     "output_type": "stream",
     "text": [
      "No figcaption found for images in URL: https://www.nos.nl/artikel/2489273\n"
     ]
    },
    {
     "name": "stderr",
     "output_type": "stream",
     "text": [
      "Scraper going at...: 6315it [2:28:53,  1.20s/it]"
     ]
    },
    {
     "name": "stdout",
     "output_type": "stream",
     "text": [
      "No figcaption found for images in URL: https://www.nos.nl/artikel/2489268\n"
     ]
    },
    {
     "name": "stderr",
     "output_type": "stream",
     "text": [
      "Scraper going at...: 6316it [2:28:54,  1.14s/it]"
     ]
    },
    {
     "name": "stdout",
     "output_type": "stream",
     "text": [
      "No main image div found in URL: https://www.nos.nl/artikel/2489267\n"
     ]
    },
    {
     "name": "stderr",
     "output_type": "stream",
     "text": [
      "Scraper going at...: 6317it [2:28:55,  1.09s/it]"
     ]
    },
    {
     "name": "stdout",
     "output_type": "stream",
     "text": [
      "No figcaption found for images in URL: https://www.nos.nl/artikel/2489262\n"
     ]
    },
    {
     "name": "stderr",
     "output_type": "stream",
     "text": [
      "Scraper going at...: 6321it [2:28:59,  1.04s/it]"
     ]
    },
    {
     "name": "stdout",
     "output_type": "stream",
     "text": [
      "No main image div found in URL: https://www.nos.nl/artikel/2489254\n"
     ]
    },
    {
     "name": "stderr",
     "output_type": "stream",
     "text": [
      "Scraper going at...: 6322it [2:29:01,  1.32s/it]"
     ]
    },
    {
     "name": "stdout",
     "output_type": "stream",
     "text": [
      "No figcaption found for images in URL: https://www.nos.nl/artikel/2489252\n"
     ]
    },
    {
     "name": "stderr",
     "output_type": "stream",
     "text": [
      "Scraper going at...: 6325it [2:29:05,  1.37s/it]"
     ]
    },
    {
     "name": "stdout",
     "output_type": "stream",
     "text": [
      "No main image div found in URL: https://www.nos.nl/artikel/2489244\n"
     ]
    },
    {
     "name": "stderr",
     "output_type": "stream",
     "text": [
      "Scraper going at...: 6329it [2:29:09,  1.15s/it]"
     ]
    },
    {
     "name": "stdout",
     "output_type": "stream",
     "text": [
      "No main image div found in URL: https://www.nos.nl/artikel/2489240\n"
     ]
    },
    {
     "name": "stderr",
     "output_type": "stream",
     "text": [
      "Scraper going at...: 6330it [2:29:11,  1.16s/it]"
     ]
    },
    {
     "name": "stdout",
     "output_type": "stream",
     "text": [
      "No main image div found in URL: https://www.nos.nl/artikel/2489239\n"
     ]
    },
    {
     "name": "stderr",
     "output_type": "stream",
     "text": [
      "Scraper going at...: 6335it [2:29:17,  1.24s/it]"
     ]
    },
    {
     "name": "stdout",
     "output_type": "stream",
     "text": [
      "No figcaption found for images in URL: https://www.nos.nl/artikel/2489223\n"
     ]
    },
    {
     "name": "stderr",
     "output_type": "stream",
     "text": [
      "Scraper going at...: 6336it [2:29:18,  1.20s/it]"
     ]
    },
    {
     "name": "stdout",
     "output_type": "stream",
     "text": [
      "No main image div found in URL: https://www.nos.nl/artikel/2489222\n"
     ]
    },
    {
     "name": "stderr",
     "output_type": "stream",
     "text": [
      "Scraper going at...: 6337it [2:29:20,  1.20s/it]"
     ]
    },
    {
     "name": "stdout",
     "output_type": "stream",
     "text": [
      "No figcaption found for images in URL: https://www.nos.nl/artikel/2489218\n"
     ]
    },
    {
     "name": "stderr",
     "output_type": "stream",
     "text": [
      "Scraper going at...: 6339it [2:29:22,  1.13s/it]"
     ]
    },
    {
     "name": "stdout",
     "output_type": "stream",
     "text": [
      "No figcaption found for images in URL: https://www.nos.nl/artikel/2489215\n"
     ]
    },
    {
     "name": "stderr",
     "output_type": "stream",
     "text": [
      "Scraper going at...: 6346it [2:29:30,  1.10s/it]"
     ]
    },
    {
     "name": "stdout",
     "output_type": "stream",
     "text": [
      "No figcaption found for images in URL: https://www.nos.nl/artikel/2489203\n"
     ]
    },
    {
     "name": "stderr",
     "output_type": "stream",
     "text": [
      "Scraper going at...: 6347it [2:29:32,  1.39s/it]"
     ]
    },
    {
     "name": "stdout",
     "output_type": "stream",
     "text": [
      "No main image div found in URL: https://www.nos.nl/artikel/2489202\n"
     ]
    },
    {
     "name": "stderr",
     "output_type": "stream",
     "text": [
      "Scraper going at...: 6351it [2:29:37,  1.25s/it]"
     ]
    },
    {
     "name": "stdout",
     "output_type": "stream",
     "text": [
      "No figcaption found for images in URL: https://www.nos.nl/artikel/2489197\n"
     ]
    },
    {
     "name": "stderr",
     "output_type": "stream",
     "text": [
      "Scraper going at...: 6352it [2:29:38,  1.20s/it]"
     ]
    },
    {
     "name": "stdout",
     "output_type": "stream",
     "text": [
      "No figcaption found for images in URL: https://www.nos.nl/artikel/2489196\n"
     ]
    },
    {
     "name": "stderr",
     "output_type": "stream",
     "text": [
      "Scraper going at...: 6354it [2:29:40,  1.18s/it]"
     ]
    },
    {
     "name": "stdout",
     "output_type": "stream",
     "text": [
      "No main image div found in URL: https://www.nos.nl/artikel/2489192\n"
     ]
    },
    {
     "name": "stderr",
     "output_type": "stream",
     "text": [
      "Scraper going at...: 6359it [2:29:45,  1.02s/it]"
     ]
    },
    {
     "name": "stdout",
     "output_type": "stream",
     "text": [
      "No main image div found in URL: https://www.nos.nl/artikel/2489185\n"
     ]
    },
    {
     "name": "stderr",
     "output_type": "stream",
     "text": [
      "Scraper going at...: 6360it [2:29:46,  1.02s/it]"
     ]
    },
    {
     "name": "stdout",
     "output_type": "stream",
     "text": [
      "No figcaption found for images in URL: https://www.nos.nl/artikel/2489184\n"
     ]
    },
    {
     "name": "stderr",
     "output_type": "stream",
     "text": [
      "Scraper going at...: 6363it [2:29:50,  1.15s/it]"
     ]
    },
    {
     "name": "stdout",
     "output_type": "stream",
     "text": [
      "No figcaption found for images in URL: https://www.nos.nl/artikel/2489180\n"
     ]
    },
    {
     "name": "stderr",
     "output_type": "stream",
     "text": [
      "Scraper going at...: 6364it [2:29:51,  1.13s/it]"
     ]
    },
    {
     "name": "stdout",
     "output_type": "stream",
     "text": [
      "No figcaption found for images in URL: https://www.nos.nl/artikel/2489179\n"
     ]
    },
    {
     "name": "stderr",
     "output_type": "stream",
     "text": [
      "Scraper going at...: 6365it [2:29:52,  1.20s/it]"
     ]
    },
    {
     "name": "stdout",
     "output_type": "stream",
     "text": [
      "No figcaption found for images in URL: https://www.nos.nl/artikel/2489178\n"
     ]
    },
    {
     "name": "stderr",
     "output_type": "stream",
     "text": [
      "Scraper going at...: 6368it [2:29:56,  1.14s/it]"
     ]
    },
    {
     "name": "stdout",
     "output_type": "stream",
     "text": [
      "No figcaption found for images in URL: https://www.nos.nl/artikel/2489174\n"
     ]
    },
    {
     "name": "stderr",
     "output_type": "stream",
     "text": [
      "Scraper going at...: 6374it [2:30:04,  1.30s/it]"
     ]
    },
    {
     "name": "stdout",
     "output_type": "stream",
     "text": [
      "No main image div found in URL: https://www.nos.nl/artikel/2489162\n"
     ]
    },
    {
     "name": "stderr",
     "output_type": "stream",
     "text": [
      "Scraper going at...: 6377it [2:30:07,  1.11s/it]"
     ]
    },
    {
     "name": "stdout",
     "output_type": "stream",
     "text": [
      "No main image div found in URL: https://www.nos.nl/artikel/2489149\n"
     ]
    },
    {
     "name": "stderr",
     "output_type": "stream",
     "text": [
      "Scraper going at...: 6378it [2:30:08,  1.12s/it]"
     ]
    },
    {
     "name": "stdout",
     "output_type": "stream",
     "text": [
      "No main image div found in URL: https://www.nos.nl/artikel/2489147\n"
     ]
    },
    {
     "name": "stderr",
     "output_type": "stream",
     "text": [
      "Scraper going at...: 6380it [2:30:13,  1.56s/it]"
     ]
    },
    {
     "name": "stdout",
     "output_type": "stream",
     "text": [
      "No figcaption found for images in URL: https://www.nos.nl/artikel/2489145\n"
     ]
    },
    {
     "name": "stderr",
     "output_type": "stream",
     "text": [
      "Scraper going at...: 6381it [2:30:14,  1.43s/it]"
     ]
    },
    {
     "name": "stdout",
     "output_type": "stream",
     "text": [
      "No main image div found in URL: https://www.nos.nl/artikel/2489144\n"
     ]
    },
    {
     "name": "stderr",
     "output_type": "stream",
     "text": [
      "Scraper going at...: 6385it [2:30:18,  1.16s/it]"
     ]
    },
    {
     "name": "stdout",
     "output_type": "stream",
     "text": [
      "No figcaption found for images in URL: https://www.nos.nl/artikel/2489140\n"
     ]
    },
    {
     "name": "stderr",
     "output_type": "stream",
     "text": [
      "Scraper going at...: 6387it [2:30:21,  1.19s/it]"
     ]
    },
    {
     "name": "stdout",
     "output_type": "stream",
     "text": [
      "No figcaption found for images in URL: https://www.nos.nl/artikel/2489135\n"
     ]
    },
    {
     "name": "stderr",
     "output_type": "stream",
     "text": [
      "Scraper going at...: 6388it [2:30:22,  1.17s/it]"
     ]
    },
    {
     "name": "stdout",
     "output_type": "stream",
     "text": [
      "No figcaption found for images in URL: https://www.nos.nl/artikel/2489130\n"
     ]
    },
    {
     "name": "stderr",
     "output_type": "stream",
     "text": [
      "Scraper going at...: 6390it [2:30:25,  1.58s/it]"
     ]
    },
    {
     "name": "stdout",
     "output_type": "stream",
     "text": [
      "No figcaption found for images in URL: https://www.nos.nl/artikel/2489116\n"
     ]
    },
    {
     "name": "stderr",
     "output_type": "stream",
     "text": [
      "Scraper going at...: 6395it [2:30:32,  1.43s/it]"
     ]
    },
    {
     "name": "stdout",
     "output_type": "stream",
     "text": [
      "No main image div found in URL: https://www.nos.nl/artikel/2489103\n"
     ]
    },
    {
     "name": "stderr",
     "output_type": "stream",
     "text": [
      "Scraper going at...: 6396it [2:30:34,  1.49s/it]"
     ]
    },
    {
     "name": "stdout",
     "output_type": "stream",
     "text": [
      "No figcaption found for images in URL: https://www.nos.nl/artikel/2489099\n"
     ]
    },
    {
     "name": "stderr",
     "output_type": "stream",
     "text": [
      "Scraper going at...: 6397it [2:30:36,  1.54s/it]"
     ]
    },
    {
     "name": "stdout",
     "output_type": "stream",
     "text": [
      "No main image div found in URL: https://www.nos.nl/artikel/2489097\n"
     ]
    },
    {
     "name": "stderr",
     "output_type": "stream",
     "text": [
      "Scraper going at...: 6399it [2:30:39,  1.47s/it]"
     ]
    },
    {
     "name": "stdout",
     "output_type": "stream",
     "text": [
      "No main image div found in URL: https://www.nos.nl/artikel/2489092\n"
     ]
    },
    {
     "name": "stderr",
     "output_type": "stream",
     "text": [
      "Scraper going at...: 6400it [2:30:40,  1.51s/it]"
     ]
    },
    {
     "name": "stdout",
     "output_type": "stream",
     "text": [
      "No main image div found in URL: https://www.nos.nl/artikel/2489091\n"
     ]
    },
    {
     "name": "stderr",
     "output_type": "stream",
     "text": [
      "Scraper going at...: 6401it [2:30:42,  1.65s/it]"
     ]
    },
    {
     "name": "stdout",
     "output_type": "stream",
     "text": [
      "No main image div found in URL: https://www.nos.nl/artikel/2489087\n"
     ]
    },
    {
     "name": "stderr",
     "output_type": "stream",
     "text": [
      "Scraper going at...: 6402it [2:30:44,  1.55s/it]"
     ]
    },
    {
     "name": "stdout",
     "output_type": "stream",
     "text": [
      "No figcaption found for images in URL: https://www.nos.nl/artikel/2489086\n"
     ]
    },
    {
     "name": "stderr",
     "output_type": "stream",
     "text": [
      "Scraper going at...: 6403it [2:30:45,  1.53s/it]"
     ]
    },
    {
     "name": "stdout",
     "output_type": "stream",
     "text": [
      "No main image div found in URL: https://www.nos.nl/artikel/2489085\n"
     ]
    },
    {
     "name": "stderr",
     "output_type": "stream",
     "text": [
      "Scraper going at...: 6405it [2:30:49,  1.67s/it]"
     ]
    },
    {
     "name": "stdout",
     "output_type": "stream",
     "text": [
      "No main image div found in URL: https://www.nos.nl/artikel/2489076\n"
     ]
    },
    {
     "name": "stderr",
     "output_type": "stream",
     "text": [
      "Scraper going at...: 6406it [2:30:50,  1.55s/it]"
     ]
    },
    {
     "name": "stdout",
     "output_type": "stream",
     "text": [
      "No main image div found in URL: https://www.nos.nl/artikel/2489072\n"
     ]
    },
    {
     "name": "stderr",
     "output_type": "stream",
     "text": [
      "Scraper going at...: 6412it [2:31:00,  1.53s/it]"
     ]
    },
    {
     "name": "stdout",
     "output_type": "stream",
     "text": [
      "No main image div found in URL: https://www.nos.nl/artikel/2489062\n"
     ]
    },
    {
     "name": "stderr",
     "output_type": "stream",
     "text": [
      "Scraper going at...: 6413it [2:31:02,  1.63s/it]"
     ]
    },
    {
     "name": "stdout",
     "output_type": "stream",
     "text": [
      "No figcaption found for images in URL: https://www.nos.nl/artikel/2489061\n"
     ]
    },
    {
     "name": "stderr",
     "output_type": "stream",
     "text": [
      "Scraper going at...: 6414it [2:31:05,  2.12s/it]"
     ]
    },
    {
     "name": "stdout",
     "output_type": "stream",
     "text": [
      "No main image div found in URL: https://www.nos.nl/artikel/2489060\n"
     ]
    },
    {
     "name": "stderr",
     "output_type": "stream",
     "text": [
      "Scraper going at...: 6416it [2:31:07,  1.65s/it]"
     ]
    },
    {
     "name": "stdout",
     "output_type": "stream",
     "text": [
      "No main image div found in URL: https://www.nos.nl/artikel/2489052\n"
     ]
    },
    {
     "name": "stderr",
     "output_type": "stream",
     "text": [
      "Scraper going at...: 6417it [2:31:08,  1.48s/it]"
     ]
    },
    {
     "name": "stdout",
     "output_type": "stream",
     "text": [
      "No figcaption found for images in URL: https://www.nos.nl/artikel/2489045\n"
     ]
    },
    {
     "name": "stderr",
     "output_type": "stream",
     "text": [
      "Scraper going at...: 6418it [2:31:11,  1.88s/it]"
     ]
    },
    {
     "name": "stdout",
     "output_type": "stream",
     "text": [
      "No main image div found in URL: https://www.nos.nl/artikel/2489041\n"
     ]
    },
    {
     "name": "stderr",
     "output_type": "stream",
     "text": [
      "Scraper going at...: 6420it [2:31:14,  1.74s/it]"
     ]
    },
    {
     "name": "stdout",
     "output_type": "stream",
     "text": [
      "No figcaption found for images in URL: https://www.nos.nl/artikel/2489036\n"
     ]
    },
    {
     "name": "stderr",
     "output_type": "stream",
     "text": [
      "Scraper going at...: 6424it [2:31:18,  1.17s/it]"
     ]
    },
    {
     "name": "stdout",
     "output_type": "stream",
     "text": [
      "No figcaption found for images in URL: https://www.nos.nl/artikel/2489027\n"
     ]
    },
    {
     "name": "stderr",
     "output_type": "stream",
     "text": [
      "Scraper going at...: 6425it [2:31:19,  1.12s/it]"
     ]
    },
    {
     "name": "stdout",
     "output_type": "stream",
     "text": [
      "No figcaption found for images in URL: https://www.nos.nl/artikel/2489024\n"
     ]
    },
    {
     "name": "stderr",
     "output_type": "stream",
     "text": [
      "Scraper going at...: 6427it [2:31:21,  1.09s/it]"
     ]
    },
    {
     "name": "stdout",
     "output_type": "stream",
     "text": [
      "No main image div found in URL: https://www.nos.nl/artikel/2489018\n"
     ]
    },
    {
     "name": "stderr",
     "output_type": "stream",
     "text": [
      "Scraper going at...: 6429it [2:31:24,  1.10s/it]"
     ]
    },
    {
     "name": "stdout",
     "output_type": "stream",
     "text": [
      "No main image div found in URL: https://www.nos.nl/artikel/2489014\n"
     ]
    },
    {
     "name": "stderr",
     "output_type": "stream",
     "text": [
      "Scraper going at...: 6432it [2:31:31,  2.06s/it]"
     ]
    },
    {
     "name": "stdout",
     "output_type": "stream",
     "text": [
      "No figcaption found for images in URL: https://www.nos.nl/artikel/2489000\n"
     ]
    },
    {
     "name": "stderr",
     "output_type": "stream",
     "text": [
      "Scraper going at...: 6436it [2:31:35,  1.34s/it]"
     ]
    },
    {
     "name": "stdout",
     "output_type": "stream",
     "text": [
      "No main image div found in URL: https://www.nos.nl/artikel/2488996\n"
     ]
    },
    {
     "name": "stderr",
     "output_type": "stream",
     "text": [
      "Scraper going at...: 6439it [2:31:41,  1.62s/it]"
     ]
    },
    {
     "name": "stdout",
     "output_type": "stream",
     "text": [
      "No main image div found in URL: https://www.nos.nl/artikel/2488985\n"
     ]
    },
    {
     "name": "stderr",
     "output_type": "stream",
     "text": [
      "Scraper going at...: 6440it [2:31:43,  1.60s/it]"
     ]
    },
    {
     "name": "stdout",
     "output_type": "stream",
     "text": [
      "No figcaption found for images in URL: https://www.nos.nl/artikel/2488982\n"
     ]
    },
    {
     "name": "stderr",
     "output_type": "stream",
     "text": [
      "Scraper going at...: 6442it [2:31:45,  1.32s/it]"
     ]
    },
    {
     "name": "stdout",
     "output_type": "stream",
     "text": [
      "No main image div found in URL: https://www.nos.nl/artikel/2488976\n"
     ]
    },
    {
     "name": "stderr",
     "output_type": "stream",
     "text": [
      "Scraper going at...: 6445it [2:31:48,  1.19s/it]"
     ]
    },
    {
     "name": "stdout",
     "output_type": "stream",
     "text": [
      "No figcaption found for images in URL: https://www.nos.nl/artikel/2488971\n"
     ]
    },
    {
     "name": "stderr",
     "output_type": "stream",
     "text": [
      "Scraper going at...: 6446it [2:31:49,  1.17s/it]"
     ]
    },
    {
     "name": "stdout",
     "output_type": "stream",
     "text": [
      "No figcaption found for images in URL: https://www.nos.nl/artikel/2488969\n"
     ]
    },
    {
     "name": "stderr",
     "output_type": "stream",
     "text": [
      "Scraper going at...: 6447it [2:31:50,  1.20s/it]"
     ]
    },
    {
     "name": "stdout",
     "output_type": "stream",
     "text": [
      "No main image div found in URL: https://www.nos.nl/artikel/2488968\n"
     ]
    },
    {
     "name": "stderr",
     "output_type": "stream",
     "text": [
      "Scraper going at...: 6453it [2:31:59,  1.81s/it]"
     ]
    },
    {
     "name": "stdout",
     "output_type": "stream",
     "text": [
      "No main image div found in URL: https://www.nos.nl/artikel/2488958\n"
     ]
    },
    {
     "name": "stderr",
     "output_type": "stream",
     "text": [
      "Scraper going at...: 6454it [2:32:00,  1.61s/it]"
     ]
    },
    {
     "name": "stdout",
     "output_type": "stream",
     "text": [
      "No main image div found in URL: https://www.nos.nl/artikel/2488957\n"
     ]
    },
    {
     "name": "stderr",
     "output_type": "stream",
     "text": [
      "Scraper going at...: 6459it [2:32:07,  1.47s/it]"
     ]
    },
    {
     "name": "stdout",
     "output_type": "stream",
     "text": [
      "No main image div found in URL: https://www.nos.nl/artikel/2488942\n"
     ]
    },
    {
     "name": "stderr",
     "output_type": "stream",
     "text": [
      "Scraper going at...: 6461it [2:32:11,  1.60s/it]"
     ]
    },
    {
     "name": "stdout",
     "output_type": "stream",
     "text": [
      "No figcaption found for images in URL: https://www.nos.nl/artikel/2488937\n"
     ]
    },
    {
     "name": "stderr",
     "output_type": "stream",
     "text": [
      "Scraper going at...: 6465it [2:32:15,  1.21s/it]"
     ]
    },
    {
     "name": "stdout",
     "output_type": "stream",
     "text": [
      "No figcaption found for images in URL: https://www.nos.nl/artikel/2488932\n"
     ]
    },
    {
     "name": "stderr",
     "output_type": "stream",
     "text": [
      "Scraper going at...: 6466it [2:32:16,  1.20s/it]"
     ]
    },
    {
     "name": "stdout",
     "output_type": "stream",
     "text": [
      "No main image div found in URL: https://www.nos.nl/artikel/2488931\n"
     ]
    },
    {
     "name": "stderr",
     "output_type": "stream",
     "text": [
      "Scraper going at...: 6470it [2:32:23,  1.65s/it]"
     ]
    },
    {
     "name": "stdout",
     "output_type": "stream",
     "text": [
      "No main image div found in URL: https://www.nos.nl/artikel/2488928\n"
     ]
    },
    {
     "name": "stderr",
     "output_type": "stream",
     "text": [
      "Scraper going at...: 6475it [2:32:29,  1.19s/it]"
     ]
    },
    {
     "name": "stdout",
     "output_type": "stream",
     "text": [
      "No figcaption found for images in URL: https://www.nos.nl/artikel/2488918\n"
     ]
    },
    {
     "name": "stderr",
     "output_type": "stream",
     "text": [
      "Scraper going at...: 6478it [2:32:33,  1.44s/it]"
     ]
    },
    {
     "name": "stdout",
     "output_type": "stream",
     "text": [
      "No figcaption found for images in URL: https://www.nos.nl/artikel/2488911\n"
     ]
    },
    {
     "name": "stderr",
     "output_type": "stream",
     "text": [
      "Scraper going at...: 6487it [2:32:49,  2.24s/it]"
     ]
    },
    {
     "name": "stdout",
     "output_type": "stream",
     "text": [
      "No figcaption found for images in URL: https://www.nos.nl/artikel/2488894\n"
     ]
    },
    {
     "name": "stderr",
     "output_type": "stream",
     "text": [
      "Scraper going at...: 6494it [2:32:58,  1.43s/it]"
     ]
    },
    {
     "name": "stdout",
     "output_type": "stream",
     "text": [
      "No main image div found in URL: https://www.nos.nl/artikel/2488879\n"
     ]
    },
    {
     "name": "stderr",
     "output_type": "stream",
     "text": [
      "Scraper going at...: 6501it [2:33:06,  1.12s/it]"
     ]
    },
    {
     "name": "stdout",
     "output_type": "stream",
     "text": [
      "No main image div found in URL: https://www.nos.nl/artikel/2488869\n"
     ]
    },
    {
     "name": "stderr",
     "output_type": "stream",
     "text": [
      "Scraper going at...: 6502it [2:33:07,  1.11s/it]"
     ]
    },
    {
     "name": "stdout",
     "output_type": "stream",
     "text": [
      "No main image div found in URL: https://www.nos.nl/artikel/2488865\n"
     ]
    },
    {
     "name": "stderr",
     "output_type": "stream",
     "text": [
      "Scraper going at...: 6503it [2:33:08,  1.10s/it]"
     ]
    },
    {
     "name": "stdout",
     "output_type": "stream",
     "text": [
      "No main image div found in URL: https://www.nos.nl/artikel/2488864\n"
     ]
    },
    {
     "name": "stderr",
     "output_type": "stream",
     "text": [
      "Scraper going at...: 6513it [2:33:19,  1.16s/it]"
     ]
    },
    {
     "name": "stdout",
     "output_type": "stream",
     "text": [
      "No figcaption found for images in URL: https://www.nos.nl/artikel/2488852\n"
     ]
    },
    {
     "name": "stderr",
     "output_type": "stream",
     "text": [
      "Scraper going at...: 6515it [2:33:22,  1.23s/it]"
     ]
    },
    {
     "name": "stdout",
     "output_type": "stream",
     "text": [
      "No main image div found in URL: https://www.nos.nl/artikel/2488844\n"
     ]
    },
    {
     "name": "stderr",
     "output_type": "stream",
     "text": [
      "Scraper going at...: 6516it [2:33:24,  1.48s/it]"
     ]
    },
    {
     "name": "stdout",
     "output_type": "stream",
     "text": [
      "No main image div found in URL: https://www.nos.nl/artikel/2488839\n"
     ]
    },
    {
     "name": "stderr",
     "output_type": "stream",
     "text": [
      "Scraper going at...: 6522it [2:33:30,  1.10s/it]"
     ]
    },
    {
     "name": "stdout",
     "output_type": "stream",
     "text": [
      "No figcaption found for images in URL: https://www.nos.nl/artikel/2488830\n"
     ]
    },
    {
     "name": "stderr",
     "output_type": "stream",
     "text": [
      "Scraper going at...: 6525it [2:33:37,  1.70s/it]"
     ]
    },
    {
     "name": "stdout",
     "output_type": "stream",
     "text": [
      "No figcaption found for images in URL: https://www.nos.nl/artikel/2488819\n"
     ]
    },
    {
     "name": "stderr",
     "output_type": "stream",
     "text": [
      "Scraper going at...: 6530it [2:33:43,  1.22s/it]"
     ]
    },
    {
     "name": "stdout",
     "output_type": "stream",
     "text": [
      "No figcaption found for images in URL: https://www.nos.nl/artikel/2488810\n"
     ]
    },
    {
     "name": "stderr",
     "output_type": "stream",
     "text": [
      "Scraper going at...: 6550it [2:34:08,  1.25s/it]"
     ]
    },
    {
     "name": "stdout",
     "output_type": "stream",
     "text": [
      "No figcaption found for images in URL: https://www.nos.nl/artikel/2488777\n"
     ]
    },
    {
     "name": "stderr",
     "output_type": "stream",
     "text": [
      "Scraper going at...: 6559it [2:34:22,  1.56s/it]"
     ]
    },
    {
     "name": "stdout",
     "output_type": "stream",
     "text": [
      "No figcaption found for images in URL: https://www.nos.nl/artikel/2488763\n"
     ]
    },
    {
     "name": "stderr",
     "output_type": "stream",
     "text": [
      "Scraper going at...: 6560it [2:34:23,  1.49s/it]"
     ]
    },
    {
     "name": "stdout",
     "output_type": "stream",
     "text": [
      "No main image div found in URL: https://www.nos.nl/artikel/2488762\n"
     ]
    },
    {
     "name": "stderr",
     "output_type": "stream",
     "text": [
      "Scraper going at...: 6561it [2:34:26,  1.84s/it]"
     ]
    },
    {
     "name": "stdout",
     "output_type": "stream",
     "text": [
      "No figcaption found for images in URL: https://www.nos.nl/artikel/2488760\n"
     ]
    },
    {
     "name": "stderr",
     "output_type": "stream",
     "text": [
      "Scraper going at...: 6564it [2:34:31,  1.75s/it]"
     ]
    },
    {
     "name": "stdout",
     "output_type": "stream",
     "text": [
      "No figcaption found for images in URL: https://www.nos.nl/artikel/2488757\n"
     ]
    },
    {
     "name": "stderr",
     "output_type": "stream",
     "text": [
      "Scraper going at...: 6565it [2:34:33,  1.41s/it]"
     ]
    },
    {
     "name": "stdout",
     "output_type": "stream",
     "text": [
      "Elapsed time: 154 minutes and 33 seconds\n"
     ]
    },
    {
     "name": "stderr",
     "output_type": "stream",
     "text": [
      "\n"
     ]
    }
   ],
   "source": [
    "start_time = time.time()\n",
    "\n",
    "for index, row in tqdm(subset_df.iterrows(), desc = \"Scraper going at...\"):\n",
    "    url = row['url']\n",
    "    article_category, featured_image, target_paragraphs = extract_data_from_url(url)\n",
    "    alt_text = extract_alt_from_url(url)\n",
    "    \n",
    "    # Store the extracted data in your DataFrame (create new columns as needed)\n",
    "    subset_df.at[index, 'category'] = article_category\n",
    "    subset_df.at[index, 'images'] = featured_image\n",
    "    subset_df.at[index, 'alt_txt'] = alt_text\n",
    "    subset_df.at[index, 'paragraphs'] = target_paragraphs\n",
    "\n",
    "    time.sleep(0.7)\n",
    "    \n",
    "end_time = time.time()\n",
    "elapsed_time = end_time - start_time\n",
    "elapsed_minutes = int(elapsed_time // 60)\n",
    "elapsed_seconds = int(elapsed_time % 60)\n",
    "\n",
    "\n",
    "print(f'Elapsed time: {elapsed_minutes} minutes and {elapsed_seconds} seconds')"
   ]
  },
  {
   "cell_type": "markdown",
   "id": "cd682816-bf19-4e83-8658-66917390ba2a",
   "metadata": {},
   "source": [
    "#### Add missed rows due to gateway errors\n",
    "Missed content for: </br>\n",
    "- https://nos.nl/artikel/2498187-bemanning-van-vermiste-kotter-in-goede-gezondheid-gevonden-bij-nigeria\n",
    "- https://nos.nl/artikel/2496399-nec-boekt-na-eerbetoon-aan-dost-een-doelpuntrijke-bekerzege-op-roda-jc\n",
    "- https://nos.nl/artikel/2495004-rentree-miedema-bij-zege-arsenal-janssen-scoort-voor-en-tegen-wolfsburg\n",
    "- https://nos.nl/artikel/2489639-om-eist-19-jaar-tegen-tilburgse-vrouw-die-wordt-verdacht-van-gifmoord-op-partner"
   ]
  },
  {
   "cell_type": "code",
   "execution_count": 68,
   "id": "3634878b-1452-48f0-b554-1aa8680157bf",
   "metadata": {},
   "outputs": [
    {
     "name": "stderr",
     "output_type": "stream",
     "text": [
      "Scraper going at...: 3it [00:04,  1.45s/it]"
     ]
    },
    {
     "name": "stdout",
     "output_type": "stream",
     "text": [
      "No alt text found for images in URL: https://www.nos.nl/artikel/2495004\n"
     ]
    },
    {
     "name": "stderr",
     "output_type": "stream",
     "text": [
      "Scraper going at...: 4it [00:04,  1.13s/it]\n"
     ]
    }
   ],
   "source": [
    "empty_index = np.where(pd.isnull(subset_df['paragraphs']))\n",
    "\n",
    "for index, row in tqdm(subset_df.iloc[empty_index].iterrows(), desc=\"Scraper going at...\"):\n",
    "    url = row['url']\n",
    "    article_category, featured_image, target_paragraphs = extract_data_from_url(url)\n",
    "    alt_text = extract_alt_from_url(url)\n",
    "    \n",
    "    # Store the extracted data in your DataFrame (create new columns as needed)\n",
    "    subset_df.at[index, 'category'] = article_category\n",
    "    subset_df.at[index, 'images'] = featured_image\n",
    "    subset_df.at[index, 'alt_txt'] = alt_text\n",
    "    subset_df.at[index, 'paragraphs'] = target_paragraphs"
   ]
  },
  {
   "cell_type": "markdown",
   "id": "deca940c-5c88-486f-b34b-01dfa11f10ba",
   "metadata": {},
   "source": [
    "#### Write dataframe to file\n",
    "- .parquet for file processing in Python\n",
    "- .xlsx for manual inspection"
   ]
  },
  {
   "cell_type": "code",
   "execution_count": 117,
   "id": "8e32d433-844a-4ef5-bea6-084f9754ff79",
   "metadata": {},
   "outputs": [],
   "source": [
    "subset_export = subset_df.copy()"
   ]
  },
  {
   "cell_type": "code",
   "execution_count": 121,
   "id": "8bf82eb4-83b1-43d6-8aea-771c328b6e9d",
   "metadata": {},
   "outputs": [],
   "source": [
    "subset_export.to_parquet('datasets/nos_articles_election_period.parquet', index=False)\n",
    "xlsx_df.to_csv('datasets/nos_articles_election_period.csv')"
   ]
  },
  {
   "cell_type": "markdown",
   "id": "a1ab0efb-8042-43ba-9c32-524a1ba448a4",
   "metadata": {},
   "source": [
    "### Check file conversion and inspect the dataset"
   ]
  },
  {
   "cell_type": "code",
   "execution_count": 124,
   "id": "e703df4f-b8c6-4b8d-ae42-5f4c917f7cc2",
   "metadata": {},
   "outputs": [],
   "source": [
    "nos_df = pd.read_parquet('datasets/nos_articles_election_period.parquet')"
   ]
  },
  {
   "cell_type": "code",
   "execution_count": 126,
   "id": "a140a3e7-c4fe-404f-9c6d-45f166017e65",
   "metadata": {
    "tags": []
   },
   "outputs": [
    {
     "name": "stdout",
     "output_type": "stream",
     "text": [
      "Number of articles: 6565\n",
      "\n",
      "Dataset columns:\n",
      "id\n",
      "title\n",
      "datetime\n",
      "owner\n",
      "type\n",
      "url\n",
      "date\n",
      "time\n",
      "category\n",
      "images\n",
      "alt_txt\n",
      "paragraphs\n",
      "\n",
      "Date range: 2023-09-01, 2023-12-31\n",
      "\n",
      "Articles without a main image: 830\n"
     ]
    }
   ],
   "source": [
    "print(f'Number of articles: {len(nos_df)}')\n",
    "print(f'\\nDataset columns:')\n",
    "for col in nos_df.columns:\n",
    "    print(col)\n",
    "print('\\nDate range: {}, {}'.format(nos_df['date'].min(), nos_df['date'].max()))\n",
    "print(f'\\nArticles without a main image: {nos_df[nos_df[\"images\"].apply(lambda x: len(x) == 0)].shape[0]}')"
   ]
  },
  {
   "cell_type": "markdown",
   "id": "c1b3ea82-37a3-4549-8655-8807484314e7",
   "metadata": {},
   "source": [
    "### Filter out sport articles"
   ]
  },
  {
   "cell_type": "code",
   "execution_count": 131,
   "id": "87e99d3b-4b80-4219-a4a0-d6bf86710997",
   "metadata": {},
   "outputs": [
    {
     "data": {
      "text/plain": [
       "['Alpineskiën',\n",
       " 'American football',\n",
       " 'Atletiek',\n",
       " 'Autosport',\n",
       " 'BMX',\n",
       " 'Baanwielrennen',\n",
       " 'Badminton',\n",
       " 'Basketbal',\n",
       " 'Beachvolleybal',\n",
       " 'Biljarten',\n",
       " 'Boksen',\n",
       " 'Cricket',\n",
       " 'Curling',\n",
       " 'Dammen',\n",
       " 'Darts',\n",
       " 'Futsal',\n",
       " 'Golf',\n",
       " 'Handbal',\n",
       " 'Hockey',\n",
       " 'IJshockey',\n",
       " 'Judo',\n",
       " 'Kanovaren',\n",
       " 'Korfbal',\n",
       " 'Kunstschaatsen',\n",
       " 'Marathonschaatsen',\n",
       " 'Motocross',\n",
       " 'Motorsport',\n",
       " 'Mountainbiken',\n",
       " 'Paardensport',\n",
       " 'Paardensport dressuur',\n",
       " 'Paardensport eventing',\n",
       " 'Paardensport springen',\n",
       " 'Paralympische sport',\n",
       " 'Roeien',\n",
       " 'Rugby',\n",
       " 'Schaatsen',\n",
       " 'Schaken',\n",
       " 'Shorttrack',\n",
       " 'Skateboarden',\n",
       " 'Skeleton',\n",
       " 'Skispringen',\n",
       " 'Snooker',\n",
       " 'Snowboarden',\n",
       " 'Sport algemeen',\n",
       " 'Tafeltennis',\n",
       " 'Tennis',\n",
       " 'Triatlon',\n",
       " 'Turnen',\n",
       " 'Veldrijden',\n",
       " 'Voetbal',\n",
       " 'Waterpolo',\n",
       " 'Zeilen',\n",
       " 'Zwemmen']"
      ]
     },
     "execution_count": 131,
     "metadata": {},
     "output_type": "execute_result"
    }
   ],
   "source": [
    "sports_categ['Alpineskiën',\n",
    " 'American football',\n",
    " 'Atletiek',\n",
    " 'Autosport',ories\n",
    " 'BMX',\n",
    " 'Baanwielrennen',\n",
    " 'Badminton',\n",
    " 'Basketbal',\n",
    " 'Beachvolleybal',\n",
    " 'Biljarten',\n",
    " 'Boksen',\n",
    " 'Cricket',\n",
    " 'Curling',\n",
    " 'Dammen',\n",
    " 'Darts',\n",
    " 'Futsal',\n",
    " 'Golf',\n",
    " 'Handbal',\n",
    " 'Hockey',\n",
    " 'IJshockey',\n",
    " 'Judo',\n",
    " 'Kanovaren',\n",
    " 'Korfbal',\n",
    " 'Kunstschaatsen',\n",
    " 'Marathonschaatsen',\n",
    " 'Motocross',\n",
    " 'Motorsport',\n",
    " 'Mountainbiken',\n",
    " 'Paardensport',\n",
    " 'Paardensport dressuur',\n",
    " 'Paardensport eventing',\n",
    " 'Paardensport springen',\n",
    " 'Paralympische sport',\n",
    " 'Roeien',\n",
    " 'Rugby',\n",
    " 'Schaatsen',\n",
    " 'Schaken',\n",
    " 'Shorttrack',\n",
    " 'Skateboarden',\n",
    " 'Skeleton',\n",
    " 'Skispringen',\n",
    " 'Snooker',\n",
    " 'Snowboarden',\n",
    " 'Sport algemeen',\n",
    " 'Tafeltennis',\n",
    " 'Tennis',\n",
    " 'Triatlon',\n",
    " 'Turnen',\n",
    " 'Veldrijden',\n",
    " 'Voetbal',\n",
    " 'Waterpolo',\n",
    " 'Zeilen',\n",
    " 'Zwemmen']"
   ]
  },
  {
   "cell_type": "code",
   "execution_count": null,
   "id": "54e401d7-31e7-4280-878a-31037ee25e85",
   "metadata": {},
   "outputs": [],
   "source": []
  }
 ],
 "metadata": {
  "kernelspec": {
   "display_name": "Python 3 (ipykernel)",
   "language": "python",
   "name": "python3"
  },
  "language_info": {
   "codemirror_mode": {
    "name": "ipython",
    "version": 3
   },
   "file_extension": ".py",
   "mimetype": "text/x-python",
   "name": "python",
   "nbconvert_exporter": "python",
   "pygments_lexer": "ipython3",
   "version": "3.12.0"
  }
 },
 "nbformat": 4,
 "nbformat_minor": 5
}
