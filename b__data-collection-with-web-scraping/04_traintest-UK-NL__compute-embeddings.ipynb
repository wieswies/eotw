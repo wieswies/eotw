{
 "cells": [
  {
   "cell_type": "code",
   "execution_count": 1,
   "id": "4cecc43d",
   "metadata": {},
   "outputs": [],
   "source": [
    "import cv2\n",
    "import numpy as np\n",
    "import pandas as pd\n",
    "import os\n",
    "import pyarrow as pa\n",
    "import pyarrow.parquet as pq\n",
    "\n",
    "from ast import literal_eval\n",
    "from typing import List, Tuple\n",
    "from deepface import DeepFace\n",
    "from tqdm import tqdm\n",
    "import face_recognition\n",
    "from sklearn.manifold import TSNE\n",
    "import sqlite3\n",
    "import time"
   ]
  },
  {
   "cell_type": "code",
   "execution_count": null,
   "id": "4e683687",
   "metadata": {},
   "outputs": [],
   "source": []
  },
  {
   "cell_type": "code",
   "execution_count": 2,
   "id": "c3654712",
   "metadata": {},
   "outputs": [
    {
     "name": "stdout",
     "output_type": "stream",
     "text": [
      "The dimensionality of the VGG-Face embedding vector is: 4096\n",
      "The dimensionality of the SFace embedding vector is: 128\n"
     ]
    }
   ],
   "source": [
    "img_path = 'datasets/train_test/NL/Caroline_van_der_Plas/0d1e1220_Caroline van der Plas_0.jpg'\n",
    "dummy_img = cv2.imread(img_path)\n",
    "if dummy_img is None:\n",
    "    dummy_img = (255 * np.random.rand(224, 224, 3)).astype(np.uint8)\n",
    "    cv2.imwrite(img_path, dummy_img)\n",
    "\n",
    "embedding_objs = DeepFace.represent(img_path, model_name=\"VGG-Face\")\n",
    "embedding_vector = embedding_objs[0]['embedding']\n",
    "print(f\"The dimensionality of the VGG-Face embedding vector is: {len(embedding_vector)}\")\n",
    "\n",
    "embedding_objs2 = DeepFace.represent(img_path, model_name=\"SFace\")\n",
    "embedding_vector2 = embedding_objs2[0]['embedding']\n",
    "print(f\"The dimensionality of the SFace embedding vector is: {len(embedding_vector2)}\")"
   ]
  },
  {
   "cell_type": "markdown",
   "id": "535fe36e",
   "metadata": {},
   "source": [
    "## Compute embeddings"
   ]
  },
  {
   "cell_type": "markdown",
   "id": "2618f5d0",
   "metadata": {},
   "source": [
    "Train/test set"
   ]
  },
  {
   "cell_type": "code",
   "execution_count": 3,
   "id": "da476588",
   "metadata": {},
   "outputs": [],
   "source": [
    "# Set training path\n",
    "training_path = 'datasets/train_test'\n",
    "countries = ['NL', 'UK']"
   ]
  },
  {
   "cell_type": "code",
   "execution_count": 4,
   "id": "66e410de",
   "metadata": {},
   "outputs": [],
   "source": [
    "# For Deepface model choice\n",
    "models = [[\n",
    "    'VGG-Face',\n",
    "    'Facenet',\n",
    "    'Facenet512',\n",
    "    'OpenFace',\n",
    "    #'DeepFace',\n",
    "    'ArcFace',\n",
    "    'Dlib',\n",
    "    'SFace'],\n",
    "    'face_recognition'\n",
    "]"
   ]
  },
  {
   "cell_type": "code",
   "execution_count": 5,
   "id": "b24b4587",
   "metadata": {},
   "outputs": [],
   "source": [
    "# Embedding models for colnames\n",
    "embedding_models = [\n",
    "    'VGG-Face',\n",
    "    'Facenet',\n",
    "    'Facenet512',\n",
    "    'OpenFace',\n",
    "    #'DeepFace',\n",
    "    'ArcFace',\n",
    "    'Dlib',\n",
    "    'SFace',\n",
    "    'face_recognition'\n",
    "]\n",
    "\n",
    "# DF columns\n",
    "embeddings_cols = ['embedding_' + embedder for embedder in embedding_models]"
   ]
  },
  {
   "cell_type": "code",
   "execution_count": 13,
   "id": "c0421de4",
   "metadata": {},
   "outputs": [
    {
     "name": "stdout",
     "output_type": "stream",
     "text": [
      "The files found in the train_test directory are listed: ['nl_searchengine_imgref_results.pkl', 'Stephan_van_Baarle', 'Lilian_Marijnissen', 'Geert_Wilders', '.DS_Store', 'Caroline_van_der_Plas', 'Rob_Jetten', 'Pieter_Omtzigt', 'Laurens_Dassen', 'Dilan_Yesilgoz', 'Mirjam_Bikker', 'Joost_Eerdmans', 'Thierry_Baudet', 'Edson_Olf', 'Frans_Timmermans', 'Henri_Bontenbal', 'Esther_Ouwehand', 'Unknown', 'Chris_Stoffer', 'nl_searchengine_imgref_results.csv', 'Wybren_van_Haga']\n"
     ]
    }
   ],
   "source": [
    "print(f'The files found in the train_test directory are listed: {os.listdir(os.path.join(training_path, \"NL\"))}')"
   ]
  },
  {
   "cell_type": "code",
   "execution_count": 18,
   "id": "1c6c0adc",
   "metadata": {},
   "outputs": [],
   "source": [
    "def compute_face_embeddings(base_path, output_path, country, models):\n",
    "    '''\n",
    "    Function that computes the embeddings of the country-specific datasets with different embedder models\n",
    "    '''\n",
    "    input_path = os.path.join(base_path, country)\n",
    "    output_file = os.path.join(output_path, f\"{country}_embeddings.parquet\")\n",
    "    \n",
    "    # Set up dataframe\n",
    "    columns = ['country', 'politician', 'image_path']\n",
    "    deepface_models = models[0]\n",
    "    face_recognition_flag = \"face_recognition\" in models[1]\n",
    "    \n",
    "    # Create different embedding columns\n",
    "    for model in deepface_models:\n",
    "        columns.append(f'embedding_{model}')\n",
    "    if face_recognition_flag:\n",
    "        columns.append('embedding_face_recognition')\n",
    "    \n",
    "    df = pd.DataFrame(columns=columns)\n",
    "    \n",
    "    # Go over training classes, i.e. the politicians    \n",
    "    politicians = [p for p in os.listdir(input_path) \n",
    "                 if os.path.isdir(os.path.join(input_path, p)) and p != 'Unknown']\n",
    "    \n",
    "    for politician in tqdm(politicians, desc=f\"Processing {country}\"):\n",
    "        politician_path = os.path.join(input_path, politician)\n",
    "        if not os.path.isdir(politician_path):\n",
    "            continue\n",
    "        \n",
    "        print(f\"Processing politician: {politician}\")\n",
    "        for img_file in os.listdir(politician_path):\n",
    "            if not img_file.lower().endswith(('.jpg', '.jpeg', '.png')):\n",
    "                continue\n",
    "            \n",
    "            img_path = os.path.join(politician_path, img_file)\n",
    "            \n",
    "            row_data = {\n",
    "                'country': country,\n",
    "                'politician': politician,\n",
    "                'image_path': img_path\n",
    "            }\n",
    "            \n",
    "            # Compute DeepFace\n",
    "            for model in deepface_models:\n",
    "                try:\n",
    "                    embedding = DeepFace.represent(\n",
    "                        img_path=img_path, \n",
    "                        model_name=model,\n",
    "                        enforce_detection=False,\n",
    "                        detector_backend=\"opencv\"\n",
    "                    )\n",
    "                    if isinstance(embedding, list) and len(embedding) > 0:\n",
    "                        row_data[f'embedding_{model}'] = embedding[0][\"embedding\"]\n",
    "                    else:\n",
    "                        row_data[f'embedding_{model}'] = None\n",
    "                        print(f\"No face found with {model} in {img_path}\")\n",
    "                except Exception as e:\n",
    "                    print(f\"Error with {model} on {img_path}: {e}\")\n",
    "                    row_data[f'embedding_{model}'] = None\n",
    "            \n",
    "            # Compute face_recognition\n",
    "            if face_recognition_flag:\n",
    "                try:\n",
    "                    image = cv2.imread(img_path)\n",
    "                    height, width = image.shape[:2]\n",
    "                    face_encodings = face_recognition.face_encodings(\n",
    "                        image, \n",
    "                        known_face_locations=[(0, width, height, 0)],\n",
    "                        num_jitters=2, \n",
    "                        model=\"large\"\n",
    "                    )\n",
    "                    if len(face_encodings) > 0:\n",
    "                        row_data['embedding_face_recognition'] = face_encodings[0].tolist()\n",
    "                    else:\n",
    "                        row_data['embedding_face_recognition'] = None\n",
    "                        print(f\"No face found with face_recognition in {img_path}\")\n",
    "                except Exception as e:\n",
    "                    print(f\"Error with face_recognition on {img_path}: {e}\")\n",
    "                    row_data['embedding_face_recognition'] = None\n",
    "            \n",
    "            # Store\n",
    "            df = pd.concat([df, pd.DataFrame([row_data])], ignore_index=True)\n",
    "    \n",
    "    # Write to file\n",
    "    df.to_parquet(output_file, index=False)\n",
    "    print(f\"Saved embeddings to {output_file}\")\n",
    "    return df"
   ]
  },
  {
   "cell_type": "code",
   "execution_count": 19,
   "id": "1bfae868",
   "metadata": {},
   "outputs": [],
   "source": [
    "def compute_unknown_embeddings(base_path, output_path, country, models):\n",
    "    '''\n",
    "    Function that computes the embeddings specifically for the country-specific unknown dataset with different embedder models\n",
    "    '''\n",
    "    input_path = os.path.join(base_path, country, 'Unknown')\n",
    "    output_file = os.path.join(output_path, f\"{country}_unknown_embeddings.parquet\")\n",
    "    \n",
    "    # Set up dataframe\n",
    "    columns = ['country', 'politician', 'image_path']\n",
    "    deepface_models = models[0]\n",
    "    face_recognition_flag = \"face_recognition\" in models[1]\n",
    "    \n",
    "    for model in deepface_models:\n",
    "        columns.append(f'embedding_{model}')\n",
    "    if face_recognition_flag:\n",
    "        columns.append('embedding_face_recognition')\n",
    "    \n",
    "    df = pd.DataFrame(columns=columns)\n",
    "    \n",
    "    # Check if Unknown folder exists\n",
    "    if not os.path.exists(input_path):\n",
    "        print(f\"No 'Unknown' folder found for {country}\")\n",
    "        return df\n",
    "    \n",
    "    print(f\"Processing Unknown images for {country}\")\n",
    "    for img_file in tqdm(os.listdir(input_path), desc=f\"Processing unknown images\"):\n",
    "        if not img_file.lower().endswith(('.jpg', '.jpeg', '.png')):\n",
    "            continue\n",
    "        \n",
    "        img_path = os.path.join(input_path, img_file)\n",
    "        \n",
    "        row_data = {\n",
    "            'country': country,\n",
    "            'politician': 'Unknown',\n",
    "            'image_path': img_path\n",
    "        }\n",
    "        \n",
    "        # Compute DeepFace embeddings\n",
    "        for model in deepface_models:\n",
    "            try:\n",
    "                embedding = DeepFace.represent(\n",
    "                    img_path=img_path, \n",
    "                    model_name=model,\n",
    "                    enforce_detection=False,\n",
    "                    detector_backend=\"opencv\"\n",
    "                )\n",
    "                if isinstance(embedding, list) and len(embedding) > 0:\n",
    "                    row_data[f'embedding_{model}'] = embedding[0][\"embedding\"]\n",
    "                else:\n",
    "                    row_data[f'embedding_{model}'] = None\n",
    "                    print(f\"No face found with {model} in {img_path}\")\n",
    "            except Exception as e:\n",
    "                print(f\"Error with {model} on {img_path}: {e}\")\n",
    "                row_data[f'embedding_{model}'] = None\n",
    "        \n",
    "        # Compute face_recognition\n",
    "        if face_recognition_flag:\n",
    "            try:\n",
    "                image = cv2.imread(img_path)\n",
    "                height, width = image.shape[:2]\n",
    "                face_encodings = face_recognition.face_encodings(\n",
    "                    image, \n",
    "                    known_face_locations=[(0, width, height, 0)],\n",
    "                    num_jitters=2, \n",
    "                    model=\"large\"\n",
    "                )\n",
    "                if len(face_encodings) > 0:\n",
    "                    row_data['embedding_face_recognition'] = face_encodings[0].tolist()\n",
    "                else:\n",
    "                    row_data['embedding_face_recognition'] = None\n",
    "                    print(f\"No face found with face_recognition in {img_path}\")\n",
    "            except Exception as e:\n",
    "                print(f\"Error with face_recognition on {img_path}: {e}\")\n",
    "                row_data['embedding_face_recognition'] = None\n",
    "        \n",
    "        # Store\n",
    "        df = pd.concat([df, pd.DataFrame([row_data])], ignore_index=True)\n",
    "    \n",
    "    # Write to file\n",
    "    df.to_parquet(output_file, index=False)\n",
    "    print(f\"Saved unknown embeddings to {output_file}\")\n",
    "    return df"
   ]
  },
  {
   "cell_type": "markdown",
   "id": "b7da564f",
   "metadata": {},
   "source": [
    "### NL"
   ]
  },
  {
   "cell_type": "code",
   "execution_count": 24,
   "id": "02457bb3",
   "metadata": {},
   "outputs": [
    {
     "name": "stderr",
     "output_type": "stream",
     "text": [
      "Processing NL:   0%|          | 0/17 [00:00<?, ?it/s]"
     ]
    },
    {
     "name": "stdout",
     "output_type": "stream",
     "text": [
      "Processing politician: Stephan_van_Baarle\n"
     ]
    },
    {
     "name": "stderr",
     "output_type": "stream",
     "text": [
      "Processing NL:   6%|▌         | 1/17 [03:10<50:51, 190.70s/it]"
     ]
    },
    {
     "name": "stdout",
     "output_type": "stream",
     "text": [
      "Processing politician: Lilian_Marijnissen\n"
     ]
    },
    {
     "name": "stderr",
     "output_type": "stream",
     "text": [
      "Processing NL:  12%|█▏        | 2/17 [06:47<51:33, 206.25s/it]"
     ]
    },
    {
     "name": "stdout",
     "output_type": "stream",
     "text": [
      "Processing politician: Geert_Wilders\n",
      "Error with VGG-Face on datasets/train_test/NL/Geert_Wilders/ea4bd34f_Dilan Yesilgöz_4.jpg: Input image must not have non-english characters - datasets/train_test/NL/Geert_Wilders/ea4bd34f_Dilan Yesilgöz_4.jpg\n",
      "Error with Facenet on datasets/train_test/NL/Geert_Wilders/ea4bd34f_Dilan Yesilgöz_4.jpg: Input image must not have non-english characters - datasets/train_test/NL/Geert_Wilders/ea4bd34f_Dilan Yesilgöz_4.jpg\n",
      "Error with Facenet512 on datasets/train_test/NL/Geert_Wilders/ea4bd34f_Dilan Yesilgöz_4.jpg: Input image must not have non-english characters - datasets/train_test/NL/Geert_Wilders/ea4bd34f_Dilan Yesilgöz_4.jpg\n",
      "Error with OpenFace on datasets/train_test/NL/Geert_Wilders/ea4bd34f_Dilan Yesilgöz_4.jpg: Input image must not have non-english characters - datasets/train_test/NL/Geert_Wilders/ea4bd34f_Dilan Yesilgöz_4.jpg\n",
      "Error with ArcFace on datasets/train_test/NL/Geert_Wilders/ea4bd34f_Dilan Yesilgöz_4.jpg: Input image must not have non-english characters - datasets/train_test/NL/Geert_Wilders/ea4bd34f_Dilan Yesilgöz_4.jpg\n",
      "Error with Dlib on datasets/train_test/NL/Geert_Wilders/ea4bd34f_Dilan Yesilgöz_4.jpg: Input image must not have non-english characters - datasets/train_test/NL/Geert_Wilders/ea4bd34f_Dilan Yesilgöz_4.jpg\n",
      "Error with SFace on datasets/train_test/NL/Geert_Wilders/ea4bd34f_Dilan Yesilgöz_4.jpg: Input image must not have non-english characters - datasets/train_test/NL/Geert_Wilders/ea4bd34f_Dilan Yesilgöz_4.jpg\n",
      "Error with VGG-Face on datasets/train_test/NL/Geert_Wilders/fca9ffd8_Dilan Yesilgöz_4.jpg: Input image must not have non-english characters - datasets/train_test/NL/Geert_Wilders/fca9ffd8_Dilan Yesilgöz_4.jpg\n",
      "Error with Facenet on datasets/train_test/NL/Geert_Wilders/fca9ffd8_Dilan Yesilgöz_4.jpg: Input image must not have non-english characters - datasets/train_test/NL/Geert_Wilders/fca9ffd8_Dilan Yesilgöz_4.jpg\n",
      "Error with Facenet512 on datasets/train_test/NL/Geert_Wilders/fca9ffd8_Dilan Yesilgöz_4.jpg: Input image must not have non-english characters - datasets/train_test/NL/Geert_Wilders/fca9ffd8_Dilan Yesilgöz_4.jpg\n",
      "Error with OpenFace on datasets/train_test/NL/Geert_Wilders/fca9ffd8_Dilan Yesilgöz_4.jpg: Input image must not have non-english characters - datasets/train_test/NL/Geert_Wilders/fca9ffd8_Dilan Yesilgöz_4.jpg\n",
      "Error with ArcFace on datasets/train_test/NL/Geert_Wilders/fca9ffd8_Dilan Yesilgöz_4.jpg: Input image must not have non-english characters - datasets/train_test/NL/Geert_Wilders/fca9ffd8_Dilan Yesilgöz_4.jpg\n",
      "Error with Dlib on datasets/train_test/NL/Geert_Wilders/fca9ffd8_Dilan Yesilgöz_4.jpg: Input image must not have non-english characters - datasets/train_test/NL/Geert_Wilders/fca9ffd8_Dilan Yesilgöz_4.jpg\n",
      "Error with SFace on datasets/train_test/NL/Geert_Wilders/fca9ffd8_Dilan Yesilgöz_4.jpg: Input image must not have non-english characters - datasets/train_test/NL/Geert_Wilders/fca9ffd8_Dilan Yesilgöz_4.jpg\n",
      "Error with VGG-Face on datasets/train_test/NL/Geert_Wilders/d19a29c4_Dilan Yesilgöz_5.jpg: Input image must not have non-english characters - datasets/train_test/NL/Geert_Wilders/d19a29c4_Dilan Yesilgöz_5.jpg\n",
      "Error with Facenet on datasets/train_test/NL/Geert_Wilders/d19a29c4_Dilan Yesilgöz_5.jpg: Input image must not have non-english characters - datasets/train_test/NL/Geert_Wilders/d19a29c4_Dilan Yesilgöz_5.jpg\n",
      "Error with Facenet512 on datasets/train_test/NL/Geert_Wilders/d19a29c4_Dilan Yesilgöz_5.jpg: Input image must not have non-english characters - datasets/train_test/NL/Geert_Wilders/d19a29c4_Dilan Yesilgöz_5.jpg\n",
      "Error with OpenFace on datasets/train_test/NL/Geert_Wilders/d19a29c4_Dilan Yesilgöz_5.jpg: Input image must not have non-english characters - datasets/train_test/NL/Geert_Wilders/d19a29c4_Dilan Yesilgöz_5.jpg\n",
      "Error with ArcFace on datasets/train_test/NL/Geert_Wilders/d19a29c4_Dilan Yesilgöz_5.jpg: Input image must not have non-english characters - datasets/train_test/NL/Geert_Wilders/d19a29c4_Dilan Yesilgöz_5.jpg\n",
      "Error with Dlib on datasets/train_test/NL/Geert_Wilders/d19a29c4_Dilan Yesilgöz_5.jpg: Input image must not have non-english characters - datasets/train_test/NL/Geert_Wilders/d19a29c4_Dilan Yesilgöz_5.jpg\n",
      "Error with SFace on datasets/train_test/NL/Geert_Wilders/d19a29c4_Dilan Yesilgöz_5.jpg: Input image must not have non-english characters - datasets/train_test/NL/Geert_Wilders/d19a29c4_Dilan Yesilgöz_5.jpg\n",
      "Error with VGG-Face on datasets/train_test/NL/Geert_Wilders/8bf67625_Dilan Yesilgöz_3.jpg: Input image must not have non-english characters - datasets/train_test/NL/Geert_Wilders/8bf67625_Dilan Yesilgöz_3.jpg\n",
      "Error with Facenet on datasets/train_test/NL/Geert_Wilders/8bf67625_Dilan Yesilgöz_3.jpg: Input image must not have non-english characters - datasets/train_test/NL/Geert_Wilders/8bf67625_Dilan Yesilgöz_3.jpg\n",
      "Error with Facenet512 on datasets/train_test/NL/Geert_Wilders/8bf67625_Dilan Yesilgöz_3.jpg: Input image must not have non-english characters - datasets/train_test/NL/Geert_Wilders/8bf67625_Dilan Yesilgöz_3.jpg\n",
      "Error with OpenFace on datasets/train_test/NL/Geert_Wilders/8bf67625_Dilan Yesilgöz_3.jpg: Input image must not have non-english characters - datasets/train_test/NL/Geert_Wilders/8bf67625_Dilan Yesilgöz_3.jpg\n",
      "Error with ArcFace on datasets/train_test/NL/Geert_Wilders/8bf67625_Dilan Yesilgöz_3.jpg: Input image must not have non-english characters - datasets/train_test/NL/Geert_Wilders/8bf67625_Dilan Yesilgöz_3.jpg\n",
      "Error with Dlib on datasets/train_test/NL/Geert_Wilders/8bf67625_Dilan Yesilgöz_3.jpg: Input image must not have non-english characters - datasets/train_test/NL/Geert_Wilders/8bf67625_Dilan Yesilgöz_3.jpg\n",
      "Error with SFace on datasets/train_test/NL/Geert_Wilders/8bf67625_Dilan Yesilgöz_3.jpg: Input image must not have non-english characters - datasets/train_test/NL/Geert_Wilders/8bf67625_Dilan Yesilgöz_3.jpg\n",
      "Error with VGG-Face on datasets/train_test/NL/Geert_Wilders/38491896_Dilan Yesilgöz_4.jpg: Input image must not have non-english characters - datasets/train_test/NL/Geert_Wilders/38491896_Dilan Yesilgöz_4.jpg\n",
      "Error with Facenet on datasets/train_test/NL/Geert_Wilders/38491896_Dilan Yesilgöz_4.jpg: Input image must not have non-english characters - datasets/train_test/NL/Geert_Wilders/38491896_Dilan Yesilgöz_4.jpg\n",
      "Error with Facenet512 on datasets/train_test/NL/Geert_Wilders/38491896_Dilan Yesilgöz_4.jpg: Input image must not have non-english characters - datasets/train_test/NL/Geert_Wilders/38491896_Dilan Yesilgöz_4.jpg\n",
      "Error with OpenFace on datasets/train_test/NL/Geert_Wilders/38491896_Dilan Yesilgöz_4.jpg: Input image must not have non-english characters - datasets/train_test/NL/Geert_Wilders/38491896_Dilan Yesilgöz_4.jpg\n",
      "Error with ArcFace on datasets/train_test/NL/Geert_Wilders/38491896_Dilan Yesilgöz_4.jpg: Input image must not have non-english characters - datasets/train_test/NL/Geert_Wilders/38491896_Dilan Yesilgöz_4.jpg\n",
      "Error with Dlib on datasets/train_test/NL/Geert_Wilders/38491896_Dilan Yesilgöz_4.jpg: Input image must not have non-english characters - datasets/train_test/NL/Geert_Wilders/38491896_Dilan Yesilgöz_4.jpg\n",
      "Error with SFace on datasets/train_test/NL/Geert_Wilders/38491896_Dilan Yesilgöz_4.jpg: Input image must not have non-english characters - datasets/train_test/NL/Geert_Wilders/38491896_Dilan Yesilgöz_4.jpg\n"
     ]
    },
    {
     "name": "stderr",
     "output_type": "stream",
     "text": [
      "Processing NL:  18%|█▊        | 3/17 [10:39<50:53, 218.08s/it]"
     ]
    },
    {
     "name": "stdout",
     "output_type": "stream",
     "text": [
      "Processing politician: Caroline_van_der_Plas\n"
     ]
    },
    {
     "name": "stderr",
     "output_type": "stream",
     "text": [
      "Processing NL:  24%|██▎       | 4/17 [14:08<46:26, 214.35s/it]"
     ]
    },
    {
     "name": "stdout",
     "output_type": "stream",
     "text": [
      "Processing politician: Rob_Jetten\n"
     ]
    },
    {
     "name": "stderr",
     "output_type": "stream",
     "text": [
      "Processing NL:  29%|██▉       | 5/17 [17:33<42:10, 210.90s/it]"
     ]
    },
    {
     "name": "stdout",
     "output_type": "stream",
     "text": [
      "Processing politician: Pieter_Omtzigt\n",
      "Error with VGG-Face on datasets/train_test/NL/Pieter_Omtzigt/7ba99f06_Dilan Yesilgöz_1.jpg: Input image must not have non-english characters - datasets/train_test/NL/Pieter_Omtzigt/7ba99f06_Dilan Yesilgöz_1.jpg\n",
      "Error with Facenet on datasets/train_test/NL/Pieter_Omtzigt/7ba99f06_Dilan Yesilgöz_1.jpg: Input image must not have non-english characters - datasets/train_test/NL/Pieter_Omtzigt/7ba99f06_Dilan Yesilgöz_1.jpg\n",
      "Error with Facenet512 on datasets/train_test/NL/Pieter_Omtzigt/7ba99f06_Dilan Yesilgöz_1.jpg: Input image must not have non-english characters - datasets/train_test/NL/Pieter_Omtzigt/7ba99f06_Dilan Yesilgöz_1.jpg\n",
      "Error with OpenFace on datasets/train_test/NL/Pieter_Omtzigt/7ba99f06_Dilan Yesilgöz_1.jpg: Input image must not have non-english characters - datasets/train_test/NL/Pieter_Omtzigt/7ba99f06_Dilan Yesilgöz_1.jpg\n",
      "Error with ArcFace on datasets/train_test/NL/Pieter_Omtzigt/7ba99f06_Dilan Yesilgöz_1.jpg: Input image must not have non-english characters - datasets/train_test/NL/Pieter_Omtzigt/7ba99f06_Dilan Yesilgöz_1.jpg\n",
      "Error with Dlib on datasets/train_test/NL/Pieter_Omtzigt/7ba99f06_Dilan Yesilgöz_1.jpg: Input image must not have non-english characters - datasets/train_test/NL/Pieter_Omtzigt/7ba99f06_Dilan Yesilgöz_1.jpg\n",
      "Error with SFace on datasets/train_test/NL/Pieter_Omtzigt/7ba99f06_Dilan Yesilgöz_1.jpg: Input image must not have non-english characters - datasets/train_test/NL/Pieter_Omtzigt/7ba99f06_Dilan Yesilgöz_1.jpg\n",
      "Error with VGG-Face on datasets/train_test/NL/Pieter_Omtzigt/c661bafa_Dilan Yesilgöz_1.jpg: Input image must not have non-english characters - datasets/train_test/NL/Pieter_Omtzigt/c661bafa_Dilan Yesilgöz_1.jpg\n",
      "Error with Facenet on datasets/train_test/NL/Pieter_Omtzigt/c661bafa_Dilan Yesilgöz_1.jpg: Input image must not have non-english characters - datasets/train_test/NL/Pieter_Omtzigt/c661bafa_Dilan Yesilgöz_1.jpg\n",
      "Error with Facenet512 on datasets/train_test/NL/Pieter_Omtzigt/c661bafa_Dilan Yesilgöz_1.jpg: Input image must not have non-english characters - datasets/train_test/NL/Pieter_Omtzigt/c661bafa_Dilan Yesilgöz_1.jpg\n",
      "Error with OpenFace on datasets/train_test/NL/Pieter_Omtzigt/c661bafa_Dilan Yesilgöz_1.jpg: Input image must not have non-english characters - datasets/train_test/NL/Pieter_Omtzigt/c661bafa_Dilan Yesilgöz_1.jpg\n",
      "Error with ArcFace on datasets/train_test/NL/Pieter_Omtzigt/c661bafa_Dilan Yesilgöz_1.jpg: Input image must not have non-english characters - datasets/train_test/NL/Pieter_Omtzigt/c661bafa_Dilan Yesilgöz_1.jpg\n",
      "Error with Dlib on datasets/train_test/NL/Pieter_Omtzigt/c661bafa_Dilan Yesilgöz_1.jpg: Input image must not have non-english characters - datasets/train_test/NL/Pieter_Omtzigt/c661bafa_Dilan Yesilgöz_1.jpg\n",
      "Error with SFace on datasets/train_test/NL/Pieter_Omtzigt/c661bafa_Dilan Yesilgöz_1.jpg: Input image must not have non-english characters - datasets/train_test/NL/Pieter_Omtzigt/c661bafa_Dilan Yesilgöz_1.jpg\n"
     ]
    },
    {
     "name": "stderr",
     "output_type": "stream",
     "text": [
      "Processing NL:  35%|███▌      | 6/17 [20:51<37:50, 206.44s/it]"
     ]
    },
    {
     "name": "stdout",
     "output_type": "stream",
     "text": [
      "Processing politician: Laurens_Dassen\n"
     ]
    },
    {
     "name": "stderr",
     "output_type": "stream",
     "text": [
      "Processing NL:  41%|████      | 7/17 [23:48<32:47, 196.76s/it]"
     ]
    },
    {
     "name": "stdout",
     "output_type": "stream",
     "text": [
      "Processing politician: Dilan_Yesilgoz\n"
     ]
    },
    {
     "name": "stderr",
     "output_type": "stream",
     "text": [
      "Processing NL:  47%|████▋     | 8/17 [27:21<30:18, 202.00s/it]"
     ]
    },
    {
     "name": "stdout",
     "output_type": "stream",
     "text": [
      "Processing politician: Mirjam_Bikker\n",
      "Error with VGG-Face on datasets/train_test/NL/Mirjam_Bikker/3f0432ab_Dilan Yesilgöz_1.jpg: Input image must not have non-english characters - datasets/train_test/NL/Mirjam_Bikker/3f0432ab_Dilan Yesilgöz_1.jpg\n",
      "Error with Facenet on datasets/train_test/NL/Mirjam_Bikker/3f0432ab_Dilan Yesilgöz_1.jpg: Input image must not have non-english characters - datasets/train_test/NL/Mirjam_Bikker/3f0432ab_Dilan Yesilgöz_1.jpg\n",
      "Error with Facenet512 on datasets/train_test/NL/Mirjam_Bikker/3f0432ab_Dilan Yesilgöz_1.jpg: Input image must not have non-english characters - datasets/train_test/NL/Mirjam_Bikker/3f0432ab_Dilan Yesilgöz_1.jpg\n",
      "Error with OpenFace on datasets/train_test/NL/Mirjam_Bikker/3f0432ab_Dilan Yesilgöz_1.jpg: Input image must not have non-english characters - datasets/train_test/NL/Mirjam_Bikker/3f0432ab_Dilan Yesilgöz_1.jpg\n",
      "Error with ArcFace on datasets/train_test/NL/Mirjam_Bikker/3f0432ab_Dilan Yesilgöz_1.jpg: Input image must not have non-english characters - datasets/train_test/NL/Mirjam_Bikker/3f0432ab_Dilan Yesilgöz_1.jpg\n",
      "Error with Dlib on datasets/train_test/NL/Mirjam_Bikker/3f0432ab_Dilan Yesilgöz_1.jpg: Input image must not have non-english characters - datasets/train_test/NL/Mirjam_Bikker/3f0432ab_Dilan Yesilgöz_1.jpg\n",
      "Error with SFace on datasets/train_test/NL/Mirjam_Bikker/3f0432ab_Dilan Yesilgöz_1.jpg: Input image must not have non-english characters - datasets/train_test/NL/Mirjam_Bikker/3f0432ab_Dilan Yesilgöz_1.jpg\n"
     ]
    },
    {
     "name": "stderr",
     "output_type": "stream",
     "text": [
      "Processing NL:  53%|█████▎    | 9/17 [30:27<26:15, 196.93s/it]"
     ]
    },
    {
     "name": "stdout",
     "output_type": "stream",
     "text": [
      "Processing politician: Joost_Eerdmans\n"
     ]
    },
    {
     "name": "stderr",
     "output_type": "stream",
     "text": [
      "Processing NL:  59%|█████▉    | 10/17 [33:27<22:23, 191.89s/it]"
     ]
    },
    {
     "name": "stdout",
     "output_type": "stream",
     "text": [
      "Processing politician: Thierry_Baudet\n"
     ]
    },
    {
     "name": "stderr",
     "output_type": "stream",
     "text": [
      "Processing NL:  65%|██████▍   | 11/17 [36:03<18:05, 180.97s/it]"
     ]
    },
    {
     "name": "stdout",
     "output_type": "stream",
     "text": [
      "Processing politician: Edson_Olf\n"
     ]
    },
    {
     "name": "stderr",
     "output_type": "stream",
     "text": [
      "Processing NL:  71%|███████   | 12/17 [37:32<12:44, 152.88s/it]"
     ]
    },
    {
     "name": "stdout",
     "output_type": "stream",
     "text": [
      "Processing politician: Frans_Timmermans\n",
      "Error with VGG-Face on datasets/train_test/NL/Frans_Timmermans/ea4bd34f_Dilan Yesilgöz_2.jpg: Input image must not have non-english characters - datasets/train_test/NL/Frans_Timmermans/ea4bd34f_Dilan Yesilgöz_2.jpg\n",
      "Error with Facenet on datasets/train_test/NL/Frans_Timmermans/ea4bd34f_Dilan Yesilgöz_2.jpg: Input image must not have non-english characters - datasets/train_test/NL/Frans_Timmermans/ea4bd34f_Dilan Yesilgöz_2.jpg\n",
      "Error with Facenet512 on datasets/train_test/NL/Frans_Timmermans/ea4bd34f_Dilan Yesilgöz_2.jpg: Input image must not have non-english characters - datasets/train_test/NL/Frans_Timmermans/ea4bd34f_Dilan Yesilgöz_2.jpg\n",
      "Error with OpenFace on datasets/train_test/NL/Frans_Timmermans/ea4bd34f_Dilan Yesilgöz_2.jpg: Input image must not have non-english characters - datasets/train_test/NL/Frans_Timmermans/ea4bd34f_Dilan Yesilgöz_2.jpg\n",
      "Error with ArcFace on datasets/train_test/NL/Frans_Timmermans/ea4bd34f_Dilan Yesilgöz_2.jpg: Input image must not have non-english characters - datasets/train_test/NL/Frans_Timmermans/ea4bd34f_Dilan Yesilgöz_2.jpg\n",
      "Error with Dlib on datasets/train_test/NL/Frans_Timmermans/ea4bd34f_Dilan Yesilgöz_2.jpg: Input image must not have non-english characters - datasets/train_test/NL/Frans_Timmermans/ea4bd34f_Dilan Yesilgöz_2.jpg\n",
      "Error with SFace on datasets/train_test/NL/Frans_Timmermans/ea4bd34f_Dilan Yesilgöz_2.jpg: Input image must not have non-english characters - datasets/train_test/NL/Frans_Timmermans/ea4bd34f_Dilan Yesilgöz_2.jpg\n",
      "Error with VGG-Face on datasets/train_test/NL/Frans_Timmermans/fca9ffd8_Dilan Yesilgöz_2.jpg: Input image must not have non-english characters - datasets/train_test/NL/Frans_Timmermans/fca9ffd8_Dilan Yesilgöz_2.jpg\n",
      "Error with Facenet on datasets/train_test/NL/Frans_Timmermans/fca9ffd8_Dilan Yesilgöz_2.jpg: Input image must not have non-english characters - datasets/train_test/NL/Frans_Timmermans/fca9ffd8_Dilan Yesilgöz_2.jpg\n",
      "Error with Facenet512 on datasets/train_test/NL/Frans_Timmermans/fca9ffd8_Dilan Yesilgöz_2.jpg: Input image must not have non-english characters - datasets/train_test/NL/Frans_Timmermans/fca9ffd8_Dilan Yesilgöz_2.jpg\n",
      "Error with OpenFace on datasets/train_test/NL/Frans_Timmermans/fca9ffd8_Dilan Yesilgöz_2.jpg: Input image must not have non-english characters - datasets/train_test/NL/Frans_Timmermans/fca9ffd8_Dilan Yesilgöz_2.jpg\n",
      "Error with ArcFace on datasets/train_test/NL/Frans_Timmermans/fca9ffd8_Dilan Yesilgöz_2.jpg: Input image must not have non-english characters - datasets/train_test/NL/Frans_Timmermans/fca9ffd8_Dilan Yesilgöz_2.jpg\n",
      "Error with Dlib on datasets/train_test/NL/Frans_Timmermans/fca9ffd8_Dilan Yesilgöz_2.jpg: Input image must not have non-english characters - datasets/train_test/NL/Frans_Timmermans/fca9ffd8_Dilan Yesilgöz_2.jpg\n",
      "Error with SFace on datasets/train_test/NL/Frans_Timmermans/fca9ffd8_Dilan Yesilgöz_2.jpg: Input image must not have non-english characters - datasets/train_test/NL/Frans_Timmermans/fca9ffd8_Dilan Yesilgöz_2.jpg\n",
      "Error with VGG-Face on datasets/train_test/NL/Frans_Timmermans/8bf67625_Dilan Yesilgöz_2.jpg: Input image must not have non-english characters - datasets/train_test/NL/Frans_Timmermans/8bf67625_Dilan Yesilgöz_2.jpg\n",
      "Error with Facenet on datasets/train_test/NL/Frans_Timmermans/8bf67625_Dilan Yesilgöz_2.jpg: Input image must not have non-english characters - datasets/train_test/NL/Frans_Timmermans/8bf67625_Dilan Yesilgöz_2.jpg\n",
      "Error with Facenet512 on datasets/train_test/NL/Frans_Timmermans/8bf67625_Dilan Yesilgöz_2.jpg: Input image must not have non-english characters - datasets/train_test/NL/Frans_Timmermans/8bf67625_Dilan Yesilgöz_2.jpg\n",
      "Error with OpenFace on datasets/train_test/NL/Frans_Timmermans/8bf67625_Dilan Yesilgöz_2.jpg: Input image must not have non-english characters - datasets/train_test/NL/Frans_Timmermans/8bf67625_Dilan Yesilgöz_2.jpg\n",
      "Error with ArcFace on datasets/train_test/NL/Frans_Timmermans/8bf67625_Dilan Yesilgöz_2.jpg: Input image must not have non-english characters - datasets/train_test/NL/Frans_Timmermans/8bf67625_Dilan Yesilgöz_2.jpg\n",
      "Error with Dlib on datasets/train_test/NL/Frans_Timmermans/8bf67625_Dilan Yesilgöz_2.jpg: Input image must not have non-english characters - datasets/train_test/NL/Frans_Timmermans/8bf67625_Dilan Yesilgöz_2.jpg\n",
      "Error with SFace on datasets/train_test/NL/Frans_Timmermans/8bf67625_Dilan Yesilgöz_2.jpg: Input image must not have non-english characters - datasets/train_test/NL/Frans_Timmermans/8bf67625_Dilan Yesilgöz_2.jpg\n",
      "Error with VGG-Face on datasets/train_test/NL/Frans_Timmermans/38491896_Dilan Yesilgöz_2.jpg: Input image must not have non-english characters - datasets/train_test/NL/Frans_Timmermans/38491896_Dilan Yesilgöz_2.jpg\n",
      "Error with Facenet on datasets/train_test/NL/Frans_Timmermans/38491896_Dilan Yesilgöz_2.jpg: Input image must not have non-english characters - datasets/train_test/NL/Frans_Timmermans/38491896_Dilan Yesilgöz_2.jpg\n",
      "Error with Facenet512 on datasets/train_test/NL/Frans_Timmermans/38491896_Dilan Yesilgöz_2.jpg: Input image must not have non-english characters - datasets/train_test/NL/Frans_Timmermans/38491896_Dilan Yesilgöz_2.jpg\n",
      "Error with OpenFace on datasets/train_test/NL/Frans_Timmermans/38491896_Dilan Yesilgöz_2.jpg: Input image must not have non-english characters - datasets/train_test/NL/Frans_Timmermans/38491896_Dilan Yesilgöz_2.jpg\n",
      "Error with ArcFace on datasets/train_test/NL/Frans_Timmermans/38491896_Dilan Yesilgöz_2.jpg: Input image must not have non-english characters - datasets/train_test/NL/Frans_Timmermans/38491896_Dilan Yesilgöz_2.jpg\n",
      "Error with Dlib on datasets/train_test/NL/Frans_Timmermans/38491896_Dilan Yesilgöz_2.jpg: Input image must not have non-english characters - datasets/train_test/NL/Frans_Timmermans/38491896_Dilan Yesilgöz_2.jpg\n",
      "Error with SFace on datasets/train_test/NL/Frans_Timmermans/38491896_Dilan Yesilgöz_2.jpg: Input image must not have non-english characters - datasets/train_test/NL/Frans_Timmermans/38491896_Dilan Yesilgöz_2.jpg\n"
     ]
    },
    {
     "name": "stderr",
     "output_type": "stream",
     "text": [
      "Processing NL:  76%|███████▋  | 13/17 [41:01<11:19, 169.75s/it]"
     ]
    },
    {
     "name": "stdout",
     "output_type": "stream",
     "text": [
      "Processing politician: Henri_Bontenbal\n"
     ]
    },
    {
     "name": "stderr",
     "output_type": "stream",
     "text": [
      "Processing NL:  82%|████████▏ | 14/17 [44:13<08:50, 176.71s/it]"
     ]
    },
    {
     "name": "stdout",
     "output_type": "stream",
     "text": [
      "Processing politician: Esther_Ouwehand\n"
     ]
    },
    {
     "name": "stderr",
     "output_type": "stream",
     "text": [
      "Processing NL:  88%|████████▊ | 15/17 [47:50<06:17, 188.80s/it]"
     ]
    },
    {
     "name": "stdout",
     "output_type": "stream",
     "text": [
      "Processing politician: Chris_Stoffer\n"
     ]
    },
    {
     "name": "stderr",
     "output_type": "stream",
     "text": [
      "Processing NL:  94%|█████████▍| 16/17 [51:17<03:14, 194.28s/it]"
     ]
    },
    {
     "name": "stdout",
     "output_type": "stream",
     "text": [
      "Processing politician: Wybren_van_Haga\n"
     ]
    },
    {
     "name": "stderr",
     "output_type": "stream",
     "text": [
      "Processing NL: 100%|██████████| 17/17 [54:46<00:00, 193.30s/it]\n"
     ]
    },
    {
     "name": "stdout",
     "output_type": "stream",
     "text": [
      "Saved embeddings to datasets/train_test/NL_embeddings.parquet\n"
     ]
    },
    {
     "data": {
      "text/html": [
       "<div>\n",
       "<style scoped>\n",
       "    .dataframe tbody tr th:only-of-type {\n",
       "        vertical-align: middle;\n",
       "    }\n",
       "\n",
       "    .dataframe tbody tr th {\n",
       "        vertical-align: top;\n",
       "    }\n",
       "\n",
       "    .dataframe thead th {\n",
       "        text-align: right;\n",
       "    }\n",
       "</style>\n",
       "<table border=\"1\" class=\"dataframe\">\n",
       "  <thead>\n",
       "    <tr style=\"text-align: right;\">\n",
       "      <th></th>\n",
       "      <th>country</th>\n",
       "      <th>politician</th>\n",
       "      <th>image_path</th>\n",
       "      <th>embedding_VGG-Face</th>\n",
       "      <th>embedding_Facenet</th>\n",
       "      <th>embedding_Facenet512</th>\n",
       "      <th>embedding_OpenFace</th>\n",
       "      <th>embedding_ArcFace</th>\n",
       "      <th>embedding_Dlib</th>\n",
       "      <th>embedding_SFace</th>\n",
       "      <th>embedding_face_recognition</th>\n",
       "    </tr>\n",
       "  </thead>\n",
       "  <tbody>\n",
       "    <tr>\n",
       "      <th>0</th>\n",
       "      <td>NL</td>\n",
       "      <td>Stephan_van_Baarle</td>\n",
       "      <td>datasets/train_test/NL/Stephan_van_Baarle/7518...</td>\n",
       "      <td>[0.0, 0.0, 0.0, 0.0, 0.0, 0.0, 0.0343820583382...</td>\n",
       "      <td>[0.2907654643058777, 0.5678703784942627, -0.59...</td>\n",
       "      <td>[-0.8811557292938232, 1.1285032033920288, -0.4...</td>\n",
       "      <td>[0.015059384517371655, 0.006262484472244978, -...</td>\n",
       "      <td>[-0.14670303463935852, 0.11384416371583939, -0...</td>\n",
       "      <td>[-0.053955599665641785, 0.09319762885570526, 0...</td>\n",
       "      <td>[-0.7423117756843567, 0.5515708327293396, 1.04...</td>\n",
       "      <td>[-0.08167310059070587, 0.02302662841975689, 0....</td>\n",
       "    </tr>\n",
       "    <tr>\n",
       "      <th>1</th>\n",
       "      <td>NL</td>\n",
       "      <td>Stephan_van_Baarle</td>\n",
       "      <td>datasets/train_test/NL/Stephan_van_Baarle/b5c4...</td>\n",
       "      <td>[0.0, 0.0, 0.0, 0.0, 0.0, 0.0, 0.0109293536791...</td>\n",
       "      <td>[0.01734083890914917, 1.0677095651626587, 0.36...</td>\n",
       "      <td>[-1.9518992900848389, 1.1397768259048462, 0.94...</td>\n",
       "      <td>[-0.02600262314081192, 0.004551914054900408, -...</td>\n",
       "      <td>[-0.18038032948970795, 0.279319167137146, -0.2...</td>\n",
       "      <td>[-0.05004735663533211, 0.0352143831551075, 0.0...</td>\n",
       "      <td>[-0.9400857090950012, -0.5621656775474548, 0.3...</td>\n",
       "      <td>[-0.07158689945936203, 0.050367504358291626, 0...</td>\n",
       "    </tr>\n",
       "    <tr>\n",
       "      <th>2</th>\n",
       "      <td>NL</td>\n",
       "      <td>Stephan_van_Baarle</td>\n",
       "      <td>datasets/train_test/NL/Stephan_van_Baarle/6711...</td>\n",
       "      <td>[0.0, 0.0, 0.0, 0.0, 0.0, 0.0, 0.0565274535416...</td>\n",
       "      <td>[1.2932127714157104, -0.6363705396652222, 1.16...</td>\n",
       "      <td>[-0.5140327215194702, 0.7249234914779663, 0.14...</td>\n",
       "      <td>[0.02915845438838005, 0.06930511444807053, 0.0...</td>\n",
       "      <td>[-0.0846487358212471, 0.38507404923439026, -0....</td>\n",
       "      <td>[-0.0722360759973526, -0.0019726187456399202, ...</td>\n",
       "      <td>[-0.8447213768959045, -0.5323300957679749, 1.1...</td>\n",
       "      <td>[-0.06998300552368164, 0.07013103365898132, 0....</td>\n",
       "    </tr>\n",
       "    <tr>\n",
       "      <th>3</th>\n",
       "      <td>NL</td>\n",
       "      <td>Stephan_van_Baarle</td>\n",
       "      <td>datasets/train_test/NL/Stephan_van_Baarle/034f...</td>\n",
       "      <td>[0.0, 0.0, 0.0, 0.0, 0.0, 0.0, 0.0, 0.07389121...</td>\n",
       "      <td>[-0.5141052007675171, -0.14589416980743408, -0...</td>\n",
       "      <td>[-0.4285900294780731, 0.46602827310562134, -0....</td>\n",
       "      <td>[0.10006731003522873, -0.0619647316634655, 0.0...</td>\n",
       "      <td>[-0.1664310246706009, 0.3704061508178711, 0.01...</td>\n",
       "      <td>[0.0012769631575793028, 0.06571324914693832, 0...</td>\n",
       "      <td>[1.1664515733718872, 0.22525428235530853, -0.1...</td>\n",
       "      <td>[-0.07564379274845123, 0.11386445164680481, 0....</td>\n",
       "    </tr>\n",
       "    <tr>\n",
       "      <th>4</th>\n",
       "      <td>NL</td>\n",
       "      <td>Stephan_van_Baarle</td>\n",
       "      <td>datasets/train_test/NL/Stephan_van_Baarle/307a...</td>\n",
       "      <td>[0.0, 0.0, 0.0, 0.0, 0.0, 0.0, 0.0, 0.0, 0.0, ...</td>\n",
       "      <td>[0.310562402009964, 0.8564702272415161, -0.965...</td>\n",
       "      <td>[-0.9611704349517822, 0.8630242943763733, 0.04...</td>\n",
       "      <td>[-0.0113795455545187, 0.0975126326084137, -0.0...</td>\n",
       "      <td>[-0.10379300266504288, 0.14741967618465424, 0....</td>\n",
       "      <td>[-0.03182348236441612, 0.06024117395281792, 0....</td>\n",
       "      <td>[-0.1440213918685913, -0.03564627841114998, 1....</td>\n",
       "      <td>[-0.036771029233932495, 0.04112560674548149, 0...</td>\n",
       "    </tr>\n",
       "    <tr>\n",
       "      <th>...</th>\n",
       "      <td>...</td>\n",
       "      <td>...</td>\n",
       "      <td>...</td>\n",
       "      <td>...</td>\n",
       "      <td>...</td>\n",
       "      <td>...</td>\n",
       "      <td>...</td>\n",
       "      <td>...</td>\n",
       "      <td>...</td>\n",
       "      <td>...</td>\n",
       "      <td>...</td>\n",
       "    </tr>\n",
       "    <tr>\n",
       "      <th>5519</th>\n",
       "      <td>NL</td>\n",
       "      <td>Wybren_van_Haga</td>\n",
       "      <td>datasets/train_test/NL/Wybren_van_Haga/b35f650...</td>\n",
       "      <td>[0.0, 0.0, 0.0, 0.0, 0.0, 0.0, 0.0, 0.0, 0.0, ...</td>\n",
       "      <td>[0.6773715019226074, 0.0456889271736145, -1.33...</td>\n",
       "      <td>[1.9740127325057983, -1.551148533821106, 0.282...</td>\n",
       "      <td>[0.019589707255363464, -0.03733227401971817, -...</td>\n",
       "      <td>[-0.021395064890384674, -0.29362645745277405, ...</td>\n",
       "      <td>[-0.16468967497348785, 0.14761099219322205, 0....</td>\n",
       "      <td>[-0.3655371367931366, 0.4421786367893219, 0.38...</td>\n",
       "      <td>[-0.0600978322327137, 0.12427319586277008, 0.0...</td>\n",
       "    </tr>\n",
       "    <tr>\n",
       "      <th>5520</th>\n",
       "      <td>NL</td>\n",
       "      <td>Wybren_van_Haga</td>\n",
       "      <td>datasets/train_test/NL/Wybren_van_Haga/fd3f5c3...</td>\n",
       "      <td>[0.0, 0.0, 0.0, 0.0, 0.0, 0.0, 0.0, 0.02067234...</td>\n",
       "      <td>[-0.29086899757385254, -0.3036533296108246, -0...</td>\n",
       "      <td>[0.0494399219751358, -0.7900205850601196, -0.9...</td>\n",
       "      <td>[-0.09559787064790726, 0.0699348896741867, 0.1...</td>\n",
       "      <td>[-0.2241268754005432, 0.6755390763282776, -0.0...</td>\n",
       "      <td>[-0.05182550102472305, 0.15010982751846313, 0....</td>\n",
       "      <td>[0.8890799880027771, -0.28052738308906555, -0....</td>\n",
       "      <td>[-0.07927539944648743, 0.1523919254541397, 0.0...</td>\n",
       "    </tr>\n",
       "    <tr>\n",
       "      <th>5521</th>\n",
       "      <td>NL</td>\n",
       "      <td>Wybren_van_Haga</td>\n",
       "      <td>datasets/train_test/NL/Wybren_van_Haga/2cb44dd...</td>\n",
       "      <td>[0.0, 0.0, 0.0, 0.0, 0.0, 0.0, 0.0, 0.0, 0.0, ...</td>\n",
       "      <td>[-0.5010250806808472, -1.0816199779510498, -0....</td>\n",
       "      <td>[1.337747573852539, 0.3847041428089142, 0.8339...</td>\n",
       "      <td>[-0.031416136771440506, 0.16814887523651123, 0...</td>\n",
       "      <td>[0.049261778593063354, -0.023974932730197906, ...</td>\n",
       "      <td>[-0.06443601101636887, 0.12508203089237213, 0....</td>\n",
       "      <td>[-1.2978324890136719, -0.01501662191003561, 0....</td>\n",
       "      <td>[-0.01838686875998974, 0.14356324076652527, -0...</td>\n",
       "    </tr>\n",
       "    <tr>\n",
       "      <th>5522</th>\n",
       "      <td>NL</td>\n",
       "      <td>Wybren_van_Haga</td>\n",
       "      <td>datasets/train_test/NL/Wybren_van_Haga/62f72e7...</td>\n",
       "      <td>[0.023594513673079572, 0.0, 0.0, 0.00440700893...</td>\n",
       "      <td>[0.9359687566757202, 0.8299816846847534, 0.041...</td>\n",
       "      <td>[1.9004838466644287, -0.8453763723373413, 0.84...</td>\n",
       "      <td>[0.033938217908144, 0.09640984237194061, -0.04...</td>\n",
       "      <td>[-0.10520578920841217, -0.12486226856708527, -...</td>\n",
       "      <td>[-0.10190367698669434, 0.11365978419780731, 0....</td>\n",
       "      <td>[0.16224084794521332, 0.09632733464241028, 1.7...</td>\n",
       "      <td>[-0.1239003986120224, 0.126318097114563, 0.064...</td>\n",
       "    </tr>\n",
       "    <tr>\n",
       "      <th>5523</th>\n",
       "      <td>NL</td>\n",
       "      <td>Wybren_van_Haga</td>\n",
       "      <td>datasets/train_test/NL/Wybren_van_Haga/2b858d0...</td>\n",
       "      <td>[0.0, 0.0, 0.0, 0.0, 0.0, 0.0, 0.0, 0.0, 0.0, ...</td>\n",
       "      <td>[-0.027007922530174255, -0.20869243144989014, ...</td>\n",
       "      <td>[1.713149905204773, 0.5772107839584351, -0.034...</td>\n",
       "      <td>[0.07678984105587006, 0.06201345473527908, 0.0...</td>\n",
       "      <td>[-0.19860117137432098, 0.5906568765640259, -0....</td>\n",
       "      <td>[-0.018748924136161804, 0.07003673911094666, -...</td>\n",
       "      <td>[-0.08427970111370087, 0.5800604224205017, 0.4...</td>\n",
       "      <td>[-0.08290323615074158, 0.04268527030944824, 0....</td>\n",
       "    </tr>\n",
       "  </tbody>\n",
       "</table>\n",
       "<p>5524 rows × 11 columns</p>\n",
       "</div>"
      ],
      "text/plain": [
       "     country          politician  \\\n",
       "0         NL  Stephan_van_Baarle   \n",
       "1         NL  Stephan_van_Baarle   \n",
       "2         NL  Stephan_van_Baarle   \n",
       "3         NL  Stephan_van_Baarle   \n",
       "4         NL  Stephan_van_Baarle   \n",
       "...      ...                 ...   \n",
       "5519      NL     Wybren_van_Haga   \n",
       "5520      NL     Wybren_van_Haga   \n",
       "5521      NL     Wybren_van_Haga   \n",
       "5522      NL     Wybren_van_Haga   \n",
       "5523      NL     Wybren_van_Haga   \n",
       "\n",
       "                                             image_path  \\\n",
       "0     datasets/train_test/NL/Stephan_van_Baarle/7518...   \n",
       "1     datasets/train_test/NL/Stephan_van_Baarle/b5c4...   \n",
       "2     datasets/train_test/NL/Stephan_van_Baarle/6711...   \n",
       "3     datasets/train_test/NL/Stephan_van_Baarle/034f...   \n",
       "4     datasets/train_test/NL/Stephan_van_Baarle/307a...   \n",
       "...                                                 ...   \n",
       "5519  datasets/train_test/NL/Wybren_van_Haga/b35f650...   \n",
       "5520  datasets/train_test/NL/Wybren_van_Haga/fd3f5c3...   \n",
       "5521  datasets/train_test/NL/Wybren_van_Haga/2cb44dd...   \n",
       "5522  datasets/train_test/NL/Wybren_van_Haga/62f72e7...   \n",
       "5523  datasets/train_test/NL/Wybren_van_Haga/2b858d0...   \n",
       "\n",
       "                                     embedding_VGG-Face  \\\n",
       "0     [0.0, 0.0, 0.0, 0.0, 0.0, 0.0, 0.0343820583382...   \n",
       "1     [0.0, 0.0, 0.0, 0.0, 0.0, 0.0, 0.0109293536791...   \n",
       "2     [0.0, 0.0, 0.0, 0.0, 0.0, 0.0, 0.0565274535416...   \n",
       "3     [0.0, 0.0, 0.0, 0.0, 0.0, 0.0, 0.0, 0.07389121...   \n",
       "4     [0.0, 0.0, 0.0, 0.0, 0.0, 0.0, 0.0, 0.0, 0.0, ...   \n",
       "...                                                 ...   \n",
       "5519  [0.0, 0.0, 0.0, 0.0, 0.0, 0.0, 0.0, 0.0, 0.0, ...   \n",
       "5520  [0.0, 0.0, 0.0, 0.0, 0.0, 0.0, 0.0, 0.02067234...   \n",
       "5521  [0.0, 0.0, 0.0, 0.0, 0.0, 0.0, 0.0, 0.0, 0.0, ...   \n",
       "5522  [0.023594513673079572, 0.0, 0.0, 0.00440700893...   \n",
       "5523  [0.0, 0.0, 0.0, 0.0, 0.0, 0.0, 0.0, 0.0, 0.0, ...   \n",
       "\n",
       "                                      embedding_Facenet  \\\n",
       "0     [0.2907654643058777, 0.5678703784942627, -0.59...   \n",
       "1     [0.01734083890914917, 1.0677095651626587, 0.36...   \n",
       "2     [1.2932127714157104, -0.6363705396652222, 1.16...   \n",
       "3     [-0.5141052007675171, -0.14589416980743408, -0...   \n",
       "4     [0.310562402009964, 0.8564702272415161, -0.965...   \n",
       "...                                                 ...   \n",
       "5519  [0.6773715019226074, 0.0456889271736145, -1.33...   \n",
       "5520  [-0.29086899757385254, -0.3036533296108246, -0...   \n",
       "5521  [-0.5010250806808472, -1.0816199779510498, -0....   \n",
       "5522  [0.9359687566757202, 0.8299816846847534, 0.041...   \n",
       "5523  [-0.027007922530174255, -0.20869243144989014, ...   \n",
       "\n",
       "                                   embedding_Facenet512  \\\n",
       "0     [-0.8811557292938232, 1.1285032033920288, -0.4...   \n",
       "1     [-1.9518992900848389, 1.1397768259048462, 0.94...   \n",
       "2     [-0.5140327215194702, 0.7249234914779663, 0.14...   \n",
       "3     [-0.4285900294780731, 0.46602827310562134, -0....   \n",
       "4     [-0.9611704349517822, 0.8630242943763733, 0.04...   \n",
       "...                                                 ...   \n",
       "5519  [1.9740127325057983, -1.551148533821106, 0.282...   \n",
       "5520  [0.0494399219751358, -0.7900205850601196, -0.9...   \n",
       "5521  [1.337747573852539, 0.3847041428089142, 0.8339...   \n",
       "5522  [1.9004838466644287, -0.8453763723373413, 0.84...   \n",
       "5523  [1.713149905204773, 0.5772107839584351, -0.034...   \n",
       "\n",
       "                                     embedding_OpenFace  \\\n",
       "0     [0.015059384517371655, 0.006262484472244978, -...   \n",
       "1     [-0.02600262314081192, 0.004551914054900408, -...   \n",
       "2     [0.02915845438838005, 0.06930511444807053, 0.0...   \n",
       "3     [0.10006731003522873, -0.0619647316634655, 0.0...   \n",
       "4     [-0.0113795455545187, 0.0975126326084137, -0.0...   \n",
       "...                                                 ...   \n",
       "5519  [0.019589707255363464, -0.03733227401971817, -...   \n",
       "5520  [-0.09559787064790726, 0.0699348896741867, 0.1...   \n",
       "5521  [-0.031416136771440506, 0.16814887523651123, 0...   \n",
       "5522  [0.033938217908144, 0.09640984237194061, -0.04...   \n",
       "5523  [0.07678984105587006, 0.06201345473527908, 0.0...   \n",
       "\n",
       "                                      embedding_ArcFace  \\\n",
       "0     [-0.14670303463935852, 0.11384416371583939, -0...   \n",
       "1     [-0.18038032948970795, 0.279319167137146, -0.2...   \n",
       "2     [-0.0846487358212471, 0.38507404923439026, -0....   \n",
       "3     [-0.1664310246706009, 0.3704061508178711, 0.01...   \n",
       "4     [-0.10379300266504288, 0.14741967618465424, 0....   \n",
       "...                                                 ...   \n",
       "5519  [-0.021395064890384674, -0.29362645745277405, ...   \n",
       "5520  [-0.2241268754005432, 0.6755390763282776, -0.0...   \n",
       "5521  [0.049261778593063354, -0.023974932730197906, ...   \n",
       "5522  [-0.10520578920841217, -0.12486226856708527, -...   \n",
       "5523  [-0.19860117137432098, 0.5906568765640259, -0....   \n",
       "\n",
       "                                         embedding_Dlib  \\\n",
       "0     [-0.053955599665641785, 0.09319762885570526, 0...   \n",
       "1     [-0.05004735663533211, 0.0352143831551075, 0.0...   \n",
       "2     [-0.0722360759973526, -0.0019726187456399202, ...   \n",
       "3     [0.0012769631575793028, 0.06571324914693832, 0...   \n",
       "4     [-0.03182348236441612, 0.06024117395281792, 0....   \n",
       "...                                                 ...   \n",
       "5519  [-0.16468967497348785, 0.14761099219322205, 0....   \n",
       "5520  [-0.05182550102472305, 0.15010982751846313, 0....   \n",
       "5521  [-0.06443601101636887, 0.12508203089237213, 0....   \n",
       "5522  [-0.10190367698669434, 0.11365978419780731, 0....   \n",
       "5523  [-0.018748924136161804, 0.07003673911094666, -...   \n",
       "\n",
       "                                        embedding_SFace  \\\n",
       "0     [-0.7423117756843567, 0.5515708327293396, 1.04...   \n",
       "1     [-0.9400857090950012, -0.5621656775474548, 0.3...   \n",
       "2     [-0.8447213768959045, -0.5323300957679749, 1.1...   \n",
       "3     [1.1664515733718872, 0.22525428235530853, -0.1...   \n",
       "4     [-0.1440213918685913, -0.03564627841114998, 1....   \n",
       "...                                                 ...   \n",
       "5519  [-0.3655371367931366, 0.4421786367893219, 0.38...   \n",
       "5520  [0.8890799880027771, -0.28052738308906555, -0....   \n",
       "5521  [-1.2978324890136719, -0.01501662191003561, 0....   \n",
       "5522  [0.16224084794521332, 0.09632733464241028, 1.7...   \n",
       "5523  [-0.08427970111370087, 0.5800604224205017, 0.4...   \n",
       "\n",
       "                             embedding_face_recognition  \n",
       "0     [-0.08167310059070587, 0.02302662841975689, 0....  \n",
       "1     [-0.07158689945936203, 0.050367504358291626, 0...  \n",
       "2     [-0.06998300552368164, 0.07013103365898132, 0....  \n",
       "3     [-0.07564379274845123, 0.11386445164680481, 0....  \n",
       "4     [-0.036771029233932495, 0.04112560674548149, 0...  \n",
       "...                                                 ...  \n",
       "5519  [-0.0600978322327137, 0.12427319586277008, 0.0...  \n",
       "5520  [-0.07927539944648743, 0.1523919254541397, 0.0...  \n",
       "5521  [-0.01838686875998974, 0.14356324076652527, -0...  \n",
       "5522  [-0.1239003986120224, 0.126318097114563, 0.064...  \n",
       "5523  [-0.08290323615074158, 0.04268527030944824, 0....  \n",
       "\n",
       "[5524 rows x 11 columns]"
      ]
     },
     "execution_count": 24,
     "metadata": {},
     "output_type": "execute_result"
    }
   ],
   "source": [
    "compute_face_embeddings(\n",
    "    base_path=training_path,\n",
    "    output_path=training_path,\n",
    "    country=\"NL\",\n",
    "    models=models\n",
    ")"
   ]
  },
  {
   "cell_type": "code",
   "execution_count": 25,
   "id": "713a5f80",
   "metadata": {},
   "outputs": [
    {
     "name": "stdout",
     "output_type": "stream",
     "text": [
      "Processing Unknown images for NL\n"
     ]
    },
    {
     "name": "stderr",
     "output_type": "stream",
     "text": [
      "Processing unknown images: 100%|██████████| 5569/5569 [51:23<00:00,  1.81it/s]  \n"
     ]
    },
    {
     "name": "stdout",
     "output_type": "stream",
     "text": [
      "Saved unknown embeddings to datasets/train_test/NL_unknown_embeddings.parquet\n"
     ]
    }
   ],
   "source": [
    "nl_unknowns = compute_unknown_embeddings(\n",
    "    base_path=training_path,\n",
    "    output_path=training_path,\n",
    "    country=\"NL\",\n",
    "    models=models\n",
    ")"
   ]
  },
  {
   "cell_type": "markdown",
   "id": "e20f5a2f",
   "metadata": {},
   "source": [
    "### UK"
   ]
  },
  {
   "cell_type": "code",
   "execution_count": 22,
   "id": "40427771",
   "metadata": {},
   "outputs": [
    {
     "name": "stderr",
     "output_type": "stream",
     "text": [
      "Processing UK:   0%|          | 0/17 [00:00<?, ?it/s]"
     ]
    },
    {
     "name": "stdout",
     "output_type": "stream",
     "text": [
      "Processing politician: Adrian_Ramsay\n"
     ]
    },
    {
     "name": "stderr",
     "output_type": "stream",
     "text": [
      "Processing UK:   6%|▌         | 1/17 [03:32<56:43, 212.71s/it]"
     ]
    },
    {
     "name": "stdout",
     "output_type": "stream",
     "text": [
      "Processing politician: Ed_Davey\n"
     ]
    },
    {
     "name": "stderr",
     "output_type": "stream",
     "text": [
      "Processing UK:  12%|█▏        | 2/17 [06:48<50:39, 202.65s/it]"
     ]
    },
    {
     "name": "stdout",
     "output_type": "stream",
     "text": [
      "Processing politician: Rhun_ap_Iorwerth\n"
     ]
    },
    {
     "name": "stderr",
     "output_type": "stream",
     "text": [
      "Processing UK:  18%|█▊        | 3/17 [09:37<43:43, 187.38s/it]"
     ]
    },
    {
     "name": "stdout",
     "output_type": "stream",
     "text": [
      "Processing politician: Patrick_Harvie\n"
     ]
    },
    {
     "name": "stderr",
     "output_type": "stream",
     "text": [
      "Processing UK:  24%|██▎       | 4/17 [12:32<39:33, 182.61s/it]"
     ]
    },
    {
     "name": "stdout",
     "output_type": "stream",
     "text": [
      "Processing politician: Mary_Lou_McDonald\n"
     ]
    },
    {
     "name": "stderr",
     "output_type": "stream",
     "text": [
      "Processing UK:  29%|██▉       | 5/17 [15:48<37:28, 187.40s/it]"
     ]
    },
    {
     "name": "stdout",
     "output_type": "stream",
     "text": [
      "Processing politician: Carla_Denyer\n"
     ]
    },
    {
     "name": "stderr",
     "output_type": "stream",
     "text": [
      "Processing UK:  35%|███▌      | 6/17 [18:56<34:22, 187.53s/it]"
     ]
    },
    {
     "name": "stdout",
     "output_type": "stream",
     "text": [
      "Processing politician: Doug_Beattie\n"
     ]
    },
    {
     "name": "stderr",
     "output_type": "stream",
     "text": [
      "Processing UK:  41%|████      | 7/17 [21:39<29:55, 179.56s/it]"
     ]
    },
    {
     "name": "stdout",
     "output_type": "stream",
     "text": [
      "Processing politician: Rishi_Sunak\n"
     ]
    },
    {
     "name": "stderr",
     "output_type": "stream",
     "text": [
      "Processing UK:  47%|████▋     | 8/17 [23:54<24:46, 165.19s/it]"
     ]
    },
    {
     "name": "stdout",
     "output_type": "stream",
     "text": [
      "Processing politician: George_Galloway\n"
     ]
    },
    {
     "name": "stderr",
     "output_type": "stream",
     "text": [
      "Processing UK:  53%|█████▎    | 9/17 [27:14<23:30, 176.35s/it]"
     ]
    },
    {
     "name": "stdout",
     "output_type": "stream",
     "text": [
      "Processing politician: Jim_Allister\n"
     ]
    },
    {
     "name": "stderr",
     "output_type": "stream",
     "text": [
      "Processing UK:  59%|█████▉    | 10/17 [30:22<20:59, 179.91s/it]"
     ]
    },
    {
     "name": "stdout",
     "output_type": "stream",
     "text": [
      "Processing politician: John_Swinney\n"
     ]
    },
    {
     "name": "stderr",
     "output_type": "stream",
     "text": [
      "Processing UK:  65%|██████▍   | 11/17 [34:05<19:17, 192.98s/it]"
     ]
    },
    {
     "name": "stdout",
     "output_type": "stream",
     "text": [
      "Processing politician: Lorna_Slater\n"
     ]
    },
    {
     "name": "stderr",
     "output_type": "stream",
     "text": [
      "Processing UK:  71%|███████   | 12/17 [37:14<15:58, 191.65s/it]"
     ]
    },
    {
     "name": "stdout",
     "output_type": "stream",
     "text": [
      "Processing politician: Keir_Starmer\n"
     ]
    },
    {
     "name": "stderr",
     "output_type": "stream",
     "text": [
      "Processing UK:  76%|███████▋  | 13/17 [40:59<13:27, 201.98s/it]"
     ]
    },
    {
     "name": "stdout",
     "output_type": "stream",
     "text": [
      "Processing politician: Nigel_Farage\n"
     ]
    },
    {
     "name": "stderr",
     "output_type": "stream",
     "text": [
      "Processing UK:  82%|████████▏ | 14/17 [43:59<09:45, 195.25s/it]"
     ]
    },
    {
     "name": "stdout",
     "output_type": "stream",
     "text": [
      "Processing politician: Gavin_Robinson\n"
     ]
    },
    {
     "name": "stderr",
     "output_type": "stream",
     "text": [
      "Processing UK:  88%|████████▊ | 15/17 [46:52<06:17, 188.56s/it]"
     ]
    },
    {
     "name": "stdout",
     "output_type": "stream",
     "text": [
      "Processing politician: Naomi_Long\n"
     ]
    },
    {
     "name": "stderr",
     "output_type": "stream",
     "text": [
      "Processing UK:  94%|█████████▍| 16/17 [50:05<03:09, 189.88s/it]"
     ]
    },
    {
     "name": "stdout",
     "output_type": "stream",
     "text": [
      "Processing politician: Colum_Eastwood\n"
     ]
    },
    {
     "name": "stderr",
     "output_type": "stream",
     "text": [
      "Processing UK: 100%|██████████| 17/17 [53:16<00:00, 188.03s/it]\n"
     ]
    },
    {
     "name": "stdout",
     "output_type": "stream",
     "text": [
      "Saved embeddings to datasets/train_test/UK_embeddings.parquet\n"
     ]
    },
    {
     "data": {
      "text/html": [
       "<div>\n",
       "<style scoped>\n",
       "    .dataframe tbody tr th:only-of-type {\n",
       "        vertical-align: middle;\n",
       "    }\n",
       "\n",
       "    .dataframe tbody tr th {\n",
       "        vertical-align: top;\n",
       "    }\n",
       "\n",
       "    .dataframe thead th {\n",
       "        text-align: right;\n",
       "    }\n",
       "</style>\n",
       "<table border=\"1\" class=\"dataframe\">\n",
       "  <thead>\n",
       "    <tr style=\"text-align: right;\">\n",
       "      <th></th>\n",
       "      <th>country</th>\n",
       "      <th>politician</th>\n",
       "      <th>image_path</th>\n",
       "      <th>embedding_VGG-Face</th>\n",
       "      <th>embedding_Facenet</th>\n",
       "      <th>embedding_Facenet512</th>\n",
       "      <th>embedding_OpenFace</th>\n",
       "      <th>embedding_ArcFace</th>\n",
       "      <th>embedding_Dlib</th>\n",
       "      <th>embedding_SFace</th>\n",
       "      <th>embedding_face_recognition</th>\n",
       "    </tr>\n",
       "  </thead>\n",
       "  <tbody>\n",
       "    <tr>\n",
       "      <th>0</th>\n",
       "      <td>UK</td>\n",
       "      <td>Adrian_Ramsay</td>\n",
       "      <td>datasets/train_test/UK/Adrian_Ramsay/62bf5831_...</td>\n",
       "      <td>[0.0, 0.0, 0.0, 0.0, 0.0, 0.0, 0.0, 0.0, 0.0, ...</td>\n",
       "      <td>[-0.35135361552238464, -0.42078346014022827, 0...</td>\n",
       "      <td>[-0.17114633321762085, -0.31198209524154663, -...</td>\n",
       "      <td>[0.06984470784664154, 0.20160618424415588, -0....</td>\n",
       "      <td>[-0.3318551480770111, 0.8573698997497559, -0.2...</td>\n",
       "      <td>[-0.06081914156675339, 0.08557083457708359, 0....</td>\n",
       "      <td>[-0.058141469955444336, 0.06134376674890518, -...</td>\n",
       "      <td>[-0.08713938295841217, 0.029737146571278572, 0...</td>\n",
       "    </tr>\n",
       "    <tr>\n",
       "      <th>1</th>\n",
       "      <td>UK</td>\n",
       "      <td>Adrian_Ramsay</td>\n",
       "      <td>datasets/train_test/UK/Adrian_Ramsay/c99c3e00_...</td>\n",
       "      <td>[0.0, 0.04321540475950876, 0.0, 0.0, 0.0, 0.00...</td>\n",
       "      <td>[0.14784598350524902, 2.072838306427002, -2.40...</td>\n",
       "      <td>[-0.08605198562145233, -0.9127213954925537, -0...</td>\n",
       "      <td>[0.041459184139966965, 0.03514566645026207, -0...</td>\n",
       "      <td>[0.13335968554019928, 0.1689140945672989, 0.14...</td>\n",
       "      <td>[-0.10037916153669357, 0.13561910390853882, 0....</td>\n",
       "      <td>[-0.12224884331226349, 0.0031710208859294653, ...</td>\n",
       "      <td>[-0.05792800337076187, 0.08529047667980194, 0....</td>\n",
       "    </tr>\n",
       "    <tr>\n",
       "      <th>2</th>\n",
       "      <td>UK</td>\n",
       "      <td>Adrian_Ramsay</td>\n",
       "      <td>datasets/train_test/UK/Adrian_Ramsay/c0b212ec_...</td>\n",
       "      <td>[0.0, 0.0, 0.0, 0.0, 0.0, 0.0, 0.0, 0.0, 0.0, ...</td>\n",
       "      <td>[-0.10455392301082611, -0.30937033891677856, -...</td>\n",
       "      <td>[0.4578588306903839, -0.6233252286911011, -1.7...</td>\n",
       "      <td>[0.03886430710554123, 0.01809820346534252, 0.1...</td>\n",
       "      <td>[-0.17943434417247772, 0.4395715594291687, 0.0...</td>\n",
       "      <td>[-0.0726579949259758, 0.07826431840658188, 0.1...</td>\n",
       "      <td>[0.9908984303474426, 0.504574716091156, -0.128...</td>\n",
       "      <td>[-0.07454099506139755, 0.0897434651851654, 0.0...</td>\n",
       "    </tr>\n",
       "    <tr>\n",
       "      <th>3</th>\n",
       "      <td>UK</td>\n",
       "      <td>Adrian_Ramsay</td>\n",
       "      <td>datasets/train_test/UK/Adrian_Ramsay/fcc56925_...</td>\n",
       "      <td>[0.0, 0.0, 0.0, 0.0, 0.0, 0.0, 0.0, 0.05657017...</td>\n",
       "      <td>[0.9581767320632935, 2.293910264968872, -2.134...</td>\n",
       "      <td>[-0.4981761872768402, -1.6441878080368042, 0.2...</td>\n",
       "      <td>[-0.09067273885011673, 0.07162158191204071, -0...</td>\n",
       "      <td>[-0.00269246194511652, 0.210192009806633, 0.26...</td>\n",
       "      <td>[-0.10730963945388794, 0.08606453239917755, 0....</td>\n",
       "      <td>[0.17538858950138092, 0.1498776525259018, 0.26...</td>\n",
       "      <td>[-0.12896034121513367, 0.09216073155403137, 0....</td>\n",
       "    </tr>\n",
       "    <tr>\n",
       "      <th>4</th>\n",
       "      <td>UK</td>\n",
       "      <td>Adrian_Ramsay</td>\n",
       "      <td>datasets/train_test/UK/Adrian_Ramsay/b5adab40_...</td>\n",
       "      <td>[0.0, 0.01716598686508794, 0.0, 0.0, 0.0, 0.0,...</td>\n",
       "      <td>[-0.04719257354736328, 0.8895539045333862, -0....</td>\n",
       "      <td>[-0.8663128614425659, -0.8286941051483154, 0.3...</td>\n",
       "      <td>[0.03145873174071312, 0.013665544800460339, -0...</td>\n",
       "      <td>[0.20371617376804352, 0.3974902927875519, 0.31...</td>\n",
       "      <td>[-0.06672751903533936, 0.07417088747024536, 0....</td>\n",
       "      <td>[0.14213977754116058, -0.1026618555188179, -0....</td>\n",
       "      <td>[-0.06910675019025803, 0.08851906657218933, 0....</td>\n",
       "    </tr>\n",
       "    <tr>\n",
       "      <th>...</th>\n",
       "      <td>...</td>\n",
       "      <td>...</td>\n",
       "      <td>...</td>\n",
       "      <td>...</td>\n",
       "      <td>...</td>\n",
       "      <td>...</td>\n",
       "      <td>...</td>\n",
       "      <td>...</td>\n",
       "      <td>...</td>\n",
       "      <td>...</td>\n",
       "      <td>...</td>\n",
       "    </tr>\n",
       "    <tr>\n",
       "      <th>5631</th>\n",
       "      <td>UK</td>\n",
       "      <td>Colum_Eastwood</td>\n",
       "      <td>datasets/train_test/UK/Colum_Eastwood/ca84b4ea...</td>\n",
       "      <td>[0.0, 0.0, 0.0, 0.0, 0.0, 0.0, 0.0745370177117...</td>\n",
       "      <td>[0.44292089343070984, -0.6873096227645874, -1....</td>\n",
       "      <td>[1.0080773830413818, -0.3393586277961731, 0.53...</td>\n",
       "      <td>[-0.03013659454882145, 0.015217386186122894, 0...</td>\n",
       "      <td>[0.05982501059770584, 0.096262127161026, 0.125...</td>\n",
       "      <td>[-0.11214412748813629, 0.05732250213623047, 0....</td>\n",
       "      <td>[-1.5556674003601074, 0.14174199104309082, 1.7...</td>\n",
       "      <td>[-0.0771929994225502, 0.01920188032090664, 0.0...</td>\n",
       "    </tr>\n",
       "    <tr>\n",
       "      <th>5632</th>\n",
       "      <td>UK</td>\n",
       "      <td>Colum_Eastwood</td>\n",
       "      <td>datasets/train_test/UK/Colum_Eastwood/34ed6676...</td>\n",
       "      <td>[0.0, 0.0, 0.0, 0.0, 0.0, 0.0, 0.0, 0.0, 0.0, ...</td>\n",
       "      <td>[-0.5544884204864502, -0.8569743633270264, -0....</td>\n",
       "      <td>[2.184706211090088, -0.0652722418308258, 1.080...</td>\n",
       "      <td>[0.03511003777384758, 0.03452041745185852, 0.0...</td>\n",
       "      <td>[-0.008068430237472057, -0.036101341247558594,...</td>\n",
       "      <td>[-0.006040752865374088, 0.07040788978338242, 0...</td>\n",
       "      <td>[-1.4310362339019775, 0.2638978660106659, 1.30...</td>\n",
       "      <td>[-0.047399863600730896, 0.035299383103847504, ...</td>\n",
       "    </tr>\n",
       "    <tr>\n",
       "      <th>5633</th>\n",
       "      <td>UK</td>\n",
       "      <td>Colum_Eastwood</td>\n",
       "      <td>datasets/train_test/UK/Colum_Eastwood/91f94194...</td>\n",
       "      <td>[0.0, 0.0, 0.0, 0.0, 0.0, 0.0, 0.0391710337269...</td>\n",
       "      <td>[-0.07152532041072845, -0.20605503022670746, -...</td>\n",
       "      <td>[0.9783399105072021, 2.2408640384674072, 0.569...</td>\n",
       "      <td>[0.00859181396663189, -0.05297283083200455, -0...</td>\n",
       "      <td>[0.05596322566270828, -0.03871669992804527, -0...</td>\n",
       "      <td>[-0.06889524310827255, 0.009786844253540039, 0...</td>\n",
       "      <td>[-0.8160473704338074, -0.24205103516578674, 2....</td>\n",
       "      <td>[-0.07766005396842957, 0.11862117052078247, 0....</td>\n",
       "    </tr>\n",
       "    <tr>\n",
       "      <th>5634</th>\n",
       "      <td>UK</td>\n",
       "      <td>Colum_Eastwood</td>\n",
       "      <td>datasets/train_test/UK/Colum_Eastwood/e06748c3...</td>\n",
       "      <td>[0.0, 0.0, 0.0, 0.0, 0.0, 0.0, 0.0, 0.0, 0.0, ...</td>\n",
       "      <td>[-0.6166467666625977, -0.7695242166519165, -0....</td>\n",
       "      <td>[0.4142583906650543, 1.9967061281204224, -0.26...</td>\n",
       "      <td>[0.06115628033876419, 0.015252931974828243, 0....</td>\n",
       "      <td>[-0.0935925766825676, 0.05689245089888573, 0.0...</td>\n",
       "      <td>[-0.04928343743085861, 0.07296428084373474, -0...</td>\n",
       "      <td>[0.3500470221042633, 0.3553246855735779, 0.856...</td>\n",
       "      <td>[-0.11556211113929749, 0.05934468284249306, 0....</td>\n",
       "    </tr>\n",
       "    <tr>\n",
       "      <th>5635</th>\n",
       "      <td>UK</td>\n",
       "      <td>Colum_Eastwood</td>\n",
       "      <td>datasets/train_test/UK/Colum_Eastwood/6850bdfa...</td>\n",
       "      <td>[0.0, 0.0, 0.0, 0.0, 0.0, 0.0, 0.0, 0.0, 0.0, ...</td>\n",
       "      <td>[-0.1355416476726532, -0.0023721307516098022, ...</td>\n",
       "      <td>[0.024643901735544205, 0.27904370427131653, -0...</td>\n",
       "      <td>[-0.013674644753336906, 0.0679752379655838, -0...</td>\n",
       "      <td>[0.038969192653894424, -0.3034360706806183, -0...</td>\n",
       "      <td>[-0.05924929305911064, 0.08184205740690231, 0....</td>\n",
       "      <td>[-0.6818053126335144, -0.1525856852531433, 1.8...</td>\n",
       "      <td>[-0.0644160583615303, 0.15071415901184082, 0.0...</td>\n",
       "    </tr>\n",
       "  </tbody>\n",
       "</table>\n",
       "<p>5636 rows × 11 columns</p>\n",
       "</div>"
      ],
      "text/plain": [
       "     country      politician  \\\n",
       "0         UK   Adrian_Ramsay   \n",
       "1         UK   Adrian_Ramsay   \n",
       "2         UK   Adrian_Ramsay   \n",
       "3         UK   Adrian_Ramsay   \n",
       "4         UK   Adrian_Ramsay   \n",
       "...      ...             ...   \n",
       "5631      UK  Colum_Eastwood   \n",
       "5632      UK  Colum_Eastwood   \n",
       "5633      UK  Colum_Eastwood   \n",
       "5634      UK  Colum_Eastwood   \n",
       "5635      UK  Colum_Eastwood   \n",
       "\n",
       "                                             image_path  \\\n",
       "0     datasets/train_test/UK/Adrian_Ramsay/62bf5831_...   \n",
       "1     datasets/train_test/UK/Adrian_Ramsay/c99c3e00_...   \n",
       "2     datasets/train_test/UK/Adrian_Ramsay/c0b212ec_...   \n",
       "3     datasets/train_test/UK/Adrian_Ramsay/fcc56925_...   \n",
       "4     datasets/train_test/UK/Adrian_Ramsay/b5adab40_...   \n",
       "...                                                 ...   \n",
       "5631  datasets/train_test/UK/Colum_Eastwood/ca84b4ea...   \n",
       "5632  datasets/train_test/UK/Colum_Eastwood/34ed6676...   \n",
       "5633  datasets/train_test/UK/Colum_Eastwood/91f94194...   \n",
       "5634  datasets/train_test/UK/Colum_Eastwood/e06748c3...   \n",
       "5635  datasets/train_test/UK/Colum_Eastwood/6850bdfa...   \n",
       "\n",
       "                                     embedding_VGG-Face  \\\n",
       "0     [0.0, 0.0, 0.0, 0.0, 0.0, 0.0, 0.0, 0.0, 0.0, ...   \n",
       "1     [0.0, 0.04321540475950876, 0.0, 0.0, 0.0, 0.00...   \n",
       "2     [0.0, 0.0, 0.0, 0.0, 0.0, 0.0, 0.0, 0.0, 0.0, ...   \n",
       "3     [0.0, 0.0, 0.0, 0.0, 0.0, 0.0, 0.0, 0.05657017...   \n",
       "4     [0.0, 0.01716598686508794, 0.0, 0.0, 0.0, 0.0,...   \n",
       "...                                                 ...   \n",
       "5631  [0.0, 0.0, 0.0, 0.0, 0.0, 0.0, 0.0745370177117...   \n",
       "5632  [0.0, 0.0, 0.0, 0.0, 0.0, 0.0, 0.0, 0.0, 0.0, ...   \n",
       "5633  [0.0, 0.0, 0.0, 0.0, 0.0, 0.0, 0.0391710337269...   \n",
       "5634  [0.0, 0.0, 0.0, 0.0, 0.0, 0.0, 0.0, 0.0, 0.0, ...   \n",
       "5635  [0.0, 0.0, 0.0, 0.0, 0.0, 0.0, 0.0, 0.0, 0.0, ...   \n",
       "\n",
       "                                      embedding_Facenet  \\\n",
       "0     [-0.35135361552238464, -0.42078346014022827, 0...   \n",
       "1     [0.14784598350524902, 2.072838306427002, -2.40...   \n",
       "2     [-0.10455392301082611, -0.30937033891677856, -...   \n",
       "3     [0.9581767320632935, 2.293910264968872, -2.134...   \n",
       "4     [-0.04719257354736328, 0.8895539045333862, -0....   \n",
       "...                                                 ...   \n",
       "5631  [0.44292089343070984, -0.6873096227645874, -1....   \n",
       "5632  [-0.5544884204864502, -0.8569743633270264, -0....   \n",
       "5633  [-0.07152532041072845, -0.20605503022670746, -...   \n",
       "5634  [-0.6166467666625977, -0.7695242166519165, -0....   \n",
       "5635  [-0.1355416476726532, -0.0023721307516098022, ...   \n",
       "\n",
       "                                   embedding_Facenet512  \\\n",
       "0     [-0.17114633321762085, -0.31198209524154663, -...   \n",
       "1     [-0.08605198562145233, -0.9127213954925537, -0...   \n",
       "2     [0.4578588306903839, -0.6233252286911011, -1.7...   \n",
       "3     [-0.4981761872768402, -1.6441878080368042, 0.2...   \n",
       "4     [-0.8663128614425659, -0.8286941051483154, 0.3...   \n",
       "...                                                 ...   \n",
       "5631  [1.0080773830413818, -0.3393586277961731, 0.53...   \n",
       "5632  [2.184706211090088, -0.0652722418308258, 1.080...   \n",
       "5633  [0.9783399105072021, 2.2408640384674072, 0.569...   \n",
       "5634  [0.4142583906650543, 1.9967061281204224, -0.26...   \n",
       "5635  [0.024643901735544205, 0.27904370427131653, -0...   \n",
       "\n",
       "                                     embedding_OpenFace  \\\n",
       "0     [0.06984470784664154, 0.20160618424415588, -0....   \n",
       "1     [0.041459184139966965, 0.03514566645026207, -0...   \n",
       "2     [0.03886430710554123, 0.01809820346534252, 0.1...   \n",
       "3     [-0.09067273885011673, 0.07162158191204071, -0...   \n",
       "4     [0.03145873174071312, 0.013665544800460339, -0...   \n",
       "...                                                 ...   \n",
       "5631  [-0.03013659454882145, 0.015217386186122894, 0...   \n",
       "5632  [0.03511003777384758, 0.03452041745185852, 0.0...   \n",
       "5633  [0.00859181396663189, -0.05297283083200455, -0...   \n",
       "5634  [0.06115628033876419, 0.015252931974828243, 0....   \n",
       "5635  [-0.013674644753336906, 0.0679752379655838, -0...   \n",
       "\n",
       "                                      embedding_ArcFace  \\\n",
       "0     [-0.3318551480770111, 0.8573698997497559, -0.2...   \n",
       "1     [0.13335968554019928, 0.1689140945672989, 0.14...   \n",
       "2     [-0.17943434417247772, 0.4395715594291687, 0.0...   \n",
       "3     [-0.00269246194511652, 0.210192009806633, 0.26...   \n",
       "4     [0.20371617376804352, 0.3974902927875519, 0.31...   \n",
       "...                                                 ...   \n",
       "5631  [0.05982501059770584, 0.096262127161026, 0.125...   \n",
       "5632  [-0.008068430237472057, -0.036101341247558594,...   \n",
       "5633  [0.05596322566270828, -0.03871669992804527, -0...   \n",
       "5634  [-0.0935925766825676, 0.05689245089888573, 0.0...   \n",
       "5635  [0.038969192653894424, -0.3034360706806183, -0...   \n",
       "\n",
       "                                         embedding_Dlib  \\\n",
       "0     [-0.06081914156675339, 0.08557083457708359, 0....   \n",
       "1     [-0.10037916153669357, 0.13561910390853882, 0....   \n",
       "2     [-0.0726579949259758, 0.07826431840658188, 0.1...   \n",
       "3     [-0.10730963945388794, 0.08606453239917755, 0....   \n",
       "4     [-0.06672751903533936, 0.07417088747024536, 0....   \n",
       "...                                                 ...   \n",
       "5631  [-0.11214412748813629, 0.05732250213623047, 0....   \n",
       "5632  [-0.006040752865374088, 0.07040788978338242, 0...   \n",
       "5633  [-0.06889524310827255, 0.009786844253540039, 0...   \n",
       "5634  [-0.04928343743085861, 0.07296428084373474, -0...   \n",
       "5635  [-0.05924929305911064, 0.08184205740690231, 0....   \n",
       "\n",
       "                                        embedding_SFace  \\\n",
       "0     [-0.058141469955444336, 0.06134376674890518, -...   \n",
       "1     [-0.12224884331226349, 0.0031710208859294653, ...   \n",
       "2     [0.9908984303474426, 0.504574716091156, -0.128...   \n",
       "3     [0.17538858950138092, 0.1498776525259018, 0.26...   \n",
       "4     [0.14213977754116058, -0.1026618555188179, -0....   \n",
       "...                                                 ...   \n",
       "5631  [-1.5556674003601074, 0.14174199104309082, 1.7...   \n",
       "5632  [-1.4310362339019775, 0.2638978660106659, 1.30...   \n",
       "5633  [-0.8160473704338074, -0.24205103516578674, 2....   \n",
       "5634  [0.3500470221042633, 0.3553246855735779, 0.856...   \n",
       "5635  [-0.6818053126335144, -0.1525856852531433, 1.8...   \n",
       "\n",
       "                             embedding_face_recognition  \n",
       "0     [-0.08713938295841217, 0.029737146571278572, 0...  \n",
       "1     [-0.05792800337076187, 0.08529047667980194, 0....  \n",
       "2     [-0.07454099506139755, 0.0897434651851654, 0.0...  \n",
       "3     [-0.12896034121513367, 0.09216073155403137, 0....  \n",
       "4     [-0.06910675019025803, 0.08851906657218933, 0....  \n",
       "...                                                 ...  \n",
       "5631  [-0.0771929994225502, 0.01920188032090664, 0.0...  \n",
       "5632  [-0.047399863600730896, 0.035299383103847504, ...  \n",
       "5633  [-0.07766005396842957, 0.11862117052078247, 0....  \n",
       "5634  [-0.11556211113929749, 0.05934468284249306, 0....  \n",
       "5635  [-0.0644160583615303, 0.15071415901184082, 0.0...  \n",
       "\n",
       "[5636 rows x 11 columns]"
      ]
     },
     "execution_count": 22,
     "metadata": {},
     "output_type": "execute_result"
    }
   ],
   "source": [
    "compute_face_embeddings(\n",
    "    base_path=training_path,\n",
    "    output_path=training_path,\n",
    "    country=\"UK\",\n",
    "    models=models\n",
    ")"
   ]
  },
  {
   "cell_type": "code",
   "execution_count": 23,
   "id": "c5101b82",
   "metadata": {},
   "outputs": [
    {
     "name": "stdout",
     "output_type": "stream",
     "text": [
      "Processing Unknown images for UK\n"
     ]
    },
    {
     "name": "stderr",
     "output_type": "stream",
     "text": [
      "Processing unknown images: 100%|██████████| 4476/4476 [37:06<00:00,  2.01it/s]\n"
     ]
    },
    {
     "name": "stdout",
     "output_type": "stream",
     "text": [
      "Saved unknown embeddings to datasets/train_test/UK_unknown_embeddings.parquet\n"
     ]
    }
   ],
   "source": [
    "uk_unknowns = compute_unknown_embeddings(\n",
    "    base_path=training_path,\n",
    "    output_path=training_path,\n",
    "    country=\"UK\",\n",
    "    models=models\n",
    ")"
   ]
  },
  {
   "cell_type": "code",
   "execution_count": null,
   "id": "bc308bbf",
   "metadata": {},
   "outputs": [],
   "source": []
  }
 ],
 "metadata": {
  "kernelspec": {
   "display_name": "eotw_env",
   "language": "python",
   "name": "python3"
  },
  "language_info": {
   "codemirror_mode": {
    "name": "ipython",
    "version": 3
   },
   "file_extension": ".py",
   "mimetype": "text/x-python",
   "name": "python",
   "nbconvert_exporter": "python",
   "pygments_lexer": "ipython3",
   "version": "3.10.18"
  }
 },
 "nbformat": 4,
 "nbformat_minor": 5
}
