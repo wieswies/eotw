{
 "cells": [
  {
   "cell_type": "code",
   "execution_count": 47,
   "id": "a2ce0577",
   "metadata": {},
   "outputs": [],
   "source": [
    "# For necessary data processing and calculations\n",
    "import numpy as np\n",
    "import pandas as pd\n",
    "\n",
    "# For reading and writing files\n",
    "import json\n",
    "import pickle\n",
    "import sys\n",
    "import os\n",
    "import glob\n",
    "import shutil\n",
    "import io\n",
    "from io import BytesIO\n",
    "from pathlib import Path\n",
    "import hashlib\n",
    "import pyarrow\n",
    "import fastparquet\n",
    "import uuid\n",
    "import re\n",
    "\n",
    "# For image processing\n",
    "from PIL import Image, UnidentifiedImageError\n",
    "import dlib\n",
    "import cv2\n",
    "import insightface\n",
    "from insightface.app import FaceAnalysis\n",
    "\n",
    "# For machine learning\n",
    "import tensorflow as tf\n",
    "\n",
    "# For web scraping\n",
    "import html\n",
    "import requests\n",
    "from bs4 import BeautifulSoup\n",
    "from selenium import webdriver\n",
    "from selenium.webdriver.common.by import By\n",
    "from selenium.webdriver.common.keys import Keys\n",
    "from selenium.webdriver.support.ui import WebDriverWait\n",
    "from selenium.webdriver.support import expected_conditions as EC\n",
    "from urllib.parse import urlparse\n",
    "\n",
    "# For tracking programming progress\n",
    "from tqdm import tqdm\n",
    "import time\n",
    "import random"
   ]
  },
  {
   "cell_type": "code",
   "execution_count": 2,
   "id": "1af24e62",
   "metadata": {},
   "outputs": [],
   "source": [
    "import warnings\n",
    "warnings.filterwarnings('ignore', category=FutureWarning)"
   ]
  },
  {
   "cell_type": "code",
   "execution_count": 3,
   "id": "45e3d52d",
   "metadata": {},
   "outputs": [],
   "source": [
    "pd.options.display.max_colwidth = None"
   ]
  },
  {
   "cell_type": "markdown",
   "id": "ea42b4eb",
   "metadata": {},
   "source": [
    "Initalize Insightface"
   ]
  },
  {
   "cell_type": "code",
   "execution_count": 4,
   "id": "07c5080e",
   "metadata": {},
   "outputs": [
    {
     "name": "stderr",
     "output_type": "stream",
     "text": [
      "/Users/wiesruyters/miniconda3/envs/embedding_on_the_wall/lib/python3.10/site-packages/onnxruntime/capi/onnxruntime_inference_collection.py:121: UserWarning: Specified provider 'CUDAExecutionProvider' is not in available provider names.Available providers: 'CPUExecutionProvider'\n",
      "  warnings.warn(\n"
     ]
    },
    {
     "name": "stdout",
     "output_type": "stream",
     "text": [
      "Applied providers: ['CPUExecutionProvider'], with options: {'CPUExecutionProvider': {}}\n",
      "find model: /Users/wiesruyters/.insightface/models/buffalo_l/1k3d68.onnx landmark_3d_68 ['None', 3, 192, 192] 0.0 1.0\n",
      "Applied providers: ['CPUExecutionProvider'], with options: {'CPUExecutionProvider': {}}\n",
      "find model: /Users/wiesruyters/.insightface/models/buffalo_l/2d106det.onnx landmark_2d_106 ['None', 3, 192, 192] 0.0 1.0\n",
      "Applied providers: ['CPUExecutionProvider'], with options: {'CPUExecutionProvider': {}}\n",
      "find model: /Users/wiesruyters/.insightface/models/buffalo_l/det_10g.onnx detection [1, 3, '?', '?'] 127.5 128.0\n",
      "Applied providers: ['CPUExecutionProvider'], with options: {'CPUExecutionProvider': {}}\n",
      "find model: /Users/wiesruyters/.insightface/models/buffalo_l/genderage.onnx genderage ['None', 3, 96, 96] 0.0 1.0\n",
      "Applied providers: ['CPUExecutionProvider'], with options: {'CPUExecutionProvider': {}}\n",
      "find model: /Users/wiesruyters/.insightface/models/buffalo_l/w600k_r50.onnx recognition ['None', 3, 112, 112] 127.5 127.5\n",
      "set det-size: (640, 640)\n"
     ]
    }
   ],
   "source": [
    "app = FaceAnalysis(\n",
    "    name='buffalo_l',\n",
    "    providers=['CUDAExecutionProvider', 'CPUExecutionProvider']\n",
    ")\n",
    "app.prepare(ctx_id=0, det_size=(640, 640))"
   ]
  },
  {
   "cell_type": "code",
   "execution_count": 5,
   "id": "4b8c7f75",
   "metadata": {},
   "outputs": [],
   "source": [
    "def clean_image_urls(df):\n",
    "    \"\"\"\n",
    "    Removes articles with invalid/empty image URLs from DataFrame\n",
    "    Returns cleaned DataFrame and keeps original index\n",
    "    \"\"\"\n",
    "    # Make sure we have the required columns\n",
    "    if 'images' not in df.columns:\n",
    "        raise ValueError(\"DataFrame must contain 'images' column\")\n",
    "    \n",
    "    # Create mask for valid URLs\n",
    "    mask = (\n",
    "        df['images'].notna() & \n",
    "        df['images'].astype(str).str.strip().ne('') &\n",
    "        ~df['images'].astype(str).str.lower().isin(['none', 'nan', 'null']) &\n",
    "        df['images'].astype(str).str.contains('http')\n",
    "    )\n",
    "    \n",
    "    # Filter and clean\n",
    "    clean_df = df[mask].copy()\n",
    "    clean_df.loc[:, 'images'] = clean_df['images'].astype(str).str.strip(\" '\\\"\")\n",
    "    \n",
    "    return clean_df.reset_index(drop=True)\n",
    "\n",
    "def to_list_if_not(value):\n",
    "    if isinstance(value, float) and np.isnan(value):\n",
    "        return []\n",
    "    if not isinstance(value, list):\n",
    "        return [value]\n",
    "    return value\n"
   ]
  },
  {
   "cell_type": "markdown",
   "id": "ffc1356f",
   "metadata": {},
   "source": [
    "Initalize NL & UK datasets"
   ]
  },
  {
   "cell_type": "code",
   "execution_count": 22,
   "id": "4d3c326b",
   "metadata": {},
   "outputs": [],
   "source": [
    "nl_articles = pd.read_parquet('datasets/news/nl_articles_preprocessed.parquet')\n",
    "uk_articles = pd.read_parquet('datasets/news/uk_articles_preprocessed.parquet')"
   ]
  },
  {
   "cell_type": "code",
   "execution_count": 23,
   "id": "5251ffb2",
   "metadata": {},
   "outputs": [],
   "source": [
    "nl_articles['datetime'] = pd.to_datetime(nl_articles['datetime']).dt.tz_localize(None)\n",
    "\n",
    "uk_articles['country'] = 'UK'\n",
    "uk_articles['datetime'] = pd.to_datetime(uk_articles['datetime'], format='mixed')\n",
    "uk_articles = uk_articles[['country', 'outlet', 'id', 'url', 'images', 'datetime', 'category', 'title',\n",
    "       'paragraphs', 'alt_txt']]\n",
    "uk_articles['category'] = uk_articles['category'].apply(lambda x: [] if x=='' else x)"
   ]
  },
  {
   "cell_type": "code",
   "execution_count": 24,
   "id": "5fb7a033",
   "metadata": {},
   "outputs": [],
   "source": [
    "# For testing\n",
    "nl_articles_sample = nl_articles.sample(n=10)\n",
    "uk_articles_sample = uk_articles.sample(n=10)\n",
    "all_articles_sample = pd.concat([nl_articles_sample, uk_articles_sample])\n",
    "\n",
    "img_articles_sample = clean_image_urls(all_articles_sample)"
   ]
  },
  {
   "cell_type": "markdown",
   "id": "42beb140",
   "metadata": {},
   "source": [
    "### Necessary dtype conversions in order to concatenate both countries\n",
    "Create a unique id to store img downloads in order to match them later. <br>\n",
    "Also, create compatible dtypes for rparquet file writing. <br>"
   ]
  },
  {
   "cell_type": "code",
   "execution_count": 25,
   "id": "5ee75f1f",
   "metadata": {},
   "outputs": [],
   "source": [
    "# For final data downloads\n",
    "all_articles = pd.concat([nl_articles, uk_articles])\n",
    "all_articles['datetime'] = pd.to_datetime(all_articles['datetime'])"
   ]
  },
  {
   "cell_type": "code",
   "execution_count": 26,
   "id": "fdb26fff",
   "metadata": {},
   "outputs": [],
   "source": [
    "num_digits = len(str(len(all_articles)))\n",
    "all_articles['id_unique'] = [f\"id{i:0{num_digits}d}\" for i in range(1, len(all_articles)+1)]\n",
    "\n",
    "all_articles['id'] = all_articles['id'].astype(str)\n",
    "all_articles['id_unique'] = all_articles['id_unique'].astype(str)\n",
    "\n",
    "all_articles['category'] = all_articles['category'].apply(to_list_if_not)"
   ]
  },
  {
   "cell_type": "code",
   "execution_count": 27,
   "id": "6daa4510",
   "metadata": {},
   "outputs": [
    {
     "name": "stdout",
     "output_type": "stream",
     "text": [
      "All UK, NL articled concatenated are of shape (94692, 11)\n",
      "and have the following dtypes:\n",
      "country               object\n",
      "outlet                object\n",
      "id                    object\n",
      "url                   object\n",
      "images                object\n",
      "datetime      datetime64[ns]\n",
      "category              object\n",
      "title                 object\n",
      "paragraphs            object\n",
      "alt_txt               object\n",
      "id_unique             object\n",
      "dtype: object\n"
     ]
    }
   ],
   "source": [
    "print(f'All UK, NL articled concatenated are of shape {all_articles.shape}')\n",
    "print(f'and have the following dtypes:')\n",
    "print(f'{all_articles.dtypes}')"
   ]
  },
  {
   "cell_type": "code",
   "execution_count": 28,
   "id": "7c46efa4",
   "metadata": {},
   "outputs": [],
   "source": [
    "# Now save to parquet\n",
    "all_articles.to_parquet('datasets/news/all_articles_with_id.parquet')"
   ]
  },
  {
   "cell_type": "markdown",
   "id": "2c60da54",
   "metadata": {},
   "source": [
    "Filter only rows that feature an image"
   ]
  },
  {
   "cell_type": "code",
   "execution_count": 29,
   "id": "a43469da",
   "metadata": {},
   "outputs": [
    {
     "name": "stdout",
     "output_type": "stream",
     "text": [
      "(20, 10)\n",
      "*******\n",
      "(19, 10)\n"
     ]
    }
   ],
   "source": [
    "# (Debugger)\n",
    "print(all_articles_sample.shape)\n",
    "#print(all_articles_sample['images'])\n",
    "print('*******')\n",
    "print(img_articles_sample.shape)\n",
    "#print(img_articles_sample['images'])"
   ]
  },
  {
   "cell_type": "code",
   "execution_count": 30,
   "id": "3dea0d2a",
   "metadata": {},
   "outputs": [
    {
     "name": "stdout",
     "output_type": "stream",
     "text": [
      "After filtering for articles that have no main image, e.g. because they host a video or liveblog,\n",
      "a dataset of shape (86862, 11) remains.\n"
     ]
    }
   ],
   "source": [
    "img_articles = clean_image_urls(all_articles)\n",
    "print(f'After filtering for articles that have no main image, e.g. because they host a video or liveblog,')\n",
    "print(f'a dataset of shape {img_articles.shape} remains.')"
   ]
  },
  {
   "cell_type": "code",
   "execution_count": 31,
   "id": "7860298b",
   "metadata": {},
   "outputs": [],
   "source": [
    "img_articles.to_parquet('datasets/news/img_articles_with_id.parquet')"
   ]
  },
  {
   "cell_type": "code",
   "execution_count": 32,
   "id": "41181846",
   "metadata": {},
   "outputs": [
    {
     "data": {
      "text/html": [
       "<div>\n",
       "<style scoped>\n",
       "    .dataframe tbody tr th:only-of-type {\n",
       "        vertical-align: middle;\n",
       "    }\n",
       "\n",
       "    .dataframe tbody tr th {\n",
       "        vertical-align: top;\n",
       "    }\n",
       "\n",
       "    .dataframe thead th {\n",
       "        text-align: right;\n",
       "    }\n",
       "</style>\n",
       "<table border=\"1\" class=\"dataframe\">\n",
       "  <thead>\n",
       "    <tr style=\"text-align: right;\">\n",
       "      <th></th>\n",
       "      <th>id</th>\n",
       "      <th>id_unique</th>\n",
       "    </tr>\n",
       "  </thead>\n",
       "  <tbody>\n",
       "    <tr>\n",
       "      <th>0</th>\n",
       "      <td>2503389</td>\n",
       "      <td>id00001</td>\n",
       "    </tr>\n",
       "  </tbody>\n",
       "</table>\n",
       "</div>"
      ],
      "text/plain": [
       "        id id_unique\n",
       "0  2503389   id00001"
      ]
     },
     "execution_count": 32,
     "metadata": {},
     "output_type": "execute_result"
    }
   ],
   "source": [
    "img_articles[['id', 'id_unique']][:1]"
   ]
  },
  {
   "cell_type": "markdown",
   "id": "e75ca59c",
   "metadata": {},
   "source": [
    "Define functions"
   ]
  },
  {
   "cell_type": "code",
   "execution_count": 33,
   "id": "52a65443",
   "metadata": {},
   "outputs": [],
   "source": [
    "def generate_filename(outlet, article_id, id_unique, face_index):\n",
    "    \"\"\"Generates a standardized filename for a cropped face image.\"\"\"\n",
    "    safe_outlet = \"\".join(c for c in outlet if c.isalnum() or c in ('_')).rstrip()\n",
    "    return f\"{safe_outlet}_{article_id}_{id_unique}_{face_index}.jpg\"\n",
    "\n",
    "def download_image(url, timeout=None):\n",
    "    \"\"\"\n",
    "    Robust image downloader with complete validation\n",
    "    \"\"\"\n",
    "        \n",
    "    try:\n",
    "        response = requests.get(\n",
    "            url,\n",
    "            headers={'User-Agent': 'Mozilla/5.0'},\n",
    "            timeout=timeout\n",
    "        )\n",
    "        response.raise_for_status()\n",
    "        \n",
    "        if 'image' not in response.headers.get('Content-Type', '').lower():\n",
    "            print(f\"URL does not point to an image: {url}\")\n",
    "            return None\n",
    "            \n",
    "        image = cv2.imdecode(np.frombuffer(response.content, np.uint8), cv2.IMREAD_COLOR)\n",
    "        return image if image is not None else None\n",
    "        \n",
    "    except Exception as e:\n",
    "        print(f\"Error downloading {url}: {str(e)}\")\n",
    "        return None\n",
    "\n",
    "def process_and_save_faces(df, output_base, face_app, skip_existing=True, start_index=0, progress_file='progress_index.txt'):\n",
    "    \"\"\"\n",
    "    Processes DataFrame to download images, detect faces, and save them\n",
    "    \"\"\"\n",
    "    successful_saves = []\n",
    "    failed_articles = []\n",
    "\n",
    "    # Initialize progress bar\n",
    "    for i, row in tqdm(df.iterrows(), total=len(df), desc=\"Processing...\"):\n",
    "        current_global_index = start_index + i\n",
    "\n",
    "        try:\n",
    "            # Extract data with validation\n",
    "            country = str(row.get('country', ''))\n",
    "            outlet = str(row.get('outlet', ''))\n",
    "            article_id = str(row.get('id', ''))\n",
    "            id_unique = str(row.get('id_unique', ''))\n",
    "            img_url = str(row.get('images', ''))\n",
    "            article_url = str(row.get('url', ''))\n",
    "            \n",
    "            # Validate required fields\n",
    "            if not all([country, outlet, article_id, img_url]):\n",
    "                failed_articles.append({\n",
    "                    'outlet': outlet,\n",
    "                    'id': article_id,\n",
    "                    'id_unique': id_unique,\n",
    "                    'url': article_url,\n",
    "                    'image': img_url,\n",
    "                    'reason': 'Missing required field(s)'\n",
    "                })\n",
    "                continue\n",
    "\n",
    "            with open(progress_file, 'w') as f:\n",
    "                f.write(str(current_global_index + 1))\n",
    "                \n",
    "            # Set output directory\n",
    "            output_dir = os.path.join(output_base, country, outlet)\n",
    "            os.makedirs(output_dir, exist_ok=True)\n",
    "            \n",
    "            # Download image with retries\n",
    "            img = None\n",
    "            for attempt in range(3):\n",
    "                img = download_image(img_url)\n",
    "                if img is not None:\n",
    "                    break\n",
    "                time.sleep(1)\n",
    "            \n",
    "            if img is None:\n",
    "                failed_articles.append({\n",
    "                    'outlet': outlet,\n",
    "                    'id': article_id,\n",
    "                    'id_unique': id_unique,\n",
    "                    'url': article_url,\n",
    "                    'image': img_url,\n",
    "                    'reason': f'Failed to download image'\n",
    "                })\n",
    "                continue\n",
    "                \n",
    "            # Face detection and processing\n",
    "            faces = face_app.get(img)\n",
    "            faces = [face for face in faces if face.det_score > 0.6]\n",
    "            \n",
    "            for i, face in enumerate(faces):\n",
    "                face_filename = generate_filename(outlet, article_id, id_unique, i)\n",
    "                save_path = os.path.join(output_dir, face_filename)\n",
    "                \n",
    "                if skip_existing and os.path.exists(save_path):\n",
    "                    continue\n",
    "                    \n",
    "                # Process and save face crop\n",
    "                bbox = face.bbox.astype(int)\n",
    "                x1, y1, x2, y2 = bbox\n",
    "                pad_w, pad_h = int(0.35 * (x2-x1)), int(0.35 * (y2-y1))\n",
    "                \n",
    "                x1 = max(0, x1 - pad_w)\n",
    "                y1 = max(0, y1 - pad_h)\n",
    "                x2 = min(img.shape[1], x2 + pad_w)\n",
    "                y2 = min(img.shape[0], y2 + pad_h)\n",
    "                \n",
    "                face_crop = img[y1:y2, x1:x2]\n",
    "                if face_crop.size == 0:\n",
    "                    continue\n",
    "                    \n",
    "                cv2.imwrite(save_path, face_crop, [int(cv2.IMWRITE_JPEG_QUALITY), 90])\n",
    "                successful_saves.append(save_path)\n",
    "                \n",
    "                time.sleep(0.75)\n",
    "\n",
    "        except Exception as e:\n",
    "            failed_articles.append({\n",
    "                'outlet': outlet if 'outlet' in locals() else 'unknown',\n",
    "                'id': article_id if 'article_id' in locals() else 'unknown',\n",
    "                'id_unique': id_unique if 'id_unique' in locals() else 'unknown',\n",
    "                'url': article_url if 'article_url' in locals() else 'unknown',\n",
    "                'image': img_url if 'image_url' in locals() else 'unknown',\n",
    "                'reason': f'Unexpected error: {str(e)}'\n",
    "            })\n",
    "            \n",
    "    return successful_saves, failed_articles"
   ]
  },
  {
   "cell_type": "code",
   "execution_count": 34,
   "id": "3cf1e02e",
   "metadata": {},
   "outputs": [],
   "source": [
    "OUTPUT_BASE = 'datasets/news/UK-NL__news_faces'\n",
    "os.makedirs(OUTPUT_BASE, exist_ok=True)"
   ]
  },
  {
   "cell_type": "code",
   "execution_count": 35,
   "id": "0bf54b5f",
   "metadata": {},
   "outputs": [
    {
     "name": "stdout",
     "output_type": "stream",
     "text": [
      "Starting to process 86862 articles...\n"
     ]
    },
    {
     "name": "stderr",
     "output_type": "stream",
     "text": [
      "Processing...:   7%|▋         | 5746/86862 [3:27:12<54:16:40,  2.41s/it]  "
     ]
    },
    {
     "name": "stdout",
     "output_type": "stream",
     "text": [
      "Error downloading https://media.nu.nl/m/6hyxw7ka42lm_wd854: 500 Server Error: Internal Server Error for url: https://media.nu.nl/m/6hyxw7ka42lm_wd854\n"
     ]
    },
    {
     "name": "stderr",
     "output_type": "stream",
     "text": [
      "Processing...:   7%|▋         | 5752/86862 [3:28:05<127:55:53,  5.68s/it]"
     ]
    },
    {
     "name": "stdout",
     "output_type": "stream",
     "text": [
      "Error downloading https://media.nu.nl/m/k0jx258aztth_wd854: 500 Server Error: Internal Server Error for url: https://media.nu.nl/m/k0jx258aztth_wd854\n"
     ]
    },
    {
     "name": "stderr",
     "output_type": "stream",
     "text": [
      "Processing...:   7%|▋         | 5761/86862 [3:28:53<59:01:09,  2.62s/it] "
     ]
    },
    {
     "name": "stdout",
     "output_type": "stream",
     "text": [
      "Error downloading https://media.nu.nl/m/4qkxds1aqs4h_wd854: 500 Server Error: Internal Server Error for url: https://media.nu.nl/m/4qkxds1aqs4h_wd854\n"
     ]
    },
    {
     "name": "stderr",
     "output_type": "stream",
     "text": [
      "Processing...:   7%|▋         | 5827/86862 [3:33:09<82:22:18,  3.66s/it] "
     ]
    },
    {
     "name": "stdout",
     "output_type": "stream",
     "text": [
      "Error downloading https://media.nu.nl/m/1kax8eqaahtn_wd854: 500 Server Error: Internal Server Error for url: https://media.nu.nl/m/1kax8eqaahtn_wd854\n"
     ]
    },
    {
     "name": "stderr",
     "output_type": "stream",
     "text": [
      "Processing...:   7%|▋         | 5843/86862 [3:34:40<71:12:45,  3.16s/it] "
     ]
    },
    {
     "name": "stdout",
     "output_type": "stream",
     "text": [
      "Error downloading https://media.nu.nl/m/1vmx6d1a0glg_wd854: 500 Server Error: Internal Server Error for url: https://media.nu.nl/m/1vmx6d1a0glg_wd854\n"
     ]
    },
    {
     "name": "stderr",
     "output_type": "stream",
     "text": [
      "Processing...:   7%|▋         | 5883/86862 [3:37:43<105:57:02,  4.71s/it]"
     ]
    },
    {
     "name": "stdout",
     "output_type": "stream",
     "text": [
      "Error downloading https://media.nu.nl/m/rbsx7qiawj7u_wd854: 500 Server Error: Internal Server Error for url: https://media.nu.nl/m/rbsx7qiawj7u_wd854\n"
     ]
    },
    {
     "name": "stderr",
     "output_type": "stream",
     "text": [
      "Processing...:   7%|▋         | 5885/86862 [3:38:18<219:29:08,  9.76s/it]"
     ]
    },
    {
     "name": "stdout",
     "output_type": "stream",
     "text": [
      "Error downloading https://media.nu.nl/m/uy2xoynaandt_wd854: 500 Server Error: Internal Server Error for url: https://media.nu.nl/m/uy2xoynaandt_wd854\n",
      "Error downloading https://media.nu.nl/m/uy2xoynaandt_wd854: 500 Server Error: Internal Server Error for url: https://media.nu.nl/m/uy2xoynaandt_wd854\n",
      "Error downloading https://media.nu.nl/m/uy2xoynaandt_wd854: 500 Server Error: Internal Server Error for url: https://media.nu.nl/m/uy2xoynaandt_wd854\n"
     ]
    },
    {
     "name": "stderr",
     "output_type": "stream",
     "text": [
      "Processing...:   7%|▋         | 5912/86862 [3:41:19<57:05:09,  2.54s/it] "
     ]
    },
    {
     "name": "stdout",
     "output_type": "stream",
     "text": [
      "Error downloading https://media.nu.nl/m/t83xev9aokel_wd854: 500 Server Error: Internal Server Error for url: https://media.nu.nl/m/t83xev9aokel_wd854\n"
     ]
    },
    {
     "name": "stderr",
     "output_type": "stream",
     "text": [
      "Processing...:   7%|▋         | 5946/86862 [3:43:47<72:45:16,  3.24s/it] "
     ]
    },
    {
     "name": "stdout",
     "output_type": "stream",
     "text": [
      "Error downloading https://media.nu.nl/m/jb3x2eaadznc_wd854: 500 Server Error: Internal Server Error for url: https://media.nu.nl/m/jb3x2eaadznc_wd854\n"
     ]
    },
    {
     "name": "stderr",
     "output_type": "stream",
     "text": [
      "Processing...:   7%|▋         | 5973/86862 [3:45:56<82:41:16,  3.68s/it] "
     ]
    },
    {
     "name": "stdout",
     "output_type": "stream",
     "text": [
      "Error downloading https://media.nu.nl/m/67wxibvam1vq_wd854: 500 Server Error: Internal Server Error for url: https://media.nu.nl/m/67wxibvam1vq_wd854\n"
     ]
    },
    {
     "name": "stderr",
     "output_type": "stream",
     "text": [
      "Processing...:   7%|▋         | 5997/86862 [3:47:43<72:02:22,  3.21s/it] "
     ]
    },
    {
     "name": "stdout",
     "output_type": "stream",
     "text": [
      "Error downloading https://media.nu.nl/m/qxnx14nad9gb_wd854: 500 Server Error: Internal Server Error for url: https://media.nu.nl/m/qxnx14nad9gb_wd854\n"
     ]
    },
    {
     "name": "stderr",
     "output_type": "stream",
     "text": [
      "Processing...:   7%|▋         | 6059/86862 [3:51:59<95:09:29,  4.24s/it] "
     ]
    },
    {
     "name": "stdout",
     "output_type": "stream",
     "text": [
      "Error downloading https://media.nu.nl/m/l8dx7ugabzcn_wd854: 500 Server Error: Internal Server Error for url: https://media.nu.nl/m/l8dx7ugabzcn_wd854\n"
     ]
    },
    {
     "name": "stderr",
     "output_type": "stream",
     "text": [
      "Processing...:   7%|▋         | 6064/86862 [3:52:41<127:01:54,  5.66s/it]"
     ]
    },
    {
     "name": "stdout",
     "output_type": "stream",
     "text": [
      "Error downloading https://media.nu.nl/m/hfexuw7af88e_wd854: 500 Server Error: Internal Server Error for url: https://media.nu.nl/m/hfexuw7af88e_wd854\n",
      "Error downloading https://media.nu.nl/m/hfexuw7af88e_wd854: 500 Server Error: Internal Server Error for url: https://media.nu.nl/m/hfexuw7af88e_wd854\n",
      "Error downloading https://media.nu.nl/m/hfexuw7af88e_wd854: 500 Server Error: Internal Server Error for url: https://media.nu.nl/m/hfexuw7af88e_wd854\n"
     ]
    },
    {
     "name": "stderr",
     "output_type": "stream",
     "text": [
      "Processing...:   7%|▋         | 6068/86862 [3:54:03<247:02:08, 11.01s/it]"
     ]
    },
    {
     "name": "stdout",
     "output_type": "stream",
     "text": [
      "Error downloading https://media.nu.nl/m/isfxzkbagj4j_wd854: 500 Server Error: Internal Server Error for url: https://media.nu.nl/m/isfxzkbagj4j_wd854\n"
     ]
    },
    {
     "name": "stderr",
     "output_type": "stream",
     "text": [
      "Processing...:   7%|▋         | 6140/86862 [3:59:21<67:31:54,  3.01s/it] "
     ]
    },
    {
     "name": "stdout",
     "output_type": "stream",
     "text": [
      "Error downloading https://media.nu.nl/m/ro6xcmya1z47_wd854: 500 Server Error: Internal Server Error for url: https://media.nu.nl/m/ro6xcmya1z47_wd854\n"
     ]
    },
    {
     "name": "stderr",
     "output_type": "stream",
     "text": [
      "Processing...:   7%|▋         | 6156/86862 [4:00:46<66:24:12,  2.96s/it] "
     ]
    },
    {
     "name": "stdout",
     "output_type": "stream",
     "text": [
      "Error downloading https://media.nu.nl/m/zc3xdsaatel2_wd854: 500 Server Error: Internal Server Error for url: https://media.nu.nl/m/zc3xdsaatel2_wd854\n"
     ]
    },
    {
     "name": "stderr",
     "output_type": "stream",
     "text": [
      "Processing...:   7%|▋         | 6196/86862 [4:03:34<56:42:41,  2.53s/it] "
     ]
    },
    {
     "name": "stdout",
     "output_type": "stream",
     "text": [
      "Error downloading https://media.nu.nl/m/zehx18yapc3x_wd854: 500 Server Error: Internal Server Error for url: https://media.nu.nl/m/zehx18yapc3x_wd854\n"
     ]
    },
    {
     "name": "stderr",
     "output_type": "stream",
     "text": [
      "Processing...:   7%|▋         | 6215/86862 [4:05:01<125:09:54,  5.59s/it]"
     ]
    },
    {
     "name": "stdout",
     "output_type": "stream",
     "text": [
      "Error downloading https://media.nu.nl/m/g55xm00ane5z_wd854: 500 Server Error: Internal Server Error for url: https://media.nu.nl/m/g55xm00ane5z_wd854\n"
     ]
    },
    {
     "name": "stderr",
     "output_type": "stream",
     "text": [
      "Processing...:   7%|▋         | 6226/86862 [4:06:16<88:53:18,  3.97s/it] "
     ]
    },
    {
     "name": "stdout",
     "output_type": "stream",
     "text": [
      "Error downloading https://media.nu.nl/m/qx6xjjcaxslq_wd854: 500 Server Error: Internal Server Error for url: https://media.nu.nl/m/qx6xjjcaxslq_wd854\n"
     ]
    },
    {
     "name": "stderr",
     "output_type": "stream",
     "text": [
      "Processing...:   7%|▋         | 6239/86862 [4:07:38<97:41:38,  4.36s/it] "
     ]
    },
    {
     "name": "stdout",
     "output_type": "stream",
     "text": [
      "Error downloading https://media.nu.nl/m/dwhx6vwa2z96_wd854: 500 Server Error: Internal Server Error for url: https://media.nu.nl/m/dwhx6vwa2z96_wd854\n"
     ]
    },
    {
     "name": "stderr",
     "output_type": "stream",
     "text": [
      "Processing...:   7%|▋         | 6276/86862 [4:10:54<73:41:57,  3.29s/it] "
     ]
    },
    {
     "name": "stdout",
     "output_type": "stream",
     "text": [
      "Error downloading https://media.nu.nl/m/8a1xltsa5w4h_wd854: 500 Server Error: Internal Server Error for url: https://media.nu.nl/m/8a1xltsa5w4h_wd854\n"
     ]
    },
    {
     "name": "stderr",
     "output_type": "stream",
     "text": [
      "Processing...:   7%|▋         | 6296/86862 [4:12:19<48:25:42,  2.16s/it] "
     ]
    },
    {
     "name": "stdout",
     "output_type": "stream",
     "text": [
      "Error downloading https://media.nu.nl/m/pxsxys0a6x4q_wd854: 500 Server Error: Internal Server Error for url: https://media.nu.nl/m/pxsxys0a6x4q_wd854\n"
     ]
    },
    {
     "name": "stderr",
     "output_type": "stream",
     "text": [
      "Processing...:   7%|▋         | 6317/86862 [4:13:58<52:04:11,  2.33s/it] "
     ]
    },
    {
     "name": "stdout",
     "output_type": "stream",
     "text": [
      "Error downloading https://media.nu.nl/m/fsjxteeadvax_wd854: 500 Server Error: Internal Server Error for url: https://media.nu.nl/m/fsjxteeadvax_wd854\n"
     ]
    },
    {
     "name": "stderr",
     "output_type": "stream",
     "text": [
      "Processing...:   7%|▋         | 6356/86862 [4:17:11<89:29:38,  4.00s/it] "
     ]
    },
    {
     "name": "stdout",
     "output_type": "stream",
     "text": [
      "Error downloading https://media.nu.nl/m/z70xbdba4cd7_wd854: 500 Server Error: Internal Server Error for url: https://media.nu.nl/m/z70xbdba4cd7_wd854\n"
     ]
    },
    {
     "name": "stderr",
     "output_type": "stream",
     "text": [
      "Processing...:   7%|▋         | 6363/86862 [4:18:09<130:03:15,  5.82s/it]"
     ]
    },
    {
     "name": "stdout",
     "output_type": "stream",
     "text": [
      "Error downloading https://media.nu.nl/m/3o9xz33a42xo_wd854: 500 Server Error: Internal Server Error for url: https://media.nu.nl/m/3o9xz33a42xo_wd854\n",
      "Error downloading https://media.nu.nl/m/3o9xz33a42xo_wd854: 500 Server Error: Internal Server Error for url: https://media.nu.nl/m/3o9xz33a42xo_wd854\n"
     ]
    },
    {
     "name": "stderr",
     "output_type": "stream",
     "text": [
      "Processing...:   7%|▋         | 6416/86862 [4:21:58<78:24:25,  3.51s/it] "
     ]
    },
    {
     "name": "stdout",
     "output_type": "stream",
     "text": [
      "Error downloading https://media.nu.nl/m/j6exfjsaefzr_wd854: 500 Server Error: Internal Server Error for url: https://media.nu.nl/m/j6exfjsaefzr_wd854\n"
     ]
    },
    {
     "name": "stderr",
     "output_type": "stream",
     "text": [
      "Processing...:   7%|▋         | 6417/86862 [4:22:24<235:16:50, 10.53s/it]"
     ]
    },
    {
     "name": "stdout",
     "output_type": "stream",
     "text": [
      "Error downloading https://media.nu.nl/m/ql7xks0aq2rm_wd854: 500 Server Error: Internal Server Error for url: https://media.nu.nl/m/ql7xks0aq2rm_wd854\n"
     ]
    },
    {
     "name": "stderr",
     "output_type": "stream",
     "text": [
      "Processing...:   7%|▋         | 6440/86862 [4:24:01<79:52:54,  3.58s/it] "
     ]
    },
    {
     "name": "stdout",
     "output_type": "stream",
     "text": [
      "Error downloading https://media.nu.nl/m/fgtxur1ampo9_wd854: 500 Server Error: Internal Server Error for url: https://media.nu.nl/m/fgtxur1ampo9_wd854\n"
     ]
    },
    {
     "name": "stderr",
     "output_type": "stream",
     "text": [
      "Processing...:   7%|▋         | 6442/86862 [4:24:49<283:30:36, 12.69s/it]"
     ]
    },
    {
     "name": "stdout",
     "output_type": "stream",
     "text": [
      "Error downloading https://media.nu.nl/m/hhzxyimaopyk_wd854: 500 Server Error: Internal Server Error for url: https://media.nu.nl/m/hhzxyimaopyk_wd854\n"
     ]
    },
    {
     "name": "stderr",
     "output_type": "stream",
     "text": [
      "Processing...:   7%|▋         | 6446/86862 [4:25:37<211:37:13,  9.47s/it]"
     ]
    },
    {
     "name": "stdout",
     "output_type": "stream",
     "text": [
      "Error downloading https://media.nu.nl/m/oakx04najwbx_wd854: 500 Server Error: Internal Server Error for url: https://media.nu.nl/m/oakx04najwbx_wd854\n",
      "Error downloading https://media.nu.nl/m/oakx04najwbx_wd854: 500 Server Error: Internal Server Error for url: https://media.nu.nl/m/oakx04najwbx_wd854\n"
     ]
    },
    {
     "name": "stderr",
     "output_type": "stream",
     "text": [
      "Processing...:   7%|▋         | 6460/86862 [4:27:27<104:33:59,  4.68s/it]"
     ]
    },
    {
     "name": "stdout",
     "output_type": "stream",
     "text": [
      "Error downloading https://media.nu.nl/m/pspxyaaas3g8_wd854: 500 Server Error: Internal Server Error for url: https://media.nu.nl/m/pspxyaaas3g8_wd854\n"
     ]
    },
    {
     "name": "stderr",
     "output_type": "stream",
     "text": [
      "Processing...:   7%|▋         | 6487/86862 [4:29:09<52:54:11,  2.37s/it] "
     ]
    },
    {
     "name": "stdout",
     "output_type": "stream",
     "text": [
      "Error downloading https://media.nu.nl/m/aycxaxxamphf_wd854: 500 Server Error: Internal Server Error for url: https://media.nu.nl/m/aycxaxxamphf_wd854\n",
      "Error downloading https://media.nu.nl/m/aycxaxxamphf_wd854: 500 Server Error: Internal Server Error for url: https://media.nu.nl/m/aycxaxxamphf_wd854\n"
     ]
    },
    {
     "name": "stderr",
     "output_type": "stream",
     "text": [
      "Processing...:   7%|▋         | 6510/86862 [4:31:26<74:10:05,  3.32s/it] "
     ]
    },
    {
     "name": "stdout",
     "output_type": "stream",
     "text": [
      "Error downloading https://media.nu.nl/m/81exhoqao2c2_wd854: 500 Server Error: Internal Server Error for url: https://media.nu.nl/m/81exhoqao2c2_wd854\n"
     ]
    },
    {
     "name": "stderr",
     "output_type": "stream",
     "text": [
      "Processing...:   8%|▊         | 6516/86862 [4:32:07<84:36:25,  3.79s/it] "
     ]
    },
    {
     "name": "stdout",
     "output_type": "stream",
     "text": [
      "Error downloading https://media.nu.nl/m/mofxfcia4vgr_wd854: 500 Server Error: Internal Server Error for url: https://media.nu.nl/m/mofxfcia4vgr_wd854\n"
     ]
    },
    {
     "name": "stderr",
     "output_type": "stream",
     "text": [
      "Processing...:   8%|▊         | 6529/86862 [4:33:40<109:25:58,  4.90s/it]"
     ]
    },
    {
     "name": "stdout",
     "output_type": "stream",
     "text": [
      "Error downloading https://media.nu.nl/m/0jwxbmya7wqh_wd854: 500 Server Error: Internal Server Error for url: https://media.nu.nl/m/0jwxbmya7wqh_wd854\n"
     ]
    },
    {
     "name": "stderr",
     "output_type": "stream",
     "text": [
      "Processing...:   8%|▊         | 6583/86862 [4:37:11<72:25:59,  3.25s/it] "
     ]
    },
    {
     "name": "stdout",
     "output_type": "stream",
     "text": [
      "Error downloading https://media.nu.nl/m/qflx01ga1ssb_wd854: 500 Server Error: Internal Server Error for url: https://media.nu.nl/m/qflx01ga1ssb_wd854\n"
     ]
    },
    {
     "name": "stderr",
     "output_type": "stream",
     "text": [
      "Processing...:   8%|▊         | 6585/86862 [4:37:42<186:30:56,  8.36s/it]"
     ]
    },
    {
     "name": "stdout",
     "output_type": "stream",
     "text": [
      "Error downloading https://media.nu.nl/m/gjzxdtraa2r7_wd854: 500 Server Error: Internal Server Error for url: https://media.nu.nl/m/gjzxdtraa2r7_wd854\n"
     ]
    },
    {
     "name": "stderr",
     "output_type": "stream",
     "text": [
      "Processing...:   8%|▊         | 6607/86862 [4:39:28<77:55:07,  3.50s/it] "
     ]
    },
    {
     "name": "stdout",
     "output_type": "stream",
     "text": [
      "Error downloading https://media.nu.nl/m/5gjxypoaptn2_wd854: 500 Server Error: Internal Server Error for url: https://media.nu.nl/m/5gjxypoaptn2_wd854\n",
      "Error downloading https://media.nu.nl/m/5gjxypoaptn2_wd854: 500 Server Error: Internal Server Error for url: https://media.nu.nl/m/5gjxypoaptn2_wd854\n"
     ]
    },
    {
     "name": "stderr",
     "output_type": "stream",
     "text": [
      "Processing...:   8%|▊         | 6612/86862 [4:40:38<151:02:57,  6.78s/it]"
     ]
    },
    {
     "name": "stdout",
     "output_type": "stream",
     "text": [
      "Error downloading https://media.nu.nl/m/3d3x7qwamjg5_wd854: 500 Server Error: Internal Server Error for url: https://media.nu.nl/m/3d3x7qwamjg5_wd854\n",
      "Error downloading https://media.nu.nl/m/3d3x7qwamjg5_wd854: 500 Server Error: Internal Server Error for url: https://media.nu.nl/m/3d3x7qwamjg5_wd854\n"
     ]
    },
    {
     "name": "stderr",
     "output_type": "stream",
     "text": [
      "Processing...:   8%|▊         | 6629/86862 [4:42:53<114:04:20,  5.12s/it]"
     ]
    },
    {
     "name": "stdout",
     "output_type": "stream",
     "text": [
      "Error downloading https://media.nu.nl/m/49pxparahmhe_wd854: 500 Server Error: Internal Server Error for url: https://media.nu.nl/m/49pxparahmhe_wd854\n"
     ]
    },
    {
     "name": "stderr",
     "output_type": "stream",
     "text": [
      "Processing...:   8%|▊         | 6671/86862 [4:46:01<63:43:17,  2.86s/it] "
     ]
    },
    {
     "name": "stdout",
     "output_type": "stream",
     "text": [
      "Error downloading https://media.nu.nl/m/3qmx17pawqxe_wd854: 500 Server Error: Internal Server Error for url: https://media.nu.nl/m/3qmx17pawqxe_wd854\n"
     ]
    },
    {
     "name": "stderr",
     "output_type": "stream",
     "text": [
      "Processing...:   8%|▊         | 6678/86862 [4:47:02<153:24:57,  6.89s/it]"
     ]
    },
    {
     "name": "stdout",
     "output_type": "stream",
     "text": [
      "Error downloading https://media.nu.nl/m/3zax5uoad2gy_wd854: 500 Server Error: Internal Server Error for url: https://media.nu.nl/m/3zax5uoad2gy_wd854\n"
     ]
    },
    {
     "name": "stderr",
     "output_type": "stream",
     "text": [
      "Processing...:   8%|▊         | 6715/86862 [4:50:50<120:53:32,  5.43s/it]"
     ]
    },
    {
     "name": "stdout",
     "output_type": "stream",
     "text": [
      "Error downloading https://media.nu.nl/m/gnzxx9ea7ya2_wd854: 500 Server Error: Internal Server Error for url: https://media.nu.nl/m/gnzxx9ea7ya2_wd854\n"
     ]
    },
    {
     "name": "stderr",
     "output_type": "stream",
     "text": [
      "Processing...:  11%|█         | 9187/86862 [7:24:36<57:56:41,  2.69s/it] "
     ]
    },
    {
     "name": "stdout",
     "output_type": "stream",
     "text": [
      "Error downloading https://media.nu.nl/m/ve2xecqa8pre_wd854: 500 Server Error: Internal Server Error for url: https://media.nu.nl/m/ve2xecqa8pre_wd854\n"
     ]
    },
    {
     "name": "stderr",
     "output_type": "stream",
     "text": [
      "Processing...:  12%|█▏        | 10055/86862 [8:19:12<71:10:16,  3.34s/it] "
     ]
    },
    {
     "name": "stdout",
     "output_type": "stream",
     "text": [
      "Error downloading https://media.nu.nl/m/e6mxupvafq1c_wd854: 404 Client Error: Not Found for url: https://media.nu.nl/m/e6mxupvafq1c_wd854\n"
     ]
    },
    {
     "name": "stderr",
     "output_type": "stream",
     "text": [
      "Processing...:  12%|█▏        | 10275/86862 [8:35:55<46:58:57,  2.21s/it] "
     ]
    },
    {
     "name": "stdout",
     "output_type": "stream",
     "text": [
      "Error downloading https://media.nu.nl/m/4zux03xap9k6_wd854: 504 Server Error: Gateway Time-out for url: https://media.nu.nl/m/4zux03xap9k6_wd854\n",
      "Error downloading https://media.nu.nl/m/4zux03xap9k6_wd854: 504 Server Error: Gateway Time-out for url: https://media.nu.nl/m/4zux03xap9k6_wd854\n",
      "Error downloading https://media.nu.nl/m/4zux03xap9k6_wd854: 504 Server Error: Gateway Time-out for url: https://media.nu.nl/m/4zux03xap9k6_wd854\n"
     ]
    },
    {
     "name": "stderr",
     "output_type": "stream",
     "text": [
      "Processing...:  14%|█▎        | 11807/86862 [9:44:04<30:13:21,  1.45s/it] "
     ]
    },
    {
     "name": "stdout",
     "output_type": "stream",
     "text": [
      "Error downloading https://ichef.bbci.co.uk/news/480/cpsprodpb/B186/production/_133064454_boatrepairstill.jpg.webp: 502 Server Error: Bad Gateway for url: https://ichef.bbci.co.uk/news/480/cpsprodpb/B186/production/_133064454_boatrepairstill.jpg.webp\n"
     ]
    },
    {
     "name": "stderr",
     "output_type": "stream",
     "text": [
      "Processing...:  16%|█▌        | 13672/86862 [10:23:39<110:25:54,  5.43s/it]"
     ]
    },
    {
     "name": "stdout",
     "output_type": "stream",
     "text": [
      "Error downloading https://ichef.bbci.co.uk/news/480/cpsprodpb/c4ac/live/f1ef6600-f71b-11ee-af97-c31fb967c02d.jpg.webp: 502 Server Error: Bad Gateway for url: https://ichef.bbci.co.uk/news/480/cpsprodpb/c4ac/live/f1ef6600-f71b-11ee-af97-c31fb967c02d.jpg.webp\n"
     ]
    },
    {
     "name": "stderr",
     "output_type": "stream",
     "text": [
      "Processing...:  22%|██▏       | 18913/86862 [12:21:02<13:09:01,  1.44it/s] "
     ]
    },
    {
     "name": "stdout",
     "output_type": "stream",
     "text": [
      "Error downloading https://ichef.bbci.co.uk/news/480/cpsprodpb/6c8a/live/fa58ea10-0548-11ef-b9d8-4f52aebe147d.jpg.webp: 502 Server Error: Bad Gateway for url: https://ichef.bbci.co.uk/news/480/cpsprodpb/6c8a/live/fa58ea10-0548-11ef-b9d8-4f52aebe147d.jpg.webp\n"
     ]
    },
    {
     "name": "stderr",
     "output_type": "stream",
     "text": [
      "Processing...:  23%|██▎       | 20216/86862 [12:50:41<14:43:15,  1.26it/s] "
     ]
    },
    {
     "name": "stdout",
     "output_type": "stream",
     "text": [
      "Error downloading https://ichef.bbci.co.uk/news/480/cpsprodpb/c287/live/d8d7ac20-087a-11ef-806d-f7f83a5f5a2f.jpg.webp: 502 Server Error: Bad Gateway for url: https://ichef.bbci.co.uk/news/480/cpsprodpb/c287/live/d8d7ac20-087a-11ef-806d-f7f83a5f5a2f.jpg.webp\n"
     ]
    },
    {
     "name": "stderr",
     "output_type": "stream",
     "text": [
      "Processing...:  25%|██▍       | 21352/86862 [13:23:46<41:06:03,  2.26s/it] \n"
     ]
    },
    {
     "ename": "KeyboardInterrupt",
     "evalue": "",
     "output_type": "error",
     "traceback": [
      "\u001b[0;31m---------------------------------------------------------------------------\u001b[0m",
      "\u001b[0;31mKeyboardInterrupt\u001b[0m                         Traceback (most recent call last)",
      "Cell \u001b[0;32mIn[35], line 2\u001b[0m\n\u001b[1;32m      1\u001b[0m \u001b[38;5;28mprint\u001b[39m(\u001b[38;5;124mf\u001b[39m\u001b[38;5;124m\"\u001b[39m\u001b[38;5;124mStarting to process \u001b[39m\u001b[38;5;132;01m{\u001b[39;00m\u001b[38;5;28mlen\u001b[39m(img_articles)\u001b[38;5;132;01m}\u001b[39;00m\u001b[38;5;124m articles...\u001b[39m\u001b[38;5;124m\"\u001b[39m)\n\u001b[0;32m----> 2\u001b[0m successful_saves, failed_articles \u001b[38;5;241m=\u001b[39m \u001b[43mprocess_and_save_faces\u001b[49m\u001b[43m(\u001b[49m\n\u001b[1;32m      3\u001b[0m \u001b[43m    \u001b[49m\u001b[43mdf\u001b[49m\u001b[38;5;241;43m=\u001b[39;49m\u001b[43mimg_articles\u001b[49m\u001b[43m,\u001b[49m\n\u001b[1;32m      4\u001b[0m \u001b[43m    \u001b[49m\u001b[43moutput_base\u001b[49m\u001b[38;5;241;43m=\u001b[39;49m\u001b[43mOUTPUT_BASE\u001b[49m\u001b[43m,\u001b[49m\n\u001b[1;32m      5\u001b[0m \u001b[43m    \u001b[49m\u001b[43mface_app\u001b[49m\u001b[38;5;241;43m=\u001b[39;49m\u001b[43mapp\u001b[49m\u001b[43m,\u001b[49m\n\u001b[1;32m      6\u001b[0m \u001b[43m    \u001b[49m\u001b[43mskip_existing\u001b[49m\u001b[38;5;241;43m=\u001b[39;49m\u001b[38;5;28;43;01mTrue\u001b[39;49;00m\n\u001b[1;32m      7\u001b[0m \u001b[43m)\u001b[49m\n\u001b[1;32m      9\u001b[0m \u001b[38;5;28mprint\u001b[39m(\u001b[38;5;124m\"\u001b[39m\u001b[38;5;130;01m\\n\u001b[39;00m\u001b[38;5;124m--- Processing Complete ---\u001b[39m\u001b[38;5;124m\"\u001b[39m)\n\u001b[1;32m     10\u001b[0m \u001b[38;5;28mprint\u001b[39m(\u001b[38;5;124mf\u001b[39m\u001b[38;5;124m\"\u001b[39m\u001b[38;5;124mSuccessfully saved \u001b[39m\u001b[38;5;132;01m{\u001b[39;00m\u001b[38;5;28mlen\u001b[39m(successful_saves)\u001b[38;5;132;01m}\u001b[39;00m\u001b[38;5;124m face images.\u001b[39m\u001b[38;5;124m\"\u001b[39m)\n",
      "Cell \u001b[0;32mIn[33], line 116\u001b[0m, in \u001b[0;36mprocess_and_save_faces\u001b[0;34m(df, output_base, face_app, skip_existing, start_index, progress_file)\u001b[0m\n\u001b[1;32m    113\u001b[0m         cv2\u001b[38;5;241m.\u001b[39mimwrite(save_path, face_crop, [\u001b[38;5;28mint\u001b[39m(cv2\u001b[38;5;241m.\u001b[39mIMWRITE_JPEG_QUALITY), \u001b[38;5;241m90\u001b[39m])\n\u001b[1;32m    114\u001b[0m         successful_saves\u001b[38;5;241m.\u001b[39mappend(save_path)\n\u001b[0;32m--> 116\u001b[0m         \u001b[43mtime\u001b[49m\u001b[38;5;241;43m.\u001b[39;49m\u001b[43msleep\u001b[49m\u001b[43m(\u001b[49m\u001b[38;5;241;43m0.75\u001b[39;49m\u001b[43m)\u001b[49m\n\u001b[1;32m    118\u001b[0m \u001b[38;5;28;01mexcept\u001b[39;00m \u001b[38;5;167;01mException\u001b[39;00m \u001b[38;5;28;01mas\u001b[39;00m e:\n\u001b[1;32m    119\u001b[0m     failed_articles\u001b[38;5;241m.\u001b[39mappend({\n\u001b[1;32m    120\u001b[0m         \u001b[38;5;124m'\u001b[39m\u001b[38;5;124moutlet\u001b[39m\u001b[38;5;124m'\u001b[39m: outlet \u001b[38;5;28;01mif\u001b[39;00m \u001b[38;5;124m'\u001b[39m\u001b[38;5;124moutlet\u001b[39m\u001b[38;5;124m'\u001b[39m \u001b[38;5;129;01min\u001b[39;00m \u001b[38;5;28mlocals\u001b[39m() \u001b[38;5;28;01melse\u001b[39;00m \u001b[38;5;124m'\u001b[39m\u001b[38;5;124munknown\u001b[39m\u001b[38;5;124m'\u001b[39m,\n\u001b[1;32m    121\u001b[0m         \u001b[38;5;124m'\u001b[39m\u001b[38;5;124mid\u001b[39m\u001b[38;5;124m'\u001b[39m: article_id \u001b[38;5;28;01mif\u001b[39;00m \u001b[38;5;124m'\u001b[39m\u001b[38;5;124marticle_id\u001b[39m\u001b[38;5;124m'\u001b[39m \u001b[38;5;129;01min\u001b[39;00m \u001b[38;5;28mlocals\u001b[39m() \u001b[38;5;28;01melse\u001b[39;00m \u001b[38;5;124m'\u001b[39m\u001b[38;5;124munknown\u001b[39m\u001b[38;5;124m'\u001b[39m,\n\u001b[0;32m   (...)\u001b[0m\n\u001b[1;32m    125\u001b[0m         \u001b[38;5;124m'\u001b[39m\u001b[38;5;124mreason\u001b[39m\u001b[38;5;124m'\u001b[39m: \u001b[38;5;124mf\u001b[39m\u001b[38;5;124m'\u001b[39m\u001b[38;5;124mUnexpected error: \u001b[39m\u001b[38;5;132;01m{\u001b[39;00m\u001b[38;5;28mstr\u001b[39m(e)\u001b[38;5;132;01m}\u001b[39;00m\u001b[38;5;124m'\u001b[39m\n\u001b[1;32m    126\u001b[0m     })\n",
      "\u001b[0;31mKeyboardInterrupt\u001b[0m: "
     ]
    }
   ],
   "source": [
    "print(f\"Starting to process {len(img_articles)} articles...\")\n",
    "successful_saves, failed_articles = process_and_save_faces(\n",
    "    df=img_articles,\n",
    "    output_base=OUTPUT_BASE,\n",
    "    face_app=app,\n",
    "    skip_existing=True\n",
    ")\n",
    "\n",
    "print(\"\\n--- Processing Complete ---\")\n",
    "print(f\"Successfully saved {len(successful_saves)} face images.\")\n",
    "if failed_articles:\n",
    "    print(f\"Encountered {len(failed_articles)} issues.\")\n",
    "    for failure in failed_articles:\n",
    "        print(f\"-Outlet {failure['outlet']} - article id {failure['id']} - unique id {failure['id_unique']}:\")\n",
    "        print(f\"    for url {failure['url']} with image {failure['image']}:\")\n",
    "        print(f\"    {failure['reason']}\")\n",
    "        print('* * * ' * 3)"
   ]
  },
  {
   "cell_type": "code",
   "execution_count": 36,
   "id": "b77733cd",
   "metadata": {},
   "outputs": [
    {
     "name": "stdout",
     "output_type": "stream",
     "text": [
      "Starting to process 65512 articles...\n"
     ]
    },
    {
     "name": "stderr",
     "output_type": "stream",
     "text": [
      "Processing...:   2%|▏         | 1180/65512 [27:24<23:14:01,  1.30s/it]"
     ]
    },
    {
     "name": "stdout",
     "output_type": "stream",
     "text": [
      "Error downloading https://ichef.bbci.co.uk/news/480/cpsprodpb/1841F/production/_133295399_bruceandfarrah.png.webp: 502 Server Error: Bad Gateway for url: https://ichef.bbci.co.uk/news/480/cpsprodpb/1841F/production/_133295399_bruceandfarrah.png.webp\n"
     ]
    },
    {
     "name": "stderr",
     "output_type": "stream",
     "text": [
      "Processing...:  15%|█▍        | 9750/65512 [3:45:45<38:31:07,  2.49s/it] "
     ]
    },
    {
     "name": "stdout",
     "output_type": "stream",
     "text": [
      "Error downloading https://ichef.bbci.co.uk/news/480/cpsprodpb/1ed7/live/4346bd10-259c-11ef-8997-c3654bee9602.jpg.webp: 502 Server Error: Bad Gateway for url: https://ichef.bbci.co.uk/news/480/cpsprodpb/1ed7/live/4346bd10-259c-11ef-8997-c3654bee9602.jpg.webp\n"
     ]
    },
    {
     "name": "stderr",
     "output_type": "stream",
     "text": [
      "Processing...:  16%|█▋        | 10745/65512 [4:08:47<26:42:15,  1.76s/it] "
     ]
    },
    {
     "name": "stdout",
     "output_type": "stream",
     "text": [
      "Error downloading https://ichef.bbci.co.uk/news/480/cpsprodpb/c8c9/live/52e6a7f0-2711-11ef-a82d-c9f935a67f4f.jpg.webp: 502 Server Error: Bad Gateway for url: https://ichef.bbci.co.uk/news/480/cpsprodpb/c8c9/live/52e6a7f0-2711-11ef-a82d-c9f935a67f4f.jpg.webp\n"
     ]
    },
    {
     "name": "stderr",
     "output_type": "stream",
     "text": [
      "Processing...:  21%|██        | 13892/65512 [5:24:19<20:05:07,  1.40s/it] \n"
     ]
    },
    {
     "ename": "KeyboardInterrupt",
     "evalue": "",
     "output_type": "error",
     "traceback": [
      "\u001b[0;31m---------------------------------------------------------------------------\u001b[0m",
      "\u001b[0;31mKeyboardInterrupt\u001b[0m                         Traceback (most recent call last)",
      "Cell \u001b[0;32mIn[36], line 2\u001b[0m\n\u001b[1;32m      1\u001b[0m \u001b[38;5;28mprint\u001b[39m(\u001b[38;5;124mf\u001b[39m\u001b[38;5;124m\"\u001b[39m\u001b[38;5;124mStarting to process \u001b[39m\u001b[38;5;132;01m{\u001b[39;00m\u001b[38;5;28mlen\u001b[39m(img_articles[\u001b[38;5;241m21350\u001b[39m:])\u001b[38;5;132;01m}\u001b[39;00m\u001b[38;5;124m articles...\u001b[39m\u001b[38;5;124m\"\u001b[39m)\n\u001b[0;32m----> 2\u001b[0m successful_saves2, failed_articles2 \u001b[38;5;241m=\u001b[39m \u001b[43mprocess_and_save_faces\u001b[49m\u001b[43m(\u001b[49m\n\u001b[1;32m      3\u001b[0m \u001b[43m    \u001b[49m\u001b[43mdf\u001b[49m\u001b[38;5;241;43m=\u001b[39;49m\u001b[43mimg_articles\u001b[49m\u001b[43m[\u001b[49m\u001b[38;5;241;43m21350\u001b[39;49m\u001b[43m:\u001b[49m\u001b[43m]\u001b[49m\u001b[43m,\u001b[49m\n\u001b[1;32m      4\u001b[0m \u001b[43m    \u001b[49m\u001b[43moutput_base\u001b[49m\u001b[38;5;241;43m=\u001b[39;49m\u001b[43mOUTPUT_BASE\u001b[49m\u001b[43m,\u001b[49m\n\u001b[1;32m      5\u001b[0m \u001b[43m    \u001b[49m\u001b[43mface_app\u001b[49m\u001b[38;5;241;43m=\u001b[39;49m\u001b[43mapp\u001b[49m\u001b[43m,\u001b[49m\n\u001b[1;32m      6\u001b[0m \u001b[43m    \u001b[49m\u001b[43mskip_existing\u001b[49m\u001b[38;5;241;43m=\u001b[39;49m\u001b[38;5;28;43;01mTrue\u001b[39;49;00m\n\u001b[1;32m      7\u001b[0m \u001b[43m)\u001b[49m\n\u001b[1;32m      9\u001b[0m \u001b[38;5;28mprint\u001b[39m(\u001b[38;5;124m\"\u001b[39m\u001b[38;5;130;01m\\n\u001b[39;00m\u001b[38;5;124m--- Processing Complete ---\u001b[39m\u001b[38;5;124m\"\u001b[39m)\n\u001b[1;32m     10\u001b[0m \u001b[38;5;28mprint\u001b[39m(\u001b[38;5;124mf\u001b[39m\u001b[38;5;124m\"\u001b[39m\u001b[38;5;124mSuccessfully saved \u001b[39m\u001b[38;5;132;01m{\u001b[39;00m\u001b[38;5;28mlen\u001b[39m(successful_saves2)\u001b[38;5;132;01m}\u001b[39;00m\u001b[38;5;124m face images.\u001b[39m\u001b[38;5;124m\"\u001b[39m)\n",
      "Cell \u001b[0;32mIn[33], line 116\u001b[0m, in \u001b[0;36mprocess_and_save_faces\u001b[0;34m(df, output_base, face_app, skip_existing, start_index, progress_file)\u001b[0m\n\u001b[1;32m    113\u001b[0m         cv2\u001b[38;5;241m.\u001b[39mimwrite(save_path, face_crop, [\u001b[38;5;28mint\u001b[39m(cv2\u001b[38;5;241m.\u001b[39mIMWRITE_JPEG_QUALITY), \u001b[38;5;241m90\u001b[39m])\n\u001b[1;32m    114\u001b[0m         successful_saves\u001b[38;5;241m.\u001b[39mappend(save_path)\n\u001b[0;32m--> 116\u001b[0m         \u001b[43mtime\u001b[49m\u001b[38;5;241;43m.\u001b[39;49m\u001b[43msleep\u001b[49m\u001b[43m(\u001b[49m\u001b[38;5;241;43m0.75\u001b[39;49m\u001b[43m)\u001b[49m\n\u001b[1;32m    118\u001b[0m \u001b[38;5;28;01mexcept\u001b[39;00m \u001b[38;5;167;01mException\u001b[39;00m \u001b[38;5;28;01mas\u001b[39;00m e:\n\u001b[1;32m    119\u001b[0m     failed_articles\u001b[38;5;241m.\u001b[39mappend({\n\u001b[1;32m    120\u001b[0m         \u001b[38;5;124m'\u001b[39m\u001b[38;5;124moutlet\u001b[39m\u001b[38;5;124m'\u001b[39m: outlet \u001b[38;5;28;01mif\u001b[39;00m \u001b[38;5;124m'\u001b[39m\u001b[38;5;124moutlet\u001b[39m\u001b[38;5;124m'\u001b[39m \u001b[38;5;129;01min\u001b[39;00m \u001b[38;5;28mlocals\u001b[39m() \u001b[38;5;28;01melse\u001b[39;00m \u001b[38;5;124m'\u001b[39m\u001b[38;5;124munknown\u001b[39m\u001b[38;5;124m'\u001b[39m,\n\u001b[1;32m    121\u001b[0m         \u001b[38;5;124m'\u001b[39m\u001b[38;5;124mid\u001b[39m\u001b[38;5;124m'\u001b[39m: article_id \u001b[38;5;28;01mif\u001b[39;00m \u001b[38;5;124m'\u001b[39m\u001b[38;5;124marticle_id\u001b[39m\u001b[38;5;124m'\u001b[39m \u001b[38;5;129;01min\u001b[39;00m \u001b[38;5;28mlocals\u001b[39m() \u001b[38;5;28;01melse\u001b[39;00m \u001b[38;5;124m'\u001b[39m\u001b[38;5;124munknown\u001b[39m\u001b[38;5;124m'\u001b[39m,\n\u001b[0;32m   (...)\u001b[0m\n\u001b[1;32m    125\u001b[0m         \u001b[38;5;124m'\u001b[39m\u001b[38;5;124mreason\u001b[39m\u001b[38;5;124m'\u001b[39m: \u001b[38;5;124mf\u001b[39m\u001b[38;5;124m'\u001b[39m\u001b[38;5;124mUnexpected error: \u001b[39m\u001b[38;5;132;01m{\u001b[39;00m\u001b[38;5;28mstr\u001b[39m(e)\u001b[38;5;132;01m}\u001b[39;00m\u001b[38;5;124m'\u001b[39m\n\u001b[1;32m    126\u001b[0m     })\n",
      "\u001b[0;31mKeyboardInterrupt\u001b[0m: "
     ]
    }
   ],
   "source": [
    "print(f\"Starting to process {len(img_articles[21350:])} articles...\")\n",
    "successful_saves2, failed_articles2 = process_and_save_faces(\n",
    "    df=img_articles[21350:],\n",
    "    output_base=OUTPUT_BASE,\n",
    "    face_app=app,\n",
    "    skip_existing=True\n",
    ")\n",
    "\n",
    "print(\"\\n--- Processing Complete ---\")\n",
    "print(f\"Successfully saved {len(successful_saves2)} face images.\")\n",
    "if failed_articles2:\n",
    "    print(f\"Encountered {len(failed_articles2)} issues.\")\n",
    "    for failure in failed_articles2:\n",
    "        print(f\"-Outlet {failure['outlet']} - article id {failure['id']} - unique id {failure['id_unique']}:\")\n",
    "        print(f\"    for url {failure['url']} with image {failure['image']}:\")\n",
    "        print(f\"    {failure['reason']}\")\n",
    "        print('* * * ' * 3)"
   ]
  },
  {
   "cell_type": "code",
   "execution_count": 37,
   "id": "ced86960",
   "metadata": {},
   "outputs": [
    {
     "name": "stdout",
     "output_type": "stream",
     "text": [
      "Starting to process 51622 articles...\n"
     ]
    },
    {
     "name": "stderr",
     "output_type": "stream",
     "text": [
      "Processing...:   0%|          | 58/51622 [01:30<10:21:34,  1.38it/s]"
     ]
    },
    {
     "name": "stdout",
     "output_type": "stream",
     "text": [
      "Error downloading https://ichef.bbci.co.uk/news/480/cpsprodpb/7a15/live/922aeb70-2fe4-11ef-9b42-87ce3f31eabc.jpg.webp: 502 Server Error: Bad Gateway for url: https://ichef.bbci.co.uk/news/480/cpsprodpb/7a15/live/922aeb70-2fe4-11ef-9b42-87ce3f31eabc.jpg.webp\n"
     ]
    },
    {
     "name": "stderr",
     "output_type": "stream",
     "text": [
      "Processing...:  16%|█▌        | 8336/51622 [3:23:07<26:50:20,  2.23s/it] "
     ]
    },
    {
     "name": "stdout",
     "output_type": "stream",
     "text": [
      "Error downloading https://ichef.bbci.co.uk/news/480/cpsprodpb/abbb/live/24c394e0-4783-11ef-b74b-5f98efd74680.jpg.webp: OpenCV(4.5.5) /Users/runner/miniforge3/conda-bld/libopencv_1656375809040/work/modules/imgcodecs/src/loadsave.cpp:816: error: (-215:Assertion failed) !buf.empty() in function 'imdecode_'\n",
      "\n",
      "Error downloading https://ichef.bbci.co.uk/news/480/cpsprodpb/abbb/live/24c394e0-4783-11ef-b74b-5f98efd74680.jpg.webp: OpenCV(4.5.5) /Users/runner/miniforge3/conda-bld/libopencv_1656375809040/work/modules/imgcodecs/src/loadsave.cpp:816: error: (-215:Assertion failed) !buf.empty() in function 'imdecode_'\n",
      "\n",
      "Error downloading https://ichef.bbci.co.uk/news/480/cpsprodpb/abbb/live/24c394e0-4783-11ef-b74b-5f98efd74680.jpg.webp: OpenCV(4.5.5) /Users/runner/miniforge3/conda-bld/libopencv_1656375809040/work/modules/imgcodecs/src/loadsave.cpp:816: error: (-215:Assertion failed) !buf.empty() in function 'imdecode_'\n",
      "\n"
     ]
    },
    {
     "name": "stderr",
     "output_type": "stream",
     "text": [
      "Processing...:  27%|██▋       | 14013/51622 [5:37:16<7:49:52,  1.33it/s]  "
     ]
    },
    {
     "name": "stdout",
     "output_type": "stream",
     "text": [
      "Error downloading https://ichef.bbci.co.uk/news/480/cpsprodpb/31e3/live/52b29640-558d-11ef-9ae6-47d584e77449.jpg.webp: 502 Server Error: Bad Gateway for url: https://ichef.bbci.co.uk/news/480/cpsprodpb/31e3/live/52b29640-558d-11ef-9ae6-47d584e77449.jpg.webp\n"
     ]
    },
    {
     "name": "stderr",
     "output_type": "stream",
     "text": [
      "Processing...:  31%|███       | 15909/51622 [6:20:58<13:43:41,  1.38s/it] "
     ]
    },
    {
     "name": "stdout",
     "output_type": "stream",
     "text": [
      "Error downloading https://ichef.bbci.co.uk/news/480/cpsprodpb/e5d5/live/bf235bb0-5a25-11ef-9d2d-89abc1f1e271.png.webp: 502 Server Error: Bad Gateway for url: https://ichef.bbci.co.uk/news/480/cpsprodpb/e5d5/live/bf235bb0-5a25-11ef-9d2d-89abc1f1e271.png.webp\n"
     ]
    },
    {
     "name": "stderr",
     "output_type": "stream",
     "text": [
      "Processing...:  35%|███▌      | 18155/51622 [7:14:08<8:45:11,  1.06it/s]  "
     ]
    },
    {
     "name": "stdout",
     "output_type": "stream",
     "text": [
      "Error downloading https://ichef.bbci.co.uk/news/480/cpsprodpb/59c1/live/6d26e1b0-60b0-11ef-b76f-f1f593af629e.jpg.webp: 502 Server Error: Bad Gateway for url: https://ichef.bbci.co.uk/news/480/cpsprodpb/59c1/live/6d26e1b0-60b0-11ef-b76f-f1f593af629e.jpg.webp\n"
     ]
    },
    {
     "name": "stderr",
     "output_type": "stream",
     "text": [
      "Processing...:  39%|███▉      | 20053/51622 [7:58:10<18:24:37,  2.10s/it] "
     ]
    },
    {
     "name": "stdout",
     "output_type": "stream",
     "text": [
      "Error downloading https://ichef.bbci.co.uk/news/480/cpsprodpb/2442/live/018f9390-64f0-11ef-a457-abfbbac808ad.jpg.webp: OpenCV(4.5.5) /Users/runner/miniforge3/conda-bld/libopencv_1656375809040/work/modules/imgcodecs/src/loadsave.cpp:816: error: (-215:Assertion failed) !buf.empty() in function 'imdecode_'\n",
      "\n",
      "Error downloading https://ichef.bbci.co.uk/news/480/cpsprodpb/2442/live/018f9390-64f0-11ef-a457-abfbbac808ad.jpg.webp: OpenCV(4.5.5) /Users/runner/miniforge3/conda-bld/libopencv_1656375809040/work/modules/imgcodecs/src/loadsave.cpp:816: error: (-215:Assertion failed) !buf.empty() in function 'imdecode_'\n",
      "\n",
      "Error downloading https://ichef.bbci.co.uk/news/480/cpsprodpb/2442/live/018f9390-64f0-11ef-a457-abfbbac808ad.jpg.webp: OpenCV(4.5.5) /Users/runner/miniforge3/conda-bld/libopencv_1656375809040/work/modules/imgcodecs/src/loadsave.cpp:816: error: (-215:Assertion failed) !buf.empty() in function 'imdecode_'\n",
      "\n"
     ]
    },
    {
     "name": "stderr",
     "output_type": "stream",
     "text": [
      "Processing...:  79%|███████▊  | 40626/51622 [19:29:28<5:44:31,  1.88s/it]  "
     ]
    },
    {
     "name": "stdout",
     "output_type": "stream",
     "text": [
      "Error downloading https://i.guim.co.uk/img/media/0a549ae55c32d22dab4676ca53c11139d5b05170/0_21_5472_3283/master/5472.jpg?width=465&dpr=1&s=none&crop=none: HTTPSConnectionPool(host='i.guim.co.uk', port=443): Max retries exceeded with url: /img/media/0a549ae55c32d22dab4676ca53c11139d5b05170/0_21_5472_3283/master/5472.jpg?width=465&dpr=1&s=none&crop=none (Caused by SSLError(SSLEOFError(8, '[SSL: UNEXPECTED_EOF_WHILE_READING] EOF occurred in violation of protocol (_ssl.c:1007)')))\n"
     ]
    },
    {
     "name": "stderr",
     "output_type": "stream",
     "text": [
      "Processing...: 100%|██████████| 51622/51622 [25:54:01<00:00,  1.81s/it]    "
     ]
    },
    {
     "name": "stdout",
     "output_type": "stream",
     "text": [
      "\n",
      "--- Processing Complete ---\n",
      "Successfully saved 93108 face images.\n",
      "Encountered 5 issues.\n",
      "-Outlet BBC - article id c3g68g11445o - unique id id49220:\n",
      "    for url https://www.bbc.com/news/articles/c3g68g11445o with image https://ichef.bbci.co.uk/news/480/cpsprodpb/abbb/live/24c394e0-4783-11ef-b74b-5f98efd74680.jpg.webp:\n",
      "    Failed to download image\n",
      "* * * * * * * * * \n",
      "-Outlet BBC - article id c9wjxl0wwwjo - unique id id62146:\n",
      "    for url https://www.bbc.com/news/articles/c9wjxl0wwwjo with image https://ichef.bbci.co.uk/news/480/cpsprodpb/2442/live/018f9390-64f0-11ef-a457-abfbbac808ad.jpg.webp:\n",
      "    Failed to download image\n",
      "* * * * * * * * * \n",
      "-Outlet The Guardian - article id 9388442333b1ead - unique id id71763:\n",
      "    for url https://www.theguardian.com/technology/article/2024/jul/20/google-is-the-worlds-biggest-search-engine-broken with image https://i.guim.co.uk/img/uploads/2024/07/18/search-ani.gif?width=465&dpr=1&s=none&crop=none:\n",
      "    Failed to download image\n",
      "* * * * * * * * * \n",
      "-Outlet The Guardian - article id b0e7eaf8c72cf5b - unique id id73014:\n",
      "    for url https://www.theguardian.com/us-news/article/2024/jul/14/joe-biden-donald-trump-big-donors with image https://i.guim.co.uk/img/uploads/2024/07/11/cups3.gif?width=465&dpr=1&s=none&crop=none:\n",
      "    Failed to download image\n",
      "* * * * * * * * * \n",
      "-Outlet The Guardian - article id bc28bfaba85cf10 - unique id id73406:\n",
      "    for url https://www.theguardian.com/world/article/2024/jul/12/gaza-death-toll-indirect-casualties with image https://i.guim.co.uk/img/uploads/2024/07/11/v2_death-toll.gif?width=465&dpr=1&s=none&crop=none:\n",
      "    Failed to download image\n",
      "* * * * * * * * * \n"
     ]
    },
    {
     "name": "stderr",
     "output_type": "stream",
     "text": [
      "\n"
     ]
    }
   ],
   "source": [
    "print(f\"Starting to process {len(img_articles[35240:])} articles...\")\n",
    "successful_saves3, failed_articles3 = process_and_save_faces(\n",
    "    df=img_articles[35240:],\n",
    "    output_base=OUTPUT_BASE,\n",
    "    face_app=app,\n",
    "    skip_existing=True\n",
    ")\n",
    "\n",
    "print(\"\\n--- Processing Complete ---\")\n",
    "print(f\"Successfully saved {len(successful_saves3)} face images.\")\n",
    "if failed_articles3:\n",
    "    print(f\"Encountered {len(failed_articles3)} issues.\")\n",
    "    for failure in failed_articles3:\n",
    "        print(f\"-Outlet {failure['outlet']} - article id {failure['id']} - unique id {failure['id_unique']}:\")\n",
    "        print(f\"    for url {failure['url']} with image {failure['image']}:\")\n",
    "        print(f\"    {failure['reason']}\")\n",
    "        print('* * * ' * 3)"
   ]
  },
  {
   "cell_type": "code",
   "execution_count": 40,
   "id": "1e8fe346",
   "metadata": {},
   "outputs": [
    {
     "data": {
      "text/plain": [
       "[{'outlet': 'BBC',\n",
       "  'id': 'c3g68g11445o',\n",
       "  'id_unique': 'id49220',\n",
       "  'url': 'https://www.bbc.com/news/articles/c3g68g11445o',\n",
       "  'image': 'https://ichef.bbci.co.uk/news/480/cpsprodpb/abbb/live/24c394e0-4783-11ef-b74b-5f98efd74680.jpg.webp',\n",
       "  'reason': 'Failed to download image'},\n",
       " {'outlet': 'BBC',\n",
       "  'id': 'c9wjxl0wwwjo',\n",
       "  'id_unique': 'id62146',\n",
       "  'url': 'https://www.bbc.com/news/articles/c9wjxl0wwwjo',\n",
       "  'image': 'https://ichef.bbci.co.uk/news/480/cpsprodpb/2442/live/018f9390-64f0-11ef-a457-abfbbac808ad.jpg.webp',\n",
       "  'reason': 'Failed to download image'},\n",
       " {'outlet': 'The Guardian',\n",
       "  'id': '9388442333b1ead',\n",
       "  'id_unique': 'id71763',\n",
       "  'url': 'https://www.theguardian.com/technology/article/2024/jul/20/google-is-the-worlds-biggest-search-engine-broken',\n",
       "  'image': 'https://i.guim.co.uk/img/uploads/2024/07/18/search-ani.gif?width=465&dpr=1&s=none&crop=none',\n",
       "  'reason': 'Failed to download image'},\n",
       " {'outlet': 'The Guardian',\n",
       "  'id': 'b0e7eaf8c72cf5b',\n",
       "  'id_unique': 'id73014',\n",
       "  'url': 'https://www.theguardian.com/us-news/article/2024/jul/14/joe-biden-donald-trump-big-donors',\n",
       "  'image': 'https://i.guim.co.uk/img/uploads/2024/07/11/cups3.gif?width=465&dpr=1&s=none&crop=none',\n",
       "  'reason': 'Failed to download image'},\n",
       " {'outlet': 'The Guardian',\n",
       "  'id': 'bc28bfaba85cf10',\n",
       "  'id_unique': 'id73406',\n",
       "  'url': 'https://www.theguardian.com/world/article/2024/jul/12/gaza-death-toll-indirect-casualties',\n",
       "  'image': 'https://i.guim.co.uk/img/uploads/2024/07/11/v2_death-toll.gif?width=465&dpr=1&s=none&crop=none',\n",
       "  'reason': 'Failed to download image'}]"
      ]
     },
     "execution_count": 40,
     "metadata": {},
     "output_type": "execute_result"
    }
   ],
   "source": [
    "failed_articles3"
   ]
  },
  {
   "cell_type": "markdown",
   "id": "f4e24716",
   "metadata": {},
   "source": [
    "Re-iterate over the error logs to parse urls"
   ]
  },
  {
   "cell_type": "code",
   "execution_count": 42,
   "id": "fa4357fa",
   "metadata": {},
   "outputs": [],
   "source": [
    "error1_string = '''\n",
    "Starting to process 86862 articles...\n",
    "Processing...:   7%|▋         | 5746/86862 [3:27:12<54:16:40,  2.41s/it]  Error downloading https://media.nu.nl/m/6hyxw7ka42lm_wd854: 500 Server Error: Internal Server Error for url: https://media.nu.nl/m/6hyxw7ka42lm_wd854\n",
    "Processing...:   7%|▋         | 5752/86862 [3:28:05<127:55:53,  5.68s/it]Error downloading https://media.nu.nl/m/k0jx258aztth_wd854: 500 Server Error: Internal Server Error for url: https://media.nu.nl/m/k0jx258aztth_wd854\n",
    "Processing...:   7%|▋         | 5761/86862 [3:28:53<59:01:09,  2.62s/it] Error downloading https://media.nu.nl/m/4qkxds1aqs4h_wd854: 500 Server Error: Internal Server Error for url: https://media.nu.nl/m/4qkxds1aqs4h_wd854\n",
    "Processing...:   7%|▋         | 5827/86862 [3:33:09<82:22:18,  3.66s/it] Error downloading https://media.nu.nl/m/1kax8eqaahtn_wd854: 500 Server Error: Internal Server Error for url: https://media.nu.nl/m/1kax8eqaahtn_wd854\n",
    "Processing...:   7%|▋         | 5843/86862 [3:34:40<71:12:45,  3.16s/it] Error downloading https://media.nu.nl/m/1vmx6d1a0glg_wd854: 500 Server Error: Internal Server Error for url: https://media.nu.nl/m/1vmx6d1a0glg_wd854\n",
    "Processing...:   7%|▋         | 5883/86862 [3:37:43<105:57:02,  4.71s/it]Error downloading https://media.nu.nl/m/rbsx7qiawj7u_wd854: 500 Server Error: Internal Server Error for url: https://media.nu.nl/m/rbsx7qiawj7u_wd854\n",
    "Processing...:   7%|▋         | 5885/86862 [3:38:18<219:29:08,  9.76s/it]Error downloading https://media.nu.nl/m/uy2xoynaandt_wd854: 500 Server Error: Internal Server Error for url: https://media.nu.nl/m/uy2xoynaandt_wd854\n",
    "Error downloading https://media.nu.nl/m/uy2xoynaandt_wd854: 500 Server Error: Internal Server Error for url: https://media.nu.nl/m/uy2xoynaandt_wd854\n",
    "Error downloading https://media.nu.nl/m/uy2xoynaandt_wd854: 500 Server Error: Internal Server Error for url: https://media.nu.nl/m/uy2xoynaandt_wd854\n",
    "Processing...:   7%|▋         | 5912/86862 [3:41:19<57:05:09,  2.54s/it] Error downloading https://media.nu.nl/m/t83xev9aokel_wd854: 500 Server Error: Internal Server Error for url: https://media.nu.nl/m/t83xev9aokel_wd854\n",
    "Processing...:   7%|▋         | 5946/86862 [3:43:47<72:45:16,  3.24s/it] Error downloading https://media.nu.nl/m/jb3x2eaadznc_wd854: 500 Server Error: Internal Server Error for url: https://media.nu.nl/m/jb3x2eaadznc_wd854\n",
    "Processing...:   7%|▋         | 5973/86862 [3:45:56<82:41:16,  3.68s/it] Error downloading https://media.nu.nl/m/67wxibvam1vq_wd854: 500 Server Error: Internal Server Error for url: https://media.nu.nl/m/67wxibvam1vq_wd854\n",
    "Processing...:   7%|▋         | 5997/86862 [3:47:43<72:02:22,  3.21s/it] Error downloading https://media.nu.nl/m/qxnx14nad9gb_wd854: 500 Server Error: Internal Server Error for url: https://media.nu.nl/m/qxnx14nad9gb_wd854\n",
    "Processing...:   7%|▋         | 6059/86862 [3:51:59<95:09:29,  4.24s/it] Error downloading https://media.nu.nl/m/l8dx7ugabzcn_wd854: 500 Server Error: Internal Server Error for url: https://media.nu.nl/m/l8dx7ugabzcn_wd854\n",
    "Processing...:   7%|▋         | 6064/86862 [3:52:41<127:01:54,  5.66s/it]Error downloading https://media.nu.nl/m/hfexuw7af88e_wd854: 500 Server Error: Internal Server Error for url: https://media.nu.nl/m/hfexuw7af88e_wd854\n",
    "Error downloading https://media.nu.nl/m/hfexuw7af88e_wd854: 500 Server Error: Internal Server Error for url: https://media.nu.nl/m/hfexuw7af88e_wd854\n",
    "Error downloading https://media.nu.nl/m/hfexuw7af88e_wd854: 500 Server Error: Internal Server Error for url: https://media.nu.nl/m/hfexuw7af88e_wd854\n",
    "Processing...:   7%|▋         | 6068/86862 [3:54:03<247:02:08, 11.01s/it]Error downloading https://media.nu.nl/m/isfxzkbagj4j_wd854: 500 Server Error: Internal Server Error for url: https://media.nu.nl/m/isfxzkbagj4j_wd854\n",
    "Processing...:   7%|▋         | 6140/86862 [3:59:21<67:31:54,  3.01s/it] Error downloading https://media.nu.nl/m/ro6xcmya1z47_wd854: 500 Server Error: Internal Server Error for url: https://media.nu.nl/m/ro6xcmya1z47_wd854\n",
    "Processing...:   7%|▋         | 6156/86862 [4:00:46<66:24:12,  2.96s/it] Error downloading https://media.nu.nl/m/zc3xdsaatel2_wd854: 500 Server Error: Internal Server Error for url: https://media.nu.nl/m/zc3xdsaatel2_wd854\n",
    "Processing...:   7%|▋         | 6196/86862 [4:03:34<56:42:41,  2.53s/it] Error downloading https://media.nu.nl/m/zehx18yapc3x_wd854: 500 Server Error: Internal Server Error for url: https://media.nu.nl/m/zehx18yapc3x_wd854\n",
    "Processing...:   7%|▋         | 6215/86862 [4:05:01<125:09:54,  5.59s/it]Error downloading https://media.nu.nl/m/g55xm00ane5z_wd854: 500 Server Error: Internal Server Error for url: https://media.nu.nl/m/g55xm00ane5z_wd854\n",
    "Processing...:   7%|▋         | 6226/86862 [4:06:16<88:53:18,  3.97s/it] Error downloading https://media.nu.nl/m/qx6xjjcaxslq_wd854: 500 Server Error: Internal Server Error for url: https://media.nu.nl/m/qx6xjjcaxslq_wd854\n",
    "Processing...:   7%|▋         | 6239/86862 [4:07:38<97:41:38,  4.36s/it] Error downloading https://media.nu.nl/m/dwhx6vwa2z96_wd854: 500 Server Error: Internal Server Error for url: https://media.nu.nl/m/dwhx6vwa2z96_wd854\n",
    "Processing...:   7%|▋         | 6276/86862 [4:10:54<73:41:57,  3.29s/it] Error downloading https://media.nu.nl/m/8a1xltsa5w4h_wd854: 500 Server Error: Internal Server Error for url: https://media.nu.nl/m/8a1xltsa5w4h_wd854\n",
    "Processing...:   7%|▋         | 6296/86862 [4:12:19<48:25:42,  2.16s/it] Error downloading https://media.nu.nl/m/pxsxys0a6x4q_wd854: 500 Server Error: Internal Server Error for url: https://media.nu.nl/m/pxsxys0a6x4q_wd854\n",
    "Processing...:   7%|▋         | 6317/86862 [4:13:58<52:04:11,  2.33s/it] Error downloading https://media.nu.nl/m/fsjxteeadvax_wd854: 500 Server Error: Internal Server Error for url: https://media.nu.nl/m/fsjxteeadvax_wd854\n",
    "Processing...:   7%|▋         | 6356/86862 [4:17:11<89:29:38,  4.00s/it] Error downloading https://media.nu.nl/m/z70xbdba4cd7_wd854: 500 Server Error: Internal Server Error for url: https://media.nu.nl/m/z70xbdba4cd7_wd854\n",
    "Processing...:   7%|▋         | 6363/86862 [4:18:09<130:03:15,  5.82s/it]Error downloading https://media.nu.nl/m/3o9xz33a42xo_wd854: 500 Server Error: Internal Server Error for url: https://media.nu.nl/m/3o9xz33a42xo_wd854\n",
    "Error downloading https://media.nu.nl/m/3o9xz33a42xo_wd854: 500 Server Error: Internal Server Error for url: https://media.nu.nl/m/3o9xz33a42xo_wd854\n",
    "Processing...:   7%|▋         | 6416/86862 [4:21:58<78:24:25,  3.51s/it] Error downloading https://media.nu.nl/m/j6exfjsaefzr_wd854: 500 Server Error: Internal Server Error for url: https://media.nu.nl/m/j6exfjsaefzr_wd854\n",
    "Processing...:   7%|▋         | 6417/86862 [4:22:24<235:16:50, 10.53s/it]Error downloading https://media.nu.nl/m/ql7xks0aq2rm_wd854: 500 Server Error: Internal Server Error for url: https://media.nu.nl/m/ql7xks0aq2rm_wd854\n",
    "Processing...:   7%|▋         | 6440/86862 [4:24:01<79:52:54,  3.58s/it] Error downloading https://media.nu.nl/m/fgtxur1ampo9_wd854: 500 Server Error: Internal Server Error for url: https://media.nu.nl/m/fgtxur1ampo9_wd854\n",
    "Processing...:   7%|▋         | 6442/86862 [4:24:49<283:30:36, 12.69s/it]Error downloading https://media.nu.nl/m/hhzxyimaopyk_wd854: 500 Server Error: Internal Server Error for url: https://media.nu.nl/m/hhzxyimaopyk_wd854\n",
    "Processing...:   7%|▋         | 6446/86862 [4:25:37<211:37:13,  9.47s/it]Error downloading https://media.nu.nl/m/oakx04najwbx_wd854: 500 Server Error: Internal Server Error for url: https://media.nu.nl/m/oakx04najwbx_wd854\n",
    "Error downloading https://media.nu.nl/m/oakx04najwbx_wd854: 500 Server Error: Internal Server Error for url: https://media.nu.nl/m/oakx04najwbx_wd854\n",
    "Processing...:   7%|▋         | 6460/86862 [4:27:27<104:33:59,  4.68s/it]Error downloading https://media.nu.nl/m/pspxyaaas3g8_wd854: 500 Server Error: Internal Server Error for url: https://media.nu.nl/m/pspxyaaas3g8_wd854\n",
    "Processing...:   7%|▋         | 6487/86862 [4:29:09<52:54:11,  2.37s/it] Error downloading https://media.nu.nl/m/aycxaxxamphf_wd854: 500 Server Error: Internal Server Error for url: https://media.nu.nl/m/aycxaxxamphf_wd854\n",
    "Error downloading https://media.nu.nl/m/aycxaxxamphf_wd854: 500 Server Error: Internal Server Error for url: https://media.nu.nl/m/aycxaxxamphf_wd854\n",
    "Processing...:   7%|▋         | 6510/86862 [4:31:26<74:10:05,  3.32s/it] Error downloading https://media.nu.nl/m/81exhoqao2c2_wd854: 500 Server Error: Internal Server Error for url: https://media.nu.nl/m/81exhoqao2c2_wd854\n",
    "Processing...:   8%|▊         | 6516/86862 [4:32:07<84:36:25,  3.79s/it] Error downloading https://media.nu.nl/m/mofxfcia4vgr_wd854: 500 Server Error: Internal Server Error for url: https://media.nu.nl/m/mofxfcia4vgr_wd854\n",
    "Processing...:   8%|▊         | 6529/86862 [4:33:40<109:25:58,  4.90s/it]Error downloading https://media.nu.nl/m/0jwxbmya7wqh_wd854: 500 Server Error: Internal Server Error for url: https://media.nu.nl/m/0jwxbmya7wqh_wd854\n",
    "Processing...:   8%|▊         | 6583/86862 [4:37:11<72:25:59,  3.25s/it] Error downloading https://media.nu.nl/m/qflx01ga1ssb_wd854: 500 Server Error: Internal Server Error for url: https://media.nu.nl/m/qflx01ga1ssb_wd854\n",
    "Processing...:   8%|▊         | 6585/86862 [4:37:42<186:30:56,  8.36s/it]Error downloading https://media.nu.nl/m/gjzxdtraa2r7_wd854: 500 Server Error: Internal Server Error for url: https://media.nu.nl/m/gjzxdtraa2r7_wd854\n",
    "Processing...:   8%|▊         | 6607/86862 [4:39:28<77:55:07,  3.50s/it] Error downloading https://media.nu.nl/m/5gjxypoaptn2_wd854: 500 Server Error: Internal Server Error for url: https://media.nu.nl/m/5gjxypoaptn2_wd854\n",
    "Error downloading https://media.nu.nl/m/5gjxypoaptn2_wd854: 500 Server Error: Internal Server Error for url: https://media.nu.nl/m/5gjxypoaptn2_wd854\n",
    "Processing...:   8%|▊         | 6612/86862 [4:40:38<151:02:57,  6.78s/it]Error downloading https://media.nu.nl/m/3d3x7qwamjg5_wd854: 500 Server Error: Internal Server Error for url: https://media.nu.nl/m/3d3x7qwamjg5_wd854\n",
    "Error downloading https://media.nu.nl/m/3d3x7qwamjg5_wd854: 500 Server Error: Internal Server Error for url: https://media.nu.nl/m/3d3x7qwamjg5_wd854\n",
    "Processing...:   8%|▊         | 6629/86862 [4:42:53<114:04:20,  5.12s/it]Error downloading https://media.nu.nl/m/49pxparahmhe_wd854: 500 Server Error: Internal Server Error for url: https://media.nu.nl/m/49pxparahmhe_wd854\n",
    "Processing...:   8%|▊         | 6671/86862 [4:46:01<63:43:17,  2.86s/it] Error downloading https://media.nu.nl/m/3qmx17pawqxe_wd854: 500 Server Error: Internal Server Error for url: https://media.nu.nl/m/3qmx17pawqxe_wd854\n",
    "Processing...:   8%|▊         | 6678/86862 [4:47:02<153:24:57,  6.89s/it]Error downloading https://media.nu.nl/m/3zax5uoad2gy_wd854: 500 Server Error: Internal Server Error for url: https://media.nu.nl/m/3zax5uoad2gy_wd854\n",
    "Processing...:   8%|▊         | 6715/86862 [4:50:50<120:53:32,  5.43s/it]Error downloading https://media.nu.nl/m/gnzxx9ea7ya2_wd854: 500 Server Error: Internal Server Error for url: https://media.nu.nl/m/gnzxx9ea7ya2_wd854\n",
    "Processing...:  11%|█         | 9187/86862 [7:24:36<57:56:41,  2.69s/it] Error downloading https://media.nu.nl/m/ve2xecqa8pre_wd854: 500 Server Error: Internal Server Error for url: https://media.nu.nl/m/ve2xecqa8pre_wd854\n",
    "Processing...:  12%|█▏        | 10055/86862 [8:19:12<71:10:16,  3.34s/it] Error downloading https://media.nu.nl/m/e6mxupvafq1c_wd854: 404 Client Error: Not Found for url: https://media.nu.nl/m/e6mxupvafq1c_wd854\n",
    "Processing...:  12%|█▏        | 10275/86862 [8:35:55<46:58:57,  2.21s/it] Error downloading https://media.nu.nl/m/4zux03xap9k6_wd854: 504 Server Error: Gateway Time-out for url: https://media.nu.nl/m/4zux03xap9k6_wd854\n",
    "Error downloading https://media.nu.nl/m/4zux03xap9k6_wd854: 504 Server Error: Gateway Time-out for url: https://media.nu.nl/m/4zux03xap9k6_wd854\n",
    "Error downloading https://media.nu.nl/m/4zux03xap9k6_wd854: 504 Server Error: Gateway Time-out for url: https://media.nu.nl/m/4zux03xap9k6_wd854\n",
    "Processing...:  14%|█▎        | 11807/86862 [9:44:04<30:13:21,  1.45s/it] Error downloading https://ichef.bbci.co.uk/news/480/cpsprodpb/B186/production/_133064454_boatrepairstill.jpg.webp: 502 Server Error: Bad Gateway for url: https://ichef.bbci.co.uk/news/480/cpsprodpb/B186/production/_133064454_boatrepairstill.jpg.webp\n",
    "Processing...:  16%|█▌        | 13672/86862 [10:23:39<110:25:54,  5.43s/it]Error downloading https://ichef.bbci.co.uk/news/480/cpsprodpb/c4ac/live/f1ef6600-f71b-11ee-af97-c31fb967c02d.jpg.webp: 502 Server Error: Bad Gateway for url: https://ichef.bbci.co.uk/news/480/cpsprodpb/c4ac/live/f1ef6600-f71b-11ee-af97-c31fb967c02d.jpg.webp\n",
    "Processing...:  22%|██▏       | 18913/86862 [12:21:02<13:09:01,  1.44it/s] Error downloading https://ichef.bbci.co.uk/news/480/cpsprodpb/6c8a/live/fa58ea10-0548-11ef-b9d8-4f52aebe147d.jpg.webp: 502 Server Error: Bad Gateway for url: https://ichef.bbci.co.uk/news/480/cpsprodpb/6c8a/live/fa58ea10-0548-11ef-b9d8-4f52aebe147d.jpg.webp\n",
    "Processing...:  23%|██▎       | 20216/86862 [12:50:41<14:43:15,  1.26it/s] Error downloading https://ichef.bbci.co.uk/news/480/cpsprodpb/c287/live/d8d7ac20-087a-11ef-806d-f7f83a5f5a2f.jpg.webp: 502 Server Error: Bad Gateway for url: https://ichef.bbci.co.uk/news/480/cpsprodpb/c287/live/d8d7ac20-087a-11ef-806d-f7f83a5f5a2f.jpg.webp\n",
    "Processing...:  25%|██▍       | 21352/86862 [13:23:46<41:06:03,  2.26s/it]'''"
   ]
  },
  {
   "cell_type": "code",
   "execution_count": 43,
   "id": "66561237",
   "metadata": {},
   "outputs": [],
   "source": [
    "error2_string = '''\n",
    "Starting to process 65512 articles...\n",
    "Processing...:   2%|▏         | 1180/65512 [27:24<23:14:01,  1.30s/it]Error downloading https://ichef.bbci.co.uk/news/480/cpsprodpb/1841F/production/_133295399_bruceandfarrah.png.webp: 502 Server Error: Bad Gateway for url: https://ichef.bbci.co.uk/news/480/cpsprodpb/1841F/production/_133295399_bruceandfarrah.png.webp\n",
    "Processing...:  15%|█▍        | 9750/65512 [3:45:45<38:31:07,  2.49s/it] Error downloading https://ichef.bbci.co.uk/news/480/cpsprodpb/1ed7/live/4346bd10-259c-11ef-8997-c3654bee9602.jpg.webp: 502 Server Error: Bad Gateway for url: https://ichef.bbci.co.uk/news/480/cpsprodpb/1ed7/live/4346bd10-259c-11ef-8997-c3654bee9602.jpg.webp\n",
    "Processing...:  16%|█▋        | 10745/65512 [4:08:47<26:42:15,  1.76s/it] Error downloading https://ichef.bbci.co.uk/news/480/cpsprodpb/c8c9/live/52e6a7f0-2711-11ef-a82d-c9f935a67f4f.jpg.webp: 502 Server Error: Bad Gateway for url: https://ichef.bbci.co.uk/news/480/cpsprodpb/c8c9/live/52e6a7f0-2711-11ef-a82d-c9f935a67f4f.jpg.webp\n",
    "Processing...:  21%|██        | 13892/65512 [5:24:19<20:05:07,  1.40s/it]\n",
    "'''"
   ]
  },
  {
   "cell_type": "code",
   "execution_count": 45,
   "id": "1cc9567e",
   "metadata": {},
   "outputs": [],
   "source": [
    "error3_string = '''\n",
    "Starting to process 51622 articles...\n",
    "Processing...:   0%|          | 58/51622 [01:30<10:21:34,  1.38it/s]Error downloading https://ichef.bbci.co.uk/news/480/cpsprodpb/7a15/live/922aeb70-2fe4-11ef-9b42-87ce3f31eabc.jpg.webp: 502 Server Error: Bad Gateway for url: https://ichef.bbci.co.uk/news/480/cpsprodpb/7a15/live/922aeb70-2fe4-11ef-9b42-87ce3f31eabc.jpg.webp\n",
    "Processing...:  16%|█▌        | 8336/51622 [3:23:07<26:50:20,  2.23s/it] Error downloading https://ichef.bbci.co.uk/news/480/cpsprodpb/abbb/live/24c394e0-4783-11ef-b74b-5f98efd74680.jpg.webp: OpenCV(4.5.5) /Users/runner/miniforge3/conda-bld/libopencv_1656375809040/work/modules/imgcodecs/src/loadsave.cpp:816: error: (-215:Assertion failed) !buf.empty() in function 'imdecode_'\n",
    "\n",
    "Error downloading https://ichef.bbci.co.uk/news/480/cpsprodpb/abbb/live/24c394e0-4783-11ef-b74b-5f98efd74680.jpg.webp: OpenCV(4.5.5) /Users/runner/miniforge3/conda-bld/libopencv_1656375809040/work/modules/imgcodecs/src/loadsave.cpp:816: error: (-215:Assertion failed) !buf.empty() in function 'imdecode_'\n",
    "\n",
    "Error downloading https://ichef.bbci.co.uk/news/480/cpsprodpb/abbb/live/24c394e0-4783-11ef-b74b-5f98efd74680.jpg.webp: OpenCV(4.5.5) /Users/runner/miniforge3/conda-bld/libopencv_1656375809040/work/modules/imgcodecs/src/loadsave.cpp:816: error: (-215:Assertion failed) !buf.empty() in function 'imdecode_'\n",
    "\n",
    "Processing...:  27%|██▋       | 14013/51622 [5:37:16<7:49:52,  1.33it/s]  Error downloading https://ichef.bbci.co.uk/news/480/cpsprodpb/31e3/live/52b29640-558d-11ef-9ae6-47d584e77449.jpg.webp: 502 Server Error: Bad Gateway for url: https://ichef.bbci.co.uk/news/480/cpsprodpb/31e3/live/52b29640-558d-11ef-9ae6-47d584e77449.jpg.webp\n",
    "Processing...:  31%|███       | 15909/51622 [6:20:58<13:43:41,  1.38s/it] Error downloading https://ichef.bbci.co.uk/news/480/cpsprodpb/e5d5/live/bf235bb0-5a25-11ef-9d2d-89abc1f1e271.png.webp: 502 Server Error: Bad Gateway for url: https://ichef.bbci.co.uk/news/480/cpsprodpb/e5d5/live/bf235bb0-5a25-11ef-9d2d-89abc1f1e271.png.webp\n",
    "Processing...:  35%|███▌      | 18155/51622 [7:14:08<8:45:11,  1.06it/s]  Error downloading https://ichef.bbci.co.uk/news/480/cpsprodpb/59c1/live/6d26e1b0-60b0-11ef-b76f-f1f593af629e.jpg.webp: 502 Server Error: Bad Gateway for url: https://ichef.bbci.co.uk/news/480/cpsprodpb/59c1/live/6d26e1b0-60b0-11ef-b76f-f1f593af629e.jpg.webp\n",
    "Processing...:  39%|███▉      | 20053/51622 [7:58:10<18:24:37,  2.10s/it] Error downloading https://ichef.bbci.co.uk/news/480/cpsprodpb/2442/live/018f9390-64f0-11ef-a457-abfbbac808ad.jpg.webp: OpenCV(4.5.5) /Users/runner/miniforge3/conda-bld/libopencv_1656375809040/work/modules/imgcodecs/src/loadsave.cpp:816: error: (-215:Assertion failed) !buf.empty() in function 'imdecode_'\n",
    "\n",
    "Error downloading https://ichef.bbci.co.uk/news/480/cpsprodpb/2442/live/018f9390-64f0-11ef-a457-abfbbac808ad.jpg.webp: OpenCV(4.5.5) /Users/runner/miniforge3/conda-bld/libopencv_1656375809040/work/modules/imgcodecs/src/loadsave.cpp:816: error: (-215:Assertion failed) !buf.empty() in function 'imdecode_'\n",
    "\n",
    "Error downloading https://ichef.bbci.co.uk/news/480/cpsprodpb/2442/live/018f9390-64f0-11ef-a457-abfbbac808ad.jpg.webp: OpenCV(4.5.5) /Users/runner/miniforge3/conda-bld/libopencv_1656375809040/work/modules/imgcodecs/src/loadsave.cpp:816: error: (-215:Assertion failed) !buf.empty() in function 'imdecode_'\n",
    "\n",
    "Processing...:  79%|███████▊  | 40626/51622 [19:29:28<5:44:31,  1.88s/it]  Error downloading https://i.guim.co.uk/img/media/0a549ae55c32d22dab4676ca53c11139d5b05170/0_21_5472_3283/master/5472.jpg?width=465&dpr=1&s=none&crop=none: HTTPSConnectionPool(host='i.guim.co.uk', port=443): Max retries exceeded with url: /img/media/0a549ae55c32d22dab4676ca53c11139d5b05170/0_21_5472_3283/master/5472.jpg?width=465&dpr=1&s=none&crop=none (Caused by SSLError(SSLEOFError(8, '[SSL: UNEXPECTED_EOF_WHILE_READING] EOF occurred in violation of protocol (_ssl.c:1007)')))\n",
    "Processing...: 100%|██████████| 51622/51622 [25:54:01<00:00,  1.81s/it]    \n",
    "'''"
   ]
  },
  {
   "cell_type": "code",
   "execution_count": 46,
   "id": "3ff7d8a6",
   "metadata": {},
   "outputs": [],
   "source": [
    "error_strings = error1_string + '' + error2_string + '' + error3_string"
   ]
  },
  {
   "cell_type": "code",
   "execution_count": 61,
   "id": "3f1376fd",
   "metadata": {},
   "outputs": [],
   "source": [
    "error_urls = []\n",
    "patterns = [\n",
    "    r'Error downloading (https?://[^\\s:]+)', \n",
    "    r'Error downloading\\s+(https?://[^\\s:]+)'\n",
    "]\n",
    "\n",
    "for pattern in patterns:\n",
    "    error_urls.extend(re.findall(pattern, error_strings))\n",
    "\n",
    "unique_error_urls = list(set(error_urls))"
   ]
  },
  {
   "cell_type": "code",
   "execution_count": 71,
   "id": "31aa38bd",
   "metadata": {},
   "outputs": [
    {
     "name": "stdout",
     "output_type": "stream",
     "text": [
      "A total number of 60 image urls out of the original 86862 articles got an error.\n"
     ]
    }
   ],
   "source": [
    "print(f'A total number of {len(unique_error_urls)} image urls out of the original {img_articles.shape[0]} articles got an error.')"
   ]
  },
  {
   "cell_type": "code",
   "execution_count": 72,
   "id": "e6efd1c5",
   "metadata": {},
   "outputs": [],
   "source": [
    "retry_img_articles = img_articles[img_articles['images'].isin(unique_error_urls)]"
   ]
  },
  {
   "cell_type": "code",
   "execution_count": 73,
   "id": "69028ac4",
   "metadata": {},
   "outputs": [
    {
     "data": {
      "text/plain": [
       "(70, 11)"
      ]
     },
     "execution_count": 73,
     "metadata": {},
     "output_type": "execute_result"
    }
   ],
   "source": [
    "retry_img_articles.shape"
   ]
  },
  {
   "cell_type": "code",
   "execution_count": 74,
   "id": "b5309b6e",
   "metadata": {},
   "outputs": [
    {
     "name": "stdout",
     "output_type": "stream",
     "text": [
      "Starting to process 70 articles...\n"
     ]
    },
    {
     "name": "stderr",
     "output_type": "stream",
     "text": [
      "Processing...:  91%|█████████▏| 64/70 [01:33<00:02,  2.96it/s]"
     ]
    },
    {
     "name": "stdout",
     "output_type": "stream",
     "text": [
      "Error downloading https://ichef.bbci.co.uk/news/480/cpsprodpb/abbb/live/24c394e0-4783-11ef-b74b-5f98efd74680.jpg.webp: OpenCV(4.5.5) /Users/runner/miniforge3/conda-bld/libopencv_1656375809040/work/modules/imgcodecs/src/loadsave.cpp:816: error: (-215:Assertion failed) !buf.empty() in function 'imdecode_'\n",
      "\n",
      "Error downloading https://ichef.bbci.co.uk/news/480/cpsprodpb/abbb/live/24c394e0-4783-11ef-b74b-5f98efd74680.jpg.webp: OpenCV(4.5.5) /Users/runner/miniforge3/conda-bld/libopencv_1656375809040/work/modules/imgcodecs/src/loadsave.cpp:816: error: (-215:Assertion failed) !buf.empty() in function 'imdecode_'\n",
      "\n",
      "Error downloading https://ichef.bbci.co.uk/news/480/cpsprodpb/abbb/live/24c394e0-4783-11ef-b74b-5f98efd74680.jpg.webp: OpenCV(4.5.5) /Users/runner/miniforge3/conda-bld/libopencv_1656375809040/work/modules/imgcodecs/src/loadsave.cpp:816: error: (-215:Assertion failed) !buf.empty() in function 'imdecode_'\n",
      "\n"
     ]
    },
    {
     "name": "stderr",
     "output_type": "stream",
     "text": [
      "Processing...:  97%|█████████▋| 68/70 [01:37<00:01,  1.68it/s]"
     ]
    },
    {
     "name": "stdout",
     "output_type": "stream",
     "text": [
      "Error downloading https://ichef.bbci.co.uk/news/480/cpsprodpb/2442/live/018f9390-64f0-11ef-a457-abfbbac808ad.jpg.webp: OpenCV(4.5.5) /Users/runner/miniforge3/conda-bld/libopencv_1656375809040/work/modules/imgcodecs/src/loadsave.cpp:816: error: (-215:Assertion failed) !buf.empty() in function 'imdecode_'\n",
      "\n",
      "Error downloading https://ichef.bbci.co.uk/news/480/cpsprodpb/2442/live/018f9390-64f0-11ef-a457-abfbbac808ad.jpg.webp: OpenCV(4.5.5) /Users/runner/miniforge3/conda-bld/libopencv_1656375809040/work/modules/imgcodecs/src/loadsave.cpp:816: error: (-215:Assertion failed) !buf.empty() in function 'imdecode_'\n",
      "\n",
      "Error downloading https://ichef.bbci.co.uk/news/480/cpsprodpb/2442/live/018f9390-64f0-11ef-a457-abfbbac808ad.jpg.webp: OpenCV(4.5.5) /Users/runner/miniforge3/conda-bld/libopencv_1656375809040/work/modules/imgcodecs/src/loadsave.cpp:816: error: (-215:Assertion failed) !buf.empty() in function 'imdecode_'\n",
      "\n"
     ]
    },
    {
     "name": "stderr",
     "output_type": "stream",
     "text": [
      "Processing...: 100%|██████████| 70/70 [01:41<00:00,  1.45s/it]"
     ]
    },
    {
     "name": "stdout",
     "output_type": "stream",
     "text": [
      "\n",
      "--- Processing Complete ---\n",
      "Successfully saved 3 face images.\n",
      "Encountered 2 issues.\n",
      "-Outlet BBC - article id c3g68g11445o - unique id id49220:\n",
      "    for url https://www.bbc.com/news/articles/c3g68g11445o with image https://ichef.bbci.co.uk/news/480/cpsprodpb/abbb/live/24c394e0-4783-11ef-b74b-5f98efd74680.jpg.webp:\n",
      "    Failed to download image\n",
      "* * * * * * * * * \n",
      "-Outlet BBC - article id c9wjxl0wwwjo - unique id id62146:\n",
      "    for url https://www.bbc.com/news/articles/c9wjxl0wwwjo with image https://ichef.bbci.co.uk/news/480/cpsprodpb/2442/live/018f9390-64f0-11ef-a457-abfbbac808ad.jpg.webp:\n",
      "    Failed to download image\n",
      "* * * * * * * * * \n"
     ]
    },
    {
     "name": "stderr",
     "output_type": "stream",
     "text": [
      "\n"
     ]
    }
   ],
   "source": [
    "print(f\"Starting to process {len(retry_img_articles)} articles...\")\n",
    "successful_saves4, failed_articles4 = process_and_save_faces(\n",
    "    df=retry_img_articles,\n",
    "    output_base=OUTPUT_BASE,\n",
    "    face_app=app,\n",
    "    skip_existing=True\n",
    ")\n",
    "\n",
    "print(\"\\n--- Processing Complete ---\")\n",
    "print(f\"Successfully saved {len(successful_saves4)} face images.\")\n",
    "if failed_articles4:\n",
    "    print(f\"Encountered {len(failed_articles4)} issues.\")\n",
    "    for failure in failed_articles4:\n",
    "        print(f\"-Outlet {failure['outlet']} - article id {failure['id']} - unique id {failure['id_unique']}:\")\n",
    "        print(f\"    for url {failure['url']} with image {failure['image']}:\")\n",
    "        print(f\"    {failure['reason']}\")\n",
    "        print('* * * ' * 3)"
   ]
  },
  {
   "cell_type": "code",
   "execution_count": null,
   "id": "d80ba3af",
   "metadata": {},
   "outputs": [],
   "source": []
  }
 ],
 "metadata": {
  "kernelspec": {
   "display_name": "embedding_on_the_wall",
   "language": "python",
   "name": "python3"
  },
  "language_info": {
   "codemirror_mode": {
    "name": "ipython",
    "version": 3
   },
   "file_extension": ".py",
   "mimetype": "text/x-python",
   "name": "python",
   "nbconvert_exporter": "python",
   "pygments_lexer": "ipython3",
   "version": "3.10.14"
  }
 },
 "nbformat": 4,
 "nbformat_minor": 5
}
