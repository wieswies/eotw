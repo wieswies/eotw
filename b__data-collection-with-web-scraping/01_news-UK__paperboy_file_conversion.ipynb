{
 "cells": [
  {
   "cell_type": "code",
   "execution_count": 2,
   "id": "15370ef1",
   "metadata": {},
   "outputs": [],
   "source": [
    "import pandas as pd"
   ]
  },
  {
   "cell_type": "code",
   "execution_count": 4,
   "id": "b76f393d",
   "metadata": {},
   "outputs": [],
   "source": [
    "uk_paperboy_results = pd.read_csv('datasets/news/UK paperboy results/uk_paperboy_results.csv')"
   ]
  },
  {
   "cell_type": "code",
   "execution_count": 5,
   "id": "bee560c5",
   "metadata": {},
   "outputs": [
    {
     "data": {
      "text/plain": [
       "(82789, 9)"
      ]
     },
     "execution_count": 5,
     "metadata": {},
     "output_type": "execute_result"
    }
   ],
   "source": [
    "uk_paperboy_results.shape"
   ]
  },
  {
   "cell_type": "code",
   "execution_count": 6,
   "id": "89dda723",
   "metadata": {},
   "outputs": [
    {
     "data": {
      "text/plain": [
       "url             object\n",
       "expanded_url    object\n",
       "domain          object\n",
       "status           int64\n",
       "datetime        object\n",
       "author          object\n",
       "headline        object\n",
       "text            object\n",
       "misc            object\n",
       "dtype: object"
      ]
     },
     "execution_count": 6,
     "metadata": {},
     "output_type": "execute_result"
    }
   ],
   "source": [
    "uk_paperboy_results.dtypes"
   ]
  },
  {
   "cell_type": "code",
   "execution_count": 8,
   "id": "6a674b65",
   "metadata": {},
   "outputs": [],
   "source": [
    "uk_paperboy_results['datetime'] = pd.to_datetime(uk_paperboy_results['datetime'], format='mixed')"
   ]
  },
  {
   "cell_type": "code",
   "execution_count": 10,
   "id": "d2450e8f",
   "metadata": {},
   "outputs": [
    {
     "data": {
      "text/plain": [
       "82784   2024-06-17 14:51:12.697\n",
       "82785   2024-07-18 16:09:32.605\n",
       "82786   2024-07-28 06:17:18.415\n",
       "82787   2024-07-31 13:23:35.216\n",
       "82788   2024-08-12 05:02:07.445\n",
       "Name: datetime, dtype: datetime64[ns]"
      ]
     },
     "execution_count": 10,
     "metadata": {},
     "output_type": "execute_result"
    }
   ],
   "source": [
    "uk_paperboy_results['datetime'].tail()"
   ]
  },
  {
   "cell_type": "code",
   "execution_count": 12,
   "id": "4cf65a46",
   "metadata": {},
   "outputs": [],
   "source": [
    "uk_paperboy_results.to_parquet('datasets/news/UK paperboy results/uk_paperboy_results.parquet')"
   ]
  },
  {
   "cell_type": "code",
   "execution_count": null,
   "id": "e31fbd0c",
   "metadata": {},
   "outputs": [],
   "source": []
  }
 ],
 "metadata": {
  "kernelspec": {
   "display_name": "embedding_on_the_wall",
   "language": "python",
   "name": "python3"
  },
  "language_info": {
   "codemirror_mode": {
    "name": "ipython",
    "version": 3
   },
   "file_extension": ".py",
   "mimetype": "text/x-python",
   "name": "python",
   "nbconvert_exporter": "python",
   "pygments_lexer": "ipython3",
   "version": "3.10.14"
  }
 },
 "nbformat": 4,
 "nbformat_minor": 5
}
